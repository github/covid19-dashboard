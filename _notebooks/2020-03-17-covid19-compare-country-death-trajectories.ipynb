{
 "cells": [
  {
   "cell_type": "markdown",
   "metadata": {
    "papermill": {
     "duration": 0.012581,
     "end_time": "2020-03-18T14:03:41.471053",
     "exception": false,
     "start_time": "2020-03-18T14:03:41.458472",
     "status": "completed"
    },
    "tags": []
   },
   "source": [
    "# Compare Country Trajectories - Death Rate\n",
    "> Comparing how countries death rate trajectories are similar with Italy, South Korea and Japan\n",
    "\n",
    "- comments: true\n",
    "- author: Pratap Vardhan\n",
    "- categories: [growth, compare, death, interactive]\n",
    "- image: images/covid-compare-country-death-trajectories.png\n",
    "- permalink: /compare-country-death-trajectories/"
   ]
  },
  {
   "cell_type": "code",
   "execution_count": 1,
   "metadata": {
    "papermill": {
     "duration": 0.385057,
     "end_time": "2020-03-18T14:03:41.865313",
     "exception": false,
     "start_time": "2020-03-18T14:03:41.480256",
     "status": "completed"
    },
    "tags": []
   },
   "outputs": [],
   "source": [
    "#hide\n",
    "import pandas as pd\n",
    "import altair as alt\n",
    "from IPython.display import HTML"
   ]
  },
  {
   "cell_type": "code",
   "execution_count": 2,
   "metadata": {
    "papermill": {
     "duration": 0.070328,
     "end_time": "2020-03-18T14:03:41.945237",
     "exception": false,
     "start_time": "2020-03-18T14:03:41.874909",
     "status": "completed"
    },
    "tags": []
   },
   "outputs": [],
   "source": [
    "#hide\n",
    "url = ('https://raw.githubusercontent.com/CSSEGISandData/COVID-19/master/csse_covid_19_data/'\n",
    "       'csse_covid_19_time_series/time_series_19-covid-Deaths.csv')\n",
    "df = pd.read_csv(url)\n",
    "# rename countries\n",
    "df['Country/Region'] = df['Country/Region'].replace({'Korea, South': 'South Korea'})\n",
    "dt_cols = df.columns[~df.columns.isin(['Province/State', 'Country/Region', 'Lat', 'Long'])]"
   ]
  },
  {
   "cell_type": "code",
   "execution_count": 3,
   "metadata": {
    "papermill": {
     "duration": 0.030413,
     "end_time": "2020-03-18T14:03:41.985185",
     "exception": false,
     "start_time": "2020-03-18T14:03:41.954772",
     "status": "completed"
    },
    "tags": []
   },
   "outputs": [],
   "source": [
    "#hide\n",
    "dff = (df.groupby('Country/Region')[dt_cols].sum()\n",
    "       .stack().reset_index(name='Confirmed Cases')\n",
    "       .rename(columns={'level_1': 'Date', 'Country/Region': 'Country'}))\n",
    "dff['Date'] = pd.to_datetime(dff['Date'], format='%m/%d/%y')"
   ]
  },
  {
   "cell_type": "code",
   "execution_count": 4,
   "metadata": {
    "papermill": {
     "duration": 0.025796,
     "end_time": "2020-03-18T14:03:42.020206",
     "exception": false,
     "start_time": "2020-03-18T14:03:41.994410",
     "status": "completed"
    },
    "tags": []
   },
   "outputs": [],
   "source": [
    "#hide\n",
    "MIN_CASES = 10\n",
    "LAST_DATE = dt_cols[-1]\n",
    "# sometimes last column may be empty, then go backwards\n",
    "for c in dt_cols[::-1]:\n",
    "    if not df[c].fillna(0).eq(0).all():\n",
    "        LAST_DATE = c\n",
    "        break\n",
    "countries = dff[dff['Date'].eq(LAST_DATE) & dff['Confirmed Cases'].ge(MIN_CASES) & \n",
    "        dff['Country'].ne('China')\n",
    "       ].sort_values(by='Confirmed Cases', ascending=False)\n",
    "countries = countries['Country'].values"
   ]
  },
  {
   "cell_type": "code",
   "execution_count": 5,
   "metadata": {
    "papermill": {
     "duration": 0.034811,
     "end_time": "2020-03-18T14:03:42.064343",
     "exception": false,
     "start_time": "2020-03-18T14:03:42.029532",
     "status": "completed"
    },
    "tags": []
   },
   "outputs": [],
   "source": [
    "#hide\n",
    "SINCE_CASES_NUM = 10\n",
    "COL_X = f'Days since {SINCE_CASES_NUM}th death'\n",
    "dff2 = dff[dff['Country'].isin(countries)].copy()\n",
    "days_since = (dff2.assign(F=dff2['Confirmed Cases'].ge(SINCE_CASES_NUM))\n",
    "              .set_index('Date')\n",
    "              .groupby('Country')['F'].transform('idxmax'))\n",
    "dff2[COL_X] = (dff2['Date'] - days_since.values).dt.days.values\n",
    "dff2 = dff2[dff2[COL_X].ge(0)]"
   ]
  },
  {
   "cell_type": "code",
   "execution_count": 6,
   "metadata": {
    "papermill": {
     "duration": 0.01717,
     "end_time": "2020-03-18T14:03:42.093185",
     "exception": false,
     "start_time": "2020-03-18T14:03:42.076015",
     "status": "completed"
    },
    "tags": []
   },
   "outputs": [],
   "source": [
    "#hide\n",
    "def get_country_colors(x):\n",
    "    mapping = {\n",
    "        'Italy': 'black',\n",
    "        'Iran': '#A1BA59',\n",
    "        'South Korea': '#E45756',\n",
    "        'Spain': '#F58518',\n",
    "        'Germany': '#9D755D',\n",
    "        'France': '#F58518',\n",
    "        'US': '#2495D3',\n",
    "        'Switzerland': '#9D755D',\n",
    "        'Norway': '#C1B7AD',\n",
    "        'United Kingdom': '#2495D3',\n",
    "        'Netherlands': '#C1B7AD',\n",
    "        'Sweden': '#C1B7AD',\n",
    "        'Belgium': '#C1B7AD',\n",
    "        'Denmark': '#C1B7AD',\n",
    "        'Austria': '#C1B7AD',\n",
    "        'Japan': '#9467bd'}\n",
    "    return mapping.get(x, '#C1B7AD')"
   ]
  },
  {
   "cell_type": "code",
   "execution_count": 7,
   "metadata": {
    "papermill": {
     "duration": 0.024205,
     "end_time": "2020-03-18T14:03:42.127040",
     "exception": false,
     "start_time": "2020-03-18T14:03:42.102835",
     "status": "completed"
    },
    "tags": []
   },
   "outputs": [],
   "source": [
    "#hide_input\n",
    "baseline_countries = ['Italy', 'South Korea', 'Japan']\n",
    "max_date = dff2['Date'].max()\n",
    "color_domain = list(dff2['Country'].unique())\n",
    "color_range = list(map(get_country_colors, color_domain))\n",
    "\n",
    "def make_since_chart(highlight_countries=[], baseline_countries=baseline_countries):\n",
    "    selection = alt.selection_multi(fields=['Country'], bind='legend', \n",
    "                                    init=[{'Country': x} for x in highlight_countries + baseline_countries])\n",
    "\n",
    "    base = alt.Chart(dff2, width=550).encode(\n",
    "        x=f'{COL_X}:Q',\n",
    "        y=alt.Y('Confirmed Cases:Q', scale=alt.Scale(type='log'), axis=alt.Axis(title='Cumulative Deaths')),\n",
    "        color=alt.Color('Country:N', scale=alt.Scale(domain=color_domain, range=color_range)),\n",
    "        tooltip=list(dff2),\n",
    "        opacity=alt.condition(selection, alt.value(1), alt.value(0.05))\n",
    "    )\n",
    "    max_day = dff2[COL_X].max()\n",
    "    ref = pd.DataFrame([[x, SINCE_CASES_NUM*1.33**x] for x in range(max_day+1)], columns=[COL_X, 'Confirmed Cases'])\n",
    "    base_ref = alt.Chart(ref).encode(x=f'{COL_X}:Q', y='Confirmed Cases:Q')\n",
    "    return (\n",
    "        base_ref.mark_line(color='black', opacity=.5, strokeDash=[3,3]) +\n",
    "        base_ref.transform_filter(\n",
    "            alt.datum[COL_X] >= max_day\n",
    "        ).mark_text(dy=-6, align='right', fontSize=10, text='33% Daily Growth') +\n",
    "        base.mark_line(point=True).add_selection(selection) + \n",
    "        base.transform_filter(\n",
    "            alt.datum['Date'] >= int(max_date.timestamp() * 1000)\n",
    "        ).mark_text(dy=-8, align='right', fontWeight='bold').encode(text='Country:N')\n",
    "    ).properties(\n",
    "        title=f\"Compare {', '.join(highlight_countries)} death trajectory with {', '.join(baseline_countries)}\"\n",
    "    )"
   ]
  },
  {
   "cell_type": "markdown",
   "metadata": {
    "papermill": {
     "duration": 0.008178,
     "end_time": "2020-03-18T14:03:42.143253",
     "exception": false,
     "start_time": "2020-03-18T14:03:42.135075",
     "status": "completed"
    },
    "tags": []
   },
   "source": [
    "## Learning from Italy, South Korea & Japan"
   ]
  },
  {
   "cell_type": "markdown",
   "metadata": {
    "papermill": {
     "duration": 0.008663,
     "end_time": "2020-03-18T14:03:42.160388",
     "exception": false,
     "start_time": "2020-03-18T14:03:42.151725",
     "status": "completed"
    },
    "tags": []
   },
   "source": [
    "Italy, South Korea & Japan are three countries which show different growth rates and how it evolved over time. \n",
    "\n",
    "**South Korea** and **Japan** have lower growth rate since thier 10 deaths. **Italy** has been grow close to 33% till 3 weeks since it's 10 deaths.\n",
    "\n",
    "Where does your Country stand today?\n",
    "\n",
    "Click (Shift+ for multiple) on Countries legend to filter the visualization."
   ]
  },
  {
   "cell_type": "code",
   "execution_count": 8,
   "metadata": {},
   "outputs": [
    {
     "data": {
      "text/html": [
       "<small class=\"float-right\">Last Updated on March, 17 2020</small>"
      ],
      "text/plain": [
       "<IPython.core.display.HTML object>"
      ]
     },
     "execution_count": 8,
     "metadata": {},
     "output_type": "execute_result"
    }
   ],
   "source": [
    "#hide_input\n",
    "HTML(f'<small class=\"float-right\">Last Updated on {pd.to_datetime(LAST_DATE).strftime(\"%B, %d %Y\")}</small>')"
   ]
  },
  {
   "cell_type": "code",
   "execution_count": 9,
   "metadata": {
    "papermill": {
     "duration": 0.129089,
     "end_time": "2020-03-18T14:03:42.297656",
     "exception": false,
     "start_time": "2020-03-18T14:03:42.168567",
     "status": "completed"
    },
    "tags": []
   },
   "outputs": [
    {
     "data": {
      "text/html": [
       "\n",
       "<div id=\"altair-viz-90b079021f3c4a1890545538b202ed18\"></div>\n",
       "<script type=\"text/javascript\">\n",
       "  (function(spec, embedOpt){\n",
       "    const outputDiv = document.getElementById(\"altair-viz-90b079021f3c4a1890545538b202ed18\");\n",
       "    const paths = {\n",
       "      \"vega\": \"https://cdn.jsdelivr.net/npm//vega@5?noext\",\n",
       "      \"vega-lib\": \"https://cdn.jsdelivr.net/npm//vega-lib?noext\",\n",
       "      \"vega-lite\": \"https://cdn.jsdelivr.net/npm//vega-lite@4.0.2?noext\",\n",
       "      \"vega-embed\": \"https://cdn.jsdelivr.net/npm//vega-embed@6?noext\",\n",
       "    };\n",
       "\n",
       "    function loadScript(lib) {\n",
       "      return new Promise(function(resolve, reject) {\n",
       "        var s = document.createElement('script');\n",
       "        s.src = paths[lib];\n",
       "        s.async = true;\n",
       "        s.onload = () => resolve(paths[lib]);\n",
       "        s.onerror = () => reject(`Error loading script: ${paths[lib]}`);\n",
       "        document.getElementsByTagName(\"head\")[0].appendChild(s);\n",
       "      });\n",
       "    }\n",
       "\n",
       "    function showError(err) {\n",
       "      outputDiv.innerHTML = `<div class=\"error\" style=\"color:red;\">${err}</div>`;\n",
       "      throw err;\n",
       "    }\n",
       "\n",
       "    function displayChart(vegaEmbed) {\n",
       "      vegaEmbed(outputDiv, spec, embedOpt)\n",
       "        .catch(err => showError(`Javascript Error: ${err.message}<br>This usually means there's a typo in your chart specification. See the javascript console for the full traceback.`));\n",
       "    }\n",
       "\n",
       "    if(typeof define === \"function\" && define.amd) {\n",
       "      requirejs.config({paths});\n",
       "      require([\"vega-embed\"], displayChart, err => showError(`Error loading script: ${err.message}`));\n",
       "    } else if (typeof vegaEmbed === \"function\") {\n",
       "      displayChart(vegaEmbed);\n",
       "    } else {\n",
       "      loadScript(\"vega\")\n",
       "        .then(() => loadScript(\"vega-lite\"))\n",
       "        .then(() => loadScript(\"vega-embed\"))\n",
       "        .catch(showError)\n",
       "        .then(() => displayChart(vegaEmbed));\n",
       "    }\n",
       "  })({\"config\": {\"view\": {\"continuousWidth\": 400, \"continuousHeight\": 300}}, \"layer\": [{\"mark\": {\"type\": \"line\", \"color\": \"black\", \"opacity\": 0.5, \"strokeDash\": [3, 3]}, \"encoding\": {\"x\": {\"type\": \"quantitative\", \"field\": \"Days since 10th death\"}, \"y\": {\"type\": \"quantitative\", \"field\": \"Confirmed Cases\"}}}, {\"mark\": {\"type\": \"text\", \"align\": \"right\", \"dy\": -6, \"fontSize\": 10, \"text\": \"33% Daily Growth\"}, \"encoding\": {\"x\": {\"type\": \"quantitative\", \"field\": \"Days since 10th death\"}, \"y\": {\"type\": \"quantitative\", \"field\": \"Confirmed Cases\"}}, \"transform\": [{\"filter\": \"(datum['Days since 10th death'] >= 22)\"}]}, {\"data\": {\"name\": \"data-04cd5d3df24cb98c21020b2823a550cc\"}, \"mark\": {\"type\": \"line\", \"point\": true}, \"encoding\": {\"color\": {\"type\": \"nominal\", \"field\": \"Country\", \"scale\": {\"domain\": [\"Belgium\", \"France\", \"Germany\", \"Iran\", \"Iraq\", \"Italy\", \"Japan\", \"Netherlands\", \"Philippines\", \"South Korea\", \"Spain\", \"Switzerland\", \"US\", \"United Kingdom\"], \"range\": [\"#C1B7AD\", \"#F58518\", \"#9D755D\", \"#A1BA59\", \"#C1B7AD\", \"black\", \"#9467bd\", \"#C1B7AD\", \"#C1B7AD\", \"#E45756\", \"#F58518\", \"#9D755D\", \"#2495D3\", \"#2495D3\"]}}, \"opacity\": {\"condition\": {\"value\": 1, \"selection\": \"selector001\"}, \"value\": 0.05}, \"tooltip\": [{\"type\": \"nominal\", \"field\": \"Country\"}, {\"type\": \"temporal\", \"field\": \"Date\"}, {\"type\": \"quantitative\", \"field\": \"Confirmed Cases\"}, {\"type\": \"quantitative\", \"field\": \"Days since 10th death\"}], \"x\": {\"type\": \"quantitative\", \"field\": \"Days since 10th death\"}, \"y\": {\"type\": \"quantitative\", \"axis\": {\"title\": \"Cumulative Deaths\"}, \"field\": \"Confirmed Cases\", \"scale\": {\"type\": \"log\"}}}, \"selection\": {\"selector001\": {\"type\": \"multi\", \"fields\": [\"Country\"], \"bind\": \"legend\", \"init\": [{\"Country\": \"Italy\"}, {\"Country\": \"South Korea\"}, {\"Country\": \"Japan\"}]}}, \"width\": 550}, {\"data\": {\"name\": \"data-04cd5d3df24cb98c21020b2823a550cc\"}, \"mark\": {\"type\": \"text\", \"align\": \"right\", \"dy\": -8, \"fontWeight\": \"bold\"}, \"encoding\": {\"color\": {\"type\": \"nominal\", \"field\": \"Country\", \"scale\": {\"domain\": [\"Belgium\", \"France\", \"Germany\", \"Iran\", \"Iraq\", \"Italy\", \"Japan\", \"Netherlands\", \"Philippines\", \"South Korea\", \"Spain\", \"Switzerland\", \"US\", \"United Kingdom\"], \"range\": [\"#C1B7AD\", \"#F58518\", \"#9D755D\", \"#A1BA59\", \"#C1B7AD\", \"black\", \"#9467bd\", \"#C1B7AD\", \"#C1B7AD\", \"#E45756\", \"#F58518\", \"#9D755D\", \"#2495D3\", \"#2495D3\"]}}, \"opacity\": {\"condition\": {\"value\": 1, \"selection\": \"selector001\"}, \"value\": 0.05}, \"text\": {\"type\": \"nominal\", \"field\": \"Country\"}, \"tooltip\": [{\"type\": \"nominal\", \"field\": \"Country\"}, {\"type\": \"temporal\", \"field\": \"Date\"}, {\"type\": \"quantitative\", \"field\": \"Confirmed Cases\"}, {\"type\": \"quantitative\", \"field\": \"Days since 10th death\"}], \"x\": {\"type\": \"quantitative\", \"field\": \"Days since 10th death\"}, \"y\": {\"type\": \"quantitative\", \"axis\": {\"title\": \"Cumulative Deaths\"}, \"field\": \"Confirmed Cases\", \"scale\": {\"type\": \"log\"}}}, \"transform\": [{\"filter\": \"(datum['Date'] >= 1584403200000)\"}], \"width\": 550}], \"data\": {\"name\": \"data-2d24e28df5dc7eb169e5bf67ded7e642\"}, \"title\": \"Compare  death trajectory with Italy, South Korea, Japan\", \"$schema\": \"https://vega.github.io/schema/vega-lite/v4.0.2.json\", \"datasets\": {\"data-2d24e28df5dc7eb169e5bf67ded7e642\": [{\"Days since 10th death\": 0, \"Confirmed Cases\": 10.0}, {\"Days since 10th death\": 1, \"Confirmed Cases\": 13.3}, {\"Days since 10th death\": 2, \"Confirmed Cases\": 17.689}, {\"Days since 10th death\": 3, \"Confirmed Cases\": 23.526370000000007}, {\"Days since 10th death\": 4, \"Confirmed Cases\": 31.290072100000007}, {\"Days since 10th death\": 5, \"Confirmed Cases\": 41.61579589300001}, {\"Days since 10th death\": 6, \"Confirmed Cases\": 55.34900853769002}, {\"Days since 10th death\": 7, \"Confirmed Cases\": 73.61418135512773}, {\"Days since 10th death\": 8, \"Confirmed Cases\": 97.90686120231989}, {\"Days since 10th death\": 9, \"Confirmed Cases\": 130.21612539908546}, {\"Days since 10th death\": 10, \"Confirmed Cases\": 173.18744678078366}, {\"Days since 10th death\": 11, \"Confirmed Cases\": 230.3393042184423}, {\"Days since 10th death\": 12, \"Confirmed Cases\": 306.35127461052826}, {\"Days since 10th death\": 13, \"Confirmed Cases\": 407.4471952320026}, {\"Days since 10th death\": 14, \"Confirmed Cases\": 541.9047696585635}, {\"Days since 10th death\": 15, \"Confirmed Cases\": 720.7333436458895}, {\"Days since 10th death\": 16, \"Confirmed Cases\": 958.575347049033}, {\"Days since 10th death\": 17, \"Confirmed Cases\": 1274.905211575214}, {\"Days since 10th death\": 18, \"Confirmed Cases\": 1695.6239313950348}, {\"Days since 10th death\": 19, \"Confirmed Cases\": 2255.179828755396}, {\"Days since 10th death\": 20, \"Confirmed Cases\": 2999.3891722446774}, {\"Days since 10th death\": 21, \"Confirmed Cases\": 3989.187599085421}, {\"Days since 10th death\": 22, \"Confirmed Cases\": 5305.61950678361}], \"data-04cd5d3df24cb98c21020b2823a550cc\": [{\"Country\": \"Belgium\", \"Date\": \"2020-03-17T00:00:00\", \"Confirmed Cases\": 10, \"Days since 10th death\": 0}, {\"Country\": \"France\", \"Date\": \"2020-03-07T00:00:00\", \"Confirmed Cases\": 11, \"Days since 10th death\": 0}, {\"Country\": \"France\", \"Date\": \"2020-03-08T00:00:00\", \"Confirmed Cases\": 19, \"Days since 10th death\": 1}, {\"Country\": \"France\", \"Date\": \"2020-03-09T00:00:00\", \"Confirmed Cases\": 19, \"Days since 10th death\": 2}, {\"Country\": \"France\", \"Date\": \"2020-03-10T00:00:00\", \"Confirmed Cases\": 33, \"Days since 10th death\": 3}, {\"Country\": \"France\", \"Date\": \"2020-03-11T00:00:00\", \"Confirmed Cases\": 48, \"Days since 10th death\": 4}, {\"Country\": \"France\", \"Date\": \"2020-03-12T00:00:00\", \"Confirmed Cases\": 48, \"Days since 10th death\": 5}, {\"Country\": \"France\", \"Date\": \"2020-03-13T00:00:00\", \"Confirmed Cases\": 79, \"Days since 10th death\": 6}, {\"Country\": \"France\", \"Date\": \"2020-03-14T00:00:00\", \"Confirmed Cases\": 91, \"Days since 10th death\": 7}, {\"Country\": \"France\", \"Date\": \"2020-03-15T00:00:00\", \"Confirmed Cases\": 91, \"Days since 10th death\": 8}, {\"Country\": \"France\", \"Date\": \"2020-03-16T00:00:00\", \"Confirmed Cases\": 148, \"Days since 10th death\": 9}, {\"Country\": \"France\", \"Date\": \"2020-03-17T00:00:00\", \"Confirmed Cases\": 148, \"Days since 10th death\": 10}, {\"Country\": \"Germany\", \"Date\": \"2020-03-15T00:00:00\", \"Confirmed Cases\": 11, \"Days since 10th death\": 0}, {\"Country\": \"Germany\", \"Date\": \"2020-03-16T00:00:00\", \"Confirmed Cases\": 17, \"Days since 10th death\": 1}, {\"Country\": \"Germany\", \"Date\": \"2020-03-17T00:00:00\", \"Confirmed Cases\": 24, \"Days since 10th death\": 2}, {\"Country\": \"Iran\", \"Date\": \"2020-02-24T00:00:00\", \"Confirmed Cases\": 12, \"Days since 10th death\": 0}, {\"Country\": \"Iran\", \"Date\": \"2020-02-25T00:00:00\", \"Confirmed Cases\": 16, \"Days since 10th death\": 1}, {\"Country\": \"Iran\", \"Date\": \"2020-02-26T00:00:00\", \"Confirmed Cases\": 19, \"Days since 10th death\": 2}, {\"Country\": \"Iran\", \"Date\": \"2020-02-27T00:00:00\", \"Confirmed Cases\": 26, \"Days since 10th death\": 3}, {\"Country\": \"Iran\", \"Date\": \"2020-02-28T00:00:00\", \"Confirmed Cases\": 34, \"Days since 10th death\": 4}, {\"Country\": \"Iran\", \"Date\": \"2020-02-29T00:00:00\", \"Confirmed Cases\": 43, \"Days since 10th death\": 5}, {\"Country\": \"Iran\", \"Date\": \"2020-03-01T00:00:00\", \"Confirmed Cases\": 54, \"Days since 10th death\": 6}, {\"Country\": \"Iran\", \"Date\": \"2020-03-02T00:00:00\", \"Confirmed Cases\": 66, \"Days since 10th death\": 7}, {\"Country\": \"Iran\", \"Date\": \"2020-03-03T00:00:00\", \"Confirmed Cases\": 77, \"Days since 10th death\": 8}, {\"Country\": \"Iran\", \"Date\": \"2020-03-04T00:00:00\", \"Confirmed Cases\": 92, \"Days since 10th death\": 9}, {\"Country\": \"Iran\", \"Date\": \"2020-03-05T00:00:00\", \"Confirmed Cases\": 107, \"Days since 10th death\": 10}, {\"Country\": \"Iran\", \"Date\": \"2020-03-06T00:00:00\", \"Confirmed Cases\": 124, \"Days since 10th death\": 11}, {\"Country\": \"Iran\", \"Date\": \"2020-03-07T00:00:00\", \"Confirmed Cases\": 145, \"Days since 10th death\": 12}, {\"Country\": \"Iran\", \"Date\": \"2020-03-08T00:00:00\", \"Confirmed Cases\": 194, \"Days since 10th death\": 13}, {\"Country\": \"Iran\", \"Date\": \"2020-03-09T00:00:00\", \"Confirmed Cases\": 237, \"Days since 10th death\": 14}, {\"Country\": \"Iran\", \"Date\": \"2020-03-10T00:00:00\", \"Confirmed Cases\": 291, \"Days since 10th death\": 15}, {\"Country\": \"Iran\", \"Date\": \"2020-03-11T00:00:00\", \"Confirmed Cases\": 354, \"Days since 10th death\": 16}, {\"Country\": \"Iran\", \"Date\": \"2020-03-12T00:00:00\", \"Confirmed Cases\": 429, \"Days since 10th death\": 17}, {\"Country\": \"Iran\", \"Date\": \"2020-03-13T00:00:00\", \"Confirmed Cases\": 514, \"Days since 10th death\": 18}, {\"Country\": \"Iran\", \"Date\": \"2020-03-14T00:00:00\", \"Confirmed Cases\": 611, \"Days since 10th death\": 19}, {\"Country\": \"Iran\", \"Date\": \"2020-03-15T00:00:00\", \"Confirmed Cases\": 724, \"Days since 10th death\": 20}, {\"Country\": \"Iran\", \"Date\": \"2020-03-16T00:00:00\", \"Confirmed Cases\": 853, \"Days since 10th death\": 21}, {\"Country\": \"Iran\", \"Date\": \"2020-03-17T00:00:00\", \"Confirmed Cases\": 988, \"Days since 10th death\": 22}, {\"Country\": \"Iraq\", \"Date\": \"2020-03-14T00:00:00\", \"Confirmed Cases\": 10, \"Days since 10th death\": 0}, {\"Country\": \"Iraq\", \"Date\": \"2020-03-15T00:00:00\", \"Confirmed Cases\": 10, \"Days since 10th death\": 1}, {\"Country\": \"Iraq\", \"Date\": \"2020-03-16T00:00:00\", \"Confirmed Cases\": 10, \"Days since 10th death\": 2}, {\"Country\": \"Iraq\", \"Date\": \"2020-03-17T00:00:00\", \"Confirmed Cases\": 11, \"Days since 10th death\": 3}, {\"Country\": \"Italy\", \"Date\": \"2020-02-25T00:00:00\", \"Confirmed Cases\": 10, \"Days since 10th death\": 0}, {\"Country\": \"Italy\", \"Date\": \"2020-02-26T00:00:00\", \"Confirmed Cases\": 12, \"Days since 10th death\": 1}, {\"Country\": \"Italy\", \"Date\": \"2020-02-27T00:00:00\", \"Confirmed Cases\": 17, \"Days since 10th death\": 2}, {\"Country\": \"Italy\", \"Date\": \"2020-02-28T00:00:00\", \"Confirmed Cases\": 21, \"Days since 10th death\": 3}, {\"Country\": \"Italy\", \"Date\": \"2020-02-29T00:00:00\", \"Confirmed Cases\": 29, \"Days since 10th death\": 4}, {\"Country\": \"Italy\", \"Date\": \"2020-03-01T00:00:00\", \"Confirmed Cases\": 34, \"Days since 10th death\": 5}, {\"Country\": \"Italy\", \"Date\": \"2020-03-02T00:00:00\", \"Confirmed Cases\": 52, \"Days since 10th death\": 6}, {\"Country\": \"Italy\", \"Date\": \"2020-03-03T00:00:00\", \"Confirmed Cases\": 79, \"Days since 10th death\": 7}, {\"Country\": \"Italy\", \"Date\": \"2020-03-04T00:00:00\", \"Confirmed Cases\": 107, \"Days since 10th death\": 8}, {\"Country\": \"Italy\", \"Date\": \"2020-03-05T00:00:00\", \"Confirmed Cases\": 148, \"Days since 10th death\": 9}, {\"Country\": \"Italy\", \"Date\": \"2020-03-06T00:00:00\", \"Confirmed Cases\": 197, \"Days since 10th death\": 10}, {\"Country\": \"Italy\", \"Date\": \"2020-03-07T00:00:00\", \"Confirmed Cases\": 233, \"Days since 10th death\": 11}, {\"Country\": \"Italy\", \"Date\": \"2020-03-08T00:00:00\", \"Confirmed Cases\": 366, \"Days since 10th death\": 12}, {\"Country\": \"Italy\", \"Date\": \"2020-03-09T00:00:00\", \"Confirmed Cases\": 463, \"Days since 10th death\": 13}, {\"Country\": \"Italy\", \"Date\": \"2020-03-10T00:00:00\", \"Confirmed Cases\": 631, \"Days since 10th death\": 14}, {\"Country\": \"Italy\", \"Date\": \"2020-03-11T00:00:00\", \"Confirmed Cases\": 827, \"Days since 10th death\": 15}, {\"Country\": \"Italy\", \"Date\": \"2020-03-12T00:00:00\", \"Confirmed Cases\": 827, \"Days since 10th death\": 16}, {\"Country\": \"Italy\", \"Date\": \"2020-03-13T00:00:00\", \"Confirmed Cases\": 1266, \"Days since 10th death\": 17}, {\"Country\": \"Italy\", \"Date\": \"2020-03-14T00:00:00\", \"Confirmed Cases\": 1441, \"Days since 10th death\": 18}, {\"Country\": \"Italy\", \"Date\": \"2020-03-15T00:00:00\", \"Confirmed Cases\": 1809, \"Days since 10th death\": 19}, {\"Country\": \"Italy\", \"Date\": \"2020-03-16T00:00:00\", \"Confirmed Cases\": 2158, \"Days since 10th death\": 20}, {\"Country\": \"Italy\", \"Date\": \"2020-03-17T00:00:00\", \"Confirmed Cases\": 2503, \"Days since 10th death\": 21}, {\"Country\": \"Japan\", \"Date\": \"2020-03-09T00:00:00\", \"Confirmed Cases\": 10, \"Days since 10th death\": 0}, {\"Country\": \"Japan\", \"Date\": \"2020-03-10T00:00:00\", \"Confirmed Cases\": 10, \"Days since 10th death\": 1}, {\"Country\": \"Japan\", \"Date\": \"2020-03-11T00:00:00\", \"Confirmed Cases\": 15, \"Days since 10th death\": 2}, {\"Country\": \"Japan\", \"Date\": \"2020-03-12T00:00:00\", \"Confirmed Cases\": 16, \"Days since 10th death\": 3}, {\"Country\": \"Japan\", \"Date\": \"2020-03-13T00:00:00\", \"Confirmed Cases\": 19, \"Days since 10th death\": 4}, {\"Country\": \"Japan\", \"Date\": \"2020-03-14T00:00:00\", \"Confirmed Cases\": 22, \"Days since 10th death\": 5}, {\"Country\": \"Japan\", \"Date\": \"2020-03-15T00:00:00\", \"Confirmed Cases\": 22, \"Days since 10th death\": 6}, {\"Country\": \"Japan\", \"Date\": \"2020-03-16T00:00:00\", \"Confirmed Cases\": 27, \"Days since 10th death\": 7}, {\"Country\": \"Japan\", \"Date\": \"2020-03-17T00:00:00\", \"Confirmed Cases\": 29, \"Days since 10th death\": 8}, {\"Country\": \"Netherlands\", \"Date\": \"2020-03-13T00:00:00\", \"Confirmed Cases\": 10, \"Days since 10th death\": 0}, {\"Country\": \"Netherlands\", \"Date\": \"2020-03-14T00:00:00\", \"Confirmed Cases\": 12, \"Days since 10th death\": 1}, {\"Country\": \"Netherlands\", \"Date\": \"2020-03-15T00:00:00\", \"Confirmed Cases\": 20, \"Days since 10th death\": 2}, {\"Country\": \"Netherlands\", \"Date\": \"2020-03-16T00:00:00\", \"Confirmed Cases\": 24, \"Days since 10th death\": 3}, {\"Country\": \"Netherlands\", \"Date\": \"2020-03-17T00:00:00\", \"Confirmed Cases\": 43, \"Days since 10th death\": 4}, {\"Country\": \"Philippines\", \"Date\": \"2020-03-15T00:00:00\", \"Confirmed Cases\": 11, \"Days since 10th death\": 0}, {\"Country\": \"Philippines\", \"Date\": \"2020-03-16T00:00:00\", \"Confirmed Cases\": 12, \"Days since 10th death\": 1}, {\"Country\": \"Philippines\", \"Date\": \"2020-03-17T00:00:00\", \"Confirmed Cases\": 12, \"Days since 10th death\": 2}, {\"Country\": \"South Korea\", \"Date\": \"2020-02-25T00:00:00\", \"Confirmed Cases\": 10, \"Days since 10th death\": 0}, {\"Country\": \"South Korea\", \"Date\": \"2020-02-26T00:00:00\", \"Confirmed Cases\": 12, \"Days since 10th death\": 1}, {\"Country\": \"South Korea\", \"Date\": \"2020-02-27T00:00:00\", \"Confirmed Cases\": 13, \"Days since 10th death\": 2}, {\"Country\": \"South Korea\", \"Date\": \"2020-02-28T00:00:00\", \"Confirmed Cases\": 13, \"Days since 10th death\": 3}, {\"Country\": \"South Korea\", \"Date\": \"2020-02-29T00:00:00\", \"Confirmed Cases\": 16, \"Days since 10th death\": 4}, {\"Country\": \"South Korea\", \"Date\": \"2020-03-01T00:00:00\", \"Confirmed Cases\": 17, \"Days since 10th death\": 5}, {\"Country\": \"South Korea\", \"Date\": \"2020-03-02T00:00:00\", \"Confirmed Cases\": 28, \"Days since 10th death\": 6}, {\"Country\": \"South Korea\", \"Date\": \"2020-03-03T00:00:00\", \"Confirmed Cases\": 28, \"Days since 10th death\": 7}, {\"Country\": \"South Korea\", \"Date\": \"2020-03-04T00:00:00\", \"Confirmed Cases\": 35, \"Days since 10th death\": 8}, {\"Country\": \"South Korea\", \"Date\": \"2020-03-05T00:00:00\", \"Confirmed Cases\": 35, \"Days since 10th death\": 9}, {\"Country\": \"South Korea\", \"Date\": \"2020-03-06T00:00:00\", \"Confirmed Cases\": 42, \"Days since 10th death\": 10}, {\"Country\": \"South Korea\", \"Date\": \"2020-03-07T00:00:00\", \"Confirmed Cases\": 44, \"Days since 10th death\": 11}, {\"Country\": \"South Korea\", \"Date\": \"2020-03-08T00:00:00\", \"Confirmed Cases\": 50, \"Days since 10th death\": 12}, {\"Country\": \"South Korea\", \"Date\": \"2020-03-09T00:00:00\", \"Confirmed Cases\": 53, \"Days since 10th death\": 13}, {\"Country\": \"South Korea\", \"Date\": \"2020-03-10T00:00:00\", \"Confirmed Cases\": 54, \"Days since 10th death\": 14}, {\"Country\": \"South Korea\", \"Date\": \"2020-03-11T00:00:00\", \"Confirmed Cases\": 60, \"Days since 10th death\": 15}, {\"Country\": \"South Korea\", \"Date\": \"2020-03-12T00:00:00\", \"Confirmed Cases\": 66, \"Days since 10th death\": 16}, {\"Country\": \"South Korea\", \"Date\": \"2020-03-13T00:00:00\", \"Confirmed Cases\": 66, \"Days since 10th death\": 17}, {\"Country\": \"South Korea\", \"Date\": \"2020-03-14T00:00:00\", \"Confirmed Cases\": 72, \"Days since 10th death\": 18}, {\"Country\": \"South Korea\", \"Date\": \"2020-03-15T00:00:00\", \"Confirmed Cases\": 75, \"Days since 10th death\": 19}, {\"Country\": \"South Korea\", \"Date\": \"2020-03-16T00:00:00\", \"Confirmed Cases\": 75, \"Days since 10th death\": 20}, {\"Country\": \"South Korea\", \"Date\": \"2020-03-17T00:00:00\", \"Confirmed Cases\": 81, \"Days since 10th death\": 21}, {\"Country\": \"Spain\", \"Date\": \"2020-03-07T00:00:00\", \"Confirmed Cases\": 10, \"Days since 10th death\": 0}, {\"Country\": \"Spain\", \"Date\": \"2020-03-08T00:00:00\", \"Confirmed Cases\": 17, \"Days since 10th death\": 1}, {\"Country\": \"Spain\", \"Date\": \"2020-03-09T00:00:00\", \"Confirmed Cases\": 28, \"Days since 10th death\": 2}, {\"Country\": \"Spain\", \"Date\": \"2020-03-10T00:00:00\", \"Confirmed Cases\": 35, \"Days since 10th death\": 3}, {\"Country\": \"Spain\", \"Date\": \"2020-03-11T00:00:00\", \"Confirmed Cases\": 54, \"Days since 10th death\": 4}, {\"Country\": \"Spain\", \"Date\": \"2020-03-12T00:00:00\", \"Confirmed Cases\": 55, \"Days since 10th death\": 5}, {\"Country\": \"Spain\", \"Date\": \"2020-03-13T00:00:00\", \"Confirmed Cases\": 133, \"Days since 10th death\": 6}, {\"Country\": \"Spain\", \"Date\": \"2020-03-14T00:00:00\", \"Confirmed Cases\": 195, \"Days since 10th death\": 7}, {\"Country\": \"Spain\", \"Date\": \"2020-03-15T00:00:00\", \"Confirmed Cases\": 289, \"Days since 10th death\": 8}, {\"Country\": \"Spain\", \"Date\": \"2020-03-16T00:00:00\", \"Confirmed Cases\": 342, \"Days since 10th death\": 9}, {\"Country\": \"Spain\", \"Date\": \"2020-03-17T00:00:00\", \"Confirmed Cases\": 533, \"Days since 10th death\": 10}, {\"Country\": \"Switzerland\", \"Date\": \"2020-03-13T00:00:00\", \"Confirmed Cases\": 11, \"Days since 10th death\": 0}, {\"Country\": \"Switzerland\", \"Date\": \"2020-03-14T00:00:00\", \"Confirmed Cases\": 13, \"Days since 10th death\": 1}, {\"Country\": \"Switzerland\", \"Date\": \"2020-03-15T00:00:00\", \"Confirmed Cases\": 14, \"Days since 10th death\": 2}, {\"Country\": \"Switzerland\", \"Date\": \"2020-03-16T00:00:00\", \"Confirmed Cases\": 14, \"Days since 10th death\": 3}, {\"Country\": \"Switzerland\", \"Date\": \"2020-03-17T00:00:00\", \"Confirmed Cases\": 27, \"Days since 10th death\": 4}, {\"Country\": \"US\", \"Date\": \"2020-03-04T00:00:00\", \"Confirmed Cases\": 11, \"Days since 10th death\": 0}, {\"Country\": \"US\", \"Date\": \"2020-03-05T00:00:00\", \"Confirmed Cases\": 12, \"Days since 10th death\": 1}, {\"Country\": \"US\", \"Date\": \"2020-03-06T00:00:00\", \"Confirmed Cases\": 14, \"Days since 10th death\": 2}, {\"Country\": \"US\", \"Date\": \"2020-03-07T00:00:00\", \"Confirmed Cases\": 17, \"Days since 10th death\": 3}, {\"Country\": \"US\", \"Date\": \"2020-03-08T00:00:00\", \"Confirmed Cases\": 21, \"Days since 10th death\": 4}, {\"Country\": \"US\", \"Date\": \"2020-03-09T00:00:00\", \"Confirmed Cases\": 22, \"Days since 10th death\": 5}, {\"Country\": \"US\", \"Date\": \"2020-03-10T00:00:00\", \"Confirmed Cases\": 28, \"Days since 10th death\": 6}, {\"Country\": \"US\", \"Date\": \"2020-03-11T00:00:00\", \"Confirmed Cases\": 36, \"Days since 10th death\": 7}, {\"Country\": \"US\", \"Date\": \"2020-03-12T00:00:00\", \"Confirmed Cases\": 40, \"Days since 10th death\": 8}, {\"Country\": \"US\", \"Date\": \"2020-03-13T00:00:00\", \"Confirmed Cases\": 47, \"Days since 10th death\": 9}, {\"Country\": \"US\", \"Date\": \"2020-03-14T00:00:00\", \"Confirmed Cases\": 54, \"Days since 10th death\": 10}, {\"Country\": \"US\", \"Date\": \"2020-03-15T00:00:00\", \"Confirmed Cases\": 63, \"Days since 10th death\": 11}, {\"Country\": \"US\", \"Date\": \"2020-03-16T00:00:00\", \"Confirmed Cases\": 85, \"Days since 10th death\": 12}, {\"Country\": \"US\", \"Date\": \"2020-03-17T00:00:00\", \"Confirmed Cases\": 108, \"Days since 10th death\": 13}, {\"Country\": \"United Kingdom\", \"Date\": \"2020-03-14T00:00:00\", \"Confirmed Cases\": 21, \"Days since 10th death\": 0}, {\"Country\": \"United Kingdom\", \"Date\": \"2020-03-15T00:00:00\", \"Confirmed Cases\": 21, \"Days since 10th death\": 1}, {\"Country\": \"United Kingdom\", \"Date\": \"2020-03-16T00:00:00\", \"Confirmed Cases\": 56, \"Days since 10th death\": 2}, {\"Country\": \"United Kingdom\", \"Date\": \"2020-03-17T00:00:00\", \"Confirmed Cases\": 56, \"Days since 10th death\": 3}]}}, {\"mode\": \"vega-lite\"});\n",
       "</script>"
      ],
      "text/plain": [
       "alt.LayerChart(...)"
      ]
     },
     "execution_count": 9,
     "metadata": {},
     "output_type": "execute_result"
    }
   ],
   "source": [
    "#hide_input\n",
    "chart = make_since_chart()\n",
    "chart"
   ]
  },
  {
   "cell_type": "code",
   "execution_count": 10,
   "metadata": {
    "papermill": {
     "duration": 0.097582,
     "end_time": "2020-03-18T14:03:42.410244",
     "exception": false,
     "start_time": "2020-03-18T14:03:42.312662",
     "status": "completed"
    },
    "tags": []
   },
   "outputs": [
    {
     "data": {
      "text/html": [
       "\n",
       "<div id=\"altair-viz-8217ee5af8304524b5db70256e42ce6d\"></div>\n",
       "<script type=\"text/javascript\">\n",
       "  (function(spec, embedOpt){\n",
       "    const outputDiv = document.getElementById(\"altair-viz-8217ee5af8304524b5db70256e42ce6d\");\n",
       "    const paths = {\n",
       "      \"vega\": \"https://cdn.jsdelivr.net/npm//vega@5?noext\",\n",
       "      \"vega-lib\": \"https://cdn.jsdelivr.net/npm//vega-lib?noext\",\n",
       "      \"vega-lite\": \"https://cdn.jsdelivr.net/npm//vega-lite@4.0.2?noext\",\n",
       "      \"vega-embed\": \"https://cdn.jsdelivr.net/npm//vega-embed@6?noext\",\n",
       "    };\n",
       "\n",
       "    function loadScript(lib) {\n",
       "      return new Promise(function(resolve, reject) {\n",
       "        var s = document.createElement('script');\n",
       "        s.src = paths[lib];\n",
       "        s.async = true;\n",
       "        s.onload = () => resolve(paths[lib]);\n",
       "        s.onerror = () => reject(`Error loading script: ${paths[lib]}`);\n",
       "        document.getElementsByTagName(\"head\")[0].appendChild(s);\n",
       "      });\n",
       "    }\n",
       "\n",
       "    function showError(err) {\n",
       "      outputDiv.innerHTML = `<div class=\"error\" style=\"color:red;\">${err}</div>`;\n",
       "      throw err;\n",
       "    }\n",
       "\n",
       "    function displayChart(vegaEmbed) {\n",
       "      vegaEmbed(outputDiv, spec, embedOpt)\n",
       "        .catch(err => showError(`Javascript Error: ${err.message}<br>This usually means there's a typo in your chart specification. See the javascript console for the full traceback.`));\n",
       "    }\n",
       "\n",
       "    if(typeof define === \"function\" && define.amd) {\n",
       "      requirejs.config({paths});\n",
       "      require([\"vega-embed\"], displayChart, err => showError(`Error loading script: ${err.message}`));\n",
       "    } else if (typeof vegaEmbed === \"function\") {\n",
       "      displayChart(vegaEmbed);\n",
       "    } else {\n",
       "      loadScript(\"vega\")\n",
       "        .then(() => loadScript(\"vega-lite\"))\n",
       "        .then(() => loadScript(\"vega-embed\"))\n",
       "        .catch(showError)\n",
       "        .then(() => displayChart(vegaEmbed));\n",
       "    }\n",
       "  })({\"config\": {\"view\": {\"continuousWidth\": 400, \"continuousHeight\": 300}}, \"layer\": [{\"mark\": {\"type\": \"line\", \"color\": \"black\", \"opacity\": 0.5, \"strokeDash\": [3, 3]}, \"encoding\": {\"x\": {\"type\": \"quantitative\", \"field\": \"Days since 10th death\"}, \"y\": {\"type\": \"quantitative\", \"field\": \"Confirmed Cases\"}}}, {\"mark\": {\"type\": \"text\", \"align\": \"right\", \"dy\": -6, \"fontSize\": 10, \"text\": \"33% Daily Growth\"}, \"encoding\": {\"x\": {\"type\": \"quantitative\", \"field\": \"Days since 10th death\"}, \"y\": {\"type\": \"quantitative\", \"field\": \"Confirmed Cases\"}}, \"transform\": [{\"filter\": \"(datum['Days since 10th death'] >= 22)\"}]}, {\"data\": {\"name\": \"data-04cd5d3df24cb98c21020b2823a550cc\"}, \"mark\": {\"type\": \"line\", \"point\": true}, \"encoding\": {\"color\": {\"type\": \"nominal\", \"field\": \"Country\", \"scale\": {\"domain\": [\"Belgium\", \"France\", \"Germany\", \"Iran\", \"Iraq\", \"Italy\", \"Japan\", \"Netherlands\", \"Philippines\", \"South Korea\", \"Spain\", \"Switzerland\", \"US\", \"United Kingdom\"], \"range\": [\"#C1B7AD\", \"#F58518\", \"#9D755D\", \"#A1BA59\", \"#C1B7AD\", \"black\", \"#9467bd\", \"#C1B7AD\", \"#C1B7AD\", \"#E45756\", \"#F58518\", \"#9D755D\", \"#2495D3\", \"#2495D3\"]}}, \"opacity\": {\"condition\": {\"value\": 1, \"selection\": \"selector002\"}, \"value\": 0.05}, \"tooltip\": [{\"type\": \"nominal\", \"field\": \"Country\"}, {\"type\": \"temporal\", \"field\": \"Date\"}, {\"type\": \"quantitative\", \"field\": \"Confirmed Cases\"}, {\"type\": \"quantitative\", \"field\": \"Days since 10th death\"}], \"x\": {\"type\": \"quantitative\", \"field\": \"Days since 10th death\"}, \"y\": {\"type\": \"quantitative\", \"axis\": {\"title\": \"Cumulative Deaths\"}, \"field\": \"Confirmed Cases\", \"scale\": {\"type\": \"log\"}}}, \"selection\": {\"selector002\": {\"type\": \"multi\", \"fields\": [\"Country\"], \"bind\": \"legend\", \"init\": [{\"Country\": \"Spain\"}, {\"Country\": \"Germany\"}, {\"Country\": \"Italy\"}, {\"Country\": \"South Korea\"}, {\"Country\": \"Japan\"}]}}, \"width\": 550}, {\"data\": {\"name\": \"data-04cd5d3df24cb98c21020b2823a550cc\"}, \"mark\": {\"type\": \"text\", \"align\": \"right\", \"dy\": -8, \"fontWeight\": \"bold\"}, \"encoding\": {\"color\": {\"type\": \"nominal\", \"field\": \"Country\", \"scale\": {\"domain\": [\"Belgium\", \"France\", \"Germany\", \"Iran\", \"Iraq\", \"Italy\", \"Japan\", \"Netherlands\", \"Philippines\", \"South Korea\", \"Spain\", \"Switzerland\", \"US\", \"United Kingdom\"], \"range\": [\"#C1B7AD\", \"#F58518\", \"#9D755D\", \"#A1BA59\", \"#C1B7AD\", \"black\", \"#9467bd\", \"#C1B7AD\", \"#C1B7AD\", \"#E45756\", \"#F58518\", \"#9D755D\", \"#2495D3\", \"#2495D3\"]}}, \"opacity\": {\"condition\": {\"value\": 1, \"selection\": \"selector002\"}, \"value\": 0.05}, \"text\": {\"type\": \"nominal\", \"field\": \"Country\"}, \"tooltip\": [{\"type\": \"nominal\", \"field\": \"Country\"}, {\"type\": \"temporal\", \"field\": \"Date\"}, {\"type\": \"quantitative\", \"field\": \"Confirmed Cases\"}, {\"type\": \"quantitative\", \"field\": \"Days since 10th death\"}], \"x\": {\"type\": \"quantitative\", \"field\": \"Days since 10th death\"}, \"y\": {\"type\": \"quantitative\", \"axis\": {\"title\": \"Cumulative Deaths\"}, \"field\": \"Confirmed Cases\", \"scale\": {\"type\": \"log\"}}}, \"transform\": [{\"filter\": \"(datum['Date'] >= 1584403200000)\"}], \"width\": 550}], \"data\": {\"name\": \"data-2d24e28df5dc7eb169e5bf67ded7e642\"}, \"title\": \"Compare Spain, Germany death trajectory with Italy, South Korea, Japan\", \"$schema\": \"https://vega.github.io/schema/vega-lite/v4.0.2.json\", \"datasets\": {\"data-2d24e28df5dc7eb169e5bf67ded7e642\": [{\"Days since 10th death\": 0, \"Confirmed Cases\": 10.0}, {\"Days since 10th death\": 1, \"Confirmed Cases\": 13.3}, {\"Days since 10th death\": 2, \"Confirmed Cases\": 17.689}, {\"Days since 10th death\": 3, \"Confirmed Cases\": 23.526370000000007}, {\"Days since 10th death\": 4, \"Confirmed Cases\": 31.290072100000007}, {\"Days since 10th death\": 5, \"Confirmed Cases\": 41.61579589300001}, {\"Days since 10th death\": 6, \"Confirmed Cases\": 55.34900853769002}, {\"Days since 10th death\": 7, \"Confirmed Cases\": 73.61418135512773}, {\"Days since 10th death\": 8, \"Confirmed Cases\": 97.90686120231989}, {\"Days since 10th death\": 9, \"Confirmed Cases\": 130.21612539908546}, {\"Days since 10th death\": 10, \"Confirmed Cases\": 173.18744678078366}, {\"Days since 10th death\": 11, \"Confirmed Cases\": 230.3393042184423}, {\"Days since 10th death\": 12, \"Confirmed Cases\": 306.35127461052826}, {\"Days since 10th death\": 13, \"Confirmed Cases\": 407.4471952320026}, {\"Days since 10th death\": 14, \"Confirmed Cases\": 541.9047696585635}, {\"Days since 10th death\": 15, \"Confirmed Cases\": 720.7333436458895}, {\"Days since 10th death\": 16, \"Confirmed Cases\": 958.575347049033}, {\"Days since 10th death\": 17, \"Confirmed Cases\": 1274.905211575214}, {\"Days since 10th death\": 18, \"Confirmed Cases\": 1695.6239313950348}, {\"Days since 10th death\": 19, \"Confirmed Cases\": 2255.179828755396}, {\"Days since 10th death\": 20, \"Confirmed Cases\": 2999.3891722446774}, {\"Days since 10th death\": 21, \"Confirmed Cases\": 3989.187599085421}, {\"Days since 10th death\": 22, \"Confirmed Cases\": 5305.61950678361}], \"data-04cd5d3df24cb98c21020b2823a550cc\": [{\"Country\": \"Belgium\", \"Date\": \"2020-03-17T00:00:00\", \"Confirmed Cases\": 10, \"Days since 10th death\": 0}, {\"Country\": \"France\", \"Date\": \"2020-03-07T00:00:00\", \"Confirmed Cases\": 11, \"Days since 10th death\": 0}, {\"Country\": \"France\", \"Date\": \"2020-03-08T00:00:00\", \"Confirmed Cases\": 19, \"Days since 10th death\": 1}, {\"Country\": \"France\", \"Date\": \"2020-03-09T00:00:00\", \"Confirmed Cases\": 19, \"Days since 10th death\": 2}, {\"Country\": \"France\", \"Date\": \"2020-03-10T00:00:00\", \"Confirmed Cases\": 33, \"Days since 10th death\": 3}, {\"Country\": \"France\", \"Date\": \"2020-03-11T00:00:00\", \"Confirmed Cases\": 48, \"Days since 10th death\": 4}, {\"Country\": \"France\", \"Date\": \"2020-03-12T00:00:00\", \"Confirmed Cases\": 48, \"Days since 10th death\": 5}, {\"Country\": \"France\", \"Date\": \"2020-03-13T00:00:00\", \"Confirmed Cases\": 79, \"Days since 10th death\": 6}, {\"Country\": \"France\", \"Date\": \"2020-03-14T00:00:00\", \"Confirmed Cases\": 91, \"Days since 10th death\": 7}, {\"Country\": \"France\", \"Date\": \"2020-03-15T00:00:00\", \"Confirmed Cases\": 91, \"Days since 10th death\": 8}, {\"Country\": \"France\", \"Date\": \"2020-03-16T00:00:00\", \"Confirmed Cases\": 148, \"Days since 10th death\": 9}, {\"Country\": \"France\", \"Date\": \"2020-03-17T00:00:00\", \"Confirmed Cases\": 148, \"Days since 10th death\": 10}, {\"Country\": \"Germany\", \"Date\": \"2020-03-15T00:00:00\", \"Confirmed Cases\": 11, \"Days since 10th death\": 0}, {\"Country\": \"Germany\", \"Date\": \"2020-03-16T00:00:00\", \"Confirmed Cases\": 17, \"Days since 10th death\": 1}, {\"Country\": \"Germany\", \"Date\": \"2020-03-17T00:00:00\", \"Confirmed Cases\": 24, \"Days since 10th death\": 2}, {\"Country\": \"Iran\", \"Date\": \"2020-02-24T00:00:00\", \"Confirmed Cases\": 12, \"Days since 10th death\": 0}, {\"Country\": \"Iran\", \"Date\": \"2020-02-25T00:00:00\", \"Confirmed Cases\": 16, \"Days since 10th death\": 1}, {\"Country\": \"Iran\", \"Date\": \"2020-02-26T00:00:00\", \"Confirmed Cases\": 19, \"Days since 10th death\": 2}, {\"Country\": \"Iran\", \"Date\": \"2020-02-27T00:00:00\", \"Confirmed Cases\": 26, \"Days since 10th death\": 3}, {\"Country\": \"Iran\", \"Date\": \"2020-02-28T00:00:00\", \"Confirmed Cases\": 34, \"Days since 10th death\": 4}, {\"Country\": \"Iran\", \"Date\": \"2020-02-29T00:00:00\", \"Confirmed Cases\": 43, \"Days since 10th death\": 5}, {\"Country\": \"Iran\", \"Date\": \"2020-03-01T00:00:00\", \"Confirmed Cases\": 54, \"Days since 10th death\": 6}, {\"Country\": \"Iran\", \"Date\": \"2020-03-02T00:00:00\", \"Confirmed Cases\": 66, \"Days since 10th death\": 7}, {\"Country\": \"Iran\", \"Date\": \"2020-03-03T00:00:00\", \"Confirmed Cases\": 77, \"Days since 10th death\": 8}, {\"Country\": \"Iran\", \"Date\": \"2020-03-04T00:00:00\", \"Confirmed Cases\": 92, \"Days since 10th death\": 9}, {\"Country\": \"Iran\", \"Date\": \"2020-03-05T00:00:00\", \"Confirmed Cases\": 107, \"Days since 10th death\": 10}, {\"Country\": \"Iran\", \"Date\": \"2020-03-06T00:00:00\", \"Confirmed Cases\": 124, \"Days since 10th death\": 11}, {\"Country\": \"Iran\", \"Date\": \"2020-03-07T00:00:00\", \"Confirmed Cases\": 145, \"Days since 10th death\": 12}, {\"Country\": \"Iran\", \"Date\": \"2020-03-08T00:00:00\", \"Confirmed Cases\": 194, \"Days since 10th death\": 13}, {\"Country\": \"Iran\", \"Date\": \"2020-03-09T00:00:00\", \"Confirmed Cases\": 237, \"Days since 10th death\": 14}, {\"Country\": \"Iran\", \"Date\": \"2020-03-10T00:00:00\", \"Confirmed Cases\": 291, \"Days since 10th death\": 15}, {\"Country\": \"Iran\", \"Date\": \"2020-03-11T00:00:00\", \"Confirmed Cases\": 354, \"Days since 10th death\": 16}, {\"Country\": \"Iran\", \"Date\": \"2020-03-12T00:00:00\", \"Confirmed Cases\": 429, \"Days since 10th death\": 17}, {\"Country\": \"Iran\", \"Date\": \"2020-03-13T00:00:00\", \"Confirmed Cases\": 514, \"Days since 10th death\": 18}, {\"Country\": \"Iran\", \"Date\": \"2020-03-14T00:00:00\", \"Confirmed Cases\": 611, \"Days since 10th death\": 19}, {\"Country\": \"Iran\", \"Date\": \"2020-03-15T00:00:00\", \"Confirmed Cases\": 724, \"Days since 10th death\": 20}, {\"Country\": \"Iran\", \"Date\": \"2020-03-16T00:00:00\", \"Confirmed Cases\": 853, \"Days since 10th death\": 21}, {\"Country\": \"Iran\", \"Date\": \"2020-03-17T00:00:00\", \"Confirmed Cases\": 988, \"Days since 10th death\": 22}, {\"Country\": \"Iraq\", \"Date\": \"2020-03-14T00:00:00\", \"Confirmed Cases\": 10, \"Days since 10th death\": 0}, {\"Country\": \"Iraq\", \"Date\": \"2020-03-15T00:00:00\", \"Confirmed Cases\": 10, \"Days since 10th death\": 1}, {\"Country\": \"Iraq\", \"Date\": \"2020-03-16T00:00:00\", \"Confirmed Cases\": 10, \"Days since 10th death\": 2}, {\"Country\": \"Iraq\", \"Date\": \"2020-03-17T00:00:00\", \"Confirmed Cases\": 11, \"Days since 10th death\": 3}, {\"Country\": \"Italy\", \"Date\": \"2020-02-25T00:00:00\", \"Confirmed Cases\": 10, \"Days since 10th death\": 0}, {\"Country\": \"Italy\", \"Date\": \"2020-02-26T00:00:00\", \"Confirmed Cases\": 12, \"Days since 10th death\": 1}, {\"Country\": \"Italy\", \"Date\": \"2020-02-27T00:00:00\", \"Confirmed Cases\": 17, \"Days since 10th death\": 2}, {\"Country\": \"Italy\", \"Date\": \"2020-02-28T00:00:00\", \"Confirmed Cases\": 21, \"Days since 10th death\": 3}, {\"Country\": \"Italy\", \"Date\": \"2020-02-29T00:00:00\", \"Confirmed Cases\": 29, \"Days since 10th death\": 4}, {\"Country\": \"Italy\", \"Date\": \"2020-03-01T00:00:00\", \"Confirmed Cases\": 34, \"Days since 10th death\": 5}, {\"Country\": \"Italy\", \"Date\": \"2020-03-02T00:00:00\", \"Confirmed Cases\": 52, \"Days since 10th death\": 6}, {\"Country\": \"Italy\", \"Date\": \"2020-03-03T00:00:00\", \"Confirmed Cases\": 79, \"Days since 10th death\": 7}, {\"Country\": \"Italy\", \"Date\": \"2020-03-04T00:00:00\", \"Confirmed Cases\": 107, \"Days since 10th death\": 8}, {\"Country\": \"Italy\", \"Date\": \"2020-03-05T00:00:00\", \"Confirmed Cases\": 148, \"Days since 10th death\": 9}, {\"Country\": \"Italy\", \"Date\": \"2020-03-06T00:00:00\", \"Confirmed Cases\": 197, \"Days since 10th death\": 10}, {\"Country\": \"Italy\", \"Date\": \"2020-03-07T00:00:00\", \"Confirmed Cases\": 233, \"Days since 10th death\": 11}, {\"Country\": \"Italy\", \"Date\": \"2020-03-08T00:00:00\", \"Confirmed Cases\": 366, \"Days since 10th death\": 12}, {\"Country\": \"Italy\", \"Date\": \"2020-03-09T00:00:00\", \"Confirmed Cases\": 463, \"Days since 10th death\": 13}, {\"Country\": \"Italy\", \"Date\": \"2020-03-10T00:00:00\", \"Confirmed Cases\": 631, \"Days since 10th death\": 14}, {\"Country\": \"Italy\", \"Date\": \"2020-03-11T00:00:00\", \"Confirmed Cases\": 827, \"Days since 10th death\": 15}, {\"Country\": \"Italy\", \"Date\": \"2020-03-12T00:00:00\", \"Confirmed Cases\": 827, \"Days since 10th death\": 16}, {\"Country\": \"Italy\", \"Date\": \"2020-03-13T00:00:00\", \"Confirmed Cases\": 1266, \"Days since 10th death\": 17}, {\"Country\": \"Italy\", \"Date\": \"2020-03-14T00:00:00\", \"Confirmed Cases\": 1441, \"Days since 10th death\": 18}, {\"Country\": \"Italy\", \"Date\": \"2020-03-15T00:00:00\", \"Confirmed Cases\": 1809, \"Days since 10th death\": 19}, {\"Country\": \"Italy\", \"Date\": \"2020-03-16T00:00:00\", \"Confirmed Cases\": 2158, \"Days since 10th death\": 20}, {\"Country\": \"Italy\", \"Date\": \"2020-03-17T00:00:00\", \"Confirmed Cases\": 2503, \"Days since 10th death\": 21}, {\"Country\": \"Japan\", \"Date\": \"2020-03-09T00:00:00\", \"Confirmed Cases\": 10, \"Days since 10th death\": 0}, {\"Country\": \"Japan\", \"Date\": \"2020-03-10T00:00:00\", \"Confirmed Cases\": 10, \"Days since 10th death\": 1}, {\"Country\": \"Japan\", \"Date\": \"2020-03-11T00:00:00\", \"Confirmed Cases\": 15, \"Days since 10th death\": 2}, {\"Country\": \"Japan\", \"Date\": \"2020-03-12T00:00:00\", \"Confirmed Cases\": 16, \"Days since 10th death\": 3}, {\"Country\": \"Japan\", \"Date\": \"2020-03-13T00:00:00\", \"Confirmed Cases\": 19, \"Days since 10th death\": 4}, {\"Country\": \"Japan\", \"Date\": \"2020-03-14T00:00:00\", \"Confirmed Cases\": 22, \"Days since 10th death\": 5}, {\"Country\": \"Japan\", \"Date\": \"2020-03-15T00:00:00\", \"Confirmed Cases\": 22, \"Days since 10th death\": 6}, {\"Country\": \"Japan\", \"Date\": \"2020-03-16T00:00:00\", \"Confirmed Cases\": 27, \"Days since 10th death\": 7}, {\"Country\": \"Japan\", \"Date\": \"2020-03-17T00:00:00\", \"Confirmed Cases\": 29, \"Days since 10th death\": 8}, {\"Country\": \"Netherlands\", \"Date\": \"2020-03-13T00:00:00\", \"Confirmed Cases\": 10, \"Days since 10th death\": 0}, {\"Country\": \"Netherlands\", \"Date\": \"2020-03-14T00:00:00\", \"Confirmed Cases\": 12, \"Days since 10th death\": 1}, {\"Country\": \"Netherlands\", \"Date\": \"2020-03-15T00:00:00\", \"Confirmed Cases\": 20, \"Days since 10th death\": 2}, {\"Country\": \"Netherlands\", \"Date\": \"2020-03-16T00:00:00\", \"Confirmed Cases\": 24, \"Days since 10th death\": 3}, {\"Country\": \"Netherlands\", \"Date\": \"2020-03-17T00:00:00\", \"Confirmed Cases\": 43, \"Days since 10th death\": 4}, {\"Country\": \"Philippines\", \"Date\": \"2020-03-15T00:00:00\", \"Confirmed Cases\": 11, \"Days since 10th death\": 0}, {\"Country\": \"Philippines\", \"Date\": \"2020-03-16T00:00:00\", \"Confirmed Cases\": 12, \"Days since 10th death\": 1}, {\"Country\": \"Philippines\", \"Date\": \"2020-03-17T00:00:00\", \"Confirmed Cases\": 12, \"Days since 10th death\": 2}, {\"Country\": \"South Korea\", \"Date\": \"2020-02-25T00:00:00\", \"Confirmed Cases\": 10, \"Days since 10th death\": 0}, {\"Country\": \"South Korea\", \"Date\": \"2020-02-26T00:00:00\", \"Confirmed Cases\": 12, \"Days since 10th death\": 1}, {\"Country\": \"South Korea\", \"Date\": \"2020-02-27T00:00:00\", \"Confirmed Cases\": 13, \"Days since 10th death\": 2}, {\"Country\": \"South Korea\", \"Date\": \"2020-02-28T00:00:00\", \"Confirmed Cases\": 13, \"Days since 10th death\": 3}, {\"Country\": \"South Korea\", \"Date\": \"2020-02-29T00:00:00\", \"Confirmed Cases\": 16, \"Days since 10th death\": 4}, {\"Country\": \"South Korea\", \"Date\": \"2020-03-01T00:00:00\", \"Confirmed Cases\": 17, \"Days since 10th death\": 5}, {\"Country\": \"South Korea\", \"Date\": \"2020-03-02T00:00:00\", \"Confirmed Cases\": 28, \"Days since 10th death\": 6}, {\"Country\": \"South Korea\", \"Date\": \"2020-03-03T00:00:00\", \"Confirmed Cases\": 28, \"Days since 10th death\": 7}, {\"Country\": \"South Korea\", \"Date\": \"2020-03-04T00:00:00\", \"Confirmed Cases\": 35, \"Days since 10th death\": 8}, {\"Country\": \"South Korea\", \"Date\": \"2020-03-05T00:00:00\", \"Confirmed Cases\": 35, \"Days since 10th death\": 9}, {\"Country\": \"South Korea\", \"Date\": \"2020-03-06T00:00:00\", \"Confirmed Cases\": 42, \"Days since 10th death\": 10}, {\"Country\": \"South Korea\", \"Date\": \"2020-03-07T00:00:00\", \"Confirmed Cases\": 44, \"Days since 10th death\": 11}, {\"Country\": \"South Korea\", \"Date\": \"2020-03-08T00:00:00\", \"Confirmed Cases\": 50, \"Days since 10th death\": 12}, {\"Country\": \"South Korea\", \"Date\": \"2020-03-09T00:00:00\", \"Confirmed Cases\": 53, \"Days since 10th death\": 13}, {\"Country\": \"South Korea\", \"Date\": \"2020-03-10T00:00:00\", \"Confirmed Cases\": 54, \"Days since 10th death\": 14}, {\"Country\": \"South Korea\", \"Date\": \"2020-03-11T00:00:00\", \"Confirmed Cases\": 60, \"Days since 10th death\": 15}, {\"Country\": \"South Korea\", \"Date\": \"2020-03-12T00:00:00\", \"Confirmed Cases\": 66, \"Days since 10th death\": 16}, {\"Country\": \"South Korea\", \"Date\": \"2020-03-13T00:00:00\", \"Confirmed Cases\": 66, \"Days since 10th death\": 17}, {\"Country\": \"South Korea\", \"Date\": \"2020-03-14T00:00:00\", \"Confirmed Cases\": 72, \"Days since 10th death\": 18}, {\"Country\": \"South Korea\", \"Date\": \"2020-03-15T00:00:00\", \"Confirmed Cases\": 75, \"Days since 10th death\": 19}, {\"Country\": \"South Korea\", \"Date\": \"2020-03-16T00:00:00\", \"Confirmed Cases\": 75, \"Days since 10th death\": 20}, {\"Country\": \"South Korea\", \"Date\": \"2020-03-17T00:00:00\", \"Confirmed Cases\": 81, \"Days since 10th death\": 21}, {\"Country\": \"Spain\", \"Date\": \"2020-03-07T00:00:00\", \"Confirmed Cases\": 10, \"Days since 10th death\": 0}, {\"Country\": \"Spain\", \"Date\": \"2020-03-08T00:00:00\", \"Confirmed Cases\": 17, \"Days since 10th death\": 1}, {\"Country\": \"Spain\", \"Date\": \"2020-03-09T00:00:00\", \"Confirmed Cases\": 28, \"Days since 10th death\": 2}, {\"Country\": \"Spain\", \"Date\": \"2020-03-10T00:00:00\", \"Confirmed Cases\": 35, \"Days since 10th death\": 3}, {\"Country\": \"Spain\", \"Date\": \"2020-03-11T00:00:00\", \"Confirmed Cases\": 54, \"Days since 10th death\": 4}, {\"Country\": \"Spain\", \"Date\": \"2020-03-12T00:00:00\", \"Confirmed Cases\": 55, \"Days since 10th death\": 5}, {\"Country\": \"Spain\", \"Date\": \"2020-03-13T00:00:00\", \"Confirmed Cases\": 133, \"Days since 10th death\": 6}, {\"Country\": \"Spain\", \"Date\": \"2020-03-14T00:00:00\", \"Confirmed Cases\": 195, \"Days since 10th death\": 7}, {\"Country\": \"Spain\", \"Date\": \"2020-03-15T00:00:00\", \"Confirmed Cases\": 289, \"Days since 10th death\": 8}, {\"Country\": \"Spain\", \"Date\": \"2020-03-16T00:00:00\", \"Confirmed Cases\": 342, \"Days since 10th death\": 9}, {\"Country\": \"Spain\", \"Date\": \"2020-03-17T00:00:00\", \"Confirmed Cases\": 533, \"Days since 10th death\": 10}, {\"Country\": \"Switzerland\", \"Date\": \"2020-03-13T00:00:00\", \"Confirmed Cases\": 11, \"Days since 10th death\": 0}, {\"Country\": \"Switzerland\", \"Date\": \"2020-03-14T00:00:00\", \"Confirmed Cases\": 13, \"Days since 10th death\": 1}, {\"Country\": \"Switzerland\", \"Date\": \"2020-03-15T00:00:00\", \"Confirmed Cases\": 14, \"Days since 10th death\": 2}, {\"Country\": \"Switzerland\", \"Date\": \"2020-03-16T00:00:00\", \"Confirmed Cases\": 14, \"Days since 10th death\": 3}, {\"Country\": \"Switzerland\", \"Date\": \"2020-03-17T00:00:00\", \"Confirmed Cases\": 27, \"Days since 10th death\": 4}, {\"Country\": \"US\", \"Date\": \"2020-03-04T00:00:00\", \"Confirmed Cases\": 11, \"Days since 10th death\": 0}, {\"Country\": \"US\", \"Date\": \"2020-03-05T00:00:00\", \"Confirmed Cases\": 12, \"Days since 10th death\": 1}, {\"Country\": \"US\", \"Date\": \"2020-03-06T00:00:00\", \"Confirmed Cases\": 14, \"Days since 10th death\": 2}, {\"Country\": \"US\", \"Date\": \"2020-03-07T00:00:00\", \"Confirmed Cases\": 17, \"Days since 10th death\": 3}, {\"Country\": \"US\", \"Date\": \"2020-03-08T00:00:00\", \"Confirmed Cases\": 21, \"Days since 10th death\": 4}, {\"Country\": \"US\", \"Date\": \"2020-03-09T00:00:00\", \"Confirmed Cases\": 22, \"Days since 10th death\": 5}, {\"Country\": \"US\", \"Date\": \"2020-03-10T00:00:00\", \"Confirmed Cases\": 28, \"Days since 10th death\": 6}, {\"Country\": \"US\", \"Date\": \"2020-03-11T00:00:00\", \"Confirmed Cases\": 36, \"Days since 10th death\": 7}, {\"Country\": \"US\", \"Date\": \"2020-03-12T00:00:00\", \"Confirmed Cases\": 40, \"Days since 10th death\": 8}, {\"Country\": \"US\", \"Date\": \"2020-03-13T00:00:00\", \"Confirmed Cases\": 47, \"Days since 10th death\": 9}, {\"Country\": \"US\", \"Date\": \"2020-03-14T00:00:00\", \"Confirmed Cases\": 54, \"Days since 10th death\": 10}, {\"Country\": \"US\", \"Date\": \"2020-03-15T00:00:00\", \"Confirmed Cases\": 63, \"Days since 10th death\": 11}, {\"Country\": \"US\", \"Date\": \"2020-03-16T00:00:00\", \"Confirmed Cases\": 85, \"Days since 10th death\": 12}, {\"Country\": \"US\", \"Date\": \"2020-03-17T00:00:00\", \"Confirmed Cases\": 108, \"Days since 10th death\": 13}, {\"Country\": \"United Kingdom\", \"Date\": \"2020-03-14T00:00:00\", \"Confirmed Cases\": 21, \"Days since 10th death\": 0}, {\"Country\": \"United Kingdom\", \"Date\": \"2020-03-15T00:00:00\", \"Confirmed Cases\": 21, \"Days since 10th death\": 1}, {\"Country\": \"United Kingdom\", \"Date\": \"2020-03-16T00:00:00\", \"Confirmed Cases\": 56, \"Days since 10th death\": 2}, {\"Country\": \"United Kingdom\", \"Date\": \"2020-03-17T00:00:00\", \"Confirmed Cases\": 56, \"Days since 10th death\": 3}]}}, {\"mode\": \"vega-lite\"});\n",
       "</script>"
      ],
      "text/plain": [
       "alt.LayerChart(...)"
      ]
     },
     "execution_count": 10,
     "metadata": {},
     "output_type": "execute_result"
    }
   ],
   "source": [
    "#hide_input\n",
    "chart2 = make_since_chart(['Spain', 'Germany'])\n",
    "chart2"
   ]
  },
  {
   "cell_type": "code",
   "execution_count": 11,
   "metadata": {
    "papermill": {
     "duration": 0.096549,
     "end_time": "2020-03-18T14:03:42.516444",
     "exception": false,
     "start_time": "2020-03-18T14:03:42.419895",
     "status": "completed"
    },
    "tags": []
   },
   "outputs": [
    {
     "data": {
      "text/html": [
       "\n",
       "<div id=\"altair-viz-27bd5a1075434be3a969b46ff68f1ded\"></div>\n",
       "<script type=\"text/javascript\">\n",
       "  (function(spec, embedOpt){\n",
       "    const outputDiv = document.getElementById(\"altair-viz-27bd5a1075434be3a969b46ff68f1ded\");\n",
       "    const paths = {\n",
       "      \"vega\": \"https://cdn.jsdelivr.net/npm//vega@5?noext\",\n",
       "      \"vega-lib\": \"https://cdn.jsdelivr.net/npm//vega-lib?noext\",\n",
       "      \"vega-lite\": \"https://cdn.jsdelivr.net/npm//vega-lite@4.0.2?noext\",\n",
       "      \"vega-embed\": \"https://cdn.jsdelivr.net/npm//vega-embed@6?noext\",\n",
       "    };\n",
       "\n",
       "    function loadScript(lib) {\n",
       "      return new Promise(function(resolve, reject) {\n",
       "        var s = document.createElement('script');\n",
       "        s.src = paths[lib];\n",
       "        s.async = true;\n",
       "        s.onload = () => resolve(paths[lib]);\n",
       "        s.onerror = () => reject(`Error loading script: ${paths[lib]}`);\n",
       "        document.getElementsByTagName(\"head\")[0].appendChild(s);\n",
       "      });\n",
       "    }\n",
       "\n",
       "    function showError(err) {\n",
       "      outputDiv.innerHTML = `<div class=\"error\" style=\"color:red;\">${err}</div>`;\n",
       "      throw err;\n",
       "    }\n",
       "\n",
       "    function displayChart(vegaEmbed) {\n",
       "      vegaEmbed(outputDiv, spec, embedOpt)\n",
       "        .catch(err => showError(`Javascript Error: ${err.message}<br>This usually means there's a typo in your chart specification. See the javascript console for the full traceback.`));\n",
       "    }\n",
       "\n",
       "    if(typeof define === \"function\" && define.amd) {\n",
       "      requirejs.config({paths});\n",
       "      require([\"vega-embed\"], displayChart, err => showError(`Error loading script: ${err.message}`));\n",
       "    } else if (typeof vegaEmbed === \"function\") {\n",
       "      displayChart(vegaEmbed);\n",
       "    } else {\n",
       "      loadScript(\"vega\")\n",
       "        .then(() => loadScript(\"vega-lite\"))\n",
       "        .then(() => loadScript(\"vega-embed\"))\n",
       "        .catch(showError)\n",
       "        .then(() => displayChart(vegaEmbed));\n",
       "    }\n",
       "  })({\"config\": {\"view\": {\"continuousWidth\": 400, \"continuousHeight\": 300}}, \"layer\": [{\"mark\": {\"type\": \"line\", \"color\": \"black\", \"opacity\": 0.5, \"strokeDash\": [3, 3]}, \"encoding\": {\"x\": {\"type\": \"quantitative\", \"field\": \"Days since 10th death\"}, \"y\": {\"type\": \"quantitative\", \"field\": \"Confirmed Cases\"}}}, {\"mark\": {\"type\": \"text\", \"align\": \"right\", \"dy\": -6, \"fontSize\": 10, \"text\": \"33% Daily Growth\"}, \"encoding\": {\"x\": {\"type\": \"quantitative\", \"field\": \"Days since 10th death\"}, \"y\": {\"type\": \"quantitative\", \"field\": \"Confirmed Cases\"}}, \"transform\": [{\"filter\": \"(datum['Days since 10th death'] >= 22)\"}]}, {\"data\": {\"name\": \"data-04cd5d3df24cb98c21020b2823a550cc\"}, \"mark\": {\"type\": \"line\", \"point\": true}, \"encoding\": {\"color\": {\"type\": \"nominal\", \"field\": \"Country\", \"scale\": {\"domain\": [\"Belgium\", \"France\", \"Germany\", \"Iran\", \"Iraq\", \"Italy\", \"Japan\", \"Netherlands\", \"Philippines\", \"South Korea\", \"Spain\", \"Switzerland\", \"US\", \"United Kingdom\"], \"range\": [\"#C1B7AD\", \"#F58518\", \"#9D755D\", \"#A1BA59\", \"#C1B7AD\", \"black\", \"#9467bd\", \"#C1B7AD\", \"#C1B7AD\", \"#E45756\", \"#F58518\", \"#9D755D\", \"#2495D3\", \"#2495D3\"]}}, \"opacity\": {\"condition\": {\"value\": 1, \"selection\": \"selector003\"}, \"value\": 0.05}, \"tooltip\": [{\"type\": \"nominal\", \"field\": \"Country\"}, {\"type\": \"temporal\", \"field\": \"Date\"}, {\"type\": \"quantitative\", \"field\": \"Confirmed Cases\"}, {\"type\": \"quantitative\", \"field\": \"Days since 10th death\"}], \"x\": {\"type\": \"quantitative\", \"field\": \"Days since 10th death\"}, \"y\": {\"type\": \"quantitative\", \"axis\": {\"title\": \"Cumulative Deaths\"}, \"field\": \"Confirmed Cases\", \"scale\": {\"type\": \"log\"}}}, \"selection\": {\"selector003\": {\"type\": \"multi\", \"fields\": [\"Country\"], \"bind\": \"legend\", \"init\": [{\"Country\": \"US\"}, {\"Country\": \"France\"}, {\"Country\": \"Italy\"}, {\"Country\": \"South Korea\"}, {\"Country\": \"Japan\"}]}}, \"width\": 550}, {\"data\": {\"name\": \"data-04cd5d3df24cb98c21020b2823a550cc\"}, \"mark\": {\"type\": \"text\", \"align\": \"right\", \"dy\": -8, \"fontWeight\": \"bold\"}, \"encoding\": {\"color\": {\"type\": \"nominal\", \"field\": \"Country\", \"scale\": {\"domain\": [\"Belgium\", \"France\", \"Germany\", \"Iran\", \"Iraq\", \"Italy\", \"Japan\", \"Netherlands\", \"Philippines\", \"South Korea\", \"Spain\", \"Switzerland\", \"US\", \"United Kingdom\"], \"range\": [\"#C1B7AD\", \"#F58518\", \"#9D755D\", \"#A1BA59\", \"#C1B7AD\", \"black\", \"#9467bd\", \"#C1B7AD\", \"#C1B7AD\", \"#E45756\", \"#F58518\", \"#9D755D\", \"#2495D3\", \"#2495D3\"]}}, \"opacity\": {\"condition\": {\"value\": 1, \"selection\": \"selector003\"}, \"value\": 0.05}, \"text\": {\"type\": \"nominal\", \"field\": \"Country\"}, \"tooltip\": [{\"type\": \"nominal\", \"field\": \"Country\"}, {\"type\": \"temporal\", \"field\": \"Date\"}, {\"type\": \"quantitative\", \"field\": \"Confirmed Cases\"}, {\"type\": \"quantitative\", \"field\": \"Days since 10th death\"}], \"x\": {\"type\": \"quantitative\", \"field\": \"Days since 10th death\"}, \"y\": {\"type\": \"quantitative\", \"axis\": {\"title\": \"Cumulative Deaths\"}, \"field\": \"Confirmed Cases\", \"scale\": {\"type\": \"log\"}}}, \"transform\": [{\"filter\": \"(datum['Date'] >= 1584403200000)\"}], \"width\": 550}], \"data\": {\"name\": \"data-2d24e28df5dc7eb169e5bf67ded7e642\"}, \"title\": \"Compare US, France death trajectory with Italy, South Korea, Japan\", \"$schema\": \"https://vega.github.io/schema/vega-lite/v4.0.2.json\", \"datasets\": {\"data-2d24e28df5dc7eb169e5bf67ded7e642\": [{\"Days since 10th death\": 0, \"Confirmed Cases\": 10.0}, {\"Days since 10th death\": 1, \"Confirmed Cases\": 13.3}, {\"Days since 10th death\": 2, \"Confirmed Cases\": 17.689}, {\"Days since 10th death\": 3, \"Confirmed Cases\": 23.526370000000007}, {\"Days since 10th death\": 4, \"Confirmed Cases\": 31.290072100000007}, {\"Days since 10th death\": 5, \"Confirmed Cases\": 41.61579589300001}, {\"Days since 10th death\": 6, \"Confirmed Cases\": 55.34900853769002}, {\"Days since 10th death\": 7, \"Confirmed Cases\": 73.61418135512773}, {\"Days since 10th death\": 8, \"Confirmed Cases\": 97.90686120231989}, {\"Days since 10th death\": 9, \"Confirmed Cases\": 130.21612539908546}, {\"Days since 10th death\": 10, \"Confirmed Cases\": 173.18744678078366}, {\"Days since 10th death\": 11, \"Confirmed Cases\": 230.3393042184423}, {\"Days since 10th death\": 12, \"Confirmed Cases\": 306.35127461052826}, {\"Days since 10th death\": 13, \"Confirmed Cases\": 407.4471952320026}, {\"Days since 10th death\": 14, \"Confirmed Cases\": 541.9047696585635}, {\"Days since 10th death\": 15, \"Confirmed Cases\": 720.7333436458895}, {\"Days since 10th death\": 16, \"Confirmed Cases\": 958.575347049033}, {\"Days since 10th death\": 17, \"Confirmed Cases\": 1274.905211575214}, {\"Days since 10th death\": 18, \"Confirmed Cases\": 1695.6239313950348}, {\"Days since 10th death\": 19, \"Confirmed Cases\": 2255.179828755396}, {\"Days since 10th death\": 20, \"Confirmed Cases\": 2999.3891722446774}, {\"Days since 10th death\": 21, \"Confirmed Cases\": 3989.187599085421}, {\"Days since 10th death\": 22, \"Confirmed Cases\": 5305.61950678361}], \"data-04cd5d3df24cb98c21020b2823a550cc\": [{\"Country\": \"Belgium\", \"Date\": \"2020-03-17T00:00:00\", \"Confirmed Cases\": 10, \"Days since 10th death\": 0}, {\"Country\": \"France\", \"Date\": \"2020-03-07T00:00:00\", \"Confirmed Cases\": 11, \"Days since 10th death\": 0}, {\"Country\": \"France\", \"Date\": \"2020-03-08T00:00:00\", \"Confirmed Cases\": 19, \"Days since 10th death\": 1}, {\"Country\": \"France\", \"Date\": \"2020-03-09T00:00:00\", \"Confirmed Cases\": 19, \"Days since 10th death\": 2}, {\"Country\": \"France\", \"Date\": \"2020-03-10T00:00:00\", \"Confirmed Cases\": 33, \"Days since 10th death\": 3}, {\"Country\": \"France\", \"Date\": \"2020-03-11T00:00:00\", \"Confirmed Cases\": 48, \"Days since 10th death\": 4}, {\"Country\": \"France\", \"Date\": \"2020-03-12T00:00:00\", \"Confirmed Cases\": 48, \"Days since 10th death\": 5}, {\"Country\": \"France\", \"Date\": \"2020-03-13T00:00:00\", \"Confirmed Cases\": 79, \"Days since 10th death\": 6}, {\"Country\": \"France\", \"Date\": \"2020-03-14T00:00:00\", \"Confirmed Cases\": 91, \"Days since 10th death\": 7}, {\"Country\": \"France\", \"Date\": \"2020-03-15T00:00:00\", \"Confirmed Cases\": 91, \"Days since 10th death\": 8}, {\"Country\": \"France\", \"Date\": \"2020-03-16T00:00:00\", \"Confirmed Cases\": 148, \"Days since 10th death\": 9}, {\"Country\": \"France\", \"Date\": \"2020-03-17T00:00:00\", \"Confirmed Cases\": 148, \"Days since 10th death\": 10}, {\"Country\": \"Germany\", \"Date\": \"2020-03-15T00:00:00\", \"Confirmed Cases\": 11, \"Days since 10th death\": 0}, {\"Country\": \"Germany\", \"Date\": \"2020-03-16T00:00:00\", \"Confirmed Cases\": 17, \"Days since 10th death\": 1}, {\"Country\": \"Germany\", \"Date\": \"2020-03-17T00:00:00\", \"Confirmed Cases\": 24, \"Days since 10th death\": 2}, {\"Country\": \"Iran\", \"Date\": \"2020-02-24T00:00:00\", \"Confirmed Cases\": 12, \"Days since 10th death\": 0}, {\"Country\": \"Iran\", \"Date\": \"2020-02-25T00:00:00\", \"Confirmed Cases\": 16, \"Days since 10th death\": 1}, {\"Country\": \"Iran\", \"Date\": \"2020-02-26T00:00:00\", \"Confirmed Cases\": 19, \"Days since 10th death\": 2}, {\"Country\": \"Iran\", \"Date\": \"2020-02-27T00:00:00\", \"Confirmed Cases\": 26, \"Days since 10th death\": 3}, {\"Country\": \"Iran\", \"Date\": \"2020-02-28T00:00:00\", \"Confirmed Cases\": 34, \"Days since 10th death\": 4}, {\"Country\": \"Iran\", \"Date\": \"2020-02-29T00:00:00\", \"Confirmed Cases\": 43, \"Days since 10th death\": 5}, {\"Country\": \"Iran\", \"Date\": \"2020-03-01T00:00:00\", \"Confirmed Cases\": 54, \"Days since 10th death\": 6}, {\"Country\": \"Iran\", \"Date\": \"2020-03-02T00:00:00\", \"Confirmed Cases\": 66, \"Days since 10th death\": 7}, {\"Country\": \"Iran\", \"Date\": \"2020-03-03T00:00:00\", \"Confirmed Cases\": 77, \"Days since 10th death\": 8}, {\"Country\": \"Iran\", \"Date\": \"2020-03-04T00:00:00\", \"Confirmed Cases\": 92, \"Days since 10th death\": 9}, {\"Country\": \"Iran\", \"Date\": \"2020-03-05T00:00:00\", \"Confirmed Cases\": 107, \"Days since 10th death\": 10}, {\"Country\": \"Iran\", \"Date\": \"2020-03-06T00:00:00\", \"Confirmed Cases\": 124, \"Days since 10th death\": 11}, {\"Country\": \"Iran\", \"Date\": \"2020-03-07T00:00:00\", \"Confirmed Cases\": 145, \"Days since 10th death\": 12}, {\"Country\": \"Iran\", \"Date\": \"2020-03-08T00:00:00\", \"Confirmed Cases\": 194, \"Days since 10th death\": 13}, {\"Country\": \"Iran\", \"Date\": \"2020-03-09T00:00:00\", \"Confirmed Cases\": 237, \"Days since 10th death\": 14}, {\"Country\": \"Iran\", \"Date\": \"2020-03-10T00:00:00\", \"Confirmed Cases\": 291, \"Days since 10th death\": 15}, {\"Country\": \"Iran\", \"Date\": \"2020-03-11T00:00:00\", \"Confirmed Cases\": 354, \"Days since 10th death\": 16}, {\"Country\": \"Iran\", \"Date\": \"2020-03-12T00:00:00\", \"Confirmed Cases\": 429, \"Days since 10th death\": 17}, {\"Country\": \"Iran\", \"Date\": \"2020-03-13T00:00:00\", \"Confirmed Cases\": 514, \"Days since 10th death\": 18}, {\"Country\": \"Iran\", \"Date\": \"2020-03-14T00:00:00\", \"Confirmed Cases\": 611, \"Days since 10th death\": 19}, {\"Country\": \"Iran\", \"Date\": \"2020-03-15T00:00:00\", \"Confirmed Cases\": 724, \"Days since 10th death\": 20}, {\"Country\": \"Iran\", \"Date\": \"2020-03-16T00:00:00\", \"Confirmed Cases\": 853, \"Days since 10th death\": 21}, {\"Country\": \"Iran\", \"Date\": \"2020-03-17T00:00:00\", \"Confirmed Cases\": 988, \"Days since 10th death\": 22}, {\"Country\": \"Iraq\", \"Date\": \"2020-03-14T00:00:00\", \"Confirmed Cases\": 10, \"Days since 10th death\": 0}, {\"Country\": \"Iraq\", \"Date\": \"2020-03-15T00:00:00\", \"Confirmed Cases\": 10, \"Days since 10th death\": 1}, {\"Country\": \"Iraq\", \"Date\": \"2020-03-16T00:00:00\", \"Confirmed Cases\": 10, \"Days since 10th death\": 2}, {\"Country\": \"Iraq\", \"Date\": \"2020-03-17T00:00:00\", \"Confirmed Cases\": 11, \"Days since 10th death\": 3}, {\"Country\": \"Italy\", \"Date\": \"2020-02-25T00:00:00\", \"Confirmed Cases\": 10, \"Days since 10th death\": 0}, {\"Country\": \"Italy\", \"Date\": \"2020-02-26T00:00:00\", \"Confirmed Cases\": 12, \"Days since 10th death\": 1}, {\"Country\": \"Italy\", \"Date\": \"2020-02-27T00:00:00\", \"Confirmed Cases\": 17, \"Days since 10th death\": 2}, {\"Country\": \"Italy\", \"Date\": \"2020-02-28T00:00:00\", \"Confirmed Cases\": 21, \"Days since 10th death\": 3}, {\"Country\": \"Italy\", \"Date\": \"2020-02-29T00:00:00\", \"Confirmed Cases\": 29, \"Days since 10th death\": 4}, {\"Country\": \"Italy\", \"Date\": \"2020-03-01T00:00:00\", \"Confirmed Cases\": 34, \"Days since 10th death\": 5}, {\"Country\": \"Italy\", \"Date\": \"2020-03-02T00:00:00\", \"Confirmed Cases\": 52, \"Days since 10th death\": 6}, {\"Country\": \"Italy\", \"Date\": \"2020-03-03T00:00:00\", \"Confirmed Cases\": 79, \"Days since 10th death\": 7}, {\"Country\": \"Italy\", \"Date\": \"2020-03-04T00:00:00\", \"Confirmed Cases\": 107, \"Days since 10th death\": 8}, {\"Country\": \"Italy\", \"Date\": \"2020-03-05T00:00:00\", \"Confirmed Cases\": 148, \"Days since 10th death\": 9}, {\"Country\": \"Italy\", \"Date\": \"2020-03-06T00:00:00\", \"Confirmed Cases\": 197, \"Days since 10th death\": 10}, {\"Country\": \"Italy\", \"Date\": \"2020-03-07T00:00:00\", \"Confirmed Cases\": 233, \"Days since 10th death\": 11}, {\"Country\": \"Italy\", \"Date\": \"2020-03-08T00:00:00\", \"Confirmed Cases\": 366, \"Days since 10th death\": 12}, {\"Country\": \"Italy\", \"Date\": \"2020-03-09T00:00:00\", \"Confirmed Cases\": 463, \"Days since 10th death\": 13}, {\"Country\": \"Italy\", \"Date\": \"2020-03-10T00:00:00\", \"Confirmed Cases\": 631, \"Days since 10th death\": 14}, {\"Country\": \"Italy\", \"Date\": \"2020-03-11T00:00:00\", \"Confirmed Cases\": 827, \"Days since 10th death\": 15}, {\"Country\": \"Italy\", \"Date\": \"2020-03-12T00:00:00\", \"Confirmed Cases\": 827, \"Days since 10th death\": 16}, {\"Country\": \"Italy\", \"Date\": \"2020-03-13T00:00:00\", \"Confirmed Cases\": 1266, \"Days since 10th death\": 17}, {\"Country\": \"Italy\", \"Date\": \"2020-03-14T00:00:00\", \"Confirmed Cases\": 1441, \"Days since 10th death\": 18}, {\"Country\": \"Italy\", \"Date\": \"2020-03-15T00:00:00\", \"Confirmed Cases\": 1809, \"Days since 10th death\": 19}, {\"Country\": \"Italy\", \"Date\": \"2020-03-16T00:00:00\", \"Confirmed Cases\": 2158, \"Days since 10th death\": 20}, {\"Country\": \"Italy\", \"Date\": \"2020-03-17T00:00:00\", \"Confirmed Cases\": 2503, \"Days since 10th death\": 21}, {\"Country\": \"Japan\", \"Date\": \"2020-03-09T00:00:00\", \"Confirmed Cases\": 10, \"Days since 10th death\": 0}, {\"Country\": \"Japan\", \"Date\": \"2020-03-10T00:00:00\", \"Confirmed Cases\": 10, \"Days since 10th death\": 1}, {\"Country\": \"Japan\", \"Date\": \"2020-03-11T00:00:00\", \"Confirmed Cases\": 15, \"Days since 10th death\": 2}, {\"Country\": \"Japan\", \"Date\": \"2020-03-12T00:00:00\", \"Confirmed Cases\": 16, \"Days since 10th death\": 3}, {\"Country\": \"Japan\", \"Date\": \"2020-03-13T00:00:00\", \"Confirmed Cases\": 19, \"Days since 10th death\": 4}, {\"Country\": \"Japan\", \"Date\": \"2020-03-14T00:00:00\", \"Confirmed Cases\": 22, \"Days since 10th death\": 5}, {\"Country\": \"Japan\", \"Date\": \"2020-03-15T00:00:00\", \"Confirmed Cases\": 22, \"Days since 10th death\": 6}, {\"Country\": \"Japan\", \"Date\": \"2020-03-16T00:00:00\", \"Confirmed Cases\": 27, \"Days since 10th death\": 7}, {\"Country\": \"Japan\", \"Date\": \"2020-03-17T00:00:00\", \"Confirmed Cases\": 29, \"Days since 10th death\": 8}, {\"Country\": \"Netherlands\", \"Date\": \"2020-03-13T00:00:00\", \"Confirmed Cases\": 10, \"Days since 10th death\": 0}, {\"Country\": \"Netherlands\", \"Date\": \"2020-03-14T00:00:00\", \"Confirmed Cases\": 12, \"Days since 10th death\": 1}, {\"Country\": \"Netherlands\", \"Date\": \"2020-03-15T00:00:00\", \"Confirmed Cases\": 20, \"Days since 10th death\": 2}, {\"Country\": \"Netherlands\", \"Date\": \"2020-03-16T00:00:00\", \"Confirmed Cases\": 24, \"Days since 10th death\": 3}, {\"Country\": \"Netherlands\", \"Date\": \"2020-03-17T00:00:00\", \"Confirmed Cases\": 43, \"Days since 10th death\": 4}, {\"Country\": \"Philippines\", \"Date\": \"2020-03-15T00:00:00\", \"Confirmed Cases\": 11, \"Days since 10th death\": 0}, {\"Country\": \"Philippines\", \"Date\": \"2020-03-16T00:00:00\", \"Confirmed Cases\": 12, \"Days since 10th death\": 1}, {\"Country\": \"Philippines\", \"Date\": \"2020-03-17T00:00:00\", \"Confirmed Cases\": 12, \"Days since 10th death\": 2}, {\"Country\": \"South Korea\", \"Date\": \"2020-02-25T00:00:00\", \"Confirmed Cases\": 10, \"Days since 10th death\": 0}, {\"Country\": \"South Korea\", \"Date\": \"2020-02-26T00:00:00\", \"Confirmed Cases\": 12, \"Days since 10th death\": 1}, {\"Country\": \"South Korea\", \"Date\": \"2020-02-27T00:00:00\", \"Confirmed Cases\": 13, \"Days since 10th death\": 2}, {\"Country\": \"South Korea\", \"Date\": \"2020-02-28T00:00:00\", \"Confirmed Cases\": 13, \"Days since 10th death\": 3}, {\"Country\": \"South Korea\", \"Date\": \"2020-02-29T00:00:00\", \"Confirmed Cases\": 16, \"Days since 10th death\": 4}, {\"Country\": \"South Korea\", \"Date\": \"2020-03-01T00:00:00\", \"Confirmed Cases\": 17, \"Days since 10th death\": 5}, {\"Country\": \"South Korea\", \"Date\": \"2020-03-02T00:00:00\", \"Confirmed Cases\": 28, \"Days since 10th death\": 6}, {\"Country\": \"South Korea\", \"Date\": \"2020-03-03T00:00:00\", \"Confirmed Cases\": 28, \"Days since 10th death\": 7}, {\"Country\": \"South Korea\", \"Date\": \"2020-03-04T00:00:00\", \"Confirmed Cases\": 35, \"Days since 10th death\": 8}, {\"Country\": \"South Korea\", \"Date\": \"2020-03-05T00:00:00\", \"Confirmed Cases\": 35, \"Days since 10th death\": 9}, {\"Country\": \"South Korea\", \"Date\": \"2020-03-06T00:00:00\", \"Confirmed Cases\": 42, \"Days since 10th death\": 10}, {\"Country\": \"South Korea\", \"Date\": \"2020-03-07T00:00:00\", \"Confirmed Cases\": 44, \"Days since 10th death\": 11}, {\"Country\": \"South Korea\", \"Date\": \"2020-03-08T00:00:00\", \"Confirmed Cases\": 50, \"Days since 10th death\": 12}, {\"Country\": \"South Korea\", \"Date\": \"2020-03-09T00:00:00\", \"Confirmed Cases\": 53, \"Days since 10th death\": 13}, {\"Country\": \"South Korea\", \"Date\": \"2020-03-10T00:00:00\", \"Confirmed Cases\": 54, \"Days since 10th death\": 14}, {\"Country\": \"South Korea\", \"Date\": \"2020-03-11T00:00:00\", \"Confirmed Cases\": 60, \"Days since 10th death\": 15}, {\"Country\": \"South Korea\", \"Date\": \"2020-03-12T00:00:00\", \"Confirmed Cases\": 66, \"Days since 10th death\": 16}, {\"Country\": \"South Korea\", \"Date\": \"2020-03-13T00:00:00\", \"Confirmed Cases\": 66, \"Days since 10th death\": 17}, {\"Country\": \"South Korea\", \"Date\": \"2020-03-14T00:00:00\", \"Confirmed Cases\": 72, \"Days since 10th death\": 18}, {\"Country\": \"South Korea\", \"Date\": \"2020-03-15T00:00:00\", \"Confirmed Cases\": 75, \"Days since 10th death\": 19}, {\"Country\": \"South Korea\", \"Date\": \"2020-03-16T00:00:00\", \"Confirmed Cases\": 75, \"Days since 10th death\": 20}, {\"Country\": \"South Korea\", \"Date\": \"2020-03-17T00:00:00\", \"Confirmed Cases\": 81, \"Days since 10th death\": 21}, {\"Country\": \"Spain\", \"Date\": \"2020-03-07T00:00:00\", \"Confirmed Cases\": 10, \"Days since 10th death\": 0}, {\"Country\": \"Spain\", \"Date\": \"2020-03-08T00:00:00\", \"Confirmed Cases\": 17, \"Days since 10th death\": 1}, {\"Country\": \"Spain\", \"Date\": \"2020-03-09T00:00:00\", \"Confirmed Cases\": 28, \"Days since 10th death\": 2}, {\"Country\": \"Spain\", \"Date\": \"2020-03-10T00:00:00\", \"Confirmed Cases\": 35, \"Days since 10th death\": 3}, {\"Country\": \"Spain\", \"Date\": \"2020-03-11T00:00:00\", \"Confirmed Cases\": 54, \"Days since 10th death\": 4}, {\"Country\": \"Spain\", \"Date\": \"2020-03-12T00:00:00\", \"Confirmed Cases\": 55, \"Days since 10th death\": 5}, {\"Country\": \"Spain\", \"Date\": \"2020-03-13T00:00:00\", \"Confirmed Cases\": 133, \"Days since 10th death\": 6}, {\"Country\": \"Spain\", \"Date\": \"2020-03-14T00:00:00\", \"Confirmed Cases\": 195, \"Days since 10th death\": 7}, {\"Country\": \"Spain\", \"Date\": \"2020-03-15T00:00:00\", \"Confirmed Cases\": 289, \"Days since 10th death\": 8}, {\"Country\": \"Spain\", \"Date\": \"2020-03-16T00:00:00\", \"Confirmed Cases\": 342, \"Days since 10th death\": 9}, {\"Country\": \"Spain\", \"Date\": \"2020-03-17T00:00:00\", \"Confirmed Cases\": 533, \"Days since 10th death\": 10}, {\"Country\": \"Switzerland\", \"Date\": \"2020-03-13T00:00:00\", \"Confirmed Cases\": 11, \"Days since 10th death\": 0}, {\"Country\": \"Switzerland\", \"Date\": \"2020-03-14T00:00:00\", \"Confirmed Cases\": 13, \"Days since 10th death\": 1}, {\"Country\": \"Switzerland\", \"Date\": \"2020-03-15T00:00:00\", \"Confirmed Cases\": 14, \"Days since 10th death\": 2}, {\"Country\": \"Switzerland\", \"Date\": \"2020-03-16T00:00:00\", \"Confirmed Cases\": 14, \"Days since 10th death\": 3}, {\"Country\": \"Switzerland\", \"Date\": \"2020-03-17T00:00:00\", \"Confirmed Cases\": 27, \"Days since 10th death\": 4}, {\"Country\": \"US\", \"Date\": \"2020-03-04T00:00:00\", \"Confirmed Cases\": 11, \"Days since 10th death\": 0}, {\"Country\": \"US\", \"Date\": \"2020-03-05T00:00:00\", \"Confirmed Cases\": 12, \"Days since 10th death\": 1}, {\"Country\": \"US\", \"Date\": \"2020-03-06T00:00:00\", \"Confirmed Cases\": 14, \"Days since 10th death\": 2}, {\"Country\": \"US\", \"Date\": \"2020-03-07T00:00:00\", \"Confirmed Cases\": 17, \"Days since 10th death\": 3}, {\"Country\": \"US\", \"Date\": \"2020-03-08T00:00:00\", \"Confirmed Cases\": 21, \"Days since 10th death\": 4}, {\"Country\": \"US\", \"Date\": \"2020-03-09T00:00:00\", \"Confirmed Cases\": 22, \"Days since 10th death\": 5}, {\"Country\": \"US\", \"Date\": \"2020-03-10T00:00:00\", \"Confirmed Cases\": 28, \"Days since 10th death\": 6}, {\"Country\": \"US\", \"Date\": \"2020-03-11T00:00:00\", \"Confirmed Cases\": 36, \"Days since 10th death\": 7}, {\"Country\": \"US\", \"Date\": \"2020-03-12T00:00:00\", \"Confirmed Cases\": 40, \"Days since 10th death\": 8}, {\"Country\": \"US\", \"Date\": \"2020-03-13T00:00:00\", \"Confirmed Cases\": 47, \"Days since 10th death\": 9}, {\"Country\": \"US\", \"Date\": \"2020-03-14T00:00:00\", \"Confirmed Cases\": 54, \"Days since 10th death\": 10}, {\"Country\": \"US\", \"Date\": \"2020-03-15T00:00:00\", \"Confirmed Cases\": 63, \"Days since 10th death\": 11}, {\"Country\": \"US\", \"Date\": \"2020-03-16T00:00:00\", \"Confirmed Cases\": 85, \"Days since 10th death\": 12}, {\"Country\": \"US\", \"Date\": \"2020-03-17T00:00:00\", \"Confirmed Cases\": 108, \"Days since 10th death\": 13}, {\"Country\": \"United Kingdom\", \"Date\": \"2020-03-14T00:00:00\", \"Confirmed Cases\": 21, \"Days since 10th death\": 0}, {\"Country\": \"United Kingdom\", \"Date\": \"2020-03-15T00:00:00\", \"Confirmed Cases\": 21, \"Days since 10th death\": 1}, {\"Country\": \"United Kingdom\", \"Date\": \"2020-03-16T00:00:00\", \"Confirmed Cases\": 56, \"Days since 10th death\": 2}, {\"Country\": \"United Kingdom\", \"Date\": \"2020-03-17T00:00:00\", \"Confirmed Cases\": 56, \"Days since 10th death\": 3}]}}, {\"mode\": \"vega-lite\"});\n",
       "</script>"
      ],
      "text/plain": [
       "alt.LayerChart(...)"
      ]
     },
     "execution_count": 11,
     "metadata": {},
     "output_type": "execute_result"
    }
   ],
   "source": [
    "#hide_input\n",
    "chart3 = make_since_chart(['US', 'France'])\n",
    "chart3"
   ]
  },
  {
   "cell_type": "code",
   "execution_count": 12,
   "metadata": {
    "papermill": {
     "duration": 0.102225,
     "end_time": "2020-03-18T14:03:42.629646",
     "exception": false,
     "start_time": "2020-03-18T14:03:42.527421",
     "status": "completed"
    },
    "tags": []
   },
   "outputs": [
    {
     "data": {
      "text/html": [
       "\n",
       "<div id=\"altair-viz-e6285b78b1e748618795ade9235d4783\"></div>\n",
       "<script type=\"text/javascript\">\n",
       "  (function(spec, embedOpt){\n",
       "    const outputDiv = document.getElementById(\"altair-viz-e6285b78b1e748618795ade9235d4783\");\n",
       "    const paths = {\n",
       "      \"vega\": \"https://cdn.jsdelivr.net/npm//vega@5?noext\",\n",
       "      \"vega-lib\": \"https://cdn.jsdelivr.net/npm//vega-lib?noext\",\n",
       "      \"vega-lite\": \"https://cdn.jsdelivr.net/npm//vega-lite@4.0.2?noext\",\n",
       "      \"vega-embed\": \"https://cdn.jsdelivr.net/npm//vega-embed@6?noext\",\n",
       "    };\n",
       "\n",
       "    function loadScript(lib) {\n",
       "      return new Promise(function(resolve, reject) {\n",
       "        var s = document.createElement('script');\n",
       "        s.src = paths[lib];\n",
       "        s.async = true;\n",
       "        s.onload = () => resolve(paths[lib]);\n",
       "        s.onerror = () => reject(`Error loading script: ${paths[lib]}`);\n",
       "        document.getElementsByTagName(\"head\")[0].appendChild(s);\n",
       "      });\n",
       "    }\n",
       "\n",
       "    function showError(err) {\n",
       "      outputDiv.innerHTML = `<div class=\"error\" style=\"color:red;\">${err}</div>`;\n",
       "      throw err;\n",
       "    }\n",
       "\n",
       "    function displayChart(vegaEmbed) {\n",
       "      vegaEmbed(outputDiv, spec, embedOpt)\n",
       "        .catch(err => showError(`Javascript Error: ${err.message}<br>This usually means there's a typo in your chart specification. See the javascript console for the full traceback.`));\n",
       "    }\n",
       "\n",
       "    if(typeof define === \"function\" && define.amd) {\n",
       "      requirejs.config({paths});\n",
       "      require([\"vega-embed\"], displayChart, err => showError(`Error loading script: ${err.message}`));\n",
       "    } else if (typeof vegaEmbed === \"function\") {\n",
       "      displayChart(vegaEmbed);\n",
       "    } else {\n",
       "      loadScript(\"vega\")\n",
       "        .then(() => loadScript(\"vega-lite\"))\n",
       "        .then(() => loadScript(\"vega-embed\"))\n",
       "        .catch(showError)\n",
       "        .then(() => displayChart(vegaEmbed));\n",
       "    }\n",
       "  })({\"config\": {\"view\": {\"continuousWidth\": 400, \"continuousHeight\": 300}}, \"layer\": [{\"mark\": {\"type\": \"line\", \"color\": \"black\", \"opacity\": 0.5, \"strokeDash\": [3, 3]}, \"encoding\": {\"x\": {\"type\": \"quantitative\", \"field\": \"Days since 10th death\"}, \"y\": {\"type\": \"quantitative\", \"field\": \"Confirmed Cases\"}}}, {\"mark\": {\"type\": \"text\", \"align\": \"right\", \"dy\": -6, \"fontSize\": 10, \"text\": \"33% Daily Growth\"}, \"encoding\": {\"x\": {\"type\": \"quantitative\", \"field\": \"Days since 10th death\"}, \"y\": {\"type\": \"quantitative\", \"field\": \"Confirmed Cases\"}}, \"transform\": [{\"filter\": \"(datum['Days since 10th death'] >= 22)\"}]}, {\"data\": {\"name\": \"data-04cd5d3df24cb98c21020b2823a550cc\"}, \"mark\": {\"type\": \"line\", \"point\": true}, \"encoding\": {\"color\": {\"type\": \"nominal\", \"field\": \"Country\", \"scale\": {\"domain\": [\"Belgium\", \"France\", \"Germany\", \"Iran\", \"Iraq\", \"Italy\", \"Japan\", \"Netherlands\", \"Philippines\", \"South Korea\", \"Spain\", \"Switzerland\", \"US\", \"United Kingdom\"], \"range\": [\"#C1B7AD\", \"#F58518\", \"#9D755D\", \"#A1BA59\", \"#C1B7AD\", \"black\", \"#9467bd\", \"#C1B7AD\", \"#C1B7AD\", \"#E45756\", \"#F58518\", \"#9D755D\", \"#2495D3\", \"#2495D3\"]}}, \"opacity\": {\"condition\": {\"value\": 1, \"selection\": \"selector004\"}, \"value\": 0.05}, \"tooltip\": [{\"type\": \"nominal\", \"field\": \"Country\"}, {\"type\": \"temporal\", \"field\": \"Date\"}, {\"type\": \"quantitative\", \"field\": \"Confirmed Cases\"}, {\"type\": \"quantitative\", \"field\": \"Days since 10th death\"}], \"x\": {\"type\": \"quantitative\", \"field\": \"Days since 10th death\"}, \"y\": {\"type\": \"quantitative\", \"axis\": {\"title\": \"Cumulative Deaths\"}, \"field\": \"Confirmed Cases\", \"scale\": {\"type\": \"log\"}}}, \"selection\": {\"selector004\": {\"type\": \"multi\", \"fields\": [\"Country\"], \"bind\": \"legend\", \"init\": [{\"Country\": \"Germany\"}, {\"Country\": \"United Kingdom\"}, {\"Country\": \"Italy\"}, {\"Country\": \"South Korea\"}, {\"Country\": \"Japan\"}]}}, \"width\": 550}, {\"data\": {\"name\": \"data-04cd5d3df24cb98c21020b2823a550cc\"}, \"mark\": {\"type\": \"text\", \"align\": \"right\", \"dy\": -8, \"fontWeight\": \"bold\"}, \"encoding\": {\"color\": {\"type\": \"nominal\", \"field\": \"Country\", \"scale\": {\"domain\": [\"Belgium\", \"France\", \"Germany\", \"Iran\", \"Iraq\", \"Italy\", \"Japan\", \"Netherlands\", \"Philippines\", \"South Korea\", \"Spain\", \"Switzerland\", \"US\", \"United Kingdom\"], \"range\": [\"#C1B7AD\", \"#F58518\", \"#9D755D\", \"#A1BA59\", \"#C1B7AD\", \"black\", \"#9467bd\", \"#C1B7AD\", \"#C1B7AD\", \"#E45756\", \"#F58518\", \"#9D755D\", \"#2495D3\", \"#2495D3\"]}}, \"opacity\": {\"condition\": {\"value\": 1, \"selection\": \"selector004\"}, \"value\": 0.05}, \"text\": {\"type\": \"nominal\", \"field\": \"Country\"}, \"tooltip\": [{\"type\": \"nominal\", \"field\": \"Country\"}, {\"type\": \"temporal\", \"field\": \"Date\"}, {\"type\": \"quantitative\", \"field\": \"Confirmed Cases\"}, {\"type\": \"quantitative\", \"field\": \"Days since 10th death\"}], \"x\": {\"type\": \"quantitative\", \"field\": \"Days since 10th death\"}, \"y\": {\"type\": \"quantitative\", \"axis\": {\"title\": \"Cumulative Deaths\"}, \"field\": \"Confirmed Cases\", \"scale\": {\"type\": \"log\"}}}, \"transform\": [{\"filter\": \"(datum['Date'] >= 1584403200000)\"}], \"width\": 550}], \"data\": {\"name\": \"data-2d24e28df5dc7eb169e5bf67ded7e642\"}, \"title\": \"Compare Germany, United Kingdom death trajectory with Italy, South Korea, Japan\", \"$schema\": \"https://vega.github.io/schema/vega-lite/v4.0.2.json\", \"datasets\": {\"data-2d24e28df5dc7eb169e5bf67ded7e642\": [{\"Days since 10th death\": 0, \"Confirmed Cases\": 10.0}, {\"Days since 10th death\": 1, \"Confirmed Cases\": 13.3}, {\"Days since 10th death\": 2, \"Confirmed Cases\": 17.689}, {\"Days since 10th death\": 3, \"Confirmed Cases\": 23.526370000000007}, {\"Days since 10th death\": 4, \"Confirmed Cases\": 31.290072100000007}, {\"Days since 10th death\": 5, \"Confirmed Cases\": 41.61579589300001}, {\"Days since 10th death\": 6, \"Confirmed Cases\": 55.34900853769002}, {\"Days since 10th death\": 7, \"Confirmed Cases\": 73.61418135512773}, {\"Days since 10th death\": 8, \"Confirmed Cases\": 97.90686120231989}, {\"Days since 10th death\": 9, \"Confirmed Cases\": 130.21612539908546}, {\"Days since 10th death\": 10, \"Confirmed Cases\": 173.18744678078366}, {\"Days since 10th death\": 11, \"Confirmed Cases\": 230.3393042184423}, {\"Days since 10th death\": 12, \"Confirmed Cases\": 306.35127461052826}, {\"Days since 10th death\": 13, \"Confirmed Cases\": 407.4471952320026}, {\"Days since 10th death\": 14, \"Confirmed Cases\": 541.9047696585635}, {\"Days since 10th death\": 15, \"Confirmed Cases\": 720.7333436458895}, {\"Days since 10th death\": 16, \"Confirmed Cases\": 958.575347049033}, {\"Days since 10th death\": 17, \"Confirmed Cases\": 1274.905211575214}, {\"Days since 10th death\": 18, \"Confirmed Cases\": 1695.6239313950348}, {\"Days since 10th death\": 19, \"Confirmed Cases\": 2255.179828755396}, {\"Days since 10th death\": 20, \"Confirmed Cases\": 2999.3891722446774}, {\"Days since 10th death\": 21, \"Confirmed Cases\": 3989.187599085421}, {\"Days since 10th death\": 22, \"Confirmed Cases\": 5305.61950678361}], \"data-04cd5d3df24cb98c21020b2823a550cc\": [{\"Country\": \"Belgium\", \"Date\": \"2020-03-17T00:00:00\", \"Confirmed Cases\": 10, \"Days since 10th death\": 0}, {\"Country\": \"France\", \"Date\": \"2020-03-07T00:00:00\", \"Confirmed Cases\": 11, \"Days since 10th death\": 0}, {\"Country\": \"France\", \"Date\": \"2020-03-08T00:00:00\", \"Confirmed Cases\": 19, \"Days since 10th death\": 1}, {\"Country\": \"France\", \"Date\": \"2020-03-09T00:00:00\", \"Confirmed Cases\": 19, \"Days since 10th death\": 2}, {\"Country\": \"France\", \"Date\": \"2020-03-10T00:00:00\", \"Confirmed Cases\": 33, \"Days since 10th death\": 3}, {\"Country\": \"France\", \"Date\": \"2020-03-11T00:00:00\", \"Confirmed Cases\": 48, \"Days since 10th death\": 4}, {\"Country\": \"France\", \"Date\": \"2020-03-12T00:00:00\", \"Confirmed Cases\": 48, \"Days since 10th death\": 5}, {\"Country\": \"France\", \"Date\": \"2020-03-13T00:00:00\", \"Confirmed Cases\": 79, \"Days since 10th death\": 6}, {\"Country\": \"France\", \"Date\": \"2020-03-14T00:00:00\", \"Confirmed Cases\": 91, \"Days since 10th death\": 7}, {\"Country\": \"France\", \"Date\": \"2020-03-15T00:00:00\", \"Confirmed Cases\": 91, \"Days since 10th death\": 8}, {\"Country\": \"France\", \"Date\": \"2020-03-16T00:00:00\", \"Confirmed Cases\": 148, \"Days since 10th death\": 9}, {\"Country\": \"France\", \"Date\": \"2020-03-17T00:00:00\", \"Confirmed Cases\": 148, \"Days since 10th death\": 10}, {\"Country\": \"Germany\", \"Date\": \"2020-03-15T00:00:00\", \"Confirmed Cases\": 11, \"Days since 10th death\": 0}, {\"Country\": \"Germany\", \"Date\": \"2020-03-16T00:00:00\", \"Confirmed Cases\": 17, \"Days since 10th death\": 1}, {\"Country\": \"Germany\", \"Date\": \"2020-03-17T00:00:00\", \"Confirmed Cases\": 24, \"Days since 10th death\": 2}, {\"Country\": \"Iran\", \"Date\": \"2020-02-24T00:00:00\", \"Confirmed Cases\": 12, \"Days since 10th death\": 0}, {\"Country\": \"Iran\", \"Date\": \"2020-02-25T00:00:00\", \"Confirmed Cases\": 16, \"Days since 10th death\": 1}, {\"Country\": \"Iran\", \"Date\": \"2020-02-26T00:00:00\", \"Confirmed Cases\": 19, \"Days since 10th death\": 2}, {\"Country\": \"Iran\", \"Date\": \"2020-02-27T00:00:00\", \"Confirmed Cases\": 26, \"Days since 10th death\": 3}, {\"Country\": \"Iran\", \"Date\": \"2020-02-28T00:00:00\", \"Confirmed Cases\": 34, \"Days since 10th death\": 4}, {\"Country\": \"Iran\", \"Date\": \"2020-02-29T00:00:00\", \"Confirmed Cases\": 43, \"Days since 10th death\": 5}, {\"Country\": \"Iran\", \"Date\": \"2020-03-01T00:00:00\", \"Confirmed Cases\": 54, \"Days since 10th death\": 6}, {\"Country\": \"Iran\", \"Date\": \"2020-03-02T00:00:00\", \"Confirmed Cases\": 66, \"Days since 10th death\": 7}, {\"Country\": \"Iran\", \"Date\": \"2020-03-03T00:00:00\", \"Confirmed Cases\": 77, \"Days since 10th death\": 8}, {\"Country\": \"Iran\", \"Date\": \"2020-03-04T00:00:00\", \"Confirmed Cases\": 92, \"Days since 10th death\": 9}, {\"Country\": \"Iran\", \"Date\": \"2020-03-05T00:00:00\", \"Confirmed Cases\": 107, \"Days since 10th death\": 10}, {\"Country\": \"Iran\", \"Date\": \"2020-03-06T00:00:00\", \"Confirmed Cases\": 124, \"Days since 10th death\": 11}, {\"Country\": \"Iran\", \"Date\": \"2020-03-07T00:00:00\", \"Confirmed Cases\": 145, \"Days since 10th death\": 12}, {\"Country\": \"Iran\", \"Date\": \"2020-03-08T00:00:00\", \"Confirmed Cases\": 194, \"Days since 10th death\": 13}, {\"Country\": \"Iran\", \"Date\": \"2020-03-09T00:00:00\", \"Confirmed Cases\": 237, \"Days since 10th death\": 14}, {\"Country\": \"Iran\", \"Date\": \"2020-03-10T00:00:00\", \"Confirmed Cases\": 291, \"Days since 10th death\": 15}, {\"Country\": \"Iran\", \"Date\": \"2020-03-11T00:00:00\", \"Confirmed Cases\": 354, \"Days since 10th death\": 16}, {\"Country\": \"Iran\", \"Date\": \"2020-03-12T00:00:00\", \"Confirmed Cases\": 429, \"Days since 10th death\": 17}, {\"Country\": \"Iran\", \"Date\": \"2020-03-13T00:00:00\", \"Confirmed Cases\": 514, \"Days since 10th death\": 18}, {\"Country\": \"Iran\", \"Date\": \"2020-03-14T00:00:00\", \"Confirmed Cases\": 611, \"Days since 10th death\": 19}, {\"Country\": \"Iran\", \"Date\": \"2020-03-15T00:00:00\", \"Confirmed Cases\": 724, \"Days since 10th death\": 20}, {\"Country\": \"Iran\", \"Date\": \"2020-03-16T00:00:00\", \"Confirmed Cases\": 853, \"Days since 10th death\": 21}, {\"Country\": \"Iran\", \"Date\": \"2020-03-17T00:00:00\", \"Confirmed Cases\": 988, \"Days since 10th death\": 22}, {\"Country\": \"Iraq\", \"Date\": \"2020-03-14T00:00:00\", \"Confirmed Cases\": 10, \"Days since 10th death\": 0}, {\"Country\": \"Iraq\", \"Date\": \"2020-03-15T00:00:00\", \"Confirmed Cases\": 10, \"Days since 10th death\": 1}, {\"Country\": \"Iraq\", \"Date\": \"2020-03-16T00:00:00\", \"Confirmed Cases\": 10, \"Days since 10th death\": 2}, {\"Country\": \"Iraq\", \"Date\": \"2020-03-17T00:00:00\", \"Confirmed Cases\": 11, \"Days since 10th death\": 3}, {\"Country\": \"Italy\", \"Date\": \"2020-02-25T00:00:00\", \"Confirmed Cases\": 10, \"Days since 10th death\": 0}, {\"Country\": \"Italy\", \"Date\": \"2020-02-26T00:00:00\", \"Confirmed Cases\": 12, \"Days since 10th death\": 1}, {\"Country\": \"Italy\", \"Date\": \"2020-02-27T00:00:00\", \"Confirmed Cases\": 17, \"Days since 10th death\": 2}, {\"Country\": \"Italy\", \"Date\": \"2020-02-28T00:00:00\", \"Confirmed Cases\": 21, \"Days since 10th death\": 3}, {\"Country\": \"Italy\", \"Date\": \"2020-02-29T00:00:00\", \"Confirmed Cases\": 29, \"Days since 10th death\": 4}, {\"Country\": \"Italy\", \"Date\": \"2020-03-01T00:00:00\", \"Confirmed Cases\": 34, \"Days since 10th death\": 5}, {\"Country\": \"Italy\", \"Date\": \"2020-03-02T00:00:00\", \"Confirmed Cases\": 52, \"Days since 10th death\": 6}, {\"Country\": \"Italy\", \"Date\": \"2020-03-03T00:00:00\", \"Confirmed Cases\": 79, \"Days since 10th death\": 7}, {\"Country\": \"Italy\", \"Date\": \"2020-03-04T00:00:00\", \"Confirmed Cases\": 107, \"Days since 10th death\": 8}, {\"Country\": \"Italy\", \"Date\": \"2020-03-05T00:00:00\", \"Confirmed Cases\": 148, \"Days since 10th death\": 9}, {\"Country\": \"Italy\", \"Date\": \"2020-03-06T00:00:00\", \"Confirmed Cases\": 197, \"Days since 10th death\": 10}, {\"Country\": \"Italy\", \"Date\": \"2020-03-07T00:00:00\", \"Confirmed Cases\": 233, \"Days since 10th death\": 11}, {\"Country\": \"Italy\", \"Date\": \"2020-03-08T00:00:00\", \"Confirmed Cases\": 366, \"Days since 10th death\": 12}, {\"Country\": \"Italy\", \"Date\": \"2020-03-09T00:00:00\", \"Confirmed Cases\": 463, \"Days since 10th death\": 13}, {\"Country\": \"Italy\", \"Date\": \"2020-03-10T00:00:00\", \"Confirmed Cases\": 631, \"Days since 10th death\": 14}, {\"Country\": \"Italy\", \"Date\": \"2020-03-11T00:00:00\", \"Confirmed Cases\": 827, \"Days since 10th death\": 15}, {\"Country\": \"Italy\", \"Date\": \"2020-03-12T00:00:00\", \"Confirmed Cases\": 827, \"Days since 10th death\": 16}, {\"Country\": \"Italy\", \"Date\": \"2020-03-13T00:00:00\", \"Confirmed Cases\": 1266, \"Days since 10th death\": 17}, {\"Country\": \"Italy\", \"Date\": \"2020-03-14T00:00:00\", \"Confirmed Cases\": 1441, \"Days since 10th death\": 18}, {\"Country\": \"Italy\", \"Date\": \"2020-03-15T00:00:00\", \"Confirmed Cases\": 1809, \"Days since 10th death\": 19}, {\"Country\": \"Italy\", \"Date\": \"2020-03-16T00:00:00\", \"Confirmed Cases\": 2158, \"Days since 10th death\": 20}, {\"Country\": \"Italy\", \"Date\": \"2020-03-17T00:00:00\", \"Confirmed Cases\": 2503, \"Days since 10th death\": 21}, {\"Country\": \"Japan\", \"Date\": \"2020-03-09T00:00:00\", \"Confirmed Cases\": 10, \"Days since 10th death\": 0}, {\"Country\": \"Japan\", \"Date\": \"2020-03-10T00:00:00\", \"Confirmed Cases\": 10, \"Days since 10th death\": 1}, {\"Country\": \"Japan\", \"Date\": \"2020-03-11T00:00:00\", \"Confirmed Cases\": 15, \"Days since 10th death\": 2}, {\"Country\": \"Japan\", \"Date\": \"2020-03-12T00:00:00\", \"Confirmed Cases\": 16, \"Days since 10th death\": 3}, {\"Country\": \"Japan\", \"Date\": \"2020-03-13T00:00:00\", \"Confirmed Cases\": 19, \"Days since 10th death\": 4}, {\"Country\": \"Japan\", \"Date\": \"2020-03-14T00:00:00\", \"Confirmed Cases\": 22, \"Days since 10th death\": 5}, {\"Country\": \"Japan\", \"Date\": \"2020-03-15T00:00:00\", \"Confirmed Cases\": 22, \"Days since 10th death\": 6}, {\"Country\": \"Japan\", \"Date\": \"2020-03-16T00:00:00\", \"Confirmed Cases\": 27, \"Days since 10th death\": 7}, {\"Country\": \"Japan\", \"Date\": \"2020-03-17T00:00:00\", \"Confirmed Cases\": 29, \"Days since 10th death\": 8}, {\"Country\": \"Netherlands\", \"Date\": \"2020-03-13T00:00:00\", \"Confirmed Cases\": 10, \"Days since 10th death\": 0}, {\"Country\": \"Netherlands\", \"Date\": \"2020-03-14T00:00:00\", \"Confirmed Cases\": 12, \"Days since 10th death\": 1}, {\"Country\": \"Netherlands\", \"Date\": \"2020-03-15T00:00:00\", \"Confirmed Cases\": 20, \"Days since 10th death\": 2}, {\"Country\": \"Netherlands\", \"Date\": \"2020-03-16T00:00:00\", \"Confirmed Cases\": 24, \"Days since 10th death\": 3}, {\"Country\": \"Netherlands\", \"Date\": \"2020-03-17T00:00:00\", \"Confirmed Cases\": 43, \"Days since 10th death\": 4}, {\"Country\": \"Philippines\", \"Date\": \"2020-03-15T00:00:00\", \"Confirmed Cases\": 11, \"Days since 10th death\": 0}, {\"Country\": \"Philippines\", \"Date\": \"2020-03-16T00:00:00\", \"Confirmed Cases\": 12, \"Days since 10th death\": 1}, {\"Country\": \"Philippines\", \"Date\": \"2020-03-17T00:00:00\", \"Confirmed Cases\": 12, \"Days since 10th death\": 2}, {\"Country\": \"South Korea\", \"Date\": \"2020-02-25T00:00:00\", \"Confirmed Cases\": 10, \"Days since 10th death\": 0}, {\"Country\": \"South Korea\", \"Date\": \"2020-02-26T00:00:00\", \"Confirmed Cases\": 12, \"Days since 10th death\": 1}, {\"Country\": \"South Korea\", \"Date\": \"2020-02-27T00:00:00\", \"Confirmed Cases\": 13, \"Days since 10th death\": 2}, {\"Country\": \"South Korea\", \"Date\": \"2020-02-28T00:00:00\", \"Confirmed Cases\": 13, \"Days since 10th death\": 3}, {\"Country\": \"South Korea\", \"Date\": \"2020-02-29T00:00:00\", \"Confirmed Cases\": 16, \"Days since 10th death\": 4}, {\"Country\": \"South Korea\", \"Date\": \"2020-03-01T00:00:00\", \"Confirmed Cases\": 17, \"Days since 10th death\": 5}, {\"Country\": \"South Korea\", \"Date\": \"2020-03-02T00:00:00\", \"Confirmed Cases\": 28, \"Days since 10th death\": 6}, {\"Country\": \"South Korea\", \"Date\": \"2020-03-03T00:00:00\", \"Confirmed Cases\": 28, \"Days since 10th death\": 7}, {\"Country\": \"South Korea\", \"Date\": \"2020-03-04T00:00:00\", \"Confirmed Cases\": 35, \"Days since 10th death\": 8}, {\"Country\": \"South Korea\", \"Date\": \"2020-03-05T00:00:00\", \"Confirmed Cases\": 35, \"Days since 10th death\": 9}, {\"Country\": \"South Korea\", \"Date\": \"2020-03-06T00:00:00\", \"Confirmed Cases\": 42, \"Days since 10th death\": 10}, {\"Country\": \"South Korea\", \"Date\": \"2020-03-07T00:00:00\", \"Confirmed Cases\": 44, \"Days since 10th death\": 11}, {\"Country\": \"South Korea\", \"Date\": \"2020-03-08T00:00:00\", \"Confirmed Cases\": 50, \"Days since 10th death\": 12}, {\"Country\": \"South Korea\", \"Date\": \"2020-03-09T00:00:00\", \"Confirmed Cases\": 53, \"Days since 10th death\": 13}, {\"Country\": \"South Korea\", \"Date\": \"2020-03-10T00:00:00\", \"Confirmed Cases\": 54, \"Days since 10th death\": 14}, {\"Country\": \"South Korea\", \"Date\": \"2020-03-11T00:00:00\", \"Confirmed Cases\": 60, \"Days since 10th death\": 15}, {\"Country\": \"South Korea\", \"Date\": \"2020-03-12T00:00:00\", \"Confirmed Cases\": 66, \"Days since 10th death\": 16}, {\"Country\": \"South Korea\", \"Date\": \"2020-03-13T00:00:00\", \"Confirmed Cases\": 66, \"Days since 10th death\": 17}, {\"Country\": \"South Korea\", \"Date\": \"2020-03-14T00:00:00\", \"Confirmed Cases\": 72, \"Days since 10th death\": 18}, {\"Country\": \"South Korea\", \"Date\": \"2020-03-15T00:00:00\", \"Confirmed Cases\": 75, \"Days since 10th death\": 19}, {\"Country\": \"South Korea\", \"Date\": \"2020-03-16T00:00:00\", \"Confirmed Cases\": 75, \"Days since 10th death\": 20}, {\"Country\": \"South Korea\", \"Date\": \"2020-03-17T00:00:00\", \"Confirmed Cases\": 81, \"Days since 10th death\": 21}, {\"Country\": \"Spain\", \"Date\": \"2020-03-07T00:00:00\", \"Confirmed Cases\": 10, \"Days since 10th death\": 0}, {\"Country\": \"Spain\", \"Date\": \"2020-03-08T00:00:00\", \"Confirmed Cases\": 17, \"Days since 10th death\": 1}, {\"Country\": \"Spain\", \"Date\": \"2020-03-09T00:00:00\", \"Confirmed Cases\": 28, \"Days since 10th death\": 2}, {\"Country\": \"Spain\", \"Date\": \"2020-03-10T00:00:00\", \"Confirmed Cases\": 35, \"Days since 10th death\": 3}, {\"Country\": \"Spain\", \"Date\": \"2020-03-11T00:00:00\", \"Confirmed Cases\": 54, \"Days since 10th death\": 4}, {\"Country\": \"Spain\", \"Date\": \"2020-03-12T00:00:00\", \"Confirmed Cases\": 55, \"Days since 10th death\": 5}, {\"Country\": \"Spain\", \"Date\": \"2020-03-13T00:00:00\", \"Confirmed Cases\": 133, \"Days since 10th death\": 6}, {\"Country\": \"Spain\", \"Date\": \"2020-03-14T00:00:00\", \"Confirmed Cases\": 195, \"Days since 10th death\": 7}, {\"Country\": \"Spain\", \"Date\": \"2020-03-15T00:00:00\", \"Confirmed Cases\": 289, \"Days since 10th death\": 8}, {\"Country\": \"Spain\", \"Date\": \"2020-03-16T00:00:00\", \"Confirmed Cases\": 342, \"Days since 10th death\": 9}, {\"Country\": \"Spain\", \"Date\": \"2020-03-17T00:00:00\", \"Confirmed Cases\": 533, \"Days since 10th death\": 10}, {\"Country\": \"Switzerland\", \"Date\": \"2020-03-13T00:00:00\", \"Confirmed Cases\": 11, \"Days since 10th death\": 0}, {\"Country\": \"Switzerland\", \"Date\": \"2020-03-14T00:00:00\", \"Confirmed Cases\": 13, \"Days since 10th death\": 1}, {\"Country\": \"Switzerland\", \"Date\": \"2020-03-15T00:00:00\", \"Confirmed Cases\": 14, \"Days since 10th death\": 2}, {\"Country\": \"Switzerland\", \"Date\": \"2020-03-16T00:00:00\", \"Confirmed Cases\": 14, \"Days since 10th death\": 3}, {\"Country\": \"Switzerland\", \"Date\": \"2020-03-17T00:00:00\", \"Confirmed Cases\": 27, \"Days since 10th death\": 4}, {\"Country\": \"US\", \"Date\": \"2020-03-04T00:00:00\", \"Confirmed Cases\": 11, \"Days since 10th death\": 0}, {\"Country\": \"US\", \"Date\": \"2020-03-05T00:00:00\", \"Confirmed Cases\": 12, \"Days since 10th death\": 1}, {\"Country\": \"US\", \"Date\": \"2020-03-06T00:00:00\", \"Confirmed Cases\": 14, \"Days since 10th death\": 2}, {\"Country\": \"US\", \"Date\": \"2020-03-07T00:00:00\", \"Confirmed Cases\": 17, \"Days since 10th death\": 3}, {\"Country\": \"US\", \"Date\": \"2020-03-08T00:00:00\", \"Confirmed Cases\": 21, \"Days since 10th death\": 4}, {\"Country\": \"US\", \"Date\": \"2020-03-09T00:00:00\", \"Confirmed Cases\": 22, \"Days since 10th death\": 5}, {\"Country\": \"US\", \"Date\": \"2020-03-10T00:00:00\", \"Confirmed Cases\": 28, \"Days since 10th death\": 6}, {\"Country\": \"US\", \"Date\": \"2020-03-11T00:00:00\", \"Confirmed Cases\": 36, \"Days since 10th death\": 7}, {\"Country\": \"US\", \"Date\": \"2020-03-12T00:00:00\", \"Confirmed Cases\": 40, \"Days since 10th death\": 8}, {\"Country\": \"US\", \"Date\": \"2020-03-13T00:00:00\", \"Confirmed Cases\": 47, \"Days since 10th death\": 9}, {\"Country\": \"US\", \"Date\": \"2020-03-14T00:00:00\", \"Confirmed Cases\": 54, \"Days since 10th death\": 10}, {\"Country\": \"US\", \"Date\": \"2020-03-15T00:00:00\", \"Confirmed Cases\": 63, \"Days since 10th death\": 11}, {\"Country\": \"US\", \"Date\": \"2020-03-16T00:00:00\", \"Confirmed Cases\": 85, \"Days since 10th death\": 12}, {\"Country\": \"US\", \"Date\": \"2020-03-17T00:00:00\", \"Confirmed Cases\": 108, \"Days since 10th death\": 13}, {\"Country\": \"United Kingdom\", \"Date\": \"2020-03-14T00:00:00\", \"Confirmed Cases\": 21, \"Days since 10th death\": 0}, {\"Country\": \"United Kingdom\", \"Date\": \"2020-03-15T00:00:00\", \"Confirmed Cases\": 21, \"Days since 10th death\": 1}, {\"Country\": \"United Kingdom\", \"Date\": \"2020-03-16T00:00:00\", \"Confirmed Cases\": 56, \"Days since 10th death\": 2}, {\"Country\": \"United Kingdom\", \"Date\": \"2020-03-17T00:00:00\", \"Confirmed Cases\": 56, \"Days since 10th death\": 3}]}}, {\"mode\": \"vega-lite\"});\n",
       "</script>"
      ],
      "text/plain": [
       "alt.LayerChart(...)"
      ]
     },
     "execution_count": 12,
     "metadata": {},
     "output_type": "execute_result"
    }
   ],
   "source": [
    "#hide_input\n",
    "chart4 = make_since_chart(['Germany', 'United Kingdom'])\n",
    "chart4"
   ]
  },
  {
   "cell_type": "markdown",
   "metadata": {
    "papermill": {
     "duration": 0.012506,
     "end_time": "2020-03-18T14:03:42.657635",
     "exception": false,
     "start_time": "2020-03-18T14:03:42.645129",
     "status": "completed"
    },
    "tags": []
   },
   "source": [
    "Select a country from the drop down list below to toggle  the visualization."
   ]
  },
  {
   "cell_type": "code",
   "execution_count": 13,
   "metadata": {
    "papermill": {
     "duration": 0.160518,
     "end_time": "2020-03-18T14:03:42.830045",
     "exception": false,
     "start_time": "2020-03-18T14:03:42.669527",
     "status": "completed"
    },
    "tags": []
   },
   "outputs": [
    {
     "data": {
      "text/html": [
       "\n",
       "<div id=\"altair-viz-cd79b7a9501f486abf9c603f26d1256a\"></div>\n",
       "<script type=\"text/javascript\">\n",
       "  (function(spec, embedOpt){\n",
       "    const outputDiv = document.getElementById(\"altair-viz-cd79b7a9501f486abf9c603f26d1256a\");\n",
       "    const paths = {\n",
       "      \"vega\": \"https://cdn.jsdelivr.net/npm//vega@5?noext\",\n",
       "      \"vega-lib\": \"https://cdn.jsdelivr.net/npm//vega-lib?noext\",\n",
       "      \"vega-lite\": \"https://cdn.jsdelivr.net/npm//vega-lite@4.0.2?noext\",\n",
       "      \"vega-embed\": \"https://cdn.jsdelivr.net/npm//vega-embed@6?noext\",\n",
       "    };\n",
       "\n",
       "    function loadScript(lib) {\n",
       "      return new Promise(function(resolve, reject) {\n",
       "        var s = document.createElement('script');\n",
       "        s.src = paths[lib];\n",
       "        s.async = true;\n",
       "        s.onload = () => resolve(paths[lib]);\n",
       "        s.onerror = () => reject(`Error loading script: ${paths[lib]}`);\n",
       "        document.getElementsByTagName(\"head\")[0].appendChild(s);\n",
       "      });\n",
       "    }\n",
       "\n",
       "    function showError(err) {\n",
       "      outputDiv.innerHTML = `<div class=\"error\" style=\"color:red;\">${err}</div>`;\n",
       "      throw err;\n",
       "    }\n",
       "\n",
       "    function displayChart(vegaEmbed) {\n",
       "      vegaEmbed(outputDiv, spec, embedOpt)\n",
       "        .catch(err => showError(`Javascript Error: ${err.message}<br>This usually means there's a typo in your chart specification. See the javascript console for the full traceback.`));\n",
       "    }\n",
       "\n",
       "    if(typeof define === \"function\" && define.amd) {\n",
       "      requirejs.config({paths});\n",
       "      require([\"vega-embed\"], displayChart, err => showError(`Error loading script: ${err.message}`));\n",
       "    } else if (typeof vegaEmbed === \"function\") {\n",
       "      displayChart(vegaEmbed);\n",
       "    } else {\n",
       "      loadScript(\"vega\")\n",
       "        .then(() => loadScript(\"vega-lite\"))\n",
       "        .then(() => loadScript(\"vega-embed\"))\n",
       "        .catch(showError)\n",
       "        .then(() => displayChart(vegaEmbed));\n",
       "    }\n",
       "  })({\"config\": {\"view\": {\"continuousWidth\": 400, \"continuousHeight\": 300}}, \"layer\": [{\"mark\": {\"type\": \"line\", \"color\": \"black\", \"opacity\": 0.5, \"strokeDash\": [3, 3]}, \"encoding\": {\"x\": {\"type\": \"quantitative\", \"field\": \"Days since 10th death\"}, \"y\": {\"type\": \"quantitative\", \"field\": \"Confirmed Cases\"}}, \"selection\": {\"Select\": {\"type\": \"single\", \"fields\": [\"Country\"], \"bind\": {\"input\": \"select\", \"options\": [\"Belgium\", \"France\", \"Germany\", \"Iran\", \"Iraq\", \"Netherlands\", \"Philippines\", \"Spain\", \"Switzerland\", \"US\", \"United Kingdom\"]}, \"init\": {\"Country\": \"US\"}}}}, {\"mark\": {\"type\": \"text\", \"align\": \"right\", \"dy\": -6, \"fontSize\": 10, \"text\": \"33% Daily Growth\"}, \"encoding\": {\"x\": {\"type\": \"quantitative\", \"field\": \"Days since 10th death\"}, \"y\": {\"type\": \"quantitative\", \"field\": \"Confirmed Cases\"}}, \"transform\": [{\"filter\": \"(datum['Days since 10th death'] >= 22)\"}]}, {\"data\": {\"name\": \"data-04cd5d3df24cb98c21020b2823a550cc\"}, \"mark\": {\"type\": \"line\", \"point\": true, \"tooltip\": true}, \"encoding\": {\"color\": {\"type\": \"nominal\", \"field\": \"Country\", \"legend\": null, \"scale\": {\"domain\": [\"Belgium\", \"France\", \"Germany\", \"Iran\", \"Iraq\", \"Italy\", \"Japan\", \"Netherlands\", \"Philippines\", \"South Korea\", \"Spain\", \"Switzerland\", \"US\", \"United Kingdom\"], \"range\": [\"#C1B7AD\", \"#F58518\", \"#9D755D\", \"#A1BA59\", \"#C1B7AD\", \"black\", \"#9467bd\", \"#C1B7AD\", \"#C1B7AD\", \"#E45756\", \"#F58518\", \"#9D755D\", \"#2495D3\", \"#2495D3\"]}}, \"tooltip\": [{\"type\": \"nominal\", \"field\": \"Country\"}, {\"type\": \"temporal\", \"field\": \"Date\"}, {\"type\": \"quantitative\", \"field\": \"Confirmed Cases\"}, {\"type\": \"quantitative\", \"field\": \"Days since 10th death\"}], \"x\": {\"type\": \"quantitative\", \"field\": \"Days since 10th death\"}, \"y\": {\"type\": \"quantitative\", \"axis\": {\"title\": \"Cumulative Deaths\"}, \"field\": \"Confirmed Cases\", \"scale\": {\"type\": \"log\"}}}, \"transform\": [{\"filter\": {\"field\": \"Country\", \"oneOf\": [\"Italy\", \"South Korea\", \"Japan\"]}}], \"width\": 600}, {\"data\": {\"name\": \"data-04cd5d3df24cb98c21020b2823a550cc\"}, \"mark\": {\"type\": \"line\", \"point\": {\"size\": 50}, \"tooltip\": true}, \"encoding\": {\"color\": {\"type\": \"nominal\", \"field\": \"Country\", \"legend\": null, \"scale\": {\"domain\": [\"Belgium\", \"France\", \"Germany\", \"Iran\", \"Iraq\", \"Italy\", \"Japan\", \"Netherlands\", \"Philippines\", \"South Korea\", \"Spain\", \"Switzerland\", \"US\", \"United Kingdom\"], \"range\": [\"#C1B7AD\", \"#F58518\", \"#9D755D\", \"#A1BA59\", \"#C1B7AD\", \"black\", \"#9467bd\", \"#C1B7AD\", \"#C1B7AD\", \"#E45756\", \"#F58518\", \"#9D755D\", \"#2495D3\", \"#2495D3\"]}}, \"tooltip\": [{\"type\": \"nominal\", \"field\": \"Country\"}, {\"type\": \"temporal\", \"field\": \"Date\"}, {\"type\": \"quantitative\", \"field\": \"Confirmed Cases\"}, {\"type\": \"quantitative\", \"field\": \"Days since 10th death\"}], \"x\": {\"type\": \"quantitative\", \"field\": \"Days since 10th death\"}, \"y\": {\"type\": \"quantitative\", \"axis\": {\"title\": \"Cumulative Deaths\"}, \"field\": \"Confirmed Cases\", \"scale\": {\"type\": \"log\"}}}, \"transform\": [{\"filter\": {\"selection\": \"Select\"}}], \"width\": 600}, {\"data\": {\"name\": \"data-04cd5d3df24cb98c21020b2823a550cc\"}, \"mark\": {\"type\": \"text\", \"align\": \"right\", \"dy\": -8}, \"encoding\": {\"color\": {\"type\": \"nominal\", \"field\": \"Country\", \"legend\": null, \"scale\": {\"domain\": [\"Belgium\", \"France\", \"Germany\", \"Iran\", \"Iraq\", \"Italy\", \"Japan\", \"Netherlands\", \"Philippines\", \"South Korea\", \"Spain\", \"Switzerland\", \"US\", \"United Kingdom\"], \"range\": [\"#C1B7AD\", \"#F58518\", \"#9D755D\", \"#A1BA59\", \"#C1B7AD\", \"black\", \"#9467bd\", \"#C1B7AD\", \"#C1B7AD\", \"#E45756\", \"#F58518\", \"#9D755D\", \"#2495D3\", \"#2495D3\"]}}, \"text\": {\"type\": \"nominal\", \"field\": \"Country\"}, \"tooltip\": [{\"type\": \"nominal\", \"field\": \"Country\"}, {\"type\": \"temporal\", \"field\": \"Date\"}, {\"type\": \"quantitative\", \"field\": \"Confirmed Cases\"}, {\"type\": \"quantitative\", \"field\": \"Days since 10th death\"}], \"x\": {\"type\": \"quantitative\", \"field\": \"Days since 10th death\"}, \"y\": {\"type\": \"quantitative\", \"axis\": {\"title\": \"Cumulative Deaths\"}, \"field\": \"Confirmed Cases\", \"scale\": {\"type\": \"log\"}}}, \"transform\": [{\"filter\": {\"field\": \"Country\", \"oneOf\": [\"Italy\", \"South Korea\", \"Japan\"]}}, {\"filter\": \"(datum['Date'] >= 1584403200000)\"}], \"width\": 600}, {\"data\": {\"name\": \"data-04cd5d3df24cb98c21020b2823a550cc\"}, \"mark\": {\"type\": \"text\", \"align\": \"left\", \"dx\": 8, \"fontWeight\": \"bold\"}, \"encoding\": {\"color\": {\"type\": \"nominal\", \"field\": \"Country\", \"legend\": null, \"scale\": {\"domain\": [\"Belgium\", \"France\", \"Germany\", \"Iran\", \"Iraq\", \"Italy\", \"Japan\", \"Netherlands\", \"Philippines\", \"South Korea\", \"Spain\", \"Switzerland\", \"US\", \"United Kingdom\"], \"range\": [\"#C1B7AD\", \"#F58518\", \"#9D755D\", \"#A1BA59\", \"#C1B7AD\", \"black\", \"#9467bd\", \"#C1B7AD\", \"#C1B7AD\", \"#E45756\", \"#F58518\", \"#9D755D\", \"#2495D3\", \"#2495D3\"]}}, \"text\": {\"type\": \"nominal\", \"field\": \"Country\"}, \"tooltip\": [{\"type\": \"nominal\", \"field\": \"Country\"}, {\"type\": \"temporal\", \"field\": \"Date\"}, {\"type\": \"quantitative\", \"field\": \"Confirmed Cases\"}, {\"type\": \"quantitative\", \"field\": \"Days since 10th death\"}], \"x\": {\"type\": \"quantitative\", \"field\": \"Days since 10th death\"}, \"y\": {\"type\": \"quantitative\", \"axis\": {\"title\": \"Cumulative Deaths\"}, \"field\": \"Confirmed Cases\", \"scale\": {\"type\": \"log\"}}}, \"transform\": [{\"filter\": {\"selection\": \"Select\"}}, {\"filter\": \"(datum['Date'] >= 1584403200000)\"}], \"width\": 600}, {\"data\": {\"name\": \"data-04cd5d3df24cb98c21020b2823a550cc\"}, \"mark\": {\"type\": \"text\", \"align\": \"left\", \"dx\": 8, \"dy\": 12, \"fontWeight\": \"bold\"}, \"encoding\": {\"color\": {\"type\": \"nominal\", \"field\": \"Country\", \"legend\": null, \"scale\": {\"domain\": [\"Belgium\", \"France\", \"Germany\", \"Iran\", \"Iraq\", \"Italy\", \"Japan\", \"Netherlands\", \"Philippines\", \"South Korea\", \"Spain\", \"Switzerland\", \"US\", \"United Kingdom\"], \"range\": [\"#C1B7AD\", \"#F58518\", \"#9D755D\", \"#A1BA59\", \"#C1B7AD\", \"black\", \"#9467bd\", \"#C1B7AD\", \"#C1B7AD\", \"#E45756\", \"#F58518\", \"#9D755D\", \"#2495D3\", \"#2495D3\"]}}, \"text\": {\"type\": \"quantitative\", \"field\": \"Confirmed Cases\"}, \"tooltip\": [{\"type\": \"nominal\", \"field\": \"Country\"}, {\"type\": \"temporal\", \"field\": \"Date\"}, {\"type\": \"quantitative\", \"field\": \"Confirmed Cases\"}, {\"type\": \"quantitative\", \"field\": \"Days since 10th death\"}], \"x\": {\"type\": \"quantitative\", \"field\": \"Days since 10th death\"}, \"y\": {\"type\": \"quantitative\", \"axis\": {\"title\": \"Cumulative Deaths\"}, \"field\": \"Confirmed Cases\", \"scale\": {\"type\": \"log\"}}}, \"transform\": [{\"filter\": {\"selection\": \"Select\"}}, {\"filter\": \"(datum['Date'] >= 1584403200000)\"}], \"width\": 600}], \"data\": {\"name\": \"data-2d24e28df5dc7eb169e5bf67ded7e642\"}, \"title\": \"Country's death trajectory compared to Italy, South Korea, Japan\", \"$schema\": \"https://vega.github.io/schema/vega-lite/v4.0.2.json\", \"datasets\": {\"data-2d24e28df5dc7eb169e5bf67ded7e642\": [{\"Days since 10th death\": 0, \"Confirmed Cases\": 10.0}, {\"Days since 10th death\": 1, \"Confirmed Cases\": 13.3}, {\"Days since 10th death\": 2, \"Confirmed Cases\": 17.689}, {\"Days since 10th death\": 3, \"Confirmed Cases\": 23.526370000000007}, {\"Days since 10th death\": 4, \"Confirmed Cases\": 31.290072100000007}, {\"Days since 10th death\": 5, \"Confirmed Cases\": 41.61579589300001}, {\"Days since 10th death\": 6, \"Confirmed Cases\": 55.34900853769002}, {\"Days since 10th death\": 7, \"Confirmed Cases\": 73.61418135512773}, {\"Days since 10th death\": 8, \"Confirmed Cases\": 97.90686120231989}, {\"Days since 10th death\": 9, \"Confirmed Cases\": 130.21612539908546}, {\"Days since 10th death\": 10, \"Confirmed Cases\": 173.18744678078366}, {\"Days since 10th death\": 11, \"Confirmed Cases\": 230.3393042184423}, {\"Days since 10th death\": 12, \"Confirmed Cases\": 306.35127461052826}, {\"Days since 10th death\": 13, \"Confirmed Cases\": 407.4471952320026}, {\"Days since 10th death\": 14, \"Confirmed Cases\": 541.9047696585635}, {\"Days since 10th death\": 15, \"Confirmed Cases\": 720.7333436458895}, {\"Days since 10th death\": 16, \"Confirmed Cases\": 958.575347049033}, {\"Days since 10th death\": 17, \"Confirmed Cases\": 1274.905211575214}, {\"Days since 10th death\": 18, \"Confirmed Cases\": 1695.6239313950348}, {\"Days since 10th death\": 19, \"Confirmed Cases\": 2255.179828755396}, {\"Days since 10th death\": 20, \"Confirmed Cases\": 2999.3891722446774}, {\"Days since 10th death\": 21, \"Confirmed Cases\": 3989.187599085421}, {\"Days since 10th death\": 22, \"Confirmed Cases\": 5305.61950678361}], \"data-04cd5d3df24cb98c21020b2823a550cc\": [{\"Country\": \"Belgium\", \"Date\": \"2020-03-17T00:00:00\", \"Confirmed Cases\": 10, \"Days since 10th death\": 0}, {\"Country\": \"France\", \"Date\": \"2020-03-07T00:00:00\", \"Confirmed Cases\": 11, \"Days since 10th death\": 0}, {\"Country\": \"France\", \"Date\": \"2020-03-08T00:00:00\", \"Confirmed Cases\": 19, \"Days since 10th death\": 1}, {\"Country\": \"France\", \"Date\": \"2020-03-09T00:00:00\", \"Confirmed Cases\": 19, \"Days since 10th death\": 2}, {\"Country\": \"France\", \"Date\": \"2020-03-10T00:00:00\", \"Confirmed Cases\": 33, \"Days since 10th death\": 3}, {\"Country\": \"France\", \"Date\": \"2020-03-11T00:00:00\", \"Confirmed Cases\": 48, \"Days since 10th death\": 4}, {\"Country\": \"France\", \"Date\": \"2020-03-12T00:00:00\", \"Confirmed Cases\": 48, \"Days since 10th death\": 5}, {\"Country\": \"France\", \"Date\": \"2020-03-13T00:00:00\", \"Confirmed Cases\": 79, \"Days since 10th death\": 6}, {\"Country\": \"France\", \"Date\": \"2020-03-14T00:00:00\", \"Confirmed Cases\": 91, \"Days since 10th death\": 7}, {\"Country\": \"France\", \"Date\": \"2020-03-15T00:00:00\", \"Confirmed Cases\": 91, \"Days since 10th death\": 8}, {\"Country\": \"France\", \"Date\": \"2020-03-16T00:00:00\", \"Confirmed Cases\": 148, \"Days since 10th death\": 9}, {\"Country\": \"France\", \"Date\": \"2020-03-17T00:00:00\", \"Confirmed Cases\": 148, \"Days since 10th death\": 10}, {\"Country\": \"Germany\", \"Date\": \"2020-03-15T00:00:00\", \"Confirmed Cases\": 11, \"Days since 10th death\": 0}, {\"Country\": \"Germany\", \"Date\": \"2020-03-16T00:00:00\", \"Confirmed Cases\": 17, \"Days since 10th death\": 1}, {\"Country\": \"Germany\", \"Date\": \"2020-03-17T00:00:00\", \"Confirmed Cases\": 24, \"Days since 10th death\": 2}, {\"Country\": \"Iran\", \"Date\": \"2020-02-24T00:00:00\", \"Confirmed Cases\": 12, \"Days since 10th death\": 0}, {\"Country\": \"Iran\", \"Date\": \"2020-02-25T00:00:00\", \"Confirmed Cases\": 16, \"Days since 10th death\": 1}, {\"Country\": \"Iran\", \"Date\": \"2020-02-26T00:00:00\", \"Confirmed Cases\": 19, \"Days since 10th death\": 2}, {\"Country\": \"Iran\", \"Date\": \"2020-02-27T00:00:00\", \"Confirmed Cases\": 26, \"Days since 10th death\": 3}, {\"Country\": \"Iran\", \"Date\": \"2020-02-28T00:00:00\", \"Confirmed Cases\": 34, \"Days since 10th death\": 4}, {\"Country\": \"Iran\", \"Date\": \"2020-02-29T00:00:00\", \"Confirmed Cases\": 43, \"Days since 10th death\": 5}, {\"Country\": \"Iran\", \"Date\": \"2020-03-01T00:00:00\", \"Confirmed Cases\": 54, \"Days since 10th death\": 6}, {\"Country\": \"Iran\", \"Date\": \"2020-03-02T00:00:00\", \"Confirmed Cases\": 66, \"Days since 10th death\": 7}, {\"Country\": \"Iran\", \"Date\": \"2020-03-03T00:00:00\", \"Confirmed Cases\": 77, \"Days since 10th death\": 8}, {\"Country\": \"Iran\", \"Date\": \"2020-03-04T00:00:00\", \"Confirmed Cases\": 92, \"Days since 10th death\": 9}, {\"Country\": \"Iran\", \"Date\": \"2020-03-05T00:00:00\", \"Confirmed Cases\": 107, \"Days since 10th death\": 10}, {\"Country\": \"Iran\", \"Date\": \"2020-03-06T00:00:00\", \"Confirmed Cases\": 124, \"Days since 10th death\": 11}, {\"Country\": \"Iran\", \"Date\": \"2020-03-07T00:00:00\", \"Confirmed Cases\": 145, \"Days since 10th death\": 12}, {\"Country\": \"Iran\", \"Date\": \"2020-03-08T00:00:00\", \"Confirmed Cases\": 194, \"Days since 10th death\": 13}, {\"Country\": \"Iran\", \"Date\": \"2020-03-09T00:00:00\", \"Confirmed Cases\": 237, \"Days since 10th death\": 14}, {\"Country\": \"Iran\", \"Date\": \"2020-03-10T00:00:00\", \"Confirmed Cases\": 291, \"Days since 10th death\": 15}, {\"Country\": \"Iran\", \"Date\": \"2020-03-11T00:00:00\", \"Confirmed Cases\": 354, \"Days since 10th death\": 16}, {\"Country\": \"Iran\", \"Date\": \"2020-03-12T00:00:00\", \"Confirmed Cases\": 429, \"Days since 10th death\": 17}, {\"Country\": \"Iran\", \"Date\": \"2020-03-13T00:00:00\", \"Confirmed Cases\": 514, \"Days since 10th death\": 18}, {\"Country\": \"Iran\", \"Date\": \"2020-03-14T00:00:00\", \"Confirmed Cases\": 611, \"Days since 10th death\": 19}, {\"Country\": \"Iran\", \"Date\": \"2020-03-15T00:00:00\", \"Confirmed Cases\": 724, \"Days since 10th death\": 20}, {\"Country\": \"Iran\", \"Date\": \"2020-03-16T00:00:00\", \"Confirmed Cases\": 853, \"Days since 10th death\": 21}, {\"Country\": \"Iran\", \"Date\": \"2020-03-17T00:00:00\", \"Confirmed Cases\": 988, \"Days since 10th death\": 22}, {\"Country\": \"Iraq\", \"Date\": \"2020-03-14T00:00:00\", \"Confirmed Cases\": 10, \"Days since 10th death\": 0}, {\"Country\": \"Iraq\", \"Date\": \"2020-03-15T00:00:00\", \"Confirmed Cases\": 10, \"Days since 10th death\": 1}, {\"Country\": \"Iraq\", \"Date\": \"2020-03-16T00:00:00\", \"Confirmed Cases\": 10, \"Days since 10th death\": 2}, {\"Country\": \"Iraq\", \"Date\": \"2020-03-17T00:00:00\", \"Confirmed Cases\": 11, \"Days since 10th death\": 3}, {\"Country\": \"Italy\", \"Date\": \"2020-02-25T00:00:00\", \"Confirmed Cases\": 10, \"Days since 10th death\": 0}, {\"Country\": \"Italy\", \"Date\": \"2020-02-26T00:00:00\", \"Confirmed Cases\": 12, \"Days since 10th death\": 1}, {\"Country\": \"Italy\", \"Date\": \"2020-02-27T00:00:00\", \"Confirmed Cases\": 17, \"Days since 10th death\": 2}, {\"Country\": \"Italy\", \"Date\": \"2020-02-28T00:00:00\", \"Confirmed Cases\": 21, \"Days since 10th death\": 3}, {\"Country\": \"Italy\", \"Date\": \"2020-02-29T00:00:00\", \"Confirmed Cases\": 29, \"Days since 10th death\": 4}, {\"Country\": \"Italy\", \"Date\": \"2020-03-01T00:00:00\", \"Confirmed Cases\": 34, \"Days since 10th death\": 5}, {\"Country\": \"Italy\", \"Date\": \"2020-03-02T00:00:00\", \"Confirmed Cases\": 52, \"Days since 10th death\": 6}, {\"Country\": \"Italy\", \"Date\": \"2020-03-03T00:00:00\", \"Confirmed Cases\": 79, \"Days since 10th death\": 7}, {\"Country\": \"Italy\", \"Date\": \"2020-03-04T00:00:00\", \"Confirmed Cases\": 107, \"Days since 10th death\": 8}, {\"Country\": \"Italy\", \"Date\": \"2020-03-05T00:00:00\", \"Confirmed Cases\": 148, \"Days since 10th death\": 9}, {\"Country\": \"Italy\", \"Date\": \"2020-03-06T00:00:00\", \"Confirmed Cases\": 197, \"Days since 10th death\": 10}, {\"Country\": \"Italy\", \"Date\": \"2020-03-07T00:00:00\", \"Confirmed Cases\": 233, \"Days since 10th death\": 11}, {\"Country\": \"Italy\", \"Date\": \"2020-03-08T00:00:00\", \"Confirmed Cases\": 366, \"Days since 10th death\": 12}, {\"Country\": \"Italy\", \"Date\": \"2020-03-09T00:00:00\", \"Confirmed Cases\": 463, \"Days since 10th death\": 13}, {\"Country\": \"Italy\", \"Date\": \"2020-03-10T00:00:00\", \"Confirmed Cases\": 631, \"Days since 10th death\": 14}, {\"Country\": \"Italy\", \"Date\": \"2020-03-11T00:00:00\", \"Confirmed Cases\": 827, \"Days since 10th death\": 15}, {\"Country\": \"Italy\", \"Date\": \"2020-03-12T00:00:00\", \"Confirmed Cases\": 827, \"Days since 10th death\": 16}, {\"Country\": \"Italy\", \"Date\": \"2020-03-13T00:00:00\", \"Confirmed Cases\": 1266, \"Days since 10th death\": 17}, {\"Country\": \"Italy\", \"Date\": \"2020-03-14T00:00:00\", \"Confirmed Cases\": 1441, \"Days since 10th death\": 18}, {\"Country\": \"Italy\", \"Date\": \"2020-03-15T00:00:00\", \"Confirmed Cases\": 1809, \"Days since 10th death\": 19}, {\"Country\": \"Italy\", \"Date\": \"2020-03-16T00:00:00\", \"Confirmed Cases\": 2158, \"Days since 10th death\": 20}, {\"Country\": \"Italy\", \"Date\": \"2020-03-17T00:00:00\", \"Confirmed Cases\": 2503, \"Days since 10th death\": 21}, {\"Country\": \"Japan\", \"Date\": \"2020-03-09T00:00:00\", \"Confirmed Cases\": 10, \"Days since 10th death\": 0}, {\"Country\": \"Japan\", \"Date\": \"2020-03-10T00:00:00\", \"Confirmed Cases\": 10, \"Days since 10th death\": 1}, {\"Country\": \"Japan\", \"Date\": \"2020-03-11T00:00:00\", \"Confirmed Cases\": 15, \"Days since 10th death\": 2}, {\"Country\": \"Japan\", \"Date\": \"2020-03-12T00:00:00\", \"Confirmed Cases\": 16, \"Days since 10th death\": 3}, {\"Country\": \"Japan\", \"Date\": \"2020-03-13T00:00:00\", \"Confirmed Cases\": 19, \"Days since 10th death\": 4}, {\"Country\": \"Japan\", \"Date\": \"2020-03-14T00:00:00\", \"Confirmed Cases\": 22, \"Days since 10th death\": 5}, {\"Country\": \"Japan\", \"Date\": \"2020-03-15T00:00:00\", \"Confirmed Cases\": 22, \"Days since 10th death\": 6}, {\"Country\": \"Japan\", \"Date\": \"2020-03-16T00:00:00\", \"Confirmed Cases\": 27, \"Days since 10th death\": 7}, {\"Country\": \"Japan\", \"Date\": \"2020-03-17T00:00:00\", \"Confirmed Cases\": 29, \"Days since 10th death\": 8}, {\"Country\": \"Netherlands\", \"Date\": \"2020-03-13T00:00:00\", \"Confirmed Cases\": 10, \"Days since 10th death\": 0}, {\"Country\": \"Netherlands\", \"Date\": \"2020-03-14T00:00:00\", \"Confirmed Cases\": 12, \"Days since 10th death\": 1}, {\"Country\": \"Netherlands\", \"Date\": \"2020-03-15T00:00:00\", \"Confirmed Cases\": 20, \"Days since 10th death\": 2}, {\"Country\": \"Netherlands\", \"Date\": \"2020-03-16T00:00:00\", \"Confirmed Cases\": 24, \"Days since 10th death\": 3}, {\"Country\": \"Netherlands\", \"Date\": \"2020-03-17T00:00:00\", \"Confirmed Cases\": 43, \"Days since 10th death\": 4}, {\"Country\": \"Philippines\", \"Date\": \"2020-03-15T00:00:00\", \"Confirmed Cases\": 11, \"Days since 10th death\": 0}, {\"Country\": \"Philippines\", \"Date\": \"2020-03-16T00:00:00\", \"Confirmed Cases\": 12, \"Days since 10th death\": 1}, {\"Country\": \"Philippines\", \"Date\": \"2020-03-17T00:00:00\", \"Confirmed Cases\": 12, \"Days since 10th death\": 2}, {\"Country\": \"South Korea\", \"Date\": \"2020-02-25T00:00:00\", \"Confirmed Cases\": 10, \"Days since 10th death\": 0}, {\"Country\": \"South Korea\", \"Date\": \"2020-02-26T00:00:00\", \"Confirmed Cases\": 12, \"Days since 10th death\": 1}, {\"Country\": \"South Korea\", \"Date\": \"2020-02-27T00:00:00\", \"Confirmed Cases\": 13, \"Days since 10th death\": 2}, {\"Country\": \"South Korea\", \"Date\": \"2020-02-28T00:00:00\", \"Confirmed Cases\": 13, \"Days since 10th death\": 3}, {\"Country\": \"South Korea\", \"Date\": \"2020-02-29T00:00:00\", \"Confirmed Cases\": 16, \"Days since 10th death\": 4}, {\"Country\": \"South Korea\", \"Date\": \"2020-03-01T00:00:00\", \"Confirmed Cases\": 17, \"Days since 10th death\": 5}, {\"Country\": \"South Korea\", \"Date\": \"2020-03-02T00:00:00\", \"Confirmed Cases\": 28, \"Days since 10th death\": 6}, {\"Country\": \"South Korea\", \"Date\": \"2020-03-03T00:00:00\", \"Confirmed Cases\": 28, \"Days since 10th death\": 7}, {\"Country\": \"South Korea\", \"Date\": \"2020-03-04T00:00:00\", \"Confirmed Cases\": 35, \"Days since 10th death\": 8}, {\"Country\": \"South Korea\", \"Date\": \"2020-03-05T00:00:00\", \"Confirmed Cases\": 35, \"Days since 10th death\": 9}, {\"Country\": \"South Korea\", \"Date\": \"2020-03-06T00:00:00\", \"Confirmed Cases\": 42, \"Days since 10th death\": 10}, {\"Country\": \"South Korea\", \"Date\": \"2020-03-07T00:00:00\", \"Confirmed Cases\": 44, \"Days since 10th death\": 11}, {\"Country\": \"South Korea\", \"Date\": \"2020-03-08T00:00:00\", \"Confirmed Cases\": 50, \"Days since 10th death\": 12}, {\"Country\": \"South Korea\", \"Date\": \"2020-03-09T00:00:00\", \"Confirmed Cases\": 53, \"Days since 10th death\": 13}, {\"Country\": \"South Korea\", \"Date\": \"2020-03-10T00:00:00\", \"Confirmed Cases\": 54, \"Days since 10th death\": 14}, {\"Country\": \"South Korea\", \"Date\": \"2020-03-11T00:00:00\", \"Confirmed Cases\": 60, \"Days since 10th death\": 15}, {\"Country\": \"South Korea\", \"Date\": \"2020-03-12T00:00:00\", \"Confirmed Cases\": 66, \"Days since 10th death\": 16}, {\"Country\": \"South Korea\", \"Date\": \"2020-03-13T00:00:00\", \"Confirmed Cases\": 66, \"Days since 10th death\": 17}, {\"Country\": \"South Korea\", \"Date\": \"2020-03-14T00:00:00\", \"Confirmed Cases\": 72, \"Days since 10th death\": 18}, {\"Country\": \"South Korea\", \"Date\": \"2020-03-15T00:00:00\", \"Confirmed Cases\": 75, \"Days since 10th death\": 19}, {\"Country\": \"South Korea\", \"Date\": \"2020-03-16T00:00:00\", \"Confirmed Cases\": 75, \"Days since 10th death\": 20}, {\"Country\": \"South Korea\", \"Date\": \"2020-03-17T00:00:00\", \"Confirmed Cases\": 81, \"Days since 10th death\": 21}, {\"Country\": \"Spain\", \"Date\": \"2020-03-07T00:00:00\", \"Confirmed Cases\": 10, \"Days since 10th death\": 0}, {\"Country\": \"Spain\", \"Date\": \"2020-03-08T00:00:00\", \"Confirmed Cases\": 17, \"Days since 10th death\": 1}, {\"Country\": \"Spain\", \"Date\": \"2020-03-09T00:00:00\", \"Confirmed Cases\": 28, \"Days since 10th death\": 2}, {\"Country\": \"Spain\", \"Date\": \"2020-03-10T00:00:00\", \"Confirmed Cases\": 35, \"Days since 10th death\": 3}, {\"Country\": \"Spain\", \"Date\": \"2020-03-11T00:00:00\", \"Confirmed Cases\": 54, \"Days since 10th death\": 4}, {\"Country\": \"Spain\", \"Date\": \"2020-03-12T00:00:00\", \"Confirmed Cases\": 55, \"Days since 10th death\": 5}, {\"Country\": \"Spain\", \"Date\": \"2020-03-13T00:00:00\", \"Confirmed Cases\": 133, \"Days since 10th death\": 6}, {\"Country\": \"Spain\", \"Date\": \"2020-03-14T00:00:00\", \"Confirmed Cases\": 195, \"Days since 10th death\": 7}, {\"Country\": \"Spain\", \"Date\": \"2020-03-15T00:00:00\", \"Confirmed Cases\": 289, \"Days since 10th death\": 8}, {\"Country\": \"Spain\", \"Date\": \"2020-03-16T00:00:00\", \"Confirmed Cases\": 342, \"Days since 10th death\": 9}, {\"Country\": \"Spain\", \"Date\": \"2020-03-17T00:00:00\", \"Confirmed Cases\": 533, \"Days since 10th death\": 10}, {\"Country\": \"Switzerland\", \"Date\": \"2020-03-13T00:00:00\", \"Confirmed Cases\": 11, \"Days since 10th death\": 0}, {\"Country\": \"Switzerland\", \"Date\": \"2020-03-14T00:00:00\", \"Confirmed Cases\": 13, \"Days since 10th death\": 1}, {\"Country\": \"Switzerland\", \"Date\": \"2020-03-15T00:00:00\", \"Confirmed Cases\": 14, \"Days since 10th death\": 2}, {\"Country\": \"Switzerland\", \"Date\": \"2020-03-16T00:00:00\", \"Confirmed Cases\": 14, \"Days since 10th death\": 3}, {\"Country\": \"Switzerland\", \"Date\": \"2020-03-17T00:00:00\", \"Confirmed Cases\": 27, \"Days since 10th death\": 4}, {\"Country\": \"US\", \"Date\": \"2020-03-04T00:00:00\", \"Confirmed Cases\": 11, \"Days since 10th death\": 0}, {\"Country\": \"US\", \"Date\": \"2020-03-05T00:00:00\", \"Confirmed Cases\": 12, \"Days since 10th death\": 1}, {\"Country\": \"US\", \"Date\": \"2020-03-06T00:00:00\", \"Confirmed Cases\": 14, \"Days since 10th death\": 2}, {\"Country\": \"US\", \"Date\": \"2020-03-07T00:00:00\", \"Confirmed Cases\": 17, \"Days since 10th death\": 3}, {\"Country\": \"US\", \"Date\": \"2020-03-08T00:00:00\", \"Confirmed Cases\": 21, \"Days since 10th death\": 4}, {\"Country\": \"US\", \"Date\": \"2020-03-09T00:00:00\", \"Confirmed Cases\": 22, \"Days since 10th death\": 5}, {\"Country\": \"US\", \"Date\": \"2020-03-10T00:00:00\", \"Confirmed Cases\": 28, \"Days since 10th death\": 6}, {\"Country\": \"US\", \"Date\": \"2020-03-11T00:00:00\", \"Confirmed Cases\": 36, \"Days since 10th death\": 7}, {\"Country\": \"US\", \"Date\": \"2020-03-12T00:00:00\", \"Confirmed Cases\": 40, \"Days since 10th death\": 8}, {\"Country\": \"US\", \"Date\": \"2020-03-13T00:00:00\", \"Confirmed Cases\": 47, \"Days since 10th death\": 9}, {\"Country\": \"US\", \"Date\": \"2020-03-14T00:00:00\", \"Confirmed Cases\": 54, \"Days since 10th death\": 10}, {\"Country\": \"US\", \"Date\": \"2020-03-15T00:00:00\", \"Confirmed Cases\": 63, \"Days since 10th death\": 11}, {\"Country\": \"US\", \"Date\": \"2020-03-16T00:00:00\", \"Confirmed Cases\": 85, \"Days since 10th death\": 12}, {\"Country\": \"US\", \"Date\": \"2020-03-17T00:00:00\", \"Confirmed Cases\": 108, \"Days since 10th death\": 13}, {\"Country\": \"United Kingdom\", \"Date\": \"2020-03-14T00:00:00\", \"Confirmed Cases\": 21, \"Days since 10th death\": 0}, {\"Country\": \"United Kingdom\", \"Date\": \"2020-03-15T00:00:00\", \"Confirmed Cases\": 21, \"Days since 10th death\": 1}, {\"Country\": \"United Kingdom\", \"Date\": \"2020-03-16T00:00:00\", \"Confirmed Cases\": 56, \"Days since 10th death\": 2}, {\"Country\": \"United Kingdom\", \"Date\": \"2020-03-17T00:00:00\", \"Confirmed Cases\": 56, \"Days since 10th death\": 3}]}}, {\"mode\": \"vega-lite\"});\n",
       "</script>"
      ],
      "text/plain": [
       "alt.LayerChart(...)"
      ]
     },
     "execution_count": 13,
     "metadata": {},
     "output_type": "execute_result"
    }
   ],
   "source": [
    "#hide_input\n",
    "base = alt.Chart(dff2, width=600).encode(\n",
    "    x=f'{COL_X}:Q',\n",
    "    y=alt.Y('Confirmed Cases:Q', scale=alt.Scale(type='log'), axis=alt.Axis(title='Cumulative Deaths')),\n",
    "    color=alt.Color('Country:N', scale=alt.Scale(domain=color_domain, range=color_range), legend=None),\n",
    "    tooltip=['Country', 'Date', 'Confirmed Cases', COL_X]\n",
    ")\n",
    "\n",
    "country_selection = alt.selection_single(\n",
    "    name='Select', fields=['Country'], \n",
    "    bind=alt.binding_select(options=list(sorted(set(countries) - set(baseline_countries)))),\n",
    "    init={'Country': 'US'})\n",
    "\n",
    "date_filter = alt.datum['Date'] >= int(max_date.timestamp() * 1000)\n",
    "base2 = base.transform_filter(alt.FieldOneOfPredicate('Country', baseline_countries))\n",
    "base3 = base.transform_filter(country_selection)\n",
    "base4 = base3.transform_filter(date_filter)\n",
    "\n",
    "max_day = dff2[COL_X].max()\n",
    "ref = pd.DataFrame([[x, SINCE_CASES_NUM*1.33**x] for x in range(max_day+1)], columns=[COL_X, 'Confirmed Cases'])\n",
    "base_ref = alt.Chart(ref).encode(x=f'{COL_X}:Q', y='Confirmed Cases:Q')\n",
    "base_ref_f = base_ref.transform_filter(alt.datum[COL_X] >= max_day)\n",
    "\n",
    "chart5 = (\n",
    " base_ref.mark_line(color='black', opacity=.5, strokeDash=[3,3]) + \n",
    " base_ref_f.mark_text(dy=-6, align='right', fontSize=10, text='33% Daily Growth') + \n",
    " base2.mark_line(point=True, tooltip=True) +\n",
    " base3.mark_line(point={'size':50}, tooltip=True) +\n",
    " base2.transform_filter(date_filter).mark_text(dy=-8, align='right').encode(text='Country:N') +\n",
    " base4.mark_text(dx=8, align='left', fontWeight='bold').encode(text='Country:N') +\n",
    " base4.mark_text(dx=8, dy=12, align='left', fontWeight='bold').encode(text='Confirmed Cases:Q')\n",
    ").add_selection(country_selection).properties(\n",
    "    title=f\"Country's death trajectory compared to {', '.join(baseline_countries)}\"\n",
    ")\n",
    "chart5"
   ]
  },
  {
   "cell_type": "markdown",
   "metadata": {
    "papermill": {
     "duration": 0.012165,
     "end_time": "2020-03-18T14:03:42.857484",
     "exception": false,
     "start_time": "2020-03-18T14:03:42.845319",
     "status": "completed"
    },
    "tags": []
   },
   "source": [
    "Interactive by [Pratap Vardhan](https://twitter.com/PratapVardhan)[^1]\n",
    "\n",
    "[^1]: Source: [\"2019 Novel Coronavirus COVID-19 (2019-nCoV) Data Repository by Johns Hopkins CSSE\"](https://systems.jhu.edu/research/public-health/ncov/) [GitHub repository](https://github.com/CSSEGISandData/COVID-19). Link to [original notebook](https://github.com/pratapvardhan/notebooks/blob/master/covid19/covid19-compare-country-death-trajectories.ipynb)."
   ]
  }
 ],
 "metadata": {
  "kernelspec": {
   "display_name": "Python 3",
   "language": "python",
   "name": "python3"
  },
  "language_info": {
   "codemirror_mode": {
    "name": "ipython",
    "version": 3
   },
   "file_extension": ".py",
   "mimetype": "text/x-python",
   "name": "python",
   "nbconvert_exporter": "python",
   "pygments_lexer": "ipython3",
   "version": "3.6.10"
  },
  "papermill": {
   "duration": 2.239127,
   "end_time": "2020-03-18T14:03:42.874555",
   "environment_variables": {},
   "exception": null,
   "input_path": "2020-03-17-covid19-compare-country-trajectories.ipynb",
   "output_path": "2020-03-17-covid19-compare-country-trajectories.ipynb",
   "parameters": {},
   "start_time": "2020-03-18T14:03:40.635428",
   "version": "2.0.0"
  }
 },
 "nbformat": 4,
 "nbformat_minor": 2
}
