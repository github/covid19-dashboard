{
 "cells": [
  {
   "cell_type": "markdown",
   "metadata": {
    "papermill": {
     "duration": 0.018943,
     "end_time": "2020-04-28T12:08:06.188782",
     "exception": false,
     "start_time": "2020-04-28T12:08:06.169839",
     "status": "completed"
    },
    "tags": []
   },
   "source": [
    "# Flattening the curve in Brazil \n",
    "> Confirmed cases that are estimated to need ICUs and estimated number of available ICUs for covid-19 patients\n",
    "\n",
    "- toc: true\n",
    "- badges: true\n",
    "- comments: true\n",
    "- author: Cleber Jorge Amaral\n",
    "- categories: [jupyter]\n",
    "- image: images/brazil-flatten-the-curve.png"
   ]
  },
  {
   "cell_type": "code",
   "execution_count": 1,
   "metadata": {
    "execution": {
     "iopub.execute_input": "2020-04-28T12:08:06.220739Z",
     "iopub.status.busy": "2020-04-28T12:08:06.220132Z",
     "iopub.status.idle": "2020-04-28T12:08:06.644708Z",
     "shell.execute_reply": "2020-04-28T12:08:06.643619Z"
    },
    "papermill": {
     "duration": 0.441167,
     "end_time": "2020-04-28T12:08:06.644848",
     "exception": false,
     "start_time": "2020-04-28T12:08:06.203681",
     "status": "completed"
    },
    "tags": []
   },
   "outputs": [
    {
     "name": "stderr",
     "output_type": "stream",
     "text": [
      "/usr/local/lib/python3.8/site-packages/pandas/compat/__init__.py:117: UserWarning: Could not import the lzma module. Your installed Python is incomplete. Attempting to use lzma compression will result in a RuntimeError.\n",
      "  warnings.warn(msg)\n"
     ]
    }
   ],
   "source": [
    "#hide\n",
    "import pandas as pd\n",
    "import altair as alt\n",
    "import math\n",
    "from IPython.display import HTML\n",
    "\n",
    "CHART_WIDTH = 600\n",
    "CHART_HEIGHT = 400"
   ]
  },
  {
   "cell_type": "code",
   "execution_count": 2,
   "metadata": {},
   "outputs": [],
   "source": [
    "#hide\n",
    "STATE_COLUMN = \"State\"\n",
    "DATE_COLUMN = \"Date\"\n",
    "CONFIRMED_CASES = 'Confirmed Cases'\n",
    "VALUE = \"Value\"\n",
    "CASES_NEED_ICU = 0.05\n",
    "TOTAL_ICU = 33905\n",
    "AVAILABLE_PERCENTAGE_ICU = 0.35\n",
    "TOTAL_AVAILABLE_ICU = TOTAL_ICU * AVAILABLE_PERCENTAGE_ICU\n",
    "CASES_NEED_ICU_COLUMN = \"Need ICU\"+\"{:.0f}\".format(CASES_NEED_ICU*100)+\"% of cases\"\n",
    "PATIENTS = \"Patients\"\n",
    "UPPER_BOUND_ICU_NEED_STR = \"Upper bound ICU need\"\n",
    "LOWER_BOUND_ICU_NEED_STR = \"Lower bound ICU need\"\n",
    "UPPER_BOUND_ICU_NEED = 0.12\n",
    "LOWER_BOUND_ICU_NEED = 0.01"
   ]
  },
  {
   "cell_type": "code",
   "execution_count": 3,
   "metadata": {
    "scrolled": true
   },
   "outputs": [
    {
     "name": "stderr",
     "output_type": "stream",
     "text": [
      "<ipython-input-3-b0f310ef8ec4>:6: SettingWithCopyWarning: \n",
      "A value is trying to be set on a copy of a slice from a DataFrame.\n",
      "Try using .loc[row_indexer,col_indexer] = value instead\n",
      "\n",
      "See the caveats in the documentation: https://pandas.pydata.org/pandas-docs/stable/user_guide/indexing.html#returning-a-view-versus-a-copy\n",
      "  df_cases['base'] = 'cases'\n"
     ]
    }
   ],
   "source": [
    "#hide\n",
    "url_cases = ('https://raw.githubusercontent.com/CSSEGISandData/COVID-19/master/csse_covid_19_data/csse_covid_19_time_series/time_series_covid19_confirmed_global.csv')\n",
    "\n",
    "src = pd.read_csv(url_cases)\n",
    "df_cases = src[(src['Country/Region'] == 'Brazil')]\n",
    "df_cases['base'] = 'cases'\n",
    "\n",
    "df = df_cases.copy()\n",
    "\n",
    "df = df.drop(['Province/State', 'Country/Region', 'Lat', 'Long'], axis=1)\n",
    "#df = df.reset_index()\n",
    "\n",
    "# Add active cases row\n",
    "df = df.set_index('base')\n",
    "new_row = df.loc['cases']\n",
    "new_row.name = 'actives'\n",
    "df = df.append([new_row])\n",
    "# Reset index after added new row\n",
    "df = df.reset_index()\n",
    "df = df.rename(columns={\"index\":\"base\"})\n",
    "\n",
    "# Melt structure (unpivot)\n",
    "dt_cols = list(df.columns[~df.columns.isin(['base','index'])])\n",
    "df = df.melt(id_vars=['base'], value_vars=dt_cols)\n",
    "df = df.rename(columns={\n",
    "     \"base\": STATE_COLUMN, \n",
    "     \"variable\":DATE_COLUMN, \n",
    "     \"value\":VALUE,\n",
    "     \"actives\": CONFIRMED_CASES\n",
    "})\n",
    "df[DATE_COLUMN] = pd.to_datetime(df[DATE_COLUMN])\n",
    "df[DATE_COLUMN] = df[DATE_COLUMN].dt.strftime('%m/%d/%y')\n",
    "df = df.sort_values(by=[DATE_COLUMN])\n",
    "\n",
    "df = df[df[STATE_COLUMN].isin(['actives'])]\n",
    "\n",
    "data = df.copy()"
   ]
  },
  {
   "cell_type": "code",
   "execution_count": 4,
   "metadata": {},
   "outputs": [],
   "source": [
    "#hide\n",
    "df = data.copy()\n",
    "STATE_COLUMN = PATIENTS\n",
    "df[STATE_COLUMN] = CASES_NEED_ICU_COLUMN\n",
    "df[UPPER_BOUND_ICU_NEED_STR] = round(df[VALUE] * (UPPER_BOUND_ICU_NEED),0)\n",
    "df[LOWER_BOUND_ICU_NEED_STR] = round(df[VALUE] * (LOWER_BOUND_ICU_NEED),0)\n",
    "df = df.rename(columns={VALUE:CONFIRMED_CASES})\n",
    "df[CONFIRMED_CASES] = round(df[CONFIRMED_CASES] * (CASES_NEED_ICU),0)\n",
    "#df.tail()"
   ]
  },
  {
   "cell_type": "code",
   "execution_count": 5,
   "metadata": {},
   "outputs": [
    {
     "data": {
      "text/html": [
       "\n",
       "<div id=\"altair-viz-a526aa3a75fc455fa819147b44e46fe0\"></div>\n",
       "<script type=\"text/javascript\">\n",
       "  (function(spec, embedOpt){\n",
       "    let outputDiv = document.currentScript.previousElementSibling;\n",
       "    if (outputDiv.id !== \"altair-viz-a526aa3a75fc455fa819147b44e46fe0\") {\n",
       "      outputDiv = document.getElementById(\"altair-viz-a526aa3a75fc455fa819147b44e46fe0\");\n",
       "    }\n",
       "    const paths = {\n",
       "      \"vega\": \"https://cdn.jsdelivr.net/npm//vega@5?noext\",\n",
       "      \"vega-lib\": \"https://cdn.jsdelivr.net/npm//vega-lib?noext\",\n",
       "      \"vega-lite\": \"https://cdn.jsdelivr.net/npm//vega-lite@4.8.1?noext\",\n",
       "      \"vega-embed\": \"https://cdn.jsdelivr.net/npm//vega-embed@6?noext\",\n",
       "    };\n",
       "\n",
       "    function loadScript(lib) {\n",
       "      return new Promise(function(resolve, reject) {\n",
       "        var s = document.createElement('script');\n",
       "        s.src = paths[lib];\n",
       "        s.async = true;\n",
       "        s.onload = () => resolve(paths[lib]);\n",
       "        s.onerror = () => reject(`Error loading script: ${paths[lib]}`);\n",
       "        document.getElementsByTagName(\"head\")[0].appendChild(s);\n",
       "      });\n",
       "    }\n",
       "\n",
       "    function showError(err) {\n",
       "      outputDiv.innerHTML = `<div class=\"error\" style=\"color:red;\">${err}</div>`;\n",
       "      throw err;\n",
       "    }\n",
       "\n",
       "    function displayChart(vegaEmbed) {\n",
       "      vegaEmbed(outputDiv, spec, embedOpt)\n",
       "        .catch(err => showError(`Javascript Error: ${err.message}<br>This usually means there's a typo in your chart specification. See the javascript console for the full traceback.`));\n",
       "    }\n",
       "\n",
       "    if(typeof define === \"function\" && define.amd) {\n",
       "      requirejs.config({paths});\n",
       "      require([\"vega-embed\"], displayChart, err => showError(`Error loading script: ${err.message}`));\n",
       "    } else if (typeof vegaEmbed === \"function\") {\n",
       "      displayChart(vegaEmbed);\n",
       "    } else {\n",
       "      loadScript(\"vega\")\n",
       "        .then(() => loadScript(\"vega-lite\"))\n",
       "        .then(() => loadScript(\"vega-embed\"))\n",
       "        .catch(showError)\n",
       "        .then(() => displayChart(vegaEmbed));\n",
       "    }\n",
       "  })({\"config\": {\"view\": {\"continuousWidth\": 400, \"continuousHeight\": 300}}, \"layer\": [{\"data\": {\"name\": \"data-000b5d6676fd125ed1996d726bd742a9\"}, \"mark\": \"line\", \"encoding\": {\"color\": {\"condition\": {\"type\": \"nominal\", \"field\": \"Patients\", \"legend\": null, \"scale\": {\"reverse\": false, \"scheme\": \"tableau20\"}, \"selection\": \"selector001\"}, \"value\": \"#ffbf79\"}, \"order\": {\"type\": \"nominal\", \"field\": \"Patients\", \"sort\": \"ascending\"}, \"tooltip\": [{\"type\": \"nominal\", \"field\": \"Date\"}, {\"type\": \"nominal\", \"field\": \"Patients\"}, {\"type\": \"quantitative\", \"field\": \"Confirmed Cases\"}], \"x\": {\"type\": \"ordinal\", \"axis\": {\"title\": \"Date\"}, \"field\": \"Date\"}, \"y\": {\"type\": \"quantitative\", \"axis\": {\"title\": [\"Estimated percentage of confirmed cases that need ICU: 5%\", \"Upper bound ICU need: 12%\", \"Lower bound ICU need: 1%\"]}, \"field\": \"Confirmed Cases\"}}, \"height\": 400, \"selection\": {\"selector001\": {\"type\": \"multi\", \"fields\": [\"Patients\"], \"on\": \"mouseover\"}}, \"title\": [\"Flatten the curve - only confirmed cases that are estimated to need ICU\", \"*see assumptions\"], \"width\": 600}, {\"data\": {\"name\": \"data-5a26186991c6fc38bf2b9ddba8330616\"}, \"mark\": {\"type\": \"rule\", \"color\": \"#e42726\", \"strokeWidth\": 2}, \"encoding\": {\"y\": {\"type\": \"quantitative\", \"field\": \"y\"}}}, {\"data\": {\"name\": \"data-5a26186991c6fc38bf2b9ddba8330616\"}, \"mark\": {\"type\": \"text\", \"align\": \"left\", \"color\": \"#e42726\", \"dy\": -10, \"strokeWidth\": 1, \"x\": 5}, \"encoding\": {\"text\": {\"value\": \"ICUs for COVID19 patients: 11867 units\"}, \"y\": {\"type\": \"quantitative\", \"field\": \"y\"}}}, {\"data\": {\"name\": \"data-5a26186991c6fc38bf2b9ddba8330616\"}, \"mark\": {\"type\": \"text\", \"align\": \"left\", \"color\": \"#e42726\", \"dy\": 10, \"strokeWidth\": 1, \"x\": 5}, \"encoding\": {\"text\": {\"value\": \"35% of 33905 ICUs in the country\"}, \"y\": {\"type\": \"quantitative\", \"field\": \"y\"}}}, {\"data\": {\"name\": \"data-000b5d6676fd125ed1996d726bd742a9\"}, \"mark\": \"area\", \"encoding\": {\"opacity\": {\"condition\": {\"value\": 0.2, \"selection\": \"selector001\"}, \"value\": 0.5}, \"x\": {\"type\": \"ordinal\", \"field\": \"Date\"}, \"y\": {\"type\": \"quantitative\", \"field\": \"Lower bound ICU need\"}, \"y2\": {\"field\": \"Upper bound ICU need\"}}}], \"$schema\": \"https://vega.github.io/schema/vega-lite/v4.8.1.json\", \"datasets\": {\"data-000b5d6676fd125ed1996d726bd742a9\": [{\"State\": \"actives\", \"Date\": \"01/22/20\", \"Confirmed Cases\": 0.0, \"Patients\": \"Need ICU5% of cases\", \"Upper bound ICU need\": 0.0, \"Lower bound ICU need\": 0.0}, {\"State\": \"actives\", \"Date\": \"01/23/20\", \"Confirmed Cases\": 0.0, \"Patients\": \"Need ICU5% of cases\", \"Upper bound ICU need\": 0.0, \"Lower bound ICU need\": 0.0}, {\"State\": \"actives\", \"Date\": \"01/24/20\", \"Confirmed Cases\": 0.0, \"Patients\": \"Need ICU5% of cases\", \"Upper bound ICU need\": 0.0, \"Lower bound ICU need\": 0.0}, {\"State\": \"actives\", \"Date\": \"01/25/20\", \"Confirmed Cases\": 0.0, \"Patients\": \"Need ICU5% of cases\", \"Upper bound ICU need\": 0.0, \"Lower bound ICU need\": 0.0}, {\"State\": \"actives\", \"Date\": \"01/26/20\", \"Confirmed Cases\": 0.0, \"Patients\": \"Need ICU5% of cases\", \"Upper bound ICU need\": 0.0, \"Lower bound ICU need\": 0.0}, {\"State\": \"actives\", \"Date\": \"01/27/20\", \"Confirmed Cases\": 0.0, \"Patients\": \"Need ICU5% of cases\", \"Upper bound ICU need\": 0.0, \"Lower bound ICU need\": 0.0}, {\"State\": \"actives\", \"Date\": \"01/28/20\", \"Confirmed Cases\": 0.0, \"Patients\": \"Need ICU5% of cases\", \"Upper bound ICU need\": 0.0, \"Lower bound ICU need\": 0.0}, {\"State\": \"actives\", \"Date\": \"01/29/20\", \"Confirmed Cases\": 0.0, \"Patients\": \"Need ICU5% of cases\", \"Upper bound ICU need\": 0.0, \"Lower bound ICU need\": 0.0}, {\"State\": \"actives\", \"Date\": \"01/30/20\", \"Confirmed Cases\": 0.0, \"Patients\": \"Need ICU5% of cases\", \"Upper bound ICU need\": 0.0, \"Lower bound ICU need\": 0.0}, {\"State\": \"actives\", \"Date\": \"01/31/20\", \"Confirmed Cases\": 0.0, \"Patients\": \"Need ICU5% of cases\", \"Upper bound ICU need\": 0.0, \"Lower bound ICU need\": 0.0}, {\"State\": \"actives\", \"Date\": \"02/01/20\", \"Confirmed Cases\": 0.0, \"Patients\": \"Need ICU5% of cases\", \"Upper bound ICU need\": 0.0, \"Lower bound ICU need\": 0.0}, {\"State\": \"actives\", \"Date\": \"02/02/20\", \"Confirmed Cases\": 0.0, \"Patients\": \"Need ICU5% of cases\", \"Upper bound ICU need\": 0.0, \"Lower bound ICU need\": 0.0}, {\"State\": \"actives\", \"Date\": \"02/03/20\", \"Confirmed Cases\": 0.0, \"Patients\": \"Need ICU5% of cases\", \"Upper bound ICU need\": 0.0, \"Lower bound ICU need\": 0.0}, {\"State\": \"actives\", \"Date\": \"02/04/20\", \"Confirmed Cases\": 0.0, \"Patients\": \"Need ICU5% of cases\", \"Upper bound ICU need\": 0.0, \"Lower bound ICU need\": 0.0}, {\"State\": \"actives\", \"Date\": \"02/05/20\", \"Confirmed Cases\": 0.0, \"Patients\": \"Need ICU5% of cases\", \"Upper bound ICU need\": 0.0, \"Lower bound ICU need\": 0.0}, {\"State\": \"actives\", \"Date\": \"02/06/20\", \"Confirmed Cases\": 0.0, \"Patients\": \"Need ICU5% of cases\", \"Upper bound ICU need\": 0.0, \"Lower bound ICU need\": 0.0}, {\"State\": \"actives\", \"Date\": \"02/07/20\", \"Confirmed Cases\": 0.0, \"Patients\": \"Need ICU5% of cases\", \"Upper bound ICU need\": 0.0, \"Lower bound ICU need\": 0.0}, {\"State\": \"actives\", \"Date\": \"02/08/20\", \"Confirmed Cases\": 0.0, \"Patients\": \"Need ICU5% of cases\", \"Upper bound ICU need\": 0.0, \"Lower bound ICU need\": 0.0}, {\"State\": \"actives\", \"Date\": \"02/09/20\", \"Confirmed Cases\": 0.0, \"Patients\": \"Need ICU5% of cases\", \"Upper bound ICU need\": 0.0, \"Lower bound ICU need\": 0.0}, {\"State\": \"actives\", \"Date\": \"02/10/20\", \"Confirmed Cases\": 0.0, \"Patients\": \"Need ICU5% of cases\", \"Upper bound ICU need\": 0.0, \"Lower bound ICU need\": 0.0}, {\"State\": \"actives\", \"Date\": \"02/11/20\", \"Confirmed Cases\": 0.0, \"Patients\": \"Need ICU5% of cases\", \"Upper bound ICU need\": 0.0, \"Lower bound ICU need\": 0.0}, {\"State\": \"actives\", \"Date\": \"02/12/20\", \"Confirmed Cases\": 0.0, \"Patients\": \"Need ICU5% of cases\", \"Upper bound ICU need\": 0.0, \"Lower bound ICU need\": 0.0}, {\"State\": \"actives\", \"Date\": \"02/13/20\", \"Confirmed Cases\": 0.0, \"Patients\": \"Need ICU5% of cases\", \"Upper bound ICU need\": 0.0, \"Lower bound ICU need\": 0.0}, {\"State\": \"actives\", \"Date\": \"02/14/20\", \"Confirmed Cases\": 0.0, \"Patients\": \"Need ICU5% of cases\", \"Upper bound ICU need\": 0.0, \"Lower bound ICU need\": 0.0}, {\"State\": \"actives\", \"Date\": \"02/15/20\", \"Confirmed Cases\": 0.0, \"Patients\": \"Need ICU5% of cases\", \"Upper bound ICU need\": 0.0, \"Lower bound ICU need\": 0.0}, {\"State\": \"actives\", \"Date\": \"02/16/20\", \"Confirmed Cases\": 0.0, \"Patients\": \"Need ICU5% of cases\", \"Upper bound ICU need\": 0.0, \"Lower bound ICU need\": 0.0}, {\"State\": \"actives\", \"Date\": \"02/17/20\", \"Confirmed Cases\": 0.0, \"Patients\": \"Need ICU5% of cases\", \"Upper bound ICU need\": 0.0, \"Lower bound ICU need\": 0.0}, {\"State\": \"actives\", \"Date\": \"02/18/20\", \"Confirmed Cases\": 0.0, \"Patients\": \"Need ICU5% of cases\", \"Upper bound ICU need\": 0.0, \"Lower bound ICU need\": 0.0}, {\"State\": \"actives\", \"Date\": \"02/19/20\", \"Confirmed Cases\": 0.0, \"Patients\": \"Need ICU5% of cases\", \"Upper bound ICU need\": 0.0, \"Lower bound ICU need\": 0.0}, {\"State\": \"actives\", \"Date\": \"02/20/20\", \"Confirmed Cases\": 0.0, \"Patients\": \"Need ICU5% of cases\", \"Upper bound ICU need\": 0.0, \"Lower bound ICU need\": 0.0}, {\"State\": \"actives\", \"Date\": \"02/21/20\", \"Confirmed Cases\": 0.0, \"Patients\": \"Need ICU5% of cases\", \"Upper bound ICU need\": 0.0, \"Lower bound ICU need\": 0.0}, {\"State\": \"actives\", \"Date\": \"02/22/20\", \"Confirmed Cases\": 0.0, \"Patients\": \"Need ICU5% of cases\", \"Upper bound ICU need\": 0.0, \"Lower bound ICU need\": 0.0}, {\"State\": \"actives\", \"Date\": \"02/23/20\", \"Confirmed Cases\": 0.0, \"Patients\": \"Need ICU5% of cases\", \"Upper bound ICU need\": 0.0, \"Lower bound ICU need\": 0.0}, {\"State\": \"actives\", \"Date\": \"02/24/20\", \"Confirmed Cases\": 0.0, \"Patients\": \"Need ICU5% of cases\", \"Upper bound ICU need\": 0.0, \"Lower bound ICU need\": 0.0}, {\"State\": \"actives\", \"Date\": \"02/25/20\", \"Confirmed Cases\": 0.0, \"Patients\": \"Need ICU5% of cases\", \"Upper bound ICU need\": 0.0, \"Lower bound ICU need\": 0.0}, {\"State\": \"actives\", \"Date\": \"02/26/20\", \"Confirmed Cases\": 0.0, \"Patients\": \"Need ICU5% of cases\", \"Upper bound ICU need\": 0.0, \"Lower bound ICU need\": 0.0}, {\"State\": \"actives\", \"Date\": \"02/27/20\", \"Confirmed Cases\": 0.0, \"Patients\": \"Need ICU5% of cases\", \"Upper bound ICU need\": 0.0, \"Lower bound ICU need\": 0.0}, {\"State\": \"actives\", \"Date\": \"02/28/20\", \"Confirmed Cases\": 0.0, \"Patients\": \"Need ICU5% of cases\", \"Upper bound ICU need\": 0.0, \"Lower bound ICU need\": 0.0}, {\"State\": \"actives\", \"Date\": \"02/29/20\", \"Confirmed Cases\": 0.0, \"Patients\": \"Need ICU5% of cases\", \"Upper bound ICU need\": 0.0, \"Lower bound ICU need\": 0.0}, {\"State\": \"actives\", \"Date\": \"03/01/20\", \"Confirmed Cases\": 0.0, \"Patients\": \"Need ICU5% of cases\", \"Upper bound ICU need\": 0.0, \"Lower bound ICU need\": 0.0}, {\"State\": \"actives\", \"Date\": \"03/02/20\", \"Confirmed Cases\": 0.0, \"Patients\": \"Need ICU5% of cases\", \"Upper bound ICU need\": 0.0, \"Lower bound ICU need\": 0.0}, {\"State\": \"actives\", \"Date\": \"03/03/20\", \"Confirmed Cases\": 0.0, \"Patients\": \"Need ICU5% of cases\", \"Upper bound ICU need\": 0.0, \"Lower bound ICU need\": 0.0}, {\"State\": \"actives\", \"Date\": \"03/04/20\", \"Confirmed Cases\": 0.0, \"Patients\": \"Need ICU5% of cases\", \"Upper bound ICU need\": 0.0, \"Lower bound ICU need\": 0.0}, {\"State\": \"actives\", \"Date\": \"03/05/20\", \"Confirmed Cases\": 0.0, \"Patients\": \"Need ICU5% of cases\", \"Upper bound ICU need\": 0.0, \"Lower bound ICU need\": 0.0}, {\"State\": \"actives\", \"Date\": \"03/06/20\", \"Confirmed Cases\": 1.0, \"Patients\": \"Need ICU5% of cases\", \"Upper bound ICU need\": 2.0, \"Lower bound ICU need\": 0.0}, {\"State\": \"actives\", \"Date\": \"03/07/20\", \"Confirmed Cases\": 1.0, \"Patients\": \"Need ICU5% of cases\", \"Upper bound ICU need\": 2.0, \"Lower bound ICU need\": 0.0}, {\"State\": \"actives\", \"Date\": \"03/08/20\", \"Confirmed Cases\": 1.0, \"Patients\": \"Need ICU5% of cases\", \"Upper bound ICU need\": 2.0, \"Lower bound ICU need\": 0.0}, {\"State\": \"actives\", \"Date\": \"03/09/20\", \"Confirmed Cases\": 1.0, \"Patients\": \"Need ICU5% of cases\", \"Upper bound ICU need\": 3.0, \"Lower bound ICU need\": 0.0}, {\"State\": \"actives\", \"Date\": \"03/10/20\", \"Confirmed Cases\": 2.0, \"Patients\": \"Need ICU5% of cases\", \"Upper bound ICU need\": 4.0, \"Lower bound ICU need\": 0.0}, {\"State\": \"actives\", \"Date\": \"03/11/20\", \"Confirmed Cases\": 2.0, \"Patients\": \"Need ICU5% of cases\", \"Upper bound ICU need\": 5.0, \"Lower bound ICU need\": 0.0}, {\"State\": \"actives\", \"Date\": \"03/12/20\", \"Confirmed Cases\": 3.0, \"Patients\": \"Need ICU5% of cases\", \"Upper bound ICU need\": 6.0, \"Lower bound ICU need\": 1.0}, {\"State\": \"actives\", \"Date\": \"03/13/20\", \"Confirmed Cases\": 8.0, \"Patients\": \"Need ICU5% of cases\", \"Upper bound ICU need\": 18.0, \"Lower bound ICU need\": 2.0}, {\"State\": \"actives\", \"Date\": \"03/14/20\", \"Confirmed Cases\": 8.0, \"Patients\": \"Need ICU5% of cases\", \"Upper bound ICU need\": 18.0, \"Lower bound ICU need\": 2.0}, {\"State\": \"actives\", \"Date\": \"03/15/20\", \"Confirmed Cases\": 8.0, \"Patients\": \"Need ICU5% of cases\", \"Upper bound ICU need\": 19.0, \"Lower bound ICU need\": 2.0}, {\"State\": \"actives\", \"Date\": \"03/16/20\", \"Confirmed Cases\": 10.0, \"Patients\": \"Need ICU5% of cases\", \"Upper bound ICU need\": 24.0, \"Lower bound ICU need\": 2.0}, {\"State\": \"actives\", \"Date\": \"03/17/20\", \"Confirmed Cases\": 16.0, \"Patients\": \"Need ICU5% of cases\", \"Upper bound ICU need\": 39.0, \"Lower bound ICU need\": 3.0}, {\"State\": \"actives\", \"Date\": \"03/18/20\", \"Confirmed Cases\": 19.0, \"Patients\": \"Need ICU5% of cases\", \"Upper bound ICU need\": 45.0, \"Lower bound ICU need\": 4.0}, {\"State\": \"actives\", \"Date\": \"03/19/20\", \"Confirmed Cases\": 31.0, \"Patients\": \"Need ICU5% of cases\", \"Upper bound ICU need\": 75.0, \"Lower bound ICU need\": 6.0}, {\"State\": \"actives\", \"Date\": \"03/20/20\", \"Confirmed Cases\": 40.0, \"Patients\": \"Need ICU5% of cases\", \"Upper bound ICU need\": 95.0, \"Lower bound ICU need\": 8.0}, {\"State\": \"actives\", \"Date\": \"03/21/20\", \"Confirmed Cases\": 51.0, \"Patients\": \"Need ICU5% of cases\", \"Upper bound ICU need\": 123.0, \"Lower bound ICU need\": 10.0}, {\"State\": \"actives\", \"Date\": \"03/22/20\", \"Confirmed Cases\": 77.0, \"Patients\": \"Need ICU5% of cases\", \"Upper bound ICU need\": 186.0, \"Lower bound ICU need\": 15.0}, {\"State\": \"actives\", \"Date\": \"03/23/20\", \"Confirmed Cases\": 96.0, \"Patients\": \"Need ICU5% of cases\", \"Upper bound ICU need\": 231.0, \"Lower bound ICU need\": 19.0}, {\"State\": \"actives\", \"Date\": \"03/24/20\", \"Confirmed Cases\": 112.0, \"Patients\": \"Need ICU5% of cases\", \"Upper bound ICU need\": 270.0, \"Lower bound ICU need\": 22.0}, {\"State\": \"actives\", \"Date\": \"03/25/20\", \"Confirmed Cases\": 128.0, \"Patients\": \"Need ICU5% of cases\", \"Upper bound ICU need\": 306.0, \"Lower bound ICU need\": 26.0}, {\"State\": \"actives\", \"Date\": \"03/26/20\", \"Confirmed Cases\": 149.0, \"Patients\": \"Need ICU5% of cases\", \"Upper bound ICU need\": 358.0, \"Lower bound ICU need\": 30.0}, {\"State\": \"actives\", \"Date\": \"03/27/20\", \"Confirmed Cases\": 171.0, \"Patients\": \"Need ICU5% of cases\", \"Upper bound ICU need\": 410.0, \"Lower bound ICU need\": 34.0}, {\"State\": \"actives\", \"Date\": \"03/28/20\", \"Confirmed Cases\": 195.0, \"Patients\": \"Need ICU5% of cases\", \"Upper bound ICU need\": 468.0, \"Lower bound ICU need\": 39.0}, {\"State\": \"actives\", \"Date\": \"03/29/20\", \"Confirmed Cases\": 213.0, \"Patients\": \"Need ICU5% of cases\", \"Upper bound ICU need\": 511.0, \"Lower bound ICU need\": 43.0}, {\"State\": \"actives\", \"Date\": \"03/30/20\", \"Confirmed Cases\": 229.0, \"Patients\": \"Need ICU5% of cases\", \"Upper bound ICU need\": 549.0, \"Lower bound ICU need\": 46.0}, {\"State\": \"actives\", \"Date\": \"03/31/20\", \"Confirmed Cases\": 286.0, \"Patients\": \"Need ICU5% of cases\", \"Upper bound ICU need\": 686.0, \"Lower bound ICU need\": 57.0}, {\"State\": \"actives\", \"Date\": \"04/01/20\", \"Confirmed Cases\": 342.0, \"Patients\": \"Need ICU5% of cases\", \"Upper bound ICU need\": 820.0, \"Lower bound ICU need\": 68.0}, {\"State\": \"actives\", \"Date\": \"04/02/20\", \"Confirmed Cases\": 402.0, \"Patients\": \"Need ICU5% of cases\", \"Upper bound ICU need\": 965.0, \"Lower bound ICU need\": 80.0}, {\"State\": \"actives\", \"Date\": \"04/03/20\", \"Confirmed Cases\": 453.0, \"Patients\": \"Need ICU5% of cases\", \"Upper bound ICU need\": 1087.0, \"Lower bound ICU need\": 91.0}, {\"State\": \"actives\", \"Date\": \"04/04/20\", \"Confirmed Cases\": 518.0, \"Patients\": \"Need ICU5% of cases\", \"Upper bound ICU need\": 1243.0, \"Lower bound ICU need\": 104.0}, {\"State\": \"actives\", \"Date\": \"04/05/20\", \"Confirmed Cases\": 556.0, \"Patients\": \"Need ICU5% of cases\", \"Upper bound ICU need\": 1336.0, \"Lower bound ICU need\": 111.0}, {\"State\": \"actives\", \"Date\": \"04/06/20\", \"Confirmed Cases\": 608.0, \"Patients\": \"Need ICU5% of cases\", \"Upper bound ICU need\": 1459.0, \"Lower bound ICU need\": 122.0}, {\"State\": \"actives\", \"Date\": \"04/07/20\", \"Confirmed Cases\": 702.0, \"Patients\": \"Need ICU5% of cases\", \"Upper bound ICU need\": 1684.0, \"Lower bound ICU need\": 140.0}, {\"State\": \"actives\", \"Date\": \"04/08/20\", \"Confirmed Cases\": 808.0, \"Patients\": \"Need ICU5% of cases\", \"Upper bound ICU need\": 1940.0, \"Lower bound ICU need\": 162.0}, {\"State\": \"actives\", \"Date\": \"04/09/20\", \"Confirmed Cases\": 905.0, \"Patients\": \"Need ICU5% of cases\", \"Upper bound ICU need\": 2171.0, \"Lower bound ICU need\": 181.0}, {\"State\": \"actives\", \"Date\": \"04/10/20\", \"Confirmed Cases\": 982.0, \"Patients\": \"Need ICU5% of cases\", \"Upper bound ICU need\": 2357.0, \"Lower bound ICU need\": 196.0}, {\"State\": \"actives\", \"Date\": \"04/11/20\", \"Confirmed Cases\": 1036.0, \"Patients\": \"Need ICU5% of cases\", \"Upper bound ICU need\": 2487.0, \"Lower bound ICU need\": 207.0}, {\"State\": \"actives\", \"Date\": \"04/12/20\", \"Confirmed Cases\": 1110.0, \"Patients\": \"Need ICU5% of cases\", \"Upper bound ICU need\": 2663.0, \"Lower bound ICU need\": 222.0}, {\"State\": \"actives\", \"Date\": \"04/13/20\", \"Confirmed Cases\": 1172.0, \"Patients\": \"Need ICU5% of cases\", \"Upper bound ICU need\": 2812.0, \"Lower bound ICU need\": 234.0}, {\"State\": \"actives\", \"Date\": \"04/14/20\", \"Confirmed Cases\": 1263.0, \"Patients\": \"Need ICU5% of cases\", \"Upper bound ICU need\": 3031.0, \"Lower bound ICU need\": 253.0}, {\"State\": \"actives\", \"Date\": \"04/15/20\", \"Confirmed Cases\": 1416.0, \"Patients\": \"Need ICU5% of cases\", \"Upper bound ICU need\": 3398.0, \"Lower bound ICU need\": 283.0}, {\"State\": \"actives\", \"Date\": \"04/16/20\", \"Confirmed Cases\": 1521.0, \"Patients\": \"Need ICU5% of cases\", \"Upper bound ICU need\": 3651.0, \"Lower bound ICU need\": 304.0}, {\"State\": \"actives\", \"Date\": \"04/17/20\", \"Confirmed Cases\": 1684.0, \"Patients\": \"Need ICU5% of cases\", \"Upper bound ICU need\": 4042.0, \"Lower bound ICU need\": 337.0}, {\"State\": \"actives\", \"Date\": \"04/18/20\", \"Confirmed Cases\": 1833.0, \"Patients\": \"Need ICU5% of cases\", \"Upper bound ICU need\": 4399.0, \"Lower bound ICU need\": 367.0}, {\"State\": \"actives\", \"Date\": \"04/19/20\", \"Confirmed Cases\": 1933.0, \"Patients\": \"Need ICU5% of cases\", \"Upper bound ICU need\": 4638.0, \"Lower bound ICU need\": 387.0}, {\"State\": \"actives\", \"Date\": \"04/20/20\", \"Confirmed Cases\": 2037.0, \"Patients\": \"Need ICU5% of cases\", \"Upper bound ICU need\": 4889.0, \"Lower bound ICU need\": 407.0}, {\"State\": \"actives\", \"Date\": \"04/21/20\", \"Confirmed Cases\": 2154.0, \"Patients\": \"Need ICU5% of cases\", \"Upper bound ICU need\": 5169.0, \"Lower bound ICU need\": 431.0}, {\"State\": \"actives\", \"Date\": \"04/22/20\", \"Confirmed Cases\": 2288.0, \"Patients\": \"Need ICU5% of cases\", \"Upper bound ICU need\": 5491.0, \"Lower bound ICU need\": 458.0}, {\"State\": \"actives\", \"Date\": \"04/23/20\", \"Confirmed Cases\": 2502.0, \"Patients\": \"Need ICU5% of cases\", \"Upper bound ICU need\": 6004.0, \"Lower bound ICU need\": 500.0}, {\"State\": \"actives\", \"Date\": \"04/24/20\", \"Confirmed Cases\": 2702.0, \"Patients\": \"Need ICU5% of cases\", \"Upper bound ICU need\": 6485.0, \"Lower bound ICU need\": 540.0}, {\"State\": \"actives\", \"Date\": \"04/25/20\", \"Confirmed Cases\": 2966.0, \"Patients\": \"Need ICU5% of cases\", \"Upper bound ICU need\": 7119.0, \"Lower bound ICU need\": 593.0}, {\"State\": \"actives\", \"Date\": \"04/26/20\", \"Confirmed Cases\": 3155.0, \"Patients\": \"Need ICU5% of cases\", \"Upper bound ICU need\": 7572.0, \"Lower bound ICU need\": 631.0}, {\"State\": \"actives\", \"Date\": \"04/27/20\", \"Confirmed Cases\": 3372.0, \"Patients\": \"Need ICU5% of cases\", \"Upper bound ICU need\": 8094.0, \"Lower bound ICU need\": 674.0}, {\"State\": \"actives\", \"Date\": \"04/28/20\", \"Confirmed Cases\": 3662.0, \"Patients\": \"Need ICU5% of cases\", \"Upper bound ICU need\": 8788.0, \"Lower bound ICU need\": 732.0}, {\"State\": \"actives\", \"Date\": \"04/29/20\", \"Confirmed Cases\": 3984.0, \"Patients\": \"Need ICU5% of cases\", \"Upper bound ICU need\": 9562.0, \"Lower bound ICU need\": 797.0}, {\"State\": \"actives\", \"Date\": \"04/30/20\", \"Confirmed Cases\": 4359.0, \"Patients\": \"Need ICU5% of cases\", \"Upper bound ICU need\": 10462.0, \"Lower bound ICU need\": 872.0}, {\"State\": \"actives\", \"Date\": \"05/01/20\", \"Confirmed Cases\": 4610.0, \"Patients\": \"Need ICU5% of cases\", \"Upper bound ICU need\": 11064.0, \"Lower bound ICU need\": 922.0}, {\"State\": \"actives\", \"Date\": \"05/02/20\", \"Confirmed Cases\": 4855.0, \"Patients\": \"Need ICU5% of cases\", \"Upper bound ICU need\": 11652.0, \"Lower bound ICU need\": 971.0}, {\"State\": \"actives\", \"Date\": \"05/03/20\", \"Confirmed Cases\": 5091.0, \"Patients\": \"Need ICU5% of cases\", \"Upper bound ICU need\": 12219.0, \"Lower bound ICU need\": 1018.0}, {\"State\": \"actives\", \"Date\": \"05/04/20\", \"Confirmed Cases\": 5431.0, \"Patients\": \"Need ICU5% of cases\", \"Upper bound ICU need\": 13034.0, \"Lower bound ICU need\": 1086.0}, {\"State\": \"actives\", \"Date\": \"05/05/20\", \"Confirmed Cases\": 5773.0, \"Patients\": \"Need ICU5% of cases\", \"Upper bound ICU need\": 13855.0, \"Lower bound ICU need\": 1155.0}, {\"State\": \"actives\", \"Date\": \"05/06/20\", \"Confirmed Cases\": 6331.0, \"Patients\": \"Need ICU5% of cases\", \"Upper bound ICU need\": 15193.0, \"Lower bound ICU need\": 1266.0}, {\"State\": \"actives\", \"Date\": \"05/07/20\", \"Confirmed Cases\": 6789.0, \"Patients\": \"Need ICU5% of cases\", \"Upper bound ICU need\": 16293.0, \"Lower bound ICU need\": 1358.0}, {\"State\": \"actives\", \"Date\": \"05/08/20\", \"Confirmed Cases\": 7345.0, \"Patients\": \"Need ICU5% of cases\", \"Upper bound ICU need\": 17627.0, \"Lower bound ICU need\": 1469.0}, {\"State\": \"actives\", \"Date\": \"05/09/20\", \"Confirmed Cases\": 7803.0, \"Patients\": \"Need ICU5% of cases\", \"Upper bound ICU need\": 18727.0, \"Lower bound ICU need\": 1561.0}, {\"State\": \"actives\", \"Date\": \"05/10/20\", \"Confirmed Cases\": 8135.0, \"Patients\": \"Need ICU5% of cases\", \"Upper bound ICU need\": 19524.0, \"Lower bound ICU need\": 1627.0}, {\"State\": \"actives\", \"Date\": \"05/11/20\", \"Confirmed Cases\": 8480.0, \"Patients\": \"Need ICU5% of cases\", \"Upper bound ICU need\": 20351.0, \"Lower bound ICU need\": 1696.0}], \"data-5a26186991c6fc38bf2b9ddba8330616\": [{\"y\": 11866.75}]}}, {\"mode\": \"vega-lite\"});\n",
       "</script>"
      ],
      "text/plain": [
       "alt.LayerChart(...)"
      ]
     },
     "execution_count": 5,
     "metadata": {},
     "output_type": "execute_result"
    }
   ],
   "source": [
    "#hide_input\n",
    "selection = alt.selection_multi(fields=[STATE_COLUMN], on='mouseover')\n",
    "color = alt.condition(selection,\n",
    "                    alt.Color(STATE_COLUMN+':N', \n",
    "                              scale=alt.Scale(scheme='tableau20', reverse=False), legend=None),\n",
    "                              alt.value('#ffbf79')\n",
    "                     )\n",
    "\n",
    "chart = alt.Chart(df).mark_line().encode(\n",
    "    x=alt.X(DATE_COLUMN+':O', axis=alt.Axis(title=DATE_COLUMN)),\n",
    "    y=alt.Y(CONFIRMED_CASES+':Q', axis=alt.Axis(\n",
    "        title=[\"Estimated percentage of confirmed cases that need ICU: {:.0f}\".format(CASES_NEED_ICU*100)+\"%\",\n",
    "               UPPER_BOUND_ICU_NEED_STR+\": {:.0f}\".format(UPPER_BOUND_ICU_NEED*100)+\"%\",\n",
    "               LOWER_BOUND_ICU_NEED_STR+\": {:.0f}\".format(LOWER_BOUND_ICU_NEED*100)+\"%\"])),\n",
    "    color=color,\n",
    "    tooltip=[\n",
    "        DATE_COLUMN, \n",
    "        STATE_COLUMN, \n",
    "        CONFIRMED_CASES\n",
    "    ],\n",
    "    order=alt.Order(\n",
    "    STATE_COLUMN,\n",
    "    sort='ascending'\n",
    "    )\n",
    ").properties(\n",
    "    title=[\n",
    "        \"Flatten the curve - only confirmed cases that are estimated to need ICU\",\n",
    "        \"*see assumptions\"\n",
    "    ]\n",
    ").add_selection(\n",
    "    selection\n",
    ")\n",
    "\n",
    "shades = alt.Chart(df).mark_area().encode(\n",
    "    x=DATE_COLUMN+':O',\n",
    "    y=LOWER_BOUND_ICU_NEED_STR+\":Q\",\n",
    "    y2=UPPER_BOUND_ICU_NEED_STR+':Q',\n",
    "    opacity = alt.condition(selection, alt.value(0.2), alt.value(0.5))\n",
    ")\n",
    "\n",
    "x1line = alt.Chart(pd.DataFrame({'y': [TOTAL_AVAILABLE_ICU]})).mark_rule(color='#e42726', strokeWidth=2).encode(\n",
    "    y='y:Q'\n",
    ")\n",
    "text1 = x1line.mark_text(align='left', x=5, dy=-10, color='#e42726', strokeWidth=1).encode(\n",
    "    text=alt.value(\"ICUs for COVID19 patients: \"+\"{:.0f}\".format(TOTAL_AVAILABLE_ICU)+\" units\")\n",
    ")\n",
    "text2 = x1line.mark_text(align='left', x=5, dy=10, color='#e42726', strokeWidth=1).encode(\n",
    "    text=alt.value(\"{:.0f}\".format(AVAILABLE_PERCENTAGE_ICU*100)+\"% of \"+\"{:.0f}\".format(TOTAL_ICU)+\" ICUs in the country\")   \n",
    ")\n",
    "\n",
    "plot = chart.properties(width=CHART_WIDTH, height=CHART_HEIGHT) + x1line + text1 + text2 + shades\n",
    "plot"
   ]
  },
  {
   "cell_type": "code",
   "execution_count": 6,
   "metadata": {},
   "outputs": [
    {
     "name": "stdout",
     "output_type": "stream",
     "text": [
      "Assumptions:\n",
      "- Brazil has 33905 ICUs for adults (both public and private) updated in 06/05/2020 (source: painel de insumos e leitos).\n",
      "- 35% of the ICUs would be available for covid-19 patients (source: oglobo)\n",
      "- It is estimated that 5% of covid-19 patients will need ICU. In Italy it reached 12% and in China, the lower bound, it was around 1% of the confirmed cases (source: the lancet paper)\n"
     ]
    }
   ],
   "source": [
    "#hide_input\n",
    "print(\"Assumptions:\")\n",
    "print(\"- Brazil has \"+str(TOTAL_ICU)+\" ICUs for adults (both public and private) updated in 06/05/2020 (source: painel de insumos e leitos).\")\n",
    "print(\"- {:.0f}\".format(AVAILABLE_PERCENTAGE_ICU*100)+\"% of the ICUs would be available for covid-19 patients (source: oglobo)\")\n",
    "print(\"- It is estimated that \"+\"{:.0f}\".format(CASES_NEED_ICU*100)+\"% of covid-19 patients will need ICU. In Italy it reached 12% and in China, the lower bound, it was around 1% of the confirmed cases (source: the lancet paper)\")"
   ]
  },
  {
   "cell_type": "markdown",
   "metadata": {
    "papermill": {
     "duration": 0.07254,
     "end_time": "2020-04-28T12:08:09.077685",
     "exception": false,
     "start_time": "2020-04-28T12:08:09.005145",
     "status": "completed"
    },
    "tags": []
   },
   "source": [
    "Developed by [Cleber Jorge Amaral](http://cleberjamaral.github.io/). Based on the work of [Alonso Silva Allende](https://covid19dashboards.com/jupyter/2020/04/27/Covid-19-Overview-Chile.html). \n",
    "\n",
    "Data sources:\n",
    "- covid19 data: [CSSEGISandData](https://github.com/CSSEGISandData/COVID-19)\n",
    "- number of ICUs: [painel de insumos e leitos](https://covid-insumos.saude.gov.br/paineis/insumos/painel_leitos.php), [elpais](https://brasil.elpais.com/brasil/2020-04-28/sem-transparencia-sobre-fila-para-utis-justica-opera-para-garantir-atendimento-a-pacientes-de-covid-19.html), [elpais2](https://brasil.elpais.com/sociedade/2020-04-15/sem-leitos-de-uti-municipios-pequenos-temem-por-estrutura-limitada-para-transferir-pacientes-graves-com-a-covid-19.html), [bcc](https://www.bbc.com/portuguese/brasil-52137553) and [ministério da saúde](https://www.saude.gov.br/noticias/agencia-saude/46772-brasil-ganha-reforco-de-1-134-leitos-de-uti-no-combate-ao-coronavirus)\n",
    "- available ICUs: [oglobo](https://oglobo.globo.com/sociedade/coronavirus/coronavirus-ministerio-estima-que-sus-tem-de-12-13-mil-leitos-de-uti-disponiveis-para-atender-pacientes-1-24328523)\n",
    "- patients that need ICU: [the lancet paper](https://linkinghub.elsevier.com/retrieve/pii/S2213260020301612)"
   ]
  },
  {
   "cell_type": "code",
   "execution_count": null,
   "metadata": {},
   "outputs": [],
   "source": []
  }
 ],
 "metadata": {
  "kernelspec": {
   "display_name": "Python 3",
   "language": "python",
   "name": "python3"
  },
  "language_info": {
   "codemirror_mode": {
    "name": "ipython",
    "version": 3
   },
   "file_extension": ".py",
   "mimetype": "text/x-python",
   "name": "python",
   "nbconvert_exporter": "python",
   "pygments_lexer": "ipython3",
   "version": "3.8.2"
  },
  "papermill": {
   "duration": 3.904156,
   "end_time": "2020-04-28T12:08:09.239969",
   "environment_variables": {},
   "exception": null,
   "input_path": "2020-03-17-compare-trajectories.ipynb",
   "output_path": "2020-03-17-compare-trajectories.ipynb",
   "parameters": {},
   "start_time": "2020-04-28T12:08:05.335813",
   "version": "2.0.0"
  }
 },
 "nbformat": 4,
 "nbformat_minor": 2
}
