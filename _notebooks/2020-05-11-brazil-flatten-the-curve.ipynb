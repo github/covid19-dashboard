{
 "cells": [
  {
   "cell_type": "markdown",
   "metadata": {
    "papermill": {
     "duration": 0.018943,
     "end_time": "2020-04-28T12:08:06.188782",
     "exception": false,
     "start_time": "2020-04-28T12:08:06.169839",
     "status": "completed"
    },
    "tags": []
   },
   "source": [
    "# Flattening the curve in Brazil \n",
    "> Active cases and estimated number of ICUs available for covid-19 patients\n",
    "\n",
    "- toc: true\n",
    "- badges: true\n",
    "- comments: true\n",
    "- author: Cleber Jorge Amaral\n",
    "- categories: [jupyter]\n",
    "- image: images/brazil-flatten-the-curve.png"
   ]
  },
  {
   "cell_type": "code",
   "execution_count": 1,
   "metadata": {
    "execution": {
     "iopub.execute_input": "2020-04-28T12:08:06.220739Z",
     "iopub.status.busy": "2020-04-28T12:08:06.220132Z",
     "iopub.status.idle": "2020-04-28T12:08:06.644708Z",
     "shell.execute_reply": "2020-04-28T12:08:06.643619Z"
    },
    "papermill": {
     "duration": 0.441167,
     "end_time": "2020-04-28T12:08:06.644848",
     "exception": false,
     "start_time": "2020-04-28T12:08:06.203681",
     "status": "completed"
    },
    "tags": []
   },
   "outputs": [
    {
     "name": "stderr",
     "output_type": "stream",
     "text": [
      "/usr/local/lib/python3.8/site-packages/pandas/compat/__init__.py:117: UserWarning: Could not import the lzma module. Your installed Python is incomplete. Attempting to use lzma compression will result in a RuntimeError.\n",
      "  warnings.warn(msg)\n"
     ]
    }
   ],
   "source": [
    "#hide\n",
    "import pandas as pd\n",
    "import altair as alt\n",
    "import math\n",
    "from IPython.display import HTML\n",
    "\n",
    "CHART_WIDTH = 600\n",
    "CHART_HEIGHT = 400"
   ]
  },
  {
   "cell_type": "code",
   "execution_count": 2,
   "metadata": {},
   "outputs": [],
   "source": [
    "#hide\n",
    "STATE_COLUMN = \"State\"\n",
    "DATE_COLUMN = \"Date\"\n",
    "CONFIRMED_CASES = 'Confirmed Cases'\n",
    "DEATHS = 'Deaths'\n",
    "ACTIVE_COLUMN = \"Active Cases\"\n",
    "VALUE = \"Value\"\n",
    "CASES_NEED_ICU = 0.12\n",
    "POPULATION = 211000000\n",
    "ICU_PER_100k = 20\n",
    "TOTAL_ICU = (211000000 / 100000 * 20) + 1456\n",
    "AVAILABLE_PERCENTAGE_ICU = 0.3\n",
    "TOTAL_AVAILABLE_ICU = TOTAL_ICU * AVAILABLE_PERCENTAGE_ICU\n",
    "CASES_NEED_ICU_COLUMN = \"Need ICU\"\n",
    "CASES_DONT_NEED_ICU_COLUMN = \"Do not need ICU\"\n",
    "PATIENTS = \"Patients\""
   ]
  },
  {
   "cell_type": "code",
   "execution_count": 3,
   "metadata": {
    "scrolled": true
   },
   "outputs": [
    {
     "name": "stderr",
     "output_type": "stream",
     "text": [
      "<ipython-input-3-26cb67d50e93>:8: SettingWithCopyWarning: \n",
      "A value is trying to be set on a copy of a slice from a DataFrame.\n",
      "Try using .loc[row_indexer,col_indexer] = value instead\n",
      "\n",
      "See the caveats in the documentation: https://pandas.pydata.org/pandas-docs/stable/user_guide/indexing.html#returning-a-view-versus-a-copy\n",
      "  df_cases['base'] = 'cases'\n",
      "<ipython-input-3-26cb67d50e93>:12: SettingWithCopyWarning: \n",
      "A value is trying to be set on a copy of a slice from a DataFrame.\n",
      "Try using .loc[row_indexer,col_indexer] = value instead\n",
      "\n",
      "See the caveats in the documentation: https://pandas.pydata.org/pandas-docs/stable/user_guide/indexing.html#returning-a-view-versus-a-copy\n",
      "  df_recoveries['base'] = 'recoveries'\n",
      "<ipython-input-3-26cb67d50e93>:16: SettingWithCopyWarning: \n",
      "A value is trying to be set on a copy of a slice from a DataFrame.\n",
      "Try using .loc[row_indexer,col_indexer] = value instead\n",
      "\n",
      "See the caveats in the documentation: https://pandas.pydata.org/pandas-docs/stable/user_guide/indexing.html#returning-a-view-versus-a-copy\n",
      "  df_deaths['base'] = 'deaths'\n"
     ]
    }
   ],
   "source": [
    "#hide\n",
    "url_cases = ('https://raw.githubusercontent.com/CSSEGISandData/COVID-19/master/csse_covid_19_data/csse_covid_19_time_series/time_series_covid19_confirmed_global.csv')\n",
    "url_deaths = ('https://raw.githubusercontent.com/CSSEGISandData/COVID-19/master/csse_covid_19_data/csse_covid_19_time_series/time_series_covid19_deaths_global.csv')\n",
    "url_recoveries = ('https://raw.githubusercontent.com/CSSEGISandData/COVID-19/master/csse_covid_19_data/csse_covid_19_time_series/time_series_covid19_recovered_global.csv')\n",
    "\n",
    "src = pd.read_csv(url_cases)\n",
    "df_cases = src[(src['Country/Region'] == 'Brazil')]\n",
    "df_cases['base'] = 'cases'\n",
    "\n",
    "src = pd.read_csv(url_recoveries)\n",
    "df_recoveries = src[(src['Country/Region'] == 'Brazil')]\n",
    "df_recoveries['base'] = 'recoveries'\n",
    "\n",
    "src = pd.read_csv(url_deaths)\n",
    "df_deaths = src[(src['Country/Region'] == 'Brazil')]\n",
    "df_deaths['base'] = 'deaths'\n",
    "\n",
    "# Join databases\n",
    "df = [df_cases, df_recoveries, df_deaths]\n",
    "df = pd.concat(df)\n",
    "\n",
    "# Drop unused columns\n",
    "df = df.drop(['Province/State', 'Country/Region', 'Lat', 'Long'], axis=1)\n",
    "\n",
    "# Add active cases row\n",
    "df = df.set_index('base')\n",
    "new_row = df.loc['cases'] - df.loc['recoveries']\n",
    "new_row.name = 'actives'\n",
    "df = df.append([new_row])\n",
    "# Reset index after added new row\n",
    "df = df.reset_index()\n",
    "df = df.rename(columns={\"index\":\"base\"})\n",
    "\n",
    "# Melt structure (unpivot)\n",
    "dt_cols = list(df.columns[~df.columns.isin(['base','index'])])\n",
    "df = df.melt(id_vars=['base'], value_vars=dt_cols)\n",
    "df = df.rename(columns={\n",
    "     \"base\": STATE_COLUMN, \n",
    "     \"variable\":DATE_COLUMN, \n",
    "     \"value\":VALUE,\n",
    "     \"actives\": ACTIVE_COLUMN\n",
    "})\n",
    "df[DATE_COLUMN] = pd.to_datetime(df[DATE_COLUMN])\n",
    "df[DATE_COLUMN] = df[DATE_COLUMN].dt.strftime('%m/%d/%y')\n",
    "df = df.sort_values(by=[DATE_COLUMN])\n",
    "\n",
    "# Final database has only active cases\n",
    "df = df[df[STATE_COLUMN].isin(['actives'])]\n",
    "\n",
    "data = df.copy()"
   ]
  },
  {
   "cell_type": "code",
   "execution_count": 4,
   "metadata": {},
   "outputs": [],
   "source": [
    "#hide\n",
    "df = data.copy()\n",
    "STATE_COLUMN = PATIENTS\n",
    "df[VALUE] = df[VALUE] * (CASES_NEED_ICU)\n",
    "df[STATE_COLUMN] = CASES_NEED_ICU_COLUMN\n",
    "df = df.rename(columns={VALUE:ACTIVE_COLUMN})"
   ]
  },
  {
   "cell_type": "code",
   "execution_count": 5,
   "metadata": {},
   "outputs": [
    {
     "data": {
      "text/html": [
       "\n",
       "<div id=\"altair-viz-bfde7d3832384c5591d9738c3d1f7462\"></div>\n",
       "<script type=\"text/javascript\">\n",
       "  (function(spec, embedOpt){\n",
       "    let outputDiv = document.currentScript.previousElementSibling;\n",
       "    if (outputDiv.id !== \"altair-viz-bfde7d3832384c5591d9738c3d1f7462\") {\n",
       "      outputDiv = document.getElementById(\"altair-viz-bfde7d3832384c5591d9738c3d1f7462\");\n",
       "    }\n",
       "    const paths = {\n",
       "      \"vega\": \"https://cdn.jsdelivr.net/npm//vega@5?noext\",\n",
       "      \"vega-lib\": \"https://cdn.jsdelivr.net/npm//vega-lib?noext\",\n",
       "      \"vega-lite\": \"https://cdn.jsdelivr.net/npm//vega-lite@4.8.1?noext\",\n",
       "      \"vega-embed\": \"https://cdn.jsdelivr.net/npm//vega-embed@6?noext\",\n",
       "    };\n",
       "\n",
       "    function loadScript(lib) {\n",
       "      return new Promise(function(resolve, reject) {\n",
       "        var s = document.createElement('script');\n",
       "        s.src = paths[lib];\n",
       "        s.async = true;\n",
       "        s.onload = () => resolve(paths[lib]);\n",
       "        s.onerror = () => reject(`Error loading script: ${paths[lib]}`);\n",
       "        document.getElementsByTagName(\"head\")[0].appendChild(s);\n",
       "      });\n",
       "    }\n",
       "\n",
       "    function showError(err) {\n",
       "      outputDiv.innerHTML = `<div class=\"error\" style=\"color:red;\">${err}</div>`;\n",
       "      throw err;\n",
       "    }\n",
       "\n",
       "    function displayChart(vegaEmbed) {\n",
       "      vegaEmbed(outputDiv, spec, embedOpt)\n",
       "        .catch(err => showError(`Javascript Error: ${err.message}<br>This usually means there's a typo in your chart specification. See the javascript console for the full traceback.`));\n",
       "    }\n",
       "\n",
       "    if(typeof define === \"function\" && define.amd) {\n",
       "      requirejs.config({paths});\n",
       "      require([\"vega-embed\"], displayChart, err => showError(`Error loading script: ${err.message}`));\n",
       "    } else if (typeof vegaEmbed === \"function\") {\n",
       "      displayChart(vegaEmbed);\n",
       "    } else {\n",
       "      loadScript(\"vega\")\n",
       "        .then(() => loadScript(\"vega-lite\"))\n",
       "        .then(() => loadScript(\"vega-embed\"))\n",
       "        .catch(showError)\n",
       "        .then(() => displayChart(vegaEmbed));\n",
       "    }\n",
       "  })({\"config\": {\"view\": {\"continuousWidth\": 400, \"continuousHeight\": 300}}, \"hconcat\": [{\"layer\": [{\"data\": {\"name\": \"data-d94e944c9a3a6aab46bc0cb5882428a9\"}, \"mark\": \"bar\", \"encoding\": {\"color\": {\"condition\": {\"type\": \"nominal\", \"field\": \"Patients\", \"legend\": null, \"scale\": {\"reverse\": false, \"scheme\": \"tableau20\"}, \"selection\": \"selector001\"}, \"value\": \"#ffbf79\"}, \"order\": {\"type\": \"nominal\", \"field\": \"Patients\", \"sort\": \"descending\"}, \"tooltip\": [{\"type\": \"nominal\", \"field\": \"Date\"}, {\"type\": \"quantitative\", \"field\": \"Active Cases\"}], \"x\": {\"type\": \"ordinal\", \"axis\": {\"title\": \"Date\"}, \"field\": \"Date\"}, \"y\": {\"type\": \"quantitative\", \"axis\": {\"title\": \"Active Cases\"}, \"field\": \"Active Cases\"}}, \"height\": 400, \"selection\": {\"selector001\": {\"type\": \"multi\", \"fields\": [\"Patients\"], \"on\": \"mouseover\"}}, \"title\": [\"Flatten the curve - only active cases that should need ICU\", \"*see assumptions\"], \"width\": 600}, {\"data\": {\"name\": \"data-34d9b806eba4af7cf55b2faaa85e55a5\"}, \"mark\": {\"type\": \"rule\", \"color\": \"#e42726\", \"strokeWidth\": 2}, \"encoding\": {\"y\": {\"type\": \"quantitative\", \"field\": \"y\"}}}, {\"data\": {\"name\": \"data-34d9b806eba4af7cf55b2faaa85e55a5\"}, \"mark\": {\"type\": \"text\", \"align\": \"left\", \"color\": \"#e42726\", \"dy\": 10, \"strokeWidth\": 1, \"x\": 5}, \"encoding\": {\"text\": {\"value\": \"ICUs for COVID19 patients: 13097\"}, \"y\": {\"type\": \"quantitative\", \"field\": \"y\"}}}]}, {\"data\": {\"name\": \"data-d94e944c9a3a6aab46bc0cb5882428a9\"}, \"mark\": \"point\", \"encoding\": {\"color\": {\"condition\": {\"type\": \"nominal\", \"field\": \"Patients\", \"legend\": null, \"scale\": {\"reverse\": false, \"scheme\": \"tableau20\"}, \"selection\": \"selector001\"}, \"value\": \"#ffbf79\"}, \"y\": {\"type\": \"nominal\", \"axis\": {\"orient\": \"right\"}, \"field\": \"Patients\"}}}], \"$schema\": \"https://vega.github.io/schema/vega-lite/v4.8.1.json\", \"datasets\": {\"data-d94e944c9a3a6aab46bc0cb5882428a9\": [{\"State\": \"actives\", \"Date\": \"01/22/20\", \"Active Cases\": 0.0, \"Patients\": \"Need ICU\"}, {\"State\": \"actives\", \"Date\": \"01/23/20\", \"Active Cases\": 0.0, \"Patients\": \"Need ICU\"}, {\"State\": \"actives\", \"Date\": \"01/24/20\", \"Active Cases\": 0.0, \"Patients\": \"Need ICU\"}, {\"State\": \"actives\", \"Date\": \"01/25/20\", \"Active Cases\": 0.0, \"Patients\": \"Need ICU\"}, {\"State\": \"actives\", \"Date\": \"01/26/20\", \"Active Cases\": 0.0, \"Patients\": \"Need ICU\"}, {\"State\": \"actives\", \"Date\": \"01/27/20\", \"Active Cases\": 0.0, \"Patients\": \"Need ICU\"}, {\"State\": \"actives\", \"Date\": \"01/28/20\", \"Active Cases\": 0.0, \"Patients\": \"Need ICU\"}, {\"State\": \"actives\", \"Date\": \"01/29/20\", \"Active Cases\": 0.0, \"Patients\": \"Need ICU\"}, {\"State\": \"actives\", \"Date\": \"01/30/20\", \"Active Cases\": 0.0, \"Patients\": \"Need ICU\"}, {\"State\": \"actives\", \"Date\": \"01/31/20\", \"Active Cases\": 0.0, \"Patients\": \"Need ICU\"}, {\"State\": \"actives\", \"Date\": \"02/01/20\", \"Active Cases\": 0.0, \"Patients\": \"Need ICU\"}, {\"State\": \"actives\", \"Date\": \"02/02/20\", \"Active Cases\": 0.0, \"Patients\": \"Need ICU\"}, {\"State\": \"actives\", \"Date\": \"02/03/20\", \"Active Cases\": 0.0, \"Patients\": \"Need ICU\"}, {\"State\": \"actives\", \"Date\": \"02/04/20\", \"Active Cases\": 0.0, \"Patients\": \"Need ICU\"}, {\"State\": \"actives\", \"Date\": \"02/05/20\", \"Active Cases\": 0.0, \"Patients\": \"Need ICU\"}, {\"State\": \"actives\", \"Date\": \"02/06/20\", \"Active Cases\": 0.0, \"Patients\": \"Need ICU\"}, {\"State\": \"actives\", \"Date\": \"02/07/20\", \"Active Cases\": 0.0, \"Patients\": \"Need ICU\"}, {\"State\": \"actives\", \"Date\": \"02/08/20\", \"Active Cases\": 0.0, \"Patients\": \"Need ICU\"}, {\"State\": \"actives\", \"Date\": \"02/09/20\", \"Active Cases\": 0.0, \"Patients\": \"Need ICU\"}, {\"State\": \"actives\", \"Date\": \"02/10/20\", \"Active Cases\": 0.0, \"Patients\": \"Need ICU\"}, {\"State\": \"actives\", \"Date\": \"02/11/20\", \"Active Cases\": 0.0, \"Patients\": \"Need ICU\"}, {\"State\": \"actives\", \"Date\": \"02/12/20\", \"Active Cases\": 0.0, \"Patients\": \"Need ICU\"}, {\"State\": \"actives\", \"Date\": \"02/13/20\", \"Active Cases\": 0.0, \"Patients\": \"Need ICU\"}, {\"State\": \"actives\", \"Date\": \"02/14/20\", \"Active Cases\": 0.0, \"Patients\": \"Need ICU\"}, {\"State\": \"actives\", \"Date\": \"02/15/20\", \"Active Cases\": 0.0, \"Patients\": \"Need ICU\"}, {\"State\": \"actives\", \"Date\": \"02/16/20\", \"Active Cases\": 0.0, \"Patients\": \"Need ICU\"}, {\"State\": \"actives\", \"Date\": \"02/17/20\", \"Active Cases\": 0.0, \"Patients\": \"Need ICU\"}, {\"State\": \"actives\", \"Date\": \"02/18/20\", \"Active Cases\": 0.0, \"Patients\": \"Need ICU\"}, {\"State\": \"actives\", \"Date\": \"02/19/20\", \"Active Cases\": 0.0, \"Patients\": \"Need ICU\"}, {\"State\": \"actives\", \"Date\": \"02/20/20\", \"Active Cases\": 0.0, \"Patients\": \"Need ICU\"}, {\"State\": \"actives\", \"Date\": \"02/21/20\", \"Active Cases\": 0.0, \"Patients\": \"Need ICU\"}, {\"State\": \"actives\", \"Date\": \"02/22/20\", \"Active Cases\": 0.0, \"Patients\": \"Need ICU\"}, {\"State\": \"actives\", \"Date\": \"02/23/20\", \"Active Cases\": 0.0, \"Patients\": \"Need ICU\"}, {\"State\": \"actives\", \"Date\": \"02/24/20\", \"Active Cases\": 0.0, \"Patients\": \"Need ICU\"}, {\"State\": \"actives\", \"Date\": \"02/25/20\", \"Active Cases\": 0.0, \"Patients\": \"Need ICU\"}, {\"State\": \"actives\", \"Date\": \"02/26/20\", \"Active Cases\": 0.12, \"Patients\": \"Need ICU\"}, {\"State\": \"actives\", \"Date\": \"02/27/20\", \"Active Cases\": 0.12, \"Patients\": \"Need ICU\"}, {\"State\": \"actives\", \"Date\": \"02/28/20\", \"Active Cases\": 0.12, \"Patients\": \"Need ICU\"}, {\"State\": \"actives\", \"Date\": \"02/29/20\", \"Active Cases\": 0.24, \"Patients\": \"Need ICU\"}, {\"State\": \"actives\", \"Date\": \"03/01/20\", \"Active Cases\": 0.24, \"Patients\": \"Need ICU\"}, {\"State\": \"actives\", \"Date\": \"03/02/20\", \"Active Cases\": 0.24, \"Patients\": \"Need ICU\"}, {\"State\": \"actives\", \"Date\": \"03/03/20\", \"Active Cases\": 0.24, \"Patients\": \"Need ICU\"}, {\"State\": \"actives\", \"Date\": \"03/04/20\", \"Active Cases\": 0.48, \"Patients\": \"Need ICU\"}, {\"State\": \"actives\", \"Date\": \"03/05/20\", \"Active Cases\": 0.48, \"Patients\": \"Need ICU\"}, {\"State\": \"actives\", \"Date\": \"03/06/20\", \"Active Cases\": 1.56, \"Patients\": \"Need ICU\"}, {\"State\": \"actives\", \"Date\": \"03/07/20\", \"Active Cases\": 1.56, \"Patients\": \"Need ICU\"}, {\"State\": \"actives\", \"Date\": \"03/08/20\", \"Active Cases\": 2.4, \"Patients\": \"Need ICU\"}, {\"State\": \"actives\", \"Date\": \"03/09/20\", \"Active Cases\": 3.0, \"Patients\": \"Need ICU\"}, {\"State\": \"actives\", \"Date\": \"03/10/20\", \"Active Cases\": 3.7199999999999998, \"Patients\": \"Need ICU\"}, {\"State\": \"actives\", \"Date\": \"03/11/20\", \"Active Cases\": 4.56, \"Patients\": \"Need ICU\"}, {\"State\": \"actives\", \"Date\": \"03/12/20\", \"Active Cases\": 6.24, \"Patients\": \"Need ICU\"}, {\"State\": \"actives\", \"Date\": \"03/13/20\", \"Active Cases\": 18.12, \"Patients\": \"Need ICU\"}, {\"State\": \"actives\", \"Date\": \"03/14/20\", \"Active Cases\": 18.12, \"Patients\": \"Need ICU\"}, {\"State\": \"actives\", \"Date\": \"03/15/20\", \"Active Cases\": 19.439999999999998, \"Patients\": \"Need ICU\"}, {\"State\": \"actives\", \"Date\": \"03/16/20\", \"Active Cases\": 23.88, \"Patients\": \"Need ICU\"}, {\"State\": \"actives\", \"Date\": \"03/17/20\", \"Active Cases\": 38.28, \"Patients\": \"Need ICU\"}, {\"State\": \"actives\", \"Date\": \"03/18/20\", \"Active Cases\": 44.4, \"Patients\": \"Need ICU\"}, {\"State\": \"actives\", \"Date\": \"03/19/20\", \"Active Cases\": 74.28, \"Patients\": \"Need ICU\"}, {\"State\": \"actives\", \"Date\": \"03/20/20\", \"Active Cases\": 94.92, \"Patients\": \"Need ICU\"}, {\"State\": \"actives\", \"Date\": \"03/21/20\", \"Active Cases\": 122.28, \"Patients\": \"Need ICU\"}, {\"State\": \"actives\", \"Date\": \"03/22/20\", \"Active Cases\": 185.28, \"Patients\": \"Need ICU\"}, {\"State\": \"actives\", \"Date\": \"03/23/20\", \"Active Cases\": 230.64, \"Patients\": \"Need ICU\"}, {\"State\": \"actives\", \"Date\": \"03/24/20\", \"Active Cases\": 269.4, \"Patients\": \"Need ICU\"}, {\"State\": \"actives\", \"Date\": \"03/25/20\", \"Active Cases\": 306.24, \"Patients\": \"Need ICU\"}, {\"State\": \"actives\", \"Date\": \"03/26/20\", \"Active Cases\": 357.47999999999996, \"Patients\": \"Need ICU\"}, {\"State\": \"actives\", \"Date\": \"03/27/20\", \"Active Cases\": 409.32, \"Patients\": \"Need ICU\"}, {\"State\": \"actives\", \"Date\": \"03/28/20\", \"Active Cases\": 467.76, \"Patients\": \"Need ICU\"}, {\"State\": \"actives\", \"Date\": \"03/29/20\", \"Active Cases\": 510.0, \"Patients\": \"Need ICU\"}, {\"State\": \"actives\", \"Date\": \"03/30/20\", \"Active Cases\": 535.0799999999999, \"Patients\": \"Need ICU\"}, {\"State\": \"actives\", \"Date\": \"03/31/20\", \"Active Cases\": 670.8, \"Patients\": \"Need ICU\"}, {\"State\": \"actives\", \"Date\": \"04/01/20\", \"Active Cases\": 805.0799999999999, \"Patients\": \"Need ICU\"}, {\"State\": \"actives\", \"Date\": \"04/02/20\", \"Active Cases\": 950.04, \"Patients\": \"Need ICU\"}, {\"State\": \"actives\", \"Date\": \"04/03/20\", \"Active Cases\": 1071.48, \"Patients\": \"Need ICU\"}, {\"State\": \"actives\", \"Date\": \"04/04/20\", \"Active Cases\": 1227.96, \"Patients\": \"Need ICU\"}, {\"State\": \"actives\", \"Date\": \"04/05/20\", \"Active Cases\": 1320.36, \"Patients\": \"Need ICU\"}, {\"State\": \"actives\", \"Date\": \"04/06/20\", \"Active Cases\": 1444.08, \"Patients\": \"Need ICU\"}, {\"State\": \"actives\", \"Date\": \"04/07/20\", \"Active Cases\": 1668.84, \"Patients\": \"Need ICU\"}, {\"State\": \"actives\", \"Date\": \"04/08/20\", \"Active Cases\": 1925.1599999999999, \"Patients\": \"Need ICU\"}, {\"State\": \"actives\", \"Date\": \"04/09/20\", \"Active Cases\": 2150.2799999999997, \"Patients\": \"Need ICU\"}, {\"State\": \"actives\", \"Date\": \"04/10/20\", \"Active Cases\": 2335.7999999999997, \"Patients\": \"Need ICU\"}, {\"State\": \"actives\", \"Date\": \"04/11/20\", \"Active Cases\": 2466.48, \"Patients\": \"Need ICU\"}, {\"State\": \"actives\", \"Date\": \"04/12/20\", \"Active Cases\": 2642.2799999999997, \"Patients\": \"Need ICU\"}, {\"State\": \"actives\", \"Date\": \"04/13/20\", \"Active Cases\": 2790.8399999999997, \"Patients\": \"Need ICU\"}, {\"State\": \"actives\", \"Date\": \"04/14/20\", \"Active Cases\": 2665.92, \"Patients\": \"Need ICU\"}, {\"State\": \"actives\", \"Date\": \"04/15/20\", \"Active Cases\": 1715.28, \"Patients\": \"Need ICU\"}, {\"State\": \"actives\", \"Date\": \"04/16/20\", \"Active Cases\": 1967.8799999999999, \"Patients\": \"Need ICU\"}, {\"State\": \"actives\", \"Date\": \"04/17/20\", \"Active Cases\": 2358.72, \"Patients\": \"Need ICU\"}, {\"State\": \"actives\", \"Date\": \"04/18/20\", \"Active Cases\": 2715.8399999999997, \"Patients\": \"Need ICU\"}, {\"State\": \"actives\", \"Date\": \"04/19/20\", \"Active Cases\": 1982.8799999999999, \"Patients\": \"Need ICU\"}, {\"State\": \"actives\", \"Date\": \"04/20/20\", \"Active Cases\": 2233.56, \"Patients\": \"Need ICU\"}, {\"State\": \"actives\", \"Date\": \"04/21/20\", \"Active Cases\": 2410.56, \"Patients\": \"Need ICU\"}, {\"State\": \"actives\", \"Date\": \"04/22/20\", \"Active Cases\": 2452.68, \"Patients\": \"Need ICU\"}, {\"State\": \"actives\", \"Date\": \"04/23/20\", \"Active Cases\": 2815.56, \"Patients\": \"Need ICU\"}, {\"State\": \"actives\", \"Date\": \"04/24/20\", \"Active Cases\": 3166.56, \"Patients\": \"Need ICU\"}, {\"State\": \"actives\", \"Date\": \"04/25/20\", \"Active Cases\": 3619.68, \"Patients\": \"Need ICU\"}, {\"State\": \"actives\", \"Date\": \"04/26/20\", \"Active Cases\": 3953.7599999999998, \"Patients\": \"Need ICU\"}, {\"State\": \"actives\", \"Date\": \"04/27/20\", \"Active Cases\": 4356.48, \"Patients\": \"Need ICU\"}, {\"State\": \"actives\", \"Date\": \"04/28/20\", \"Active Cases\": 4882.92, \"Patients\": \"Need ICU\"}, {\"State\": \"actives\", \"Date\": \"04/29/20\", \"Active Cases\": 5466.36, \"Patients\": \"Need ICU\"}, {\"State\": \"actives\", \"Date\": \"04/30/20\", \"Active Cases\": 6150.24, \"Patients\": \"Need ICU\"}, {\"State\": \"actives\", \"Date\": \"05/01/20\", \"Active Cases\": 6499.5599999999995, \"Patients\": \"Need ICU\"}, {\"State\": \"actives\", \"Date\": \"05/02/20\", \"Active Cases\": 6739.5599999999995, \"Patients\": \"Need ICU\"}, {\"State\": \"actives\", \"Date\": \"05/03/20\", \"Active Cases\": 7060.2, \"Patients\": \"Need ICU\"}, {\"State\": \"actives\", \"Date\": \"05/04/20\", \"Active Cases\": 7536.599999999999, \"Patients\": \"Need ICU\"}, {\"State\": \"actives\", \"Date\": \"05/05/20\", \"Active Cases\": 8068.08, \"Patients\": \"Need ICU\"}, {\"State\": \"actives\", \"Date\": \"05/06/20\", \"Active Cases\": 9028.92, \"Patients\": \"Need ICU\"}, {\"State\": \"actives\", \"Date\": \"05/07/20\", \"Active Cases\": 9650.76, \"Patients\": \"Need ICU\"}, {\"State\": \"actives\", \"Date\": \"05/08/20\", \"Active Cases\": 10511.64, \"Patients\": \"Need ICU\"}, {\"State\": \"actives\", \"Date\": \"05/09/20\", \"Active Cases\": 11325.119999999999, \"Patients\": \"Need ICU\"}, {\"State\": \"actives\", \"Date\": \"05/10/20\", \"Active Cases\": 11729.039999999999, \"Patients\": \"Need ICU\"}], \"data-34d9b806eba4af7cf55b2faaa85e55a5\": [{\"y\": 13096.8}]}}, {\"mode\": \"vega-lite\"});\n",
       "</script>"
      ],
      "text/plain": [
       "alt.HConcatChart(...)"
      ]
     },
     "execution_count": 5,
     "metadata": {},
     "output_type": "execute_result"
    }
   ],
   "source": [
    "#hide_input\n",
    "input_dropdown = alt.binding_select(options=df[STATE_COLUMN].unique())\n",
    "selection = alt.selection_multi(fields=[STATE_COLUMN], on='mouseover')\n",
    "color = alt.condition(selection,\n",
    "                    alt.Color(STATE_COLUMN+':N', \n",
    "                              scale=alt.Scale(scheme='tableau20', reverse=False), legend=None),\n",
    "                              alt.value('#ffbf79')\n",
    "                     )\n",
    "\n",
    "chart = alt.Chart(df).mark_bar().encode(\n",
    "    x=alt.X(DATE_COLUMN+':O', axis=alt.Axis(title=DATE_COLUMN)),\n",
    "    y=alt.Y(ACTIVE_COLUMN, axis=alt.Axis(title=ACTIVE_COLUMN)),\n",
    "    color=color,\n",
    "    tooltip=[DATE_COLUMN, ACTIVE_COLUMN],\n",
    "    order=alt.Order(\n",
    "    STATE_COLUMN,\n",
    "    sort='descending'\n",
    "    )\n",
    ").properties(\n",
    "    title=[\n",
    "        \"Flatten the curve - only active cases that should need ICU\",\n",
    "        \"*see assumptions\"\n",
    "    ]\n",
    ").add_selection(\n",
    "    selection\n",
    ")\n",
    "\n",
    "legend = alt.Chart(df).mark_point().encode(\n",
    "    y=alt.Y(STATE_COLUMN+':N', axis=alt.Axis(orient='right')),\n",
    "    color=color\n",
    ")\n",
    "\n",
    "x1line = alt.Chart(pd.DataFrame({'y': [TOTAL_AVAILABLE_ICU]})).mark_rule(color='#e42726', strokeWidth=2).encode(\n",
    "    y='y:Q'\n",
    ")\n",
    "text1 = x1line.mark_text(align='left', x=5, dy=10, color='#e42726', strokeWidth=1).encode(\n",
    "    text=alt.value(\"ICUs for COVID19 patients: \"+\"{:.0f}\".format(TOTAL_AVAILABLE_ICU))\n",
    ")\n",
    "\n",
    "chart.properties(width=CHART_WIDTH, height=CHART_HEIGHT) + x1line + text1 | legend"
   ]
  },
  {
   "cell_type": "code",
   "execution_count": 6,
   "metadata": {},
   "outputs": [],
   "source": [
    "#hide\n",
    "df1 = data.copy()\n",
    "STATE_COLUMN = PATIENTS\n",
    "df1[VALUE] = df1[VALUE] * (CASES_NEED_ICU)\n",
    "df1[STATE_COLUMN] = CASES_NEED_ICU_COLUMN\n",
    "df2 = data.copy()\n",
    "df2[VALUE] = df2[VALUE] * (1-CASES_NEED_ICU)\n",
    "df2[STATE_COLUMN] = CASES_DONT_NEED_ICU_COLUMN\n",
    "df = pd.concat([df1, df2])\n",
    "df = df.rename(columns={VALUE:ACTIVE_COLUMN})"
   ]
  },
  {
   "cell_type": "code",
   "execution_count": 7,
   "metadata": {
    "scrolled": false
   },
   "outputs": [
    {
     "data": {
      "text/html": [
       "\n",
       "<div id=\"altair-viz-9462c7c082d445568ab897785157e00d\"></div>\n",
       "<script type=\"text/javascript\">\n",
       "  (function(spec, embedOpt){\n",
       "    let outputDiv = document.currentScript.previousElementSibling;\n",
       "    if (outputDiv.id !== \"altair-viz-9462c7c082d445568ab897785157e00d\") {\n",
       "      outputDiv = document.getElementById(\"altair-viz-9462c7c082d445568ab897785157e00d\");\n",
       "    }\n",
       "    const paths = {\n",
       "      \"vega\": \"https://cdn.jsdelivr.net/npm//vega@5?noext\",\n",
       "      \"vega-lib\": \"https://cdn.jsdelivr.net/npm//vega-lib?noext\",\n",
       "      \"vega-lite\": \"https://cdn.jsdelivr.net/npm//vega-lite@4.8.1?noext\",\n",
       "      \"vega-embed\": \"https://cdn.jsdelivr.net/npm//vega-embed@6?noext\",\n",
       "    };\n",
       "\n",
       "    function loadScript(lib) {\n",
       "      return new Promise(function(resolve, reject) {\n",
       "        var s = document.createElement('script');\n",
       "        s.src = paths[lib];\n",
       "        s.async = true;\n",
       "        s.onload = () => resolve(paths[lib]);\n",
       "        s.onerror = () => reject(`Error loading script: ${paths[lib]}`);\n",
       "        document.getElementsByTagName(\"head\")[0].appendChild(s);\n",
       "      });\n",
       "    }\n",
       "\n",
       "    function showError(err) {\n",
       "      outputDiv.innerHTML = `<div class=\"error\" style=\"color:red;\">${err}</div>`;\n",
       "      throw err;\n",
       "    }\n",
       "\n",
       "    function displayChart(vegaEmbed) {\n",
       "      vegaEmbed(outputDiv, spec, embedOpt)\n",
       "        .catch(err => showError(`Javascript Error: ${err.message}<br>This usually means there's a typo in your chart specification. See the javascript console for the full traceback.`));\n",
       "    }\n",
       "\n",
       "    if(typeof define === \"function\" && define.amd) {\n",
       "      requirejs.config({paths});\n",
       "      require([\"vega-embed\"], displayChart, err => showError(`Error loading script: ${err.message}`));\n",
       "    } else if (typeof vegaEmbed === \"function\") {\n",
       "      displayChart(vegaEmbed);\n",
       "    } else {\n",
       "      loadScript(\"vega\")\n",
       "        .then(() => loadScript(\"vega-lite\"))\n",
       "        .then(() => loadScript(\"vega-embed\"))\n",
       "        .catch(showError)\n",
       "        .then(() => displayChart(vegaEmbed));\n",
       "    }\n",
       "  })({\"config\": {\"view\": {\"continuousWidth\": 400, \"continuousHeight\": 300}}, \"hconcat\": [{\"layer\": [{\"data\": {\"name\": \"data-bb3c844485ad6384983f5c9b8e7c3598\"}, \"mark\": \"bar\", \"encoding\": {\"color\": {\"condition\": {\"type\": \"nominal\", \"field\": \"Patients\", \"legend\": null, \"scale\": {\"reverse\": false, \"scheme\": \"tableau20\"}, \"selection\": \"selector002\"}, \"value\": \"#ffbf79\"}, \"order\": {\"type\": \"nominal\", \"field\": \"Patients\", \"sort\": \"descending\"}, \"tooltip\": [{\"type\": \"nominal\", \"field\": \"Date\"}, {\"type\": \"quantitative\", \"field\": \"Active Cases\"}], \"x\": {\"type\": \"ordinal\", \"axis\": {\"title\": \"Date\"}, \"field\": \"Date\"}, \"y\": {\"type\": \"quantitative\", \"axis\": {\"title\": \"Active Cases\"}, \"field\": \"Active Cases\"}}, \"height\": 400, \"selection\": {\"selector002\": {\"type\": \"multi\", \"fields\": [\"Patients\"], \"on\": \"mouseover\"}}, \"title\": [\"Flatten the curve - all active cases\", \"*see assumptions\"], \"width\": 600}, {\"data\": {\"name\": \"data-34d9b806eba4af7cf55b2faaa85e55a5\"}, \"mark\": {\"type\": \"rule\", \"color\": \"#e42726\", \"strokeWidth\": 2}, \"encoding\": {\"y\": {\"type\": \"quantitative\", \"field\": \"y\"}}}, {\"data\": {\"name\": \"data-34d9b806eba4af7cf55b2faaa85e55a5\"}, \"mark\": {\"type\": \"text\", \"align\": \"left\", \"color\": \"#e42726\", \"dy\": 10, \"strokeWidth\": 1, \"x\": 5}, \"encoding\": {\"text\": {\"value\": \"ICUs for COVID19 patients: 13097\"}, \"y\": {\"type\": \"quantitative\", \"field\": \"y\"}}}, {\"data\": {\"name\": \"data-8abec10a19213157203ee9f47c2b269f\"}, \"mark\": {\"type\": \"rule\", \"color\": \"darkred\", \"strokeWidth\": 2}, \"encoding\": {\"y\": {\"type\": \"quantitative\", \"field\": \"y\"}}}, {\"data\": {\"name\": \"data-8abec10a19213157203ee9f47c2b269f\"}, \"mark\": {\"type\": \"text\", \"align\": \"left\", \"color\": \"darkred\", \"dy\": 10, \"strokeWidth\": 1, \"x\": 5}, \"encoding\": {\"text\": {\"value\": \"Total of ICUs: 43656\"}, \"y\": {\"type\": \"quantitative\", \"field\": \"y\"}}}]}, {\"data\": {\"name\": \"data-bb3c844485ad6384983f5c9b8e7c3598\"}, \"mark\": \"point\", \"encoding\": {\"color\": {\"condition\": {\"type\": \"nominal\", \"field\": \"Patients\", \"legend\": null, \"scale\": {\"reverse\": false, \"scheme\": \"tableau20\"}, \"selection\": \"selector002\"}, \"value\": \"#ffbf79\"}, \"y\": {\"type\": \"nominal\", \"axis\": {\"orient\": \"right\"}, \"field\": \"Patients\"}}}], \"$schema\": \"https://vega.github.io/schema/vega-lite/v4.8.1.json\", \"datasets\": {\"data-bb3c844485ad6384983f5c9b8e7c3598\": [{\"State\": \"actives\", \"Date\": \"01/22/20\", \"Active Cases\": 0.0, \"Patients\": \"Need ICU\"}, {\"State\": \"actives\", \"Date\": \"01/23/20\", \"Active Cases\": 0.0, \"Patients\": \"Need ICU\"}, {\"State\": \"actives\", \"Date\": \"01/24/20\", \"Active Cases\": 0.0, \"Patients\": \"Need ICU\"}, {\"State\": \"actives\", \"Date\": \"01/25/20\", \"Active Cases\": 0.0, \"Patients\": \"Need ICU\"}, {\"State\": \"actives\", \"Date\": \"01/26/20\", \"Active Cases\": 0.0, \"Patients\": \"Need ICU\"}, {\"State\": \"actives\", \"Date\": \"01/27/20\", \"Active Cases\": 0.0, \"Patients\": \"Need ICU\"}, {\"State\": \"actives\", \"Date\": \"01/28/20\", \"Active Cases\": 0.0, \"Patients\": \"Need ICU\"}, {\"State\": \"actives\", \"Date\": \"01/29/20\", \"Active Cases\": 0.0, \"Patients\": \"Need ICU\"}, {\"State\": \"actives\", \"Date\": \"01/30/20\", \"Active Cases\": 0.0, \"Patients\": \"Need ICU\"}, {\"State\": \"actives\", \"Date\": \"01/31/20\", \"Active Cases\": 0.0, \"Patients\": \"Need ICU\"}, {\"State\": \"actives\", \"Date\": \"02/01/20\", \"Active Cases\": 0.0, \"Patients\": \"Need ICU\"}, {\"State\": \"actives\", \"Date\": \"02/02/20\", \"Active Cases\": 0.0, \"Patients\": \"Need ICU\"}, {\"State\": \"actives\", \"Date\": \"02/03/20\", \"Active Cases\": 0.0, \"Patients\": \"Need ICU\"}, {\"State\": \"actives\", \"Date\": \"02/04/20\", \"Active Cases\": 0.0, \"Patients\": \"Need ICU\"}, {\"State\": \"actives\", \"Date\": \"02/05/20\", \"Active Cases\": 0.0, \"Patients\": \"Need ICU\"}, {\"State\": \"actives\", \"Date\": \"02/06/20\", \"Active Cases\": 0.0, \"Patients\": \"Need ICU\"}, {\"State\": \"actives\", \"Date\": \"02/07/20\", \"Active Cases\": 0.0, \"Patients\": \"Need ICU\"}, {\"State\": \"actives\", \"Date\": \"02/08/20\", \"Active Cases\": 0.0, \"Patients\": \"Need ICU\"}, {\"State\": \"actives\", \"Date\": \"02/09/20\", \"Active Cases\": 0.0, \"Patients\": \"Need ICU\"}, {\"State\": \"actives\", \"Date\": \"02/10/20\", \"Active Cases\": 0.0, \"Patients\": \"Need ICU\"}, {\"State\": \"actives\", \"Date\": \"02/11/20\", \"Active Cases\": 0.0, \"Patients\": \"Need ICU\"}, {\"State\": \"actives\", \"Date\": \"02/12/20\", \"Active Cases\": 0.0, \"Patients\": \"Need ICU\"}, {\"State\": \"actives\", \"Date\": \"02/13/20\", \"Active Cases\": 0.0, \"Patients\": \"Need ICU\"}, {\"State\": \"actives\", \"Date\": \"02/14/20\", \"Active Cases\": 0.0, \"Patients\": \"Need ICU\"}, {\"State\": \"actives\", \"Date\": \"02/15/20\", \"Active Cases\": 0.0, \"Patients\": \"Need ICU\"}, {\"State\": \"actives\", \"Date\": \"02/16/20\", \"Active Cases\": 0.0, \"Patients\": \"Need ICU\"}, {\"State\": \"actives\", \"Date\": \"02/17/20\", \"Active Cases\": 0.0, \"Patients\": \"Need ICU\"}, {\"State\": \"actives\", \"Date\": \"02/18/20\", \"Active Cases\": 0.0, \"Patients\": \"Need ICU\"}, {\"State\": \"actives\", \"Date\": \"02/19/20\", \"Active Cases\": 0.0, \"Patients\": \"Need ICU\"}, {\"State\": \"actives\", \"Date\": \"02/20/20\", \"Active Cases\": 0.0, \"Patients\": \"Need ICU\"}, {\"State\": \"actives\", \"Date\": \"02/21/20\", \"Active Cases\": 0.0, \"Patients\": \"Need ICU\"}, {\"State\": \"actives\", \"Date\": \"02/22/20\", \"Active Cases\": 0.0, \"Patients\": \"Need ICU\"}, {\"State\": \"actives\", \"Date\": \"02/23/20\", \"Active Cases\": 0.0, \"Patients\": \"Need ICU\"}, {\"State\": \"actives\", \"Date\": \"02/24/20\", \"Active Cases\": 0.0, \"Patients\": \"Need ICU\"}, {\"State\": \"actives\", \"Date\": \"02/25/20\", \"Active Cases\": 0.0, \"Patients\": \"Need ICU\"}, {\"State\": \"actives\", \"Date\": \"02/26/20\", \"Active Cases\": 0.12, \"Patients\": \"Need ICU\"}, {\"State\": \"actives\", \"Date\": \"02/27/20\", \"Active Cases\": 0.12, \"Patients\": \"Need ICU\"}, {\"State\": \"actives\", \"Date\": \"02/28/20\", \"Active Cases\": 0.12, \"Patients\": \"Need ICU\"}, {\"State\": \"actives\", \"Date\": \"02/29/20\", \"Active Cases\": 0.24, \"Patients\": \"Need ICU\"}, {\"State\": \"actives\", \"Date\": \"03/01/20\", \"Active Cases\": 0.24, \"Patients\": \"Need ICU\"}, {\"State\": \"actives\", \"Date\": \"03/02/20\", \"Active Cases\": 0.24, \"Patients\": \"Need ICU\"}, {\"State\": \"actives\", \"Date\": \"03/03/20\", \"Active Cases\": 0.24, \"Patients\": \"Need ICU\"}, {\"State\": \"actives\", \"Date\": \"03/04/20\", \"Active Cases\": 0.48, \"Patients\": \"Need ICU\"}, {\"State\": \"actives\", \"Date\": \"03/05/20\", \"Active Cases\": 0.48, \"Patients\": \"Need ICU\"}, {\"State\": \"actives\", \"Date\": \"03/06/20\", \"Active Cases\": 1.56, \"Patients\": \"Need ICU\"}, {\"State\": \"actives\", \"Date\": \"03/07/20\", \"Active Cases\": 1.56, \"Patients\": \"Need ICU\"}, {\"State\": \"actives\", \"Date\": \"03/08/20\", \"Active Cases\": 2.4, \"Patients\": \"Need ICU\"}, {\"State\": \"actives\", \"Date\": \"03/09/20\", \"Active Cases\": 3.0, \"Patients\": \"Need ICU\"}, {\"State\": \"actives\", \"Date\": \"03/10/20\", \"Active Cases\": 3.7199999999999998, \"Patients\": \"Need ICU\"}, {\"State\": \"actives\", \"Date\": \"03/11/20\", \"Active Cases\": 4.56, \"Patients\": \"Need ICU\"}, {\"State\": \"actives\", \"Date\": \"03/12/20\", \"Active Cases\": 6.24, \"Patients\": \"Need ICU\"}, {\"State\": \"actives\", \"Date\": \"03/13/20\", \"Active Cases\": 18.12, \"Patients\": \"Need ICU\"}, {\"State\": \"actives\", \"Date\": \"03/14/20\", \"Active Cases\": 18.12, \"Patients\": \"Need ICU\"}, {\"State\": \"actives\", \"Date\": \"03/15/20\", \"Active Cases\": 19.439999999999998, \"Patients\": \"Need ICU\"}, {\"State\": \"actives\", \"Date\": \"03/16/20\", \"Active Cases\": 23.88, \"Patients\": \"Need ICU\"}, {\"State\": \"actives\", \"Date\": \"03/17/20\", \"Active Cases\": 38.28, \"Patients\": \"Need ICU\"}, {\"State\": \"actives\", \"Date\": \"03/18/20\", \"Active Cases\": 44.4, \"Patients\": \"Need ICU\"}, {\"State\": \"actives\", \"Date\": \"03/19/20\", \"Active Cases\": 74.28, \"Patients\": \"Need ICU\"}, {\"State\": \"actives\", \"Date\": \"03/20/20\", \"Active Cases\": 94.92, \"Patients\": \"Need ICU\"}, {\"State\": \"actives\", \"Date\": \"03/21/20\", \"Active Cases\": 122.28, \"Patients\": \"Need ICU\"}, {\"State\": \"actives\", \"Date\": \"03/22/20\", \"Active Cases\": 185.28, \"Patients\": \"Need ICU\"}, {\"State\": \"actives\", \"Date\": \"03/23/20\", \"Active Cases\": 230.64, \"Patients\": \"Need ICU\"}, {\"State\": \"actives\", \"Date\": \"03/24/20\", \"Active Cases\": 269.4, \"Patients\": \"Need ICU\"}, {\"State\": \"actives\", \"Date\": \"03/25/20\", \"Active Cases\": 306.24, \"Patients\": \"Need ICU\"}, {\"State\": \"actives\", \"Date\": \"03/26/20\", \"Active Cases\": 357.47999999999996, \"Patients\": \"Need ICU\"}, {\"State\": \"actives\", \"Date\": \"03/27/20\", \"Active Cases\": 409.32, \"Patients\": \"Need ICU\"}, {\"State\": \"actives\", \"Date\": \"03/28/20\", \"Active Cases\": 467.76, \"Patients\": \"Need ICU\"}, {\"State\": \"actives\", \"Date\": \"03/29/20\", \"Active Cases\": 510.0, \"Patients\": \"Need ICU\"}, {\"State\": \"actives\", \"Date\": \"03/30/20\", \"Active Cases\": 535.0799999999999, \"Patients\": \"Need ICU\"}, {\"State\": \"actives\", \"Date\": \"03/31/20\", \"Active Cases\": 670.8, \"Patients\": \"Need ICU\"}, {\"State\": \"actives\", \"Date\": \"04/01/20\", \"Active Cases\": 805.0799999999999, \"Patients\": \"Need ICU\"}, {\"State\": \"actives\", \"Date\": \"04/02/20\", \"Active Cases\": 950.04, \"Patients\": \"Need ICU\"}, {\"State\": \"actives\", \"Date\": \"04/03/20\", \"Active Cases\": 1071.48, \"Patients\": \"Need ICU\"}, {\"State\": \"actives\", \"Date\": \"04/04/20\", \"Active Cases\": 1227.96, \"Patients\": \"Need ICU\"}, {\"State\": \"actives\", \"Date\": \"04/05/20\", \"Active Cases\": 1320.36, \"Patients\": \"Need ICU\"}, {\"State\": \"actives\", \"Date\": \"04/06/20\", \"Active Cases\": 1444.08, \"Patients\": \"Need ICU\"}, {\"State\": \"actives\", \"Date\": \"04/07/20\", \"Active Cases\": 1668.84, \"Patients\": \"Need ICU\"}, {\"State\": \"actives\", \"Date\": \"04/08/20\", \"Active Cases\": 1925.1599999999999, \"Patients\": \"Need ICU\"}, {\"State\": \"actives\", \"Date\": \"04/09/20\", \"Active Cases\": 2150.2799999999997, \"Patients\": \"Need ICU\"}, {\"State\": \"actives\", \"Date\": \"04/10/20\", \"Active Cases\": 2335.7999999999997, \"Patients\": \"Need ICU\"}, {\"State\": \"actives\", \"Date\": \"04/11/20\", \"Active Cases\": 2466.48, \"Patients\": \"Need ICU\"}, {\"State\": \"actives\", \"Date\": \"04/12/20\", \"Active Cases\": 2642.2799999999997, \"Patients\": \"Need ICU\"}, {\"State\": \"actives\", \"Date\": \"04/13/20\", \"Active Cases\": 2790.8399999999997, \"Patients\": \"Need ICU\"}, {\"State\": \"actives\", \"Date\": \"04/14/20\", \"Active Cases\": 2665.92, \"Patients\": \"Need ICU\"}, {\"State\": \"actives\", \"Date\": \"04/15/20\", \"Active Cases\": 1715.28, \"Patients\": \"Need ICU\"}, {\"State\": \"actives\", \"Date\": \"04/16/20\", \"Active Cases\": 1967.8799999999999, \"Patients\": \"Need ICU\"}, {\"State\": \"actives\", \"Date\": \"04/17/20\", \"Active Cases\": 2358.72, \"Patients\": \"Need ICU\"}, {\"State\": \"actives\", \"Date\": \"04/18/20\", \"Active Cases\": 2715.8399999999997, \"Patients\": \"Need ICU\"}, {\"State\": \"actives\", \"Date\": \"04/19/20\", \"Active Cases\": 1982.8799999999999, \"Patients\": \"Need ICU\"}, {\"State\": \"actives\", \"Date\": \"04/20/20\", \"Active Cases\": 2233.56, \"Patients\": \"Need ICU\"}, {\"State\": \"actives\", \"Date\": \"04/21/20\", \"Active Cases\": 2410.56, \"Patients\": \"Need ICU\"}, {\"State\": \"actives\", \"Date\": \"04/22/20\", \"Active Cases\": 2452.68, \"Patients\": \"Need ICU\"}, {\"State\": \"actives\", \"Date\": \"04/23/20\", \"Active Cases\": 2815.56, \"Patients\": \"Need ICU\"}, {\"State\": \"actives\", \"Date\": \"04/24/20\", \"Active Cases\": 3166.56, \"Patients\": \"Need ICU\"}, {\"State\": \"actives\", \"Date\": \"04/25/20\", \"Active Cases\": 3619.68, \"Patients\": \"Need ICU\"}, {\"State\": \"actives\", \"Date\": \"04/26/20\", \"Active Cases\": 3953.7599999999998, \"Patients\": \"Need ICU\"}, {\"State\": \"actives\", \"Date\": \"04/27/20\", \"Active Cases\": 4356.48, \"Patients\": \"Need ICU\"}, {\"State\": \"actives\", \"Date\": \"04/28/20\", \"Active Cases\": 4882.92, \"Patients\": \"Need ICU\"}, {\"State\": \"actives\", \"Date\": \"04/29/20\", \"Active Cases\": 5466.36, \"Patients\": \"Need ICU\"}, {\"State\": \"actives\", \"Date\": \"04/30/20\", \"Active Cases\": 6150.24, \"Patients\": \"Need ICU\"}, {\"State\": \"actives\", \"Date\": \"05/01/20\", \"Active Cases\": 6499.5599999999995, \"Patients\": \"Need ICU\"}, {\"State\": \"actives\", \"Date\": \"05/02/20\", \"Active Cases\": 6739.5599999999995, \"Patients\": \"Need ICU\"}, {\"State\": \"actives\", \"Date\": \"05/03/20\", \"Active Cases\": 7060.2, \"Patients\": \"Need ICU\"}, {\"State\": \"actives\", \"Date\": \"05/04/20\", \"Active Cases\": 7536.599999999999, \"Patients\": \"Need ICU\"}, {\"State\": \"actives\", \"Date\": \"05/05/20\", \"Active Cases\": 8068.08, \"Patients\": \"Need ICU\"}, {\"State\": \"actives\", \"Date\": \"05/06/20\", \"Active Cases\": 9028.92, \"Patients\": \"Need ICU\"}, {\"State\": \"actives\", \"Date\": \"05/07/20\", \"Active Cases\": 9650.76, \"Patients\": \"Need ICU\"}, {\"State\": \"actives\", \"Date\": \"05/08/20\", \"Active Cases\": 10511.64, \"Patients\": \"Need ICU\"}, {\"State\": \"actives\", \"Date\": \"05/09/20\", \"Active Cases\": 11325.119999999999, \"Patients\": \"Need ICU\"}, {\"State\": \"actives\", \"Date\": \"05/10/20\", \"Active Cases\": 11729.039999999999, \"Patients\": \"Need ICU\"}, {\"State\": \"actives\", \"Date\": \"01/22/20\", \"Active Cases\": 0.0, \"Patients\": \"Do not need ICU\"}, {\"State\": \"actives\", \"Date\": \"01/23/20\", \"Active Cases\": 0.0, \"Patients\": \"Do not need ICU\"}, {\"State\": \"actives\", \"Date\": \"01/24/20\", \"Active Cases\": 0.0, \"Patients\": \"Do not need ICU\"}, {\"State\": \"actives\", \"Date\": \"01/25/20\", \"Active Cases\": 0.0, \"Patients\": \"Do not need ICU\"}, {\"State\": \"actives\", \"Date\": \"01/26/20\", \"Active Cases\": 0.0, \"Patients\": \"Do not need ICU\"}, {\"State\": \"actives\", \"Date\": \"01/27/20\", \"Active Cases\": 0.0, \"Patients\": \"Do not need ICU\"}, {\"State\": \"actives\", \"Date\": \"01/28/20\", \"Active Cases\": 0.0, \"Patients\": \"Do not need ICU\"}, {\"State\": \"actives\", \"Date\": \"01/29/20\", \"Active Cases\": 0.0, \"Patients\": \"Do not need ICU\"}, {\"State\": \"actives\", \"Date\": \"01/30/20\", \"Active Cases\": 0.0, \"Patients\": \"Do not need ICU\"}, {\"State\": \"actives\", \"Date\": \"01/31/20\", \"Active Cases\": 0.0, \"Patients\": \"Do not need ICU\"}, {\"State\": \"actives\", \"Date\": \"02/01/20\", \"Active Cases\": 0.0, \"Patients\": \"Do not need ICU\"}, {\"State\": \"actives\", \"Date\": \"02/02/20\", \"Active Cases\": 0.0, \"Patients\": \"Do not need ICU\"}, {\"State\": \"actives\", \"Date\": \"02/03/20\", \"Active Cases\": 0.0, \"Patients\": \"Do not need ICU\"}, {\"State\": \"actives\", \"Date\": \"02/04/20\", \"Active Cases\": 0.0, \"Patients\": \"Do not need ICU\"}, {\"State\": \"actives\", \"Date\": \"02/05/20\", \"Active Cases\": 0.0, \"Patients\": \"Do not need ICU\"}, {\"State\": \"actives\", \"Date\": \"02/06/20\", \"Active Cases\": 0.0, \"Patients\": \"Do not need ICU\"}, {\"State\": \"actives\", \"Date\": \"02/07/20\", \"Active Cases\": 0.0, \"Patients\": \"Do not need ICU\"}, {\"State\": \"actives\", \"Date\": \"02/08/20\", \"Active Cases\": 0.0, \"Patients\": \"Do not need ICU\"}, {\"State\": \"actives\", \"Date\": \"02/09/20\", \"Active Cases\": 0.0, \"Patients\": \"Do not need ICU\"}, {\"State\": \"actives\", \"Date\": \"02/10/20\", \"Active Cases\": 0.0, \"Patients\": \"Do not need ICU\"}, {\"State\": \"actives\", \"Date\": \"02/11/20\", \"Active Cases\": 0.0, \"Patients\": \"Do not need ICU\"}, {\"State\": \"actives\", \"Date\": \"02/12/20\", \"Active Cases\": 0.0, \"Patients\": \"Do not need ICU\"}, {\"State\": \"actives\", \"Date\": \"02/13/20\", \"Active Cases\": 0.0, \"Patients\": \"Do not need ICU\"}, {\"State\": \"actives\", \"Date\": \"02/14/20\", \"Active Cases\": 0.0, \"Patients\": \"Do not need ICU\"}, {\"State\": \"actives\", \"Date\": \"02/15/20\", \"Active Cases\": 0.0, \"Patients\": \"Do not need ICU\"}, {\"State\": \"actives\", \"Date\": \"02/16/20\", \"Active Cases\": 0.0, \"Patients\": \"Do not need ICU\"}, {\"State\": \"actives\", \"Date\": \"02/17/20\", \"Active Cases\": 0.0, \"Patients\": \"Do not need ICU\"}, {\"State\": \"actives\", \"Date\": \"02/18/20\", \"Active Cases\": 0.0, \"Patients\": \"Do not need ICU\"}, {\"State\": \"actives\", \"Date\": \"02/19/20\", \"Active Cases\": 0.0, \"Patients\": \"Do not need ICU\"}, {\"State\": \"actives\", \"Date\": \"02/20/20\", \"Active Cases\": 0.0, \"Patients\": \"Do not need ICU\"}, {\"State\": \"actives\", \"Date\": \"02/21/20\", \"Active Cases\": 0.0, \"Patients\": \"Do not need ICU\"}, {\"State\": \"actives\", \"Date\": \"02/22/20\", \"Active Cases\": 0.0, \"Patients\": \"Do not need ICU\"}, {\"State\": \"actives\", \"Date\": \"02/23/20\", \"Active Cases\": 0.0, \"Patients\": \"Do not need ICU\"}, {\"State\": \"actives\", \"Date\": \"02/24/20\", \"Active Cases\": 0.0, \"Patients\": \"Do not need ICU\"}, {\"State\": \"actives\", \"Date\": \"02/25/20\", \"Active Cases\": 0.0, \"Patients\": \"Do not need ICU\"}, {\"State\": \"actives\", \"Date\": \"02/26/20\", \"Active Cases\": 0.88, \"Patients\": \"Do not need ICU\"}, {\"State\": \"actives\", \"Date\": \"02/27/20\", \"Active Cases\": 0.88, \"Patients\": \"Do not need ICU\"}, {\"State\": \"actives\", \"Date\": \"02/28/20\", \"Active Cases\": 0.88, \"Patients\": \"Do not need ICU\"}, {\"State\": \"actives\", \"Date\": \"02/29/20\", \"Active Cases\": 1.76, \"Patients\": \"Do not need ICU\"}, {\"State\": \"actives\", \"Date\": \"03/01/20\", \"Active Cases\": 1.76, \"Patients\": \"Do not need ICU\"}, {\"State\": \"actives\", \"Date\": \"03/02/20\", \"Active Cases\": 1.76, \"Patients\": \"Do not need ICU\"}, {\"State\": \"actives\", \"Date\": \"03/03/20\", \"Active Cases\": 1.76, \"Patients\": \"Do not need ICU\"}, {\"State\": \"actives\", \"Date\": \"03/04/20\", \"Active Cases\": 3.52, \"Patients\": \"Do not need ICU\"}, {\"State\": \"actives\", \"Date\": \"03/05/20\", \"Active Cases\": 3.52, \"Patients\": \"Do not need ICU\"}, {\"State\": \"actives\", \"Date\": \"03/06/20\", \"Active Cases\": 11.44, \"Patients\": \"Do not need ICU\"}, {\"State\": \"actives\", \"Date\": \"03/07/20\", \"Active Cases\": 11.44, \"Patients\": \"Do not need ICU\"}, {\"State\": \"actives\", \"Date\": \"03/08/20\", \"Active Cases\": 17.6, \"Patients\": \"Do not need ICU\"}, {\"State\": \"actives\", \"Date\": \"03/09/20\", \"Active Cases\": 22.0, \"Patients\": \"Do not need ICU\"}, {\"State\": \"actives\", \"Date\": \"03/10/20\", \"Active Cases\": 27.28, \"Patients\": \"Do not need ICU\"}, {\"State\": \"actives\", \"Date\": \"03/11/20\", \"Active Cases\": 33.44, \"Patients\": \"Do not need ICU\"}, {\"State\": \"actives\", \"Date\": \"03/12/20\", \"Active Cases\": 45.76, \"Patients\": \"Do not need ICU\"}, {\"State\": \"actives\", \"Date\": \"03/13/20\", \"Active Cases\": 132.88, \"Patients\": \"Do not need ICU\"}, {\"State\": \"actives\", \"Date\": \"03/14/20\", \"Active Cases\": 132.88, \"Patients\": \"Do not need ICU\"}, {\"State\": \"actives\", \"Date\": \"03/15/20\", \"Active Cases\": 142.56, \"Patients\": \"Do not need ICU\"}, {\"State\": \"actives\", \"Date\": \"03/16/20\", \"Active Cases\": 175.12, \"Patients\": \"Do not need ICU\"}, {\"State\": \"actives\", \"Date\": \"03/17/20\", \"Active Cases\": 280.72, \"Patients\": \"Do not need ICU\"}, {\"State\": \"actives\", \"Date\": \"03/18/20\", \"Active Cases\": 325.6, \"Patients\": \"Do not need ICU\"}, {\"State\": \"actives\", \"Date\": \"03/19/20\", \"Active Cases\": 544.72, \"Patients\": \"Do not need ICU\"}, {\"State\": \"actives\", \"Date\": \"03/20/20\", \"Active Cases\": 696.08, \"Patients\": \"Do not need ICU\"}, {\"State\": \"actives\", \"Date\": \"03/21/20\", \"Active Cases\": 896.72, \"Patients\": \"Do not need ICU\"}, {\"State\": \"actives\", \"Date\": \"03/22/20\", \"Active Cases\": 1358.72, \"Patients\": \"Do not need ICU\"}, {\"State\": \"actives\", \"Date\": \"03/23/20\", \"Active Cases\": 1691.36, \"Patients\": \"Do not need ICU\"}, {\"State\": \"actives\", \"Date\": \"03/24/20\", \"Active Cases\": 1975.6, \"Patients\": \"Do not need ICU\"}, {\"State\": \"actives\", \"Date\": \"03/25/20\", \"Active Cases\": 2245.76, \"Patients\": \"Do not need ICU\"}, {\"State\": \"actives\", \"Date\": \"03/26/20\", \"Active Cases\": 2621.52, \"Patients\": \"Do not need ICU\"}, {\"State\": \"actives\", \"Date\": \"03/27/20\", \"Active Cases\": 3001.68, \"Patients\": \"Do not need ICU\"}, {\"State\": \"actives\", \"Date\": \"03/28/20\", \"Active Cases\": 3430.2400000000002, \"Patients\": \"Do not need ICU\"}, {\"State\": \"actives\", \"Date\": \"03/29/20\", \"Active Cases\": 3740.0, \"Patients\": \"Do not need ICU\"}, {\"State\": \"actives\", \"Date\": \"03/30/20\", \"Active Cases\": 3923.92, \"Patients\": \"Do not need ICU\"}, {\"State\": \"actives\", \"Date\": \"03/31/20\", \"Active Cases\": 4919.2, \"Patients\": \"Do not need ICU\"}, {\"State\": \"actives\", \"Date\": \"04/01/20\", \"Active Cases\": 5903.92, \"Patients\": \"Do not need ICU\"}, {\"State\": \"actives\", \"Date\": \"04/02/20\", \"Active Cases\": 6966.96, \"Patients\": \"Do not need ICU\"}, {\"State\": \"actives\", \"Date\": \"04/03/20\", \"Active Cases\": 7857.52, \"Patients\": \"Do not need ICU\"}, {\"State\": \"actives\", \"Date\": \"04/04/20\", \"Active Cases\": 9005.04, \"Patients\": \"Do not need ICU\"}, {\"State\": \"actives\", \"Date\": \"04/05/20\", \"Active Cases\": 9682.64, \"Patients\": \"Do not need ICU\"}, {\"State\": \"actives\", \"Date\": \"04/06/20\", \"Active Cases\": 10589.92, \"Patients\": \"Do not need ICU\"}, {\"State\": \"actives\", \"Date\": \"04/07/20\", \"Active Cases\": 12238.16, \"Patients\": \"Do not need ICU\"}, {\"State\": \"actives\", \"Date\": \"04/08/20\", \"Active Cases\": 14117.84, \"Patients\": \"Do not need ICU\"}, {\"State\": \"actives\", \"Date\": \"04/09/20\", \"Active Cases\": 15768.72, \"Patients\": \"Do not need ICU\"}, {\"State\": \"actives\", \"Date\": \"04/10/20\", \"Active Cases\": 17129.2, \"Patients\": \"Do not need ICU\"}, {\"State\": \"actives\", \"Date\": \"04/11/20\", \"Active Cases\": 18087.52, \"Patients\": \"Do not need ICU\"}, {\"State\": \"actives\", \"Date\": \"04/12/20\", \"Active Cases\": 19376.72, \"Patients\": \"Do not need ICU\"}, {\"State\": \"actives\", \"Date\": \"04/13/20\", \"Active Cases\": 20466.16, \"Patients\": \"Do not need ICU\"}, {\"State\": \"actives\", \"Date\": \"04/14/20\", \"Active Cases\": 19550.08, \"Patients\": \"Do not need ICU\"}, {\"State\": \"actives\", \"Date\": \"04/15/20\", \"Active Cases\": 12578.72, \"Patients\": \"Do not need ICU\"}, {\"State\": \"actives\", \"Date\": \"04/16/20\", \"Active Cases\": 14431.12, \"Patients\": \"Do not need ICU\"}, {\"State\": \"actives\", \"Date\": \"04/17/20\", \"Active Cases\": 17297.28, \"Patients\": \"Do not need ICU\"}, {\"State\": \"actives\", \"Date\": \"04/18/20\", \"Active Cases\": 19916.16, \"Patients\": \"Do not need ICU\"}, {\"State\": \"actives\", \"Date\": \"04/19/20\", \"Active Cases\": 14541.12, \"Patients\": \"Do not need ICU\"}, {\"State\": \"actives\", \"Date\": \"04/20/20\", \"Active Cases\": 16379.44, \"Patients\": \"Do not need ICU\"}, {\"State\": \"actives\", \"Date\": \"04/21/20\", \"Active Cases\": 17677.44, \"Patients\": \"Do not need ICU\"}, {\"State\": \"actives\", \"Date\": \"04/22/20\", \"Active Cases\": 17986.32, \"Patients\": \"Do not need ICU\"}, {\"State\": \"actives\", \"Date\": \"04/23/20\", \"Active Cases\": 20647.44, \"Patients\": \"Do not need ICU\"}, {\"State\": \"actives\", \"Date\": \"04/24/20\", \"Active Cases\": 23221.44, \"Patients\": \"Do not need ICU\"}, {\"State\": \"actives\", \"Date\": \"04/25/20\", \"Active Cases\": 26544.32, \"Patients\": \"Do not need ICU\"}, {\"State\": \"actives\", \"Date\": \"04/26/20\", \"Active Cases\": 28994.24, \"Patients\": \"Do not need ICU\"}, {\"State\": \"actives\", \"Date\": \"04/27/20\", \"Active Cases\": 31947.52, \"Patients\": \"Do not need ICU\"}, {\"State\": \"actives\", \"Date\": \"04/28/20\", \"Active Cases\": 35808.08, \"Patients\": \"Do not need ICU\"}, {\"State\": \"actives\", \"Date\": \"04/29/20\", \"Active Cases\": 40086.64, \"Patients\": \"Do not need ICU\"}, {\"State\": \"actives\", \"Date\": \"04/30/20\", \"Active Cases\": 45101.76, \"Patients\": \"Do not need ICU\"}, {\"State\": \"actives\", \"Date\": \"05/01/20\", \"Active Cases\": 47663.44, \"Patients\": \"Do not need ICU\"}, {\"State\": \"actives\", \"Date\": \"05/02/20\", \"Active Cases\": 49423.44, \"Patients\": \"Do not need ICU\"}, {\"State\": \"actives\", \"Date\": \"05/03/20\", \"Active Cases\": 51774.8, \"Patients\": \"Do not need ICU\"}, {\"State\": \"actives\", \"Date\": \"05/04/20\", \"Active Cases\": 55268.4, \"Patients\": \"Do not need ICU\"}, {\"State\": \"actives\", \"Date\": \"05/05/20\", \"Active Cases\": 59165.92, \"Patients\": \"Do not need ICU\"}, {\"State\": \"actives\", \"Date\": \"05/06/20\", \"Active Cases\": 66212.08, \"Patients\": \"Do not need ICU\"}, {\"State\": \"actives\", \"Date\": \"05/07/20\", \"Active Cases\": 70772.24, \"Patients\": \"Do not need ICU\"}, {\"State\": \"actives\", \"Date\": \"05/08/20\", \"Active Cases\": 77085.36, \"Patients\": \"Do not need ICU\"}, {\"State\": \"actives\", \"Date\": \"05/09/20\", \"Active Cases\": 83050.88, \"Patients\": \"Do not need ICU\"}, {\"State\": \"actives\", \"Date\": \"05/10/20\", \"Active Cases\": 86012.96, \"Patients\": \"Do not need ICU\"}], \"data-34d9b806eba4af7cf55b2faaa85e55a5\": [{\"y\": 13096.8}], \"data-8abec10a19213157203ee9f47c2b269f\": [{\"y\": 43656.0}]}}, {\"mode\": \"vega-lite\"});\n",
       "</script>"
      ],
      "text/plain": [
       "alt.HConcatChart(...)"
      ]
     },
     "execution_count": 7,
     "metadata": {},
     "output_type": "execute_result"
    }
   ],
   "source": [
    "#hide_input\n",
    "input_dropdown = alt.binding_select(options=df[STATE_COLUMN].unique())\n",
    "selection = alt.selection_multi(fields=[STATE_COLUMN], on='mouseover')\n",
    "color = alt.condition(selection,\n",
    "                    alt.Color(STATE_COLUMN+':N', \n",
    "                              scale=alt.Scale(scheme='tableau20', reverse=False), legend=None),\n",
    "                              alt.value('#ffbf79')\n",
    "                     )\n",
    "\n",
    "chart = alt.Chart(df).mark_bar().encode(\n",
    "    x=alt.X(DATE_COLUMN+':O', axis=alt.Axis(title=DATE_COLUMN)),\n",
    "    y=alt.Y(ACTIVE_COLUMN, axis=alt.Axis(title=ACTIVE_COLUMN)),\n",
    "    color=color,\n",
    "    tooltip=[DATE_COLUMN, ACTIVE_COLUMN],\n",
    "    order=alt.Order(\n",
    "    STATE_COLUMN,\n",
    "    sort='descending'\n",
    "    )\n",
    ").properties(\n",
    "    title=[\n",
    "        \"Flatten the curve - all active cases\",\n",
    "        \"*see assumptions\"\n",
    "    ]\n",
    ").add_selection(\n",
    "    selection\n",
    ")\n",
    "\n",
    "legend = alt.Chart(df).mark_point().encode(\n",
    "    y=alt.Y(STATE_COLUMN+':N', axis=alt.Axis(orient='right')),\n",
    "    color=color\n",
    ")\n",
    "\n",
    "x1line = alt.Chart(pd.DataFrame({'y': [TOTAL_AVAILABLE_ICU]})).mark_rule(color='#e42726', strokeWidth=2).encode(\n",
    "    y='y:Q'\n",
    ")\n",
    "text1 = x1line.mark_text(align='left', x=5, dy=10, color='#e42726', strokeWidth=1).encode(\n",
    "    text=alt.value(\"ICUs for COVID19 patients: \"+\"{:.0f}\".format(TOTAL_AVAILABLE_ICU))\n",
    ")\n",
    "\n",
    "x2line = alt.Chart(pd.DataFrame({'y': [TOTAL_ICU]})).mark_rule(color='darkred', strokeWidth=2).encode(\n",
    "    y='y:Q'\n",
    ")\n",
    "text2 = x2line.mark_text(align='left', x=5, dy=10, color='darkred', strokeWidth=1).encode(\n",
    "    text=alt.value(\"Total of ICUs: \"+\"{:.0f}\".format(TOTAL_ICU))\n",
    ")\n",
    "\n",
    "chart.properties(width=CHART_WIDTH, height=CHART_HEIGHT) + x1line + text1 + x2line + text2 | legend"
   ]
  },
  {
   "cell_type": "code",
   "execution_count": 8,
   "metadata": {},
   "outputs": [
    {
     "name": "stdout",
     "output_type": "stream",
     "text": [
      "Assumptions:\n",
      "- Brazilian population is estimated in 211 millions inhabitants (source: ibge)\n",
      "- Brazil has around 20 ICUs for 100 thousand inhabitants (source: bcc). New ICU to fight covid-19 (source: Ministry of Health)\n",
      "- Based on data above, it is estimated 43656 ICUs for the whole country.\n",
      "- 30% of the ICUs would be available for covid-19 patients (source: oglobo)\n",
      "- Around 12% of covid-19 patients need ICU (source: the lancet paper)\n"
     ]
    }
   ],
   "source": [
    "#hide_input\n",
    "print(\"Assumptions:\")\n",
    "print(\"- Brazilian population is estimated in \"+\"{:.0f}\".format(POPULATION/1000000)+\" millions inhabitants (source: ibge)\")\n",
    "print(\"- Brazil has around \"+str(ICU_PER_100k)+\" ICUs for 100 thousand inhabitants (source: bcc). New ICU to fight covid-19 (source: Ministry of Health)\")\n",
    "print(\"- Based on data above, it is estimated \"+\"{:.0f}\".format(TOTAL_ICU)+\" ICUs for the whole country.\")\n",
    "print(\"- {:.0f}\".format(AVAILABLE_PERCENTAGE_ICU*100)+\"% of the ICUs would be available for covid-19 patients (source: oglobo)\")\n",
    "print(\"- Around \"+\"{:.0f}\".format(CASES_NEED_ICU*100)+\"% of covid-19 patients need ICU (source: the lancet paper)\")"
   ]
  },
  {
   "cell_type": "markdown",
   "metadata": {
    "papermill": {
     "duration": 0.07254,
     "end_time": "2020-04-28T12:08:09.077685",
     "exception": false,
     "start_time": "2020-04-28T12:08:09.005145",
     "status": "completed"
    },
    "tags": []
   },
   "source": [
    "Developed by [Cleber Jorge Amaral](http://cleberjamaral.github.io/). Based on the work of [Alonso Silva Allende](https://covid19dashboards.com/jupyter/2020/04/27/Covid-19-Overview-Chile.html). \n",
    "\n",
    "Data sources:\n",
    "- covid19: [brasil.io](https://brasil.io/home/)\n",
    "- estimated population: [ibge](https://www.ibge.gov.br/apps/populacao/projecao//)\n",
    "- number of ICU: [bcc](https://www.bbc.com/portuguese/brasil-52137553) e [ministério da saúde](https://www.saude.gov.br/noticias/agencia-saude/46772-brasil-ganha-reforco-de-1-134-leitos-de-uti-no-combate-ao-coronavirus)\n",
    "- available ICUs: [oglobo](https://oglobo.globo.com/sociedade/coronavirus/coronavirus-ministerio-estima-que-sus-tem-de-12-13-mil-leitos-de-uti-disponiveis-para-atender-pacientes-1-24328523)\n",
    "- patients that need ICU: [the lancet paper](https://linkinghub.elsevier.com/retrieve/pii/S2213260020301612)"
   ]
  },
  {
   "cell_type": "code",
   "execution_count": null,
   "metadata": {},
   "outputs": [],
   "source": []
  }
 ],
 "metadata": {
  "kernelspec": {
   "display_name": "Python 3",
   "language": "python",
   "name": "python3"
  },
  "language_info": {
   "codemirror_mode": {
    "name": "ipython",
    "version": 3
   },
   "file_extension": ".py",
   "mimetype": "text/x-python",
   "name": "python",
   "nbconvert_exporter": "python",
   "pygments_lexer": "ipython3",
   "version": "3.8.2"
  },
  "papermill": {
   "duration": 3.904156,
   "end_time": "2020-04-28T12:08:09.239969",
   "environment_variables": {},
   "exception": null,
   "input_path": "2020-03-17-compare-trajectories.ipynb",
   "output_path": "2020-03-17-compare-trajectories.ipynb",
   "parameters": {},
   "start_time": "2020-04-28T12:08:05.335813",
   "version": "2.0.0"
  }
 },
 "nbformat": 4,
 "nbformat_minor": 2
}
