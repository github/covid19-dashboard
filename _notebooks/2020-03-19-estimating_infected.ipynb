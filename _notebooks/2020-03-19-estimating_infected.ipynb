{
 "cells": [
  {
   "cell_type": "markdown",
   "metadata": {
    "papermill": {
     "duration": 0.019739,
     "end_time": "2020-03-24T18:30:26.106746",
     "exception": false,
     "start_time": "2020-03-24T18:30:26.087007",
     "status": "completed"
    },
    "tags": []
   },
   "source": [
    "# Estimating The Infected Population From Deaths\n",
    "> Estimating the number of infected people by country based on the number of deaths and case fatality rate. \n",
    "\n",
    "- comments: true\n",
    "- author: Joao B. Duarte\n",
    "- categories: [growth, compare, interactive, estimation]\n",
    "- hide: false\n",
    "- image: images/covid-estimate-infections.png\n",
    "- permalink: /covid-infected/\n",
    "- toc: true"
   ]
  },
  {
   "cell_type": "code",
   "execution_count": 1,
   "metadata": {
    "papermill": {
     "duration": 0.781918,
     "end_time": "2020-03-24T18:30:26.902285",
     "exception": false,
     "start_time": "2020-03-24T18:30:26.120367",
     "status": "completed"
    },
    "tags": []
   },
   "outputs": [],
   "source": [
    "#hide\n",
    "import numpy as np\n",
    "import pandas as pd\n",
    "import matplotlib.pyplot as plt\n",
    "import altair as alt\n",
    "from datetime import timedelta, datetime, date\n",
    "%config InlineBackend.figure_format = 'retina'\n",
    "\n",
    "chart_width = 550\n",
    "chart_height= 400"
   ]
  },
  {
   "cell_type": "code",
   "execution_count": 2,
   "metadata": {
    "papermill": {
     "duration": 0.038944,
     "end_time": "2020-03-24T18:30:26.954668",
     "exception": false,
     "start_time": "2020-03-24T18:30:26.915724",
     "status": "completed"
    },
    "tags": []
   },
   "outputs": [],
   "source": [
    "#hide\n",
    "def plot(data, type1, levels):\n",
    "    data_countries_pc2 = data.copy()\n",
    "    for i in range(0,len(countries)):\n",
    "        data_countries_pc2[i] = data_countries_pc2[i].reset_index()\n",
    "        data_countries_pc2[i]['n_days'] = data_countries_pc2[i].index\n",
    "        if type1 == \"scatter\":\n",
    "            data_countries_pc2[i]['cases'] = data_countries_pc2[i][\"total_cases\"]\n",
    "        data_countries_pc2[i]['infected'] = data_countries_pc2[i][\"total_infected\"]\n",
    "    data_plot = data_countries_pc2[0]\n",
    "    for i in range(1, len(countries)):    \n",
    "        data_plot = pd.concat([data_plot, data_countries_pc2[i]], axis=0)\n",
    "    \n",
    "    if type1 == \"scatter\":\n",
    "        data_plot[\"45_line\"] = data_plot[\"cases\"]\n",
    "\n",
    "    # Plot it using Altair\n",
    "    source = data_plot\n",
    "    \n",
    "    if levels == True:\n",
    "        ylabel = \"Total\"\n",
    "    else :\n",
    "        ylabel = \"Per Million\"\n",
    "\n",
    "    scales = alt.selection_interval(bind='scales')\n",
    "    selection = alt.selection_multi(fields=['location'], bind='legend')\n",
    "\n",
    "    if type1 == \"line\": \n",
    "        base = alt.Chart(source, title =  \"Estimated Infected Population By Country\").encode(\n",
    "            x = alt.X('n_days:Q', title = \"Days since outbreak\"),\n",
    "            y = alt.Y(\"infected:Q\",title = ylabel),\n",
    "            color = alt.Color('location:N', legend=alt.Legend(title=\"Country\", labelFontSize=15, titleFontSize=17),\n",
    "                             scale=alt.Scale(scheme='tableau20')),\n",
    "            opacity = alt.condition(selection, alt.value(1), alt.value(0.1))\n",
    "        )\n",
    "    \n",
    "        lines = base.mark_line().add_selection(\n",
    "            scales\n",
    "        ).add_selection(\n",
    "            selection\n",
    "        ).properties(\n",
    "            width=chart_width,\n",
    "            height=chart_height\n",
    "        )\n",
    "        return(\n",
    "        ( lines)\n",
    "        .configure_title(fontSize=20)\n",
    "        .configure_axis(labelFontSize=15,titleFontSize=18)\n",
    "        )\n",
    "    \n",
    "    if levels == True:\n",
    "        ylabel = \"Infected\"\n",
    "        xlabel = \"Cases\"\n",
    "    else :\n",
    "        ylabel = \"Per Million Infected\"\n",
    "        xlabel = \"Per Million Cases\"\n",
    "        \n",
    "    if type1 == \"scatter\":\n",
    "        base = alt.Chart(source, title = \"COVID-19 Cases VS Infected\").encode(\n",
    "            x = alt.X('cases:Q', title = xlabel),\n",
    "            y = alt.Y(\"infected:Q\",title = ylabel),\n",
    "            color = alt.Color('location:N', legend=alt.Legend(title=\"Country\", labelFontSize=15, titleFontSize=17),\n",
    "                             scale=alt.Scale(scheme='tableau20')),\n",
    "            opacity = alt.condition(selection, alt.value(1), alt.value(0.1))\n",
    "        )\n",
    "\n",
    "\n",
    "        \n",
    "        scatter = base.mark_point().add_selection(\n",
    "            scales\n",
    "        ).add_selection(\n",
    "            selection\n",
    "        ).properties(\n",
    "            width=chart_width,\n",
    "            height=chart_height\n",
    "        )\n",
    "\n",
    "        line_45 = alt.Chart(source).encode(\n",
    "            x = \"cases:Q\",\n",
    "            y = alt.Y(\"45_line:Q\",  scale=alt.Scale(domain=(0, max(data_plot[\"infected\"])))),\n",
    "        ).mark_line(color=\"grey\", strokeDash=[3,3])\n",
    "        \n",
    "        return(\n",
    "        (scatter + line_45)\n",
    "        .configure_title(fontSize=20)\n",
    "        .configure_axis(labelFontSize=15,titleFontSize=18)\n",
    "        )"
   ]
  },
  {
   "cell_type": "code",
   "execution_count": 3,
   "metadata": {
    "papermill": {
     "duration": 7.054638,
     "end_time": "2020-03-24T18:30:34.023075",
     "exception": false,
     "start_time": "2020-03-24T18:30:26.968437",
     "status": "completed"
    },
    "tags": []
   },
   "outputs": [
    {
     "name": "stderr",
     "output_type": "stream",
     "text": [
      "/opt/hostedtoolcache/Python/3.6.10/x64/lib/python3.6/site-packages/ipykernel_launcher.py:46: RuntimeWarning: invalid value encountered in true_divide\n"
     ]
    }
   ],
   "source": [
    "#hide \n",
    "# Get data on deaths D_t\n",
    "data = pd.read_csv(\"https://raw.githubusercontent.com/CSSEGISandData/COVID-19/master/csse_covid_19_data/csse_covid_19_time_series/time_series_covid19_deaths_global.csv\", \n",
    "                   error_bad_lines=False)\n",
    "data = data.drop(columns=[\"Lat\", \"Long\"])\n",
    "data = data.melt(id_vars= [\"Province/State\", \"Country/Region\"])\n",
    "data = pd.DataFrame(data.groupby(['Country/Region', \"variable\"]).sum())\n",
    "data.reset_index(inplace=True)  \n",
    "data = data.rename(columns={\"Country/Region\": \"location\", \"variable\": \"date\", \"value\": \"total_deaths\"})\n",
    "data['date'] =pd.to_datetime(data.date)\n",
    "data = data.sort_values(by = \"date\")\n",
    "data.loc[data.location == \"US\",\"location\"] = \"United States\"\n",
    "data.loc[data.location == \"Korea, South\",\"location\"] = \"South Korea\"\n",
    "\n",
    "#hide\n",
    "# Get data and clean it\n",
    "data_cases = pd.read_csv(\"https://raw.githubusercontent.com/CSSEGISandData/COVID-19/master/csse_covid_19_data/csse_covid_19_time_series/time_series_covid19_confirmed_global.csv\", error_bad_lines=False)\n",
    "\n",
    "data_cases = data_cases.drop(columns=[\"Lat\", \"Long\"])\n",
    "data_cases = data_cases.melt(id_vars= [\"Province/State\", \"Country/Region\"])\n",
    "data_cases = pd.DataFrame(data_cases.groupby(['Country/Region', \"variable\"]).sum())\n",
    "data_cases.reset_index(inplace=True)  \n",
    "data_cases = data_cases.rename(columns={\"Country/Region\": \"location\", \"variable\": \"date\", \"value\": \"total_cases\"})\n",
    "data_cases['date'] =pd.to_datetime(data_cases.date)\n",
    "data_cases = data_cases.sort_values(by = \"date\")\n",
    "data_cases.loc[data_cases.location == \"US\",\"location\"] = \"United States\"\n",
    "data_cases.loc[data_cases.location == \"Korea, South\",\"location\"] = \"South Korea\"\n",
    "# Add countries\n",
    "countries = [\"China\", \"Italy\", \"Spain\", \"France\", \"United Kingdom\", \"Germany\", \n",
    "             \"Portugal\", \"United States\", \"Singapore\",\"South Korea\", \"Japan\", \n",
    "             \"Brazil\",\"Iran\", \"India\", \"Switzerland\", \"Canada\", \"Australia\"]\n",
    "\n",
    "data_final = pd.merge(data,\n",
    "                 data_cases\n",
    "                 )\n",
    "data_final[\"CFR\"] = data_final[\"total_deaths\"]/data_final[\"total_cases\"]\n",
    "\n",
    "\n",
    "data_final[\"total_infected\"] = np.NaN\n",
    "data_final = data_final.sort_values(by = ['location', 'date'])\n",
    "data_final = data_final.reset_index(drop = True)\n",
    "\n",
    "\n",
    "for j in countries:\n",
    "    for i in data_final[\"date\"].unique()[0:-8]:\n",
    "        data_final.loc[(data_final.date == i) & (data_final.location == j), \"total_infected\"] = data_final.loc[(data_final.date == i + np.timedelta64(8, 'D')) & (data_final.location == j), \"total_deaths\"].iloc[0]/data_final.loc[(data_final.date == i + np.timedelta64(8, 'D')) & (data_final.location == j), \"CFR\"].iloc[0]\n",
    "        \n",
    "\n",
    "# Estimate growth rate of infected, g        \n",
    "data_final['infected_g'] = np.log(data_final['total_infected'])\n",
    "data_final['infected_g'] = data_final['infected_g'].diff() \n",
    "\n",
    "# Estimate number of infected given g\n",
    "today = data_final.date.iloc[-1]\n",
    "for j in countries:\n",
    "    for i in range(7,-1,-1):\n",
    "        data_final.loc[(data_final.location == j) & (data_final.date == today - timedelta(i)), \"total_infected\"] = data_final.loc[data_final.location == j, \"total_infected\"].iloc[-i-2]*(1+data_final.loc[data_final.location == j, \"infected_g\"].aggregate(func = \"mean\"))\n",
    "        \n",
    "data_pc = data_final[['location', 'date', 'total_infected']].copy()\n",
    "\n",
    "countries = [\"China\", \"Italy\", \"Spain\", \"France\", \"United Kingdom\", \"Germany\", \n",
    "             \"Portugal\", \"United States\", \"Singapore\",\"South Korea\", \"Japan\", \n",
    "             \"Brazil\",\"Iran\"]\n",
    "data_countries = []\n",
    "data_countries_pc = []\n",
    "\n",
    "for i in countries:\n",
    "    data_pc.loc[data_pc.location == i,\"total_infected\"] = data_pc.loc[data_pc.location == i,\"total_infected\"]\n",
    "\n",
    "# Get each country time series\n",
    "filter1 = data_pc[\"total_infected\"] > 1\n",
    "for i in countries:\n",
    "    filter_country = data_pc[\"location\"]== i\n",
    "    data_countries_pc.append(data_pc[filter_country & filter1])      "
   ]
  },
  {
   "cell_type": "markdown",
   "metadata": {
    "papermill": {
     "duration": 0.012443,
     "end_time": "2020-03-24T18:30:34.047876",
     "exception": false,
     "start_time": "2020-03-24T18:30:34.035433",
     "status": "completed"
    },
    "tags": []
   },
   "source": [
    "## Estimated Infected Population By Country\n",
    "\n",
    "by days since outbreak\n",
    "\n",
    "> Tip: Click (Shift+ for multiple) on countries in the legend to filter the visualization. "
   ]
  },
  {
   "cell_type": "code",
   "execution_count": 4,
   "metadata": {
    "papermill": {
     "duration": 1.934428,
     "end_time": "2020-03-24T18:30:35.994528",
     "exception": false,
     "start_time": "2020-03-24T18:30:34.060100",
     "status": "completed"
    },
    "tags": []
   },
   "outputs": [
    {
     "data": {
      "text/html": [
       "\n",
       "<div id=\"altair-viz-da1d7f76d03d4bd8a20c7b86292daf47\"></div>\n",
       "<script type=\"text/javascript\">\n",
       "  (function(spec, embedOpt){\n",
       "    const outputDiv = document.getElementById(\"altair-viz-da1d7f76d03d4bd8a20c7b86292daf47\");\n",
       "    const paths = {\n",
       "      \"vega\": \"https://cdn.jsdelivr.net/npm//vega@5?noext\",\n",
       "      \"vega-lib\": \"https://cdn.jsdelivr.net/npm//vega-lib?noext\",\n",
       "      \"vega-lite\": \"https://cdn.jsdelivr.net/npm//vega-lite@4.0.2?noext\",\n",
       "      \"vega-embed\": \"https://cdn.jsdelivr.net/npm//vega-embed@6?noext\",\n",
       "    };\n",
       "\n",
       "    function loadScript(lib) {\n",
       "      return new Promise(function(resolve, reject) {\n",
       "        var s = document.createElement('script');\n",
       "        s.src = paths[lib];\n",
       "        s.async = true;\n",
       "        s.onload = () => resolve(paths[lib]);\n",
       "        s.onerror = () => reject(`Error loading script: ${paths[lib]}`);\n",
       "        document.getElementsByTagName(\"head\")[0].appendChild(s);\n",
       "      });\n",
       "    }\n",
       "\n",
       "    function showError(err) {\n",
       "      outputDiv.innerHTML = `<div class=\"error\" style=\"color:red;\">${err}</div>`;\n",
       "      throw err;\n",
       "    }\n",
       "\n",
       "    function displayChart(vegaEmbed) {\n",
       "      vegaEmbed(outputDiv, spec, embedOpt)\n",
       "        .catch(err => showError(`Javascript Error: ${err.message}<br>This usually means there's a typo in your chart specification. See the javascript console for the full traceback.`));\n",
       "    }\n",
       "\n",
       "    if(typeof define === \"function\" && define.amd) {\n",
       "      requirejs.config({paths});\n",
       "      require([\"vega-embed\"], displayChart, err => showError(`Error loading script: ${err.message}`));\n",
       "    } else if (typeof vegaEmbed === \"function\") {\n",
       "      displayChart(vegaEmbed);\n",
       "    } else {\n",
       "      loadScript(\"vega\")\n",
       "        .then(() => loadScript(\"vega-lite\"))\n",
       "        .then(() => loadScript(\"vega-embed\"))\n",
       "        .catch(showError)\n",
       "        .then(() => displayChart(vegaEmbed));\n",
       "    }\n",
       "  })({\"config\": {\"view\": {\"continuousWidth\": 400, \"continuousHeight\": 300}, \"axis\": {\"labelFontSize\": 15, \"titleFontSize\": 18}, \"title\": {\"fontSize\": 20}}, \"data\": {\"name\": \"data-deb1e263919b3325352c47313d46b4c0\"}, \"mark\": \"line\", \"encoding\": {\"color\": {\"type\": \"nominal\", \"field\": \"location\", \"legend\": {\"labelFontSize\": 15, \"title\": \"Country\", \"titleFontSize\": 17}, \"scale\": {\"scheme\": \"tableau20\"}}, \"opacity\": {\"condition\": {\"value\": 1, \"selection\": \"selector002\"}, \"value\": 0.1}, \"x\": {\"type\": \"quantitative\", \"field\": \"n_days\", \"title\": \"Days since outbreak\"}, \"y\": {\"type\": \"quantitative\", \"field\": \"infected\", \"title\": \"Total\"}}, \"height\": 400, \"selection\": {\"selector001\": {\"type\": \"interval\", \"bind\": \"scales\"}, \"selector002\": {\"type\": \"multi\", \"fields\": [\"location\"], \"bind\": \"legend\"}}, \"title\": \"Estimated Infected Population By Country\", \"width\": 550, \"$schema\": \"https://vega.github.io/schema/vega-lite/v4.0.2.json\", \"datasets\": {\"data-deb1e263919b3325352c47313d46b4c0\": [{\"index\": 2046, \"location\": \"China\", \"date\": \"2020-01-22T00:00:00\", \"total_infected\": 8141.0, \"n_days\": 0, \"infected\": 8141.0}, {\"index\": 2047, \"location\": \"China\", \"date\": \"2020-01-23T00:00:00\", \"total_infected\": 9802.0, \"n_days\": 1, \"infected\": 9802.0}, {\"index\": 2048, \"location\": \"China\", \"date\": \"2020-01-24T00:00:00\", \"total_infected\": 11891.0, \"n_days\": 2, \"infected\": 11891.0}, {\"index\": 2049, \"location\": \"China\", \"date\": \"2020-01-25T00:00:00\", \"total_infected\": 16630.0, \"n_days\": 3, \"infected\": 16630.0}, {\"index\": 2050, \"location\": \"China\", \"date\": \"2020-01-26T00:00:00\", \"total_infected\": 19716.0, \"n_days\": 4, \"infected\": 19716.0}, {\"index\": 2051, \"location\": \"China\", \"date\": \"2020-01-27T00:00:00\", \"total_infected\": 23707.0, \"n_days\": 5, \"infected\": 23707.0}, {\"index\": 2052, \"location\": \"China\", \"date\": \"2020-01-28T00:00:00\", \"total_infected\": 27440.0, \"n_days\": 6, \"infected\": 27440.0}, {\"index\": 2053, \"location\": \"China\", \"date\": \"2020-01-29T00:00:00\", \"total_infected\": 30587.0, \"n_days\": 7, \"infected\": 30587.0}, {\"index\": 2054, \"location\": \"China\", \"date\": \"2020-01-30T00:00:00\", \"total_infected\": 34110.0, \"n_days\": 8, \"infected\": 34110.0}, {\"index\": 2055, \"location\": \"China\", \"date\": \"2020-01-31T00:00:00\", \"total_infected\": 36814.0, \"n_days\": 9, \"infected\": 36814.0}, {\"index\": 2056, \"location\": \"China\", \"date\": \"2020-02-01T00:00:00\", \"total_infected\": 39829.0, \"n_days\": 10, \"infected\": 39829.0}, {\"index\": 2057, \"location\": \"China\", \"date\": \"2020-02-02T00:00:00\", \"total_infected\": 42354.0, \"n_days\": 11, \"infected\": 42354.0}, {\"index\": 2058, \"location\": \"China\", \"date\": \"2020-02-03T00:00:00\", \"total_infected\": 44386.0, \"n_days\": 12, \"infected\": 44386.0}, {\"index\": 2059, \"location\": \"China\", \"date\": \"2020-02-04T00:00:00\", \"total_infected\": 44759.0, \"n_days\": 13, \"infected\": 44759.0}, {\"index\": 2060, \"location\": \"China\", \"date\": \"2020-02-05T00:00:00\", \"total_infected\": 59895.0, \"n_days\": 14, \"infected\": 59895.0}, {\"index\": 2061, \"location\": \"China\", \"date\": \"2020-02-06T00:00:00\", \"total_infected\": 66358.0, \"n_days\": 15, \"infected\": 66358.0}, {\"index\": 2062, \"location\": \"China\", \"date\": \"2020-02-07T00:00:00\", \"total_infected\": 68413.0, \"n_days\": 16, \"infected\": 68413.0}, {\"index\": 2063, \"location\": \"China\", \"date\": \"2020-02-08T00:00:00\", \"total_infected\": 70513.0, \"n_days\": 17, \"infected\": 70513.0}, {\"index\": 2064, \"location\": \"China\", \"date\": \"2020-02-09T00:00:00\", \"total_infected\": 72434.0, \"n_days\": 18, \"infected\": 72434.0}, {\"index\": 2065, \"location\": \"China\", \"date\": \"2020-02-10T00:00:00\", \"total_infected\": 74211.0, \"n_days\": 19, \"infected\": 74211.0}, {\"index\": 2066, \"location\": \"China\", \"date\": \"2020-02-11T00:00:00\", \"total_infected\": 74619.0, \"n_days\": 20, \"infected\": 74619.0}, {\"index\": 2067, \"location\": \"China\", \"date\": \"2020-02-12T00:00:00\", \"total_infected\": 75077.0, \"n_days\": 21, \"infected\": 75077.0}, {\"index\": 2068, \"location\": \"China\", \"date\": \"2020-02-13T00:00:00\", \"total_infected\": 75550.0, \"n_days\": 22, \"infected\": 75550.0}, {\"index\": 2069, \"location\": \"China\", \"date\": \"2020-02-14T00:00:00\", \"total_infected\": 77001.0, \"n_days\": 23, \"infected\": 77001.0}, {\"index\": 2070, \"location\": \"China\", \"date\": \"2020-02-15T00:00:00\", \"total_infected\": 77022.0, \"n_days\": 24, \"infected\": 77022.0}, {\"index\": 2071, \"location\": \"China\", \"date\": \"2020-02-16T00:00:00\", \"total_infected\": 77241.0, \"n_days\": 25, \"infected\": 77241.0}, {\"index\": 2072, \"location\": \"China\", \"date\": \"2020-02-17T00:00:00\", \"total_infected\": 77754.0, \"n_days\": 26, \"infected\": 77754.0}, {\"index\": 2073, \"location\": \"China\", \"date\": \"2020-02-18T00:00:00\", \"total_infected\": 78166.0, \"n_days\": 27, \"infected\": 78166.0}, {\"index\": 2074, \"location\": \"China\", \"date\": \"2020-02-19T00:00:00\", \"total_infected\": 78600.0, \"n_days\": 28, \"infected\": 78600.0}, {\"index\": 2075, \"location\": \"China\", \"date\": \"2020-02-20T00:00:00\", \"total_infected\": 78928.0, \"n_days\": 29, \"infected\": 78928.0}, {\"index\": 2076, \"location\": \"China\", \"date\": \"2020-02-21T00:00:00\", \"total_infected\": 79356.0, \"n_days\": 30, \"infected\": 79356.0}, {\"index\": 2077, \"location\": \"China\", \"date\": \"2020-02-22T00:00:00\", \"total_infected\": 79932.0, \"n_days\": 31, \"infected\": 79932.0}, {\"index\": 2078, \"location\": \"China\", \"date\": \"2020-02-23T00:00:00\", \"total_infected\": 80136.0, \"n_days\": 32, \"infected\": 80136.0}, {\"index\": 2079, \"location\": \"China\", \"date\": \"2020-02-24T00:00:00\", \"total_infected\": 80261.0, \"n_days\": 33, \"infected\": 80261.0}, {\"index\": 2080, \"location\": \"China\", \"date\": \"2020-02-25T00:00:00\", \"total_infected\": 80386.0, \"n_days\": 34, \"infected\": 80386.0}, {\"index\": 2081, \"location\": \"China\", \"date\": \"2020-02-26T00:00:00\", \"total_infected\": 80537.0, \"n_days\": 35, \"infected\": 80537.0}, {\"index\": 2082, \"location\": \"China\", \"date\": \"2020-02-27T00:00:00\", \"total_infected\": 80690.0, \"n_days\": 36, \"infected\": 80690.0}, {\"index\": 2083, \"location\": \"China\", \"date\": \"2020-02-28T00:00:00\", \"total_infected\": 80770.0, \"n_days\": 37, \"infected\": 80770.0}, {\"index\": 2084, \"location\": \"China\", \"date\": \"2020-02-29T00:00:00\", \"total_infected\": 80823.0, \"n_days\": 38, \"infected\": 80823.0}, {\"index\": 2085, \"location\": \"China\", \"date\": \"2020-03-01T00:00:00\", \"total_infected\": 80860.0, \"n_days\": 39, \"infected\": 80860.0}, {\"index\": 2086, \"location\": \"China\", \"date\": \"2020-03-02T00:00:00\", \"total_infected\": 80887.0, \"n_days\": 40, \"infected\": 80887.0}, {\"index\": 2087, \"location\": \"China\", \"date\": \"2020-03-03T00:00:00\", \"total_infected\": 80921.0, \"n_days\": 41, \"infected\": 80921.0}, {\"index\": 2088, \"location\": \"China\", \"date\": \"2020-03-04T00:00:00\", \"total_infected\": 80932.0, \"n_days\": 42, \"infected\": 80932.0}, {\"index\": 2089, \"location\": \"China\", \"date\": \"2020-03-05T00:00:00\", \"total_infected\": 80945.0, \"n_days\": 43, \"infected\": 80945.0}, {\"index\": 2090, \"location\": \"China\", \"date\": \"2020-03-06T00:00:00\", \"total_infected\": 80977.0, \"n_days\": 44, \"infected\": 80977.0}, {\"index\": 2091, \"location\": \"China\", \"date\": \"2020-03-07T00:00:00\", \"total_infected\": 81003.0, \"n_days\": 45, \"infected\": 81003.0}, {\"index\": 2092, \"location\": \"China\", \"date\": \"2020-03-08T00:00:00\", \"total_infected\": 81033.0, \"n_days\": 46, \"infected\": 81033.0}, {\"index\": 2093, \"location\": \"China\", \"date\": \"2020-03-09T00:00:00\", \"total_infected\": 81058.0, \"n_days\": 47, \"infected\": 81058.0}, {\"index\": 2094, \"location\": \"China\", \"date\": \"2020-03-10T00:00:00\", \"total_infected\": 81102.0, \"n_days\": 48, \"infected\": 81102.0}, {\"index\": 2095, \"location\": \"China\", \"date\": \"2020-03-11T00:00:00\", \"total_infected\": 81156.0, \"n_days\": 49, \"infected\": 81156.0}, {\"index\": 2096, \"location\": \"China\", \"date\": \"2020-03-12T00:00:00\", \"total_infected\": 81250.0, \"n_days\": 50, \"infected\": 81250.0}, {\"index\": 2097, \"location\": \"China\", \"date\": \"2020-03-13T00:00:00\", \"total_infected\": 81305.0, \"n_days\": 51, \"infected\": 81305.0}, {\"index\": 2098, \"location\": \"China\", \"date\": \"2020-03-14T00:00:00\", \"total_infected\": 81435.0, \"n_days\": 52, \"infected\": 81435.0}, {\"index\": 2099, \"location\": \"China\", \"date\": \"2020-03-15T00:00:00\", \"total_infected\": 81498.0, \"n_days\": 53, \"infected\": 81498.0}, {\"index\": 2100, \"location\": \"China\", \"date\": \"2020-03-16T00:00:00\", \"total_infected\": 85040.34202742312, \"n_days\": 54, \"infected\": 85040.34202742312}, {\"index\": 2101, \"location\": \"China\", \"date\": \"2020-03-17T00:00:00\", \"total_infected\": 88736.65331837723, \"n_days\": 55, \"infected\": 88736.65331837723}, {\"index\": 2102, \"location\": \"China\", \"date\": \"2020-03-18T00:00:00\", \"total_infected\": 92593.62620633231, \"n_days\": 56, \"infected\": 92593.62620633231}, {\"index\": 2103, \"location\": \"China\", \"date\": \"2020-03-19T00:00:00\", \"total_infected\": 96618.2439096158, \"n_days\": 57, \"infected\": 96618.2439096158}, {\"index\": 2104, \"location\": \"China\", \"date\": \"2020-03-20T00:00:00\", \"total_infected\": 100817.7931748352, \"n_days\": 58, \"infected\": 100817.7931748352}, {\"index\": 2105, \"location\": \"China\", \"date\": \"2020-03-21T00:00:00\", \"total_infected\": 105199.8774698519, \"n_days\": 59, \"infected\": 105199.8774698519}, {\"index\": 2106, \"location\": \"China\", \"date\": \"2020-03-22T00:00:00\", \"total_infected\": 109772.43075019275, \"n_days\": 60, \"infected\": 109772.43075019275}, {\"index\": 2107, \"location\": \"China\", \"date\": \"2020-03-23T00:00:00\", \"total_infected\": 114543.73182382404, \"n_days\": 61, \"infected\": 114543.73182382404}, {\"index\": 4982, \"location\": \"Italy\", \"date\": \"2020-02-13T00:00:00\", \"total_infected\": 20.0, \"n_days\": 0, \"infected\": 20.0}, {\"index\": 4983, \"location\": \"Italy\", \"date\": \"2020-02-14T00:00:00\", \"total_infected\": 62.0, \"n_days\": 1, \"infected\": 62.0}, {\"index\": 4984, \"location\": \"Italy\", \"date\": \"2020-02-15T00:00:00\", \"total_infected\": 155.0, \"n_days\": 2, \"infected\": 155.0}, {\"index\": 4985, \"location\": \"Italy\", \"date\": \"2020-02-16T00:00:00\", \"total_infected\": 229.0, \"n_days\": 3, \"infected\": 229.0}, {\"index\": 4986, \"location\": \"Italy\", \"date\": \"2020-02-17T00:00:00\", \"total_infected\": 322.0, \"n_days\": 4, \"infected\": 322.0}, {\"index\": 4987, \"location\": \"Italy\", \"date\": \"2020-02-18T00:00:00\", \"total_infected\": 453.0, \"n_days\": 5, \"infected\": 453.0}, {\"index\": 4988, \"location\": \"Italy\", \"date\": \"2020-02-19T00:00:00\", \"total_infected\": 655.0, \"n_days\": 6, \"infected\": 655.0}, {\"index\": 4989, \"location\": \"Italy\", \"date\": \"2020-02-20T00:00:00\", \"total_infected\": 888.0, \"n_days\": 7, \"infected\": 888.0}, {\"index\": 4990, \"location\": \"Italy\", \"date\": \"2020-02-21T00:00:00\", \"total_infected\": 1128.0, \"n_days\": 8, \"infected\": 1128.0}, {\"index\": 4991, \"location\": \"Italy\", \"date\": \"2020-02-22T00:00:00\", \"total_infected\": 1694.0, \"n_days\": 9, \"infected\": 1694.0}, {\"index\": 4992, \"location\": \"Italy\", \"date\": \"2020-02-23T00:00:00\", \"total_infected\": 2036.0, \"n_days\": 10, \"infected\": 2036.0}, {\"index\": 4993, \"location\": \"Italy\", \"date\": \"2020-02-24T00:00:00\", \"total_infected\": 2502.0, \"n_days\": 11, \"infected\": 2502.0}, {\"index\": 4994, \"location\": \"Italy\", \"date\": \"2020-02-25T00:00:00\", \"total_infected\": 3089.0, \"n_days\": 12, \"infected\": 3089.0}, {\"index\": 4995, \"location\": \"Italy\", \"date\": \"2020-02-26T00:00:00\", \"total_infected\": 3858.0, \"n_days\": 13, \"infected\": 3858.0}, {\"index\": 4996, \"location\": \"Italy\", \"date\": \"2020-02-27T00:00:00\", \"total_infected\": 4636.0, \"n_days\": 14, \"infected\": 4636.0}, {\"index\": 4997, \"location\": \"Italy\", \"date\": \"2020-02-28T00:00:00\", \"total_infected\": 5883.0, \"n_days\": 15, \"infected\": 5883.0}, {\"index\": 4998, \"location\": \"Italy\", \"date\": \"2020-02-29T00:00:00\", \"total_infected\": 7375.0, \"n_days\": 16, \"infected\": 7375.0}, {\"index\": 4999, \"location\": \"Italy\", \"date\": \"2020-03-01T00:00:00\", \"total_infected\": 9172.0, \"n_days\": 17, \"infected\": 9172.0}, {\"index\": 5000, \"location\": \"Italy\", \"date\": \"2020-03-02T00:00:00\", \"total_infected\": 10149.0, \"n_days\": 18, \"infected\": 10149.0}, {\"index\": 5001, \"location\": \"Italy\", \"date\": \"2020-03-03T00:00:00\", \"total_infected\": 12461.999999999998, \"n_days\": 19, \"infected\": 12461.999999999998}, {\"index\": 5002, \"location\": \"Italy\", \"date\": \"2020-03-04T00:00:00\", \"total_infected\": 12461.999999999998, \"n_days\": 20, \"infected\": 12461.999999999998}, {\"index\": 5003, \"location\": \"Italy\", \"date\": \"2020-03-05T00:00:00\", \"total_infected\": 17660.0, \"n_days\": 21, \"infected\": 17660.0}, {\"index\": 5004, \"location\": \"Italy\", \"date\": \"2020-03-06T00:00:00\", \"total_infected\": 21157.0, \"n_days\": 22, \"infected\": 21157.0}, {\"index\": 5005, \"location\": \"Italy\", \"date\": \"2020-03-07T00:00:00\", \"total_infected\": 24747.0, \"n_days\": 23, \"infected\": 24747.0}, {\"index\": 5006, \"location\": \"Italy\", \"date\": \"2020-03-08T00:00:00\", \"total_infected\": 27980.0, \"n_days\": 24, \"infected\": 27980.0}, {\"index\": 5007, \"location\": \"Italy\", \"date\": \"2020-03-09T00:00:00\", \"total_infected\": 31505.999999999996, \"n_days\": 25, \"infected\": 31505.999999999996}, {\"index\": 5008, \"location\": \"Italy\", \"date\": \"2020-03-10T00:00:00\", \"total_infected\": 35713.0, \"n_days\": 26, \"infected\": 35713.0}, {\"index\": 5009, \"location\": \"Italy\", \"date\": \"2020-03-11T00:00:00\", \"total_infected\": 41035.0, \"n_days\": 27, \"infected\": 41035.0}, {\"index\": 5010, \"location\": \"Italy\", \"date\": \"2020-03-12T00:00:00\", \"total_infected\": 47021.0, \"n_days\": 28, \"infected\": 47021.0}, {\"index\": 5011, \"location\": \"Italy\", \"date\": \"2020-03-13T00:00:00\", \"total_infected\": 53578.0, \"n_days\": 29, \"infected\": 53578.0}, {\"index\": 5012, \"location\": \"Italy\", \"date\": \"2020-03-14T00:00:00\", \"total_infected\": 59138.0, \"n_days\": 30, \"infected\": 59138.0}, {\"index\": 5013, \"location\": \"Italy\", \"date\": \"2020-03-15T00:00:00\", \"total_infected\": 63927.0, \"n_days\": 31, \"infected\": 63927.0}, {\"index\": 5014, \"location\": \"Italy\", \"date\": \"2020-03-16T00:00:00\", \"total_infected\": 80568.15661892224, \"n_days\": 32, \"infected\": 80568.15661892224}, {\"index\": 5015, \"location\": \"Italy\", \"date\": \"2020-03-17T00:00:00\", \"total_infected\": 101541.25582259739, \"n_days\": 33, \"infected\": 101541.25582259739}, {\"index\": 5016, \"location\": \"Italy\", \"date\": \"2020-03-18T00:00:00\", \"total_infected\": 127973.96721881328, \"n_days\": 34, \"infected\": 127973.96721881328}, {\"index\": 5017, \"location\": \"Italy\", \"date\": \"2020-03-19T00:00:00\", \"total_infected\": 161287.50972249862, \"n_days\": 35, \"infected\": 161287.50972249862}, {\"index\": 5018, \"location\": \"Italy\", \"date\": \"2020-03-20T00:00:00\", \"total_infected\": 203273.06684183856, \"n_days\": 36, \"infected\": 203273.06684183856}, {\"index\": 5019, \"location\": \"Italy\", \"date\": \"2020-03-21T00:00:00\", \"total_infected\": 256188.09400913384, \"n_days\": 37, \"infected\": 256188.09400913384}, {\"index\": 5020, \"location\": \"Italy\", \"date\": \"2020-03-22T00:00:00\", \"total_infected\": 322877.696153911, \"n_days\": 38, \"infected\": 322877.696153911}, {\"index\": 5021, \"location\": \"Italy\", \"date\": \"2020-03-23T00:00:00\", \"total_infected\": 406927.6016782438, \"n_days\": 39, \"infected\": 406927.6016782438}, {\"index\": 8837, \"location\": \"Spain\", \"date\": \"2020-02-24T00:00:00\", \"total_infected\": 165.0, \"n_days\": 0, \"infected\": 165.0}, {\"index\": 8838, \"location\": \"Spain\", \"date\": \"2020-02-25T00:00:00\", \"total_infected\": 222.0, \"n_days\": 1, \"infected\": 222.0}, {\"index\": 8839, \"location\": \"Spain\", \"date\": \"2020-02-26T00:00:00\", \"total_infected\": 259.0, \"n_days\": 2, \"infected\": 259.0}, {\"index\": 8840, \"location\": \"Spain\", \"date\": \"2020-02-27T00:00:00\", \"total_infected\": 400.0, \"n_days\": 3, \"infected\": 400.0}, {\"index\": 8841, \"location\": \"Spain\", \"date\": \"2020-02-28T00:00:00\", \"total_infected\": 500.0, \"n_days\": 4, \"infected\": 500.0}, {\"index\": 8842, \"location\": \"Spain\", \"date\": \"2020-02-29T00:00:00\", \"total_infected\": 673.0, \"n_days\": 5, \"infected\": 673.0}, {\"index\": 8843, \"location\": \"Spain\", \"date\": \"2020-03-01T00:00:00\", \"total_infected\": 1073.0, \"n_days\": 6, \"infected\": 1073.0}, {\"index\": 8844, \"location\": \"Spain\", \"date\": \"2020-03-02T00:00:00\", \"total_infected\": 1695.0, \"n_days\": 7, \"infected\": 1695.0}, {\"index\": 8845, \"location\": \"Spain\", \"date\": \"2020-03-03T00:00:00\", \"total_infected\": 2277.0, \"n_days\": 8, \"infected\": 2277.0}, {\"index\": 8846, \"location\": \"Spain\", \"date\": \"2020-03-04T00:00:00\", \"total_infected\": 2277.0, \"n_days\": 9, \"infected\": 2277.0}, {\"index\": 8847, \"location\": \"Spain\", \"date\": \"2020-03-05T00:00:00\", \"total_infected\": 5232.0, \"n_days\": 10, \"infected\": 5232.0}, {\"index\": 8848, \"location\": \"Spain\", \"date\": \"2020-03-06T00:00:00\", \"total_infected\": 6391.0, \"n_days\": 11, \"infected\": 6391.0}, {\"index\": 8849, \"location\": \"Spain\", \"date\": \"2020-03-07T00:00:00\", \"total_infected\": 7798.0, \"n_days\": 12, \"infected\": 7798.0}, {\"index\": 8850, \"location\": \"Spain\", \"date\": \"2020-03-08T00:00:00\", \"total_infected\": 9942.0, \"n_days\": 13, \"infected\": 9942.0}, {\"index\": 8851, \"location\": \"Spain\", \"date\": \"2020-03-09T00:00:00\", \"total_infected\": 11748.0, \"n_days\": 14, \"infected\": 11748.0}, {\"index\": 8852, \"location\": \"Spain\", \"date\": \"2020-03-10T00:00:00\", \"total_infected\": 13909.999999999998, \"n_days\": 15, \"infected\": 13909.999999999998}, {\"index\": 8853, \"location\": \"Spain\", \"date\": \"2020-03-11T00:00:00\", \"total_infected\": 17963.0, \"n_days\": 16, \"infected\": 17963.0}, {\"index\": 8854, \"location\": \"Spain\", \"date\": \"2020-03-12T00:00:00\", \"total_infected\": 20410.0, \"n_days\": 17, \"infected\": 20410.0}, {\"index\": 8855, \"location\": \"Spain\", \"date\": \"2020-03-13T00:00:00\", \"total_infected\": 25374.0, \"n_days\": 18, \"infected\": 25374.0}, {\"index\": 8856, \"location\": \"Spain\", \"date\": \"2020-03-14T00:00:00\", \"total_infected\": 28768.0, \"n_days\": 19, \"infected\": 28768.0}, {\"index\": 8857, \"location\": \"Spain\", \"date\": \"2020-03-15T00:00:00\", \"total_infected\": 35136.0, \"n_days\": 20, \"infected\": 35136.0}, {\"index\": 8858, \"location\": \"Spain\", \"date\": \"2020-03-16T00:00:00\", \"total_infected\": 44554.26813434168, \"n_days\": 21, \"infected\": 44554.26813434168}, {\"index\": 8859, \"location\": \"Spain\", \"date\": \"2020-03-17T00:00:00\", \"total_infected\": 56497.12001897809, \"n_days\": 22, \"infected\": 56497.12001897809}, {\"index\": 8860, \"location\": \"Spain\", \"date\": \"2020-03-18T00:00:00\", \"total_infected\": 71641.27487886022, \"n_days\": 23, \"infected\": 71641.27487886022}, {\"index\": 8861, \"location\": \"Spain\", \"date\": \"2020-03-19T00:00:00\", \"total_infected\": 90844.84774700634, \"n_days\": 24, \"infected\": 90844.84774700634}, {\"index\": 8862, \"location\": \"Spain\", \"date\": \"2020-03-20T00:00:00\", \"total_infected\": 115195.97293782917, \"n_days\": 25, \"infected\": 115195.97293782917}, {\"index\": 8863, \"location\": \"Spain\", \"date\": \"2020-03-21T00:00:00\", \"total_infected\": 146074.46113013456, \"n_days\": 26, \"infected\": 146074.46113013456}, {\"index\": 8864, \"location\": \"Spain\", \"date\": \"2020-03-22T00:00:00\", \"total_infected\": 185229.98374235784, \"n_days\": 27, \"infected\": 185229.98374235784}, {\"index\": 8865, \"location\": \"Spain\", \"date\": \"2020-03-23T00:00:00\", \"total_infected\": 234881.21477051344, \"n_days\": 28, \"infected\": 234881.21477051344}, {\"index\": 3612, \"location\": \"France\", \"date\": \"2020-02-07T00:00:00\", \"total_infected\": 12.0, \"n_days\": 0, \"infected\": 12.0}, {\"index\": 3613, \"location\": \"France\", \"date\": \"2020-02-08T00:00:00\", \"total_infected\": 12.0, \"n_days\": 1, \"infected\": 12.0}, {\"index\": 3614, \"location\": \"France\", \"date\": \"2020-02-09T00:00:00\", \"total_infected\": 12.0, \"n_days\": 2, \"infected\": 12.0}, {\"index\": 3615, \"location\": \"France\", \"date\": \"2020-02-10T00:00:00\", \"total_infected\": 12.0, \"n_days\": 3, \"infected\": 12.0}, {\"index\": 3616, \"location\": \"France\", \"date\": \"2020-02-11T00:00:00\", \"total_infected\": 12.0, \"n_days\": 4, \"infected\": 12.0}, {\"index\": 3617, \"location\": \"France\", \"date\": \"2020-02-12T00:00:00\", \"total_infected\": 12.0, \"n_days\": 5, \"infected\": 12.0}, {\"index\": 3618, \"location\": \"France\", \"date\": \"2020-02-13T00:00:00\", \"total_infected\": 12.0, \"n_days\": 6, \"infected\": 12.0}, {\"index\": 3619, \"location\": \"France\", \"date\": \"2020-02-14T00:00:00\", \"total_infected\": 12.0, \"n_days\": 7, \"infected\": 12.0}, {\"index\": 3620, \"location\": \"France\", \"date\": \"2020-02-15T00:00:00\", \"total_infected\": 12.0, \"n_days\": 8, \"infected\": 12.0}, {\"index\": 3621, \"location\": \"France\", \"date\": \"2020-02-16T00:00:00\", \"total_infected\": 12.0, \"n_days\": 9, \"infected\": 12.0}, {\"index\": 3622, \"location\": \"France\", \"date\": \"2020-02-17T00:00:00\", \"total_infected\": 14.0, \"n_days\": 10, \"infected\": 14.0}, {\"index\": 3623, \"location\": \"France\", \"date\": \"2020-02-18T00:00:00\", \"total_infected\": 18.0, \"n_days\": 11, \"infected\": 18.0}, {\"index\": 3624, \"location\": \"France\", \"date\": \"2020-02-19T00:00:00\", \"total_infected\": 38.0, \"n_days\": 12, \"infected\": 38.0}, {\"index\": 3625, \"location\": \"France\", \"date\": \"2020-02-20T00:00:00\", \"total_infected\": 57.0, \"n_days\": 13, \"infected\": 57.0}, {\"index\": 3626, \"location\": \"France\", \"date\": \"2020-02-21T00:00:00\", \"total_infected\": 100.0, \"n_days\": 14, \"infected\": 100.0}, {\"index\": 3627, \"location\": \"France\", \"date\": \"2020-02-22T00:00:00\", \"total_infected\": 130.0, \"n_days\": 15, \"infected\": 130.0}, {\"index\": 3628, \"location\": \"France\", \"date\": \"2020-02-23T00:00:00\", \"total_infected\": 191.0, \"n_days\": 16, \"infected\": 191.0}, {\"index\": 3629, \"location\": \"France\", \"date\": \"2020-02-24T00:00:00\", \"total_infected\": 204.0, \"n_days\": 17, \"infected\": 204.0}, {\"index\": 3630, \"location\": \"France\", \"date\": \"2020-02-25T00:00:00\", \"total_infected\": 288.0, \"n_days\": 18, \"infected\": 288.0}, {\"index\": 3631, \"location\": \"France\", \"date\": \"2020-02-26T00:00:00\", \"total_infected\": 380.0, \"n_days\": 19, \"infected\": 380.0}, {\"index\": 3632, \"location\": \"France\", \"date\": \"2020-02-27T00:00:00\", \"total_infected\": 656.0, \"n_days\": 20, \"infected\": 656.0}, {\"index\": 3633, \"location\": \"France\", \"date\": \"2020-02-28T00:00:00\", \"total_infected\": 959.0, \"n_days\": 21, \"infected\": 959.0}, {\"index\": 3634, \"location\": \"France\", \"date\": \"2020-02-29T00:00:00\", \"total_infected\": 1136.0, \"n_days\": 22, \"infected\": 1136.0}, {\"index\": 3635, \"location\": \"France\", \"date\": \"2020-03-01T00:00:00\", \"total_infected\": 1219.0, \"n_days\": 23, \"infected\": 1219.0}, {\"index\": 3636, \"location\": \"France\", \"date\": \"2020-03-02T00:00:00\", \"total_infected\": 1793.9999999999998, \"n_days\": 24, \"infected\": 1793.9999999999998}, {\"index\": 3637, \"location\": \"France\", \"date\": \"2020-03-03T00:00:00\", \"total_infected\": 2293.0, \"n_days\": 25, \"infected\": 2293.0}, {\"index\": 3638, \"location\": \"France\", \"date\": \"2020-03-04T00:00:00\", \"total_infected\": 2293.0, \"n_days\": 26, \"infected\": 2293.0}, {\"index\": 3639, \"location\": \"France\", \"date\": \"2020-03-05T00:00:00\", \"total_infected\": 3681.0, \"n_days\": 27, \"infected\": 3681.0}, {\"index\": 3640, \"location\": \"France\", \"date\": \"2020-03-06T00:00:00\", \"total_infected\": 4496.0, \"n_days\": 28, \"infected\": 4496.0}, {\"index\": 3641, \"location\": \"France\", \"date\": \"2020-03-07T00:00:00\", \"total_infected\": 4532.0, \"n_days\": 29, \"infected\": 4532.0}, {\"index\": 3642, \"location\": \"France\", \"date\": \"2020-03-08T00:00:00\", \"total_infected\": 6683.0, \"n_days\": 30, \"infected\": 6683.0}, {\"index\": 3643, \"location\": \"France\", \"date\": \"2020-03-09T00:00:00\", \"total_infected\": 7715.0, \"n_days\": 31, \"infected\": 7715.0}, {\"index\": 3644, \"location\": \"France\", \"date\": \"2020-03-10T00:00:00\", \"total_infected\": 9124.0, \"n_days\": 32, \"infected\": 9124.0}, {\"index\": 3645, \"location\": \"France\", \"date\": \"2020-03-11T00:00:00\", \"total_infected\": 10970.0, \"n_days\": 33, \"infected\": 10970.0}, {\"index\": 3646, \"location\": \"France\", \"date\": \"2020-03-12T00:00:00\", \"total_infected\": 12758.0, \"n_days\": 34, \"infected\": 12758.0}, {\"index\": 3647, \"location\": \"France\", \"date\": \"2020-03-13T00:00:00\", \"total_infected\": 14463.0, \"n_days\": 35, \"infected\": 14463.0}, {\"index\": 3648, \"location\": \"France\", \"date\": \"2020-03-14T00:00:00\", \"total_infected\": 16243.0, \"n_days\": 36, \"infected\": 16243.0}, {\"index\": 3649, \"location\": \"France\", \"date\": \"2020-03-15T00:00:00\", \"total_infected\": 20123.0, \"n_days\": 37, \"infected\": 20123.0}, {\"index\": 3650, \"location\": \"France\", \"date\": \"2020-03-16T00:00:00\", \"total_infected\": 24161.040025892296, \"n_days\": 38, \"infected\": 24161.040025892296}, {\"index\": 3651, \"location\": \"France\", \"date\": \"2020-03-17T00:00:00\", \"total_infected\": 29009.385038650777, \"n_days\": 39, \"infected\": 29009.385038650777}, {\"index\": 3652, \"location\": \"France\", \"date\": \"2020-03-18T00:00:00\", \"total_infected\": 34830.63723328343, \"n_days\": 40, \"infected\": 34830.63723328343}, {\"index\": 3653, \"location\": \"France\", \"date\": \"2020-03-19T00:00:00\", \"total_infected\": 41820.027844789314, \"n_days\": 41, \"infected\": 41820.027844789314}, {\"index\": 3654, \"location\": \"France\", \"date\": \"2020-03-20T00:00:00\", \"total_infected\": 50211.96474888858, \"n_days\": 42, \"infected\": 50211.96474888858}, {\"index\": 3655, \"location\": \"France\", \"date\": \"2020-03-21T00:00:00\", \"total_infected\": 60287.8939560001, \"n_days\": 43, \"infected\": 60287.8939560001}, {\"index\": 3656, \"location\": \"France\", \"date\": \"2020-03-22T00:00:00\", \"total_infected\": 72385.7386546573, \"n_days\": 44, \"infected\": 72385.7386546573}, {\"index\": 3657, \"location\": \"France\", \"date\": \"2020-03-23T00:00:00\", \"total_infected\": 86911.23236788521, \"n_days\": 45, \"infected\": 86911.23236788521}, {\"index\": 9955, \"location\": \"United Kingdom\", \"date\": \"2020-02-26T00:00:00\", \"total_infected\": 116.0, \"n_days\": 0, \"infected\": 116.0}, {\"index\": 9956, \"location\": \"United Kingdom\", \"date\": \"2020-02-27T00:00:00\", \"total_infected\": 164.0, \"n_days\": 1, \"infected\": 164.0}, {\"index\": 9957, \"location\": \"United Kingdom\", \"date\": \"2020-02-28T00:00:00\", \"total_infected\": 207.0, \"n_days\": 2, \"infected\": 207.0}, {\"index\": 9958, \"location\": \"United Kingdom\", \"date\": \"2020-02-29T00:00:00\", \"total_infected\": 274.0, \"n_days\": 3, \"infected\": 274.0}, {\"index\": 9959, \"location\": \"United Kingdom\", \"date\": \"2020-03-01T00:00:00\", \"total_infected\": 322.0, \"n_days\": 4, \"infected\": 322.0}, {\"index\": 9960, \"location\": \"United Kingdom\", \"date\": \"2020-03-02T00:00:00\", \"total_infected\": 384.0, \"n_days\": 5, \"infected\": 384.0}, {\"index\": 9961, \"location\": \"United Kingdom\", \"date\": \"2020-03-03T00:00:00\", \"total_infected\": 458.99999999999994, \"n_days\": 6, \"infected\": 458.99999999999994}, {\"index\": 9962, \"location\": \"United Kingdom\", \"date\": \"2020-03-04T00:00:00\", \"total_infected\": 458.99999999999994, \"n_days\": 7, \"infected\": 458.99999999999994}, {\"index\": 9963, \"location\": \"United Kingdom\", \"date\": \"2020-03-05T00:00:00\", \"total_infected\": 802.0, \"n_days\": 8, \"infected\": 802.0}, {\"index\": 9964, \"location\": \"United Kingdom\", \"date\": \"2020-03-06T00:00:00\", \"total_infected\": 1144.0, \"n_days\": 9, \"infected\": 1144.0}, {\"index\": 9965, \"location\": \"United Kingdom\", \"date\": \"2020-03-07T00:00:00\", \"total_infected\": 1145.0, \"n_days\": 10, \"infected\": 1145.0}, {\"index\": 9966, \"location\": \"United Kingdom\", \"date\": \"2020-03-08T00:00:00\", \"total_infected\": 1551.0, \"n_days\": 11, \"infected\": 1551.0}, {\"index\": 9967, \"location\": \"United Kingdom\", \"date\": \"2020-03-09T00:00:00\", \"total_infected\": 1960.0, \"n_days\": 12, \"infected\": 1960.0}, {\"index\": 9968, \"location\": \"United Kingdom\", \"date\": \"2020-03-10T00:00:00\", \"total_infected\": 2642.0, \"n_days\": 13, \"infected\": 2642.0}, {\"index\": 9969, \"location\": \"United Kingdom\", \"date\": \"2020-03-11T00:00:00\", \"total_infected\": 2716.0, \"n_days\": 14, \"infected\": 2716.0}, {\"index\": 9970, \"location\": \"United Kingdom\", \"date\": \"2020-03-12T00:00:00\", \"total_infected\": 4014.0, \"n_days\": 15, \"infected\": 4014.0}, {\"index\": 9971, \"location\": \"United Kingdom\", \"date\": \"2020-03-13T00:00:00\", \"total_infected\": 5067.0, \"n_days\": 16, \"infected\": 5067.0}, {\"index\": 9972, \"location\": \"United Kingdom\", \"date\": \"2020-03-14T00:00:00\", \"total_infected\": 5745.0, \"n_days\": 17, \"infected\": 5745.0}, {\"index\": 9973, \"location\": \"United Kingdom\", \"date\": \"2020-03-15T00:00:00\", \"total_infected\": 6726.0, \"n_days\": 18, \"infected\": 6726.0}, {\"index\": 9974, \"location\": \"United Kingdom\", \"date\": \"2020-03-16T00:00:00\", \"total_infected\": 8243.141110346101, \"n_days\": 19, \"infected\": 8243.141110346101}, {\"index\": 9975, \"location\": \"United Kingdom\", \"date\": \"2020-03-17T00:00:00\", \"total_infected\": 10102.494107207547, \"n_days\": 20, \"infected\": 10102.494107207547}, {\"index\": 9976, \"location\": \"United Kingdom\", \"date\": \"2020-03-18T00:00:00\", \"total_infected\": 12381.24955280282, \"n_days\": 21, \"infected\": 12381.24955280282}, {\"index\": 9977, \"location\": \"United Kingdom\", \"date\": \"2020-03-19T00:00:00\", \"total_infected\": 15174.009394315077, \"n_days\": 22, \"infected\": 15174.009394315077}, {\"index\": 9978, \"location\": \"United Kingdom\", \"date\": \"2020-03-20T00:00:00\", \"total_infected\": 18596.71433943749, \"n_days\": 23, \"infected\": 18596.71433943749}, {\"index\": 9979, \"location\": \"United Kingdom\", \"date\": \"2020-03-21T00:00:00\", \"total_infected\": 22791.457105081776, \"n_days\": 24, \"infected\": 22791.457105081776}, {\"index\": 9980, \"location\": \"United Kingdom\", \"date\": \"2020-03-22T00:00:00\", \"total_infected\": 27932.381360034098, \"n_days\": 25, \"infected\": 27932.381360034098}, {\"index\": 9981, \"location\": \"United Kingdom\", \"date\": \"2020-03-23T00:00:00\", \"total_infected\": 34232.91125464797, \"n_days\": 26, \"infected\": 34232.91125464797}, {\"index\": 3883, \"location\": \"Germany\", \"date\": \"2020-03-01T00:00:00\", \"total_infected\": 1176.0, \"n_days\": 0, \"infected\": 1176.0}, {\"index\": 3884, \"location\": \"Germany\", \"date\": \"2020-03-02T00:00:00\", \"total_infected\": 1457.0, \"n_days\": 1, \"infected\": 1457.0}, {\"index\": 3885, \"location\": \"Germany\", \"date\": \"2020-03-03T00:00:00\", \"total_infected\": 1908.0, \"n_days\": 2, \"infected\": 1908.0}, {\"index\": 3886, \"location\": \"Germany\", \"date\": \"2020-03-04T00:00:00\", \"total_infected\": 2078.0, \"n_days\": 3, \"infected\": 2078.0}, {\"index\": 3887, \"location\": \"Germany\", \"date\": \"2020-03-05T00:00:00\", \"total_infected\": 3675.0, \"n_days\": 4, \"infected\": 3675.0}, {\"index\": 3888, \"location\": \"Germany\", \"date\": \"2020-03-06T00:00:00\", \"total_infected\": 4585.0, \"n_days\": 5, \"infected\": 4585.0}, {\"index\": 3889, \"location\": \"Germany\", \"date\": \"2020-03-07T00:00:00\", \"total_infected\": 5795.0, \"n_days\": 6, \"infected\": 5795.0}, {\"index\": 3890, \"location\": \"Germany\", \"date\": \"2020-03-08T00:00:00\", \"total_infected\": 7272.0, \"n_days\": 7, \"infected\": 7272.0}, {\"index\": 3891, \"location\": \"Germany\", \"date\": \"2020-03-09T00:00:00\", \"total_infected\": 9257.0, \"n_days\": 8, \"infected\": 9257.0}, {\"index\": 3892, \"location\": \"Germany\", \"date\": \"2020-03-10T00:00:00\", \"total_infected\": 12327.0, \"n_days\": 9, \"infected\": 12327.0}, {\"index\": 3893, \"location\": \"Germany\", \"date\": \"2020-03-11T00:00:00\", \"total_infected\": 15320.0, \"n_days\": 10, \"infected\": 15320.0}, {\"index\": 3894, \"location\": \"Germany\", \"date\": \"2020-03-12T00:00:00\", \"total_infected\": 19848.0, \"n_days\": 11, \"infected\": 19848.0}, {\"index\": 3895, \"location\": \"Germany\", \"date\": \"2020-03-13T00:00:00\", \"total_infected\": 22213.0, \"n_days\": 12, \"infected\": 22213.0}, {\"index\": 3896, \"location\": \"Germany\", \"date\": \"2020-03-14T00:00:00\", \"total_infected\": 24873.0, \"n_days\": 13, \"infected\": 24873.0}, {\"index\": 3897, \"location\": \"Germany\", \"date\": \"2020-03-15T00:00:00\", \"total_infected\": 29056.0, \"n_days\": 14, \"infected\": 29056.0}, {\"index\": 3898, \"location\": \"Germany\", \"date\": \"2020-03-16T00:00:00\", \"total_infected\": 35712.11974142112, \"n_days\": 15, \"infected\": 35712.11974142112}, {\"index\": 3899, \"location\": \"Germany\", \"date\": \"2020-03-17T00:00:00\", \"total_infected\": 43893.01680980177, \"n_days\": 16, \"infected\": 43893.01680980177}, {\"index\": 3900, \"location\": \"Germany\", \"date\": \"2020-03-18T00:00:00\", \"total_infected\": 53947.98568708188, \"n_days\": 17, \"infected\": 53947.98568708188}, {\"index\": 3901, \"location\": \"Germany\", \"date\": \"2020-03-19T00:00:00\", \"total_infected\": 66306.33688964555, \"n_days\": 18, \"infected\": 66306.33688964555}, {\"index\": 3902, \"location\": \"Germany\", \"date\": \"2020-03-20T00:00:00\", \"total_infected\": 81495.72696234962, \"n_days\": 19, \"infected\": 81495.72696234962}, {\"index\": 3903, \"location\": \"Germany\", \"date\": \"2020-03-21T00:00:00\", \"total_infected\": 100164.68748945456, \"n_days\": 20, \"infected\": 100164.68748945456}, {\"index\": 3904, \"location\": \"Germany\", \"date\": \"2020-03-22T00:00:00\", \"total_infected\": 123110.3150290965, \"n_days\": 21, \"infected\": 123110.3150290965}, {\"index\": 3905, \"location\": \"Germany\", \"date\": \"2020-03-23T00:00:00\", \"total_infected\": 151312.30423056067, \"n_days\": 22, \"infected\": 151312.30423056067}, {\"index\": 7735, \"location\": \"Portugal\", \"date\": \"2020-03-09T00:00:00\", \"total_infected\": 448.0, \"n_days\": 0, \"infected\": 448.0}, {\"index\": 7736, \"location\": \"Portugal\", \"date\": \"2020-03-10T00:00:00\", \"total_infected\": 448.0, \"n_days\": 1, \"infected\": 448.0}, {\"index\": 7737, \"location\": \"Portugal\", \"date\": \"2020-03-11T00:00:00\", \"total_infected\": 785.0, \"n_days\": 2, \"infected\": 785.0}, {\"index\": 7738, \"location\": \"Portugal\", \"date\": \"2020-03-12T00:00:00\", \"total_infected\": 1020.0, \"n_days\": 3, \"infected\": 1020.0}, {\"index\": 7739, \"location\": \"Portugal\", \"date\": \"2020-03-13T00:00:00\", \"total_infected\": 1280.0, \"n_days\": 4, \"infected\": 1280.0}, {\"index\": 7740, \"location\": \"Portugal\", \"date\": \"2020-03-14T00:00:00\", \"total_infected\": 1599.9999999999998, \"n_days\": 5, \"infected\": 1599.9999999999998}, {\"index\": 7741, \"location\": \"Portugal\", \"date\": \"2020-03-15T00:00:00\", \"total_infected\": 2060.0, \"n_days\": 6, \"infected\": 2060.0}, {\"index\": 7742, \"location\": \"Portugal\", \"date\": \"2020-03-16T00:00:00\", \"total_infected\": 2583.812690083234, \"n_days\": 7, \"infected\": 2583.812690083234}, {\"index\": 7743, \"location\": \"Portugal\", \"date\": \"2020-03-17T00:00:00\", \"total_infected\": 3240.8194259393968, \"n_days\": 8, \"infected\": 3240.8194259393968}, {\"index\": 7744, \"location\": \"Portugal\", \"date\": \"2020-03-18T00:00:00\", \"total_infected\": 4064.8885237914924, \"n_days\": 9, \"infected\": 4064.8885237914924}, {\"index\": 7745, \"location\": \"Portugal\", \"date\": \"2020-03-19T00:00:00\", \"total_infected\": 5098.500267740855, \"n_days\": 10, \"infected\": 5098.500267740855}, {\"index\": 7746, \"location\": \"Portugal\", \"date\": \"2020-03-20T00:00:00\", \"total_infected\": 6394.936743777469, \"n_days\": 11, \"infected\": 6394.936743777469}, {\"index\": 7747, \"location\": \"Portugal\", \"date\": \"2020-03-21T00:00:00\", \"total_infected\": 8021.028500413485, \"n_days\": 12, \"infected\": 8021.028500413485}, {\"index\": 7748, \"location\": \"Portugal\", \"date\": \"2020-03-22T00:00:00\", \"total_infected\": 10060.599624702745, \"n_days\": 13, \"infected\": 10060.599624702745}, {\"index\": 7749, \"location\": \"Portugal\", \"date\": \"2020-03-23T00:00:00\", \"total_infected\": 12618.788825317268, \"n_days\": 14, \"infected\": 12618.788825317268}, {\"index\": 10012, \"location\": \"United States\", \"date\": \"2020-02-21T00:00:00\", \"total_infected\": 68.0, \"n_days\": 0, \"infected\": 68.0}, {\"index\": 10013, \"location\": \"United States\", \"date\": \"2020-02-22T00:00:00\", \"total_infected\": 74.0, \"n_days\": 1, \"infected\": 74.0}, {\"index\": 10014, \"location\": \"United States\", \"date\": \"2020-02-23T00:00:00\", \"total_infected\": 98.0, \"n_days\": 2, \"infected\": 98.0}, {\"index\": 10015, \"location\": \"United States\", \"date\": \"2020-02-24T00:00:00\", \"total_infected\": 118.0, \"n_days\": 3, \"infected\": 118.0}, {\"index\": 10016, \"location\": \"United States\", \"date\": \"2020-02-25T00:00:00\", \"total_infected\": 149.0, \"n_days\": 4, \"infected\": 149.0}, {\"index\": 10017, \"location\": \"United States\", \"date\": \"2020-02-26T00:00:00\", \"total_infected\": 217.0, \"n_days\": 5, \"infected\": 217.0}, {\"index\": 10018, \"location\": \"United States\", \"date\": \"2020-02-27T00:00:00\", \"total_infected\": 262.0, \"n_days\": 6, \"infected\": 262.0}, {\"index\": 10019, \"location\": \"United States\", \"date\": \"2020-02-28T00:00:00\", \"total_infected\": 402.0, \"n_days\": 7, \"infected\": 402.0}, {\"index\": 10020, \"location\": \"United States\", \"date\": \"2020-02-29T00:00:00\", \"total_infected\": 518.0, \"n_days\": 8, \"infected\": 518.0}, {\"index\": 10021, \"location\": \"United States\", \"date\": \"2020-03-01T00:00:00\", \"total_infected\": 583.0, \"n_days\": 9, \"infected\": 583.0}, {\"index\": 10022, \"location\": \"United States\", \"date\": \"2020-03-02T00:00:00\", \"total_infected\": 959.0, \"n_days\": 10, \"infected\": 959.0}, {\"index\": 10023, \"location\": \"United States\", \"date\": \"2020-03-03T00:00:00\", \"total_infected\": 1281.0, \"n_days\": 11, \"infected\": 1281.0}, {\"index\": 10024, \"location\": \"United States\", \"date\": \"2020-03-04T00:00:00\", \"total_infected\": 1663.0, \"n_days\": 12, \"infected\": 1663.0}, {\"index\": 10025, \"location\": \"United States\", \"date\": \"2020-03-05T00:00:00\", \"total_infected\": 2179.0, \"n_days\": 13, \"infected\": 2179.0}, {\"index\": 10026, \"location\": \"United States\", \"date\": \"2020-03-06T00:00:00\", \"total_infected\": 2727.0, \"n_days\": 14, \"infected\": 2727.0}, {\"index\": 10027, \"location\": \"United States\", \"date\": \"2020-03-07T00:00:00\", \"total_infected\": 3499.0, \"n_days\": 15, \"infected\": 3499.0}, {\"index\": 10028, \"location\": \"United States\", \"date\": \"2020-03-08T00:00:00\", \"total_infected\": 4632.0, \"n_days\": 16, \"infected\": 4632.0}, {\"index\": 10029, \"location\": \"United States\", \"date\": \"2020-03-09T00:00:00\", \"total_infected\": 6421.0, \"n_days\": 17, \"infected\": 6421.0}, {\"index\": 10030, \"location\": \"United States\", \"date\": \"2020-03-10T00:00:00\", \"total_infected\": 7783.0, \"n_days\": 18, \"infected\": 7783.0}, {\"index\": 10031, \"location\": \"United States\", \"date\": \"2020-03-11T00:00:00\", \"total_infected\": 13677.0, \"n_days\": 19, \"infected\": 13677.0}, {\"index\": 10032, \"location\": \"United States\", \"date\": \"2020-03-12T00:00:00\", \"total_infected\": 19100.0, \"n_days\": 20, \"infected\": 19100.0}, {\"index\": 10033, \"location\": \"United States\", \"date\": \"2020-03-13T00:00:00\", \"total_infected\": 25489.0, \"n_days\": 21, \"infected\": 25489.0}, {\"index\": 10034, \"location\": \"United States\", \"date\": \"2020-03-14T00:00:00\", \"total_infected\": 33276.0, \"n_days\": 22, \"infected\": 33276.0}, {\"index\": 10035, \"location\": \"United States\", \"date\": \"2020-03-15T00:00:00\", \"total_infected\": 43847.0, \"n_days\": 23, \"infected\": 43847.0}, {\"index\": 10036, \"location\": \"United States\", \"date\": \"2020-03-16T00:00:00\", \"total_infected\": 56179.35741597041, \"n_days\": 24, \"infected\": 56179.35741597041}, {\"index\": 10037, \"location\": \"United States\", \"date\": \"2020-03-17T00:00:00\", \"total_infected\": 71980.29967093185, \"n_days\": 25, \"infected\": 71980.29967093185}, {\"index\": 10038, \"location\": \"United States\", \"date\": \"2020-03-18T00:00:00\", \"total_infected\": 92225.39699687407, \"n_days\": 26, \"infected\": 92225.39699687407}, {\"index\": 10039, \"location\": \"United States\", \"date\": \"2020-03-19T00:00:00\", \"total_infected\": 118164.60740112556, \"n_days\": 27, \"infected\": 118164.60740112556}, {\"index\": 10040, \"location\": \"United States\", \"date\": \"2020-03-20T00:00:00\", \"total_infected\": 151399.45066037937, \"n_days\": 28, \"infected\": 151399.45066037937}, {\"index\": 10041, \"location\": \"United States\", \"date\": \"2020-03-21T00:00:00\", \"total_infected\": 193981.88818461992, \"n_days\": 29, \"infected\": 193981.88818461992}, {\"index\": 10042, \"location\": \"United States\", \"date\": \"2020-03-22T00:00:00\", \"total_infected\": 248541.013719264, \"n_days\": 30, \"infected\": 248541.013719264}, {\"index\": 10043, \"location\": \"United States\", \"date\": \"2020-03-23T00:00:00\", \"total_infected\": 318445.3769302834, \"n_days\": 31, \"infected\": 318445.3769302834}, {\"index\": 8483, \"location\": \"Singapore\", \"date\": \"2020-03-13T00:00:00\", \"total_infected\": 432.0, \"n_days\": 0, \"infected\": 432.0}, {\"index\": 8484, \"location\": \"Singapore\", \"date\": \"2020-03-14T00:00:00\", \"total_infected\": 455.0, \"n_days\": 1, \"infected\": 455.0}, {\"index\": 8485, \"location\": \"Singapore\", \"date\": \"2020-03-15T00:00:00\", \"total_infected\": 509.00000000000006, \"n_days\": 2, \"infected\": 509.00000000000006}, {\"index\": 8486, \"location\": \"Singapore\", \"date\": \"2020-03-16T00:00:00\", \"total_infected\": 550.7437080039819, \"n_days\": 3, \"infected\": 550.7437080039819}, {\"index\": 8487, \"location\": \"Singapore\", \"date\": \"2020-03-17T00:00:00\", \"total_infected\": 595.9108681846271, \"n_days\": 4, \"infected\": 595.9108681846271}, {\"index\": 8488, \"location\": \"Singapore\", \"date\": \"2020-03-18T00:00:00\", \"total_infected\": 644.7822420115394, \"n_days\": 5, \"infected\": 644.7822420115394}, {\"index\": 8489, \"location\": \"Singapore\", \"date\": \"2020-03-19T00:00:00\", \"total_infected\": 697.661616543332, \"n_days\": 6, \"infected\": 697.661616543332}, {\"index\": 8490, \"location\": \"Singapore\", \"date\": \"2020-03-20T00:00:00\", \"total_infected\": 754.877692784139, \"n_days\": 7, \"infected\": 754.877692784139}, {\"index\": 8491, \"location\": \"Singapore\", \"date\": \"2020-03-21T00:00:00\", \"total_infected\": 816.786128906537, \"n_days\": 8, \"infected\": 816.786128906537}, {\"index\": 8492, \"location\": \"Singapore\", \"date\": \"2020-03-22T00:00:00\", \"total_infected\": 883.7717510416591, \"n_days\": 9, \"infected\": 883.7717510416591}, {\"index\": 8493, \"location\": \"Singapore\", \"date\": \"2020-03-23T00:00:00\", \"total_infected\": 956.2509453788903, \"n_days\": 10, \"infected\": 956.2509453788903}, {\"index\": 8763, \"location\": \"South Korea\", \"date\": \"2020-02-12T00:00:00\", \"total_infected\": 104.0, \"n_days\": 0, \"infected\": 104.0}, {\"index\": 8764, \"location\": \"South Korea\", \"date\": \"2020-02-13T00:00:00\", \"total_infected\": 204.0, \"n_days\": 1, \"infected\": 204.0}, {\"index\": 8765, \"location\": \"South Korea\", \"date\": \"2020-02-14T00:00:00\", \"total_infected\": 433.0, \"n_days\": 2, \"infected\": 433.0}, {\"index\": 8766, \"location\": \"South Korea\", \"date\": \"2020-02-15T00:00:00\", \"total_infected\": 602.0, \"n_days\": 3, \"infected\": 602.0}, {\"index\": 8767, \"location\": \"South Korea\", \"date\": \"2020-02-16T00:00:00\", \"total_infected\": 833.0000000000001, \"n_days\": 4, \"infected\": 833.0000000000001}, {\"index\": 8768, \"location\": \"South Korea\", \"date\": \"2020-02-17T00:00:00\", \"total_infected\": 976.9999999999999, \"n_days\": 5, \"infected\": 976.9999999999999}, {\"index\": 8769, \"location\": \"South Korea\", \"date\": \"2020-02-18T00:00:00\", \"total_infected\": 1261.0, \"n_days\": 6, \"infected\": 1261.0}, {\"index\": 8770, \"location\": \"South Korea\", \"date\": \"2020-02-19T00:00:00\", \"total_infected\": 1766.0, \"n_days\": 7, \"infected\": 1766.0}, {\"index\": 8771, \"location\": \"South Korea\", \"date\": \"2020-02-20T00:00:00\", \"total_infected\": 2337.0, \"n_days\": 8, \"infected\": 2337.0}, {\"index\": 8772, \"location\": \"South Korea\", \"date\": \"2020-02-21T00:00:00\", \"total_infected\": 3150.0, \"n_days\": 9, \"infected\": 3150.0}, {\"index\": 8773, \"location\": \"South Korea\", \"date\": \"2020-02-22T00:00:00\", \"total_infected\": 3736.0000000000005, \"n_days\": 10, \"infected\": 3736.0000000000005}, {\"index\": 8774, \"location\": \"South Korea\", \"date\": \"2020-02-23T00:00:00\", \"total_infected\": 4335.0, \"n_days\": 11, \"infected\": 4335.0}, {\"index\": 8775, \"location\": \"South Korea\", \"date\": \"2020-02-24T00:00:00\", \"total_infected\": 5186.0, \"n_days\": 12, \"infected\": 5186.0}, {\"index\": 8776, \"location\": \"South Korea\", \"date\": \"2020-02-25T00:00:00\", \"total_infected\": 5621.0, \"n_days\": 13, \"infected\": 5621.0}, {\"index\": 8777, \"location\": \"South Korea\", \"date\": \"2020-02-26T00:00:00\", \"total_infected\": 6088.0, \"n_days\": 14, \"infected\": 6088.0}, {\"index\": 8778, \"location\": \"South Korea\", \"date\": \"2020-02-27T00:00:00\", \"total_infected\": 6593.0, \"n_days\": 15, \"infected\": 6593.0}, {\"index\": 8779, \"location\": \"South Korea\", \"date\": \"2020-02-28T00:00:00\", \"total_infected\": 7041.0, \"n_days\": 16, \"infected\": 7041.0}, {\"index\": 8780, \"location\": \"South Korea\", \"date\": \"2020-02-29T00:00:00\", \"total_infected\": 7314.0, \"n_days\": 17, \"infected\": 7314.0}, {\"index\": 8781, \"location\": \"South Korea\", \"date\": \"2020-03-01T00:00:00\", \"total_infected\": 7478.0, \"n_days\": 18, \"infected\": 7478.0}, {\"index\": 8782, \"location\": \"South Korea\", \"date\": \"2020-03-02T00:00:00\", \"total_infected\": 7513.0, \"n_days\": 19, \"infected\": 7513.0}, {\"index\": 8783, \"location\": \"South Korea\", \"date\": \"2020-03-03T00:00:00\", \"total_infected\": 7755.0, \"n_days\": 20, \"infected\": 7755.0}, {\"index\": 8784, \"location\": \"South Korea\", \"date\": \"2020-03-04T00:00:00\", \"total_infected\": 7869.0, \"n_days\": 21, \"infected\": 7869.0}, {\"index\": 8785, \"location\": \"South Korea\", \"date\": \"2020-03-05T00:00:00\", \"total_infected\": 7978.999999999999, \"n_days\": 22, \"infected\": 7978.999999999999}, {\"index\": 8786, \"location\": \"South Korea\", \"date\": \"2020-03-06T00:00:00\", \"total_infected\": 8085.999999999999, \"n_days\": 23, \"infected\": 8085.999999999999}, {\"index\": 8787, \"location\": \"South Korea\", \"date\": \"2020-03-07T00:00:00\", \"total_infected\": 8161.999999999999, \"n_days\": 24, \"infected\": 8161.999999999999}, {\"index\": 8788, \"location\": \"South Korea\", \"date\": \"2020-03-08T00:00:00\", \"total_infected\": 8236.0, \"n_days\": 25, \"infected\": 8236.0}, {\"index\": 8789, \"location\": \"South Korea\", \"date\": \"2020-03-09T00:00:00\", \"total_infected\": 8320.0, \"n_days\": 26, \"infected\": 8320.0}, {\"index\": 8790, \"location\": \"South Korea\", \"date\": \"2020-03-10T00:00:00\", \"total_infected\": 8413.0, \"n_days\": 27, \"infected\": 8413.0}, {\"index\": 8791, \"location\": \"South Korea\", \"date\": \"2020-03-11T00:00:00\", \"total_infected\": 8565.0, \"n_days\": 28, \"infected\": 8565.0}, {\"index\": 8792, \"location\": \"South Korea\", \"date\": \"2020-03-12T00:00:00\", \"total_infected\": 8652.0, \"n_days\": 29, \"infected\": 8652.0}, {\"index\": 8793, \"location\": \"South Korea\", \"date\": \"2020-03-13T00:00:00\", \"total_infected\": 8799.0, \"n_days\": 30, \"infected\": 8799.0}, {\"index\": 8794, \"location\": \"South Korea\", \"date\": \"2020-03-14T00:00:00\", \"total_infected\": 8961.0, \"n_days\": 31, \"infected\": 8961.0}, {\"index\": 8795, \"location\": \"South Korea\", \"date\": \"2020-03-15T00:00:00\", \"total_infected\": 8961.0, \"n_days\": 32, \"infected\": 8961.0}, {\"index\": 8796, \"location\": \"South Korea\", \"date\": \"2020-03-16T00:00:00\", \"total_infected\": 10208.88819586199, \"n_days\": 33, \"infected\": 10208.88819586199}, {\"index\": 8797, \"location\": \"South Korea\", \"date\": \"2020-03-17T00:00:00\", \"total_infected\": 11630.554424239514, \"n_days\": 34, \"infected\": 11630.554424239514}, {\"index\": 8798, \"location\": \"South Korea\", \"date\": \"2020-03-18T00:00:00\", \"total_infected\": 13250.198613207143, \"n_days\": 35, \"infected\": 13250.198613207143}, {\"index\": 8799, \"location\": \"South Korea\", \"date\": \"2020-03-19T00:00:00\", \"total_infected\": 15095.39071701789, \"n_days\": 36, \"infected\": 15095.39071701789}, {\"index\": 8800, \"location\": \"South Korea\", \"date\": \"2020-03-20T00:00:00\", \"total_infected\": 17197.540018177504, \"n_days\": 37, \"infected\": 17197.540018177504}, {\"index\": 8801, \"location\": \"South Korea\", \"date\": \"2020-03-21T00:00:00\", \"total_infected\": 19592.429783443422, \"n_days\": 38, \"infected\": 19592.429783443422}, {\"index\": 8802, \"location\": \"South Korea\", \"date\": \"2020-03-22T00:00:00\", \"total_infected\": 22320.82637478523, \"n_days\": 39, \"infected\": 22320.82637478523}, {\"index\": 8803, \"location\": \"South Korea\", \"date\": \"2020-03-23T00:00:00\", \"total_infected\": 25429.17318373283, \"n_days\": 40, \"infected\": 25429.17318373283}, {\"index\": 5098, \"location\": \"Japan\", \"date\": \"2020-02-05T00:00:00\", \"total_infected\": 28.0, \"n_days\": 0, \"infected\": 28.0}, {\"index\": 5099, \"location\": \"Japan\", \"date\": \"2020-02-06T00:00:00\", \"total_infected\": 29.0, \"n_days\": 1, \"infected\": 29.0}, {\"index\": 5100, \"location\": \"Japan\", \"date\": \"2020-02-07T00:00:00\", \"total_infected\": 43.0, \"n_days\": 2, \"infected\": 43.0}, {\"index\": 5101, \"location\": \"Japan\", \"date\": \"2020-02-08T00:00:00\", \"total_infected\": 59.0, \"n_days\": 3, \"infected\": 59.0}, {\"index\": 5102, \"location\": \"Japan\", \"date\": \"2020-02-09T00:00:00\", \"total_infected\": 66.0, \"n_days\": 4, \"infected\": 66.0}, {\"index\": 5103, \"location\": \"Japan\", \"date\": \"2020-02-10T00:00:00\", \"total_infected\": 74.0, \"n_days\": 5, \"infected\": 74.0}, {\"index\": 5104, \"location\": \"Japan\", \"date\": \"2020-02-11T00:00:00\", \"total_infected\": 84.0, \"n_days\": 6, \"infected\": 84.0}, {\"index\": 5105, \"location\": \"Japan\", \"date\": \"2020-02-12T00:00:00\", \"total_infected\": 94.0, \"n_days\": 7, \"infected\": 94.0}, {\"index\": 5106, \"location\": \"Japan\", \"date\": \"2020-02-13T00:00:00\", \"total_infected\": 104.99999999999999, \"n_days\": 8, \"infected\": 104.99999999999999}, {\"index\": 5107, \"location\": \"Japan\", \"date\": \"2020-02-14T00:00:00\", \"total_infected\": 122.0, \"n_days\": 9, \"infected\": 122.0}, {\"index\": 5108, \"location\": \"Japan\", \"date\": \"2020-02-15T00:00:00\", \"total_infected\": 147.0, \"n_days\": 10, \"infected\": 147.0}, {\"index\": 5109, \"location\": \"Japan\", \"date\": \"2020-02-16T00:00:00\", \"total_infected\": 159.0, \"n_days\": 11, \"infected\": 159.0}, {\"index\": 5110, \"location\": \"Japan\", \"date\": \"2020-02-17T00:00:00\", \"total_infected\": 170.0, \"n_days\": 12, \"infected\": 170.0}, {\"index\": 5111, \"location\": \"Japan\", \"date\": \"2020-02-18T00:00:00\", \"total_infected\": 189.0, \"n_days\": 13, \"infected\": 189.0}, {\"index\": 5112, \"location\": \"Japan\", \"date\": \"2020-02-19T00:00:00\", \"total_infected\": 214.00000000000003, \"n_days\": 14, \"infected\": 214.00000000000003}, {\"index\": 5113, \"location\": \"Japan\", \"date\": \"2020-02-20T00:00:00\", \"total_infected\": 228.0, \"n_days\": 15, \"infected\": 228.0}, {\"index\": 5114, \"location\": \"Japan\", \"date\": \"2020-02-21T00:00:00\", \"total_infected\": 241.0, \"n_days\": 16, \"infected\": 241.0}, {\"index\": 5115, \"location\": \"Japan\", \"date\": \"2020-02-22T00:00:00\", \"total_infected\": 256.0, \"n_days\": 17, \"infected\": 256.0}, {\"index\": 5116, \"location\": \"Japan\", \"date\": \"2020-02-23T00:00:00\", \"total_infected\": 274.0, \"n_days\": 18, \"infected\": 274.0}, {\"index\": 5117, \"location\": \"Japan\", \"date\": \"2020-02-24T00:00:00\", \"total_infected\": 293.0, \"n_days\": 19, \"infected\": 293.0}, {\"index\": 5118, \"location\": \"Japan\", \"date\": \"2020-02-25T00:00:00\", \"total_infected\": 330.99999999999994, \"n_days\": 20, \"infected\": 330.99999999999994}, {\"index\": 5119, \"location\": \"Japan\", \"date\": \"2020-02-26T00:00:00\", \"total_infected\": 360.0, \"n_days\": 21, \"infected\": 360.0}, {\"index\": 5120, \"location\": \"Japan\", \"date\": \"2020-02-27T00:00:00\", \"total_infected\": 420.0, \"n_days\": 22, \"infected\": 420.0}, {\"index\": 5121, \"location\": \"Japan\", \"date\": \"2020-02-28T00:00:00\", \"total_infected\": 461.0, \"n_days\": 23, \"infected\": 461.0}, {\"index\": 5122, \"location\": \"Japan\", \"date\": \"2020-02-29T00:00:00\", \"total_infected\": 502.0, \"n_days\": 24, \"infected\": 502.0}, {\"index\": 5123, \"location\": \"Japan\", \"date\": \"2020-03-01T00:00:00\", \"total_infected\": 511.0, \"n_days\": 25, \"infected\": 511.0}, {\"index\": 5124, \"location\": \"Japan\", \"date\": \"2020-03-02T00:00:00\", \"total_infected\": 581.0, \"n_days\": 26, \"infected\": 581.0}, {\"index\": 5125, \"location\": \"Japan\", \"date\": \"2020-03-03T00:00:00\", \"total_infected\": 639.0, \"n_days\": 27, \"infected\": 639.0}, {\"index\": 5126, \"location\": \"Japan\", \"date\": \"2020-03-04T00:00:00\", \"total_infected\": 639.0, \"n_days\": 28, \"infected\": 639.0}, {\"index\": 5127, \"location\": \"Japan\", \"date\": \"2020-03-05T00:00:00\", \"total_infected\": 701.0, \"n_days\": 29, \"infected\": 701.0}, {\"index\": 5128, \"location\": \"Japan\", \"date\": \"2020-03-06T00:00:00\", \"total_infected\": 773.0, \"n_days\": 30, \"infected\": 773.0}, {\"index\": 5129, \"location\": \"Japan\", \"date\": \"2020-03-07T00:00:00\", \"total_infected\": 839.0, \"n_days\": 31, \"infected\": 839.0}, {\"index\": 5130, \"location\": \"Japan\", \"date\": \"2020-03-08T00:00:00\", \"total_infected\": 838.9999999999999, \"n_days\": 32, \"infected\": 838.9999999999999}, {\"index\": 5131, \"location\": \"Japan\", \"date\": \"2020-03-09T00:00:00\", \"total_infected\": 878.0, \"n_days\": 33, \"infected\": 878.0}, {\"index\": 5132, \"location\": \"Japan\", \"date\": \"2020-03-10T00:00:00\", \"total_infected\": 889.0, \"n_days\": 34, \"infected\": 889.0}, {\"index\": 5133, \"location\": \"Japan\", \"date\": \"2020-03-11T00:00:00\", \"total_infected\": 924.0, \"n_days\": 35, \"infected\": 924.0}, {\"index\": 5134, \"location\": \"Japan\", \"date\": \"2020-03-12T00:00:00\", \"total_infected\": 963.0000000000001, \"n_days\": 36, \"infected\": 963.0000000000001}, {\"index\": 5135, \"location\": \"Japan\", \"date\": \"2020-03-13T00:00:00\", \"total_infected\": 1007.0, \"n_days\": 37, \"infected\": 1007.0}, {\"index\": 5136, \"location\": \"Japan\", \"date\": \"2020-03-14T00:00:00\", \"total_infected\": 1101.0, \"n_days\": 38, \"infected\": 1101.0}, {\"index\": 5137, \"location\": \"Japan\", \"date\": \"2020-03-15T00:00:00\", \"total_infected\": 1128.0, \"n_days\": 39, \"infected\": 1128.0}, {\"index\": 5138, \"location\": \"Japan\", \"date\": \"2020-03-16T00:00:00\", \"total_infected\": 1234.899603279072, \"n_days\": 40, \"infected\": 1234.899603279072}, {\"index\": 5139, \"location\": \"Japan\", \"date\": \"2020-03-17T00:00:00\", \"total_infected\": 1351.9299912932706, \"n_days\": 41, \"infected\": 1351.9299912932706}, {\"index\": 5140, \"location\": \"Japan\", \"date\": \"2020-03-18T00:00:00\", \"total_infected\": 1480.0512499194494, \"n_days\": 42, \"infected\": 1480.0512499194494}, {\"index\": 5141, \"location\": \"Japan\", \"date\": \"2020-03-19T00:00:00\", \"total_infected\": 1620.314451558708, \"n_days\": 43, \"infected\": 1620.314451558708}, {\"index\": 5142, \"location\": \"Japan\", \"date\": \"2020-03-20T00:00:00\", \"total_infected\": 1773.8702778521235, \"n_days\": 44, \"infected\": 1773.8702778521235}, {\"index\": 5143, \"location\": \"Japan\", \"date\": \"2020-03-21T00:00:00\", \"total_infected\": 1941.97845956394, \"n_days\": 45, \"infected\": 1941.97845956394}, {\"index\": 5144, \"location\": \"Japan\", \"date\": \"2020-03-22T00:00:00\", \"total_infected\": 2126.0181110744793, \"n_days\": 46, \"infected\": 2126.0181110744793}, {\"index\": 5145, \"location\": \"Japan\", \"date\": \"2020-03-23T00:00:00\", \"total_infected\": 2327.499044264181, \"n_days\": 47, \"infected\": 2327.499044264181}, {\"index\": 1411, \"location\": \"Brazil\", \"date\": \"2020-03-09T00:00:00\", \"total_infected\": 321.0, \"n_days\": 0, \"infected\": 321.0}, {\"index\": 1412, \"location\": \"Brazil\", \"date\": \"2020-03-10T00:00:00\", \"total_infected\": 372.0, \"n_days\": 1, \"infected\": 372.0}, {\"index\": 1413, \"location\": \"Brazil\", \"date\": \"2020-03-11T00:00:00\", \"total_infected\": 621.0, \"n_days\": 2, \"infected\": 621.0}, {\"index\": 1414, \"location\": \"Brazil\", \"date\": \"2020-03-12T00:00:00\", \"total_infected\": 793.0, \"n_days\": 3, \"infected\": 793.0}, {\"index\": 1415, \"location\": \"Brazil\", \"date\": \"2020-03-13T00:00:00\", \"total_infected\": 1021.0, \"n_days\": 4, \"infected\": 1021.0}, {\"index\": 1416, \"location\": \"Brazil\", \"date\": \"2020-03-14T00:00:00\", \"total_infected\": 1546.0, \"n_days\": 5, \"infected\": 1546.0}, {\"index\": 1417, \"location\": \"Brazil\", \"date\": \"2020-03-15T00:00:00\", \"total_infected\": 1924.0, \"n_days\": 6, \"infected\": 1924.0}, {\"index\": 1418, \"location\": \"Brazil\", \"date\": \"2020-03-16T00:00:00\", \"total_infected\": 2498.224376262667, \"n_days\": 7, \"infected\": 2498.224376262667}, {\"index\": 1419, \"location\": \"Brazil\", \"date\": \"2020-03-17T00:00:00\", \"total_infected\": 3243.8279803289984, \"n_days\": 8, \"infected\": 3243.8279803289984}, {\"index\": 1420, \"location\": \"Brazil\", \"date\": \"2020-03-18T00:00:00\", \"total_infected\": 4211.959528513929, \"n_days\": 9, \"infected\": 4211.959528513929}, {\"index\": 1421, \"location\": \"Brazil\", \"date\": \"2020-03-19T00:00:00\", \"total_infected\": 5469.033246343715, \"n_days\": 10, \"infected\": 5469.033246343715}, {\"index\": 1422, \"location\": \"Brazil\", \"date\": \"2020-03-20T00:00:00\", \"total_infected\": 7101.284911957806, \"n_days\": 11, \"infected\": 7101.284911957806}, {\"index\": 1423, \"location\": \"Brazil\", \"date\": \"2020-03-21T00:00:00\", \"total_infected\": 9220.687666236632, \"n_days\": 12, \"infected\": 9220.687666236632}, {\"index\": 1424, \"location\": \"Brazil\", \"date\": \"2020-03-22T00:00:00\", \"total_infected\": 11972.633416682369, \"n_days\": 13, \"infected\": 11972.633416682369}, {\"index\": 1425, \"location\": \"Brazil\", \"date\": \"2020-03-23T00:00:00\", \"total_infected\": 15545.906782543076, \"n_days\": 14, \"infected\": 15545.906782543076}, {\"index\": 4732, \"location\": \"Iran\", \"date\": \"2020-02-11T00:00:00\", \"total_infected\": 2.0, \"n_days\": 0, \"infected\": 2.0}, {\"index\": 4733, \"location\": \"Iran\", \"date\": \"2020-02-12T00:00:00\", \"total_infected\": 5.0, \"n_days\": 1, \"infected\": 5.0}, {\"index\": 4734, \"location\": \"Iran\", \"date\": \"2020-02-13T00:00:00\", \"total_infected\": 18.0, \"n_days\": 2, \"infected\": 18.0}, {\"index\": 4735, \"location\": \"Iran\", \"date\": \"2020-02-14T00:00:00\", \"total_infected\": 28.0, \"n_days\": 3, \"infected\": 28.0}, {\"index\": 4736, \"location\": \"Iran\", \"date\": \"2020-02-15T00:00:00\", \"total_infected\": 43.0, \"n_days\": 4, \"infected\": 43.0}, {\"index\": 4737, \"location\": \"Iran\", \"date\": \"2020-02-16T00:00:00\", \"total_infected\": 61.0, \"n_days\": 5, \"infected\": 61.0}, {\"index\": 4738, \"location\": \"Iran\", \"date\": \"2020-02-17T00:00:00\", \"total_infected\": 95.0, \"n_days\": 6, \"infected\": 95.0}, {\"index\": 4739, \"location\": \"Iran\", \"date\": \"2020-02-18T00:00:00\", \"total_infected\": 139.0, \"n_days\": 7, \"infected\": 139.0}, {\"index\": 4740, \"location\": \"Iran\", \"date\": \"2020-02-19T00:00:00\", \"total_infected\": 245.0, \"n_days\": 8, \"infected\": 245.0}, {\"index\": 4741, \"location\": \"Iran\", \"date\": \"2020-02-20T00:00:00\", \"total_infected\": 388.0, \"n_days\": 9, \"infected\": 388.0}, {\"index\": 4742, \"location\": \"Iran\", \"date\": \"2020-02-21T00:00:00\", \"total_infected\": 593.0, \"n_days\": 10, \"infected\": 593.0}, {\"index\": 4743, \"location\": \"Iran\", \"date\": \"2020-02-22T00:00:00\", \"total_infected\": 978.0, \"n_days\": 11, \"infected\": 978.0}, {\"index\": 4744, \"location\": \"Iran\", \"date\": \"2020-02-23T00:00:00\", \"total_infected\": 1501.0, \"n_days\": 12, \"infected\": 1501.0}, {\"index\": 4745, \"location\": \"Iran\", \"date\": \"2020-02-24T00:00:00\", \"total_infected\": 2336.0, \"n_days\": 13, \"infected\": 2336.0}, {\"index\": 4746, \"location\": \"Iran\", \"date\": \"2020-02-25T00:00:00\", \"total_infected\": 2922.0000000000005, \"n_days\": 14, \"infected\": 2922.0000000000005}, {\"index\": 4747, \"location\": \"Iran\", \"date\": \"2020-02-26T00:00:00\", \"total_infected\": 3513.0, \"n_days\": 15, \"infected\": 3513.0}, {\"index\": 4748, \"location\": \"Iran\", \"date\": \"2020-02-27T00:00:00\", \"total_infected\": 4747.0, \"n_days\": 16, \"infected\": 4747.0}, {\"index\": 4749, \"location\": \"Iran\", \"date\": \"2020-02-28T00:00:00\", \"total_infected\": 5823.0, \"n_days\": 17, \"infected\": 5823.0}, {\"index\": 4750, \"location\": \"Iran\", \"date\": \"2020-02-29T00:00:00\", \"total_infected\": 6566.0, \"n_days\": 18, \"infected\": 6566.0}, {\"index\": 4751, \"location\": \"Iran\", \"date\": \"2020-03-01T00:00:00\", \"total_infected\": 7161.000000000001, \"n_days\": 19, \"infected\": 7161.000000000001}, {\"index\": 4752, \"location\": \"Iran\", \"date\": \"2020-03-02T00:00:00\", \"total_infected\": 8042.000000000001, \"n_days\": 20, \"infected\": 8042.000000000001}, {\"index\": 4753, \"location\": \"Iran\", \"date\": \"2020-03-03T00:00:00\", \"total_infected\": 9000.0, \"n_days\": 21, \"infected\": 9000.0}, {\"index\": 4754, \"location\": \"Iran\", \"date\": \"2020-03-04T00:00:00\", \"total_infected\": 10075.0, \"n_days\": 22, \"infected\": 10075.0}, {\"index\": 4755, \"location\": \"Iran\", \"date\": \"2020-03-05T00:00:00\", \"total_infected\": 11364.0, \"n_days\": 23, \"infected\": 11364.0}, {\"index\": 4756, \"location\": \"Iran\", \"date\": \"2020-03-06T00:00:00\", \"total_infected\": 12729.0, \"n_days\": 24, \"infected\": 12729.0}, {\"index\": 4757, \"location\": \"Iran\", \"date\": \"2020-03-07T00:00:00\", \"total_infected\": 13938.0, \"n_days\": 25, \"infected\": 13938.0}, {\"index\": 4758, \"location\": \"Iran\", \"date\": \"2020-03-08T00:00:00\", \"total_infected\": 14991.0, \"n_days\": 26, \"infected\": 14991.0}, {\"index\": 4759, \"location\": \"Iran\", \"date\": \"2020-03-09T00:00:00\", \"total_infected\": 16169.0, \"n_days\": 27, \"infected\": 16169.0}, {\"index\": 4760, \"location\": \"Iran\", \"date\": \"2020-03-10T00:00:00\", \"total_infected\": 17361.0, \"n_days\": 28, \"infected\": 17361.0}, {\"index\": 4761, \"location\": \"Iran\", \"date\": \"2020-03-11T00:00:00\", \"total_infected\": 18407.0, \"n_days\": 29, \"infected\": 18407.0}, {\"index\": 4762, \"location\": \"Iran\", \"date\": \"2020-03-12T00:00:00\", \"total_infected\": 19644.0, \"n_days\": 30, \"infected\": 19644.0}, {\"index\": 4763, \"location\": \"Iran\", \"date\": \"2020-03-13T00:00:00\", \"total_infected\": 20610.0, \"n_days\": 31, \"infected\": 20610.0}, {\"index\": 4764, \"location\": \"Iran\", \"date\": \"2020-03-14T00:00:00\", \"total_infected\": 21638.0, \"n_days\": 32, \"infected\": 21638.0}, {\"index\": 4765, \"location\": \"Iran\", \"date\": \"2020-03-15T00:00:00\", \"total_infected\": 23049.0, \"n_days\": 33, \"infected\": 23049.0}, {\"index\": 4766, \"location\": \"Iran\", \"date\": \"2020-03-16T00:00:00\", \"total_infected\": 29581.107890973006, \"n_days\": 34, \"infected\": 29581.107890973006}, {\"index\": 4767, \"location\": \"Iran\", \"date\": \"2020-03-17T00:00:00\", \"total_infected\": 37964.42119212918, \"n_days\": 35, \"infected\": 37964.42119212918}, {\"index\": 4768, \"location\": \"Iran\", \"date\": \"2020-03-18T00:00:00\", \"total_infected\": 48723.573226721994, \"n_days\": 36, \"infected\": 48723.573226721994}, {\"index\": 4769, \"location\": \"Iran\", \"date\": \"2020-03-19T00:00:00\", \"total_infected\": 62531.878886432685, \"n_days\": 37, \"infected\": 62531.878886432685}, {\"index\": 4770, \"location\": \"Iran\", \"date\": \"2020-03-20T00:00:00\", \"total_infected\": 80253.4711252038, \"n_days\": 38, \"infected\": 80253.4711252038}, {\"index\": 4771, \"location\": \"Iran\", \"date\": \"2020-03-21T00:00:00\", \"total_infected\": 102997.37897434771, \"n_days\": 39, \"infected\": 102997.37897434771}, {\"index\": 4772, \"location\": \"Iran\", \"date\": \"2020-03-22T00:00:00\", \"total_infected\": 132186.9313170903, \"n_days\": 40, \"infected\": 132186.9313170903}, {\"index\": 4773, \"location\": \"Iran\", \"date\": \"2020-03-23T00:00:00\", \"total_infected\": 169648.8297569303, \"n_days\": 41, \"infected\": 169648.8297569303}]}}, {\"mode\": \"vega-lite\"});\n",
       "</script>"
      ],
      "text/plain": [
       "alt.Chart(...)"
      ]
     },
     "execution_count": 4,
     "metadata": {},
     "output_type": "execute_result"
    }
   ],
   "source": [
    "#hide_input\n",
    "# Plot estimated absolute number of infected\n",
    "plot1 = plot(data_countries_pc, \"line\", True)\n",
    "plot1.save(\"../images/covid-estimate-infections.png\")\n",
    "plot1"
   ]
  },
  {
   "cell_type": "markdown",
   "metadata": {
    "papermill": {
     "duration": 0.013092,
     "end_time": "2020-03-24T18:30:36.022742",
     "exception": false,
     "start_time": "2020-03-24T18:30:36.009650",
     "status": "completed"
    },
    "tags": []
   },
   "source": [
    "Lastest Country Estimates"
   ]
  },
  {
   "cell_type": "code",
   "execution_count": 5,
   "metadata": {
    "papermill": {
     "duration": 0.049515,
     "end_time": "2020-03-24T18:30:36.085504",
     "exception": false,
     "start_time": "2020-03-24T18:30:36.035989",
     "status": "completed"
    },
    "tags": []
   },
   "outputs": [
    {
     "data": {
      "text/html": [
       "<div>\n",
       "<style scoped>\n",
       "    .dataframe tbody tr th:only-of-type {\n",
       "        vertical-align: middle;\n",
       "    }\n",
       "\n",
       "    .dataframe tbody tr th {\n",
       "        vertical-align: top;\n",
       "    }\n",
       "\n",
       "    .dataframe thead th {\n",
       "        text-align: right;\n",
       "    }\n",
       "</style>\n",
       "<table border=\"1\" class=\"dataframe\">\n",
       "  <thead>\n",
       "    <tr style=\"text-align: right;\">\n",
       "      <th></th>\n",
       "      <th>Date</th>\n",
       "      <th>Estimate of Infected</th>\n",
       "    </tr>\n",
       "    <tr>\n",
       "      <th>Country</th>\n",
       "      <th></th>\n",
       "      <th></th>\n",
       "    </tr>\n",
       "  </thead>\n",
       "  <tbody>\n",
       "    <tr>\n",
       "      <th>Brazil</th>\n",
       "      <td>2020-03-23</td>\n",
       "      <td>15,546</td>\n",
       "    </tr>\n",
       "    <tr>\n",
       "      <th>China</th>\n",
       "      <td>2020-03-23</td>\n",
       "      <td>114,544</td>\n",
       "    </tr>\n",
       "    <tr>\n",
       "      <th>France</th>\n",
       "      <td>2020-03-23</td>\n",
       "      <td>86,911</td>\n",
       "    </tr>\n",
       "    <tr>\n",
       "      <th>Germany</th>\n",
       "      <td>2020-03-23</td>\n",
       "      <td>151,312</td>\n",
       "    </tr>\n",
       "    <tr>\n",
       "      <th>Iran</th>\n",
       "      <td>2020-03-23</td>\n",
       "      <td>169,649</td>\n",
       "    </tr>\n",
       "    <tr>\n",
       "      <th>Italy</th>\n",
       "      <td>2020-03-23</td>\n",
       "      <td>406,928</td>\n",
       "    </tr>\n",
       "    <tr>\n",
       "      <th>Japan</th>\n",
       "      <td>2020-03-23</td>\n",
       "      <td>2,327</td>\n",
       "    </tr>\n",
       "    <tr>\n",
       "      <th>Portugal</th>\n",
       "      <td>2020-03-23</td>\n",
       "      <td>12,619</td>\n",
       "    </tr>\n",
       "    <tr>\n",
       "      <th>Singapore</th>\n",
       "      <td>2020-03-23</td>\n",
       "      <td>956</td>\n",
       "    </tr>\n",
       "    <tr>\n",
       "      <th>South Korea</th>\n",
       "      <td>2020-03-23</td>\n",
       "      <td>25,429</td>\n",
       "    </tr>\n",
       "    <tr>\n",
       "      <th>Spain</th>\n",
       "      <td>2020-03-23</td>\n",
       "      <td>234,881</td>\n",
       "    </tr>\n",
       "    <tr>\n",
       "      <th>United Kingdom</th>\n",
       "      <td>2020-03-23</td>\n",
       "      <td>34,233</td>\n",
       "    </tr>\n",
       "    <tr>\n",
       "      <th>United States</th>\n",
       "      <td>2020-03-23</td>\n",
       "      <td>318,445</td>\n",
       "    </tr>\n",
       "  </tbody>\n",
       "</table>\n",
       "</div>"
      ],
      "text/plain": [
       "                     Date Estimate of Infected\n",
       "Country                                       \n",
       "Brazil         2020-03-23               15,546\n",
       "China          2020-03-23              114,544\n",
       "France         2020-03-23               86,911\n",
       "Germany        2020-03-23              151,312\n",
       "Iran           2020-03-23              169,649\n",
       "Italy          2020-03-23              406,928\n",
       "Japan          2020-03-23                2,327\n",
       "Portugal       2020-03-23               12,619\n",
       "Singapore      2020-03-23                  956\n",
       "South Korea    2020-03-23               25,429\n",
       "Spain          2020-03-23              234,881\n",
       "United Kingdom 2020-03-23               34,233\n",
       "United States  2020-03-23              318,445"
      ]
     },
     "execution_count": 5,
     "metadata": {},
     "output_type": "execute_result"
    }
   ],
   "source": [
    "#hide_input    \n",
    "label = 'Estimate of Infected'\n",
    "temp = pd.concat([x.copy() for x in data_countries_pc]).loc[lambda x: x.date >= '3/1/2020']\n",
    "\n",
    "metric_name = f'{label}'\n",
    "temp.columns = ['Country', 'Date', metric_name]\n",
    "temp.loc[:, \"Estimate of Infected\"] = temp.loc[:, \"Estimate of Infected\"].round(0).map('{:,.0f}'.format) \n",
    "temp.groupby('Country').last()"
   ]
  },
  {
   "cell_type": "markdown",
   "metadata": {
    "papermill": {
     "duration": 0.013229,
     "end_time": "2020-03-24T18:30:36.113474",
     "exception": false,
     "start_time": "2020-03-24T18:30:36.100245",
     "status": "completed"
    },
    "tags": []
   },
   "source": [
    "## Infected vs. number of confirmed cases\n",
    "> Allows you to compare how countries have been tracking the true number of infected people. The smaller deviation from the dashed line (45 degree line) the better job at tracking the true number of infected people."
   ]
  },
  {
   "cell_type": "markdown",
   "metadata": {
    "papermill": {
     "duration": 0.013032,
     "end_time": "2020-03-24T18:30:36.140199",
     "exception": false,
     "start_time": "2020-03-24T18:30:36.127167",
     "status": "completed"
    },
    "tags": []
   },
   "source": [
    "> Tip: Click (Shift+ for multiple) on countries in the legend to filter the visualization. "
   ]
  },
  {
   "cell_type": "code",
   "execution_count": 6,
   "metadata": {
    "papermill": {
     "duration": 0.27981,
     "end_time": "2020-03-24T18:30:36.434125",
     "exception": false,
     "start_time": "2020-03-24T18:30:36.154315",
     "status": "completed"
    },
    "tags": []
   },
   "outputs": [
    {
     "data": {
      "text/html": [
       "\n",
       "<div id=\"altair-viz-8a6633063c104af8a18794a7c8da0a89\"></div>\n",
       "<script type=\"text/javascript\">\n",
       "  (function(spec, embedOpt){\n",
       "    const outputDiv = document.getElementById(\"altair-viz-8a6633063c104af8a18794a7c8da0a89\");\n",
       "    const paths = {\n",
       "      \"vega\": \"https://cdn.jsdelivr.net/npm//vega@5?noext\",\n",
       "      \"vega-lib\": \"https://cdn.jsdelivr.net/npm//vega-lib?noext\",\n",
       "      \"vega-lite\": \"https://cdn.jsdelivr.net/npm//vega-lite@4.0.2?noext\",\n",
       "      \"vega-embed\": \"https://cdn.jsdelivr.net/npm//vega-embed@6?noext\",\n",
       "    };\n",
       "\n",
       "    function loadScript(lib) {\n",
       "      return new Promise(function(resolve, reject) {\n",
       "        var s = document.createElement('script');\n",
       "        s.src = paths[lib];\n",
       "        s.async = true;\n",
       "        s.onload = () => resolve(paths[lib]);\n",
       "        s.onerror = () => reject(`Error loading script: ${paths[lib]}`);\n",
       "        document.getElementsByTagName(\"head\")[0].appendChild(s);\n",
       "      });\n",
       "    }\n",
       "\n",
       "    function showError(err) {\n",
       "      outputDiv.innerHTML = `<div class=\"error\" style=\"color:red;\">${err}</div>`;\n",
       "      throw err;\n",
       "    }\n",
       "\n",
       "    function displayChart(vegaEmbed) {\n",
       "      vegaEmbed(outputDiv, spec, embedOpt)\n",
       "        .catch(err => showError(`Javascript Error: ${err.message}<br>This usually means there's a typo in your chart specification. See the javascript console for the full traceback.`));\n",
       "    }\n",
       "\n",
       "    if(typeof define === \"function\" && define.amd) {\n",
       "      requirejs.config({paths});\n",
       "      require([\"vega-embed\"], displayChart, err => showError(`Error loading script: ${err.message}`));\n",
       "    } else if (typeof vegaEmbed === \"function\") {\n",
       "      displayChart(vegaEmbed);\n",
       "    } else {\n",
       "      loadScript(\"vega\")\n",
       "        .then(() => loadScript(\"vega-lite\"))\n",
       "        .then(() => loadScript(\"vega-embed\"))\n",
       "        .catch(showError)\n",
       "        .then(() => displayChart(vegaEmbed));\n",
       "    }\n",
       "  })({\"config\": {\"view\": {\"continuousWidth\": 400, \"continuousHeight\": 300}, \"axis\": {\"labelFontSize\": 15, \"titleFontSize\": 18}, \"title\": {\"fontSize\": 20}}, \"layer\": [{\"mark\": \"point\", \"encoding\": {\"color\": {\"type\": \"nominal\", \"field\": \"location\", \"legend\": {\"labelFontSize\": 15, \"title\": \"Country\", \"titleFontSize\": 17}, \"scale\": {\"scheme\": \"tableau20\"}}, \"opacity\": {\"condition\": {\"value\": 1, \"selection\": \"selector004\"}, \"value\": 0.1}, \"x\": {\"type\": \"quantitative\", \"field\": \"cases\", \"title\": \"Cases\"}, \"y\": {\"type\": \"quantitative\", \"field\": \"infected\", \"title\": \"Infected\"}}, \"height\": 400, \"selection\": {\"selector003\": {\"type\": \"interval\", \"bind\": \"scales\"}, \"selector004\": {\"type\": \"multi\", \"fields\": [\"location\"], \"bind\": \"legend\"}}, \"title\": \"COVID-19 Cases VS Infected\", \"width\": 550}, {\"mark\": {\"type\": \"line\", \"color\": \"grey\", \"strokeDash\": [3, 3]}, \"encoding\": {\"x\": {\"type\": \"quantitative\", \"field\": \"cases\"}, \"y\": {\"type\": \"quantitative\", \"field\": \"45_line\", \"scale\": {\"domain\": [0, 406927.6016782438]}}}}], \"data\": {\"name\": \"data-4509d907f6a0e877ee09053b34e99a27\"}, \"$schema\": \"https://vega.github.io/schema/vega-lite/v4.0.2.json\", \"datasets\": {\"data-4509d907f6a0e877ee09053b34e99a27\": [{\"index\": 4982, \"location\": \"Italy\", \"date\": \"2020-02-13T00:00:00\", \"total_cases\": 3, \"total_infected\": 20.0, \"n_days\": 0, \"cases\": 3, \"infected\": 20.0, \"45_line\": 3}, {\"index\": 4983, \"location\": \"Italy\", \"date\": \"2020-02-14T00:00:00\", \"total_cases\": 3, \"total_infected\": 62.0, \"n_days\": 1, \"cases\": 3, \"infected\": 62.0, \"45_line\": 3}, {\"index\": 4984, \"location\": \"Italy\", \"date\": \"2020-02-15T00:00:00\", \"total_cases\": 3, \"total_infected\": 155.0, \"n_days\": 2, \"cases\": 3, \"infected\": 155.0, \"45_line\": 3}, {\"index\": 4985, \"location\": \"Italy\", \"date\": \"2020-02-16T00:00:00\", \"total_cases\": 3, \"total_infected\": 229.0, \"n_days\": 3, \"cases\": 3, \"infected\": 229.0, \"45_line\": 3}, {\"index\": 4986, \"location\": \"Italy\", \"date\": \"2020-02-17T00:00:00\", \"total_cases\": 3, \"total_infected\": 322.0, \"n_days\": 4, \"cases\": 3, \"infected\": 322.0, \"45_line\": 3}, {\"index\": 4987, \"location\": \"Italy\", \"date\": \"2020-02-18T00:00:00\", \"total_cases\": 3, \"total_infected\": 453.0, \"n_days\": 5, \"cases\": 3, \"infected\": 453.0, \"45_line\": 3}, {\"index\": 4988, \"location\": \"Italy\", \"date\": \"2020-02-19T00:00:00\", \"total_cases\": 3, \"total_infected\": 655.0, \"n_days\": 6, \"cases\": 3, \"infected\": 655.0, \"45_line\": 3}, {\"index\": 4989, \"location\": \"Italy\", \"date\": \"2020-02-20T00:00:00\", \"total_cases\": 3, \"total_infected\": 888.0, \"n_days\": 7, \"cases\": 3, \"infected\": 888.0, \"45_line\": 3}, {\"index\": 4990, \"location\": \"Italy\", \"date\": \"2020-02-21T00:00:00\", \"total_cases\": 20, \"total_infected\": 1128.0, \"n_days\": 8, \"cases\": 20, \"infected\": 1128.0, \"45_line\": 20}, {\"index\": 4991, \"location\": \"Italy\", \"date\": \"2020-02-22T00:00:00\", \"total_cases\": 62, \"total_infected\": 1694.0, \"n_days\": 9, \"cases\": 62, \"infected\": 1694.0, \"45_line\": 62}, {\"index\": 4992, \"location\": \"Italy\", \"date\": \"2020-02-23T00:00:00\", \"total_cases\": 155, \"total_infected\": 2036.0, \"n_days\": 10, \"cases\": 155, \"infected\": 2036.0, \"45_line\": 155}, {\"index\": 4993, \"location\": \"Italy\", \"date\": \"2020-02-24T00:00:00\", \"total_cases\": 229, \"total_infected\": 2502.0, \"n_days\": 11, \"cases\": 229, \"infected\": 2502.0, \"45_line\": 229}, {\"index\": 4994, \"location\": \"Italy\", \"date\": \"2020-02-25T00:00:00\", \"total_cases\": 322, \"total_infected\": 3089.0, \"n_days\": 12, \"cases\": 322, \"infected\": 3089.0, \"45_line\": 322}, {\"index\": 4995, \"location\": \"Italy\", \"date\": \"2020-02-26T00:00:00\", \"total_cases\": 453, \"total_infected\": 3858.0, \"n_days\": 13, \"cases\": 453, \"infected\": 3858.0, \"45_line\": 453}, {\"index\": 4996, \"location\": \"Italy\", \"date\": \"2020-02-27T00:00:00\", \"total_cases\": 655, \"total_infected\": 4636.0, \"n_days\": 14, \"cases\": 655, \"infected\": 4636.0, \"45_line\": 655}, {\"index\": 4997, \"location\": \"Italy\", \"date\": \"2020-02-28T00:00:00\", \"total_cases\": 888, \"total_infected\": 5883.0, \"n_days\": 15, \"cases\": 888, \"infected\": 5883.0, \"45_line\": 888}, {\"index\": 4998, \"location\": \"Italy\", \"date\": \"2020-02-29T00:00:00\", \"total_cases\": 1128, \"total_infected\": 7375.0, \"n_days\": 16, \"cases\": 1128, \"infected\": 7375.0, \"45_line\": 1128}, {\"index\": 4999, \"location\": \"Italy\", \"date\": \"2020-03-01T00:00:00\", \"total_cases\": 1694, \"total_infected\": 9172.0, \"n_days\": 17, \"cases\": 1694, \"infected\": 9172.0, \"45_line\": 1694}, {\"index\": 5000, \"location\": \"Italy\", \"date\": \"2020-03-02T00:00:00\", \"total_cases\": 2036, \"total_infected\": 10149.0, \"n_days\": 18, \"cases\": 2036, \"infected\": 10149.0, \"45_line\": 2036}, {\"index\": 5001, \"location\": \"Italy\", \"date\": \"2020-03-03T00:00:00\", \"total_cases\": 2502, \"total_infected\": 12461.999999999998, \"n_days\": 19, \"cases\": 2502, \"infected\": 12461.999999999998, \"45_line\": 2502}, {\"index\": 5002, \"location\": \"Italy\", \"date\": \"2020-03-04T00:00:00\", \"total_cases\": 3089, \"total_infected\": 12461.999999999998, \"n_days\": 20, \"cases\": 3089, \"infected\": 12461.999999999998, \"45_line\": 3089}, {\"index\": 5003, \"location\": \"Italy\", \"date\": \"2020-03-05T00:00:00\", \"total_cases\": 3858, \"total_infected\": 17660.0, \"n_days\": 21, \"cases\": 3858, \"infected\": 17660.0, \"45_line\": 3858}, {\"index\": 5004, \"location\": \"Italy\", \"date\": \"2020-03-06T00:00:00\", \"total_cases\": 4636, \"total_infected\": 21157.0, \"n_days\": 22, \"cases\": 4636, \"infected\": 21157.0, \"45_line\": 4636}, {\"index\": 5005, \"location\": \"Italy\", \"date\": \"2020-03-07T00:00:00\", \"total_cases\": 5883, \"total_infected\": 24747.0, \"n_days\": 23, \"cases\": 5883, \"infected\": 24747.0, \"45_line\": 5883}, {\"index\": 5006, \"location\": \"Italy\", \"date\": \"2020-03-08T00:00:00\", \"total_cases\": 7375, \"total_infected\": 27980.0, \"n_days\": 24, \"cases\": 7375, \"infected\": 27980.0, \"45_line\": 7375}, {\"index\": 5007, \"location\": \"Italy\", \"date\": \"2020-03-09T00:00:00\", \"total_cases\": 9172, \"total_infected\": 31505.999999999996, \"n_days\": 25, \"cases\": 9172, \"infected\": 31505.999999999996, \"45_line\": 9172}, {\"index\": 5008, \"location\": \"Italy\", \"date\": \"2020-03-10T00:00:00\", \"total_cases\": 10149, \"total_infected\": 35713.0, \"n_days\": 26, \"cases\": 10149, \"infected\": 35713.0, \"45_line\": 10149}, {\"index\": 5009, \"location\": \"Italy\", \"date\": \"2020-03-11T00:00:00\", \"total_cases\": 12462, \"total_infected\": 41035.0, \"n_days\": 27, \"cases\": 12462, \"infected\": 41035.0, \"45_line\": 12462}, {\"index\": 5010, \"location\": \"Italy\", \"date\": \"2020-03-12T00:00:00\", \"total_cases\": 12462, \"total_infected\": 47021.0, \"n_days\": 28, \"cases\": 12462, \"infected\": 47021.0, \"45_line\": 12462}, {\"index\": 5011, \"location\": \"Italy\", \"date\": \"2020-03-13T00:00:00\", \"total_cases\": 17660, \"total_infected\": 53578.0, \"n_days\": 29, \"cases\": 17660, \"infected\": 53578.0, \"45_line\": 17660}, {\"index\": 5012, \"location\": \"Italy\", \"date\": \"2020-03-14T00:00:00\", \"total_cases\": 21157, \"total_infected\": 59138.0, \"n_days\": 30, \"cases\": 21157, \"infected\": 59138.0, \"45_line\": 21157}, {\"index\": 5013, \"location\": \"Italy\", \"date\": \"2020-03-15T00:00:00\", \"total_cases\": 24747, \"total_infected\": 63927.0, \"n_days\": 31, \"cases\": 24747, \"infected\": 63927.0, \"45_line\": 24747}, {\"index\": 5014, \"location\": \"Italy\", \"date\": \"2020-03-16T00:00:00\", \"total_cases\": 27980, \"total_infected\": 80568.15661892224, \"n_days\": 32, \"cases\": 27980, \"infected\": 80568.15661892224, \"45_line\": 27980}, {\"index\": 5015, \"location\": \"Italy\", \"date\": \"2020-03-17T00:00:00\", \"total_cases\": 31506, \"total_infected\": 101541.25582259739, \"n_days\": 33, \"cases\": 31506, \"infected\": 101541.25582259739, \"45_line\": 31506}, {\"index\": 5016, \"location\": \"Italy\", \"date\": \"2020-03-18T00:00:00\", \"total_cases\": 35713, \"total_infected\": 127973.96721881328, \"n_days\": 34, \"cases\": 35713, \"infected\": 127973.96721881328, \"45_line\": 35713}, {\"index\": 5017, \"location\": \"Italy\", \"date\": \"2020-03-19T00:00:00\", \"total_cases\": 41035, \"total_infected\": 161287.50972249862, \"n_days\": 35, \"cases\": 41035, \"infected\": 161287.50972249862, \"45_line\": 41035}, {\"index\": 5018, \"location\": \"Italy\", \"date\": \"2020-03-20T00:00:00\", \"total_cases\": 47021, \"total_infected\": 203273.06684183856, \"n_days\": 36, \"cases\": 47021, \"infected\": 203273.06684183856, \"45_line\": 47021}, {\"index\": 5019, \"location\": \"Italy\", \"date\": \"2020-03-21T00:00:00\", \"total_cases\": 53578, \"total_infected\": 256188.09400913384, \"n_days\": 37, \"cases\": 53578, \"infected\": 256188.09400913384, \"45_line\": 53578}, {\"index\": 5020, \"location\": \"Italy\", \"date\": \"2020-03-22T00:00:00\", \"total_cases\": 59138, \"total_infected\": 322877.696153911, \"n_days\": 38, \"cases\": 59138, \"infected\": 322877.696153911, \"45_line\": 59138}, {\"index\": 5021, \"location\": \"Italy\", \"date\": \"2020-03-23T00:00:00\", \"total_cases\": 63927, \"total_infected\": 406927.6016782438, \"n_days\": 39, \"cases\": 63927, \"infected\": 406927.6016782438, \"45_line\": 63927}, {\"index\": 8837, \"location\": \"Spain\", \"date\": \"2020-02-24T00:00:00\", \"total_cases\": 2, \"total_infected\": 165.0, \"n_days\": 0, \"cases\": 2, \"infected\": 165.0, \"45_line\": 2}, {\"index\": 8838, \"location\": \"Spain\", \"date\": \"2020-02-25T00:00:00\", \"total_cases\": 6, \"total_infected\": 222.0, \"n_days\": 1, \"cases\": 6, \"infected\": 222.0, \"45_line\": 6}, {\"index\": 8839, \"location\": \"Spain\", \"date\": \"2020-02-26T00:00:00\", \"total_cases\": 13, \"total_infected\": 259.0, \"n_days\": 2, \"cases\": 13, \"infected\": 259.0, \"45_line\": 13}, {\"index\": 8840, \"location\": \"Spain\", \"date\": \"2020-02-27T00:00:00\", \"total_cases\": 15, \"total_infected\": 400.0, \"n_days\": 3, \"cases\": 15, \"infected\": 400.0, \"45_line\": 15}, {\"index\": 8841, \"location\": \"Spain\", \"date\": \"2020-02-28T00:00:00\", \"total_cases\": 32, \"total_infected\": 500.0, \"n_days\": 4, \"cases\": 32, \"infected\": 500.0, \"45_line\": 32}, {\"index\": 8842, \"location\": \"Spain\", \"date\": \"2020-02-29T00:00:00\", \"total_cases\": 45, \"total_infected\": 673.0, \"n_days\": 5, \"cases\": 45, \"infected\": 673.0, \"45_line\": 45}, {\"index\": 8843, \"location\": \"Spain\", \"date\": \"2020-03-01T00:00:00\", \"total_cases\": 84, \"total_infected\": 1073.0, \"n_days\": 6, \"cases\": 84, \"infected\": 1073.0, \"45_line\": 84}, {\"index\": 8844, \"location\": \"Spain\", \"date\": \"2020-03-02T00:00:00\", \"total_cases\": 120, \"total_infected\": 1695.0, \"n_days\": 7, \"cases\": 120, \"infected\": 1695.0, \"45_line\": 120}, {\"index\": 8845, \"location\": \"Spain\", \"date\": \"2020-03-03T00:00:00\", \"total_cases\": 165, \"total_infected\": 2277.0, \"n_days\": 8, \"cases\": 165, \"infected\": 2277.0, \"45_line\": 165}, {\"index\": 8846, \"location\": \"Spain\", \"date\": \"2020-03-04T00:00:00\", \"total_cases\": 222, \"total_infected\": 2277.0, \"n_days\": 9, \"cases\": 222, \"infected\": 2277.0, \"45_line\": 222}, {\"index\": 8847, \"location\": \"Spain\", \"date\": \"2020-03-05T00:00:00\", \"total_cases\": 259, \"total_infected\": 5232.0, \"n_days\": 10, \"cases\": 259, \"infected\": 5232.0, \"45_line\": 259}, {\"index\": 8848, \"location\": \"Spain\", \"date\": \"2020-03-06T00:00:00\", \"total_cases\": 400, \"total_infected\": 6391.0, \"n_days\": 11, \"cases\": 400, \"infected\": 6391.0, \"45_line\": 400}, {\"index\": 8849, \"location\": \"Spain\", \"date\": \"2020-03-07T00:00:00\", \"total_cases\": 500, \"total_infected\": 7798.0, \"n_days\": 12, \"cases\": 500, \"infected\": 7798.0, \"45_line\": 500}, {\"index\": 8850, \"location\": \"Spain\", \"date\": \"2020-03-08T00:00:00\", \"total_cases\": 673, \"total_infected\": 9942.0, \"n_days\": 13, \"cases\": 673, \"infected\": 9942.0, \"45_line\": 673}, {\"index\": 8851, \"location\": \"Spain\", \"date\": \"2020-03-09T00:00:00\", \"total_cases\": 1073, \"total_infected\": 11748.0, \"n_days\": 14, \"cases\": 1073, \"infected\": 11748.0, \"45_line\": 1073}, {\"index\": 8852, \"location\": \"Spain\", \"date\": \"2020-03-10T00:00:00\", \"total_cases\": 1695, \"total_infected\": 13909.999999999998, \"n_days\": 15, \"cases\": 1695, \"infected\": 13909.999999999998, \"45_line\": 1695}, {\"index\": 8853, \"location\": \"Spain\", \"date\": \"2020-03-11T00:00:00\", \"total_cases\": 2277, \"total_infected\": 17963.0, \"n_days\": 16, \"cases\": 2277, \"infected\": 17963.0, \"45_line\": 2277}, {\"index\": 8854, \"location\": \"Spain\", \"date\": \"2020-03-12T00:00:00\", \"total_cases\": 2277, \"total_infected\": 20410.0, \"n_days\": 17, \"cases\": 2277, \"infected\": 20410.0, \"45_line\": 2277}, {\"index\": 8855, \"location\": \"Spain\", \"date\": \"2020-03-13T00:00:00\", \"total_cases\": 5232, \"total_infected\": 25374.0, \"n_days\": 18, \"cases\": 5232, \"infected\": 25374.0, \"45_line\": 5232}, {\"index\": 8856, \"location\": \"Spain\", \"date\": \"2020-03-14T00:00:00\", \"total_cases\": 6391, \"total_infected\": 28768.0, \"n_days\": 19, \"cases\": 6391, \"infected\": 28768.0, \"45_line\": 6391}, {\"index\": 8857, \"location\": \"Spain\", \"date\": \"2020-03-15T00:00:00\", \"total_cases\": 7798, \"total_infected\": 35136.0, \"n_days\": 20, \"cases\": 7798, \"infected\": 35136.0, \"45_line\": 7798}, {\"index\": 8858, \"location\": \"Spain\", \"date\": \"2020-03-16T00:00:00\", \"total_cases\": 9942, \"total_infected\": 44554.26813434168, \"n_days\": 21, \"cases\": 9942, \"infected\": 44554.26813434168, \"45_line\": 9942}, {\"index\": 8859, \"location\": \"Spain\", \"date\": \"2020-03-17T00:00:00\", \"total_cases\": 11748, \"total_infected\": 56497.12001897809, \"n_days\": 22, \"cases\": 11748, \"infected\": 56497.12001897809, \"45_line\": 11748}, {\"index\": 8860, \"location\": \"Spain\", \"date\": \"2020-03-18T00:00:00\", \"total_cases\": 13910, \"total_infected\": 71641.27487886022, \"n_days\": 23, \"cases\": 13910, \"infected\": 71641.27487886022, \"45_line\": 13910}, {\"index\": 8861, \"location\": \"Spain\", \"date\": \"2020-03-19T00:00:00\", \"total_cases\": 17963, \"total_infected\": 90844.84774700634, \"n_days\": 24, \"cases\": 17963, \"infected\": 90844.84774700634, \"45_line\": 17963}, {\"index\": 8862, \"location\": \"Spain\", \"date\": \"2020-03-20T00:00:00\", \"total_cases\": 20410, \"total_infected\": 115195.97293782917, \"n_days\": 25, \"cases\": 20410, \"infected\": 115195.97293782917, \"45_line\": 20410}, {\"index\": 8863, \"location\": \"Spain\", \"date\": \"2020-03-21T00:00:00\", \"total_cases\": 25374, \"total_infected\": 146074.46113013456, \"n_days\": 26, \"cases\": 25374, \"infected\": 146074.46113013456, \"45_line\": 25374}, {\"index\": 8864, \"location\": \"Spain\", \"date\": \"2020-03-22T00:00:00\", \"total_cases\": 28768, \"total_infected\": 185229.98374235784, \"n_days\": 27, \"cases\": 28768, \"infected\": 185229.98374235784, \"45_line\": 28768}, {\"index\": 8865, \"location\": \"Spain\", \"date\": \"2020-03-23T00:00:00\", \"total_cases\": 35136, \"total_infected\": 234881.21477051344, \"n_days\": 28, \"cases\": 35136, \"infected\": 234881.21477051344, \"45_line\": 35136}, {\"index\": 3612, \"location\": \"France\", \"date\": \"2020-02-07T00:00:00\", \"total_cases\": 6, \"total_infected\": 12.0, \"n_days\": 0, \"cases\": 6, \"infected\": 12.0, \"45_line\": 6}, {\"index\": 3613, \"location\": \"France\", \"date\": \"2020-02-08T00:00:00\", \"total_cases\": 11, \"total_infected\": 12.0, \"n_days\": 1, \"cases\": 11, \"infected\": 12.0, \"45_line\": 11}, {\"index\": 3614, \"location\": \"France\", \"date\": \"2020-02-09T00:00:00\", \"total_cases\": 11, \"total_infected\": 12.0, \"n_days\": 2, \"cases\": 11, \"infected\": 12.0, \"45_line\": 11}, {\"index\": 3615, \"location\": \"France\", \"date\": \"2020-02-10T00:00:00\", \"total_cases\": 11, \"total_infected\": 12.0, \"n_days\": 3, \"cases\": 11, \"infected\": 12.0, \"45_line\": 11}, {\"index\": 3616, \"location\": \"France\", \"date\": \"2020-02-11T00:00:00\", \"total_cases\": 11, \"total_infected\": 12.0, \"n_days\": 4, \"cases\": 11, \"infected\": 12.0, \"45_line\": 11}, {\"index\": 3617, \"location\": \"France\", \"date\": \"2020-02-12T00:00:00\", \"total_cases\": 11, \"total_infected\": 12.0, \"n_days\": 5, \"cases\": 11, \"infected\": 12.0, \"45_line\": 11}, {\"index\": 3618, \"location\": \"France\", \"date\": \"2020-02-13T00:00:00\", \"total_cases\": 11, \"total_infected\": 12.0, \"n_days\": 6, \"cases\": 11, \"infected\": 12.0, \"45_line\": 11}, {\"index\": 3619, \"location\": \"France\", \"date\": \"2020-02-14T00:00:00\", \"total_cases\": 11, \"total_infected\": 12.0, \"n_days\": 7, \"cases\": 11, \"infected\": 12.0, \"45_line\": 11}, {\"index\": 3620, \"location\": \"France\", \"date\": \"2020-02-15T00:00:00\", \"total_cases\": 12, \"total_infected\": 12.0, \"n_days\": 8, \"cases\": 12, \"infected\": 12.0, \"45_line\": 12}, {\"index\": 3621, \"location\": \"France\", \"date\": \"2020-02-16T00:00:00\", \"total_cases\": 12, \"total_infected\": 12.0, \"n_days\": 9, \"cases\": 12, \"infected\": 12.0, \"45_line\": 12}, {\"index\": 3622, \"location\": \"France\", \"date\": \"2020-02-17T00:00:00\", \"total_cases\": 12, \"total_infected\": 14.0, \"n_days\": 10, \"cases\": 12, \"infected\": 14.0, \"45_line\": 12}, {\"index\": 3623, \"location\": \"France\", \"date\": \"2020-02-18T00:00:00\", \"total_cases\": 12, \"total_infected\": 18.0, \"n_days\": 11, \"cases\": 12, \"infected\": 18.0, \"45_line\": 12}, {\"index\": 3624, \"location\": \"France\", \"date\": \"2020-02-19T00:00:00\", \"total_cases\": 12, \"total_infected\": 38.0, \"n_days\": 12, \"cases\": 12, \"infected\": 38.0, \"45_line\": 12}, {\"index\": 3625, \"location\": \"France\", \"date\": \"2020-02-20T00:00:00\", \"total_cases\": 12, \"total_infected\": 57.0, \"n_days\": 13, \"cases\": 12, \"infected\": 57.0, \"45_line\": 12}, {\"index\": 3626, \"location\": \"France\", \"date\": \"2020-02-21T00:00:00\", \"total_cases\": 12, \"total_infected\": 100.0, \"n_days\": 14, \"cases\": 12, \"infected\": 100.0, \"45_line\": 12}, {\"index\": 3627, \"location\": \"France\", \"date\": \"2020-02-22T00:00:00\", \"total_cases\": 12, \"total_infected\": 130.0, \"n_days\": 15, \"cases\": 12, \"infected\": 130.0, \"45_line\": 12}, {\"index\": 3628, \"location\": \"France\", \"date\": \"2020-02-23T00:00:00\", \"total_cases\": 12, \"total_infected\": 191.0, \"n_days\": 16, \"cases\": 12, \"infected\": 191.0, \"45_line\": 12}, {\"index\": 3629, \"location\": \"France\", \"date\": \"2020-02-24T00:00:00\", \"total_cases\": 12, \"total_infected\": 204.0, \"n_days\": 17, \"cases\": 12, \"infected\": 204.0, \"45_line\": 12}, {\"index\": 3630, \"location\": \"France\", \"date\": \"2020-02-25T00:00:00\", \"total_cases\": 14, \"total_infected\": 288.0, \"n_days\": 18, \"cases\": 14, \"infected\": 288.0, \"45_line\": 14}, {\"index\": 3631, \"location\": \"France\", \"date\": \"2020-02-26T00:00:00\", \"total_cases\": 18, \"total_infected\": 380.0, \"n_days\": 19, \"cases\": 18, \"infected\": 380.0, \"45_line\": 18}, {\"index\": 3632, \"location\": \"France\", \"date\": \"2020-02-27T00:00:00\", \"total_cases\": 38, \"total_infected\": 656.0, \"n_days\": 20, \"cases\": 38, \"infected\": 656.0, \"45_line\": 38}, {\"index\": 3633, \"location\": \"France\", \"date\": \"2020-02-28T00:00:00\", \"total_cases\": 57, \"total_infected\": 959.0, \"n_days\": 21, \"cases\": 57, \"infected\": 959.0, \"45_line\": 57}, {\"index\": 3634, \"location\": \"France\", \"date\": \"2020-02-29T00:00:00\", \"total_cases\": 100, \"total_infected\": 1136.0, \"n_days\": 22, \"cases\": 100, \"infected\": 1136.0, \"45_line\": 100}, {\"index\": 3635, \"location\": \"France\", \"date\": \"2020-03-01T00:00:00\", \"total_cases\": 130, \"total_infected\": 1219.0, \"n_days\": 23, \"cases\": 130, \"infected\": 1219.0, \"45_line\": 130}, {\"index\": 3636, \"location\": \"France\", \"date\": \"2020-03-02T00:00:00\", \"total_cases\": 191, \"total_infected\": 1793.9999999999998, \"n_days\": 24, \"cases\": 191, \"infected\": 1793.9999999999998, \"45_line\": 191}, {\"index\": 3637, \"location\": \"France\", \"date\": \"2020-03-03T00:00:00\", \"total_cases\": 204, \"total_infected\": 2293.0, \"n_days\": 25, \"cases\": 204, \"infected\": 2293.0, \"45_line\": 204}, {\"index\": 3638, \"location\": \"France\", \"date\": \"2020-03-04T00:00:00\", \"total_cases\": 288, \"total_infected\": 2293.0, \"n_days\": 26, \"cases\": 288, \"infected\": 2293.0, \"45_line\": 288}, {\"index\": 3639, \"location\": \"France\", \"date\": \"2020-03-05T00:00:00\", \"total_cases\": 380, \"total_infected\": 3681.0, \"n_days\": 27, \"cases\": 380, \"infected\": 3681.0, \"45_line\": 380}, {\"index\": 3640, \"location\": \"France\", \"date\": \"2020-03-06T00:00:00\", \"total_cases\": 656, \"total_infected\": 4496.0, \"n_days\": 28, \"cases\": 656, \"infected\": 4496.0, \"45_line\": 656}, {\"index\": 3641, \"location\": \"France\", \"date\": \"2020-03-07T00:00:00\", \"total_cases\": 959, \"total_infected\": 4532.0, \"n_days\": 29, \"cases\": 959, \"infected\": 4532.0, \"45_line\": 959}, {\"index\": 3642, \"location\": \"France\", \"date\": \"2020-03-08T00:00:00\", \"total_cases\": 1136, \"total_infected\": 6683.0, \"n_days\": 30, \"cases\": 1136, \"infected\": 6683.0, \"45_line\": 1136}, {\"index\": 3643, \"location\": \"France\", \"date\": \"2020-03-09T00:00:00\", \"total_cases\": 1219, \"total_infected\": 7715.0, \"n_days\": 31, \"cases\": 1219, \"infected\": 7715.0, \"45_line\": 1219}, {\"index\": 3644, \"location\": \"France\", \"date\": \"2020-03-10T00:00:00\", \"total_cases\": 1794, \"total_infected\": 9124.0, \"n_days\": 32, \"cases\": 1794, \"infected\": 9124.0, \"45_line\": 1794}, {\"index\": 3645, \"location\": \"France\", \"date\": \"2020-03-11T00:00:00\", \"total_cases\": 2293, \"total_infected\": 10970.0, \"n_days\": 33, \"cases\": 2293, \"infected\": 10970.0, \"45_line\": 2293}, {\"index\": 3646, \"location\": \"France\", \"date\": \"2020-03-12T00:00:00\", \"total_cases\": 2293, \"total_infected\": 12758.0, \"n_days\": 34, \"cases\": 2293, \"infected\": 12758.0, \"45_line\": 2293}, {\"index\": 3647, \"location\": \"France\", \"date\": \"2020-03-13T00:00:00\", \"total_cases\": 3681, \"total_infected\": 14463.0, \"n_days\": 35, \"cases\": 3681, \"infected\": 14463.0, \"45_line\": 3681}, {\"index\": 3648, \"location\": \"France\", \"date\": \"2020-03-14T00:00:00\", \"total_cases\": 4496, \"total_infected\": 16243.0, \"n_days\": 36, \"cases\": 4496, \"infected\": 16243.0, \"45_line\": 4496}, {\"index\": 3649, \"location\": \"France\", \"date\": \"2020-03-15T00:00:00\", \"total_cases\": 4532, \"total_infected\": 20123.0, \"n_days\": 37, \"cases\": 4532, \"infected\": 20123.0, \"45_line\": 4532}, {\"index\": 3650, \"location\": \"France\", \"date\": \"2020-03-16T00:00:00\", \"total_cases\": 6683, \"total_infected\": 24161.040025892296, \"n_days\": 38, \"cases\": 6683, \"infected\": 24161.040025892296, \"45_line\": 6683}, {\"index\": 3651, \"location\": \"France\", \"date\": \"2020-03-17T00:00:00\", \"total_cases\": 7715, \"total_infected\": 29009.385038650777, \"n_days\": 39, \"cases\": 7715, \"infected\": 29009.385038650777, \"45_line\": 7715}, {\"index\": 3652, \"location\": \"France\", \"date\": \"2020-03-18T00:00:00\", \"total_cases\": 9124, \"total_infected\": 34830.63723328343, \"n_days\": 40, \"cases\": 9124, \"infected\": 34830.63723328343, \"45_line\": 9124}, {\"index\": 3653, \"location\": \"France\", \"date\": \"2020-03-19T00:00:00\", \"total_cases\": 10970, \"total_infected\": 41820.027844789314, \"n_days\": 41, \"cases\": 10970, \"infected\": 41820.027844789314, \"45_line\": 10970}, {\"index\": 3654, \"location\": \"France\", \"date\": \"2020-03-20T00:00:00\", \"total_cases\": 12758, \"total_infected\": 50211.96474888858, \"n_days\": 42, \"cases\": 12758, \"infected\": 50211.96474888858, \"45_line\": 12758}, {\"index\": 3655, \"location\": \"France\", \"date\": \"2020-03-21T00:00:00\", \"total_cases\": 14463, \"total_infected\": 60287.8939560001, \"n_days\": 43, \"cases\": 14463, \"infected\": 60287.8939560001, \"45_line\": 14463}, {\"index\": 3656, \"location\": \"France\", \"date\": \"2020-03-22T00:00:00\", \"total_cases\": 16243, \"total_infected\": 72385.7386546573, \"n_days\": 44, \"cases\": 16243, \"infected\": 72385.7386546573, \"45_line\": 16243}, {\"index\": 3657, \"location\": \"France\", \"date\": \"2020-03-23T00:00:00\", \"total_cases\": 20123, \"total_infected\": 86911.23236788521, \"n_days\": 45, \"cases\": 20123, \"infected\": 86911.23236788521, \"45_line\": 20123}, {\"index\": 9955, \"location\": \"United Kingdom\", \"date\": \"2020-02-26T00:00:00\", \"total_cases\": 13, \"total_infected\": 116.0, \"n_days\": 0, \"cases\": 13, \"infected\": 116.0, \"45_line\": 13}, {\"index\": 9956, \"location\": \"United Kingdom\", \"date\": \"2020-02-27T00:00:00\", \"total_cases\": 15, \"total_infected\": 164.0, \"n_days\": 1, \"cases\": 15, \"infected\": 164.0, \"45_line\": 15}, {\"index\": 9957, \"location\": \"United Kingdom\", \"date\": \"2020-02-28T00:00:00\", \"total_cases\": 20, \"total_infected\": 207.0, \"n_days\": 2, \"cases\": 20, \"infected\": 207.0, \"45_line\": 20}, {\"index\": 9958, \"location\": \"United Kingdom\", \"date\": \"2020-02-29T00:00:00\", \"total_cases\": 23, \"total_infected\": 274.0, \"n_days\": 3, \"cases\": 23, \"infected\": 274.0, \"45_line\": 23}, {\"index\": 9959, \"location\": \"United Kingdom\", \"date\": \"2020-03-01T00:00:00\", \"total_cases\": 36, \"total_infected\": 322.0, \"n_days\": 4, \"cases\": 36, \"infected\": 322.0, \"45_line\": 36}, {\"index\": 9960, \"location\": \"United Kingdom\", \"date\": \"2020-03-02T00:00:00\", \"total_cases\": 40, \"total_infected\": 384.0, \"n_days\": 5, \"cases\": 40, \"infected\": 384.0, \"45_line\": 40}, {\"index\": 9961, \"location\": \"United Kingdom\", \"date\": \"2020-03-03T00:00:00\", \"total_cases\": 51, \"total_infected\": 458.99999999999994, \"n_days\": 6, \"cases\": 51, \"infected\": 458.99999999999994, \"45_line\": 51}, {\"index\": 9962, \"location\": \"United Kingdom\", \"date\": \"2020-03-04T00:00:00\", \"total_cases\": 86, \"total_infected\": 458.99999999999994, \"n_days\": 7, \"cases\": 86, \"infected\": 458.99999999999994, \"45_line\": 86}, {\"index\": 9963, \"location\": \"United Kingdom\", \"date\": \"2020-03-05T00:00:00\", \"total_cases\": 116, \"total_infected\": 802.0, \"n_days\": 8, \"cases\": 116, \"infected\": 802.0, \"45_line\": 116}, {\"index\": 9964, \"location\": \"United Kingdom\", \"date\": \"2020-03-06T00:00:00\", \"total_cases\": 164, \"total_infected\": 1144.0, \"n_days\": 9, \"cases\": 164, \"infected\": 1144.0, \"45_line\": 164}, {\"index\": 9965, \"location\": \"United Kingdom\", \"date\": \"2020-03-07T00:00:00\", \"total_cases\": 207, \"total_infected\": 1145.0, \"n_days\": 10, \"cases\": 207, \"infected\": 1145.0, \"45_line\": 207}, {\"index\": 9966, \"location\": \"United Kingdom\", \"date\": \"2020-03-08T00:00:00\", \"total_cases\": 274, \"total_infected\": 1551.0, \"n_days\": 11, \"cases\": 274, \"infected\": 1551.0, \"45_line\": 274}, {\"index\": 9967, \"location\": \"United Kingdom\", \"date\": \"2020-03-09T00:00:00\", \"total_cases\": 322, \"total_infected\": 1960.0, \"n_days\": 12, \"cases\": 322, \"infected\": 1960.0, \"45_line\": 322}, {\"index\": 9968, \"location\": \"United Kingdom\", \"date\": \"2020-03-10T00:00:00\", \"total_cases\": 384, \"total_infected\": 2642.0, \"n_days\": 13, \"cases\": 384, \"infected\": 2642.0, \"45_line\": 384}, {\"index\": 9969, \"location\": \"United Kingdom\", \"date\": \"2020-03-11T00:00:00\", \"total_cases\": 459, \"total_infected\": 2716.0, \"n_days\": 14, \"cases\": 459, \"infected\": 2716.0, \"45_line\": 459}, {\"index\": 9970, \"location\": \"United Kingdom\", \"date\": \"2020-03-12T00:00:00\", \"total_cases\": 459, \"total_infected\": 4014.0, \"n_days\": 15, \"cases\": 459, \"infected\": 4014.0, \"45_line\": 459}, {\"index\": 9971, \"location\": \"United Kingdom\", \"date\": \"2020-03-13T00:00:00\", \"total_cases\": 802, \"total_infected\": 5067.0, \"n_days\": 16, \"cases\": 802, \"infected\": 5067.0, \"45_line\": 802}, {\"index\": 9972, \"location\": \"United Kingdom\", \"date\": \"2020-03-14T00:00:00\", \"total_cases\": 1144, \"total_infected\": 5745.0, \"n_days\": 17, \"cases\": 1144, \"infected\": 5745.0, \"45_line\": 1144}, {\"index\": 9973, \"location\": \"United Kingdom\", \"date\": \"2020-03-15T00:00:00\", \"total_cases\": 1145, \"total_infected\": 6726.0, \"n_days\": 18, \"cases\": 1145, \"infected\": 6726.0, \"45_line\": 1145}, {\"index\": 9974, \"location\": \"United Kingdom\", \"date\": \"2020-03-16T00:00:00\", \"total_cases\": 1551, \"total_infected\": 8243.141110346101, \"n_days\": 19, \"cases\": 1551, \"infected\": 8243.141110346101, \"45_line\": 1551}, {\"index\": 9975, \"location\": \"United Kingdom\", \"date\": \"2020-03-17T00:00:00\", \"total_cases\": 1960, \"total_infected\": 10102.494107207547, \"n_days\": 20, \"cases\": 1960, \"infected\": 10102.494107207547, \"45_line\": 1960}, {\"index\": 9976, \"location\": \"United Kingdom\", \"date\": \"2020-03-18T00:00:00\", \"total_cases\": 2642, \"total_infected\": 12381.24955280282, \"n_days\": 21, \"cases\": 2642, \"infected\": 12381.24955280282, \"45_line\": 2642}, {\"index\": 9977, \"location\": \"United Kingdom\", \"date\": \"2020-03-19T00:00:00\", \"total_cases\": 2716, \"total_infected\": 15174.009394315077, \"n_days\": 22, \"cases\": 2716, \"infected\": 15174.009394315077, \"45_line\": 2716}, {\"index\": 9978, \"location\": \"United Kingdom\", \"date\": \"2020-03-20T00:00:00\", \"total_cases\": 4014, \"total_infected\": 18596.71433943749, \"n_days\": 23, \"cases\": 4014, \"infected\": 18596.71433943749, \"45_line\": 4014}, {\"index\": 9979, \"location\": \"United Kingdom\", \"date\": \"2020-03-21T00:00:00\", \"total_cases\": 5067, \"total_infected\": 22791.457105081776, \"n_days\": 24, \"cases\": 5067, \"infected\": 22791.457105081776, \"45_line\": 5067}, {\"index\": 9980, \"location\": \"United Kingdom\", \"date\": \"2020-03-22T00:00:00\", \"total_cases\": 5745, \"total_infected\": 27932.381360034098, \"n_days\": 25, \"cases\": 5745, \"infected\": 27932.381360034098, \"45_line\": 5745}, {\"index\": 9981, \"location\": \"United Kingdom\", \"date\": \"2020-03-23T00:00:00\", \"total_cases\": 6726, \"total_infected\": 34232.91125464797, \"n_days\": 26, \"cases\": 6726, \"infected\": 34232.91125464797, \"45_line\": 6726}, {\"index\": 3883, \"location\": \"Germany\", \"date\": \"2020-03-01T00:00:00\", \"total_cases\": 130, \"total_infected\": 1176.0, \"n_days\": 0, \"cases\": 130, \"infected\": 1176.0, \"45_line\": 130}, {\"index\": 3884, \"location\": \"Germany\", \"date\": \"2020-03-02T00:00:00\", \"total_cases\": 159, \"total_infected\": 1457.0, \"n_days\": 1, \"cases\": 159, \"infected\": 1457.0, \"45_line\": 159}, {\"index\": 3885, \"location\": \"Germany\", \"date\": \"2020-03-03T00:00:00\", \"total_cases\": 196, \"total_infected\": 1908.0, \"n_days\": 2, \"cases\": 196, \"infected\": 1908.0, \"45_line\": 196}, {\"index\": 3886, \"location\": \"Germany\", \"date\": \"2020-03-04T00:00:00\", \"total_cases\": 262, \"total_infected\": 2078.0, \"n_days\": 3, \"cases\": 262, \"infected\": 2078.0, \"45_line\": 262}, {\"index\": 3887, \"location\": \"Germany\", \"date\": \"2020-03-05T00:00:00\", \"total_cases\": 482, \"total_infected\": 3675.0, \"n_days\": 4, \"cases\": 482, \"infected\": 3675.0, \"45_line\": 482}, {\"index\": 3888, \"location\": \"Germany\", \"date\": \"2020-03-06T00:00:00\", \"total_cases\": 670, \"total_infected\": 4585.0, \"n_days\": 5, \"cases\": 670, \"infected\": 4585.0, \"45_line\": 670}, {\"index\": 3889, \"location\": \"Germany\", \"date\": \"2020-03-07T00:00:00\", \"total_cases\": 799, \"total_infected\": 5795.0, \"n_days\": 6, \"cases\": 799, \"infected\": 5795.0, \"45_line\": 799}, {\"index\": 3890, \"location\": \"Germany\", \"date\": \"2020-03-08T00:00:00\", \"total_cases\": 1040, \"total_infected\": 7272.0, \"n_days\": 7, \"cases\": 1040, \"infected\": 7272.0, \"45_line\": 1040}, {\"index\": 3891, \"location\": \"Germany\", \"date\": \"2020-03-09T00:00:00\", \"total_cases\": 1176, \"total_infected\": 9257.0, \"n_days\": 8, \"cases\": 1176, \"infected\": 9257.0, \"45_line\": 1176}, {\"index\": 3892, \"location\": \"Germany\", \"date\": \"2020-03-10T00:00:00\", \"total_cases\": 1457, \"total_infected\": 12327.0, \"n_days\": 9, \"cases\": 1457, \"infected\": 12327.0, \"45_line\": 1457}, {\"index\": 3893, \"location\": \"Germany\", \"date\": \"2020-03-11T00:00:00\", \"total_cases\": 1908, \"total_infected\": 15320.0, \"n_days\": 10, \"cases\": 1908, \"infected\": 15320.0, \"45_line\": 1908}, {\"index\": 3894, \"location\": \"Germany\", \"date\": \"2020-03-12T00:00:00\", \"total_cases\": 2078, \"total_infected\": 19848.0, \"n_days\": 11, \"cases\": 2078, \"infected\": 19848.0, \"45_line\": 2078}, {\"index\": 3895, \"location\": \"Germany\", \"date\": \"2020-03-13T00:00:00\", \"total_cases\": 3675, \"total_infected\": 22213.0, \"n_days\": 12, \"cases\": 3675, \"infected\": 22213.0, \"45_line\": 3675}, {\"index\": 3896, \"location\": \"Germany\", \"date\": \"2020-03-14T00:00:00\", \"total_cases\": 4585, \"total_infected\": 24873.0, \"n_days\": 13, \"cases\": 4585, \"infected\": 24873.0, \"45_line\": 4585}, {\"index\": 3897, \"location\": \"Germany\", \"date\": \"2020-03-15T00:00:00\", \"total_cases\": 5795, \"total_infected\": 29056.0, \"n_days\": 14, \"cases\": 5795, \"infected\": 29056.0, \"45_line\": 5795}, {\"index\": 3898, \"location\": \"Germany\", \"date\": \"2020-03-16T00:00:00\", \"total_cases\": 7272, \"total_infected\": 35712.11974142112, \"n_days\": 15, \"cases\": 7272, \"infected\": 35712.11974142112, \"45_line\": 7272}, {\"index\": 3899, \"location\": \"Germany\", \"date\": \"2020-03-17T00:00:00\", \"total_cases\": 9257, \"total_infected\": 43893.01680980177, \"n_days\": 16, \"cases\": 9257, \"infected\": 43893.01680980177, \"45_line\": 9257}, {\"index\": 3900, \"location\": \"Germany\", \"date\": \"2020-03-18T00:00:00\", \"total_cases\": 12327, \"total_infected\": 53947.98568708188, \"n_days\": 17, \"cases\": 12327, \"infected\": 53947.98568708188, \"45_line\": 12327}, {\"index\": 3901, \"location\": \"Germany\", \"date\": \"2020-03-19T00:00:00\", \"total_cases\": 15320, \"total_infected\": 66306.33688964555, \"n_days\": 18, \"cases\": 15320, \"infected\": 66306.33688964555, \"45_line\": 15320}, {\"index\": 3902, \"location\": \"Germany\", \"date\": \"2020-03-20T00:00:00\", \"total_cases\": 19848, \"total_infected\": 81495.72696234962, \"n_days\": 19, \"cases\": 19848, \"infected\": 81495.72696234962, \"45_line\": 19848}, {\"index\": 3903, \"location\": \"Germany\", \"date\": \"2020-03-21T00:00:00\", \"total_cases\": 22213, \"total_infected\": 100164.68748945456, \"n_days\": 20, \"cases\": 22213, \"infected\": 100164.68748945456, \"45_line\": 22213}, {\"index\": 3904, \"location\": \"Germany\", \"date\": \"2020-03-22T00:00:00\", \"total_cases\": 24873, \"total_infected\": 123110.3150290965, \"n_days\": 21, \"cases\": 24873, \"infected\": 123110.3150290965, \"45_line\": 24873}, {\"index\": 3905, \"location\": \"Germany\", \"date\": \"2020-03-23T00:00:00\", \"total_cases\": 29056, \"total_infected\": 151312.30423056067, \"n_days\": 22, \"cases\": 29056, \"infected\": 151312.30423056067, \"45_line\": 29056}, {\"index\": 7735, \"location\": \"Portugal\", \"date\": \"2020-03-09T00:00:00\", \"total_cases\": 30, \"total_infected\": 448.0, \"n_days\": 0, \"cases\": 30, \"infected\": 448.0, \"45_line\": 30}, {\"index\": 7736, \"location\": \"Portugal\", \"date\": \"2020-03-10T00:00:00\", \"total_cases\": 41, \"total_infected\": 448.0, \"n_days\": 1, \"cases\": 41, \"infected\": 448.0, \"45_line\": 41}, {\"index\": 7737, \"location\": \"Portugal\", \"date\": \"2020-03-11T00:00:00\", \"total_cases\": 59, \"total_infected\": 785.0, \"n_days\": 2, \"cases\": 59, \"infected\": 785.0, \"45_line\": 59}, {\"index\": 7738, \"location\": \"Portugal\", \"date\": \"2020-03-12T00:00:00\", \"total_cases\": 59, \"total_infected\": 1020.0, \"n_days\": 3, \"cases\": 59, \"infected\": 1020.0, \"45_line\": 59}, {\"index\": 7739, \"location\": \"Portugal\", \"date\": \"2020-03-13T00:00:00\", \"total_cases\": 112, \"total_infected\": 1280.0, \"n_days\": 4, \"cases\": 112, \"infected\": 1280.0, \"45_line\": 112}, {\"index\": 7740, \"location\": \"Portugal\", \"date\": \"2020-03-14T00:00:00\", \"total_cases\": 169, \"total_infected\": 1599.9999999999998, \"n_days\": 5, \"cases\": 169, \"infected\": 1599.9999999999998, \"45_line\": 169}, {\"index\": 7741, \"location\": \"Portugal\", \"date\": \"2020-03-15T00:00:00\", \"total_cases\": 245, \"total_infected\": 2060.0, \"n_days\": 6, \"cases\": 245, \"infected\": 2060.0, \"45_line\": 245}, {\"index\": 7742, \"location\": \"Portugal\", \"date\": \"2020-03-16T00:00:00\", \"total_cases\": 331, \"total_infected\": 2583.812690083234, \"n_days\": 7, \"cases\": 331, \"infected\": 2583.812690083234, \"45_line\": 331}, {\"index\": 7743, \"location\": \"Portugal\", \"date\": \"2020-03-17T00:00:00\", \"total_cases\": 448, \"total_infected\": 3240.8194259393968, \"n_days\": 8, \"cases\": 448, \"infected\": 3240.8194259393968, \"45_line\": 448}, {\"index\": 7744, \"location\": \"Portugal\", \"date\": \"2020-03-18T00:00:00\", \"total_cases\": 448, \"total_infected\": 4064.8885237914924, \"n_days\": 9, \"cases\": 448, \"infected\": 4064.8885237914924, \"45_line\": 448}, {\"index\": 7745, \"location\": \"Portugal\", \"date\": \"2020-03-19T00:00:00\", \"total_cases\": 785, \"total_infected\": 5098.500267740855, \"n_days\": 10, \"cases\": 785, \"infected\": 5098.500267740855, \"45_line\": 785}, {\"index\": 7746, \"location\": \"Portugal\", \"date\": \"2020-03-20T00:00:00\", \"total_cases\": 1020, \"total_infected\": 6394.936743777469, \"n_days\": 11, \"cases\": 1020, \"infected\": 6394.936743777469, \"45_line\": 1020}, {\"index\": 7747, \"location\": \"Portugal\", \"date\": \"2020-03-21T00:00:00\", \"total_cases\": 1280, \"total_infected\": 8021.028500413485, \"n_days\": 12, \"cases\": 1280, \"infected\": 8021.028500413485, \"45_line\": 1280}, {\"index\": 7748, \"location\": \"Portugal\", \"date\": \"2020-03-22T00:00:00\", \"total_cases\": 1600, \"total_infected\": 10060.599624702745, \"n_days\": 13, \"cases\": 1600, \"infected\": 10060.599624702745, \"45_line\": 1600}, {\"index\": 7749, \"location\": \"Portugal\", \"date\": \"2020-03-23T00:00:00\", \"total_cases\": 2060, \"total_infected\": 12618.788825317268, \"n_days\": 14, \"cases\": 2060, \"infected\": 12618.788825317268, \"45_line\": 2060}, {\"index\": 10012, \"location\": \"United States\", \"date\": \"2020-02-21T00:00:00\", \"total_cases\": 15, \"total_infected\": 68.0, \"n_days\": 0, \"cases\": 15, \"infected\": 68.0, \"45_line\": 15}, {\"index\": 10013, \"location\": \"United States\", \"date\": \"2020-02-22T00:00:00\", \"total_cases\": 15, \"total_infected\": 74.0, \"n_days\": 1, \"cases\": 15, \"infected\": 74.0, \"45_line\": 15}, {\"index\": 10014, \"location\": \"United States\", \"date\": \"2020-02-23T00:00:00\", \"total_cases\": 15, \"total_infected\": 98.0, \"n_days\": 2, \"cases\": 15, \"infected\": 98.0, \"45_line\": 15}, {\"index\": 10015, \"location\": \"United States\", \"date\": \"2020-02-24T00:00:00\", \"total_cases\": 51, \"total_infected\": 118.0, \"n_days\": 3, \"cases\": 51, \"infected\": 118.0, \"45_line\": 51}, {\"index\": 10016, \"location\": \"United States\", \"date\": \"2020-02-25T00:00:00\", \"total_cases\": 51, \"total_infected\": 149.0, \"n_days\": 4, \"cases\": 51, \"infected\": 149.0, \"45_line\": 51}, {\"index\": 10017, \"location\": \"United States\", \"date\": \"2020-02-26T00:00:00\", \"total_cases\": 57, \"total_infected\": 217.0, \"n_days\": 5, \"cases\": 57, \"infected\": 217.0, \"45_line\": 57}, {\"index\": 10018, \"location\": \"United States\", \"date\": \"2020-02-27T00:00:00\", \"total_cases\": 58, \"total_infected\": 262.0, \"n_days\": 6, \"cases\": 58, \"infected\": 262.0, \"45_line\": 58}, {\"index\": 10019, \"location\": \"United States\", \"date\": \"2020-02-28T00:00:00\", \"total_cases\": 60, \"total_infected\": 402.0, \"n_days\": 7, \"cases\": 60, \"infected\": 402.0, \"45_line\": 60}, {\"index\": 10020, \"location\": \"United States\", \"date\": \"2020-02-29T00:00:00\", \"total_cases\": 68, \"total_infected\": 518.0, \"n_days\": 8, \"cases\": 68, \"infected\": 518.0, \"45_line\": 68}, {\"index\": 10021, \"location\": \"United States\", \"date\": \"2020-03-01T00:00:00\", \"total_cases\": 74, \"total_infected\": 583.0, \"n_days\": 9, \"cases\": 74, \"infected\": 583.0, \"45_line\": 74}, {\"index\": 10022, \"location\": \"United States\", \"date\": \"2020-03-02T00:00:00\", \"total_cases\": 98, \"total_infected\": 959.0, \"n_days\": 10, \"cases\": 98, \"infected\": 959.0, \"45_line\": 98}, {\"index\": 10023, \"location\": \"United States\", \"date\": \"2020-03-03T00:00:00\", \"total_cases\": 118, \"total_infected\": 1281.0, \"n_days\": 11, \"cases\": 118, \"infected\": 1281.0, \"45_line\": 118}, {\"index\": 10024, \"location\": \"United States\", \"date\": \"2020-03-04T00:00:00\", \"total_cases\": 149, \"total_infected\": 1663.0, \"n_days\": 12, \"cases\": 149, \"infected\": 1663.0, \"45_line\": 149}, {\"index\": 10025, \"location\": \"United States\", \"date\": \"2020-03-05T00:00:00\", \"total_cases\": 217, \"total_infected\": 2179.0, \"n_days\": 13, \"cases\": 217, \"infected\": 2179.0, \"45_line\": 217}, {\"index\": 10026, \"location\": \"United States\", \"date\": \"2020-03-06T00:00:00\", \"total_cases\": 262, \"total_infected\": 2727.0, \"n_days\": 14, \"cases\": 262, \"infected\": 2727.0, \"45_line\": 262}, {\"index\": 10027, \"location\": \"United States\", \"date\": \"2020-03-07T00:00:00\", \"total_cases\": 402, \"total_infected\": 3499.0, \"n_days\": 15, \"cases\": 402, \"infected\": 3499.0, \"45_line\": 402}, {\"index\": 10028, \"location\": \"United States\", \"date\": \"2020-03-08T00:00:00\", \"total_cases\": 518, \"total_infected\": 4632.0, \"n_days\": 16, \"cases\": 518, \"infected\": 4632.0, \"45_line\": 518}, {\"index\": 10029, \"location\": \"United States\", \"date\": \"2020-03-09T00:00:00\", \"total_cases\": 583, \"total_infected\": 6421.0, \"n_days\": 17, \"cases\": 583, \"infected\": 6421.0, \"45_line\": 583}, {\"index\": 10030, \"location\": \"United States\", \"date\": \"2020-03-10T00:00:00\", \"total_cases\": 959, \"total_infected\": 7783.0, \"n_days\": 18, \"cases\": 959, \"infected\": 7783.0, \"45_line\": 959}, {\"index\": 10031, \"location\": \"United States\", \"date\": \"2020-03-11T00:00:00\", \"total_cases\": 1281, \"total_infected\": 13677.0, \"n_days\": 19, \"cases\": 1281, \"infected\": 13677.0, \"45_line\": 1281}, {\"index\": 10032, \"location\": \"United States\", \"date\": \"2020-03-12T00:00:00\", \"total_cases\": 1663, \"total_infected\": 19100.0, \"n_days\": 20, \"cases\": 1663, \"infected\": 19100.0, \"45_line\": 1663}, {\"index\": 10033, \"location\": \"United States\", \"date\": \"2020-03-13T00:00:00\", \"total_cases\": 2179, \"total_infected\": 25489.0, \"n_days\": 21, \"cases\": 2179, \"infected\": 25489.0, \"45_line\": 2179}, {\"index\": 10034, \"location\": \"United States\", \"date\": \"2020-03-14T00:00:00\", \"total_cases\": 2727, \"total_infected\": 33276.0, \"n_days\": 22, \"cases\": 2727, \"infected\": 33276.0, \"45_line\": 2727}, {\"index\": 10035, \"location\": \"United States\", \"date\": \"2020-03-15T00:00:00\", \"total_cases\": 3499, \"total_infected\": 43847.0, \"n_days\": 23, \"cases\": 3499, \"infected\": 43847.0, \"45_line\": 3499}, {\"index\": 10036, \"location\": \"United States\", \"date\": \"2020-03-16T00:00:00\", \"total_cases\": 4632, \"total_infected\": 56179.35741597041, \"n_days\": 24, \"cases\": 4632, \"infected\": 56179.35741597041, \"45_line\": 4632}, {\"index\": 10037, \"location\": \"United States\", \"date\": \"2020-03-17T00:00:00\", \"total_cases\": 6421, \"total_infected\": 71980.29967093185, \"n_days\": 25, \"cases\": 6421, \"infected\": 71980.29967093185, \"45_line\": 6421}, {\"index\": 10038, \"location\": \"United States\", \"date\": \"2020-03-18T00:00:00\", \"total_cases\": 7783, \"total_infected\": 92225.39699687407, \"n_days\": 26, \"cases\": 7783, \"infected\": 92225.39699687407, \"45_line\": 7783}, {\"index\": 10039, \"location\": \"United States\", \"date\": \"2020-03-19T00:00:00\", \"total_cases\": 13677, \"total_infected\": 118164.60740112556, \"n_days\": 27, \"cases\": 13677, \"infected\": 118164.60740112556, \"45_line\": 13677}, {\"index\": 10040, \"location\": \"United States\", \"date\": \"2020-03-20T00:00:00\", \"total_cases\": 19100, \"total_infected\": 151399.45066037937, \"n_days\": 28, \"cases\": 19100, \"infected\": 151399.45066037937, \"45_line\": 19100}, {\"index\": 10041, \"location\": \"United States\", \"date\": \"2020-03-21T00:00:00\", \"total_cases\": 25489, \"total_infected\": 193981.88818461992, \"n_days\": 29, \"cases\": 25489, \"infected\": 193981.88818461992, \"45_line\": 25489}, {\"index\": 10042, \"location\": \"United States\", \"date\": \"2020-03-22T00:00:00\", \"total_cases\": 33276, \"total_infected\": 248541.013719264, \"n_days\": 30, \"cases\": 33276, \"infected\": 248541.013719264, \"45_line\": 33276}, {\"index\": 10043, \"location\": \"United States\", \"date\": \"2020-03-23T00:00:00\", \"total_cases\": 43847, \"total_infected\": 318445.3769302834, \"n_days\": 31, \"cases\": 43847, \"infected\": 318445.3769302834, \"45_line\": 43847}, {\"index\": 8483, \"location\": \"Singapore\", \"date\": \"2020-03-13T00:00:00\", \"total_cases\": 200, \"total_infected\": 432.0, \"n_days\": 0, \"cases\": 200, \"infected\": 432.0, \"45_line\": 200}, {\"index\": 8484, \"location\": \"Singapore\", \"date\": \"2020-03-14T00:00:00\", \"total_cases\": 212, \"total_infected\": 455.0, \"n_days\": 1, \"cases\": 212, \"infected\": 455.0, \"45_line\": 212}, {\"index\": 8485, \"location\": \"Singapore\", \"date\": \"2020-03-15T00:00:00\", \"total_cases\": 226, \"total_infected\": 509.00000000000006, \"n_days\": 2, \"cases\": 226, \"infected\": 509.00000000000006, \"45_line\": 226}, {\"index\": 8486, \"location\": \"Singapore\", \"date\": \"2020-03-16T00:00:00\", \"total_cases\": 243, \"total_infected\": 550.7437080039819, \"n_days\": 3, \"cases\": 243, \"infected\": 550.7437080039819, \"45_line\": 243}, {\"index\": 8487, \"location\": \"Singapore\", \"date\": \"2020-03-17T00:00:00\", \"total_cases\": 266, \"total_infected\": 595.9108681846271, \"n_days\": 4, \"cases\": 266, \"infected\": 595.9108681846271, \"45_line\": 266}, {\"index\": 8488, \"location\": \"Singapore\", \"date\": \"2020-03-18T00:00:00\", \"total_cases\": 313, \"total_infected\": 644.7822420115394, \"n_days\": 5, \"cases\": 313, \"infected\": 644.7822420115394, \"45_line\": 313}, {\"index\": 8489, \"location\": \"Singapore\", \"date\": \"2020-03-19T00:00:00\", \"total_cases\": 345, \"total_infected\": 697.661616543332, \"n_days\": 6, \"cases\": 345, \"infected\": 697.661616543332, \"45_line\": 345}, {\"index\": 8490, \"location\": \"Singapore\", \"date\": \"2020-03-20T00:00:00\", \"total_cases\": 385, \"total_infected\": 754.877692784139, \"n_days\": 7, \"cases\": 385, \"infected\": 754.877692784139, \"45_line\": 385}, {\"index\": 8491, \"location\": \"Singapore\", \"date\": \"2020-03-21T00:00:00\", \"total_cases\": 432, \"total_infected\": 816.786128906537, \"n_days\": 8, \"cases\": 432, \"infected\": 816.786128906537, \"45_line\": 432}, {\"index\": 8492, \"location\": \"Singapore\", \"date\": \"2020-03-22T00:00:00\", \"total_cases\": 455, \"total_infected\": 883.7717510416591, \"n_days\": 9, \"cases\": 455, \"infected\": 883.7717510416591, \"45_line\": 455}, {\"index\": 8493, \"location\": \"Singapore\", \"date\": \"2020-03-23T00:00:00\", \"total_cases\": 509, \"total_infected\": 956.2509453788903, \"n_days\": 10, \"cases\": 509, \"infected\": 956.2509453788903, \"45_line\": 509}, {\"index\": 8763, \"location\": \"South Korea\", \"date\": \"2020-02-12T00:00:00\", \"total_cases\": 28, \"total_infected\": 104.0, \"n_days\": 0, \"cases\": 28, \"infected\": 104.0, \"45_line\": 28}, {\"index\": 8764, \"location\": \"South Korea\", \"date\": \"2020-02-13T00:00:00\", \"total_cases\": 28, \"total_infected\": 204.0, \"n_days\": 1, \"cases\": 28, \"infected\": 204.0, \"45_line\": 28}, {\"index\": 8765, \"location\": \"South Korea\", \"date\": \"2020-02-14T00:00:00\", \"total_cases\": 28, \"total_infected\": 433.0, \"n_days\": 2, \"cases\": 28, \"infected\": 433.0, \"45_line\": 28}, {\"index\": 8766, \"location\": \"South Korea\", \"date\": \"2020-02-15T00:00:00\", \"total_cases\": 28, \"total_infected\": 602.0, \"n_days\": 3, \"cases\": 28, \"infected\": 602.0, \"45_line\": 28}, {\"index\": 8767, \"location\": \"South Korea\", \"date\": \"2020-02-16T00:00:00\", \"total_cases\": 29, \"total_infected\": 833.0000000000001, \"n_days\": 4, \"cases\": 29, \"infected\": 833.0000000000001, \"45_line\": 29}, {\"index\": 8768, \"location\": \"South Korea\", \"date\": \"2020-02-17T00:00:00\", \"total_cases\": 30, \"total_infected\": 976.9999999999999, \"n_days\": 5, \"cases\": 30, \"infected\": 976.9999999999999, \"45_line\": 30}, {\"index\": 8769, \"location\": \"South Korea\", \"date\": \"2020-02-18T00:00:00\", \"total_cases\": 31, \"total_infected\": 1261.0, \"n_days\": 6, \"cases\": 31, \"infected\": 1261.0, \"45_line\": 31}, {\"index\": 8770, \"location\": \"South Korea\", \"date\": \"2020-02-19T00:00:00\", \"total_cases\": 31, \"total_infected\": 1766.0, \"n_days\": 7, \"cases\": 31, \"infected\": 1766.0, \"45_line\": 31}, {\"index\": 8771, \"location\": \"South Korea\", \"date\": \"2020-02-20T00:00:00\", \"total_cases\": 104, \"total_infected\": 2337.0, \"n_days\": 8, \"cases\": 104, \"infected\": 2337.0, \"45_line\": 104}, {\"index\": 8772, \"location\": \"South Korea\", \"date\": \"2020-02-21T00:00:00\", \"total_cases\": 204, \"total_infected\": 3150.0, \"n_days\": 9, \"cases\": 204, \"infected\": 3150.0, \"45_line\": 204}, {\"index\": 8773, \"location\": \"South Korea\", \"date\": \"2020-02-22T00:00:00\", \"total_cases\": 433, \"total_infected\": 3736.0000000000005, \"n_days\": 10, \"cases\": 433, \"infected\": 3736.0000000000005, \"45_line\": 433}, {\"index\": 8774, \"location\": \"South Korea\", \"date\": \"2020-02-23T00:00:00\", \"total_cases\": 602, \"total_infected\": 4335.0, \"n_days\": 11, \"cases\": 602, \"infected\": 4335.0, \"45_line\": 602}, {\"index\": 8775, \"location\": \"South Korea\", \"date\": \"2020-02-24T00:00:00\", \"total_cases\": 833, \"total_infected\": 5186.0, \"n_days\": 12, \"cases\": 833, \"infected\": 5186.0, \"45_line\": 833}, {\"index\": 8776, \"location\": \"South Korea\", \"date\": \"2020-02-25T00:00:00\", \"total_cases\": 977, \"total_infected\": 5621.0, \"n_days\": 13, \"cases\": 977, \"infected\": 5621.0, \"45_line\": 977}, {\"index\": 8777, \"location\": \"South Korea\", \"date\": \"2020-02-26T00:00:00\", \"total_cases\": 1261, \"total_infected\": 6088.0, \"n_days\": 14, \"cases\": 1261, \"infected\": 6088.0, \"45_line\": 1261}, {\"index\": 8778, \"location\": \"South Korea\", \"date\": \"2020-02-27T00:00:00\", \"total_cases\": 1766, \"total_infected\": 6593.0, \"n_days\": 15, \"cases\": 1766, \"infected\": 6593.0, \"45_line\": 1766}, {\"index\": 8779, \"location\": \"South Korea\", \"date\": \"2020-02-28T00:00:00\", \"total_cases\": 2337, \"total_infected\": 7041.0, \"n_days\": 16, \"cases\": 2337, \"infected\": 7041.0, \"45_line\": 2337}, {\"index\": 8780, \"location\": \"South Korea\", \"date\": \"2020-02-29T00:00:00\", \"total_cases\": 3150, \"total_infected\": 7314.0, \"n_days\": 17, \"cases\": 3150, \"infected\": 7314.0, \"45_line\": 3150}, {\"index\": 8781, \"location\": \"South Korea\", \"date\": \"2020-03-01T00:00:00\", \"total_cases\": 3736, \"total_infected\": 7478.0, \"n_days\": 18, \"cases\": 3736, \"infected\": 7478.0, \"45_line\": 3736}, {\"index\": 8782, \"location\": \"South Korea\", \"date\": \"2020-03-02T00:00:00\", \"total_cases\": 4335, \"total_infected\": 7513.0, \"n_days\": 19, \"cases\": 4335, \"infected\": 7513.0, \"45_line\": 4335}, {\"index\": 8783, \"location\": \"South Korea\", \"date\": \"2020-03-03T00:00:00\", \"total_cases\": 5186, \"total_infected\": 7755.0, \"n_days\": 20, \"cases\": 5186, \"infected\": 7755.0, \"45_line\": 5186}, {\"index\": 8784, \"location\": \"South Korea\", \"date\": \"2020-03-04T00:00:00\", \"total_cases\": 5621, \"total_infected\": 7869.0, \"n_days\": 21, \"cases\": 5621, \"infected\": 7869.0, \"45_line\": 5621}, {\"index\": 8785, \"location\": \"South Korea\", \"date\": \"2020-03-05T00:00:00\", \"total_cases\": 6088, \"total_infected\": 7978.999999999999, \"n_days\": 22, \"cases\": 6088, \"infected\": 7978.999999999999, \"45_line\": 6088}, {\"index\": 8786, \"location\": \"South Korea\", \"date\": \"2020-03-06T00:00:00\", \"total_cases\": 6593, \"total_infected\": 8085.999999999999, \"n_days\": 23, \"cases\": 6593, \"infected\": 8085.999999999999, \"45_line\": 6593}, {\"index\": 8787, \"location\": \"South Korea\", \"date\": \"2020-03-07T00:00:00\", \"total_cases\": 7041, \"total_infected\": 8161.999999999999, \"n_days\": 24, \"cases\": 7041, \"infected\": 8161.999999999999, \"45_line\": 7041}, {\"index\": 8788, \"location\": \"South Korea\", \"date\": \"2020-03-08T00:00:00\", \"total_cases\": 7314, \"total_infected\": 8236.0, \"n_days\": 25, \"cases\": 7314, \"infected\": 8236.0, \"45_line\": 7314}, {\"index\": 8789, \"location\": \"South Korea\", \"date\": \"2020-03-09T00:00:00\", \"total_cases\": 7478, \"total_infected\": 8320.0, \"n_days\": 26, \"cases\": 7478, \"infected\": 8320.0, \"45_line\": 7478}, {\"index\": 8790, \"location\": \"South Korea\", \"date\": \"2020-03-10T00:00:00\", \"total_cases\": 7513, \"total_infected\": 8413.0, \"n_days\": 27, \"cases\": 7513, \"infected\": 8413.0, \"45_line\": 7513}, {\"index\": 8791, \"location\": \"South Korea\", \"date\": \"2020-03-11T00:00:00\", \"total_cases\": 7755, \"total_infected\": 8565.0, \"n_days\": 28, \"cases\": 7755, \"infected\": 8565.0, \"45_line\": 7755}, {\"index\": 8792, \"location\": \"South Korea\", \"date\": \"2020-03-12T00:00:00\", \"total_cases\": 7869, \"total_infected\": 8652.0, \"n_days\": 29, \"cases\": 7869, \"infected\": 8652.0, \"45_line\": 7869}, {\"index\": 8793, \"location\": \"South Korea\", \"date\": \"2020-03-13T00:00:00\", \"total_cases\": 7979, \"total_infected\": 8799.0, \"n_days\": 30, \"cases\": 7979, \"infected\": 8799.0, \"45_line\": 7979}, {\"index\": 8794, \"location\": \"South Korea\", \"date\": \"2020-03-14T00:00:00\", \"total_cases\": 8086, \"total_infected\": 8961.0, \"n_days\": 31, \"cases\": 8086, \"infected\": 8961.0, \"45_line\": 8086}, {\"index\": 8795, \"location\": \"South Korea\", \"date\": \"2020-03-15T00:00:00\", \"total_cases\": 8162, \"total_infected\": 8961.0, \"n_days\": 32, \"cases\": 8162, \"infected\": 8961.0, \"45_line\": 8162}, {\"index\": 8796, \"location\": \"South Korea\", \"date\": \"2020-03-16T00:00:00\", \"total_cases\": 8236, \"total_infected\": 10208.88819586199, \"n_days\": 33, \"cases\": 8236, \"infected\": 10208.88819586199, \"45_line\": 8236}, {\"index\": 8797, \"location\": \"South Korea\", \"date\": \"2020-03-17T00:00:00\", \"total_cases\": 8320, \"total_infected\": 11630.554424239514, \"n_days\": 34, \"cases\": 8320, \"infected\": 11630.554424239514, \"45_line\": 8320}, {\"index\": 8798, \"location\": \"South Korea\", \"date\": \"2020-03-18T00:00:00\", \"total_cases\": 8413, \"total_infected\": 13250.198613207143, \"n_days\": 35, \"cases\": 8413, \"infected\": 13250.198613207143, \"45_line\": 8413}, {\"index\": 8799, \"location\": \"South Korea\", \"date\": \"2020-03-19T00:00:00\", \"total_cases\": 8565, \"total_infected\": 15095.39071701789, \"n_days\": 36, \"cases\": 8565, \"infected\": 15095.39071701789, \"45_line\": 8565}, {\"index\": 8800, \"location\": \"South Korea\", \"date\": \"2020-03-20T00:00:00\", \"total_cases\": 8652, \"total_infected\": 17197.540018177504, \"n_days\": 37, \"cases\": 8652, \"infected\": 17197.540018177504, \"45_line\": 8652}, {\"index\": 8801, \"location\": \"South Korea\", \"date\": \"2020-03-21T00:00:00\", \"total_cases\": 8799, \"total_infected\": 19592.429783443422, \"n_days\": 38, \"cases\": 8799, \"infected\": 19592.429783443422, \"45_line\": 8799}, {\"index\": 8802, \"location\": \"South Korea\", \"date\": \"2020-03-22T00:00:00\", \"total_cases\": 8961, \"total_infected\": 22320.82637478523, \"n_days\": 39, \"cases\": 8961, \"infected\": 22320.82637478523, \"45_line\": 8961}, {\"index\": 8803, \"location\": \"South Korea\", \"date\": \"2020-03-23T00:00:00\", \"total_cases\": 8961, \"total_infected\": 25429.17318373283, \"n_days\": 40, \"cases\": 8961, \"infected\": 25429.17318373283, \"45_line\": 8961}, {\"index\": 5098, \"location\": \"Japan\", \"date\": \"2020-02-05T00:00:00\", \"total_cases\": 22, \"total_infected\": 28.0, \"n_days\": 0, \"cases\": 22, \"infected\": 28.0, \"45_line\": 22}, {\"index\": 5099, \"location\": \"Japan\", \"date\": \"2020-02-06T00:00:00\", \"total_cases\": 22, \"total_infected\": 29.0, \"n_days\": 1, \"cases\": 22, \"infected\": 29.0, \"45_line\": 22}, {\"index\": 5100, \"location\": \"Japan\", \"date\": \"2020-02-07T00:00:00\", \"total_cases\": 25, \"total_infected\": 43.0, \"n_days\": 2, \"cases\": 25, \"infected\": 43.0, \"45_line\": 25}, {\"index\": 5101, \"location\": \"Japan\", \"date\": \"2020-02-08T00:00:00\", \"total_cases\": 25, \"total_infected\": 59.0, \"n_days\": 3, \"cases\": 25, \"infected\": 59.0, \"45_line\": 25}, {\"index\": 5102, \"location\": \"Japan\", \"date\": \"2020-02-09T00:00:00\", \"total_cases\": 26, \"total_infected\": 66.0, \"n_days\": 4, \"cases\": 26, \"infected\": 66.0, \"45_line\": 26}, {\"index\": 5103, \"location\": \"Japan\", \"date\": \"2020-02-10T00:00:00\", \"total_cases\": 26, \"total_infected\": 74.0, \"n_days\": 5, \"cases\": 26, \"infected\": 74.0, \"45_line\": 26}, {\"index\": 5104, \"location\": \"Japan\", \"date\": \"2020-02-11T00:00:00\", \"total_cases\": 26, \"total_infected\": 84.0, \"n_days\": 6, \"cases\": 26, \"infected\": 84.0, \"45_line\": 26}, {\"index\": 5105, \"location\": \"Japan\", \"date\": \"2020-02-12T00:00:00\", \"total_cases\": 28, \"total_infected\": 94.0, \"n_days\": 7, \"cases\": 28, \"infected\": 94.0, \"45_line\": 28}, {\"index\": 5106, \"location\": \"Japan\", \"date\": \"2020-02-13T00:00:00\", \"total_cases\": 28, \"total_infected\": 104.99999999999999, \"n_days\": 8, \"cases\": 28, \"infected\": 104.99999999999999, \"45_line\": 28}, {\"index\": 5107, \"location\": \"Japan\", \"date\": \"2020-02-14T00:00:00\", \"total_cases\": 29, \"total_infected\": 122.0, \"n_days\": 9, \"cases\": 29, \"infected\": 122.0, \"45_line\": 29}, {\"index\": 5108, \"location\": \"Japan\", \"date\": \"2020-02-15T00:00:00\", \"total_cases\": 43, \"total_infected\": 147.0, \"n_days\": 10, \"cases\": 43, \"infected\": 147.0, \"45_line\": 43}, {\"index\": 5109, \"location\": \"Japan\", \"date\": \"2020-02-16T00:00:00\", \"total_cases\": 59, \"total_infected\": 159.0, \"n_days\": 11, \"cases\": 59, \"infected\": 159.0, \"45_line\": 59}, {\"index\": 5110, \"location\": \"Japan\", \"date\": \"2020-02-17T00:00:00\", \"total_cases\": 66, \"total_infected\": 170.0, \"n_days\": 12, \"cases\": 66, \"infected\": 170.0, \"45_line\": 66}, {\"index\": 5111, \"location\": \"Japan\", \"date\": \"2020-02-18T00:00:00\", \"total_cases\": 74, \"total_infected\": 189.0, \"n_days\": 13, \"cases\": 74, \"infected\": 189.0, \"45_line\": 74}, {\"index\": 5112, \"location\": \"Japan\", \"date\": \"2020-02-19T00:00:00\", \"total_cases\": 84, \"total_infected\": 214.00000000000003, \"n_days\": 14, \"cases\": 84, \"infected\": 214.00000000000003, \"45_line\": 84}, {\"index\": 5113, \"location\": \"Japan\", \"date\": \"2020-02-20T00:00:00\", \"total_cases\": 94, \"total_infected\": 228.0, \"n_days\": 15, \"cases\": 94, \"infected\": 228.0, \"45_line\": 94}, {\"index\": 5114, \"location\": \"Japan\", \"date\": \"2020-02-21T00:00:00\", \"total_cases\": 105, \"total_infected\": 241.0, \"n_days\": 16, \"cases\": 105, \"infected\": 241.0, \"45_line\": 105}, {\"index\": 5115, \"location\": \"Japan\", \"date\": \"2020-02-22T00:00:00\", \"total_cases\": 122, \"total_infected\": 256.0, \"n_days\": 17, \"cases\": 122, \"infected\": 256.0, \"45_line\": 122}, {\"index\": 5116, \"location\": \"Japan\", \"date\": \"2020-02-23T00:00:00\", \"total_cases\": 147, \"total_infected\": 274.0, \"n_days\": 18, \"cases\": 147, \"infected\": 274.0, \"45_line\": 147}, {\"index\": 5117, \"location\": \"Japan\", \"date\": \"2020-02-24T00:00:00\", \"total_cases\": 159, \"total_infected\": 293.0, \"n_days\": 19, \"cases\": 159, \"infected\": 293.0, \"45_line\": 159}, {\"index\": 5118, \"location\": \"Japan\", \"date\": \"2020-02-25T00:00:00\", \"total_cases\": 170, \"total_infected\": 330.99999999999994, \"n_days\": 20, \"cases\": 170, \"infected\": 330.99999999999994, \"45_line\": 170}, {\"index\": 5119, \"location\": \"Japan\", \"date\": \"2020-02-26T00:00:00\", \"total_cases\": 189, \"total_infected\": 360.0, \"n_days\": 21, \"cases\": 189, \"infected\": 360.0, \"45_line\": 189}, {\"index\": 5120, \"location\": \"Japan\", \"date\": \"2020-02-27T00:00:00\", \"total_cases\": 214, \"total_infected\": 420.0, \"n_days\": 22, \"cases\": 214, \"infected\": 420.0, \"45_line\": 214}, {\"index\": 5121, \"location\": \"Japan\", \"date\": \"2020-02-28T00:00:00\", \"total_cases\": 228, \"total_infected\": 461.0, \"n_days\": 23, \"cases\": 228, \"infected\": 461.0, \"45_line\": 228}, {\"index\": 5122, \"location\": \"Japan\", \"date\": \"2020-02-29T00:00:00\", \"total_cases\": 241, \"total_infected\": 502.0, \"n_days\": 24, \"cases\": 241, \"infected\": 502.0, \"45_line\": 241}, {\"index\": 5123, \"location\": \"Japan\", \"date\": \"2020-03-01T00:00:00\", \"total_cases\": 256, \"total_infected\": 511.0, \"n_days\": 25, \"cases\": 256, \"infected\": 511.0, \"45_line\": 256}, {\"index\": 5124, \"location\": \"Japan\", \"date\": \"2020-03-02T00:00:00\", \"total_cases\": 274, \"total_infected\": 581.0, \"n_days\": 26, \"cases\": 274, \"infected\": 581.0, \"45_line\": 274}, {\"index\": 5125, \"location\": \"Japan\", \"date\": \"2020-03-03T00:00:00\", \"total_cases\": 293, \"total_infected\": 639.0, \"n_days\": 27, \"cases\": 293, \"infected\": 639.0, \"45_line\": 293}, {\"index\": 5126, \"location\": \"Japan\", \"date\": \"2020-03-04T00:00:00\", \"total_cases\": 331, \"total_infected\": 639.0, \"n_days\": 28, \"cases\": 331, \"infected\": 639.0, \"45_line\": 331}, {\"index\": 5127, \"location\": \"Japan\", \"date\": \"2020-03-05T00:00:00\", \"total_cases\": 360, \"total_infected\": 701.0, \"n_days\": 29, \"cases\": 360, \"infected\": 701.0, \"45_line\": 360}, {\"index\": 5128, \"location\": \"Japan\", \"date\": \"2020-03-06T00:00:00\", \"total_cases\": 420, \"total_infected\": 773.0, \"n_days\": 30, \"cases\": 420, \"infected\": 773.0, \"45_line\": 420}, {\"index\": 5129, \"location\": \"Japan\", \"date\": \"2020-03-07T00:00:00\", \"total_cases\": 461, \"total_infected\": 839.0, \"n_days\": 31, \"cases\": 461, \"infected\": 839.0, \"45_line\": 461}, {\"index\": 5130, \"location\": \"Japan\", \"date\": \"2020-03-08T00:00:00\", \"total_cases\": 502, \"total_infected\": 838.9999999999999, \"n_days\": 32, \"cases\": 502, \"infected\": 838.9999999999999, \"45_line\": 502}, {\"index\": 5131, \"location\": \"Japan\", \"date\": \"2020-03-09T00:00:00\", \"total_cases\": 511, \"total_infected\": 878.0, \"n_days\": 33, \"cases\": 511, \"infected\": 878.0, \"45_line\": 511}, {\"index\": 5132, \"location\": \"Japan\", \"date\": \"2020-03-10T00:00:00\", \"total_cases\": 581, \"total_infected\": 889.0, \"n_days\": 34, \"cases\": 581, \"infected\": 889.0, \"45_line\": 581}, {\"index\": 5133, \"location\": \"Japan\", \"date\": \"2020-03-11T00:00:00\", \"total_cases\": 639, \"total_infected\": 924.0, \"n_days\": 35, \"cases\": 639, \"infected\": 924.0, \"45_line\": 639}, {\"index\": 5134, \"location\": \"Japan\", \"date\": \"2020-03-12T00:00:00\", \"total_cases\": 639, \"total_infected\": 963.0000000000001, \"n_days\": 36, \"cases\": 639, \"infected\": 963.0000000000001, \"45_line\": 639}, {\"index\": 5135, \"location\": \"Japan\", \"date\": \"2020-03-13T00:00:00\", \"total_cases\": 701, \"total_infected\": 1007.0, \"n_days\": 37, \"cases\": 701, \"infected\": 1007.0, \"45_line\": 701}, {\"index\": 5136, \"location\": \"Japan\", \"date\": \"2020-03-14T00:00:00\", \"total_cases\": 773, \"total_infected\": 1101.0, \"n_days\": 38, \"cases\": 773, \"infected\": 1101.0, \"45_line\": 773}, {\"index\": 5137, \"location\": \"Japan\", \"date\": \"2020-03-15T00:00:00\", \"total_cases\": 839, \"total_infected\": 1128.0, \"n_days\": 39, \"cases\": 839, \"infected\": 1128.0, \"45_line\": 839}, {\"index\": 5138, \"location\": \"Japan\", \"date\": \"2020-03-16T00:00:00\", \"total_cases\": 839, \"total_infected\": 1234.899603279072, \"n_days\": 40, \"cases\": 839, \"infected\": 1234.899603279072, \"45_line\": 839}, {\"index\": 5139, \"location\": \"Japan\", \"date\": \"2020-03-17T00:00:00\", \"total_cases\": 878, \"total_infected\": 1351.9299912932706, \"n_days\": 41, \"cases\": 878, \"infected\": 1351.9299912932706, \"45_line\": 878}, {\"index\": 5140, \"location\": \"Japan\", \"date\": \"2020-03-18T00:00:00\", \"total_cases\": 889, \"total_infected\": 1480.0512499194494, \"n_days\": 42, \"cases\": 889, \"infected\": 1480.0512499194494, \"45_line\": 889}, {\"index\": 5141, \"location\": \"Japan\", \"date\": \"2020-03-19T00:00:00\", \"total_cases\": 924, \"total_infected\": 1620.314451558708, \"n_days\": 43, \"cases\": 924, \"infected\": 1620.314451558708, \"45_line\": 924}, {\"index\": 5142, \"location\": \"Japan\", \"date\": \"2020-03-20T00:00:00\", \"total_cases\": 963, \"total_infected\": 1773.8702778521235, \"n_days\": 44, \"cases\": 963, \"infected\": 1773.8702778521235, \"45_line\": 963}, {\"index\": 5143, \"location\": \"Japan\", \"date\": \"2020-03-21T00:00:00\", \"total_cases\": 1007, \"total_infected\": 1941.97845956394, \"n_days\": 45, \"cases\": 1007, \"infected\": 1941.97845956394, \"45_line\": 1007}, {\"index\": 5144, \"location\": \"Japan\", \"date\": \"2020-03-22T00:00:00\", \"total_cases\": 1101, \"total_infected\": 2126.0181110744793, \"n_days\": 46, \"cases\": 1101, \"infected\": 2126.0181110744793, \"45_line\": 1101}, {\"index\": 5145, \"location\": \"Japan\", \"date\": \"2020-03-23T00:00:00\", \"total_cases\": 1128, \"total_infected\": 2327.499044264181, \"n_days\": 47, \"cases\": 1128, \"infected\": 2327.499044264181, \"45_line\": 1128}, {\"index\": 1411, \"location\": \"Brazil\", \"date\": \"2020-03-09T00:00:00\", \"total_cases\": 25, \"total_infected\": 321.0, \"n_days\": 0, \"cases\": 25, \"infected\": 321.0, \"45_line\": 25}, {\"index\": 1412, \"location\": \"Brazil\", \"date\": \"2020-03-10T00:00:00\", \"total_cases\": 31, \"total_infected\": 372.0, \"n_days\": 1, \"cases\": 31, \"infected\": 372.0, \"45_line\": 31}, {\"index\": 1413, \"location\": \"Brazil\", \"date\": \"2020-03-11T00:00:00\", \"total_cases\": 38, \"total_infected\": 621.0, \"n_days\": 2, \"cases\": 38, \"infected\": 621.0, \"45_line\": 38}, {\"index\": 1414, \"location\": \"Brazil\", \"date\": \"2020-03-12T00:00:00\", \"total_cases\": 52, \"total_infected\": 793.0, \"n_days\": 3, \"cases\": 52, \"infected\": 793.0, \"45_line\": 52}, {\"index\": 1415, \"location\": \"Brazil\", \"date\": \"2020-03-13T00:00:00\", \"total_cases\": 151, \"total_infected\": 1021.0, \"n_days\": 4, \"cases\": 151, \"infected\": 1021.0, \"45_line\": 151}, {\"index\": 1416, \"location\": \"Brazil\", \"date\": \"2020-03-14T00:00:00\", \"total_cases\": 151, \"total_infected\": 1546.0, \"n_days\": 5, \"cases\": 151, \"infected\": 1546.0, \"45_line\": 151}, {\"index\": 1417, \"location\": \"Brazil\", \"date\": \"2020-03-15T00:00:00\", \"total_cases\": 162, \"total_infected\": 1924.0, \"n_days\": 6, \"cases\": 162, \"infected\": 1924.0, \"45_line\": 162}, {\"index\": 1418, \"location\": \"Brazil\", \"date\": \"2020-03-16T00:00:00\", \"total_cases\": 200, \"total_infected\": 2498.224376262667, \"n_days\": 7, \"cases\": 200, \"infected\": 2498.224376262667, \"45_line\": 200}, {\"index\": 1419, \"location\": \"Brazil\", \"date\": \"2020-03-17T00:00:00\", \"total_cases\": 321, \"total_infected\": 3243.8279803289984, \"n_days\": 8, \"cases\": 321, \"infected\": 3243.8279803289984, \"45_line\": 321}, {\"index\": 1420, \"location\": \"Brazil\", \"date\": \"2020-03-18T00:00:00\", \"total_cases\": 372, \"total_infected\": 4211.959528513929, \"n_days\": 9, \"cases\": 372, \"infected\": 4211.959528513929, \"45_line\": 372}, {\"index\": 1421, \"location\": \"Brazil\", \"date\": \"2020-03-19T00:00:00\", \"total_cases\": 621, \"total_infected\": 5469.033246343715, \"n_days\": 10, \"cases\": 621, \"infected\": 5469.033246343715, \"45_line\": 621}, {\"index\": 1422, \"location\": \"Brazil\", \"date\": \"2020-03-20T00:00:00\", \"total_cases\": 793, \"total_infected\": 7101.284911957806, \"n_days\": 11, \"cases\": 793, \"infected\": 7101.284911957806, \"45_line\": 793}, {\"index\": 1423, \"location\": \"Brazil\", \"date\": \"2020-03-21T00:00:00\", \"total_cases\": 1021, \"total_infected\": 9220.687666236632, \"n_days\": 12, \"cases\": 1021, \"infected\": 9220.687666236632, \"45_line\": 1021}, {\"index\": 1424, \"location\": \"Brazil\", \"date\": \"2020-03-22T00:00:00\", \"total_cases\": 1546, \"total_infected\": 11972.633416682369, \"n_days\": 13, \"cases\": 1546, \"infected\": 11972.633416682369, \"45_line\": 1546}, {\"index\": 1425, \"location\": \"Brazil\", \"date\": \"2020-03-23T00:00:00\", \"total_cases\": 1924, \"total_infected\": 15545.906782543076, \"n_days\": 14, \"cases\": 1924, \"infected\": 15545.906782543076, \"45_line\": 1924}, {\"index\": 4732, \"location\": \"Iran\", \"date\": \"2020-02-11T00:00:00\", \"total_cases\": 0, \"total_infected\": 2.0, \"n_days\": 0, \"cases\": 0, \"infected\": 2.0, \"45_line\": 0}, {\"index\": 4733, \"location\": \"Iran\", \"date\": \"2020-02-12T00:00:00\", \"total_cases\": 0, \"total_infected\": 5.0, \"n_days\": 1, \"cases\": 0, \"infected\": 5.0, \"45_line\": 0}, {\"index\": 4734, \"location\": \"Iran\", \"date\": \"2020-02-13T00:00:00\", \"total_cases\": 0, \"total_infected\": 18.0, \"n_days\": 2, \"cases\": 0, \"infected\": 18.0, \"45_line\": 0}, {\"index\": 4735, \"location\": \"Iran\", \"date\": \"2020-02-14T00:00:00\", \"total_cases\": 0, \"total_infected\": 28.0, \"n_days\": 3, \"cases\": 0, \"infected\": 28.0, \"45_line\": 0}, {\"index\": 4736, \"location\": \"Iran\", \"date\": \"2020-02-15T00:00:00\", \"total_cases\": 0, \"total_infected\": 43.0, \"n_days\": 4, \"cases\": 0, \"infected\": 43.0, \"45_line\": 0}, {\"index\": 4737, \"location\": \"Iran\", \"date\": \"2020-02-16T00:00:00\", \"total_cases\": 0, \"total_infected\": 61.0, \"n_days\": 5, \"cases\": 0, \"infected\": 61.0, \"45_line\": 0}, {\"index\": 4738, \"location\": \"Iran\", \"date\": \"2020-02-17T00:00:00\", \"total_cases\": 0, \"total_infected\": 95.0, \"n_days\": 6, \"cases\": 0, \"infected\": 95.0, \"45_line\": 0}, {\"index\": 4739, \"location\": \"Iran\", \"date\": \"2020-02-18T00:00:00\", \"total_cases\": 0, \"total_infected\": 139.0, \"n_days\": 7, \"cases\": 0, \"infected\": 139.0, \"45_line\": 0}, {\"index\": 4740, \"location\": \"Iran\", \"date\": \"2020-02-19T00:00:00\", \"total_cases\": 2, \"total_infected\": 245.0, \"n_days\": 8, \"cases\": 2, \"infected\": 245.0, \"45_line\": 2}, {\"index\": 4741, \"location\": \"Iran\", \"date\": \"2020-02-20T00:00:00\", \"total_cases\": 5, \"total_infected\": 388.0, \"n_days\": 9, \"cases\": 5, \"infected\": 388.0, \"45_line\": 5}, {\"index\": 4742, \"location\": \"Iran\", \"date\": \"2020-02-21T00:00:00\", \"total_cases\": 18, \"total_infected\": 593.0, \"n_days\": 10, \"cases\": 18, \"infected\": 593.0, \"45_line\": 18}, {\"index\": 4743, \"location\": \"Iran\", \"date\": \"2020-02-22T00:00:00\", \"total_cases\": 28, \"total_infected\": 978.0, \"n_days\": 11, \"cases\": 28, \"infected\": 978.0, \"45_line\": 28}, {\"index\": 4744, \"location\": \"Iran\", \"date\": \"2020-02-23T00:00:00\", \"total_cases\": 43, \"total_infected\": 1501.0, \"n_days\": 12, \"cases\": 43, \"infected\": 1501.0, \"45_line\": 43}, {\"index\": 4745, \"location\": \"Iran\", \"date\": \"2020-02-24T00:00:00\", \"total_cases\": 61, \"total_infected\": 2336.0, \"n_days\": 13, \"cases\": 61, \"infected\": 2336.0, \"45_line\": 61}, {\"index\": 4746, \"location\": \"Iran\", \"date\": \"2020-02-25T00:00:00\", \"total_cases\": 95, \"total_infected\": 2922.0000000000005, \"n_days\": 14, \"cases\": 95, \"infected\": 2922.0000000000005, \"45_line\": 95}, {\"index\": 4747, \"location\": \"Iran\", \"date\": \"2020-02-26T00:00:00\", \"total_cases\": 139, \"total_infected\": 3513.0, \"n_days\": 15, \"cases\": 139, \"infected\": 3513.0, \"45_line\": 139}, {\"index\": 4748, \"location\": \"Iran\", \"date\": \"2020-02-27T00:00:00\", \"total_cases\": 245, \"total_infected\": 4747.0, \"n_days\": 16, \"cases\": 245, \"infected\": 4747.0, \"45_line\": 245}, {\"index\": 4749, \"location\": \"Iran\", \"date\": \"2020-02-28T00:00:00\", \"total_cases\": 388, \"total_infected\": 5823.0, \"n_days\": 17, \"cases\": 388, \"infected\": 5823.0, \"45_line\": 388}, {\"index\": 4750, \"location\": \"Iran\", \"date\": \"2020-02-29T00:00:00\", \"total_cases\": 593, \"total_infected\": 6566.0, \"n_days\": 18, \"cases\": 593, \"infected\": 6566.0, \"45_line\": 593}, {\"index\": 4751, \"location\": \"Iran\", \"date\": \"2020-03-01T00:00:00\", \"total_cases\": 978, \"total_infected\": 7161.000000000001, \"n_days\": 19, \"cases\": 978, \"infected\": 7161.000000000001, \"45_line\": 978}, {\"index\": 4752, \"location\": \"Iran\", \"date\": \"2020-03-02T00:00:00\", \"total_cases\": 1501, \"total_infected\": 8042.000000000001, \"n_days\": 20, \"cases\": 1501, \"infected\": 8042.000000000001, \"45_line\": 1501}, {\"index\": 4753, \"location\": \"Iran\", \"date\": \"2020-03-03T00:00:00\", \"total_cases\": 2336, \"total_infected\": 9000.0, \"n_days\": 21, \"cases\": 2336, \"infected\": 9000.0, \"45_line\": 2336}, {\"index\": 4754, \"location\": \"Iran\", \"date\": \"2020-03-04T00:00:00\", \"total_cases\": 2922, \"total_infected\": 10075.0, \"n_days\": 22, \"cases\": 2922, \"infected\": 10075.0, \"45_line\": 2922}, {\"index\": 4755, \"location\": \"Iran\", \"date\": \"2020-03-05T00:00:00\", \"total_cases\": 3513, \"total_infected\": 11364.0, \"n_days\": 23, \"cases\": 3513, \"infected\": 11364.0, \"45_line\": 3513}, {\"index\": 4756, \"location\": \"Iran\", \"date\": \"2020-03-06T00:00:00\", \"total_cases\": 4747, \"total_infected\": 12729.0, \"n_days\": 24, \"cases\": 4747, \"infected\": 12729.0, \"45_line\": 4747}, {\"index\": 4757, \"location\": \"Iran\", \"date\": \"2020-03-07T00:00:00\", \"total_cases\": 5823, \"total_infected\": 13938.0, \"n_days\": 25, \"cases\": 5823, \"infected\": 13938.0, \"45_line\": 5823}, {\"index\": 4758, \"location\": \"Iran\", \"date\": \"2020-03-08T00:00:00\", \"total_cases\": 6566, \"total_infected\": 14991.0, \"n_days\": 26, \"cases\": 6566, \"infected\": 14991.0, \"45_line\": 6566}, {\"index\": 4759, \"location\": \"Iran\", \"date\": \"2020-03-09T00:00:00\", \"total_cases\": 7161, \"total_infected\": 16169.0, \"n_days\": 27, \"cases\": 7161, \"infected\": 16169.0, \"45_line\": 7161}, {\"index\": 4760, \"location\": \"Iran\", \"date\": \"2020-03-10T00:00:00\", \"total_cases\": 8042, \"total_infected\": 17361.0, \"n_days\": 28, \"cases\": 8042, \"infected\": 17361.0, \"45_line\": 8042}, {\"index\": 4761, \"location\": \"Iran\", \"date\": \"2020-03-11T00:00:00\", \"total_cases\": 9000, \"total_infected\": 18407.0, \"n_days\": 29, \"cases\": 9000, \"infected\": 18407.0, \"45_line\": 9000}, {\"index\": 4762, \"location\": \"Iran\", \"date\": \"2020-03-12T00:00:00\", \"total_cases\": 10075, \"total_infected\": 19644.0, \"n_days\": 30, \"cases\": 10075, \"infected\": 19644.0, \"45_line\": 10075}, {\"index\": 4763, \"location\": \"Iran\", \"date\": \"2020-03-13T00:00:00\", \"total_cases\": 11364, \"total_infected\": 20610.0, \"n_days\": 31, \"cases\": 11364, \"infected\": 20610.0, \"45_line\": 11364}, {\"index\": 4764, \"location\": \"Iran\", \"date\": \"2020-03-14T00:00:00\", \"total_cases\": 12729, \"total_infected\": 21638.0, \"n_days\": 32, \"cases\": 12729, \"infected\": 21638.0, \"45_line\": 12729}, {\"index\": 4765, \"location\": \"Iran\", \"date\": \"2020-03-15T00:00:00\", \"total_cases\": 13938, \"total_infected\": 23049.0, \"n_days\": 33, \"cases\": 13938, \"infected\": 23049.0, \"45_line\": 13938}, {\"index\": 4766, \"location\": \"Iran\", \"date\": \"2020-03-16T00:00:00\", \"total_cases\": 14991, \"total_infected\": 29581.107890973006, \"n_days\": 34, \"cases\": 14991, \"infected\": 29581.107890973006, \"45_line\": 14991}, {\"index\": 4767, \"location\": \"Iran\", \"date\": \"2020-03-17T00:00:00\", \"total_cases\": 16169, \"total_infected\": 37964.42119212918, \"n_days\": 35, \"cases\": 16169, \"infected\": 37964.42119212918, \"45_line\": 16169}, {\"index\": 4768, \"location\": \"Iran\", \"date\": \"2020-03-18T00:00:00\", \"total_cases\": 17361, \"total_infected\": 48723.573226721994, \"n_days\": 36, \"cases\": 17361, \"infected\": 48723.573226721994, \"45_line\": 17361}, {\"index\": 4769, \"location\": \"Iran\", \"date\": \"2020-03-19T00:00:00\", \"total_cases\": 18407, \"total_infected\": 62531.878886432685, \"n_days\": 37, \"cases\": 18407, \"infected\": 62531.878886432685, \"45_line\": 18407}, {\"index\": 4770, \"location\": \"Iran\", \"date\": \"2020-03-20T00:00:00\", \"total_cases\": 19644, \"total_infected\": 80253.4711252038, \"n_days\": 38, \"cases\": 19644, \"infected\": 80253.4711252038, \"45_line\": 19644}, {\"index\": 4771, \"location\": \"Iran\", \"date\": \"2020-03-21T00:00:00\", \"total_cases\": 20610, \"total_infected\": 102997.37897434771, \"n_days\": 39, \"cases\": 20610, \"infected\": 102997.37897434771, \"45_line\": 20610}, {\"index\": 4772, \"location\": \"Iran\", \"date\": \"2020-03-22T00:00:00\", \"total_cases\": 21638, \"total_infected\": 132186.9313170903, \"n_days\": 40, \"cases\": 21638, \"infected\": 132186.9313170903, \"45_line\": 21638}, {\"index\": 4773, \"location\": \"Iran\", \"date\": \"2020-03-23T00:00:00\", \"total_cases\": 23049, \"total_infected\": 169648.8297569303, \"n_days\": 41, \"cases\": 23049, \"infected\": 169648.8297569303, \"45_line\": 23049}]}}, {\"mode\": \"vega-lite\"});\n",
       "</script>"
      ],
      "text/plain": [
       "alt.LayerChart(...)"
      ]
     },
     "execution_count": 6,
     "metadata": {},
     "output_type": "execute_result"
    }
   ],
   "source": [
    "#hide_input\n",
    "# Plot it using Altair\n",
    "data_pc = data_final[['location', 'date', 'total_cases', 'total_infected']].copy()\n",
    "\n",
    "countries = [\"Italy\", \"Spain\", \"France\", \"United Kingdom\", \"Germany\", \n",
    "             \"Portugal\", \"United States\", \"Singapore\",\"South Korea\", \"Japan\", \n",
    "             \"Brazil\",\"Iran\"]\n",
    "data_countries = []\n",
    "data_countries_pc = []\n",
    "\n",
    "for i in countries:\n",
    "    data_pc.loc[data_pc.location == i,\"total_infected\"] = data_pc.loc[data_pc.location == i,\"total_infected\"]\n",
    "    data_pc.loc[data_pc.location == i,\"total_cases\"] = data_pc.loc[data_pc.location == i,\"total_cases\"]\n",
    "    # get each country time series\n",
    "filter1 = data_pc[\"total_infected\"] > 1\n",
    "for i in countries:\n",
    "    filter_country = data_pc[\"location\"]== i\n",
    "    data_countries_pc.append(data_pc[filter_country & filter1])\n",
    "\n",
    "\n",
    "plot(data_countries_pc, \"scatter\", True)"
   ]
  },
  {
   "cell_type": "markdown",
   "metadata": {
    "papermill": {
     "duration": 0.015167,
     "end_time": "2020-03-24T18:30:36.465801",
     "exception": false,
     "start_time": "2020-03-24T18:30:36.450634",
     "status": "completed"
    },
    "tags": []
   },
   "source": [
    "Latest Observed vs. Estimate of Infected Cases"
   ]
  },
  {
   "cell_type": "code",
   "execution_count": 7,
   "metadata": {
    "papermill": {
     "duration": 0.04941,
     "end_time": "2020-03-24T18:30:36.530252",
     "exception": false,
     "start_time": "2020-03-24T18:30:36.480842",
     "status": "completed"
    },
    "tags": []
   },
   "outputs": [
    {
     "data": {
      "text/html": [
       "<div>\n",
       "<style scoped>\n",
       "    .dataframe tbody tr th:only-of-type {\n",
       "        vertical-align: middle;\n",
       "    }\n",
       "\n",
       "    .dataframe tbody tr th {\n",
       "        vertical-align: top;\n",
       "    }\n",
       "\n",
       "    .dataframe thead th {\n",
       "        text-align: right;\n",
       "    }\n",
       "</style>\n",
       "<table border=\"1\" class=\"dataframe\">\n",
       "  <thead>\n",
       "    <tr style=\"text-align: right;\">\n",
       "      <th></th>\n",
       "      <th>Date</th>\n",
       "      <th>Observed Cases</th>\n",
       "      <th>Estimate of Infected</th>\n",
       "    </tr>\n",
       "    <tr>\n",
       "      <th>Country</th>\n",
       "      <th></th>\n",
       "      <th></th>\n",
       "      <th></th>\n",
       "    </tr>\n",
       "  </thead>\n",
       "  <tbody>\n",
       "    <tr>\n",
       "      <th>Brazil</th>\n",
       "      <td>2020-03-23</td>\n",
       "      <td>1,924</td>\n",
       "      <td>15,546</td>\n",
       "    </tr>\n",
       "    <tr>\n",
       "      <th>France</th>\n",
       "      <td>2020-03-23</td>\n",
       "      <td>20,123</td>\n",
       "      <td>86,911</td>\n",
       "    </tr>\n",
       "    <tr>\n",
       "      <th>Germany</th>\n",
       "      <td>2020-03-23</td>\n",
       "      <td>29,056</td>\n",
       "      <td>151,312</td>\n",
       "    </tr>\n",
       "    <tr>\n",
       "      <th>Iran</th>\n",
       "      <td>2020-03-23</td>\n",
       "      <td>23,049</td>\n",
       "      <td>169,649</td>\n",
       "    </tr>\n",
       "    <tr>\n",
       "      <th>Italy</th>\n",
       "      <td>2020-03-23</td>\n",
       "      <td>63,927</td>\n",
       "      <td>406,928</td>\n",
       "    </tr>\n",
       "    <tr>\n",
       "      <th>Japan</th>\n",
       "      <td>2020-03-23</td>\n",
       "      <td>1,128</td>\n",
       "      <td>2,327</td>\n",
       "    </tr>\n",
       "    <tr>\n",
       "      <th>Portugal</th>\n",
       "      <td>2020-03-23</td>\n",
       "      <td>2,060</td>\n",
       "      <td>12,619</td>\n",
       "    </tr>\n",
       "    <tr>\n",
       "      <th>Singapore</th>\n",
       "      <td>2020-03-23</td>\n",
       "      <td>509</td>\n",
       "      <td>956</td>\n",
       "    </tr>\n",
       "    <tr>\n",
       "      <th>South Korea</th>\n",
       "      <td>2020-03-23</td>\n",
       "      <td>8,961</td>\n",
       "      <td>25,429</td>\n",
       "    </tr>\n",
       "    <tr>\n",
       "      <th>Spain</th>\n",
       "      <td>2020-03-23</td>\n",
       "      <td>35,136</td>\n",
       "      <td>234,881</td>\n",
       "    </tr>\n",
       "    <tr>\n",
       "      <th>United Kingdom</th>\n",
       "      <td>2020-03-23</td>\n",
       "      <td>6,726</td>\n",
       "      <td>34,233</td>\n",
       "    </tr>\n",
       "    <tr>\n",
       "      <th>United States</th>\n",
       "      <td>2020-03-23</td>\n",
       "      <td>43,847</td>\n",
       "      <td>318,445</td>\n",
       "    </tr>\n",
       "  </tbody>\n",
       "</table>\n",
       "</div>"
      ],
      "text/plain": [
       "                     Date Observed Cases Estimate of Infected\n",
       "Country                                                      \n",
       "Brazil         2020-03-23          1,924               15,546\n",
       "France         2020-03-23         20,123               86,911\n",
       "Germany        2020-03-23         29,056              151,312\n",
       "Iran           2020-03-23         23,049              169,649\n",
       "Italy          2020-03-23         63,927              406,928\n",
       "Japan          2020-03-23          1,128                2,327\n",
       "Portugal       2020-03-23          2,060               12,619\n",
       "Singapore      2020-03-23            509                  956\n",
       "South Korea    2020-03-23          8,961               25,429\n",
       "Spain          2020-03-23         35,136              234,881\n",
       "United Kingdom 2020-03-23          6,726               34,233\n",
       "United States  2020-03-23         43,847              318,445"
      ]
     },
     "execution_count": 7,
     "metadata": {},
     "output_type": "execute_result"
    }
   ],
   "source": [
    "#hide_input\n",
    "label1 = 'Observed Cases'\n",
    "label2 = 'Estimate of Infected'\n",
    "temp = pd.concat([x.copy() for x in data_countries_pc]).loc[lambda x: x.date >= '3/1/2020']\n",
    "\n",
    "metric_name1 = f'{label1}'\n",
    "metric_name2 = f'{label2}'\n",
    "temp.columns = ['Country', 'Date', metric_name1, metric_name2]\n",
    "# temp.loc[:, 'month'] = temp.date.dt.strftime('%Y-%m')\n",
    "temp.loc[:, \"Observed Cases\"] = temp.loc[:, \"Observed Cases\"].round(0).map('{:,.0f}'.format)\n",
    "temp.loc[:, \"Estimate of Infected\"] = temp.loc[:, \"Estimate of Infected\"].round(0).map('{:,.0f}'.format)\n",
    "temp.groupby('Country').last()"
   ]
  },
  {
   "cell_type": "markdown",
   "metadata": {
    "papermill": {
     "duration": 0.015171,
     "end_time": "2020-03-24T18:30:36.561594",
     "exception": false,
     "start_time": "2020-03-24T18:30:36.546423",
     "status": "completed"
    },
    "tags": []
   },
   "source": [
    "## Methodology"
   ]
  },
  {
   "cell_type": "markdown",
   "metadata": {
    "papermill": {
     "duration": 0.015421,
     "end_time": "2020-03-24T18:30:36.592607",
     "exception": false,
     "start_time": "2020-03-24T18:30:36.577186",
     "status": "completed"
    },
    "tags": []
   },
   "source": [
    "We argue that the number of infected in the past can be infered using today's number of deaths and average fatality rate from confirmed cases in the following way:\n",
    "\n",
    "{% raw %}\n",
    "$$ I_{t-j} = \\frac{D_t}{{CFR}_t}$$\n",
    "{% endraw %}\n",
    "\n",
    "where {% raw %}$I_t${% endraw %} = number of infected, {% raw %}$D_t${% endraw %} = number of deaths, and {% raw %}${CFR}_t ${% endraw %} = case fatality rate = {% raw %}$\\frac{D}{C}${% endraw %}. The {% raw %}$j${% endraw %} depends on the average number of days that covid patients die after having the first symptoms."
   ]
  },
  {
   "cell_type": "markdown",
   "metadata": {
    "papermill": {
     "duration": 0.015092,
     "end_time": "2020-03-24T18:30:36.623404",
     "exception": false,
     "start_time": "2020-03-24T18:30:36.608312",
     "status": "completed"
    },
    "tags": []
   },
   "source": [
    "**Assumption 1**: The case fatality rate is a good proxy for the fatality rate of the infected population\n"
   ]
  },
  {
   "cell_type": "markdown",
   "metadata": {
    "papermill": {
     "duration": 0.015819,
     "end_time": "2020-03-24T18:30:36.654438",
     "exception": false,
     "start_time": "2020-03-24T18:30:36.638619",
     "status": "completed"
    },
    "tags": []
   },
   "source": [
    "Then, in order to estimate the current number of infected {% raw %}$I_t${% endraw %} we need to estimate its growth rate from {% raw %}$t-j${% endraw %} to {% raw %}$t${% endraw %}.\n",
    "\n",
    "{% raw %}\n",
    "$$I_t = (1+\\hat{g})^j I_{t-j}$$\n",
    "{% endraw %}"
   ]
  },
  {
   "cell_type": "markdown",
   "metadata": {
    "papermill": {
     "duration": 0.015192,
     "end_time": "2020-03-24T18:30:36.685222",
     "exception": false,
     "start_time": "2020-03-24T18:30:36.670030",
     "status": "completed"
    },
    "tags": []
   },
   "source": [
    "**Assumption 2**: The growth rate of infected $\\hat{g}$ is an unbiased estimate of $g$ .\n",
    "\n",
    "For now we estimate $g$ using the average growth rate since having the first infected person."
   ]
  },
  {
   "cell_type": "markdown",
   "metadata": {
    "papermill": {
     "duration": 0.015453,
     "end_time": "2020-03-24T18:30:36.716978",
     "exception": false,
     "start_time": "2020-03-24T18:30:36.701525",
     "status": "completed"
    },
    "tags": []
   },
   "source": [
    "**Assumption 3**: It takes on average 8 days to die after having the first symptoms."
   ]
  },
  {
   "cell_type": "markdown",
   "metadata": {
    "papermill": {
     "duration": 0.016017,
     "end_time": "2020-03-24T18:30:36.749112",
     "exception": false,
     "start_time": "2020-03-24T18:30:36.733095",
     "status": "completed"
    },
    "tags": []
   },
   "source": [
    "This analysis was conducted by [Joao B. Duarte](https://www.jbduarte.com). Relevant sources are listed below: \n",
    "\n",
    "\n",
    "1. [2019 Novel Coronavirus COVID-19 (2019-nCoV) Data Repository by Johns Hopkins CSSE](https://systems.jhu.edu/research/public-health/ncov/) [GitHub repository](https://github.com/CSSEGISandData/COVID-19). \n",
    "\n",
    "2. [Feenstra, Robert C., Robert Inklaar and Marcel P. Timmer (2015), \"The Next Generation of the Penn World Table\" American Economic Review, 105(10), 3150-3182](https://www.rug.nl/ggdc/productivity/pwt/related-research)\n"
   ]
  },
  {
   "cell_type": "code",
   "execution_count": null,
   "metadata": {
    "papermill": {
     "duration": 0.016757,
     "end_time": "2020-03-24T18:30:36.781356",
     "exception": false,
     "start_time": "2020-03-24T18:30:36.764599",
     "status": "completed"
    },
    "tags": []
   },
   "outputs": [],
   "source": []
  }
 ],
 "metadata": {
  "kernelspec": {
   "display_name": "visualization-curriculum-gF8wUgMm",
   "language": "python",
   "name": "visualization-curriculum-gf8wugmm"
  },
  "language_info": {
   "codemirror_mode": {
    "name": "ipython",
    "version": 3
   },
   "file_extension": ".py",
   "mimetype": "text/x-python",
   "name": "python",
   "nbconvert_exporter": "python",
   "pygments_lexer": "ipython3",
   "version": "3.6.10"
  },
  "papermill": {
   "duration": 11.66513,
   "end_time": "2020-03-24T18:30:36.803660",
   "environment_variables": {},
   "exception": null,
   "input_path": "2020-03-19-estimating_infected.ipynb",
   "output_path": "2020-03-19-estimating_infected.ipynb",
   "parameters": {},
   "start_time": "2020-03-24T18:30:25.138530",
   "version": "2.0.0"
  },
  "toc": {
   "base_numbering": 1,
   "nav_menu": {},
   "number_sections": true,
   "sideBar": true,
   "skip_h1_title": false,
   "title_cell": "Table of Contents",
   "title_sidebar": "Contents",
   "toc_cell": false,
   "toc_position": {},
   "toc_section_display": true,
   "toc_window_display": false
  },
  "varInspector": {
   "cols": {
    "lenName": 16,
    "lenType": 16,
    "lenVar": 40
   },
   "kernels_config": {
    "python": {
     "delete_cmd_postfix": "",
     "delete_cmd_prefix": "del ",
     "library": "var_list.py",
     "varRefreshCmd": "print(var_dic_list())"
    },
    "r": {
     "delete_cmd_postfix": ") ",
     "delete_cmd_prefix": "rm(",
     "library": "var_list.r",
     "varRefreshCmd": "cat(var_dic_list()) "
    }
   },
   "types_to_exclude": [
    "module",
    "function",
    "builtin_function_or_method",
    "instance",
    "_Feature"
   ],
   "window_display": false
  }
 },
 "nbformat": 4,
 "nbformat_minor": 2
}