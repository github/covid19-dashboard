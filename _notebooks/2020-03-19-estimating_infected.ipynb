{
 "cells": [
  {
   "cell_type": "markdown",
   "metadata": {
    "papermill": {
     "duration": 0.018323,
     "end_time": "2020-03-25T06:23:38.257681",
     "exception": false,
     "start_time": "2020-03-25T06:23:38.239358",
     "status": "completed"
    },
    "tags": []
   },
   "source": [
    "# Estimating The Infected Population From Deaths\n",
    "> Estimating the number of infected people by country based on the number of deaths and case fatality rate. \n",
    "\n",
    "- comments: true\n",
    "- author: Joao B. Duarte\n",
    "- categories: [growth, compare, interactive, estimation]\n",
    "- hide: false\n",
    "- image: images/covid-estimate-infections.png\n",
    "- permalink: /covid-infected/\n",
    "- toc: true"
   ]
  },
  {
   "cell_type": "code",
   "execution_count": 1,
   "metadata": {
    "papermill": {
     "duration": 0.622187,
     "end_time": "2020-03-25T06:23:38.890864",
     "exception": false,
     "start_time": "2020-03-25T06:23:38.268677",
     "status": "completed"
    },
    "tags": []
   },
   "outputs": [],
   "source": [
    "#hide\n",
    "import numpy as np\n",
    "import pandas as pd\n",
    "import matplotlib.pyplot as plt\n",
    "import altair as alt\n",
    "from datetime import timedelta, datetime, date\n",
    "%config InlineBackend.figure_format = 'retina'\n",
    "\n",
    "chart_width = 550\n",
    "chart_height= 400"
   ]
  },
  {
   "cell_type": "code",
   "execution_count": 2,
   "metadata": {
    "papermill": {
     "duration": 0.030869,
     "end_time": "2020-03-25T06:23:38.932009",
     "exception": false,
     "start_time": "2020-03-25T06:23:38.901140",
     "status": "completed"
    },
    "tags": []
   },
   "outputs": [],
   "source": [
    "#hide\n",
    "def plot(data, type1, levels):\n",
    "    data_countries_pc2 = data.copy()\n",
    "    for i in range(0,len(countries)):\n",
    "        data_countries_pc2[i] = data_countries_pc2[i].reset_index()\n",
    "        data_countries_pc2[i]['n_days'] = data_countries_pc2[i].index\n",
    "        if type1 == \"scatter\":\n",
    "            data_countries_pc2[i]['cases'] = data_countries_pc2[i][\"total_cases\"]\n",
    "        data_countries_pc2[i]['infected'] = data_countries_pc2[i][\"total_infected\"]\n",
    "    data_plot = data_countries_pc2[0]\n",
    "    for i in range(1, len(countries)):    \n",
    "        data_plot = pd.concat([data_plot, data_countries_pc2[i]], axis=0)\n",
    "    \n",
    "    if type1 == \"scatter\":\n",
    "        data_plot[\"45_line\"] = data_plot[\"cases\"]\n",
    "\n",
    "    # Plot it using Altair\n",
    "    source = data_plot\n",
    "    \n",
    "    if levels == True:\n",
    "        ylabel = \"Total\"\n",
    "    else :\n",
    "        ylabel = \"Per Million\"\n",
    "\n",
    "    scales = alt.selection_interval(bind='scales')\n",
    "    selection = alt.selection_multi(fields=['location'], bind='legend')\n",
    "\n",
    "    if type1 == \"line\": \n",
    "        base = alt.Chart(source, title =  \"Estimated Infected Population By Country\").encode(\n",
    "            x = alt.X('n_days:Q', title = \"Days since outbreak\"),\n",
    "            y = alt.Y(\"infected:Q\",title = ylabel),\n",
    "            color = alt.Color('location:N', legend=alt.Legend(title=\"Country\", labelFontSize=15, titleFontSize=17),\n",
    "                             scale=alt.Scale(scheme='tableau20'))\n",
    "        )\n",
    "        \n",
    "        shades = base.mark_area().encode(\n",
    "            x='n_days:Q',\n",
    "            y='total_infected_lower:Q',\n",
    "            y2='total_infected_upper:Q',\n",
    "            opacity = alt.condition(selection, alt.value(0.2), alt.value(0.05))\n",
    "        )\n",
    "    \n",
    "        lines = base.mark_line().encode(\n",
    "            opacity = alt.condition(selection, alt.value(1), alt.value(0.1))\n",
    "        ).add_selection(\n",
    "            scales\n",
    "        ).add_selection(\n",
    "            selection\n",
    "        ).properties(\n",
    "            width=chart_width,\n",
    "            height=chart_height\n",
    "        )\n",
    "        return(\n",
    "        ( lines + shades)\n",
    "        .configure_title(fontSize=20)\n",
    "        .configure_axis(labelFontSize=15,titleFontSize=18)\n",
    "        )\n",
    "    \n",
    "    if levels == True:\n",
    "        ylabel = \"Infected\"\n",
    "        xlabel = \"Cases\"\n",
    "    else :\n",
    "        ylabel = \"Per Million Infected\"\n",
    "        xlabel = \"Per Million Cases\"\n",
    "        \n",
    "    if type1 == \"scatter\":\n",
    "        base = alt.Chart(source, title = \"COVID-19 Cases VS Infected\").encode(\n",
    "            x = alt.X('cases:Q', title = xlabel),\n",
    "            y = alt.Y(\"infected:Q\",title = ylabel),\n",
    "            color = alt.Color('location:N', legend=alt.Legend(title=\"Country\", labelFontSize=15, titleFontSize=17),\n",
    "                             scale=alt.Scale(scheme='tableau20')),\n",
    "            opacity = alt.condition(selection, alt.value(1), alt.value(0.1))\n",
    "        )\n",
    "\n",
    "        \n",
    "        scatter = base.mark_point().add_selection(\n",
    "            scales\n",
    "        ).add_selection(\n",
    "            selection\n",
    "        ).properties(\n",
    "            width=chart_width,\n",
    "            height=chart_height\n",
    "        )\n",
    "\n",
    "        line_45 = alt.Chart(source).encode(\n",
    "            x = \"cases:Q\",\n",
    "            y = alt.Y(\"45_line:Q\",  scale=alt.Scale(domain=(0, max(data_plot[\"infected\"])))),\n",
    "        ).mark_line(color=\"grey\", strokeDash=[3,3])\n",
    "        \n",
    "        return(\n",
    "        (scatter + line_45)\n",
    "        .configure_title(fontSize=20)\n",
    "        .configure_axis(labelFontSize=15,titleFontSize=18)\n",
    "        )"
   ]
  },
  {
   "cell_type": "code",
   "execution_count": 3,
   "metadata": {
    "papermill": {
     "duration": 5.344658,
     "end_time": "2020-03-25T06:23:44.286941",
     "exception": false,
     "start_time": "2020-03-25T06:23:38.942283",
     "status": "completed"
    },
    "tags": []
   },
   "outputs": [
    {
     "name": "stderr",
     "output_type": "stream",
     "text": [
      "/opt/hostedtoolcache/Python/3.6.10/x64/lib/python3.6/site-packages/ipykernel_launcher.py:46: RuntimeWarning: invalid value encountered in true_divide\n"
     ]
    }
   ],
   "source": [
    "#hide \n",
    "# Get data on deaths D_t\n",
    "data = pd.read_csv(\"https://raw.githubusercontent.com/CSSEGISandData/COVID-19/master/csse_covid_19_data/csse_covid_19_time_series/time_series_covid19_deaths_global.csv\", \n",
    "                   error_bad_lines=False)\n",
    "data = data.drop(columns=[\"Lat\", \"Long\"])\n",
    "data = data.melt(id_vars= [\"Province/State\", \"Country/Region\"])\n",
    "data = pd.DataFrame(data.groupby(['Country/Region', \"variable\"]).sum())\n",
    "data.reset_index(inplace=True)  \n",
    "data = data.rename(columns={\"Country/Region\": \"location\", \"variable\": \"date\", \"value\": \"total_deaths\"})\n",
    "data['date'] =pd.to_datetime(data.date)\n",
    "data = data.sort_values(by = \"date\")\n",
    "data.loc[data.location == \"US\",\"location\"] = \"United States\"\n",
    "data.loc[data.location == \"Korea, South\",\"location\"] = \"South Korea\"\n",
    "\n",
    "#hide\n",
    "# Get data and clean it\n",
    "data_cases = pd.read_csv(\"https://raw.githubusercontent.com/CSSEGISandData/COVID-19/master/csse_covid_19_data/csse_covid_19_time_series/time_series_covid19_confirmed_global.csv\", error_bad_lines=False)\n",
    "\n",
    "data_cases = data_cases.drop(columns=[\"Lat\", \"Long\"])\n",
    "data_cases = data_cases.melt(id_vars= [\"Province/State\", \"Country/Region\"])\n",
    "data_cases = pd.DataFrame(data_cases.groupby(['Country/Region', \"variable\"]).sum())\n",
    "data_cases.reset_index(inplace=True)  \n",
    "data_cases = data_cases.rename(columns={\"Country/Region\": \"location\", \"variable\": \"date\", \"value\": \"total_cases\"})\n",
    "data_cases['date'] =pd.to_datetime(data_cases.date)\n",
    "data_cases = data_cases.sort_values(by = \"date\")\n",
    "data_cases.loc[data_cases.location == \"US\",\"location\"] = \"United States\"\n",
    "data_cases.loc[data_cases.location == \"Korea, South\",\"location\"] = \"South Korea\"\n",
    "# Add countries\n",
    "countries = [\"China\", \"Italy\", \"Spain\", \"France\", \"United Kingdom\", \"Germany\", \n",
    "             \"Portugal\", \"United States\", \"Singapore\",\"South Korea\", \"Japan\", \n",
    "             \"Brazil\",\"Iran\", \"India\", \"Switzerland\", \"Canada\", \"Australia\"]\n",
    "\n",
    "data_final = pd.merge(data,\n",
    "                 data_cases\n",
    "                 )\n",
    "data_final[\"CFR\"] = data_final[\"total_deaths\"]/data_final[\"total_cases\"]\n",
    "\n",
    "\n",
    "data_final[\"total_infected\"] = np.NaN\n",
    "data_final = data_final.sort_values(by = ['location', 'date'])\n",
    "data_final = data_final.reset_index(drop = True)\n",
    "\n",
    "\n",
    "for j in countries:\n",
    "    for i in data_final[\"date\"].unique()[0:-8]:\n",
    "        data_final.loc[(data_final.date == i) & (data_final.location == j), \"total_infected\"] = data_final.loc[(data_final.date == i + np.timedelta64(8, 'D')) & (data_final.location == j), \"total_deaths\"].iloc[0]/data_final.loc[(data_final.date == i + np.timedelta64(8, 'D')) & (data_final.location == j), \"CFR\"].iloc[0]\n",
    "        \n",
    "\n",
    "# Estimate growth rate of infected, g        \n",
    "data_final['infected_g'] = np.log(data_final['total_infected'])\n",
    "data_final['infected_g'] = data_final['infected_g'].diff() \n",
    "\n",
    "# Estimate number of infected given g\n",
    "today = data_final.date.iloc[-1]\n",
    "for j in countries:\n",
    "    for i in range(7,-1,-1):\n",
    "        data_final.loc[(data_final.location == j) & (data_final.date == today - timedelta(i)), \"total_infected\"] = data_final.loc[data_final.location == j, \"total_infected\"].iloc[-i-2]*(1+data_final.loc[data_final.location == j, \"infected_g\"][-12:-8].aggregate(func = \"mean\"))\n",
    "    \n",
    "\n",
    "\n",
    "# Upper Bound\n",
    "data_final[\"total_infected_upper\"] = np.NaN\n",
    "data_final = data_final.sort_values(by = ['location', 'date'])\n",
    "data_final = data_final.reset_index(drop = True)\n",
    "for j in countries:\n",
    "    for i in data_final[\"date\"].unique()[0:-8]:\n",
    "        data_final.loc[(data_final.date == i) & (data_final.location == j), \"total_infected_upper\"] = data_final.loc[(data_final.date == i + np.timedelta64(8, 'D')) & (data_final.location == j), \"total_deaths\"].iloc[0]/(data_final.loc[(data_final.date == i + np.timedelta64(8, 'D')) & (data_final.location == j), \"CFR\"].iloc[0]*0.7)\n",
    "# Estimate growth rate of infected, g        \n",
    "data_final['infected_g'] = np.log(data_final['total_infected_upper'])\n",
    "data_final['infected_g'] = data_final['infected_g'].diff() \n",
    "# Estimate number of infected given g \n",
    "today = data_final.date.iloc[-1]\n",
    "for j in countries:\n",
    "    for i in range(7,-1,-1):\n",
    "        data_final.loc[(data_final.location == j) & (data_final.date == today - timedelta(i)), \"total_infected_upper\"] = data_final.loc[data_final.location == j, \"total_infected_upper\"].iloc[-i-2]*(1+data_final.loc[data_final.location == j, \"infected_g\"][-12:-8].aggregate(func = \"mean\"))\n",
    "\n",
    "# Lower Bound\n",
    "data_final[\"total_infected_lower\"] = np.NaN\n",
    "data_final = data_final.sort_values(by = ['location', 'date'])\n",
    "data_final = data_final.reset_index(drop = True)\n",
    "for j in countries:\n",
    "    for i in data_final[\"date\"].unique()[0:-8]:\n",
    "        data_final.loc[(data_final.date == i) & (data_final.location == j), \"total_infected_lower\"] = data_final.loc[(data_final.date == i + np.timedelta64(8, 'D')) & (data_final.location == j), \"total_deaths\"].iloc[0]/(data_final.loc[(data_final.date == i + np.timedelta64(8, 'D')) & (data_final.location == j), \"CFR\"].iloc[0]*1.3)\n",
    "# Estimate growth rate of infected, g        \n",
    "data_final['infected_g'] = np.log(data_final['total_infected_lower'])\n",
    "data_final['infected_g'] = data_final['infected_g'].diff() \n",
    "# Estimate number of infected given g \n",
    "today = data_final.date.iloc[-1]\n",
    "for j in countries:\n",
    "    for i in range(7,-1,-1):\n",
    "        data_final.loc[(data_final.location == j) & (data_final.date == today - timedelta(i)), \"total_infected_lower\"] = data_final.loc[data_final.location == j, \"total_infected_lower\"].iloc[-i-2]*(1+data_final.loc[data_final.location == j, \"infected_g\"][-12:-8].aggregate(func = \"mean\"))\n",
    "data_final.loc[data_final.total_infected_lower < data_final.total_cases, \"total_infected_lower\"] = data_final.loc[data_final.total_infected_lower < data_final.total_cases, \"total_cases\"]\n",
    "\n",
    "\n",
    "data_pc = data_final[['location', 'date', 'total_infected', 'total_infected_lower', 'total_infected_upper']].copy()\n",
    "\n",
    "countries = [\"China\", \"Italy\", \"Spain\", \"France\", \"United Kingdom\", \"Germany\", \n",
    "             \"Portugal\", \"United States\", \"Singapore\",\"South Korea\", \"Japan\", \n",
    "             \"Brazil\",\"Iran\"]\n",
    "data_countries = []\n",
    "data_countries_pc = []\n",
    "\n",
    "for i in countries:\n",
    "    data_pc.loc[data_pc.location == i,\"total_infected\"] = data_pc.loc[data_pc.location == i,\"total_infected\"]\n",
    "\n",
    "# Get each country time series\n",
    "filter1 = data_pc[\"total_infected\"] > 1\n",
    "for i in countries:\n",
    "    filter_country = data_pc[\"location\"]== i\n",
    "    data_countries_pc.append(data_pc[filter_country & filter1])      "
   ]
  },
  {
   "cell_type": "markdown",
   "metadata": {
    "papermill": {
     "duration": 0.010835,
     "end_time": "2020-03-25T06:23:44.311582",
     "exception": false,
     "start_time": "2020-03-25T06:23:44.300747",
     "status": "completed"
    },
    "tags": []
   },
   "source": [
    "## Estimated Infected Population By Country\n",
    "\n",
    "by days since outbreak\n",
    "\n",
    "> Tip: Click (Shift+ for multiple) on countries in the legend to filter the visualization. "
   ]
  },
  {
   "cell_type": "code",
   "execution_count": 4,
   "metadata": {
    "papermill": {
     "duration": 1.74482,
     "end_time": "2020-03-25T06:23:46.067274",
     "exception": false,
     "start_time": "2020-03-25T06:23:44.322454",
     "status": "completed"
    },
    "tags": []
   },
   "outputs": [
    {
     "data": {
      "text/html": [
       "\n",
       "<div id=\"altair-viz-88d141ce454c46b59d3005f84539bd5f\"></div>\n",
       "<script type=\"text/javascript\">\n",
       "  (function(spec, embedOpt){\n",
       "    const outputDiv = document.getElementById(\"altair-viz-88d141ce454c46b59d3005f84539bd5f\");\n",
       "    const paths = {\n",
       "      \"vega\": \"https://cdn.jsdelivr.net/npm//vega@5?noext\",\n",
       "      \"vega-lib\": \"https://cdn.jsdelivr.net/npm//vega-lib?noext\",\n",
       "      \"vega-lite\": \"https://cdn.jsdelivr.net/npm//vega-lite@4.0.2?noext\",\n",
       "      \"vega-embed\": \"https://cdn.jsdelivr.net/npm//vega-embed@6?noext\",\n",
       "    };\n",
       "\n",
       "    function loadScript(lib) {\n",
       "      return new Promise(function(resolve, reject) {\n",
       "        var s = document.createElement('script');\n",
       "        s.src = paths[lib];\n",
       "        s.async = true;\n",
       "        s.onload = () => resolve(paths[lib]);\n",
       "        s.onerror = () => reject(`Error loading script: ${paths[lib]}`);\n",
       "        document.getElementsByTagName(\"head\")[0].appendChild(s);\n",
       "      });\n",
       "    }\n",
       "\n",
       "    function showError(err) {\n",
       "      outputDiv.innerHTML = `<div class=\"error\" style=\"color:red;\">${err}</div>`;\n",
       "      throw err;\n",
       "    }\n",
       "\n",
       "    function displayChart(vegaEmbed) {\n",
       "      vegaEmbed(outputDiv, spec, embedOpt)\n",
       "        .catch(err => showError(`Javascript Error: ${err.message}<br>This usually means there's a typo in your chart specification. See the javascript console for the full traceback.`));\n",
       "    }\n",
       "\n",
       "    if(typeof define === \"function\" && define.amd) {\n",
       "      requirejs.config({paths});\n",
       "      require([\"vega-embed\"], displayChart, err => showError(`Error loading script: ${err.message}`));\n",
       "    } else if (typeof vegaEmbed === \"function\") {\n",
       "      displayChart(vegaEmbed);\n",
       "    } else {\n",
       "      loadScript(\"vega\")\n",
       "        .then(() => loadScript(\"vega-lite\"))\n",
       "        .then(() => loadScript(\"vega-embed\"))\n",
       "        .catch(showError)\n",
       "        .then(() => displayChart(vegaEmbed));\n",
       "    }\n",
       "  })({\"config\": {\"view\": {\"continuousWidth\": 400, \"continuousHeight\": 300}, \"axis\": {\"labelFontSize\": 15, \"titleFontSize\": 18}, \"title\": {\"fontSize\": 20}}, \"data\": {\"name\": \"data-c426559f896de9e04f4dda4e32651964\"}, \"mark\": \"line\", \"encoding\": {\"color\": {\"type\": \"nominal\", \"field\": \"location\", \"legend\": {\"labelFontSize\": 15, \"title\": \"Country\", \"titleFontSize\": 17}, \"scale\": {\"scheme\": \"tableau20\"}}, \"opacity\": {\"condition\": {\"value\": 1, \"selection\": \"selector002\"}, \"value\": 0.1}, \"x\": {\"type\": \"quantitative\", \"field\": \"n_days\", \"title\": \"Days since outbreak\"}, \"y\": {\"type\": \"quantitative\", \"field\": \"infected\", \"title\": \"Total\"}}, \"height\": 400, \"selection\": {\"selector001\": {\"type\": \"interval\", \"bind\": \"scales\"}, \"selector002\": {\"type\": \"multi\", \"fields\": [\"location\"], \"bind\": \"legend\"}}, \"title\": \"Estimated Infected Population By Country\", \"width\": 550, \"$schema\": \"https://vega.github.io/schema/vega-lite/v4.0.2.json\", \"datasets\": {\"data-c426559f896de9e04f4dda4e32651964\": [{\"index\": 2079, \"location\": \"China\", \"date\": \"2020-01-22T00:00:00\", \"total_infected\": 8141.0, \"n_days\": 0, \"infected\": 8141.0}, {\"index\": 2080, \"location\": \"China\", \"date\": \"2020-01-23T00:00:00\", \"total_infected\": 9802.0, \"n_days\": 1, \"infected\": 9802.0}, {\"index\": 2081, \"location\": \"China\", \"date\": \"2020-01-24T00:00:00\", \"total_infected\": 11891.0, \"n_days\": 2, \"infected\": 11891.0}, {\"index\": 2082, \"location\": \"China\", \"date\": \"2020-01-25T00:00:00\", \"total_infected\": 16630.0, \"n_days\": 3, \"infected\": 16630.0}, {\"index\": 2083, \"location\": \"China\", \"date\": \"2020-01-26T00:00:00\", \"total_infected\": 19716.0, \"n_days\": 4, \"infected\": 19716.0}, {\"index\": 2084, \"location\": \"China\", \"date\": \"2020-01-27T00:00:00\", \"total_infected\": 23707.0, \"n_days\": 5, \"infected\": 23707.0}, {\"index\": 2085, \"location\": \"China\", \"date\": \"2020-01-28T00:00:00\", \"total_infected\": 27440.0, \"n_days\": 6, \"infected\": 27440.0}, {\"index\": 2086, \"location\": \"China\", \"date\": \"2020-01-29T00:00:00\", \"total_infected\": 30587.0, \"n_days\": 7, \"infected\": 30587.0}, {\"index\": 2087, \"location\": \"China\", \"date\": \"2020-01-30T00:00:00\", \"total_infected\": 34110.0, \"n_days\": 8, \"infected\": 34110.0}, {\"index\": 2088, \"location\": \"China\", \"date\": \"2020-01-31T00:00:00\", \"total_infected\": 36814.0, \"n_days\": 9, \"infected\": 36814.0}, {\"index\": 2089, \"location\": \"China\", \"date\": \"2020-02-01T00:00:00\", \"total_infected\": 39829.0, \"n_days\": 10, \"infected\": 39829.0}, {\"index\": 2090, \"location\": \"China\", \"date\": \"2020-02-02T00:00:00\", \"total_infected\": 42354.0, \"n_days\": 11, \"infected\": 42354.0}, {\"index\": 2091, \"location\": \"China\", \"date\": \"2020-02-03T00:00:00\", \"total_infected\": 44386.0, \"n_days\": 12, \"infected\": 44386.0}, {\"index\": 2092, \"location\": \"China\", \"date\": \"2020-02-04T00:00:00\", \"total_infected\": 44759.0, \"n_days\": 13, \"infected\": 44759.0}, {\"index\": 2093, \"location\": \"China\", \"date\": \"2020-02-05T00:00:00\", \"total_infected\": 59895.0, \"n_days\": 14, \"infected\": 59895.0}, {\"index\": 2094, \"location\": \"China\", \"date\": \"2020-02-06T00:00:00\", \"total_infected\": 66358.0, \"n_days\": 15, \"infected\": 66358.0}, {\"index\": 2095, \"location\": \"China\", \"date\": \"2020-02-07T00:00:00\", \"total_infected\": 68413.0, \"n_days\": 16, \"infected\": 68413.0}, {\"index\": 2096, \"location\": \"China\", \"date\": \"2020-02-08T00:00:00\", \"total_infected\": 70513.0, \"n_days\": 17, \"infected\": 70513.0}, {\"index\": 2097, \"location\": \"China\", \"date\": \"2020-02-09T00:00:00\", \"total_infected\": 72434.0, \"n_days\": 18, \"infected\": 72434.0}, {\"index\": 2098, \"location\": \"China\", \"date\": \"2020-02-10T00:00:00\", \"total_infected\": 74211.0, \"n_days\": 19, \"infected\": 74211.0}, {\"index\": 2099, \"location\": \"China\", \"date\": \"2020-02-11T00:00:00\", \"total_infected\": 74619.0, \"n_days\": 20, \"infected\": 74619.0}, {\"index\": 2100, \"location\": \"China\", \"date\": \"2020-02-12T00:00:00\", \"total_infected\": 75077.0, \"n_days\": 21, \"infected\": 75077.0}, {\"index\": 2101, \"location\": \"China\", \"date\": \"2020-02-13T00:00:00\", \"total_infected\": 75550.0, \"n_days\": 22, \"infected\": 75550.0}, {\"index\": 2102, \"location\": \"China\", \"date\": \"2020-02-14T00:00:00\", \"total_infected\": 77001.0, \"n_days\": 23, \"infected\": 77001.0}, {\"index\": 2103, \"location\": \"China\", \"date\": \"2020-02-15T00:00:00\", \"total_infected\": 77022.0, \"n_days\": 24, \"infected\": 77022.0}, {\"index\": 2104, \"location\": \"China\", \"date\": \"2020-02-16T00:00:00\", \"total_infected\": 77241.0, \"n_days\": 25, \"infected\": 77241.0}, {\"index\": 2105, \"location\": \"China\", \"date\": \"2020-02-17T00:00:00\", \"total_infected\": 77754.0, \"n_days\": 26, \"infected\": 77754.0}, {\"index\": 2106, \"location\": \"China\", \"date\": \"2020-02-18T00:00:00\", \"total_infected\": 78166.0, \"n_days\": 27, \"infected\": 78166.0}, {\"index\": 2107, \"location\": \"China\", \"date\": \"2020-02-19T00:00:00\", \"total_infected\": 78600.0, \"n_days\": 28, \"infected\": 78600.0}, {\"index\": 2108, \"location\": \"China\", \"date\": \"2020-02-20T00:00:00\", \"total_infected\": 78928.0, \"n_days\": 29, \"infected\": 78928.0}, {\"index\": 2109, \"location\": \"China\", \"date\": \"2020-02-21T00:00:00\", \"total_infected\": 79356.0, \"n_days\": 30, \"infected\": 79356.0}, {\"index\": 2110, \"location\": \"China\", \"date\": \"2020-02-22T00:00:00\", \"total_infected\": 79932.0, \"n_days\": 31, \"infected\": 79932.0}, {\"index\": 2111, \"location\": \"China\", \"date\": \"2020-02-23T00:00:00\", \"total_infected\": 80136.0, \"n_days\": 32, \"infected\": 80136.0}, {\"index\": 2112, \"location\": \"China\", \"date\": \"2020-02-24T00:00:00\", \"total_infected\": 80261.0, \"n_days\": 33, \"infected\": 80261.0}, {\"index\": 2113, \"location\": \"China\", \"date\": \"2020-02-25T00:00:00\", \"total_infected\": 80386.0, \"n_days\": 34, \"infected\": 80386.0}, {\"index\": 2114, \"location\": \"China\", \"date\": \"2020-02-26T00:00:00\", \"total_infected\": 80537.0, \"n_days\": 35, \"infected\": 80537.0}, {\"index\": 2115, \"location\": \"China\", \"date\": \"2020-02-27T00:00:00\", \"total_infected\": 80690.0, \"n_days\": 36, \"infected\": 80690.0}, {\"index\": 2116, \"location\": \"China\", \"date\": \"2020-02-28T00:00:00\", \"total_infected\": 80770.0, \"n_days\": 37, \"infected\": 80770.0}, {\"index\": 2117, \"location\": \"China\", \"date\": \"2020-02-29T00:00:00\", \"total_infected\": 80823.0, \"n_days\": 38, \"infected\": 80823.0}, {\"index\": 2118, \"location\": \"China\", \"date\": \"2020-03-01T00:00:00\", \"total_infected\": 80860.0, \"n_days\": 39, \"infected\": 80860.0}, {\"index\": 2119, \"location\": \"China\", \"date\": \"2020-03-02T00:00:00\", \"total_infected\": 80887.0, \"n_days\": 40, \"infected\": 80887.0}, {\"index\": 2120, \"location\": \"China\", \"date\": \"2020-03-03T00:00:00\", \"total_infected\": 80921.0, \"n_days\": 41, \"infected\": 80921.0}, {\"index\": 2121, \"location\": \"China\", \"date\": \"2020-03-04T00:00:00\", \"total_infected\": 80932.0, \"n_days\": 42, \"infected\": 80932.0}, {\"index\": 2122, \"location\": \"China\", \"date\": \"2020-03-05T00:00:00\", \"total_infected\": 80945.0, \"n_days\": 43, \"infected\": 80945.0}, {\"index\": 2123, \"location\": \"China\", \"date\": \"2020-03-06T00:00:00\", \"total_infected\": 80977.0, \"n_days\": 44, \"infected\": 80977.0}, {\"index\": 2124, \"location\": \"China\", \"date\": \"2020-03-07T00:00:00\", \"total_infected\": 81003.0, \"n_days\": 45, \"infected\": 81003.0}, {\"index\": 2125, \"location\": \"China\", \"date\": \"2020-03-08T00:00:00\", \"total_infected\": 81033.0, \"n_days\": 46, \"infected\": 81033.0}, {\"index\": 2126, \"location\": \"China\", \"date\": \"2020-03-09T00:00:00\", \"total_infected\": 81058.0, \"n_days\": 47, \"infected\": 81058.0}, {\"index\": 2127, \"location\": \"China\", \"date\": \"2020-03-10T00:00:00\", \"total_infected\": 81102.0, \"n_days\": 48, \"infected\": 81102.0}, {\"index\": 2128, \"location\": \"China\", \"date\": \"2020-03-11T00:00:00\", \"total_infected\": 81156.0, \"n_days\": 49, \"infected\": 81156.0}, {\"index\": 2129, \"location\": \"China\", \"date\": \"2020-03-12T00:00:00\", \"total_infected\": 81250.0, \"n_days\": 50, \"infected\": 81250.0}, {\"index\": 2130, \"location\": \"China\", \"date\": \"2020-03-13T00:00:00\", \"total_infected\": 81305.0, \"n_days\": 51, \"infected\": 81305.0}, {\"index\": 2131, \"location\": \"China\", \"date\": \"2020-03-14T00:00:00\", \"total_infected\": 81435.0, \"n_days\": 52, \"infected\": 81435.0}, {\"index\": 2132, \"location\": \"China\", \"date\": \"2020-03-15T00:00:00\", \"total_infected\": 81498.0, \"n_days\": 53, \"infected\": 81498.0}, {\"index\": 2133, \"location\": \"China\", \"date\": \"2020-03-16T00:00:00\", \"total_infected\": 81591.0, \"n_days\": 54, \"infected\": 81591.0}, {\"index\": 2134, \"location\": \"China\", \"date\": \"2020-03-17T00:00:00\", \"total_infected\": 85073.43372932317, \"n_days\": 55, \"infected\": 85073.43372932317}, {\"index\": 2135, \"location\": \"China\", \"date\": \"2020-03-18T00:00:00\", \"total_infected\": 88704.5032723896, \"n_days\": 56, \"infected\": 88704.5032723896}, {\"index\": 2136, \"location\": \"China\", \"date\": \"2020-03-19T00:00:00\", \"total_infected\": 92490.55264227875, \"n_days\": 57, \"infected\": 92490.55264227875}, {\"index\": 2137, \"location\": \"China\", \"date\": \"2020-03-20T00:00:00\", \"total_infected\": 96438.1966246446, \"n_days\": 58, \"infected\": 96438.1966246446}, {\"index\": 2138, \"location\": \"China\", \"date\": \"2020-03-21T00:00:00\", \"total_infected\": 100554.33233471999, \"n_days\": 59, \"infected\": 100554.33233471999}, {\"index\": 2139, \"location\": \"China\", \"date\": \"2020-03-22T00:00:00\", \"total_infected\": 104846.15126759249, \"n_days\": 60, \"infected\": 104846.15126759249}, {\"index\": 2140, \"location\": \"China\", \"date\": \"2020-03-23T00:00:00\", \"total_infected\": 109321.15186280498, \"n_days\": 61, \"infected\": 109321.15186280498}, {\"index\": 2141, \"location\": \"China\", \"date\": \"2020-03-24T00:00:00\", \"total_infected\": 113987.15260523358, \"n_days\": 62, \"infected\": 113987.15260523358}, {\"index\": 5062, \"location\": \"Italy\", \"date\": \"2020-02-13T00:00:00\", \"total_infected\": 20.0, \"n_days\": 0, \"infected\": 20.0}, {\"index\": 5063, \"location\": \"Italy\", \"date\": \"2020-02-14T00:00:00\", \"total_infected\": 62.0, \"n_days\": 1, \"infected\": 62.0}, {\"index\": 5064, \"location\": \"Italy\", \"date\": \"2020-02-15T00:00:00\", \"total_infected\": 155.0, \"n_days\": 2, \"infected\": 155.0}, {\"index\": 5065, \"location\": \"Italy\", \"date\": \"2020-02-16T00:00:00\", \"total_infected\": 229.0, \"n_days\": 3, \"infected\": 229.0}, {\"index\": 5066, \"location\": \"Italy\", \"date\": \"2020-02-17T00:00:00\", \"total_infected\": 322.0, \"n_days\": 4, \"infected\": 322.0}, {\"index\": 5067, \"location\": \"Italy\", \"date\": \"2020-02-18T00:00:00\", \"total_infected\": 453.0, \"n_days\": 5, \"infected\": 453.0}, {\"index\": 5068, \"location\": \"Italy\", \"date\": \"2020-02-19T00:00:00\", \"total_infected\": 655.0, \"n_days\": 6, \"infected\": 655.0}, {\"index\": 5069, \"location\": \"Italy\", \"date\": \"2020-02-20T00:00:00\", \"total_infected\": 888.0, \"n_days\": 7, \"infected\": 888.0}, {\"index\": 5070, \"location\": \"Italy\", \"date\": \"2020-02-21T00:00:00\", \"total_infected\": 1128.0, \"n_days\": 8, \"infected\": 1128.0}, {\"index\": 5071, \"location\": \"Italy\", \"date\": \"2020-02-22T00:00:00\", \"total_infected\": 1694.0, \"n_days\": 9, \"infected\": 1694.0}, {\"index\": 5072, \"location\": \"Italy\", \"date\": \"2020-02-23T00:00:00\", \"total_infected\": 2036.0, \"n_days\": 10, \"infected\": 2036.0}, {\"index\": 5073, \"location\": \"Italy\", \"date\": \"2020-02-24T00:00:00\", \"total_infected\": 2502.0, \"n_days\": 11, \"infected\": 2502.0}, {\"index\": 5074, \"location\": \"Italy\", \"date\": \"2020-02-25T00:00:00\", \"total_infected\": 3089.0, \"n_days\": 12, \"infected\": 3089.0}, {\"index\": 5075, \"location\": \"Italy\", \"date\": \"2020-02-26T00:00:00\", \"total_infected\": 3858.0, \"n_days\": 13, \"infected\": 3858.0}, {\"index\": 5076, \"location\": \"Italy\", \"date\": \"2020-02-27T00:00:00\", \"total_infected\": 4636.0, \"n_days\": 14, \"infected\": 4636.0}, {\"index\": 5077, \"location\": \"Italy\", \"date\": \"2020-02-28T00:00:00\", \"total_infected\": 5883.0, \"n_days\": 15, \"infected\": 5883.0}, {\"index\": 5078, \"location\": \"Italy\", \"date\": \"2020-02-29T00:00:00\", \"total_infected\": 7375.0, \"n_days\": 16, \"infected\": 7375.0}, {\"index\": 5079, \"location\": \"Italy\", \"date\": \"2020-03-01T00:00:00\", \"total_infected\": 9172.0, \"n_days\": 17, \"infected\": 9172.0}, {\"index\": 5080, \"location\": \"Italy\", \"date\": \"2020-03-02T00:00:00\", \"total_infected\": 10149.0, \"n_days\": 18, \"infected\": 10149.0}, {\"index\": 5081, \"location\": \"Italy\", \"date\": \"2020-03-03T00:00:00\", \"total_infected\": 12461.999999999998, \"n_days\": 19, \"infected\": 12461.999999999998}, {\"index\": 5082, \"location\": \"Italy\", \"date\": \"2020-03-04T00:00:00\", \"total_infected\": 12461.999999999998, \"n_days\": 20, \"infected\": 12461.999999999998}, {\"index\": 5083, \"location\": \"Italy\", \"date\": \"2020-03-05T00:00:00\", \"total_infected\": 17660.0, \"n_days\": 21, \"infected\": 17660.0}, {\"index\": 5084, \"location\": \"Italy\", \"date\": \"2020-03-06T00:00:00\", \"total_infected\": 21157.0, \"n_days\": 22, \"infected\": 21157.0}, {\"index\": 5085, \"location\": \"Italy\", \"date\": \"2020-03-07T00:00:00\", \"total_infected\": 24747.0, \"n_days\": 23, \"infected\": 24747.0}, {\"index\": 5086, \"location\": \"Italy\", \"date\": \"2020-03-08T00:00:00\", \"total_infected\": 27980.0, \"n_days\": 24, \"infected\": 27980.0}, {\"index\": 5087, \"location\": \"Italy\", \"date\": \"2020-03-09T00:00:00\", \"total_infected\": 31505.999999999996, \"n_days\": 25, \"infected\": 31505.999999999996}, {\"index\": 5088, \"location\": \"Italy\", \"date\": \"2020-03-10T00:00:00\", \"total_infected\": 35713.0, \"n_days\": 26, \"infected\": 35713.0}, {\"index\": 5089, \"location\": \"Italy\", \"date\": \"2020-03-11T00:00:00\", \"total_infected\": 41035.0, \"n_days\": 27, \"infected\": 41035.0}, {\"index\": 5090, \"location\": \"Italy\", \"date\": \"2020-03-12T00:00:00\", \"total_infected\": 47021.0, \"n_days\": 28, \"infected\": 47021.0}, {\"index\": 5091, \"location\": \"Italy\", \"date\": \"2020-03-13T00:00:00\", \"total_infected\": 53578.0, \"n_days\": 29, \"infected\": 53578.0}, {\"index\": 5092, \"location\": \"Italy\", \"date\": \"2020-03-14T00:00:00\", \"total_infected\": 59138.0, \"n_days\": 30, \"infected\": 59138.0}, {\"index\": 5093, \"location\": \"Italy\", \"date\": \"2020-03-15T00:00:00\", \"total_infected\": 63927.0, \"n_days\": 31, \"infected\": 63927.0}, {\"index\": 5094, \"location\": \"Italy\", \"date\": \"2020-03-16T00:00:00\", \"total_infected\": 69176.0, \"n_days\": 32, \"infected\": 69176.0}, {\"index\": 5095, \"location\": \"Italy\", \"date\": \"2020-03-17T00:00:00\", \"total_infected\": 86791.40247683375, \"n_days\": 33, \"infected\": 86791.40247683375}, {\"index\": 5096, \"location\": \"Italy\", \"date\": \"2020-03-18T00:00:00\", \"total_infected\": 108892.4994780812, \"n_days\": 34, \"infected\": 108892.4994780812}, {\"index\": 5097, \"location\": \"Italy\", \"date\": \"2020-03-19T00:00:00\", \"total_infected\": 136621.55587068573, \"n_days\": 35, \"infected\": 136621.55587068573}, {\"index\": 5098, \"location\": \"Italy\", \"date\": \"2020-03-20T00:00:00\", \"total_infected\": 171411.7098789163, \"n_days\": 36, \"infected\": 171411.7098789163}, {\"index\": 5099, \"location\": \"Italy\", \"date\": \"2020-03-21T00:00:00\", \"total_infected\": 215061.04286664864, \"n_days\": 37, \"infected\": 215061.04286664864}, {\"index\": 5100, \"location\": \"Italy\", \"date\": \"2020-03-22T00:00:00\", \"total_infected\": 269825.5107049685, \"n_days\": 38, \"infected\": 269825.5107049685}, {\"index\": 5101, \"location\": \"Italy\", \"date\": \"2020-03-23T00:00:00\", \"total_infected\": 338535.5397552928, \"n_days\": 39, \"infected\": 338535.5397552928}, {\"index\": 5102, \"location\": \"Italy\", \"date\": \"2020-03-24T00:00:00\", \"total_infected\": 424742.31357137987, \"n_days\": 40, \"infected\": 424742.31357137987}, {\"index\": 9105, \"location\": \"Spain\", \"date\": \"2020-02-24T00:00:00\", \"total_infected\": 165.0, \"n_days\": 0, \"infected\": 165.0}, {\"index\": 9106, \"location\": \"Spain\", \"date\": \"2020-02-25T00:00:00\", \"total_infected\": 222.0, \"n_days\": 1, \"infected\": 222.0}, {\"index\": 9107, \"location\": \"Spain\", \"date\": \"2020-02-26T00:00:00\", \"total_infected\": 259.0, \"n_days\": 2, \"infected\": 259.0}, {\"index\": 9108, \"location\": \"Spain\", \"date\": \"2020-02-27T00:00:00\", \"total_infected\": 400.0, \"n_days\": 3, \"infected\": 400.0}, {\"index\": 9109, \"location\": \"Spain\", \"date\": \"2020-02-28T00:00:00\", \"total_infected\": 500.0, \"n_days\": 4, \"infected\": 500.0}, {\"index\": 9110, \"location\": \"Spain\", \"date\": \"2020-02-29T00:00:00\", \"total_infected\": 673.0, \"n_days\": 5, \"infected\": 673.0}, {\"index\": 9111, \"location\": \"Spain\", \"date\": \"2020-03-01T00:00:00\", \"total_infected\": 1073.0, \"n_days\": 6, \"infected\": 1073.0}, {\"index\": 9112, \"location\": \"Spain\", \"date\": \"2020-03-02T00:00:00\", \"total_infected\": 1695.0, \"n_days\": 7, \"infected\": 1695.0}, {\"index\": 9113, \"location\": \"Spain\", \"date\": \"2020-03-03T00:00:00\", \"total_infected\": 2277.0, \"n_days\": 8, \"infected\": 2277.0}, {\"index\": 9114, \"location\": \"Spain\", \"date\": \"2020-03-04T00:00:00\", \"total_infected\": 2277.0, \"n_days\": 9, \"infected\": 2277.0}, {\"index\": 9115, \"location\": \"Spain\", \"date\": \"2020-03-05T00:00:00\", \"total_infected\": 5232.0, \"n_days\": 10, \"infected\": 5232.0}, {\"index\": 9116, \"location\": \"Spain\", \"date\": \"2020-03-06T00:00:00\", \"total_infected\": 6391.0, \"n_days\": 11, \"infected\": 6391.0}, {\"index\": 9117, \"location\": \"Spain\", \"date\": \"2020-03-07T00:00:00\", \"total_infected\": 7798.0, \"n_days\": 12, \"infected\": 7798.0}, {\"index\": 9118, \"location\": \"Spain\", \"date\": \"2020-03-08T00:00:00\", \"total_infected\": 9942.0, \"n_days\": 13, \"infected\": 9942.0}, {\"index\": 9119, \"location\": \"Spain\", \"date\": \"2020-03-09T00:00:00\", \"total_infected\": 11748.0, \"n_days\": 14, \"infected\": 11748.0}, {\"index\": 9120, \"location\": \"Spain\", \"date\": \"2020-03-10T00:00:00\", \"total_infected\": 13909.999999999998, \"n_days\": 15, \"infected\": 13909.999999999998}, {\"index\": 9121, \"location\": \"Spain\", \"date\": \"2020-03-11T00:00:00\", \"total_infected\": 17963.0, \"n_days\": 16, \"infected\": 17963.0}, {\"index\": 9122, \"location\": \"Spain\", \"date\": \"2020-03-12T00:00:00\", \"total_infected\": 20410.0, \"n_days\": 17, \"infected\": 20410.0}, {\"index\": 9123, \"location\": \"Spain\", \"date\": \"2020-03-13T00:00:00\", \"total_infected\": 25374.0, \"n_days\": 18, \"infected\": 25374.0}, {\"index\": 9124, \"location\": \"Spain\", \"date\": \"2020-03-14T00:00:00\", \"total_infected\": 28768.0, \"n_days\": 19, \"infected\": 28768.0}, {\"index\": 9125, \"location\": \"Spain\", \"date\": \"2020-03-15T00:00:00\", \"total_infected\": 35136.0, \"n_days\": 20, \"infected\": 35136.0}, {\"index\": 9126, \"location\": \"Spain\", \"date\": \"2020-03-16T00:00:00\", \"total_infected\": 39885.0, \"n_days\": 21, \"infected\": 39885.0}, {\"index\": 9127, \"location\": \"Spain\", \"date\": \"2020-03-17T00:00:00\", \"total_infected\": 50307.91936067452, \"n_days\": 22, \"infected\": 50307.91936067452}, {\"index\": 9128, \"location\": \"Spain\", \"date\": \"2020-03-18T00:00:00\", \"total_infected\": 63454.60073712247, \"n_days\": 23, \"infected\": 63454.60073712247}, {\"index\": 9129, \"location\": \"Spain\", \"date\": \"2020-03-19T00:00:00\", \"total_infected\": 80036.82930793418, \"n_days\": 24, \"infected\": 80036.82930793418}, {\"index\": 9130, \"location\": \"Spain\", \"date\": \"2020-03-20T00:00:00\", \"total_infected\": 100952.39700909173, \"n_days\": 25, \"infected\": 100952.39700909173}, {\"index\": 9131, \"location\": \"Spain\", \"date\": \"2020-03-21T00:00:00\", \"total_infected\": 127333.71061803149, \"n_days\": 26, \"infected\": 127333.71061803149}, {\"index\": 9132, \"location\": \"Spain\", \"date\": \"2020-03-22T00:00:00\", \"total_infected\": 160609.10231082843, \"n_days\": 27, \"infected\": 160609.10231082843}, {\"index\": 9133, \"location\": \"Spain\", \"date\": \"2020-03-23T00:00:00\", \"total_infected\": 202580.1621572892, \"n_days\": 28, \"infected\": 202580.1621572892}, {\"index\": 9134, \"location\": \"Spain\", \"date\": \"2020-03-24T00:00:00\", \"total_infected\": 255519.27947552392, \"n_days\": 29, \"infected\": 255519.27947552392}, {\"index\": 3670, \"location\": \"France\", \"date\": \"2020-02-07T00:00:00\", \"total_infected\": 12.0, \"n_days\": 0, \"infected\": 12.0}, {\"index\": 3671, \"location\": \"France\", \"date\": \"2020-02-08T00:00:00\", \"total_infected\": 12.0, \"n_days\": 1, \"infected\": 12.0}, {\"index\": 3672, \"location\": \"France\", \"date\": \"2020-02-09T00:00:00\", \"total_infected\": 12.0, \"n_days\": 2, \"infected\": 12.0}, {\"index\": 3673, \"location\": \"France\", \"date\": \"2020-02-10T00:00:00\", \"total_infected\": 12.0, \"n_days\": 3, \"infected\": 12.0}, {\"index\": 3674, \"location\": \"France\", \"date\": \"2020-02-11T00:00:00\", \"total_infected\": 12.0, \"n_days\": 4, \"infected\": 12.0}, {\"index\": 3675, \"location\": \"France\", \"date\": \"2020-02-12T00:00:00\", \"total_infected\": 12.0, \"n_days\": 5, \"infected\": 12.0}, {\"index\": 3676, \"location\": \"France\", \"date\": \"2020-02-13T00:00:00\", \"total_infected\": 12.0, \"n_days\": 6, \"infected\": 12.0}, {\"index\": 3677, \"location\": \"France\", \"date\": \"2020-02-14T00:00:00\", \"total_infected\": 12.0, \"n_days\": 7, \"infected\": 12.0}, {\"index\": 3678, \"location\": \"France\", \"date\": \"2020-02-15T00:00:00\", \"total_infected\": 12.0, \"n_days\": 8, \"infected\": 12.0}, {\"index\": 3679, \"location\": \"France\", \"date\": \"2020-02-16T00:00:00\", \"total_infected\": 12.0, \"n_days\": 9, \"infected\": 12.0}, {\"index\": 3680, \"location\": \"France\", \"date\": \"2020-02-17T00:00:00\", \"total_infected\": 14.0, \"n_days\": 10, \"infected\": 14.0}, {\"index\": 3681, \"location\": \"France\", \"date\": \"2020-02-18T00:00:00\", \"total_infected\": 18.0, \"n_days\": 11, \"infected\": 18.0}, {\"index\": 3682, \"location\": \"France\", \"date\": \"2020-02-19T00:00:00\", \"total_infected\": 38.0, \"n_days\": 12, \"infected\": 38.0}, {\"index\": 3683, \"location\": \"France\", \"date\": \"2020-02-20T00:00:00\", \"total_infected\": 57.0, \"n_days\": 13, \"infected\": 57.0}, {\"index\": 3684, \"location\": \"France\", \"date\": \"2020-02-21T00:00:00\", \"total_infected\": 100.0, \"n_days\": 14, \"infected\": 100.0}, {\"index\": 3685, \"location\": \"France\", \"date\": \"2020-02-22T00:00:00\", \"total_infected\": 130.0, \"n_days\": 15, \"infected\": 130.0}, {\"index\": 3686, \"location\": \"France\", \"date\": \"2020-02-23T00:00:00\", \"total_infected\": 191.0, \"n_days\": 16, \"infected\": 191.0}, {\"index\": 3687, \"location\": \"France\", \"date\": \"2020-02-24T00:00:00\", \"total_infected\": 204.0, \"n_days\": 17, \"infected\": 204.0}, {\"index\": 3688, \"location\": \"France\", \"date\": \"2020-02-25T00:00:00\", \"total_infected\": 288.0, \"n_days\": 18, \"infected\": 288.0}, {\"index\": 3689, \"location\": \"France\", \"date\": \"2020-02-26T00:00:00\", \"total_infected\": 380.0, \"n_days\": 19, \"infected\": 380.0}, {\"index\": 3690, \"location\": \"France\", \"date\": \"2020-02-27T00:00:00\", \"total_infected\": 656.0, \"n_days\": 20, \"infected\": 656.0}, {\"index\": 3691, \"location\": \"France\", \"date\": \"2020-02-28T00:00:00\", \"total_infected\": 959.0, \"n_days\": 21, \"infected\": 959.0}, {\"index\": 3692, \"location\": \"France\", \"date\": \"2020-02-29T00:00:00\", \"total_infected\": 1136.0, \"n_days\": 22, \"infected\": 1136.0}, {\"index\": 3693, \"location\": \"France\", \"date\": \"2020-03-01T00:00:00\", \"total_infected\": 1219.0, \"n_days\": 23, \"infected\": 1219.0}, {\"index\": 3694, \"location\": \"France\", \"date\": \"2020-03-02T00:00:00\", \"total_infected\": 1793.9999999999998, \"n_days\": 24, \"infected\": 1793.9999999999998}, {\"index\": 3695, \"location\": \"France\", \"date\": \"2020-03-03T00:00:00\", \"total_infected\": 2293.0, \"n_days\": 25, \"infected\": 2293.0}, {\"index\": 3696, \"location\": \"France\", \"date\": \"2020-03-04T00:00:00\", \"total_infected\": 2293.0, \"n_days\": 26, \"infected\": 2293.0}, {\"index\": 3697, \"location\": \"France\", \"date\": \"2020-03-05T00:00:00\", \"total_infected\": 3681.0, \"n_days\": 27, \"infected\": 3681.0}, {\"index\": 3698, \"location\": \"France\", \"date\": \"2020-03-06T00:00:00\", \"total_infected\": 4496.0, \"n_days\": 28, \"infected\": 4496.0}, {\"index\": 3699, \"location\": \"France\", \"date\": \"2020-03-07T00:00:00\", \"total_infected\": 4532.0, \"n_days\": 29, \"infected\": 4532.0}, {\"index\": 3700, \"location\": \"France\", \"date\": \"2020-03-08T00:00:00\", \"total_infected\": 6683.0, \"n_days\": 30, \"infected\": 6683.0}, {\"index\": 3701, \"location\": \"France\", \"date\": \"2020-03-09T00:00:00\", \"total_infected\": 7715.0, \"n_days\": 31, \"infected\": 7715.0}, {\"index\": 3702, \"location\": \"France\", \"date\": \"2020-03-10T00:00:00\", \"total_infected\": 9124.0, \"n_days\": 32, \"infected\": 9124.0}, {\"index\": 3703, \"location\": \"France\", \"date\": \"2020-03-11T00:00:00\", \"total_infected\": 10970.0, \"n_days\": 33, \"infected\": 10970.0}, {\"index\": 3704, \"location\": \"France\", \"date\": \"2020-03-12T00:00:00\", \"total_infected\": 12758.0, \"n_days\": 34, \"infected\": 12758.0}, {\"index\": 3705, \"location\": \"France\", \"date\": \"2020-03-13T00:00:00\", \"total_infected\": 14463.0, \"n_days\": 35, \"infected\": 14463.0}, {\"index\": 3706, \"location\": \"France\", \"date\": \"2020-03-14T00:00:00\", \"total_infected\": 16243.0, \"n_days\": 36, \"infected\": 16243.0}, {\"index\": 3707, \"location\": \"France\", \"date\": \"2020-03-15T00:00:00\", \"total_infected\": 20123.0, \"n_days\": 37, \"infected\": 20123.0}, {\"index\": 3708, \"location\": \"France\", \"date\": \"2020-03-16T00:00:00\", \"total_infected\": 22622.0, \"n_days\": 38, \"infected\": 22622.0}, {\"index\": 3709, \"location\": \"France\", \"date\": \"2020-03-17T00:00:00\", \"total_infected\": 27111.735662472314, \"n_days\": 39, \"infected\": 27111.735662472314}, {\"index\": 3710, \"location\": \"France\", \"date\": \"2020-03-18T00:00:00\", \"total_infected\": 32492.53870708925, \"n_days\": 40, \"infected\": 32492.53870708925}, {\"index\": 3711, \"location\": \"France\", \"date\": \"2020-03-19T00:00:00\", \"total_infected\": 38941.25720224797, \"n_days\": 41, \"infected\": 38941.25720224797}, {\"index\": 3712, \"location\": \"France\", \"date\": \"2020-03-20T00:00:00\", \"total_infected\": 46669.837840672495, \"n_days\": 42, \"infected\": 46669.837840672495}, {\"index\": 3713, \"location\": \"France\", \"date\": \"2020-03-21T00:00:00\", \"total_infected\": 55932.29188165327, \"n_days\": 43, \"infected\": 55932.29188165327}, {\"index\": 3714, \"location\": \"France\", \"date\": \"2020-03-22T00:00:00\", \"total_infected\": 67033.04360762221, \"n_days\": 44, \"infected\": 67033.04360762221}, {\"index\": 3715, \"location\": \"France\", \"date\": \"2020-03-23T00:00:00\", \"total_infected\": 80336.93567946392, \"n_days\": 45, \"infected\": 80336.93567946392}, {\"index\": 3716, \"location\": \"France\", \"date\": \"2020-03-24T00:00:00\", \"total_infected\": 96281.22023139715, \"n_days\": 46, \"infected\": 96281.22023139715}, {\"index\": 10241, \"location\": \"United Kingdom\", \"date\": \"2020-02-26T00:00:00\", \"total_infected\": 116.0, \"n_days\": 0, \"infected\": 116.0}, {\"index\": 10242, \"location\": \"United Kingdom\", \"date\": \"2020-02-27T00:00:00\", \"total_infected\": 164.0, \"n_days\": 1, \"infected\": 164.0}, {\"index\": 10243, \"location\": \"United Kingdom\", \"date\": \"2020-02-28T00:00:00\", \"total_infected\": 207.0, \"n_days\": 2, \"infected\": 207.0}, {\"index\": 10244, \"location\": \"United Kingdom\", \"date\": \"2020-02-29T00:00:00\", \"total_infected\": 274.0, \"n_days\": 3, \"infected\": 274.0}, {\"index\": 10245, \"location\": \"United Kingdom\", \"date\": \"2020-03-01T00:00:00\", \"total_infected\": 322.0, \"n_days\": 4, \"infected\": 322.0}, {\"index\": 10246, \"location\": \"United Kingdom\", \"date\": \"2020-03-02T00:00:00\", \"total_infected\": 384.0, \"n_days\": 5, \"infected\": 384.0}, {\"index\": 10247, \"location\": \"United Kingdom\", \"date\": \"2020-03-03T00:00:00\", \"total_infected\": 458.99999999999994, \"n_days\": 6, \"infected\": 458.99999999999994}, {\"index\": 10248, \"location\": \"United Kingdom\", \"date\": \"2020-03-04T00:00:00\", \"total_infected\": 458.99999999999994, \"n_days\": 7, \"infected\": 458.99999999999994}, {\"index\": 10249, \"location\": \"United Kingdom\", \"date\": \"2020-03-05T00:00:00\", \"total_infected\": 802.0, \"n_days\": 8, \"infected\": 802.0}, {\"index\": 10250, \"location\": \"United Kingdom\", \"date\": \"2020-03-06T00:00:00\", \"total_infected\": 1144.0, \"n_days\": 9, \"infected\": 1144.0}, {\"index\": 10251, \"location\": \"United Kingdom\", \"date\": \"2020-03-07T00:00:00\", \"total_infected\": 1145.0, \"n_days\": 10, \"infected\": 1145.0}, {\"index\": 10252, \"location\": \"United Kingdom\", \"date\": \"2020-03-08T00:00:00\", \"total_infected\": 1551.0, \"n_days\": 11, \"infected\": 1551.0}, {\"index\": 10253, \"location\": \"United Kingdom\", \"date\": \"2020-03-09T00:00:00\", \"total_infected\": 1960.0, \"n_days\": 12, \"infected\": 1960.0}, {\"index\": 10254, \"location\": \"United Kingdom\", \"date\": \"2020-03-10T00:00:00\", \"total_infected\": 2642.0, \"n_days\": 13, \"infected\": 2642.0}, {\"index\": 10255, \"location\": \"United Kingdom\", \"date\": \"2020-03-11T00:00:00\", \"total_infected\": 2716.0, \"n_days\": 14, \"infected\": 2716.0}, {\"index\": 10256, \"location\": \"United Kingdom\", \"date\": \"2020-03-12T00:00:00\", \"total_infected\": 4014.0, \"n_days\": 15, \"infected\": 4014.0}, {\"index\": 10257, \"location\": \"United Kingdom\", \"date\": \"2020-03-13T00:00:00\", \"total_infected\": 5067.0, \"n_days\": 16, \"infected\": 5067.0}, {\"index\": 10258, \"location\": \"United Kingdom\", \"date\": \"2020-03-14T00:00:00\", \"total_infected\": 5745.0, \"n_days\": 17, \"infected\": 5745.0}, {\"index\": 10259, \"location\": \"United Kingdom\", \"date\": \"2020-03-15T00:00:00\", \"total_infected\": 6726.0, \"n_days\": 18, \"infected\": 6726.0}, {\"index\": 10260, \"location\": \"United Kingdom\", \"date\": \"2020-03-16T00:00:00\", \"total_infected\": 8164.0, \"n_days\": 19, \"infected\": 8164.0}, {\"index\": 10261, \"location\": \"United Kingdom\", \"date\": \"2020-03-17T00:00:00\", \"total_infected\": 9991.833376482631, \"n_days\": 20, \"infected\": 9991.833376482631}, {\"index\": 10262, \"location\": \"United Kingdom\", \"date\": \"2020-03-18T00:00:00\", \"total_infected\": 12228.899341424829, \"n_days\": 21, \"infected\": 12228.899341424829}, {\"index\": 10263, \"location\": \"United Kingdom\", \"date\": \"2020-03-19T00:00:00\", \"total_infected\": 14966.820749301209, \"n_days\": 22, \"infected\": 14966.820749301209}, {\"index\": 10264, \"location\": \"United Kingdom\", \"date\": \"2020-03-20T00:00:00\", \"total_infected\": 18317.73384403486, \"n_days\": 23, \"infected\": 18317.73384403486}, {\"index\": 10265, \"location\": \"United Kingdom\", \"date\": \"2020-03-21T00:00:00\", \"total_infected\": 22418.88099024412, \"n_days\": 24, \"infected\": 22418.88099024412}, {\"index\": 10266, \"location\": \"United Kingdom\", \"date\": \"2020-03-22T00:00:00\", \"total_infected\": 27438.2316685097, \"n_days\": 25, \"infected\": 27438.2316685097}, {\"index\": 10267, \"location\": \"United Kingdom\", \"date\": \"2020-03-23T00:00:00\", \"total_infected\": 33581.36195211636, \"n_days\": 26, \"infected\": 33581.36195211636}, {\"index\": 10268, \"location\": \"United Kingdom\", \"date\": \"2020-03-24T00:00:00\", \"total_infected\": 41099.874225979926, \"n_days\": 27, \"infected\": 41099.874225979926}, {\"index\": 3945, \"location\": \"Germany\", \"date\": \"2020-03-01T00:00:00\", \"total_infected\": 1176.0, \"n_days\": 0, \"infected\": 1176.0}, {\"index\": 3946, \"location\": \"Germany\", \"date\": \"2020-03-02T00:00:00\", \"total_infected\": 1457.0, \"n_days\": 1, \"infected\": 1457.0}, {\"index\": 3947, \"location\": \"Germany\", \"date\": \"2020-03-03T00:00:00\", \"total_infected\": 1908.0, \"n_days\": 2, \"infected\": 1908.0}, {\"index\": 3948, \"location\": \"Germany\", \"date\": \"2020-03-04T00:00:00\", \"total_infected\": 2078.0, \"n_days\": 3, \"infected\": 2078.0}, {\"index\": 3949, \"location\": \"Germany\", \"date\": \"2020-03-05T00:00:00\", \"total_infected\": 3675.0, \"n_days\": 4, \"infected\": 3675.0}, {\"index\": 3950, \"location\": \"Germany\", \"date\": \"2020-03-06T00:00:00\", \"total_infected\": 4585.0, \"n_days\": 5, \"infected\": 4585.0}, {\"index\": 3951, \"location\": \"Germany\", \"date\": \"2020-03-07T00:00:00\", \"total_infected\": 5795.0, \"n_days\": 6, \"infected\": 5795.0}, {\"index\": 3952, \"location\": \"Germany\", \"date\": \"2020-03-08T00:00:00\", \"total_infected\": 7272.0, \"n_days\": 7, \"infected\": 7272.0}, {\"index\": 3953, \"location\": \"Germany\", \"date\": \"2020-03-09T00:00:00\", \"total_infected\": 9257.0, \"n_days\": 8, \"infected\": 9257.0}, {\"index\": 3954, \"location\": \"Germany\", \"date\": \"2020-03-10T00:00:00\", \"total_infected\": 12327.0, \"n_days\": 9, \"infected\": 12327.0}, {\"index\": 3955, \"location\": \"Germany\", \"date\": \"2020-03-11T00:00:00\", \"total_infected\": 15320.0, \"n_days\": 10, \"infected\": 15320.0}, {\"index\": 3956, \"location\": \"Germany\", \"date\": \"2020-03-12T00:00:00\", \"total_infected\": 19848.0, \"n_days\": 11, \"infected\": 19848.0}, {\"index\": 3957, \"location\": \"Germany\", \"date\": \"2020-03-13T00:00:00\", \"total_infected\": 22213.0, \"n_days\": 12, \"infected\": 22213.0}, {\"index\": 3958, \"location\": \"Germany\", \"date\": \"2020-03-14T00:00:00\", \"total_infected\": 24873.0, \"n_days\": 13, \"infected\": 24873.0}, {\"index\": 3959, \"location\": \"Germany\", \"date\": \"2020-03-15T00:00:00\", \"total_infected\": 29056.0, \"n_days\": 14, \"infected\": 29056.0}, {\"index\": 3960, \"location\": \"Germany\", \"date\": \"2020-03-16T00:00:00\", \"total_infected\": 32986.0, \"n_days\": 15, \"infected\": 32986.0}, {\"index\": 3961, \"location\": \"Germany\", \"date\": \"2020-03-17T00:00:00\", \"total_infected\": 40317.60993492138, \"n_days\": 16, \"infected\": 40317.60993492138}, {\"index\": 3962, \"location\": \"Germany\", \"date\": \"2020-03-18T00:00:00\", \"total_infected\": 49278.774961028044, \"n_days\": 17, \"infected\": 49278.774961028044}, {\"index\": 3963, \"location\": \"Germany\", \"date\": \"2020-03-19T00:00:00\", \"total_infected\": 60231.68698688835, \"n_days\": 18, \"infected\": 60231.68698688835}, {\"index\": 3964, \"location\": \"Germany\", \"date\": \"2020-03-20T00:00:00\", \"total_infected\": 73619.04024918585, \"n_days\": 19, \"infected\": 73619.04024918585}, {\"index\": 3965, \"location\": \"Germany\", \"date\": \"2020-03-21T00:00:00\", \"total_infected\": 89981.92410567976, \"n_days\": 20, \"infected\": 89981.92410567976}, {\"index\": 3966, \"location\": \"Germany\", \"date\": \"2020-03-22T00:00:00\", \"total_infected\": 109981.69275712411, \"n_days\": 21, \"infected\": 109981.69275712411}, {\"index\": 3967, \"location\": \"Germany\", \"date\": \"2020-03-23T00:00:00\", \"total_infected\": 134426.6958274449, \"n_days\": 22, \"infected\": 134426.6958274449}, {\"index\": 3968, \"location\": \"Germany\", \"date\": \"2020-03-24T00:00:00\", \"total_infected\": 164304.95019739424, \"n_days\": 23, \"infected\": 164304.95019739424}, {\"index\": 7985, \"location\": \"Portugal\", \"date\": \"2020-03-09T00:00:00\", \"total_infected\": 448.0, \"n_days\": 0, \"infected\": 448.0}, {\"index\": 7986, \"location\": \"Portugal\", \"date\": \"2020-03-10T00:00:00\", \"total_infected\": 448.0, \"n_days\": 1, \"infected\": 448.0}, {\"index\": 7987, \"location\": \"Portugal\", \"date\": \"2020-03-11T00:00:00\", \"total_infected\": 785.0, \"n_days\": 2, \"infected\": 785.0}, {\"index\": 7988, \"location\": \"Portugal\", \"date\": \"2020-03-12T00:00:00\", \"total_infected\": 1020.0, \"n_days\": 3, \"infected\": 1020.0}, {\"index\": 7989, \"location\": \"Portugal\", \"date\": \"2020-03-13T00:00:00\", \"total_infected\": 1280.0, \"n_days\": 4, \"infected\": 1280.0}, {\"index\": 7990, \"location\": \"Portugal\", \"date\": \"2020-03-14T00:00:00\", \"total_infected\": 1599.9999999999998, \"n_days\": 5, \"infected\": 1599.9999999999998}, {\"index\": 7991, \"location\": \"Portugal\", \"date\": \"2020-03-15T00:00:00\", \"total_infected\": 2060.0, \"n_days\": 6, \"infected\": 2060.0}, {\"index\": 7992, \"location\": \"Portugal\", \"date\": \"2020-03-16T00:00:00\", \"total_infected\": 2362.0, \"n_days\": 7, \"infected\": 2362.0}, {\"index\": 7993, \"location\": \"Portugal\", \"date\": \"2020-03-17T00:00:00\", \"total_infected\": 2922.965135053795, \"n_days\": 8, \"infected\": 2922.965135053795}, {\"index\": 7994, \"location\": \"Portugal\", \"date\": \"2020-03-18T00:00:00\", \"total_infected\": 3617.157146799344, \"n_days\": 9, \"infected\": 3617.157146799344}, {\"index\": 7995, \"location\": \"Portugal\", \"date\": \"2020-03-19T00:00:00\", \"total_infected\": 4476.216862025887, \"n_days\": 10, \"infected\": 4476.216862025887}, {\"index\": 7996, \"location\": \"Portugal\", \"date\": \"2020-03-20T00:00:00\", \"total_infected\": 5539.299671736483, \"n_days\": 11, \"infected\": 5539.299671736483}, {\"index\": 7997, \"location\": \"Portugal\", \"date\": \"2020-03-21T00:00:00\", \"total_infected\": 6854.860208764044, \"n_days\": 12, \"infected\": 6854.860208764044}, {\"index\": 7998, \"location\": \"Portugal\", \"date\": \"2020-03-22T00:00:00\", \"total_infected\": 8482.860878867434, \"n_days\": 13, \"infected\": 8482.860878867434}, {\"index\": 7999, \"location\": \"Portugal\", \"date\": \"2020-03-23T00:00:00\", \"total_infected\": 10497.504908738909, \"n_days\": 14, \"infected\": 10497.504908738909}, {\"index\": 8000, \"location\": \"Portugal\", \"date\": \"2020-03-24T00:00:00\", \"total_infected\": 12990.618481498688, \"n_days\": 15, \"infected\": 12990.618481498688}, {\"index\": 10299, \"location\": \"United States\", \"date\": \"2020-02-21T00:00:00\", \"total_infected\": 68.0, \"n_days\": 0, \"infected\": 68.0}, {\"index\": 10300, \"location\": \"United States\", \"date\": \"2020-02-22T00:00:00\", \"total_infected\": 74.0, \"n_days\": 1, \"infected\": 74.0}, {\"index\": 10301, \"location\": \"United States\", \"date\": \"2020-02-23T00:00:00\", \"total_infected\": 98.0, \"n_days\": 2, \"infected\": 98.0}, {\"index\": 10302, \"location\": \"United States\", \"date\": \"2020-02-24T00:00:00\", \"total_infected\": 118.0, \"n_days\": 3, \"infected\": 118.0}, {\"index\": 10303, \"location\": \"United States\", \"date\": \"2020-02-25T00:00:00\", \"total_infected\": 149.0, \"n_days\": 4, \"infected\": 149.0}, {\"index\": 10304, \"location\": \"United States\", \"date\": \"2020-02-26T00:00:00\", \"total_infected\": 217.0, \"n_days\": 5, \"infected\": 217.0}, {\"index\": 10305, \"location\": \"United States\", \"date\": \"2020-02-27T00:00:00\", \"total_infected\": 262.0, \"n_days\": 6, \"infected\": 262.0}, {\"index\": 10306, \"location\": \"United States\", \"date\": \"2020-02-28T00:00:00\", \"total_infected\": 402.0, \"n_days\": 7, \"infected\": 402.0}, {\"index\": 10307, \"location\": \"United States\", \"date\": \"2020-02-29T00:00:00\", \"total_infected\": 518.0, \"n_days\": 8, \"infected\": 518.0}, {\"index\": 10308, \"location\": \"United States\", \"date\": \"2020-03-01T00:00:00\", \"total_infected\": 583.0, \"n_days\": 9, \"infected\": 583.0}, {\"index\": 10309, \"location\": \"United States\", \"date\": \"2020-03-02T00:00:00\", \"total_infected\": 959.0, \"n_days\": 10, \"infected\": 959.0}, {\"index\": 10310, \"location\": \"United States\", \"date\": \"2020-03-03T00:00:00\", \"total_infected\": 1281.0, \"n_days\": 11, \"infected\": 1281.0}, {\"index\": 10311, \"location\": \"United States\", \"date\": \"2020-03-04T00:00:00\", \"total_infected\": 1663.0, \"n_days\": 12, \"infected\": 1663.0}, {\"index\": 10312, \"location\": \"United States\", \"date\": \"2020-03-05T00:00:00\", \"total_infected\": 2179.0, \"n_days\": 13, \"infected\": 2179.0}, {\"index\": 10313, \"location\": \"United States\", \"date\": \"2020-03-06T00:00:00\", \"total_infected\": 2727.0, \"n_days\": 14, \"infected\": 2727.0}, {\"index\": 10314, \"location\": \"United States\", \"date\": \"2020-03-07T00:00:00\", \"total_infected\": 3499.0, \"n_days\": 15, \"infected\": 3499.0}, {\"index\": 10315, \"location\": \"United States\", \"date\": \"2020-03-08T00:00:00\", \"total_infected\": 4632.0, \"n_days\": 16, \"infected\": 4632.0}, {\"index\": 10316, \"location\": \"United States\", \"date\": \"2020-03-09T00:00:00\", \"total_infected\": 6421.0, \"n_days\": 17, \"infected\": 6421.0}, {\"index\": 10317, \"location\": \"United States\", \"date\": \"2020-03-10T00:00:00\", \"total_infected\": 7783.0, \"n_days\": 18, \"infected\": 7783.0}, {\"index\": 10318, \"location\": \"United States\", \"date\": \"2020-03-11T00:00:00\", \"total_infected\": 13677.0, \"n_days\": 19, \"infected\": 13677.0}, {\"index\": 10319, \"location\": \"United States\", \"date\": \"2020-03-12T00:00:00\", \"total_infected\": 19100.0, \"n_days\": 20, \"infected\": 19100.0}, {\"index\": 10320, \"location\": \"United States\", \"date\": \"2020-03-13T00:00:00\", \"total_infected\": 25489.0, \"n_days\": 21, \"infected\": 25489.0}, {\"index\": 10321, \"location\": \"United States\", \"date\": \"2020-03-14T00:00:00\", \"total_infected\": 33276.0, \"n_days\": 22, \"infected\": 33276.0}, {\"index\": 10322, \"location\": \"United States\", \"date\": \"2020-03-15T00:00:00\", \"total_infected\": 43847.0, \"n_days\": 23, \"infected\": 43847.0}, {\"index\": 10323, \"location\": \"United States\", \"date\": \"2020-03-16T00:00:00\", \"total_infected\": 53740.0, \"n_days\": 24, \"infected\": 53740.0}, {\"index\": 10324, \"location\": \"United States\", \"date\": \"2020-03-17T00:00:00\", \"total_infected\": 68680.62725881767, \"n_days\": 25, \"infected\": 68680.62725881767}, {\"index\": 10325, \"location\": \"United States\", \"date\": \"2020-03-18T00:00:00\", \"total_infected\": 87775.00112885464, \"n_days\": 26, \"infected\": 87775.00112885464}, {\"index\": 10326, \"location\": \"United States\", \"date\": \"2020-03-19T00:00:00\", \"total_infected\": 112177.93329313668, \"n_days\": 27, \"infected\": 112177.93329313668}, {\"index\": 10327, \"location\": \"United States\", \"date\": \"2020-03-20T00:00:00\", \"total_infected\": 143365.2925785343, \"n_days\": 28, \"infected\": 143365.2925785343}, {\"index\": 10328, \"location\": \"United States\", \"date\": \"2020-03-21T00:00:00\", \"total_infected\": 183223.26426195857, \"n_days\": 29, \"infected\": 183223.26426195857}, {\"index\": 10329, \"location\": \"United States\", \"date\": \"2020-03-22T00:00:00\", \"total_infected\": 234162.42497058847, \"n_days\": 30, \"infected\": 234162.42497058847}, {\"index\": 10330, \"location\": \"United States\", \"date\": \"2020-03-23T00:00:00\", \"total_infected\": 299263.5323302167, \"n_days\": 31, \"infected\": 299263.5323302167}, {\"index\": 10331, \"location\": \"United States\", \"date\": \"2020-03-24T00:00:00\", \"total_infected\": 382463.84659711097, \"n_days\": 32, \"infected\": 382463.84659711097}, {\"index\": 8745, \"location\": \"Singapore\", \"date\": \"2020-03-13T00:00:00\", \"total_infected\": 432.0, \"n_days\": 0, \"infected\": 432.0}, {\"index\": 8746, \"location\": \"Singapore\", \"date\": \"2020-03-14T00:00:00\", \"total_infected\": 455.0, \"n_days\": 1, \"infected\": 455.0}, {\"index\": 8747, \"location\": \"Singapore\", \"date\": \"2020-03-15T00:00:00\", \"total_infected\": 509.00000000000006, \"n_days\": 2, \"infected\": 509.00000000000006}, {\"index\": 8748, \"location\": \"Singapore\", \"date\": \"2020-03-16T00:00:00\", \"total_infected\": 558.0, \"n_days\": 3, \"infected\": 558.0}, {\"index\": 8749, \"location\": \"Singapore\", \"date\": \"2020-03-17T00:00:00\", \"total_infected\": 605.6036075895192, \"n_days\": 4, \"infected\": 605.6036075895192}, {\"index\": 8750, \"location\": \"Singapore\", \"date\": \"2020-03-18T00:00:00\", \"total_infected\": 657.2683324828681, \"n_days\": 5, \"infected\": 657.2683324828681}, {\"index\": 8751, \"location\": \"Singapore\", \"date\": \"2020-03-19T00:00:00\", \"total_infected\": 713.3406331648254, \"n_days\": 6, \"infected\": 713.3406331648254}, {\"index\": 8752, \"location\": \"Singapore\", \"date\": \"2020-03-20T00:00:00\", \"total_infected\": 774.1965248831722, \"n_days\": 7, \"infected\": 774.1965248831722}, {\"index\": 8753, \"location\": \"Singapore\", \"date\": \"2020-03-21T00:00:00\", \"total_infected\": 840.2441011693872, \"n_days\": 8, \"infected\": 840.2441011693872}, {\"index\": 8754, \"location\": \"Singapore\", \"date\": \"2020-03-22T00:00:00\", \"total_infected\": 911.9262704731074, \"n_days\": 9, \"infected\": 911.9262704731074}, {\"index\": 8755, \"location\": \"Singapore\", \"date\": \"2020-03-23T00:00:00\", \"total_infected\": 989.7237262619525, \"n_days\": 10, \"infected\": 989.7237262619525}, {\"index\": 8756, \"location\": \"Singapore\", \"date\": \"2020-03-24T00:00:00\", \"total_infected\": 1074.1581705039073, \"n_days\": 11, \"infected\": 1074.1581705039073}, {\"index\": 9030, \"location\": \"South Korea\", \"date\": \"2020-02-12T00:00:00\", \"total_infected\": 104.0, \"n_days\": 0, \"infected\": 104.0}, {\"index\": 9031, \"location\": \"South Korea\", \"date\": \"2020-02-13T00:00:00\", \"total_infected\": 204.0, \"n_days\": 1, \"infected\": 204.0}, {\"index\": 9032, \"location\": \"South Korea\", \"date\": \"2020-02-14T00:00:00\", \"total_infected\": 433.0, \"n_days\": 2, \"infected\": 433.0}, {\"index\": 9033, \"location\": \"South Korea\", \"date\": \"2020-02-15T00:00:00\", \"total_infected\": 602.0, \"n_days\": 3, \"infected\": 602.0}, {\"index\": 9034, \"location\": \"South Korea\", \"date\": \"2020-02-16T00:00:00\", \"total_infected\": 833.0000000000001, \"n_days\": 4, \"infected\": 833.0000000000001}, {\"index\": 9035, \"location\": \"South Korea\", \"date\": \"2020-02-17T00:00:00\", \"total_infected\": 976.9999999999999, \"n_days\": 5, \"infected\": 976.9999999999999}, {\"index\": 9036, \"location\": \"South Korea\", \"date\": \"2020-02-18T00:00:00\", \"total_infected\": 1261.0, \"n_days\": 6, \"infected\": 1261.0}, {\"index\": 9037, \"location\": \"South Korea\", \"date\": \"2020-02-19T00:00:00\", \"total_infected\": 1766.0, \"n_days\": 7, \"infected\": 1766.0}, {\"index\": 9038, \"location\": \"South Korea\", \"date\": \"2020-02-20T00:00:00\", \"total_infected\": 2337.0, \"n_days\": 8, \"infected\": 2337.0}, {\"index\": 9039, \"location\": \"South Korea\", \"date\": \"2020-02-21T00:00:00\", \"total_infected\": 3150.0, \"n_days\": 9, \"infected\": 3150.0}, {\"index\": 9040, \"location\": \"South Korea\", \"date\": \"2020-02-22T00:00:00\", \"total_infected\": 3736.0000000000005, \"n_days\": 10, \"infected\": 3736.0000000000005}, {\"index\": 9041, \"location\": \"South Korea\", \"date\": \"2020-02-23T00:00:00\", \"total_infected\": 4335.0, \"n_days\": 11, \"infected\": 4335.0}, {\"index\": 9042, \"location\": \"South Korea\", \"date\": \"2020-02-24T00:00:00\", \"total_infected\": 5186.0, \"n_days\": 12, \"infected\": 5186.0}, {\"index\": 9043, \"location\": \"South Korea\", \"date\": \"2020-02-25T00:00:00\", \"total_infected\": 5621.0, \"n_days\": 13, \"infected\": 5621.0}, {\"index\": 9044, \"location\": \"South Korea\", \"date\": \"2020-02-26T00:00:00\", \"total_infected\": 6088.0, \"n_days\": 14, \"infected\": 6088.0}, {\"index\": 9045, \"location\": \"South Korea\", \"date\": \"2020-02-27T00:00:00\", \"total_infected\": 6593.0, \"n_days\": 15, \"infected\": 6593.0}, {\"index\": 9046, \"location\": \"South Korea\", \"date\": \"2020-02-28T00:00:00\", \"total_infected\": 7041.0, \"n_days\": 16, \"infected\": 7041.0}, {\"index\": 9047, \"location\": \"South Korea\", \"date\": \"2020-02-29T00:00:00\", \"total_infected\": 7314.0, \"n_days\": 17, \"infected\": 7314.0}, {\"index\": 9048, \"location\": \"South Korea\", \"date\": \"2020-03-01T00:00:00\", \"total_infected\": 7478.0, \"n_days\": 18, \"infected\": 7478.0}, {\"index\": 9049, \"location\": \"South Korea\", \"date\": \"2020-03-02T00:00:00\", \"total_infected\": 7513.0, \"n_days\": 19, \"infected\": 7513.0}, {\"index\": 9050, \"location\": \"South Korea\", \"date\": \"2020-03-03T00:00:00\", \"total_infected\": 7755.0, \"n_days\": 20, \"infected\": 7755.0}, {\"index\": 9051, \"location\": \"South Korea\", \"date\": \"2020-03-04T00:00:00\", \"total_infected\": 7869.0, \"n_days\": 21, \"infected\": 7869.0}, {\"index\": 9052, \"location\": \"South Korea\", \"date\": \"2020-03-05T00:00:00\", \"total_infected\": 7978.999999999999, \"n_days\": 22, \"infected\": 7978.999999999999}, {\"index\": 9053, \"location\": \"South Korea\", \"date\": \"2020-03-06T00:00:00\", \"total_infected\": 8085.999999999999, \"n_days\": 23, \"infected\": 8085.999999999999}, {\"index\": 9054, \"location\": \"South Korea\", \"date\": \"2020-03-07T00:00:00\", \"total_infected\": 8161.999999999999, \"n_days\": 24, \"infected\": 8161.999999999999}, {\"index\": 9055, \"location\": \"South Korea\", \"date\": \"2020-03-08T00:00:00\", \"total_infected\": 8236.0, \"n_days\": 25, \"infected\": 8236.0}, {\"index\": 9056, \"location\": \"South Korea\", \"date\": \"2020-03-09T00:00:00\", \"total_infected\": 8320.0, \"n_days\": 26, \"infected\": 8320.0}, {\"index\": 9057, \"location\": \"South Korea\", \"date\": \"2020-03-10T00:00:00\", \"total_infected\": 8413.0, \"n_days\": 27, \"infected\": 8413.0}, {\"index\": 9058, \"location\": \"South Korea\", \"date\": \"2020-03-11T00:00:00\", \"total_infected\": 8565.0, \"n_days\": 28, \"infected\": 8565.0}, {\"index\": 9059, \"location\": \"South Korea\", \"date\": \"2020-03-12T00:00:00\", \"total_infected\": 8652.0, \"n_days\": 29, \"infected\": 8652.0}, {\"index\": 9060, \"location\": \"South Korea\", \"date\": \"2020-03-13T00:00:00\", \"total_infected\": 8799.0, \"n_days\": 30, \"infected\": 8799.0}, {\"index\": 9061, \"location\": \"South Korea\", \"date\": \"2020-03-14T00:00:00\", \"total_infected\": 8961.0, \"n_days\": 31, \"infected\": 8961.0}, {\"index\": 9062, \"location\": \"South Korea\", \"date\": \"2020-03-15T00:00:00\", \"total_infected\": 8961.0, \"n_days\": 32, \"infected\": 8961.0}, {\"index\": 9063, \"location\": \"South Korea\", \"date\": \"2020-03-16T00:00:00\", \"total_infected\": 9037.0, \"n_days\": 33, \"infected\": 9037.0}, {\"index\": 9064, \"location\": \"South Korea\", \"date\": \"2020-03-17T00:00:00\", \"total_infected\": 10259.649041137982, \"n_days\": 34, \"infected\": 10259.649041137982}, {\"index\": 9065, \"location\": \"South Korea\", \"date\": \"2020-03-18T00:00:00\", \"total_infected\": 11647.714777838166, \"n_days\": 35, \"infected\": 11647.714777838166}, {\"index\": 9066, \"location\": \"South Korea\", \"date\": \"2020-03-19T00:00:00\", \"total_infected\": 13223.57704458294, \"n_days\": 36, \"infected\": 13223.57704458294}, {\"index\": 9067, \"location\": \"South Korea\", \"date\": \"2020-03-20T00:00:00\", \"total_infected\": 15012.643526155758, \"n_days\": 37, \"infected\": 15012.643526155758}, {\"index\": 9068, \"location\": \"South Korea\", \"date\": \"2020-03-21T00:00:00\", \"total_infected\": 17043.759406669276, \"n_days\": 38, \"infected\": 17043.759406669276}, {\"index\": 9069, \"location\": \"South Korea\", \"date\": \"2020-03-22T00:00:00\", \"total_infected\": 19349.672441520514, \"n_days\": 39, \"infected\": 19349.672441520514}, {\"index\": 9070, \"location\": \"South Korea\", \"date\": \"2020-03-23T00:00:00\", \"total_infected\": 21967.560950645122, \"n_days\": 40, \"infected\": 21967.560950645122}, {\"index\": 9071, \"location\": \"South Korea\", \"date\": \"2020-03-24T00:00:00\", \"total_infected\": 24939.633245925237, \"n_days\": 41, \"infected\": 24939.633245925237}, {\"index\": 5180, \"location\": \"Japan\", \"date\": \"2020-02-05T00:00:00\", \"total_infected\": 28.0, \"n_days\": 0, \"infected\": 28.0}, {\"index\": 5181, \"location\": \"Japan\", \"date\": \"2020-02-06T00:00:00\", \"total_infected\": 29.0, \"n_days\": 1, \"infected\": 29.0}, {\"index\": 5182, \"location\": \"Japan\", \"date\": \"2020-02-07T00:00:00\", \"total_infected\": 43.0, \"n_days\": 2, \"infected\": 43.0}, {\"index\": 5183, \"location\": \"Japan\", \"date\": \"2020-02-08T00:00:00\", \"total_infected\": 59.0, \"n_days\": 3, \"infected\": 59.0}, {\"index\": 5184, \"location\": \"Japan\", \"date\": \"2020-02-09T00:00:00\", \"total_infected\": 66.0, \"n_days\": 4, \"infected\": 66.0}, {\"index\": 5185, \"location\": \"Japan\", \"date\": \"2020-02-10T00:00:00\", \"total_infected\": 74.0, \"n_days\": 5, \"infected\": 74.0}, {\"index\": 5186, \"location\": \"Japan\", \"date\": \"2020-02-11T00:00:00\", \"total_infected\": 84.0, \"n_days\": 6, \"infected\": 84.0}, {\"index\": 5187, \"location\": \"Japan\", \"date\": \"2020-02-12T00:00:00\", \"total_infected\": 94.0, \"n_days\": 7, \"infected\": 94.0}, {\"index\": 5188, \"location\": \"Japan\", \"date\": \"2020-02-13T00:00:00\", \"total_infected\": 104.99999999999999, \"n_days\": 8, \"infected\": 104.99999999999999}, {\"index\": 5189, \"location\": \"Japan\", \"date\": \"2020-02-14T00:00:00\", \"total_infected\": 122.0, \"n_days\": 9, \"infected\": 122.0}, {\"index\": 5190, \"location\": \"Japan\", \"date\": \"2020-02-15T00:00:00\", \"total_infected\": 147.0, \"n_days\": 10, \"infected\": 147.0}, {\"index\": 5191, \"location\": \"Japan\", \"date\": \"2020-02-16T00:00:00\", \"total_infected\": 159.0, \"n_days\": 11, \"infected\": 159.0}, {\"index\": 5192, \"location\": \"Japan\", \"date\": \"2020-02-17T00:00:00\", \"total_infected\": 170.0, \"n_days\": 12, \"infected\": 170.0}, {\"index\": 5193, \"location\": \"Japan\", \"date\": \"2020-02-18T00:00:00\", \"total_infected\": 189.0, \"n_days\": 13, \"infected\": 189.0}, {\"index\": 5194, \"location\": \"Japan\", \"date\": \"2020-02-19T00:00:00\", \"total_infected\": 214.00000000000003, \"n_days\": 14, \"infected\": 214.00000000000003}, {\"index\": 5195, \"location\": \"Japan\", \"date\": \"2020-02-20T00:00:00\", \"total_infected\": 228.0, \"n_days\": 15, \"infected\": 228.0}, {\"index\": 5196, \"location\": \"Japan\", \"date\": \"2020-02-21T00:00:00\", \"total_infected\": 241.0, \"n_days\": 16, \"infected\": 241.0}, {\"index\": 5197, \"location\": \"Japan\", \"date\": \"2020-02-22T00:00:00\", \"total_infected\": 256.0, \"n_days\": 17, \"infected\": 256.0}, {\"index\": 5198, \"location\": \"Japan\", \"date\": \"2020-02-23T00:00:00\", \"total_infected\": 274.0, \"n_days\": 18, \"infected\": 274.0}, {\"index\": 5199, \"location\": \"Japan\", \"date\": \"2020-02-24T00:00:00\", \"total_infected\": 293.0, \"n_days\": 19, \"infected\": 293.0}, {\"index\": 5200, \"location\": \"Japan\", \"date\": \"2020-02-25T00:00:00\", \"total_infected\": 330.99999999999994, \"n_days\": 20, \"infected\": 330.99999999999994}, {\"index\": 5201, \"location\": \"Japan\", \"date\": \"2020-02-26T00:00:00\", \"total_infected\": 360.0, \"n_days\": 21, \"infected\": 360.0}, {\"index\": 5202, \"location\": \"Japan\", \"date\": \"2020-02-27T00:00:00\", \"total_infected\": 420.0, \"n_days\": 22, \"infected\": 420.0}, {\"index\": 5203, \"location\": \"Japan\", \"date\": \"2020-02-28T00:00:00\", \"total_infected\": 461.0, \"n_days\": 23, \"infected\": 461.0}, {\"index\": 5204, \"location\": \"Japan\", \"date\": \"2020-02-29T00:00:00\", \"total_infected\": 502.0, \"n_days\": 24, \"infected\": 502.0}, {\"index\": 5205, \"location\": \"Japan\", \"date\": \"2020-03-01T00:00:00\", \"total_infected\": 511.0, \"n_days\": 25, \"infected\": 511.0}, {\"index\": 5206, \"location\": \"Japan\", \"date\": \"2020-03-02T00:00:00\", \"total_infected\": 581.0, \"n_days\": 26, \"infected\": 581.0}, {\"index\": 5207, \"location\": \"Japan\", \"date\": \"2020-03-03T00:00:00\", \"total_infected\": 639.0, \"n_days\": 27, \"infected\": 639.0}, {\"index\": 5208, \"location\": \"Japan\", \"date\": \"2020-03-04T00:00:00\", \"total_infected\": 639.0, \"n_days\": 28, \"infected\": 639.0}, {\"index\": 5209, \"location\": \"Japan\", \"date\": \"2020-03-05T00:00:00\", \"total_infected\": 701.0, \"n_days\": 29, \"infected\": 701.0}, {\"index\": 5210, \"location\": \"Japan\", \"date\": \"2020-03-06T00:00:00\", \"total_infected\": 773.0, \"n_days\": 30, \"infected\": 773.0}, {\"index\": 5211, \"location\": \"Japan\", \"date\": \"2020-03-07T00:00:00\", \"total_infected\": 839.0, \"n_days\": 31, \"infected\": 839.0}, {\"index\": 5212, \"location\": \"Japan\", \"date\": \"2020-03-08T00:00:00\", \"total_infected\": 838.9999999999999, \"n_days\": 32, \"infected\": 838.9999999999999}, {\"index\": 5213, \"location\": \"Japan\", \"date\": \"2020-03-09T00:00:00\", \"total_infected\": 878.0, \"n_days\": 33, \"infected\": 878.0}, {\"index\": 5214, \"location\": \"Japan\", \"date\": \"2020-03-10T00:00:00\", \"total_infected\": 889.0, \"n_days\": 34, \"infected\": 889.0}, {\"index\": 5215, \"location\": \"Japan\", \"date\": \"2020-03-11T00:00:00\", \"total_infected\": 924.0, \"n_days\": 35, \"infected\": 924.0}, {\"index\": 5216, \"location\": \"Japan\", \"date\": \"2020-03-12T00:00:00\", \"total_infected\": 963.0000000000001, \"n_days\": 36, \"infected\": 963.0000000000001}, {\"index\": 5217, \"location\": \"Japan\", \"date\": \"2020-03-13T00:00:00\", \"total_infected\": 1007.0, \"n_days\": 37, \"infected\": 1007.0}, {\"index\": 5218, \"location\": \"Japan\", \"date\": \"2020-03-14T00:00:00\", \"total_infected\": 1101.0, \"n_days\": 38, \"infected\": 1101.0}, {\"index\": 5219, \"location\": \"Japan\", \"date\": \"2020-03-15T00:00:00\", \"total_infected\": 1128.0, \"n_days\": 39, \"infected\": 1128.0}, {\"index\": 5220, \"location\": \"Japan\", \"date\": \"2020-03-16T00:00:00\", \"total_infected\": 1193.0, \"n_days\": 40, \"infected\": 1193.0}, {\"index\": 5221, \"location\": \"Japan\", \"date\": \"2020-03-17T00:00:00\", \"total_infected\": 1304.904053523095, \"n_days\": 41, \"infected\": 1304.904053523095}, {\"index\": 5222, \"location\": \"Japan\", \"date\": \"2020-03-18T00:00:00\", \"total_infected\": 1427.3047685674806, \"n_days\": 42, \"infected\": 1427.3047685674806}, {\"index\": 5223, \"location\": \"Japan\", \"date\": \"2020-03-19T00:00:00\", \"total_infected\": 1561.1867377339047, \"n_days\": 43, \"infected\": 1561.1867377339047}, {\"index\": 5224, \"location\": \"Japan\", \"date\": \"2020-03-20T00:00:00\", \"total_infected\": 1707.6269089484235, \"n_days\": 44, \"infected\": 1707.6269089484235}, {\"index\": 5225, \"location\": \"Japan\", \"date\": \"2020-03-21T00:00:00\", \"total_infected\": 1867.803248442507, \"n_days\": 45, \"infected\": 1867.803248442507}, {\"index\": 5226, \"location\": \"Japan\", \"date\": \"2020-03-22T00:00:00\", \"total_infected\": 2043.004216325425, \"n_days\": 46, \"infected\": 2043.004216325425}, {\"index\": 5227, \"location\": \"Japan\", \"date\": \"2020-03-23T00:00:00\", \"total_infected\": 2234.6391309705123, \"n_days\": 47, \"infected\": 2234.6391309705123}, {\"index\": 5228, \"location\": \"Japan\", \"date\": \"2020-03-24T00:00:00\", \"total_infected\": 2444.2495055865447, \"n_days\": 48, \"infected\": 2444.2495055865447}, {\"index\": 1433, \"location\": \"Brazil\", \"date\": \"2020-03-09T00:00:00\", \"total_infected\": 321.0, \"n_days\": 0, \"infected\": 321.0}, {\"index\": 1434, \"location\": \"Brazil\", \"date\": \"2020-03-10T00:00:00\", \"total_infected\": 372.0, \"n_days\": 1, \"infected\": 372.0}, {\"index\": 1435, \"location\": \"Brazil\", \"date\": \"2020-03-11T00:00:00\", \"total_infected\": 621.0, \"n_days\": 2, \"infected\": 621.0}, {\"index\": 1436, \"location\": \"Brazil\", \"date\": \"2020-03-12T00:00:00\", \"total_infected\": 793.0, \"n_days\": 3, \"infected\": 793.0}, {\"index\": 1437, \"location\": \"Brazil\", \"date\": \"2020-03-13T00:00:00\", \"total_infected\": 1021.0, \"n_days\": 4, \"infected\": 1021.0}, {\"index\": 1438, \"location\": \"Brazil\", \"date\": \"2020-03-14T00:00:00\", \"total_infected\": 1546.0, \"n_days\": 5, \"infected\": 1546.0}, {\"index\": 1439, \"location\": \"Brazil\", \"date\": \"2020-03-15T00:00:00\", \"total_infected\": 1924.0, \"n_days\": 6, \"infected\": 1924.0}, {\"index\": 1440, \"location\": \"Brazil\", \"date\": \"2020-03-16T00:00:00\", \"total_infected\": 2247.0, \"n_days\": 7, \"infected\": 2247.0}, {\"index\": 1441, \"location\": \"Brazil\", \"date\": \"2020-03-17T00:00:00\", \"total_infected\": 2871.637157846756, \"n_days\": 8, \"infected\": 2871.637157846756}, {\"index\": 1442, \"location\": \"Brazil\", \"date\": \"2020-03-18T00:00:00\", \"total_infected\": 3669.915427826522, \"n_days\": 9, \"infected\": 3669.915427826522}, {\"index\": 1443, \"location\": \"Brazil\", \"date\": \"2020-03-19T00:00:00\", \"total_infected\": 4690.104810281136, \"n_days\": 10, \"infected\": 4690.104810281136}, {\"index\": 1444, \"location\": \"Brazil\", \"date\": \"2020-03-20T00:00:00\", \"total_infected\": 5993.893746061024, \"n_days\": 11, \"infected\": 5993.893746061024}, {\"index\": 1445, \"location\": \"Brazil\", \"date\": \"2020-03-21T00:00:00\", \"total_infected\": 7660.119270749499, \"n_days\": 12, \"infected\": 7660.119270749499}, {\"index\": 1446, \"location\": \"Brazil\", \"date\": \"2020-03-22T00:00:00\", \"total_infected\": 9789.534103881733, \"n_days\": 13, \"infected\": 9789.534103881733}, {\"index\": 1447, \"location\": \"Brazil\", \"date\": \"2020-03-23T00:00:00\", \"total_infected\": 12510.89892777696, \"n_days\": 14, \"infected\": 12510.89892777696}, {\"index\": 1448, \"location\": \"Brazil\", \"date\": \"2020-03-24T00:00:00\", \"total_infected\": 15988.76824168645, \"n_days\": 15, \"infected\": 15988.76824168645}, {\"index\": 4808, \"location\": \"Iran\", \"date\": \"2020-02-11T00:00:00\", \"total_infected\": 2.0, \"n_days\": 0, \"infected\": 2.0}, {\"index\": 4809, \"location\": \"Iran\", \"date\": \"2020-02-12T00:00:00\", \"total_infected\": 5.0, \"n_days\": 1, \"infected\": 5.0}, {\"index\": 4810, \"location\": \"Iran\", \"date\": \"2020-02-13T00:00:00\", \"total_infected\": 18.0, \"n_days\": 2, \"infected\": 18.0}, {\"index\": 4811, \"location\": \"Iran\", \"date\": \"2020-02-14T00:00:00\", \"total_infected\": 28.0, \"n_days\": 3, \"infected\": 28.0}, {\"index\": 4812, \"location\": \"Iran\", \"date\": \"2020-02-15T00:00:00\", \"total_infected\": 43.0, \"n_days\": 4, \"infected\": 43.0}, {\"index\": 4813, \"location\": \"Iran\", \"date\": \"2020-02-16T00:00:00\", \"total_infected\": 61.0, \"n_days\": 5, \"infected\": 61.0}, {\"index\": 4814, \"location\": \"Iran\", \"date\": \"2020-02-17T00:00:00\", \"total_infected\": 95.0, \"n_days\": 6, \"infected\": 95.0}, {\"index\": 4815, \"location\": \"Iran\", \"date\": \"2020-02-18T00:00:00\", \"total_infected\": 139.0, \"n_days\": 7, \"infected\": 139.0}, {\"index\": 4816, \"location\": \"Iran\", \"date\": \"2020-02-19T00:00:00\", \"total_infected\": 245.0, \"n_days\": 8, \"infected\": 245.0}, {\"index\": 4817, \"location\": \"Iran\", \"date\": \"2020-02-20T00:00:00\", \"total_infected\": 388.0, \"n_days\": 9, \"infected\": 388.0}, {\"index\": 4818, \"location\": \"Iran\", \"date\": \"2020-02-21T00:00:00\", \"total_infected\": 593.0, \"n_days\": 10, \"infected\": 593.0}, {\"index\": 4819, \"location\": \"Iran\", \"date\": \"2020-02-22T00:00:00\", \"total_infected\": 978.0, \"n_days\": 11, \"infected\": 978.0}, {\"index\": 4820, \"location\": \"Iran\", \"date\": \"2020-02-23T00:00:00\", \"total_infected\": 1501.0, \"n_days\": 12, \"infected\": 1501.0}, {\"index\": 4821, \"location\": \"Iran\", \"date\": \"2020-02-24T00:00:00\", \"total_infected\": 2336.0, \"n_days\": 13, \"infected\": 2336.0}, {\"index\": 4822, \"location\": \"Iran\", \"date\": \"2020-02-25T00:00:00\", \"total_infected\": 2922.0000000000005, \"n_days\": 14, \"infected\": 2922.0000000000005}, {\"index\": 4823, \"location\": \"Iran\", \"date\": \"2020-02-26T00:00:00\", \"total_infected\": 3513.0, \"n_days\": 15, \"infected\": 3513.0}, {\"index\": 4824, \"location\": \"Iran\", \"date\": \"2020-02-27T00:00:00\", \"total_infected\": 4747.0, \"n_days\": 16, \"infected\": 4747.0}, {\"index\": 4825, \"location\": \"Iran\", \"date\": \"2020-02-28T00:00:00\", \"total_infected\": 5823.0, \"n_days\": 17, \"infected\": 5823.0}, {\"index\": 4826, \"location\": \"Iran\", \"date\": \"2020-02-29T00:00:00\", \"total_infected\": 6566.0, \"n_days\": 18, \"infected\": 6566.0}, {\"index\": 4827, \"location\": \"Iran\", \"date\": \"2020-03-01T00:00:00\", \"total_infected\": 7161.000000000001, \"n_days\": 19, \"infected\": 7161.000000000001}, {\"index\": 4828, \"location\": \"Iran\", \"date\": \"2020-03-02T00:00:00\", \"total_infected\": 8042.000000000001, \"n_days\": 20, \"infected\": 8042.000000000001}, {\"index\": 4829, \"location\": \"Iran\", \"date\": \"2020-03-03T00:00:00\", \"total_infected\": 9000.0, \"n_days\": 21, \"infected\": 9000.0}, {\"index\": 4830, \"location\": \"Iran\", \"date\": \"2020-03-04T00:00:00\", \"total_infected\": 10075.0, \"n_days\": 22, \"infected\": 10075.0}, {\"index\": 4831, \"location\": \"Iran\", \"date\": \"2020-03-05T00:00:00\", \"total_infected\": 11364.0, \"n_days\": 23, \"infected\": 11364.0}, {\"index\": 4832, \"location\": \"Iran\", \"date\": \"2020-03-06T00:00:00\", \"total_infected\": 12729.0, \"n_days\": 24, \"infected\": 12729.0}, {\"index\": 4833, \"location\": \"Iran\", \"date\": \"2020-03-07T00:00:00\", \"total_infected\": 13938.0, \"n_days\": 25, \"infected\": 13938.0}, {\"index\": 4834, \"location\": \"Iran\", \"date\": \"2020-03-08T00:00:00\", \"total_infected\": 14991.0, \"n_days\": 26, \"infected\": 14991.0}, {\"index\": 4835, \"location\": \"Iran\", \"date\": \"2020-03-09T00:00:00\", \"total_infected\": 16169.0, \"n_days\": 27, \"infected\": 16169.0}, {\"index\": 4836, \"location\": \"Iran\", \"date\": \"2020-03-10T00:00:00\", \"total_infected\": 17361.0, \"n_days\": 28, \"infected\": 17361.0}, {\"index\": 4837, \"location\": \"Iran\", \"date\": \"2020-03-11T00:00:00\", \"total_infected\": 18407.0, \"n_days\": 29, \"infected\": 18407.0}, {\"index\": 4838, \"location\": \"Iran\", \"date\": \"2020-03-12T00:00:00\", \"total_infected\": 19644.0, \"n_days\": 30, \"infected\": 19644.0}, {\"index\": 4839, \"location\": \"Iran\", \"date\": \"2020-03-13T00:00:00\", \"total_infected\": 20610.0, \"n_days\": 31, \"infected\": 20610.0}, {\"index\": 4840, \"location\": \"Iran\", \"date\": \"2020-03-14T00:00:00\", \"total_infected\": 21638.0, \"n_days\": 32, \"infected\": 21638.0}, {\"index\": 4841, \"location\": \"Iran\", \"date\": \"2020-03-15T00:00:00\", \"total_infected\": 23049.0, \"n_days\": 33, \"infected\": 23049.0}, {\"index\": 4842, \"location\": \"Iran\", \"date\": \"2020-03-16T00:00:00\", \"total_infected\": 24811.0, \"n_days\": 34, \"infected\": 24811.0}, {\"index\": 4843, \"location\": \"Iran\", \"date\": \"2020-03-17T00:00:00\", \"total_infected\": 31689.40840729214, \"n_days\": 35, \"infected\": 31689.40840729214}, {\"index\": 4844, \"location\": \"Iran\", \"date\": \"2020-03-18T00:00:00\", \"total_infected\": 40474.733191090956, \"n_days\": 36, \"infected\": 40474.733191090956}, {\"index\": 4845, \"location\": \"Iran\", \"date\": \"2020-03-19T00:00:00\", \"total_infected\": 51695.63299619781, \"n_days\": 37, \"infected\": 51695.63299619781}, {\"index\": 4846, \"location\": \"Iran\", \"date\": \"2020-03-20T00:00:00\", \"total_infected\": 66027.32767280641, \"n_days\": 38, \"infected\": 66027.32767280641}, {\"index\": 4847, \"location\": \"Iran\", \"date\": \"2020-03-21T00:00:00\", \"total_infected\": 84332.22976363968, \"n_days\": 39, \"infected\": 84332.22976363968}, {\"index\": 4848, \"location\": \"Iran\", \"date\": \"2020-03-22T00:00:00\", \"total_infected\": 107711.84034813492, \"n_days\": 40, \"infected\": 107711.84034813492}, {\"index\": 4849, \"location\": \"Iran\", \"date\": \"2020-03-23T00:00:00\", \"total_infected\": 137573.0320862962, \"n_days\": 41, \"infected\": 137573.0320862962}, {\"index\": 4850, \"location\": \"Iran\", \"date\": \"2020-03-24T00:00:00\", \"total_infected\": 175712.70805739978, \"n_days\": 42, \"infected\": 175712.70805739978}]}}, {\"mode\": \"vega-lite\"});\n",
       "</script>"
      ],
      "text/plain": [
       "alt.Chart(...)"
      ]
     },
     "execution_count": 4,
     "metadata": {},
     "output_type": "execute_result"
    }
   ],
   "source": [
    "#hide_input\n",
    "# Plot estimated absolute number of infected\n",
    "plot1 = plot(data_countries_pc, \"line\", True)\n",
    "plot1.save(\"../images/covid-estimate-infections.png\")\n",
    "plot1"
   ]
  },
  {
   "cell_type": "markdown",
   "metadata": {
    "papermill": {
     "duration": 0.012297,
     "end_time": "2020-03-25T06:23:46.091801",
     "exception": false,
     "start_time": "2020-03-25T06:23:46.079504",
     "status": "completed"
    },
    "tags": []
   },
   "source": [
    "Latest Country Estimates"
   ]
  },
  {
   "cell_type": "code",
   "execution_count": 5,
   "metadata": {
    "papermill": {
     "duration": 0.041505,
     "end_time": "2020-03-25T06:23:46.145516",
     "exception": false,
     "start_time": "2020-03-25T06:23:46.104011",
     "status": "completed"
    },
    "tags": []
   },
   "outputs": [
    {
     "data": {
      "text/html": [
       "<div>\n",
       "<style scoped>\n",
       "    .dataframe tbody tr th:only-of-type {\n",
       "        vertical-align: middle;\n",
       "    }\n",
       "\n",
       "    .dataframe tbody tr th {\n",
       "        vertical-align: top;\n",
       "    }\n",
       "\n",
       "    .dataframe thead th {\n",
       "        text-align: right;\n",
       "    }\n",
       "</style>\n",
       "<table border=\"1\" class=\"dataframe\">\n",
       "  <thead>\n",
       "    <tr style=\"text-align: right;\">\n",
       "      <th></th>\n",
       "      <th>Date</th>\n",
       "      <th>Estimate of Infected</th>\n",
       "    </tr>\n",
       "    <tr>\n",
       "      <th>Country</th>\n",
       "      <th></th>\n",
       "      <th></th>\n",
       "    </tr>\n",
       "  </thead>\n",
       "  <tbody>\n",
       "    <tr>\n",
       "      <th>Brazil</th>\n",
       "      <td>2020-03-24</td>\n",
       "      <td>15,989</td>\n",
       "    </tr>\n",
       "    <tr>\n",
       "      <th>China</th>\n",
       "      <td>2020-03-24</td>\n",
       "      <td>113,987</td>\n",
       "    </tr>\n",
       "    <tr>\n",
       "      <th>France</th>\n",
       "      <td>2020-03-24</td>\n",
       "      <td>96,281</td>\n",
       "    </tr>\n",
       "    <tr>\n",
       "      <th>Germany</th>\n",
       "      <td>2020-03-24</td>\n",
       "      <td>164,305</td>\n",
       "    </tr>\n",
       "    <tr>\n",
       "      <th>Iran</th>\n",
       "      <td>2020-03-24</td>\n",
       "      <td>175,713</td>\n",
       "    </tr>\n",
       "    <tr>\n",
       "      <th>Italy</th>\n",
       "      <td>2020-03-24</td>\n",
       "      <td>424,742</td>\n",
       "    </tr>\n",
       "    <tr>\n",
       "      <th>Japan</th>\n",
       "      <td>2020-03-24</td>\n",
       "      <td>2,444</td>\n",
       "    </tr>\n",
       "    <tr>\n",
       "      <th>Portugal</th>\n",
       "      <td>2020-03-24</td>\n",
       "      <td>12,991</td>\n",
       "    </tr>\n",
       "    <tr>\n",
       "      <th>Singapore</th>\n",
       "      <td>2020-03-24</td>\n",
       "      <td>1,074</td>\n",
       "    </tr>\n",
       "    <tr>\n",
       "      <th>South Korea</th>\n",
       "      <td>2020-03-24</td>\n",
       "      <td>24,940</td>\n",
       "    </tr>\n",
       "    <tr>\n",
       "      <th>Spain</th>\n",
       "      <td>2020-03-24</td>\n",
       "      <td>255,519</td>\n",
       "    </tr>\n",
       "    <tr>\n",
       "      <th>United Kingdom</th>\n",
       "      <td>2020-03-24</td>\n",
       "      <td>41,100</td>\n",
       "    </tr>\n",
       "    <tr>\n",
       "      <th>United States</th>\n",
       "      <td>2020-03-24</td>\n",
       "      <td>382,464</td>\n",
       "    </tr>\n",
       "  </tbody>\n",
       "</table>\n",
       "</div>"
      ],
      "text/plain": [
       "                     Date Estimate of Infected\n",
       "Country                                       \n",
       "Brazil         2020-03-24               15,989\n",
       "China          2020-03-24              113,987\n",
       "France         2020-03-24               96,281\n",
       "Germany        2020-03-24              164,305\n",
       "Iran           2020-03-24              175,713\n",
       "Italy          2020-03-24              424,742\n",
       "Japan          2020-03-24                2,444\n",
       "Portugal       2020-03-24               12,991\n",
       "Singapore      2020-03-24                1,074\n",
       "South Korea    2020-03-24               24,940\n",
       "Spain          2020-03-24              255,519\n",
       "United Kingdom 2020-03-24               41,100\n",
       "United States  2020-03-24              382,464"
      ]
     },
     "execution_count": 5,
     "metadata": {},
     "output_type": "execute_result"
    }
   ],
   "source": [
    "#hide_input    \n",
    "label = 'Estimated Infected'\n",
    "temp = pd.concat([x.copy() for x in data_countries_pc]).loc[lambda x: x.date >= '3/1/2020']\n",
    "\n",
    "metric_name = f'{label}'\n",
    "temp.columns = ['Country', 'Date', metric_name, \"Lower Bound Estimates\", \"Upper Bound Estimates\"]\n",
    "temp.loc[:, \"Estimated Infected\"] = temp.loc[:, \"Estimated Infected\"].round(0).map('{:,.0f}'.format) \n",
    "temp.loc[:, \"Lower Bound Estimates\"] = temp.loc[:, \"Lower Bound Estimates\"].round(0).map('{:,.0f}'.format) \n",
    "temp.loc[:, \"Upper Bound Estimates\"] = temp.loc[:, \"Upper Bound Estimates\"].round(0).map('{:,.0f}'.format) \n",
    "temp.groupby('Country').last()"
   ]
  },
  {
   "cell_type": "markdown",
   "metadata": {
    "papermill": {
     "duration": 0.013758,
     "end_time": "2020-03-25T06:23:46.171440",
     "exception": false,
     "start_time": "2020-03-25T06:23:46.157682",
     "status": "completed"
    },
    "tags": []
   },
   "source": [
    "## Infected vs. number of confirmed cases\n",
    "> Allows you to compare how countries have been tracking the true number of infected people. The smaller deviation from the dashed line (45 degree line) the better job at tracking the true number of infected people."
   ]
  },
  {
   "cell_type": "markdown",
   "metadata": {
    "papermill": {
     "duration": 0.011596,
     "end_time": "2020-03-25T06:23:46.195326",
     "exception": false,
     "start_time": "2020-03-25T06:23:46.183730",
     "status": "completed"
    },
    "tags": []
   },
   "source": [
    "> Tip: Click (Shift+ for multiple) on countries in the legend to filter the visualization. "
   ]
  },
  {
   "cell_type": "code",
   "execution_count": 6,
   "metadata": {
    "papermill": {
     "duration": 0.233508,
     "end_time": "2020-03-25T06:23:46.441684",
     "exception": false,
     "start_time": "2020-03-25T06:23:46.208176",
     "status": "completed"
    },
    "tags": []
   },
   "outputs": [
    {
     "data": {
      "text/html": [
       "\n",
       "<div id=\"altair-viz-d050171e3a204639aa891c6756dbdf4f\"></div>\n",
       "<script type=\"text/javascript\">\n",
       "  (function(spec, embedOpt){\n",
       "    const outputDiv = document.getElementById(\"altair-viz-d050171e3a204639aa891c6756dbdf4f\");\n",
       "    const paths = {\n",
       "      \"vega\": \"https://cdn.jsdelivr.net/npm//vega@5?noext\",\n",
       "      \"vega-lib\": \"https://cdn.jsdelivr.net/npm//vega-lib?noext\",\n",
       "      \"vega-lite\": \"https://cdn.jsdelivr.net/npm//vega-lite@4.0.2?noext\",\n",
       "      \"vega-embed\": \"https://cdn.jsdelivr.net/npm//vega-embed@6?noext\",\n",
       "    };\n",
       "\n",
       "    function loadScript(lib) {\n",
       "      return new Promise(function(resolve, reject) {\n",
       "        var s = document.createElement('script');\n",
       "        s.src = paths[lib];\n",
       "        s.async = true;\n",
       "        s.onload = () => resolve(paths[lib]);\n",
       "        s.onerror = () => reject(`Error loading script: ${paths[lib]}`);\n",
       "        document.getElementsByTagName(\"head\")[0].appendChild(s);\n",
       "      });\n",
       "    }\n",
       "\n",
       "    function showError(err) {\n",
       "      outputDiv.innerHTML = `<div class=\"error\" style=\"color:red;\">${err}</div>`;\n",
       "      throw err;\n",
       "    }\n",
       "\n",
       "    function displayChart(vegaEmbed) {\n",
       "      vegaEmbed(outputDiv, spec, embedOpt)\n",
       "        .catch(err => showError(`Javascript Error: ${err.message}<br>This usually means there's a typo in your chart specification. See the javascript console for the full traceback.`));\n",
       "    }\n",
       "\n",
       "    if(typeof define === \"function\" && define.amd) {\n",
       "      requirejs.config({paths});\n",
       "      require([\"vega-embed\"], displayChart, err => showError(`Error loading script: ${err.message}`));\n",
       "    } else if (typeof vegaEmbed === \"function\") {\n",
       "      displayChart(vegaEmbed);\n",
       "    } else {\n",
       "      loadScript(\"vega\")\n",
       "        .then(() => loadScript(\"vega-lite\"))\n",
       "        .then(() => loadScript(\"vega-embed\"))\n",
       "        .catch(showError)\n",
       "        .then(() => displayChart(vegaEmbed));\n",
       "    }\n",
       "  })({\"config\": {\"view\": {\"continuousWidth\": 400, \"continuousHeight\": 300}, \"axis\": {\"labelFontSize\": 15, \"titleFontSize\": 18}, \"title\": {\"fontSize\": 20}}, \"layer\": [{\"mark\": \"point\", \"encoding\": {\"color\": {\"type\": \"nominal\", \"field\": \"location\", \"legend\": {\"labelFontSize\": 15, \"title\": \"Country\", \"titleFontSize\": 17}, \"scale\": {\"scheme\": \"tableau20\"}}, \"opacity\": {\"condition\": {\"value\": 1, \"selection\": \"selector004\"}, \"value\": 0.1}, \"x\": {\"type\": \"quantitative\", \"field\": \"cases\", \"title\": \"Cases\"}, \"y\": {\"type\": \"quantitative\", \"field\": \"infected\", \"title\": \"Infected\"}}, \"height\": 400, \"selection\": {\"selector003\": {\"type\": \"interval\", \"bind\": \"scales\"}, \"selector004\": {\"type\": \"multi\", \"fields\": [\"location\"], \"bind\": \"legend\"}}, \"title\": \"COVID-19 Cases VS Infected\", \"width\": 550}, {\"mark\": {\"type\": \"line\", \"color\": \"grey\", \"strokeDash\": [3, 3]}, \"encoding\": {\"x\": {\"type\": \"quantitative\", \"field\": \"cases\"}, \"y\": {\"type\": \"quantitative\", \"field\": \"45_line\", \"scale\": {\"domain\": [0, 424742.31357137987]}}}}], \"data\": {\"name\": \"data-fc3fed3f77e2bb68927d0cf1d6c078e8\"}, \"$schema\": \"https://vega.github.io/schema/vega-lite/v4.0.2.json\", \"datasets\": {\"data-fc3fed3f77e2bb68927d0cf1d6c078e8\": [{\"index\": 5062, \"location\": \"Italy\", \"date\": \"2020-02-13T00:00:00\", \"total_cases\": 3, \"total_infected\": 20.0, \"n_days\": 0, \"cases\": 3, \"infected\": 20.0, \"45_line\": 3}, {\"index\": 5063, \"location\": \"Italy\", \"date\": \"2020-02-14T00:00:00\", \"total_cases\": 3, \"total_infected\": 62.0, \"n_days\": 1, \"cases\": 3, \"infected\": 62.0, \"45_line\": 3}, {\"index\": 5064, \"location\": \"Italy\", \"date\": \"2020-02-15T00:00:00\", \"total_cases\": 3, \"total_infected\": 155.0, \"n_days\": 2, \"cases\": 3, \"infected\": 155.0, \"45_line\": 3}, {\"index\": 5065, \"location\": \"Italy\", \"date\": \"2020-02-16T00:00:00\", \"total_cases\": 3, \"total_infected\": 229.0, \"n_days\": 3, \"cases\": 3, \"infected\": 229.0, \"45_line\": 3}, {\"index\": 5066, \"location\": \"Italy\", \"date\": \"2020-02-17T00:00:00\", \"total_cases\": 3, \"total_infected\": 322.0, \"n_days\": 4, \"cases\": 3, \"infected\": 322.0, \"45_line\": 3}, {\"index\": 5067, \"location\": \"Italy\", \"date\": \"2020-02-18T00:00:00\", \"total_cases\": 3, \"total_infected\": 453.0, \"n_days\": 5, \"cases\": 3, \"infected\": 453.0, \"45_line\": 3}, {\"index\": 5068, \"location\": \"Italy\", \"date\": \"2020-02-19T00:00:00\", \"total_cases\": 3, \"total_infected\": 655.0, \"n_days\": 6, \"cases\": 3, \"infected\": 655.0, \"45_line\": 3}, {\"index\": 5069, \"location\": \"Italy\", \"date\": \"2020-02-20T00:00:00\", \"total_cases\": 3, \"total_infected\": 888.0, \"n_days\": 7, \"cases\": 3, \"infected\": 888.0, \"45_line\": 3}, {\"index\": 5070, \"location\": \"Italy\", \"date\": \"2020-02-21T00:00:00\", \"total_cases\": 20, \"total_infected\": 1128.0, \"n_days\": 8, \"cases\": 20, \"infected\": 1128.0, \"45_line\": 20}, {\"index\": 5071, \"location\": \"Italy\", \"date\": \"2020-02-22T00:00:00\", \"total_cases\": 62, \"total_infected\": 1694.0, \"n_days\": 9, \"cases\": 62, \"infected\": 1694.0, \"45_line\": 62}, {\"index\": 5072, \"location\": \"Italy\", \"date\": \"2020-02-23T00:00:00\", \"total_cases\": 155, \"total_infected\": 2036.0, \"n_days\": 10, \"cases\": 155, \"infected\": 2036.0, \"45_line\": 155}, {\"index\": 5073, \"location\": \"Italy\", \"date\": \"2020-02-24T00:00:00\", \"total_cases\": 229, \"total_infected\": 2502.0, \"n_days\": 11, \"cases\": 229, \"infected\": 2502.0, \"45_line\": 229}, {\"index\": 5074, \"location\": \"Italy\", \"date\": \"2020-02-25T00:00:00\", \"total_cases\": 322, \"total_infected\": 3089.0, \"n_days\": 12, \"cases\": 322, \"infected\": 3089.0, \"45_line\": 322}, {\"index\": 5075, \"location\": \"Italy\", \"date\": \"2020-02-26T00:00:00\", \"total_cases\": 453, \"total_infected\": 3858.0, \"n_days\": 13, \"cases\": 453, \"infected\": 3858.0, \"45_line\": 453}, {\"index\": 5076, \"location\": \"Italy\", \"date\": \"2020-02-27T00:00:00\", \"total_cases\": 655, \"total_infected\": 4636.0, \"n_days\": 14, \"cases\": 655, \"infected\": 4636.0, \"45_line\": 655}, {\"index\": 5077, \"location\": \"Italy\", \"date\": \"2020-02-28T00:00:00\", \"total_cases\": 888, \"total_infected\": 5883.0, \"n_days\": 15, \"cases\": 888, \"infected\": 5883.0, \"45_line\": 888}, {\"index\": 5078, \"location\": \"Italy\", \"date\": \"2020-02-29T00:00:00\", \"total_cases\": 1128, \"total_infected\": 7375.0, \"n_days\": 16, \"cases\": 1128, \"infected\": 7375.0, \"45_line\": 1128}, {\"index\": 5079, \"location\": \"Italy\", \"date\": \"2020-03-01T00:00:00\", \"total_cases\": 1694, \"total_infected\": 9172.0, \"n_days\": 17, \"cases\": 1694, \"infected\": 9172.0, \"45_line\": 1694}, {\"index\": 5080, \"location\": \"Italy\", \"date\": \"2020-03-02T00:00:00\", \"total_cases\": 2036, \"total_infected\": 10149.0, \"n_days\": 18, \"cases\": 2036, \"infected\": 10149.0, \"45_line\": 2036}, {\"index\": 5081, \"location\": \"Italy\", \"date\": \"2020-03-03T00:00:00\", \"total_cases\": 2502, \"total_infected\": 12461.999999999998, \"n_days\": 19, \"cases\": 2502, \"infected\": 12461.999999999998, \"45_line\": 2502}, {\"index\": 5082, \"location\": \"Italy\", \"date\": \"2020-03-04T00:00:00\", \"total_cases\": 3089, \"total_infected\": 12461.999999999998, \"n_days\": 20, \"cases\": 3089, \"infected\": 12461.999999999998, \"45_line\": 3089}, {\"index\": 5083, \"location\": \"Italy\", \"date\": \"2020-03-05T00:00:00\", \"total_cases\": 3858, \"total_infected\": 17660.0, \"n_days\": 21, \"cases\": 3858, \"infected\": 17660.0, \"45_line\": 3858}, {\"index\": 5084, \"location\": \"Italy\", \"date\": \"2020-03-06T00:00:00\", \"total_cases\": 4636, \"total_infected\": 21157.0, \"n_days\": 22, \"cases\": 4636, \"infected\": 21157.0, \"45_line\": 4636}, {\"index\": 5085, \"location\": \"Italy\", \"date\": \"2020-03-07T00:00:00\", \"total_cases\": 5883, \"total_infected\": 24747.0, \"n_days\": 23, \"cases\": 5883, \"infected\": 24747.0, \"45_line\": 5883}, {\"index\": 5086, \"location\": \"Italy\", \"date\": \"2020-03-08T00:00:00\", \"total_cases\": 7375, \"total_infected\": 27980.0, \"n_days\": 24, \"cases\": 7375, \"infected\": 27980.0, \"45_line\": 7375}, {\"index\": 5087, \"location\": \"Italy\", \"date\": \"2020-03-09T00:00:00\", \"total_cases\": 9172, \"total_infected\": 31505.999999999996, \"n_days\": 25, \"cases\": 9172, \"infected\": 31505.999999999996, \"45_line\": 9172}, {\"index\": 5088, \"location\": \"Italy\", \"date\": \"2020-03-10T00:00:00\", \"total_cases\": 10149, \"total_infected\": 35713.0, \"n_days\": 26, \"cases\": 10149, \"infected\": 35713.0, \"45_line\": 10149}, {\"index\": 5089, \"location\": \"Italy\", \"date\": \"2020-03-11T00:00:00\", \"total_cases\": 12462, \"total_infected\": 41035.0, \"n_days\": 27, \"cases\": 12462, \"infected\": 41035.0, \"45_line\": 12462}, {\"index\": 5090, \"location\": \"Italy\", \"date\": \"2020-03-12T00:00:00\", \"total_cases\": 12462, \"total_infected\": 47021.0, \"n_days\": 28, \"cases\": 12462, \"infected\": 47021.0, \"45_line\": 12462}, {\"index\": 5091, \"location\": \"Italy\", \"date\": \"2020-03-13T00:00:00\", \"total_cases\": 17660, \"total_infected\": 53578.0, \"n_days\": 29, \"cases\": 17660, \"infected\": 53578.0, \"45_line\": 17660}, {\"index\": 5092, \"location\": \"Italy\", \"date\": \"2020-03-14T00:00:00\", \"total_cases\": 21157, \"total_infected\": 59138.0, \"n_days\": 30, \"cases\": 21157, \"infected\": 59138.0, \"45_line\": 21157}, {\"index\": 5093, \"location\": \"Italy\", \"date\": \"2020-03-15T00:00:00\", \"total_cases\": 24747, \"total_infected\": 63927.0, \"n_days\": 31, \"cases\": 24747, \"infected\": 63927.0, \"45_line\": 24747}, {\"index\": 5094, \"location\": \"Italy\", \"date\": \"2020-03-16T00:00:00\", \"total_cases\": 27980, \"total_infected\": 69176.0, \"n_days\": 32, \"cases\": 27980, \"infected\": 69176.0, \"45_line\": 27980}, {\"index\": 5095, \"location\": \"Italy\", \"date\": \"2020-03-17T00:00:00\", \"total_cases\": 31506, \"total_infected\": 86791.40247683375, \"n_days\": 33, \"cases\": 31506, \"infected\": 86791.40247683375, \"45_line\": 31506}, {\"index\": 5096, \"location\": \"Italy\", \"date\": \"2020-03-18T00:00:00\", \"total_cases\": 35713, \"total_infected\": 108892.4994780812, \"n_days\": 34, \"cases\": 35713, \"infected\": 108892.4994780812, \"45_line\": 35713}, {\"index\": 5097, \"location\": \"Italy\", \"date\": \"2020-03-19T00:00:00\", \"total_cases\": 41035, \"total_infected\": 136621.55587068573, \"n_days\": 35, \"cases\": 41035, \"infected\": 136621.55587068573, \"45_line\": 41035}, {\"index\": 5098, \"location\": \"Italy\", \"date\": \"2020-03-20T00:00:00\", \"total_cases\": 47021, \"total_infected\": 171411.7098789163, \"n_days\": 36, \"cases\": 47021, \"infected\": 171411.7098789163, \"45_line\": 47021}, {\"index\": 5099, \"location\": \"Italy\", \"date\": \"2020-03-21T00:00:00\", \"total_cases\": 53578, \"total_infected\": 215061.04286664864, \"n_days\": 37, \"cases\": 53578, \"infected\": 215061.04286664864, \"45_line\": 53578}, {\"index\": 5100, \"location\": \"Italy\", \"date\": \"2020-03-22T00:00:00\", \"total_cases\": 59138, \"total_infected\": 269825.5107049685, \"n_days\": 38, \"cases\": 59138, \"infected\": 269825.5107049685, \"45_line\": 59138}, {\"index\": 5101, \"location\": \"Italy\", \"date\": \"2020-03-23T00:00:00\", \"total_cases\": 63927, \"total_infected\": 338535.5397552928, \"n_days\": 39, \"cases\": 63927, \"infected\": 338535.5397552928, \"45_line\": 63927}, {\"index\": 5102, \"location\": \"Italy\", \"date\": \"2020-03-24T00:00:00\", \"total_cases\": 69176, \"total_infected\": 424742.31357137987, \"n_days\": 40, \"cases\": 69176, \"infected\": 424742.31357137987, \"45_line\": 69176}, {\"index\": 9105, \"location\": \"Spain\", \"date\": \"2020-02-24T00:00:00\", \"total_cases\": 2, \"total_infected\": 165.0, \"n_days\": 0, \"cases\": 2, \"infected\": 165.0, \"45_line\": 2}, {\"index\": 9106, \"location\": \"Spain\", \"date\": \"2020-02-25T00:00:00\", \"total_cases\": 6, \"total_infected\": 222.0, \"n_days\": 1, \"cases\": 6, \"infected\": 222.0, \"45_line\": 6}, {\"index\": 9107, \"location\": \"Spain\", \"date\": \"2020-02-26T00:00:00\", \"total_cases\": 13, \"total_infected\": 259.0, \"n_days\": 2, \"cases\": 13, \"infected\": 259.0, \"45_line\": 13}, {\"index\": 9108, \"location\": \"Spain\", \"date\": \"2020-02-27T00:00:00\", \"total_cases\": 15, \"total_infected\": 400.0, \"n_days\": 3, \"cases\": 15, \"infected\": 400.0, \"45_line\": 15}, {\"index\": 9109, \"location\": \"Spain\", \"date\": \"2020-02-28T00:00:00\", \"total_cases\": 32, \"total_infected\": 500.0, \"n_days\": 4, \"cases\": 32, \"infected\": 500.0, \"45_line\": 32}, {\"index\": 9110, \"location\": \"Spain\", \"date\": \"2020-02-29T00:00:00\", \"total_cases\": 45, \"total_infected\": 673.0, \"n_days\": 5, \"cases\": 45, \"infected\": 673.0, \"45_line\": 45}, {\"index\": 9111, \"location\": \"Spain\", \"date\": \"2020-03-01T00:00:00\", \"total_cases\": 84, \"total_infected\": 1073.0, \"n_days\": 6, \"cases\": 84, \"infected\": 1073.0, \"45_line\": 84}, {\"index\": 9112, \"location\": \"Spain\", \"date\": \"2020-03-02T00:00:00\", \"total_cases\": 120, \"total_infected\": 1695.0, \"n_days\": 7, \"cases\": 120, \"infected\": 1695.0, \"45_line\": 120}, {\"index\": 9113, \"location\": \"Spain\", \"date\": \"2020-03-03T00:00:00\", \"total_cases\": 165, \"total_infected\": 2277.0, \"n_days\": 8, \"cases\": 165, \"infected\": 2277.0, \"45_line\": 165}, {\"index\": 9114, \"location\": \"Spain\", \"date\": \"2020-03-04T00:00:00\", \"total_cases\": 222, \"total_infected\": 2277.0, \"n_days\": 9, \"cases\": 222, \"infected\": 2277.0, \"45_line\": 222}, {\"index\": 9115, \"location\": \"Spain\", \"date\": \"2020-03-05T00:00:00\", \"total_cases\": 259, \"total_infected\": 5232.0, \"n_days\": 10, \"cases\": 259, \"infected\": 5232.0, \"45_line\": 259}, {\"index\": 9116, \"location\": \"Spain\", \"date\": \"2020-03-06T00:00:00\", \"total_cases\": 400, \"total_infected\": 6391.0, \"n_days\": 11, \"cases\": 400, \"infected\": 6391.0, \"45_line\": 400}, {\"index\": 9117, \"location\": \"Spain\", \"date\": \"2020-03-07T00:00:00\", \"total_cases\": 500, \"total_infected\": 7798.0, \"n_days\": 12, \"cases\": 500, \"infected\": 7798.0, \"45_line\": 500}, {\"index\": 9118, \"location\": \"Spain\", \"date\": \"2020-03-08T00:00:00\", \"total_cases\": 673, \"total_infected\": 9942.0, \"n_days\": 13, \"cases\": 673, \"infected\": 9942.0, \"45_line\": 673}, {\"index\": 9119, \"location\": \"Spain\", \"date\": \"2020-03-09T00:00:00\", \"total_cases\": 1073, \"total_infected\": 11748.0, \"n_days\": 14, \"cases\": 1073, \"infected\": 11748.0, \"45_line\": 1073}, {\"index\": 9120, \"location\": \"Spain\", \"date\": \"2020-03-10T00:00:00\", \"total_cases\": 1695, \"total_infected\": 13909.999999999998, \"n_days\": 15, \"cases\": 1695, \"infected\": 13909.999999999998, \"45_line\": 1695}, {\"index\": 9121, \"location\": \"Spain\", \"date\": \"2020-03-11T00:00:00\", \"total_cases\": 2277, \"total_infected\": 17963.0, \"n_days\": 16, \"cases\": 2277, \"infected\": 17963.0, \"45_line\": 2277}, {\"index\": 9122, \"location\": \"Spain\", \"date\": \"2020-03-12T00:00:00\", \"total_cases\": 2277, \"total_infected\": 20410.0, \"n_days\": 17, \"cases\": 2277, \"infected\": 20410.0, \"45_line\": 2277}, {\"index\": 9123, \"location\": \"Spain\", \"date\": \"2020-03-13T00:00:00\", \"total_cases\": 5232, \"total_infected\": 25374.0, \"n_days\": 18, \"cases\": 5232, \"infected\": 25374.0, \"45_line\": 5232}, {\"index\": 9124, \"location\": \"Spain\", \"date\": \"2020-03-14T00:00:00\", \"total_cases\": 6391, \"total_infected\": 28768.0, \"n_days\": 19, \"cases\": 6391, \"infected\": 28768.0, \"45_line\": 6391}, {\"index\": 9125, \"location\": \"Spain\", \"date\": \"2020-03-15T00:00:00\", \"total_cases\": 7798, \"total_infected\": 35136.0, \"n_days\": 20, \"cases\": 7798, \"infected\": 35136.0, \"45_line\": 7798}, {\"index\": 9126, \"location\": \"Spain\", \"date\": \"2020-03-16T00:00:00\", \"total_cases\": 9942, \"total_infected\": 39885.0, \"n_days\": 21, \"cases\": 9942, \"infected\": 39885.0, \"45_line\": 9942}, {\"index\": 9127, \"location\": \"Spain\", \"date\": \"2020-03-17T00:00:00\", \"total_cases\": 11748, \"total_infected\": 50307.91936067452, \"n_days\": 22, \"cases\": 11748, \"infected\": 50307.91936067452, \"45_line\": 11748}, {\"index\": 9128, \"location\": \"Spain\", \"date\": \"2020-03-18T00:00:00\", \"total_cases\": 13910, \"total_infected\": 63454.60073712247, \"n_days\": 23, \"cases\": 13910, \"infected\": 63454.60073712247, \"45_line\": 13910}, {\"index\": 9129, \"location\": \"Spain\", \"date\": \"2020-03-19T00:00:00\", \"total_cases\": 17963, \"total_infected\": 80036.82930793418, \"n_days\": 24, \"cases\": 17963, \"infected\": 80036.82930793418, \"45_line\": 17963}, {\"index\": 9130, \"location\": \"Spain\", \"date\": \"2020-03-20T00:00:00\", \"total_cases\": 20410, \"total_infected\": 100952.39700909173, \"n_days\": 25, \"cases\": 20410, \"infected\": 100952.39700909173, \"45_line\": 20410}, {\"index\": 9131, \"location\": \"Spain\", \"date\": \"2020-03-21T00:00:00\", \"total_cases\": 25374, \"total_infected\": 127333.71061803149, \"n_days\": 26, \"cases\": 25374, \"infected\": 127333.71061803149, \"45_line\": 25374}, {\"index\": 9132, \"location\": \"Spain\", \"date\": \"2020-03-22T00:00:00\", \"total_cases\": 28768, \"total_infected\": 160609.10231082843, \"n_days\": 27, \"cases\": 28768, \"infected\": 160609.10231082843, \"45_line\": 28768}, {\"index\": 9133, \"location\": \"Spain\", \"date\": \"2020-03-23T00:00:00\", \"total_cases\": 35136, \"total_infected\": 202580.1621572892, \"n_days\": 28, \"cases\": 35136, \"infected\": 202580.1621572892, \"45_line\": 35136}, {\"index\": 9134, \"location\": \"Spain\", \"date\": \"2020-03-24T00:00:00\", \"total_cases\": 39885, \"total_infected\": 255519.27947552392, \"n_days\": 29, \"cases\": 39885, \"infected\": 255519.27947552392, \"45_line\": 39885}, {\"index\": 3670, \"location\": \"France\", \"date\": \"2020-02-07T00:00:00\", \"total_cases\": 6, \"total_infected\": 12.0, \"n_days\": 0, \"cases\": 6, \"infected\": 12.0, \"45_line\": 6}, {\"index\": 3671, \"location\": \"France\", \"date\": \"2020-02-08T00:00:00\", \"total_cases\": 11, \"total_infected\": 12.0, \"n_days\": 1, \"cases\": 11, \"infected\": 12.0, \"45_line\": 11}, {\"index\": 3672, \"location\": \"France\", \"date\": \"2020-02-09T00:00:00\", \"total_cases\": 11, \"total_infected\": 12.0, \"n_days\": 2, \"cases\": 11, \"infected\": 12.0, \"45_line\": 11}, {\"index\": 3673, \"location\": \"France\", \"date\": \"2020-02-10T00:00:00\", \"total_cases\": 11, \"total_infected\": 12.0, \"n_days\": 3, \"cases\": 11, \"infected\": 12.0, \"45_line\": 11}, {\"index\": 3674, \"location\": \"France\", \"date\": \"2020-02-11T00:00:00\", \"total_cases\": 11, \"total_infected\": 12.0, \"n_days\": 4, \"cases\": 11, \"infected\": 12.0, \"45_line\": 11}, {\"index\": 3675, \"location\": \"France\", \"date\": \"2020-02-12T00:00:00\", \"total_cases\": 11, \"total_infected\": 12.0, \"n_days\": 5, \"cases\": 11, \"infected\": 12.0, \"45_line\": 11}, {\"index\": 3676, \"location\": \"France\", \"date\": \"2020-02-13T00:00:00\", \"total_cases\": 11, \"total_infected\": 12.0, \"n_days\": 6, \"cases\": 11, \"infected\": 12.0, \"45_line\": 11}, {\"index\": 3677, \"location\": \"France\", \"date\": \"2020-02-14T00:00:00\", \"total_cases\": 11, \"total_infected\": 12.0, \"n_days\": 7, \"cases\": 11, \"infected\": 12.0, \"45_line\": 11}, {\"index\": 3678, \"location\": \"France\", \"date\": \"2020-02-15T00:00:00\", \"total_cases\": 12, \"total_infected\": 12.0, \"n_days\": 8, \"cases\": 12, \"infected\": 12.0, \"45_line\": 12}, {\"index\": 3679, \"location\": \"France\", \"date\": \"2020-02-16T00:00:00\", \"total_cases\": 12, \"total_infected\": 12.0, \"n_days\": 9, \"cases\": 12, \"infected\": 12.0, \"45_line\": 12}, {\"index\": 3680, \"location\": \"France\", \"date\": \"2020-02-17T00:00:00\", \"total_cases\": 12, \"total_infected\": 14.0, \"n_days\": 10, \"cases\": 12, \"infected\": 14.0, \"45_line\": 12}, {\"index\": 3681, \"location\": \"France\", \"date\": \"2020-02-18T00:00:00\", \"total_cases\": 12, \"total_infected\": 18.0, \"n_days\": 11, \"cases\": 12, \"infected\": 18.0, \"45_line\": 12}, {\"index\": 3682, \"location\": \"France\", \"date\": \"2020-02-19T00:00:00\", \"total_cases\": 12, \"total_infected\": 38.0, \"n_days\": 12, \"cases\": 12, \"infected\": 38.0, \"45_line\": 12}, {\"index\": 3683, \"location\": \"France\", \"date\": \"2020-02-20T00:00:00\", \"total_cases\": 12, \"total_infected\": 57.0, \"n_days\": 13, \"cases\": 12, \"infected\": 57.0, \"45_line\": 12}, {\"index\": 3684, \"location\": \"France\", \"date\": \"2020-02-21T00:00:00\", \"total_cases\": 12, \"total_infected\": 100.0, \"n_days\": 14, \"cases\": 12, \"infected\": 100.0, \"45_line\": 12}, {\"index\": 3685, \"location\": \"France\", \"date\": \"2020-02-22T00:00:00\", \"total_cases\": 12, \"total_infected\": 130.0, \"n_days\": 15, \"cases\": 12, \"infected\": 130.0, \"45_line\": 12}, {\"index\": 3686, \"location\": \"France\", \"date\": \"2020-02-23T00:00:00\", \"total_cases\": 12, \"total_infected\": 191.0, \"n_days\": 16, \"cases\": 12, \"infected\": 191.0, \"45_line\": 12}, {\"index\": 3687, \"location\": \"France\", \"date\": \"2020-02-24T00:00:00\", \"total_cases\": 12, \"total_infected\": 204.0, \"n_days\": 17, \"cases\": 12, \"infected\": 204.0, \"45_line\": 12}, {\"index\": 3688, \"location\": \"France\", \"date\": \"2020-02-25T00:00:00\", \"total_cases\": 14, \"total_infected\": 288.0, \"n_days\": 18, \"cases\": 14, \"infected\": 288.0, \"45_line\": 14}, {\"index\": 3689, \"location\": \"France\", \"date\": \"2020-02-26T00:00:00\", \"total_cases\": 18, \"total_infected\": 380.0, \"n_days\": 19, \"cases\": 18, \"infected\": 380.0, \"45_line\": 18}, {\"index\": 3690, \"location\": \"France\", \"date\": \"2020-02-27T00:00:00\", \"total_cases\": 38, \"total_infected\": 656.0, \"n_days\": 20, \"cases\": 38, \"infected\": 656.0, \"45_line\": 38}, {\"index\": 3691, \"location\": \"France\", \"date\": \"2020-02-28T00:00:00\", \"total_cases\": 57, \"total_infected\": 959.0, \"n_days\": 21, \"cases\": 57, \"infected\": 959.0, \"45_line\": 57}, {\"index\": 3692, \"location\": \"France\", \"date\": \"2020-02-29T00:00:00\", \"total_cases\": 100, \"total_infected\": 1136.0, \"n_days\": 22, \"cases\": 100, \"infected\": 1136.0, \"45_line\": 100}, {\"index\": 3693, \"location\": \"France\", \"date\": \"2020-03-01T00:00:00\", \"total_cases\": 130, \"total_infected\": 1219.0, \"n_days\": 23, \"cases\": 130, \"infected\": 1219.0, \"45_line\": 130}, {\"index\": 3694, \"location\": \"France\", \"date\": \"2020-03-02T00:00:00\", \"total_cases\": 191, \"total_infected\": 1793.9999999999998, \"n_days\": 24, \"cases\": 191, \"infected\": 1793.9999999999998, \"45_line\": 191}, {\"index\": 3695, \"location\": \"France\", \"date\": \"2020-03-03T00:00:00\", \"total_cases\": 204, \"total_infected\": 2293.0, \"n_days\": 25, \"cases\": 204, \"infected\": 2293.0, \"45_line\": 204}, {\"index\": 3696, \"location\": \"France\", \"date\": \"2020-03-04T00:00:00\", \"total_cases\": 288, \"total_infected\": 2293.0, \"n_days\": 26, \"cases\": 288, \"infected\": 2293.0, \"45_line\": 288}, {\"index\": 3697, \"location\": \"France\", \"date\": \"2020-03-05T00:00:00\", \"total_cases\": 380, \"total_infected\": 3681.0, \"n_days\": 27, \"cases\": 380, \"infected\": 3681.0, \"45_line\": 380}, {\"index\": 3698, \"location\": \"France\", \"date\": \"2020-03-06T00:00:00\", \"total_cases\": 656, \"total_infected\": 4496.0, \"n_days\": 28, \"cases\": 656, \"infected\": 4496.0, \"45_line\": 656}, {\"index\": 3699, \"location\": \"France\", \"date\": \"2020-03-07T00:00:00\", \"total_cases\": 959, \"total_infected\": 4532.0, \"n_days\": 29, \"cases\": 959, \"infected\": 4532.0, \"45_line\": 959}, {\"index\": 3700, \"location\": \"France\", \"date\": \"2020-03-08T00:00:00\", \"total_cases\": 1136, \"total_infected\": 6683.0, \"n_days\": 30, \"cases\": 1136, \"infected\": 6683.0, \"45_line\": 1136}, {\"index\": 3701, \"location\": \"France\", \"date\": \"2020-03-09T00:00:00\", \"total_cases\": 1219, \"total_infected\": 7715.0, \"n_days\": 31, \"cases\": 1219, \"infected\": 7715.0, \"45_line\": 1219}, {\"index\": 3702, \"location\": \"France\", \"date\": \"2020-03-10T00:00:00\", \"total_cases\": 1794, \"total_infected\": 9124.0, \"n_days\": 32, \"cases\": 1794, \"infected\": 9124.0, \"45_line\": 1794}, {\"index\": 3703, \"location\": \"France\", \"date\": \"2020-03-11T00:00:00\", \"total_cases\": 2293, \"total_infected\": 10970.0, \"n_days\": 33, \"cases\": 2293, \"infected\": 10970.0, \"45_line\": 2293}, {\"index\": 3704, \"location\": \"France\", \"date\": \"2020-03-12T00:00:00\", \"total_cases\": 2293, \"total_infected\": 12758.0, \"n_days\": 34, \"cases\": 2293, \"infected\": 12758.0, \"45_line\": 2293}, {\"index\": 3705, \"location\": \"France\", \"date\": \"2020-03-13T00:00:00\", \"total_cases\": 3681, \"total_infected\": 14463.0, \"n_days\": 35, \"cases\": 3681, \"infected\": 14463.0, \"45_line\": 3681}, {\"index\": 3706, \"location\": \"France\", \"date\": \"2020-03-14T00:00:00\", \"total_cases\": 4496, \"total_infected\": 16243.0, \"n_days\": 36, \"cases\": 4496, \"infected\": 16243.0, \"45_line\": 4496}, {\"index\": 3707, \"location\": \"France\", \"date\": \"2020-03-15T00:00:00\", \"total_cases\": 4532, \"total_infected\": 20123.0, \"n_days\": 37, \"cases\": 4532, \"infected\": 20123.0, \"45_line\": 4532}, {\"index\": 3708, \"location\": \"France\", \"date\": \"2020-03-16T00:00:00\", \"total_cases\": 6683, \"total_infected\": 22622.0, \"n_days\": 38, \"cases\": 6683, \"infected\": 22622.0, \"45_line\": 6683}, {\"index\": 3709, \"location\": \"France\", \"date\": \"2020-03-17T00:00:00\", \"total_cases\": 7715, \"total_infected\": 27111.735662472314, \"n_days\": 39, \"cases\": 7715, \"infected\": 27111.735662472314, \"45_line\": 7715}, {\"index\": 3710, \"location\": \"France\", \"date\": \"2020-03-18T00:00:00\", \"total_cases\": 9124, \"total_infected\": 32492.53870708925, \"n_days\": 40, \"cases\": 9124, \"infected\": 32492.53870708925, \"45_line\": 9124}, {\"index\": 3711, \"location\": \"France\", \"date\": \"2020-03-19T00:00:00\", \"total_cases\": 10970, \"total_infected\": 38941.25720224797, \"n_days\": 41, \"cases\": 10970, \"infected\": 38941.25720224797, \"45_line\": 10970}, {\"index\": 3712, \"location\": \"France\", \"date\": \"2020-03-20T00:00:00\", \"total_cases\": 12758, \"total_infected\": 46669.837840672495, \"n_days\": 42, \"cases\": 12758, \"infected\": 46669.837840672495, \"45_line\": 12758}, {\"index\": 3713, \"location\": \"France\", \"date\": \"2020-03-21T00:00:00\", \"total_cases\": 14463, \"total_infected\": 55932.29188165327, \"n_days\": 43, \"cases\": 14463, \"infected\": 55932.29188165327, \"45_line\": 14463}, {\"index\": 3714, \"location\": \"France\", \"date\": \"2020-03-22T00:00:00\", \"total_cases\": 16243, \"total_infected\": 67033.04360762221, \"n_days\": 44, \"cases\": 16243, \"infected\": 67033.04360762221, \"45_line\": 16243}, {\"index\": 3715, \"location\": \"France\", \"date\": \"2020-03-23T00:00:00\", \"total_cases\": 20123, \"total_infected\": 80336.93567946392, \"n_days\": 45, \"cases\": 20123, \"infected\": 80336.93567946392, \"45_line\": 20123}, {\"index\": 3716, \"location\": \"France\", \"date\": \"2020-03-24T00:00:00\", \"total_cases\": 22622, \"total_infected\": 96281.22023139715, \"n_days\": 46, \"cases\": 22622, \"infected\": 96281.22023139715, \"45_line\": 22622}, {\"index\": 10241, \"location\": \"United Kingdom\", \"date\": \"2020-02-26T00:00:00\", \"total_cases\": 13, \"total_infected\": 116.0, \"n_days\": 0, \"cases\": 13, \"infected\": 116.0, \"45_line\": 13}, {\"index\": 10242, \"location\": \"United Kingdom\", \"date\": \"2020-02-27T00:00:00\", \"total_cases\": 15, \"total_infected\": 164.0, \"n_days\": 1, \"cases\": 15, \"infected\": 164.0, \"45_line\": 15}, {\"index\": 10243, \"location\": \"United Kingdom\", \"date\": \"2020-02-28T00:00:00\", \"total_cases\": 20, \"total_infected\": 207.0, \"n_days\": 2, \"cases\": 20, \"infected\": 207.0, \"45_line\": 20}, {\"index\": 10244, \"location\": \"United Kingdom\", \"date\": \"2020-02-29T00:00:00\", \"total_cases\": 23, \"total_infected\": 274.0, \"n_days\": 3, \"cases\": 23, \"infected\": 274.0, \"45_line\": 23}, {\"index\": 10245, \"location\": \"United Kingdom\", \"date\": \"2020-03-01T00:00:00\", \"total_cases\": 36, \"total_infected\": 322.0, \"n_days\": 4, \"cases\": 36, \"infected\": 322.0, \"45_line\": 36}, {\"index\": 10246, \"location\": \"United Kingdom\", \"date\": \"2020-03-02T00:00:00\", \"total_cases\": 40, \"total_infected\": 384.0, \"n_days\": 5, \"cases\": 40, \"infected\": 384.0, \"45_line\": 40}, {\"index\": 10247, \"location\": \"United Kingdom\", \"date\": \"2020-03-03T00:00:00\", \"total_cases\": 51, \"total_infected\": 458.99999999999994, \"n_days\": 6, \"cases\": 51, \"infected\": 458.99999999999994, \"45_line\": 51}, {\"index\": 10248, \"location\": \"United Kingdom\", \"date\": \"2020-03-04T00:00:00\", \"total_cases\": 86, \"total_infected\": 458.99999999999994, \"n_days\": 7, \"cases\": 86, \"infected\": 458.99999999999994, \"45_line\": 86}, {\"index\": 10249, \"location\": \"United Kingdom\", \"date\": \"2020-03-05T00:00:00\", \"total_cases\": 116, \"total_infected\": 802.0, \"n_days\": 8, \"cases\": 116, \"infected\": 802.0, \"45_line\": 116}, {\"index\": 10250, \"location\": \"United Kingdom\", \"date\": \"2020-03-06T00:00:00\", \"total_cases\": 164, \"total_infected\": 1144.0, \"n_days\": 9, \"cases\": 164, \"infected\": 1144.0, \"45_line\": 164}, {\"index\": 10251, \"location\": \"United Kingdom\", \"date\": \"2020-03-07T00:00:00\", \"total_cases\": 207, \"total_infected\": 1145.0, \"n_days\": 10, \"cases\": 207, \"infected\": 1145.0, \"45_line\": 207}, {\"index\": 10252, \"location\": \"United Kingdom\", \"date\": \"2020-03-08T00:00:00\", \"total_cases\": 274, \"total_infected\": 1551.0, \"n_days\": 11, \"cases\": 274, \"infected\": 1551.0, \"45_line\": 274}, {\"index\": 10253, \"location\": \"United Kingdom\", \"date\": \"2020-03-09T00:00:00\", \"total_cases\": 322, \"total_infected\": 1960.0, \"n_days\": 12, \"cases\": 322, \"infected\": 1960.0, \"45_line\": 322}, {\"index\": 10254, \"location\": \"United Kingdom\", \"date\": \"2020-03-10T00:00:00\", \"total_cases\": 384, \"total_infected\": 2642.0, \"n_days\": 13, \"cases\": 384, \"infected\": 2642.0, \"45_line\": 384}, {\"index\": 10255, \"location\": \"United Kingdom\", \"date\": \"2020-03-11T00:00:00\", \"total_cases\": 459, \"total_infected\": 2716.0, \"n_days\": 14, \"cases\": 459, \"infected\": 2716.0, \"45_line\": 459}, {\"index\": 10256, \"location\": \"United Kingdom\", \"date\": \"2020-03-12T00:00:00\", \"total_cases\": 459, \"total_infected\": 4014.0, \"n_days\": 15, \"cases\": 459, \"infected\": 4014.0, \"45_line\": 459}, {\"index\": 10257, \"location\": \"United Kingdom\", \"date\": \"2020-03-13T00:00:00\", \"total_cases\": 802, \"total_infected\": 5067.0, \"n_days\": 16, \"cases\": 802, \"infected\": 5067.0, \"45_line\": 802}, {\"index\": 10258, \"location\": \"United Kingdom\", \"date\": \"2020-03-14T00:00:00\", \"total_cases\": 1144, \"total_infected\": 5745.0, \"n_days\": 17, \"cases\": 1144, \"infected\": 5745.0, \"45_line\": 1144}, {\"index\": 10259, \"location\": \"United Kingdom\", \"date\": \"2020-03-15T00:00:00\", \"total_cases\": 1145, \"total_infected\": 6726.0, \"n_days\": 18, \"cases\": 1145, \"infected\": 6726.0, \"45_line\": 1145}, {\"index\": 10260, \"location\": \"United Kingdom\", \"date\": \"2020-03-16T00:00:00\", \"total_cases\": 1551, \"total_infected\": 8164.0, \"n_days\": 19, \"cases\": 1551, \"infected\": 8164.0, \"45_line\": 1551}, {\"index\": 10261, \"location\": \"United Kingdom\", \"date\": \"2020-03-17T00:00:00\", \"total_cases\": 1960, \"total_infected\": 9991.833376482631, \"n_days\": 20, \"cases\": 1960, \"infected\": 9991.833376482631, \"45_line\": 1960}, {\"index\": 10262, \"location\": \"United Kingdom\", \"date\": \"2020-03-18T00:00:00\", \"total_cases\": 2642, \"total_infected\": 12228.899341424829, \"n_days\": 21, \"cases\": 2642, \"infected\": 12228.899341424829, \"45_line\": 2642}, {\"index\": 10263, \"location\": \"United Kingdom\", \"date\": \"2020-03-19T00:00:00\", \"total_cases\": 2716, \"total_infected\": 14966.820749301209, \"n_days\": 22, \"cases\": 2716, \"infected\": 14966.820749301209, \"45_line\": 2716}, {\"index\": 10264, \"location\": \"United Kingdom\", \"date\": \"2020-03-20T00:00:00\", \"total_cases\": 4014, \"total_infected\": 18317.73384403486, \"n_days\": 23, \"cases\": 4014, \"infected\": 18317.73384403486, \"45_line\": 4014}, {\"index\": 10265, \"location\": \"United Kingdom\", \"date\": \"2020-03-21T00:00:00\", \"total_cases\": 5067, \"total_infected\": 22418.88099024412, \"n_days\": 24, \"cases\": 5067, \"infected\": 22418.88099024412, \"45_line\": 5067}, {\"index\": 10266, \"location\": \"United Kingdom\", \"date\": \"2020-03-22T00:00:00\", \"total_cases\": 5745, \"total_infected\": 27438.2316685097, \"n_days\": 25, \"cases\": 5745, \"infected\": 27438.2316685097, \"45_line\": 5745}, {\"index\": 10267, \"location\": \"United Kingdom\", \"date\": \"2020-03-23T00:00:00\", \"total_cases\": 6726, \"total_infected\": 33581.36195211636, \"n_days\": 26, \"cases\": 6726, \"infected\": 33581.36195211636, \"45_line\": 6726}, {\"index\": 10268, \"location\": \"United Kingdom\", \"date\": \"2020-03-24T00:00:00\", \"total_cases\": 8164, \"total_infected\": 41099.874225979926, \"n_days\": 27, \"cases\": 8164, \"infected\": 41099.874225979926, \"45_line\": 8164}, {\"index\": 3945, \"location\": \"Germany\", \"date\": \"2020-03-01T00:00:00\", \"total_cases\": 130, \"total_infected\": 1176.0, \"n_days\": 0, \"cases\": 130, \"infected\": 1176.0, \"45_line\": 130}, {\"index\": 3946, \"location\": \"Germany\", \"date\": \"2020-03-02T00:00:00\", \"total_cases\": 159, \"total_infected\": 1457.0, \"n_days\": 1, \"cases\": 159, \"infected\": 1457.0, \"45_line\": 159}, {\"index\": 3947, \"location\": \"Germany\", \"date\": \"2020-03-03T00:00:00\", \"total_cases\": 196, \"total_infected\": 1908.0, \"n_days\": 2, \"cases\": 196, \"infected\": 1908.0, \"45_line\": 196}, {\"index\": 3948, \"location\": \"Germany\", \"date\": \"2020-03-04T00:00:00\", \"total_cases\": 262, \"total_infected\": 2078.0, \"n_days\": 3, \"cases\": 262, \"infected\": 2078.0, \"45_line\": 262}, {\"index\": 3949, \"location\": \"Germany\", \"date\": \"2020-03-05T00:00:00\", \"total_cases\": 482, \"total_infected\": 3675.0, \"n_days\": 4, \"cases\": 482, \"infected\": 3675.0, \"45_line\": 482}, {\"index\": 3950, \"location\": \"Germany\", \"date\": \"2020-03-06T00:00:00\", \"total_cases\": 670, \"total_infected\": 4585.0, \"n_days\": 5, \"cases\": 670, \"infected\": 4585.0, \"45_line\": 670}, {\"index\": 3951, \"location\": \"Germany\", \"date\": \"2020-03-07T00:00:00\", \"total_cases\": 799, \"total_infected\": 5795.0, \"n_days\": 6, \"cases\": 799, \"infected\": 5795.0, \"45_line\": 799}, {\"index\": 3952, \"location\": \"Germany\", \"date\": \"2020-03-08T00:00:00\", \"total_cases\": 1040, \"total_infected\": 7272.0, \"n_days\": 7, \"cases\": 1040, \"infected\": 7272.0, \"45_line\": 1040}, {\"index\": 3953, \"location\": \"Germany\", \"date\": \"2020-03-09T00:00:00\", \"total_cases\": 1176, \"total_infected\": 9257.0, \"n_days\": 8, \"cases\": 1176, \"infected\": 9257.0, \"45_line\": 1176}, {\"index\": 3954, \"location\": \"Germany\", \"date\": \"2020-03-10T00:00:00\", \"total_cases\": 1457, \"total_infected\": 12327.0, \"n_days\": 9, \"cases\": 1457, \"infected\": 12327.0, \"45_line\": 1457}, {\"index\": 3955, \"location\": \"Germany\", \"date\": \"2020-03-11T00:00:00\", \"total_cases\": 1908, \"total_infected\": 15320.0, \"n_days\": 10, \"cases\": 1908, \"infected\": 15320.0, \"45_line\": 1908}, {\"index\": 3956, \"location\": \"Germany\", \"date\": \"2020-03-12T00:00:00\", \"total_cases\": 2078, \"total_infected\": 19848.0, \"n_days\": 11, \"cases\": 2078, \"infected\": 19848.0, \"45_line\": 2078}, {\"index\": 3957, \"location\": \"Germany\", \"date\": \"2020-03-13T00:00:00\", \"total_cases\": 3675, \"total_infected\": 22213.0, \"n_days\": 12, \"cases\": 3675, \"infected\": 22213.0, \"45_line\": 3675}, {\"index\": 3958, \"location\": \"Germany\", \"date\": \"2020-03-14T00:00:00\", \"total_cases\": 4585, \"total_infected\": 24873.0, \"n_days\": 13, \"cases\": 4585, \"infected\": 24873.0, \"45_line\": 4585}, {\"index\": 3959, \"location\": \"Germany\", \"date\": \"2020-03-15T00:00:00\", \"total_cases\": 5795, \"total_infected\": 29056.0, \"n_days\": 14, \"cases\": 5795, \"infected\": 29056.0, \"45_line\": 5795}, {\"index\": 3960, \"location\": \"Germany\", \"date\": \"2020-03-16T00:00:00\", \"total_cases\": 7272, \"total_infected\": 32986.0, \"n_days\": 15, \"cases\": 7272, \"infected\": 32986.0, \"45_line\": 7272}, {\"index\": 3961, \"location\": \"Germany\", \"date\": \"2020-03-17T00:00:00\", \"total_cases\": 9257, \"total_infected\": 40317.60993492138, \"n_days\": 16, \"cases\": 9257, \"infected\": 40317.60993492138, \"45_line\": 9257}, {\"index\": 3962, \"location\": \"Germany\", \"date\": \"2020-03-18T00:00:00\", \"total_cases\": 12327, \"total_infected\": 49278.774961028044, \"n_days\": 17, \"cases\": 12327, \"infected\": 49278.774961028044, \"45_line\": 12327}, {\"index\": 3963, \"location\": \"Germany\", \"date\": \"2020-03-19T00:00:00\", \"total_cases\": 15320, \"total_infected\": 60231.68698688835, \"n_days\": 18, \"cases\": 15320, \"infected\": 60231.68698688835, \"45_line\": 15320}, {\"index\": 3964, \"location\": \"Germany\", \"date\": \"2020-03-20T00:00:00\", \"total_cases\": 19848, \"total_infected\": 73619.04024918585, \"n_days\": 19, \"cases\": 19848, \"infected\": 73619.04024918585, \"45_line\": 19848}, {\"index\": 3965, \"location\": \"Germany\", \"date\": \"2020-03-21T00:00:00\", \"total_cases\": 22213, \"total_infected\": 89981.92410567976, \"n_days\": 20, \"cases\": 22213, \"infected\": 89981.92410567976, \"45_line\": 22213}, {\"index\": 3966, \"location\": \"Germany\", \"date\": \"2020-03-22T00:00:00\", \"total_cases\": 24873, \"total_infected\": 109981.69275712411, \"n_days\": 21, \"cases\": 24873, \"infected\": 109981.69275712411, \"45_line\": 24873}, {\"index\": 3967, \"location\": \"Germany\", \"date\": \"2020-03-23T00:00:00\", \"total_cases\": 29056, \"total_infected\": 134426.6958274449, \"n_days\": 22, \"cases\": 29056, \"infected\": 134426.6958274449, \"45_line\": 29056}, {\"index\": 3968, \"location\": \"Germany\", \"date\": \"2020-03-24T00:00:00\", \"total_cases\": 32986, \"total_infected\": 164304.95019739424, \"n_days\": 23, \"cases\": 32986, \"infected\": 164304.95019739424, \"45_line\": 32986}, {\"index\": 7985, \"location\": \"Portugal\", \"date\": \"2020-03-09T00:00:00\", \"total_cases\": 30, \"total_infected\": 448.0, \"n_days\": 0, \"cases\": 30, \"infected\": 448.0, \"45_line\": 30}, {\"index\": 7986, \"location\": \"Portugal\", \"date\": \"2020-03-10T00:00:00\", \"total_cases\": 41, \"total_infected\": 448.0, \"n_days\": 1, \"cases\": 41, \"infected\": 448.0, \"45_line\": 41}, {\"index\": 7987, \"location\": \"Portugal\", \"date\": \"2020-03-11T00:00:00\", \"total_cases\": 59, \"total_infected\": 785.0, \"n_days\": 2, \"cases\": 59, \"infected\": 785.0, \"45_line\": 59}, {\"index\": 7988, \"location\": \"Portugal\", \"date\": \"2020-03-12T00:00:00\", \"total_cases\": 59, \"total_infected\": 1020.0, \"n_days\": 3, \"cases\": 59, \"infected\": 1020.0, \"45_line\": 59}, {\"index\": 7989, \"location\": \"Portugal\", \"date\": \"2020-03-13T00:00:00\", \"total_cases\": 112, \"total_infected\": 1280.0, \"n_days\": 4, \"cases\": 112, \"infected\": 1280.0, \"45_line\": 112}, {\"index\": 7990, \"location\": \"Portugal\", \"date\": \"2020-03-14T00:00:00\", \"total_cases\": 169, \"total_infected\": 1599.9999999999998, \"n_days\": 5, \"cases\": 169, \"infected\": 1599.9999999999998, \"45_line\": 169}, {\"index\": 7991, \"location\": \"Portugal\", \"date\": \"2020-03-15T00:00:00\", \"total_cases\": 245, \"total_infected\": 2060.0, \"n_days\": 6, \"cases\": 245, \"infected\": 2060.0, \"45_line\": 245}, {\"index\": 7992, \"location\": \"Portugal\", \"date\": \"2020-03-16T00:00:00\", \"total_cases\": 331, \"total_infected\": 2362.0, \"n_days\": 7, \"cases\": 331, \"infected\": 2362.0, \"45_line\": 331}, {\"index\": 7993, \"location\": \"Portugal\", \"date\": \"2020-03-17T00:00:00\", \"total_cases\": 448, \"total_infected\": 2922.965135053795, \"n_days\": 8, \"cases\": 448, \"infected\": 2922.965135053795, \"45_line\": 448}, {\"index\": 7994, \"location\": \"Portugal\", \"date\": \"2020-03-18T00:00:00\", \"total_cases\": 448, \"total_infected\": 3617.157146799344, \"n_days\": 9, \"cases\": 448, \"infected\": 3617.157146799344, \"45_line\": 448}, {\"index\": 7995, \"location\": \"Portugal\", \"date\": \"2020-03-19T00:00:00\", \"total_cases\": 785, \"total_infected\": 4476.216862025887, \"n_days\": 10, \"cases\": 785, \"infected\": 4476.216862025887, \"45_line\": 785}, {\"index\": 7996, \"location\": \"Portugal\", \"date\": \"2020-03-20T00:00:00\", \"total_cases\": 1020, \"total_infected\": 5539.299671736483, \"n_days\": 11, \"cases\": 1020, \"infected\": 5539.299671736483, \"45_line\": 1020}, {\"index\": 7997, \"location\": \"Portugal\", \"date\": \"2020-03-21T00:00:00\", \"total_cases\": 1280, \"total_infected\": 6854.860208764044, \"n_days\": 12, \"cases\": 1280, \"infected\": 6854.860208764044, \"45_line\": 1280}, {\"index\": 7998, \"location\": \"Portugal\", \"date\": \"2020-03-22T00:00:00\", \"total_cases\": 1600, \"total_infected\": 8482.860878867434, \"n_days\": 13, \"cases\": 1600, \"infected\": 8482.860878867434, \"45_line\": 1600}, {\"index\": 7999, \"location\": \"Portugal\", \"date\": \"2020-03-23T00:00:00\", \"total_cases\": 2060, \"total_infected\": 10497.504908738909, \"n_days\": 14, \"cases\": 2060, \"infected\": 10497.504908738909, \"45_line\": 2060}, {\"index\": 8000, \"location\": \"Portugal\", \"date\": \"2020-03-24T00:00:00\", \"total_cases\": 2362, \"total_infected\": 12990.618481498688, \"n_days\": 15, \"cases\": 2362, \"infected\": 12990.618481498688, \"45_line\": 2362}, {\"index\": 10299, \"location\": \"United States\", \"date\": \"2020-02-21T00:00:00\", \"total_cases\": 15, \"total_infected\": 68.0, \"n_days\": 0, \"cases\": 15, \"infected\": 68.0, \"45_line\": 15}, {\"index\": 10300, \"location\": \"United States\", \"date\": \"2020-02-22T00:00:00\", \"total_cases\": 15, \"total_infected\": 74.0, \"n_days\": 1, \"cases\": 15, \"infected\": 74.0, \"45_line\": 15}, {\"index\": 10301, \"location\": \"United States\", \"date\": \"2020-02-23T00:00:00\", \"total_cases\": 15, \"total_infected\": 98.0, \"n_days\": 2, \"cases\": 15, \"infected\": 98.0, \"45_line\": 15}, {\"index\": 10302, \"location\": \"United States\", \"date\": \"2020-02-24T00:00:00\", \"total_cases\": 51, \"total_infected\": 118.0, \"n_days\": 3, \"cases\": 51, \"infected\": 118.0, \"45_line\": 51}, {\"index\": 10303, \"location\": \"United States\", \"date\": \"2020-02-25T00:00:00\", \"total_cases\": 51, \"total_infected\": 149.0, \"n_days\": 4, \"cases\": 51, \"infected\": 149.0, \"45_line\": 51}, {\"index\": 10304, \"location\": \"United States\", \"date\": \"2020-02-26T00:00:00\", \"total_cases\": 57, \"total_infected\": 217.0, \"n_days\": 5, \"cases\": 57, \"infected\": 217.0, \"45_line\": 57}, {\"index\": 10305, \"location\": \"United States\", \"date\": \"2020-02-27T00:00:00\", \"total_cases\": 58, \"total_infected\": 262.0, \"n_days\": 6, \"cases\": 58, \"infected\": 262.0, \"45_line\": 58}, {\"index\": 10306, \"location\": \"United States\", \"date\": \"2020-02-28T00:00:00\", \"total_cases\": 60, \"total_infected\": 402.0, \"n_days\": 7, \"cases\": 60, \"infected\": 402.0, \"45_line\": 60}, {\"index\": 10307, \"location\": \"United States\", \"date\": \"2020-02-29T00:00:00\", \"total_cases\": 68, \"total_infected\": 518.0, \"n_days\": 8, \"cases\": 68, \"infected\": 518.0, \"45_line\": 68}, {\"index\": 10308, \"location\": \"United States\", \"date\": \"2020-03-01T00:00:00\", \"total_cases\": 74, \"total_infected\": 583.0, \"n_days\": 9, \"cases\": 74, \"infected\": 583.0, \"45_line\": 74}, {\"index\": 10309, \"location\": \"United States\", \"date\": \"2020-03-02T00:00:00\", \"total_cases\": 98, \"total_infected\": 959.0, \"n_days\": 10, \"cases\": 98, \"infected\": 959.0, \"45_line\": 98}, {\"index\": 10310, \"location\": \"United States\", \"date\": \"2020-03-03T00:00:00\", \"total_cases\": 118, \"total_infected\": 1281.0, \"n_days\": 11, \"cases\": 118, \"infected\": 1281.0, \"45_line\": 118}, {\"index\": 10311, \"location\": \"United States\", \"date\": \"2020-03-04T00:00:00\", \"total_cases\": 149, \"total_infected\": 1663.0, \"n_days\": 12, \"cases\": 149, \"infected\": 1663.0, \"45_line\": 149}, {\"index\": 10312, \"location\": \"United States\", \"date\": \"2020-03-05T00:00:00\", \"total_cases\": 217, \"total_infected\": 2179.0, \"n_days\": 13, \"cases\": 217, \"infected\": 2179.0, \"45_line\": 217}, {\"index\": 10313, \"location\": \"United States\", \"date\": \"2020-03-06T00:00:00\", \"total_cases\": 262, \"total_infected\": 2727.0, \"n_days\": 14, \"cases\": 262, \"infected\": 2727.0, \"45_line\": 262}, {\"index\": 10314, \"location\": \"United States\", \"date\": \"2020-03-07T00:00:00\", \"total_cases\": 402, \"total_infected\": 3499.0, \"n_days\": 15, \"cases\": 402, \"infected\": 3499.0, \"45_line\": 402}, {\"index\": 10315, \"location\": \"United States\", \"date\": \"2020-03-08T00:00:00\", \"total_cases\": 518, \"total_infected\": 4632.0, \"n_days\": 16, \"cases\": 518, \"infected\": 4632.0, \"45_line\": 518}, {\"index\": 10316, \"location\": \"United States\", \"date\": \"2020-03-09T00:00:00\", \"total_cases\": 583, \"total_infected\": 6421.0, \"n_days\": 17, \"cases\": 583, \"infected\": 6421.0, \"45_line\": 583}, {\"index\": 10317, \"location\": \"United States\", \"date\": \"2020-03-10T00:00:00\", \"total_cases\": 959, \"total_infected\": 7783.0, \"n_days\": 18, \"cases\": 959, \"infected\": 7783.0, \"45_line\": 959}, {\"index\": 10318, \"location\": \"United States\", \"date\": \"2020-03-11T00:00:00\", \"total_cases\": 1281, \"total_infected\": 13677.0, \"n_days\": 19, \"cases\": 1281, \"infected\": 13677.0, \"45_line\": 1281}, {\"index\": 10319, \"location\": \"United States\", \"date\": \"2020-03-12T00:00:00\", \"total_cases\": 1663, \"total_infected\": 19100.0, \"n_days\": 20, \"cases\": 1663, \"infected\": 19100.0, \"45_line\": 1663}, {\"index\": 10320, \"location\": \"United States\", \"date\": \"2020-03-13T00:00:00\", \"total_cases\": 2179, \"total_infected\": 25489.0, \"n_days\": 21, \"cases\": 2179, \"infected\": 25489.0, \"45_line\": 2179}, {\"index\": 10321, \"location\": \"United States\", \"date\": \"2020-03-14T00:00:00\", \"total_cases\": 2727, \"total_infected\": 33276.0, \"n_days\": 22, \"cases\": 2727, \"infected\": 33276.0, \"45_line\": 2727}, {\"index\": 10322, \"location\": \"United States\", \"date\": \"2020-03-15T00:00:00\", \"total_cases\": 3499, \"total_infected\": 43847.0, \"n_days\": 23, \"cases\": 3499, \"infected\": 43847.0, \"45_line\": 3499}, {\"index\": 10323, \"location\": \"United States\", \"date\": \"2020-03-16T00:00:00\", \"total_cases\": 4632, \"total_infected\": 53740.0, \"n_days\": 24, \"cases\": 4632, \"infected\": 53740.0, \"45_line\": 4632}, {\"index\": 10324, \"location\": \"United States\", \"date\": \"2020-03-17T00:00:00\", \"total_cases\": 6421, \"total_infected\": 68680.62725881767, \"n_days\": 25, \"cases\": 6421, \"infected\": 68680.62725881767, \"45_line\": 6421}, {\"index\": 10325, \"location\": \"United States\", \"date\": \"2020-03-18T00:00:00\", \"total_cases\": 7783, \"total_infected\": 87775.00112885464, \"n_days\": 26, \"cases\": 7783, \"infected\": 87775.00112885464, \"45_line\": 7783}, {\"index\": 10326, \"location\": \"United States\", \"date\": \"2020-03-19T00:00:00\", \"total_cases\": 13677, \"total_infected\": 112177.93329313668, \"n_days\": 27, \"cases\": 13677, \"infected\": 112177.93329313668, \"45_line\": 13677}, {\"index\": 10327, \"location\": \"United States\", \"date\": \"2020-03-20T00:00:00\", \"total_cases\": 19100, \"total_infected\": 143365.2925785343, \"n_days\": 28, \"cases\": 19100, \"infected\": 143365.2925785343, \"45_line\": 19100}, {\"index\": 10328, \"location\": \"United States\", \"date\": \"2020-03-21T00:00:00\", \"total_cases\": 25489, \"total_infected\": 183223.26426195857, \"n_days\": 29, \"cases\": 25489, \"infected\": 183223.26426195857, \"45_line\": 25489}, {\"index\": 10329, \"location\": \"United States\", \"date\": \"2020-03-22T00:00:00\", \"total_cases\": 33276, \"total_infected\": 234162.42497058847, \"n_days\": 30, \"cases\": 33276, \"infected\": 234162.42497058847, \"45_line\": 33276}, {\"index\": 10330, \"location\": \"United States\", \"date\": \"2020-03-23T00:00:00\", \"total_cases\": 43847, \"total_infected\": 299263.5323302167, \"n_days\": 31, \"cases\": 43847, \"infected\": 299263.5323302167, \"45_line\": 43847}, {\"index\": 10331, \"location\": \"United States\", \"date\": \"2020-03-24T00:00:00\", \"total_cases\": 53740, \"total_infected\": 382463.84659711097, \"n_days\": 32, \"cases\": 53740, \"infected\": 382463.84659711097, \"45_line\": 53740}, {\"index\": 8745, \"location\": \"Singapore\", \"date\": \"2020-03-13T00:00:00\", \"total_cases\": 200, \"total_infected\": 432.0, \"n_days\": 0, \"cases\": 200, \"infected\": 432.0, \"45_line\": 200}, {\"index\": 8746, \"location\": \"Singapore\", \"date\": \"2020-03-14T00:00:00\", \"total_cases\": 212, \"total_infected\": 455.0, \"n_days\": 1, \"cases\": 212, \"infected\": 455.0, \"45_line\": 212}, {\"index\": 8747, \"location\": \"Singapore\", \"date\": \"2020-03-15T00:00:00\", \"total_cases\": 226, \"total_infected\": 509.00000000000006, \"n_days\": 2, \"cases\": 226, \"infected\": 509.00000000000006, \"45_line\": 226}, {\"index\": 8748, \"location\": \"Singapore\", \"date\": \"2020-03-16T00:00:00\", \"total_cases\": 243, \"total_infected\": 558.0, \"n_days\": 3, \"cases\": 243, \"infected\": 558.0, \"45_line\": 243}, {\"index\": 8749, \"location\": \"Singapore\", \"date\": \"2020-03-17T00:00:00\", \"total_cases\": 266, \"total_infected\": 605.6036075895192, \"n_days\": 4, \"cases\": 266, \"infected\": 605.6036075895192, \"45_line\": 266}, {\"index\": 8750, \"location\": \"Singapore\", \"date\": \"2020-03-18T00:00:00\", \"total_cases\": 313, \"total_infected\": 657.2683324828681, \"n_days\": 5, \"cases\": 313, \"infected\": 657.2683324828681, \"45_line\": 313}, {\"index\": 8751, \"location\": \"Singapore\", \"date\": \"2020-03-19T00:00:00\", \"total_cases\": 345, \"total_infected\": 713.3406331648254, \"n_days\": 6, \"cases\": 345, \"infected\": 713.3406331648254, \"45_line\": 345}, {\"index\": 8752, \"location\": \"Singapore\", \"date\": \"2020-03-20T00:00:00\", \"total_cases\": 385, \"total_infected\": 774.1965248831722, \"n_days\": 7, \"cases\": 385, \"infected\": 774.1965248831722, \"45_line\": 385}, {\"index\": 8753, \"location\": \"Singapore\", \"date\": \"2020-03-21T00:00:00\", \"total_cases\": 432, \"total_infected\": 840.2441011693872, \"n_days\": 8, \"cases\": 432, \"infected\": 840.2441011693872, \"45_line\": 432}, {\"index\": 8754, \"location\": \"Singapore\", \"date\": \"2020-03-22T00:00:00\", \"total_cases\": 455, \"total_infected\": 911.9262704731074, \"n_days\": 9, \"cases\": 455, \"infected\": 911.9262704731074, \"45_line\": 455}, {\"index\": 8755, \"location\": \"Singapore\", \"date\": \"2020-03-23T00:00:00\", \"total_cases\": 509, \"total_infected\": 989.7237262619525, \"n_days\": 10, \"cases\": 509, \"infected\": 989.7237262619525, \"45_line\": 509}, {\"index\": 8756, \"location\": \"Singapore\", \"date\": \"2020-03-24T00:00:00\", \"total_cases\": 558, \"total_infected\": 1074.1581705039073, \"n_days\": 11, \"cases\": 558, \"infected\": 1074.1581705039073, \"45_line\": 558}, {\"index\": 9030, \"location\": \"South Korea\", \"date\": \"2020-02-12T00:00:00\", \"total_cases\": 28, \"total_infected\": 104.0, \"n_days\": 0, \"cases\": 28, \"infected\": 104.0, \"45_line\": 28}, {\"index\": 9031, \"location\": \"South Korea\", \"date\": \"2020-02-13T00:00:00\", \"total_cases\": 28, \"total_infected\": 204.0, \"n_days\": 1, \"cases\": 28, \"infected\": 204.0, \"45_line\": 28}, {\"index\": 9032, \"location\": \"South Korea\", \"date\": \"2020-02-14T00:00:00\", \"total_cases\": 28, \"total_infected\": 433.0, \"n_days\": 2, \"cases\": 28, \"infected\": 433.0, \"45_line\": 28}, {\"index\": 9033, \"location\": \"South Korea\", \"date\": \"2020-02-15T00:00:00\", \"total_cases\": 28, \"total_infected\": 602.0, \"n_days\": 3, \"cases\": 28, \"infected\": 602.0, \"45_line\": 28}, {\"index\": 9034, \"location\": \"South Korea\", \"date\": \"2020-02-16T00:00:00\", \"total_cases\": 29, \"total_infected\": 833.0000000000001, \"n_days\": 4, \"cases\": 29, \"infected\": 833.0000000000001, \"45_line\": 29}, {\"index\": 9035, \"location\": \"South Korea\", \"date\": \"2020-02-17T00:00:00\", \"total_cases\": 30, \"total_infected\": 976.9999999999999, \"n_days\": 5, \"cases\": 30, \"infected\": 976.9999999999999, \"45_line\": 30}, {\"index\": 9036, \"location\": \"South Korea\", \"date\": \"2020-02-18T00:00:00\", \"total_cases\": 31, \"total_infected\": 1261.0, \"n_days\": 6, \"cases\": 31, \"infected\": 1261.0, \"45_line\": 31}, {\"index\": 9037, \"location\": \"South Korea\", \"date\": \"2020-02-19T00:00:00\", \"total_cases\": 31, \"total_infected\": 1766.0, \"n_days\": 7, \"cases\": 31, \"infected\": 1766.0, \"45_line\": 31}, {\"index\": 9038, \"location\": \"South Korea\", \"date\": \"2020-02-20T00:00:00\", \"total_cases\": 104, \"total_infected\": 2337.0, \"n_days\": 8, \"cases\": 104, \"infected\": 2337.0, \"45_line\": 104}, {\"index\": 9039, \"location\": \"South Korea\", \"date\": \"2020-02-21T00:00:00\", \"total_cases\": 204, \"total_infected\": 3150.0, \"n_days\": 9, \"cases\": 204, \"infected\": 3150.0, \"45_line\": 204}, {\"index\": 9040, \"location\": \"South Korea\", \"date\": \"2020-02-22T00:00:00\", \"total_cases\": 433, \"total_infected\": 3736.0000000000005, \"n_days\": 10, \"cases\": 433, \"infected\": 3736.0000000000005, \"45_line\": 433}, {\"index\": 9041, \"location\": \"South Korea\", \"date\": \"2020-02-23T00:00:00\", \"total_cases\": 602, \"total_infected\": 4335.0, \"n_days\": 11, \"cases\": 602, \"infected\": 4335.0, \"45_line\": 602}, {\"index\": 9042, \"location\": \"South Korea\", \"date\": \"2020-02-24T00:00:00\", \"total_cases\": 833, \"total_infected\": 5186.0, \"n_days\": 12, \"cases\": 833, \"infected\": 5186.0, \"45_line\": 833}, {\"index\": 9043, \"location\": \"South Korea\", \"date\": \"2020-02-25T00:00:00\", \"total_cases\": 977, \"total_infected\": 5621.0, \"n_days\": 13, \"cases\": 977, \"infected\": 5621.0, \"45_line\": 977}, {\"index\": 9044, \"location\": \"South Korea\", \"date\": \"2020-02-26T00:00:00\", \"total_cases\": 1261, \"total_infected\": 6088.0, \"n_days\": 14, \"cases\": 1261, \"infected\": 6088.0, \"45_line\": 1261}, {\"index\": 9045, \"location\": \"South Korea\", \"date\": \"2020-02-27T00:00:00\", \"total_cases\": 1766, \"total_infected\": 6593.0, \"n_days\": 15, \"cases\": 1766, \"infected\": 6593.0, \"45_line\": 1766}, {\"index\": 9046, \"location\": \"South Korea\", \"date\": \"2020-02-28T00:00:00\", \"total_cases\": 2337, \"total_infected\": 7041.0, \"n_days\": 16, \"cases\": 2337, \"infected\": 7041.0, \"45_line\": 2337}, {\"index\": 9047, \"location\": \"South Korea\", \"date\": \"2020-02-29T00:00:00\", \"total_cases\": 3150, \"total_infected\": 7314.0, \"n_days\": 17, \"cases\": 3150, \"infected\": 7314.0, \"45_line\": 3150}, {\"index\": 9048, \"location\": \"South Korea\", \"date\": \"2020-03-01T00:00:00\", \"total_cases\": 3736, \"total_infected\": 7478.0, \"n_days\": 18, \"cases\": 3736, \"infected\": 7478.0, \"45_line\": 3736}, {\"index\": 9049, \"location\": \"South Korea\", \"date\": \"2020-03-02T00:00:00\", \"total_cases\": 4335, \"total_infected\": 7513.0, \"n_days\": 19, \"cases\": 4335, \"infected\": 7513.0, \"45_line\": 4335}, {\"index\": 9050, \"location\": \"South Korea\", \"date\": \"2020-03-03T00:00:00\", \"total_cases\": 5186, \"total_infected\": 7755.0, \"n_days\": 20, \"cases\": 5186, \"infected\": 7755.0, \"45_line\": 5186}, {\"index\": 9051, \"location\": \"South Korea\", \"date\": \"2020-03-04T00:00:00\", \"total_cases\": 5621, \"total_infected\": 7869.0, \"n_days\": 21, \"cases\": 5621, \"infected\": 7869.0, \"45_line\": 5621}, {\"index\": 9052, \"location\": \"South Korea\", \"date\": \"2020-03-05T00:00:00\", \"total_cases\": 6088, \"total_infected\": 7978.999999999999, \"n_days\": 22, \"cases\": 6088, \"infected\": 7978.999999999999, \"45_line\": 6088}, {\"index\": 9053, \"location\": \"South Korea\", \"date\": \"2020-03-06T00:00:00\", \"total_cases\": 6593, \"total_infected\": 8085.999999999999, \"n_days\": 23, \"cases\": 6593, \"infected\": 8085.999999999999, \"45_line\": 6593}, {\"index\": 9054, \"location\": \"South Korea\", \"date\": \"2020-03-07T00:00:00\", \"total_cases\": 7041, \"total_infected\": 8161.999999999999, \"n_days\": 24, \"cases\": 7041, \"infected\": 8161.999999999999, \"45_line\": 7041}, {\"index\": 9055, \"location\": \"South Korea\", \"date\": \"2020-03-08T00:00:00\", \"total_cases\": 7314, \"total_infected\": 8236.0, \"n_days\": 25, \"cases\": 7314, \"infected\": 8236.0, \"45_line\": 7314}, {\"index\": 9056, \"location\": \"South Korea\", \"date\": \"2020-03-09T00:00:00\", \"total_cases\": 7478, \"total_infected\": 8320.0, \"n_days\": 26, \"cases\": 7478, \"infected\": 8320.0, \"45_line\": 7478}, {\"index\": 9057, \"location\": \"South Korea\", \"date\": \"2020-03-10T00:00:00\", \"total_cases\": 7513, \"total_infected\": 8413.0, \"n_days\": 27, \"cases\": 7513, \"infected\": 8413.0, \"45_line\": 7513}, {\"index\": 9058, \"location\": \"South Korea\", \"date\": \"2020-03-11T00:00:00\", \"total_cases\": 7755, \"total_infected\": 8565.0, \"n_days\": 28, \"cases\": 7755, \"infected\": 8565.0, \"45_line\": 7755}, {\"index\": 9059, \"location\": \"South Korea\", \"date\": \"2020-03-12T00:00:00\", \"total_cases\": 7869, \"total_infected\": 8652.0, \"n_days\": 29, \"cases\": 7869, \"infected\": 8652.0, \"45_line\": 7869}, {\"index\": 9060, \"location\": \"South Korea\", \"date\": \"2020-03-13T00:00:00\", \"total_cases\": 7979, \"total_infected\": 8799.0, \"n_days\": 30, \"cases\": 7979, \"infected\": 8799.0, \"45_line\": 7979}, {\"index\": 9061, \"location\": \"South Korea\", \"date\": \"2020-03-14T00:00:00\", \"total_cases\": 8086, \"total_infected\": 8961.0, \"n_days\": 31, \"cases\": 8086, \"infected\": 8961.0, \"45_line\": 8086}, {\"index\": 9062, \"location\": \"South Korea\", \"date\": \"2020-03-15T00:00:00\", \"total_cases\": 8162, \"total_infected\": 8961.0, \"n_days\": 32, \"cases\": 8162, \"infected\": 8961.0, \"45_line\": 8162}, {\"index\": 9063, \"location\": \"South Korea\", \"date\": \"2020-03-16T00:00:00\", \"total_cases\": 8236, \"total_infected\": 9037.0, \"n_days\": 33, \"cases\": 8236, \"infected\": 9037.0, \"45_line\": 8236}, {\"index\": 9064, \"location\": \"South Korea\", \"date\": \"2020-03-17T00:00:00\", \"total_cases\": 8320, \"total_infected\": 10259.649041137982, \"n_days\": 34, \"cases\": 8320, \"infected\": 10259.649041137982, \"45_line\": 8320}, {\"index\": 9065, \"location\": \"South Korea\", \"date\": \"2020-03-18T00:00:00\", \"total_cases\": 8413, \"total_infected\": 11647.714777838166, \"n_days\": 35, \"cases\": 8413, \"infected\": 11647.714777838166, \"45_line\": 8413}, {\"index\": 9066, \"location\": \"South Korea\", \"date\": \"2020-03-19T00:00:00\", \"total_cases\": 8565, \"total_infected\": 13223.57704458294, \"n_days\": 36, \"cases\": 8565, \"infected\": 13223.57704458294, \"45_line\": 8565}, {\"index\": 9067, \"location\": \"South Korea\", \"date\": \"2020-03-20T00:00:00\", \"total_cases\": 8652, \"total_infected\": 15012.643526155758, \"n_days\": 37, \"cases\": 8652, \"infected\": 15012.643526155758, \"45_line\": 8652}, {\"index\": 9068, \"location\": \"South Korea\", \"date\": \"2020-03-21T00:00:00\", \"total_cases\": 8799, \"total_infected\": 17043.759406669276, \"n_days\": 38, \"cases\": 8799, \"infected\": 17043.759406669276, \"45_line\": 8799}, {\"index\": 9069, \"location\": \"South Korea\", \"date\": \"2020-03-22T00:00:00\", \"total_cases\": 8961, \"total_infected\": 19349.672441520514, \"n_days\": 39, \"cases\": 8961, \"infected\": 19349.672441520514, \"45_line\": 8961}, {\"index\": 9070, \"location\": \"South Korea\", \"date\": \"2020-03-23T00:00:00\", \"total_cases\": 8961, \"total_infected\": 21967.560950645122, \"n_days\": 40, \"cases\": 8961, \"infected\": 21967.560950645122, \"45_line\": 8961}, {\"index\": 9071, \"location\": \"South Korea\", \"date\": \"2020-03-24T00:00:00\", \"total_cases\": 9037, \"total_infected\": 24939.633245925237, \"n_days\": 41, \"cases\": 9037, \"infected\": 24939.633245925237, \"45_line\": 9037}, {\"index\": 5180, \"location\": \"Japan\", \"date\": \"2020-02-05T00:00:00\", \"total_cases\": 22, \"total_infected\": 28.0, \"n_days\": 0, \"cases\": 22, \"infected\": 28.0, \"45_line\": 22}, {\"index\": 5181, \"location\": \"Japan\", \"date\": \"2020-02-06T00:00:00\", \"total_cases\": 22, \"total_infected\": 29.0, \"n_days\": 1, \"cases\": 22, \"infected\": 29.0, \"45_line\": 22}, {\"index\": 5182, \"location\": \"Japan\", \"date\": \"2020-02-07T00:00:00\", \"total_cases\": 25, \"total_infected\": 43.0, \"n_days\": 2, \"cases\": 25, \"infected\": 43.0, \"45_line\": 25}, {\"index\": 5183, \"location\": \"Japan\", \"date\": \"2020-02-08T00:00:00\", \"total_cases\": 25, \"total_infected\": 59.0, \"n_days\": 3, \"cases\": 25, \"infected\": 59.0, \"45_line\": 25}, {\"index\": 5184, \"location\": \"Japan\", \"date\": \"2020-02-09T00:00:00\", \"total_cases\": 26, \"total_infected\": 66.0, \"n_days\": 4, \"cases\": 26, \"infected\": 66.0, \"45_line\": 26}, {\"index\": 5185, \"location\": \"Japan\", \"date\": \"2020-02-10T00:00:00\", \"total_cases\": 26, \"total_infected\": 74.0, \"n_days\": 5, \"cases\": 26, \"infected\": 74.0, \"45_line\": 26}, {\"index\": 5186, \"location\": \"Japan\", \"date\": \"2020-02-11T00:00:00\", \"total_cases\": 26, \"total_infected\": 84.0, \"n_days\": 6, \"cases\": 26, \"infected\": 84.0, \"45_line\": 26}, {\"index\": 5187, \"location\": \"Japan\", \"date\": \"2020-02-12T00:00:00\", \"total_cases\": 28, \"total_infected\": 94.0, \"n_days\": 7, \"cases\": 28, \"infected\": 94.0, \"45_line\": 28}, {\"index\": 5188, \"location\": \"Japan\", \"date\": \"2020-02-13T00:00:00\", \"total_cases\": 28, \"total_infected\": 104.99999999999999, \"n_days\": 8, \"cases\": 28, \"infected\": 104.99999999999999, \"45_line\": 28}, {\"index\": 5189, \"location\": \"Japan\", \"date\": \"2020-02-14T00:00:00\", \"total_cases\": 29, \"total_infected\": 122.0, \"n_days\": 9, \"cases\": 29, \"infected\": 122.0, \"45_line\": 29}, {\"index\": 5190, \"location\": \"Japan\", \"date\": \"2020-02-15T00:00:00\", \"total_cases\": 43, \"total_infected\": 147.0, \"n_days\": 10, \"cases\": 43, \"infected\": 147.0, \"45_line\": 43}, {\"index\": 5191, \"location\": \"Japan\", \"date\": \"2020-02-16T00:00:00\", \"total_cases\": 59, \"total_infected\": 159.0, \"n_days\": 11, \"cases\": 59, \"infected\": 159.0, \"45_line\": 59}, {\"index\": 5192, \"location\": \"Japan\", \"date\": \"2020-02-17T00:00:00\", \"total_cases\": 66, \"total_infected\": 170.0, \"n_days\": 12, \"cases\": 66, \"infected\": 170.0, \"45_line\": 66}, {\"index\": 5193, \"location\": \"Japan\", \"date\": \"2020-02-18T00:00:00\", \"total_cases\": 74, \"total_infected\": 189.0, \"n_days\": 13, \"cases\": 74, \"infected\": 189.0, \"45_line\": 74}, {\"index\": 5194, \"location\": \"Japan\", \"date\": \"2020-02-19T00:00:00\", \"total_cases\": 84, \"total_infected\": 214.00000000000003, \"n_days\": 14, \"cases\": 84, \"infected\": 214.00000000000003, \"45_line\": 84}, {\"index\": 5195, \"location\": \"Japan\", \"date\": \"2020-02-20T00:00:00\", \"total_cases\": 94, \"total_infected\": 228.0, \"n_days\": 15, \"cases\": 94, \"infected\": 228.0, \"45_line\": 94}, {\"index\": 5196, \"location\": \"Japan\", \"date\": \"2020-02-21T00:00:00\", \"total_cases\": 105, \"total_infected\": 241.0, \"n_days\": 16, \"cases\": 105, \"infected\": 241.0, \"45_line\": 105}, {\"index\": 5197, \"location\": \"Japan\", \"date\": \"2020-02-22T00:00:00\", \"total_cases\": 122, \"total_infected\": 256.0, \"n_days\": 17, \"cases\": 122, \"infected\": 256.0, \"45_line\": 122}, {\"index\": 5198, \"location\": \"Japan\", \"date\": \"2020-02-23T00:00:00\", \"total_cases\": 147, \"total_infected\": 274.0, \"n_days\": 18, \"cases\": 147, \"infected\": 274.0, \"45_line\": 147}, {\"index\": 5199, \"location\": \"Japan\", \"date\": \"2020-02-24T00:00:00\", \"total_cases\": 159, \"total_infected\": 293.0, \"n_days\": 19, \"cases\": 159, \"infected\": 293.0, \"45_line\": 159}, {\"index\": 5200, \"location\": \"Japan\", \"date\": \"2020-02-25T00:00:00\", \"total_cases\": 170, \"total_infected\": 330.99999999999994, \"n_days\": 20, \"cases\": 170, \"infected\": 330.99999999999994, \"45_line\": 170}, {\"index\": 5201, \"location\": \"Japan\", \"date\": \"2020-02-26T00:00:00\", \"total_cases\": 189, \"total_infected\": 360.0, \"n_days\": 21, \"cases\": 189, \"infected\": 360.0, \"45_line\": 189}, {\"index\": 5202, \"location\": \"Japan\", \"date\": \"2020-02-27T00:00:00\", \"total_cases\": 214, \"total_infected\": 420.0, \"n_days\": 22, \"cases\": 214, \"infected\": 420.0, \"45_line\": 214}, {\"index\": 5203, \"location\": \"Japan\", \"date\": \"2020-02-28T00:00:00\", \"total_cases\": 228, \"total_infected\": 461.0, \"n_days\": 23, \"cases\": 228, \"infected\": 461.0, \"45_line\": 228}, {\"index\": 5204, \"location\": \"Japan\", \"date\": \"2020-02-29T00:00:00\", \"total_cases\": 241, \"total_infected\": 502.0, \"n_days\": 24, \"cases\": 241, \"infected\": 502.0, \"45_line\": 241}, {\"index\": 5205, \"location\": \"Japan\", \"date\": \"2020-03-01T00:00:00\", \"total_cases\": 256, \"total_infected\": 511.0, \"n_days\": 25, \"cases\": 256, \"infected\": 511.0, \"45_line\": 256}, {\"index\": 5206, \"location\": \"Japan\", \"date\": \"2020-03-02T00:00:00\", \"total_cases\": 274, \"total_infected\": 581.0, \"n_days\": 26, \"cases\": 274, \"infected\": 581.0, \"45_line\": 274}, {\"index\": 5207, \"location\": \"Japan\", \"date\": \"2020-03-03T00:00:00\", \"total_cases\": 293, \"total_infected\": 639.0, \"n_days\": 27, \"cases\": 293, \"infected\": 639.0, \"45_line\": 293}, {\"index\": 5208, \"location\": \"Japan\", \"date\": \"2020-03-04T00:00:00\", \"total_cases\": 331, \"total_infected\": 639.0, \"n_days\": 28, \"cases\": 331, \"infected\": 639.0, \"45_line\": 331}, {\"index\": 5209, \"location\": \"Japan\", \"date\": \"2020-03-05T00:00:00\", \"total_cases\": 360, \"total_infected\": 701.0, \"n_days\": 29, \"cases\": 360, \"infected\": 701.0, \"45_line\": 360}, {\"index\": 5210, \"location\": \"Japan\", \"date\": \"2020-03-06T00:00:00\", \"total_cases\": 420, \"total_infected\": 773.0, \"n_days\": 30, \"cases\": 420, \"infected\": 773.0, \"45_line\": 420}, {\"index\": 5211, \"location\": \"Japan\", \"date\": \"2020-03-07T00:00:00\", \"total_cases\": 461, \"total_infected\": 839.0, \"n_days\": 31, \"cases\": 461, \"infected\": 839.0, \"45_line\": 461}, {\"index\": 5212, \"location\": \"Japan\", \"date\": \"2020-03-08T00:00:00\", \"total_cases\": 502, \"total_infected\": 838.9999999999999, \"n_days\": 32, \"cases\": 502, \"infected\": 838.9999999999999, \"45_line\": 502}, {\"index\": 5213, \"location\": \"Japan\", \"date\": \"2020-03-09T00:00:00\", \"total_cases\": 511, \"total_infected\": 878.0, \"n_days\": 33, \"cases\": 511, \"infected\": 878.0, \"45_line\": 511}, {\"index\": 5214, \"location\": \"Japan\", \"date\": \"2020-03-10T00:00:00\", \"total_cases\": 581, \"total_infected\": 889.0, \"n_days\": 34, \"cases\": 581, \"infected\": 889.0, \"45_line\": 581}, {\"index\": 5215, \"location\": \"Japan\", \"date\": \"2020-03-11T00:00:00\", \"total_cases\": 639, \"total_infected\": 924.0, \"n_days\": 35, \"cases\": 639, \"infected\": 924.0, \"45_line\": 639}, {\"index\": 5216, \"location\": \"Japan\", \"date\": \"2020-03-12T00:00:00\", \"total_cases\": 639, \"total_infected\": 963.0000000000001, \"n_days\": 36, \"cases\": 639, \"infected\": 963.0000000000001, \"45_line\": 639}, {\"index\": 5217, \"location\": \"Japan\", \"date\": \"2020-03-13T00:00:00\", \"total_cases\": 701, \"total_infected\": 1007.0, \"n_days\": 37, \"cases\": 701, \"infected\": 1007.0, \"45_line\": 701}, {\"index\": 5218, \"location\": \"Japan\", \"date\": \"2020-03-14T00:00:00\", \"total_cases\": 773, \"total_infected\": 1101.0, \"n_days\": 38, \"cases\": 773, \"infected\": 1101.0, \"45_line\": 773}, {\"index\": 5219, \"location\": \"Japan\", \"date\": \"2020-03-15T00:00:00\", \"total_cases\": 839, \"total_infected\": 1128.0, \"n_days\": 39, \"cases\": 839, \"infected\": 1128.0, \"45_line\": 839}, {\"index\": 5220, \"location\": \"Japan\", \"date\": \"2020-03-16T00:00:00\", \"total_cases\": 839, \"total_infected\": 1193.0, \"n_days\": 40, \"cases\": 839, \"infected\": 1193.0, \"45_line\": 839}, {\"index\": 5221, \"location\": \"Japan\", \"date\": \"2020-03-17T00:00:00\", \"total_cases\": 878, \"total_infected\": 1304.904053523095, \"n_days\": 41, \"cases\": 878, \"infected\": 1304.904053523095, \"45_line\": 878}, {\"index\": 5222, \"location\": \"Japan\", \"date\": \"2020-03-18T00:00:00\", \"total_cases\": 889, \"total_infected\": 1427.3047685674806, \"n_days\": 42, \"cases\": 889, \"infected\": 1427.3047685674806, \"45_line\": 889}, {\"index\": 5223, \"location\": \"Japan\", \"date\": \"2020-03-19T00:00:00\", \"total_cases\": 924, \"total_infected\": 1561.1867377339047, \"n_days\": 43, \"cases\": 924, \"infected\": 1561.1867377339047, \"45_line\": 924}, {\"index\": 5224, \"location\": \"Japan\", \"date\": \"2020-03-20T00:00:00\", \"total_cases\": 963, \"total_infected\": 1707.6269089484235, \"n_days\": 44, \"cases\": 963, \"infected\": 1707.6269089484235, \"45_line\": 963}, {\"index\": 5225, \"location\": \"Japan\", \"date\": \"2020-03-21T00:00:00\", \"total_cases\": 1007, \"total_infected\": 1867.803248442507, \"n_days\": 45, \"cases\": 1007, \"infected\": 1867.803248442507, \"45_line\": 1007}, {\"index\": 5226, \"location\": \"Japan\", \"date\": \"2020-03-22T00:00:00\", \"total_cases\": 1101, \"total_infected\": 2043.004216325425, \"n_days\": 46, \"cases\": 1101, \"infected\": 2043.004216325425, \"45_line\": 1101}, {\"index\": 5227, \"location\": \"Japan\", \"date\": \"2020-03-23T00:00:00\", \"total_cases\": 1128, \"total_infected\": 2234.6391309705123, \"n_days\": 47, \"cases\": 1128, \"infected\": 2234.6391309705123, \"45_line\": 1128}, {\"index\": 5228, \"location\": \"Japan\", \"date\": \"2020-03-24T00:00:00\", \"total_cases\": 1193, \"total_infected\": 2444.2495055865447, \"n_days\": 48, \"cases\": 1193, \"infected\": 2444.2495055865447, \"45_line\": 1193}, {\"index\": 1433, \"location\": \"Brazil\", \"date\": \"2020-03-09T00:00:00\", \"total_cases\": 25, \"total_infected\": 321.0, \"n_days\": 0, \"cases\": 25, \"infected\": 321.0, \"45_line\": 25}, {\"index\": 1434, \"location\": \"Brazil\", \"date\": \"2020-03-10T00:00:00\", \"total_cases\": 31, \"total_infected\": 372.0, \"n_days\": 1, \"cases\": 31, \"infected\": 372.0, \"45_line\": 31}, {\"index\": 1435, \"location\": \"Brazil\", \"date\": \"2020-03-11T00:00:00\", \"total_cases\": 38, \"total_infected\": 621.0, \"n_days\": 2, \"cases\": 38, \"infected\": 621.0, \"45_line\": 38}, {\"index\": 1436, \"location\": \"Brazil\", \"date\": \"2020-03-12T00:00:00\", \"total_cases\": 52, \"total_infected\": 793.0, \"n_days\": 3, \"cases\": 52, \"infected\": 793.0, \"45_line\": 52}, {\"index\": 1437, \"location\": \"Brazil\", \"date\": \"2020-03-13T00:00:00\", \"total_cases\": 151, \"total_infected\": 1021.0, \"n_days\": 4, \"cases\": 151, \"infected\": 1021.0, \"45_line\": 151}, {\"index\": 1438, \"location\": \"Brazil\", \"date\": \"2020-03-14T00:00:00\", \"total_cases\": 151, \"total_infected\": 1546.0, \"n_days\": 5, \"cases\": 151, \"infected\": 1546.0, \"45_line\": 151}, {\"index\": 1439, \"location\": \"Brazil\", \"date\": \"2020-03-15T00:00:00\", \"total_cases\": 162, \"total_infected\": 1924.0, \"n_days\": 6, \"cases\": 162, \"infected\": 1924.0, \"45_line\": 162}, {\"index\": 1440, \"location\": \"Brazil\", \"date\": \"2020-03-16T00:00:00\", \"total_cases\": 200, \"total_infected\": 2247.0, \"n_days\": 7, \"cases\": 200, \"infected\": 2247.0, \"45_line\": 200}, {\"index\": 1441, \"location\": \"Brazil\", \"date\": \"2020-03-17T00:00:00\", \"total_cases\": 321, \"total_infected\": 2871.637157846756, \"n_days\": 8, \"cases\": 321, \"infected\": 2871.637157846756, \"45_line\": 321}, {\"index\": 1442, \"location\": \"Brazil\", \"date\": \"2020-03-18T00:00:00\", \"total_cases\": 372, \"total_infected\": 3669.915427826522, \"n_days\": 9, \"cases\": 372, \"infected\": 3669.915427826522, \"45_line\": 372}, {\"index\": 1443, \"location\": \"Brazil\", \"date\": \"2020-03-19T00:00:00\", \"total_cases\": 621, \"total_infected\": 4690.104810281136, \"n_days\": 10, \"cases\": 621, \"infected\": 4690.104810281136, \"45_line\": 621}, {\"index\": 1444, \"location\": \"Brazil\", \"date\": \"2020-03-20T00:00:00\", \"total_cases\": 793, \"total_infected\": 5993.893746061024, \"n_days\": 11, \"cases\": 793, \"infected\": 5993.893746061024, \"45_line\": 793}, {\"index\": 1445, \"location\": \"Brazil\", \"date\": \"2020-03-21T00:00:00\", \"total_cases\": 1021, \"total_infected\": 7660.119270749499, \"n_days\": 12, \"cases\": 1021, \"infected\": 7660.119270749499, \"45_line\": 1021}, {\"index\": 1446, \"location\": \"Brazil\", \"date\": \"2020-03-22T00:00:00\", \"total_cases\": 1546, \"total_infected\": 9789.534103881733, \"n_days\": 13, \"cases\": 1546, \"infected\": 9789.534103881733, \"45_line\": 1546}, {\"index\": 1447, \"location\": \"Brazil\", \"date\": \"2020-03-23T00:00:00\", \"total_cases\": 1924, \"total_infected\": 12510.89892777696, \"n_days\": 14, \"cases\": 1924, \"infected\": 12510.89892777696, \"45_line\": 1924}, {\"index\": 1448, \"location\": \"Brazil\", \"date\": \"2020-03-24T00:00:00\", \"total_cases\": 2247, \"total_infected\": 15988.76824168645, \"n_days\": 15, \"cases\": 2247, \"infected\": 15988.76824168645, \"45_line\": 2247}, {\"index\": 4808, \"location\": \"Iran\", \"date\": \"2020-02-11T00:00:00\", \"total_cases\": 0, \"total_infected\": 2.0, \"n_days\": 0, \"cases\": 0, \"infected\": 2.0, \"45_line\": 0}, {\"index\": 4809, \"location\": \"Iran\", \"date\": \"2020-02-12T00:00:00\", \"total_cases\": 0, \"total_infected\": 5.0, \"n_days\": 1, \"cases\": 0, \"infected\": 5.0, \"45_line\": 0}, {\"index\": 4810, \"location\": \"Iran\", \"date\": \"2020-02-13T00:00:00\", \"total_cases\": 0, \"total_infected\": 18.0, \"n_days\": 2, \"cases\": 0, \"infected\": 18.0, \"45_line\": 0}, {\"index\": 4811, \"location\": \"Iran\", \"date\": \"2020-02-14T00:00:00\", \"total_cases\": 0, \"total_infected\": 28.0, \"n_days\": 3, \"cases\": 0, \"infected\": 28.0, \"45_line\": 0}, {\"index\": 4812, \"location\": \"Iran\", \"date\": \"2020-02-15T00:00:00\", \"total_cases\": 0, \"total_infected\": 43.0, \"n_days\": 4, \"cases\": 0, \"infected\": 43.0, \"45_line\": 0}, {\"index\": 4813, \"location\": \"Iran\", \"date\": \"2020-02-16T00:00:00\", \"total_cases\": 0, \"total_infected\": 61.0, \"n_days\": 5, \"cases\": 0, \"infected\": 61.0, \"45_line\": 0}, {\"index\": 4814, \"location\": \"Iran\", \"date\": \"2020-02-17T00:00:00\", \"total_cases\": 0, \"total_infected\": 95.0, \"n_days\": 6, \"cases\": 0, \"infected\": 95.0, \"45_line\": 0}, {\"index\": 4815, \"location\": \"Iran\", \"date\": \"2020-02-18T00:00:00\", \"total_cases\": 0, \"total_infected\": 139.0, \"n_days\": 7, \"cases\": 0, \"infected\": 139.0, \"45_line\": 0}, {\"index\": 4816, \"location\": \"Iran\", \"date\": \"2020-02-19T00:00:00\", \"total_cases\": 2, \"total_infected\": 245.0, \"n_days\": 8, \"cases\": 2, \"infected\": 245.0, \"45_line\": 2}, {\"index\": 4817, \"location\": \"Iran\", \"date\": \"2020-02-20T00:00:00\", \"total_cases\": 5, \"total_infected\": 388.0, \"n_days\": 9, \"cases\": 5, \"infected\": 388.0, \"45_line\": 5}, {\"index\": 4818, \"location\": \"Iran\", \"date\": \"2020-02-21T00:00:00\", \"total_cases\": 18, \"total_infected\": 593.0, \"n_days\": 10, \"cases\": 18, \"infected\": 593.0, \"45_line\": 18}, {\"index\": 4819, \"location\": \"Iran\", \"date\": \"2020-02-22T00:00:00\", \"total_cases\": 28, \"total_infected\": 978.0, \"n_days\": 11, \"cases\": 28, \"infected\": 978.0, \"45_line\": 28}, {\"index\": 4820, \"location\": \"Iran\", \"date\": \"2020-02-23T00:00:00\", \"total_cases\": 43, \"total_infected\": 1501.0, \"n_days\": 12, \"cases\": 43, \"infected\": 1501.0, \"45_line\": 43}, {\"index\": 4821, \"location\": \"Iran\", \"date\": \"2020-02-24T00:00:00\", \"total_cases\": 61, \"total_infected\": 2336.0, \"n_days\": 13, \"cases\": 61, \"infected\": 2336.0, \"45_line\": 61}, {\"index\": 4822, \"location\": \"Iran\", \"date\": \"2020-02-25T00:00:00\", \"total_cases\": 95, \"total_infected\": 2922.0000000000005, \"n_days\": 14, \"cases\": 95, \"infected\": 2922.0000000000005, \"45_line\": 95}, {\"index\": 4823, \"location\": \"Iran\", \"date\": \"2020-02-26T00:00:00\", \"total_cases\": 139, \"total_infected\": 3513.0, \"n_days\": 15, \"cases\": 139, \"infected\": 3513.0, \"45_line\": 139}, {\"index\": 4824, \"location\": \"Iran\", \"date\": \"2020-02-27T00:00:00\", \"total_cases\": 245, \"total_infected\": 4747.0, \"n_days\": 16, \"cases\": 245, \"infected\": 4747.0, \"45_line\": 245}, {\"index\": 4825, \"location\": \"Iran\", \"date\": \"2020-02-28T00:00:00\", \"total_cases\": 388, \"total_infected\": 5823.0, \"n_days\": 17, \"cases\": 388, \"infected\": 5823.0, \"45_line\": 388}, {\"index\": 4826, \"location\": \"Iran\", \"date\": \"2020-02-29T00:00:00\", \"total_cases\": 593, \"total_infected\": 6566.0, \"n_days\": 18, \"cases\": 593, \"infected\": 6566.0, \"45_line\": 593}, {\"index\": 4827, \"location\": \"Iran\", \"date\": \"2020-03-01T00:00:00\", \"total_cases\": 978, \"total_infected\": 7161.000000000001, \"n_days\": 19, \"cases\": 978, \"infected\": 7161.000000000001, \"45_line\": 978}, {\"index\": 4828, \"location\": \"Iran\", \"date\": \"2020-03-02T00:00:00\", \"total_cases\": 1501, \"total_infected\": 8042.000000000001, \"n_days\": 20, \"cases\": 1501, \"infected\": 8042.000000000001, \"45_line\": 1501}, {\"index\": 4829, \"location\": \"Iran\", \"date\": \"2020-03-03T00:00:00\", \"total_cases\": 2336, \"total_infected\": 9000.0, \"n_days\": 21, \"cases\": 2336, \"infected\": 9000.0, \"45_line\": 2336}, {\"index\": 4830, \"location\": \"Iran\", \"date\": \"2020-03-04T00:00:00\", \"total_cases\": 2922, \"total_infected\": 10075.0, \"n_days\": 22, \"cases\": 2922, \"infected\": 10075.0, \"45_line\": 2922}, {\"index\": 4831, \"location\": \"Iran\", \"date\": \"2020-03-05T00:00:00\", \"total_cases\": 3513, \"total_infected\": 11364.0, \"n_days\": 23, \"cases\": 3513, \"infected\": 11364.0, \"45_line\": 3513}, {\"index\": 4832, \"location\": \"Iran\", \"date\": \"2020-03-06T00:00:00\", \"total_cases\": 4747, \"total_infected\": 12729.0, \"n_days\": 24, \"cases\": 4747, \"infected\": 12729.0, \"45_line\": 4747}, {\"index\": 4833, \"location\": \"Iran\", \"date\": \"2020-03-07T00:00:00\", \"total_cases\": 5823, \"total_infected\": 13938.0, \"n_days\": 25, \"cases\": 5823, \"infected\": 13938.0, \"45_line\": 5823}, {\"index\": 4834, \"location\": \"Iran\", \"date\": \"2020-03-08T00:00:00\", \"total_cases\": 6566, \"total_infected\": 14991.0, \"n_days\": 26, \"cases\": 6566, \"infected\": 14991.0, \"45_line\": 6566}, {\"index\": 4835, \"location\": \"Iran\", \"date\": \"2020-03-09T00:00:00\", \"total_cases\": 7161, \"total_infected\": 16169.0, \"n_days\": 27, \"cases\": 7161, \"infected\": 16169.0, \"45_line\": 7161}, {\"index\": 4836, \"location\": \"Iran\", \"date\": \"2020-03-10T00:00:00\", \"total_cases\": 8042, \"total_infected\": 17361.0, \"n_days\": 28, \"cases\": 8042, \"infected\": 17361.0, \"45_line\": 8042}, {\"index\": 4837, \"location\": \"Iran\", \"date\": \"2020-03-11T00:00:00\", \"total_cases\": 9000, \"total_infected\": 18407.0, \"n_days\": 29, \"cases\": 9000, \"infected\": 18407.0, \"45_line\": 9000}, {\"index\": 4838, \"location\": \"Iran\", \"date\": \"2020-03-12T00:00:00\", \"total_cases\": 10075, \"total_infected\": 19644.0, \"n_days\": 30, \"cases\": 10075, \"infected\": 19644.0, \"45_line\": 10075}, {\"index\": 4839, \"location\": \"Iran\", \"date\": \"2020-03-13T00:00:00\", \"total_cases\": 11364, \"total_infected\": 20610.0, \"n_days\": 31, \"cases\": 11364, \"infected\": 20610.0, \"45_line\": 11364}, {\"index\": 4840, \"location\": \"Iran\", \"date\": \"2020-03-14T00:00:00\", \"total_cases\": 12729, \"total_infected\": 21638.0, \"n_days\": 32, \"cases\": 12729, \"infected\": 21638.0, \"45_line\": 12729}, {\"index\": 4841, \"location\": \"Iran\", \"date\": \"2020-03-15T00:00:00\", \"total_cases\": 13938, \"total_infected\": 23049.0, \"n_days\": 33, \"cases\": 13938, \"infected\": 23049.0, \"45_line\": 13938}, {\"index\": 4842, \"location\": \"Iran\", \"date\": \"2020-03-16T00:00:00\", \"total_cases\": 14991, \"total_infected\": 24811.0, \"n_days\": 34, \"cases\": 14991, \"infected\": 24811.0, \"45_line\": 14991}, {\"index\": 4843, \"location\": \"Iran\", \"date\": \"2020-03-17T00:00:00\", \"total_cases\": 16169, \"total_infected\": 31689.40840729214, \"n_days\": 35, \"cases\": 16169, \"infected\": 31689.40840729214, \"45_line\": 16169}, {\"index\": 4844, \"location\": \"Iran\", \"date\": \"2020-03-18T00:00:00\", \"total_cases\": 17361, \"total_infected\": 40474.733191090956, \"n_days\": 36, \"cases\": 17361, \"infected\": 40474.733191090956, \"45_line\": 17361}, {\"index\": 4845, \"location\": \"Iran\", \"date\": \"2020-03-19T00:00:00\", \"total_cases\": 18407, \"total_infected\": 51695.63299619781, \"n_days\": 37, \"cases\": 18407, \"infected\": 51695.63299619781, \"45_line\": 18407}, {\"index\": 4846, \"location\": \"Iran\", \"date\": \"2020-03-20T00:00:00\", \"total_cases\": 19644, \"total_infected\": 66027.32767280641, \"n_days\": 38, \"cases\": 19644, \"infected\": 66027.32767280641, \"45_line\": 19644}, {\"index\": 4847, \"location\": \"Iran\", \"date\": \"2020-03-21T00:00:00\", \"total_cases\": 20610, \"total_infected\": 84332.22976363968, \"n_days\": 39, \"cases\": 20610, \"infected\": 84332.22976363968, \"45_line\": 20610}, {\"index\": 4848, \"location\": \"Iran\", \"date\": \"2020-03-22T00:00:00\", \"total_cases\": 21638, \"total_infected\": 107711.84034813492, \"n_days\": 40, \"cases\": 21638, \"infected\": 107711.84034813492, \"45_line\": 21638}, {\"index\": 4849, \"location\": \"Iran\", \"date\": \"2020-03-23T00:00:00\", \"total_cases\": 23049, \"total_infected\": 137573.0320862962, \"n_days\": 41, \"cases\": 23049, \"infected\": 137573.0320862962, \"45_line\": 23049}, {\"index\": 4850, \"location\": \"Iran\", \"date\": \"2020-03-24T00:00:00\", \"total_cases\": 24811, \"total_infected\": 175712.70805739978, \"n_days\": 42, \"cases\": 24811, \"infected\": 175712.70805739978, \"45_line\": 24811}]}}, {\"mode\": \"vega-lite\"});\n",
       "</script>"
      ],
      "text/plain": [
       "alt.LayerChart(...)"
      ]
     },
     "execution_count": 6,
     "metadata": {},
     "output_type": "execute_result"
    }
   ],
   "source": [
    "#hide_input\n",
    "# Plot it using Altair\n",
    "data_pc = data_final[['location', 'date', 'total_cases', 'total_infected']].copy()\n",
    "\n",
    "countries = [\"Italy\", \"Spain\", \"France\", \"United Kingdom\", \"Germany\", \n",
    "             \"Portugal\", \"United States\", \"Singapore\",\"South Korea\", \"Japan\", \n",
    "             \"Brazil\",\"Iran\"]\n",
    "data_countries = []\n",
    "data_countries_pc = []\n",
    "\n",
    "for i in countries:\n",
    "    data_pc.loc[data_pc.location == i,\"total_infected\"] = data_pc.loc[data_pc.location == i,\"total_infected\"]\n",
    "    data_pc.loc[data_pc.location == i,\"total_cases\"] = data_pc.loc[data_pc.location == i,\"total_cases\"]\n",
    "    # get each country time series\n",
    "filter1 = data_pc[\"total_infected\"] > 1\n",
    "for i in countries:\n",
    "    filter_country = data_pc[\"location\"]== i\n",
    "    data_countries_pc.append(data_pc[filter_country & filter1])\n",
    "\n",
    "\n",
    "plot(data_countries_pc, \"scatter\", True)"
   ]
  },
  {
   "cell_type": "markdown",
   "metadata": {
    "papermill": {
     "duration": 0.013259,
     "end_time": "2020-03-25T06:23:46.469027",
     "exception": false,
     "start_time": "2020-03-25T06:23:46.455768",
     "status": "completed"
    },
    "tags": []
   },
   "source": [
    "Latest Observed vs. Estimate of Infected Cases"
   ]
  },
  {
   "cell_type": "code",
   "execution_count": 7,
   "metadata": {
    "papermill": {
     "duration": 0.042742,
     "end_time": "2020-03-25T06:23:46.525356",
     "exception": false,
     "start_time": "2020-03-25T06:23:46.482614",
     "status": "completed"
    },
    "tags": []
   },
   "outputs": [
    {
     "data": {
      "text/html": [
       "<div>\n",
       "<style scoped>\n",
       "    .dataframe tbody tr th:only-of-type {\n",
       "        vertical-align: middle;\n",
       "    }\n",
       "\n",
       "    .dataframe tbody tr th {\n",
       "        vertical-align: top;\n",
       "    }\n",
       "\n",
       "    .dataframe thead th {\n",
       "        text-align: right;\n",
       "    }\n",
       "</style>\n",
       "<table border=\"1\" class=\"dataframe\">\n",
       "  <thead>\n",
       "    <tr style=\"text-align: right;\">\n",
       "      <th></th>\n",
       "      <th>Date</th>\n",
       "      <th>Observed Cases</th>\n",
       "      <th>Estimate of Infected</th>\n",
       "    </tr>\n",
       "    <tr>\n",
       "      <th>Country</th>\n",
       "      <th></th>\n",
       "      <th></th>\n",
       "      <th></th>\n",
       "    </tr>\n",
       "  </thead>\n",
       "  <tbody>\n",
       "    <tr>\n",
       "      <th>Brazil</th>\n",
       "      <td>2020-03-24</td>\n",
       "      <td>2,247</td>\n",
       "      <td>15,989</td>\n",
       "    </tr>\n",
       "    <tr>\n",
       "      <th>France</th>\n",
       "      <td>2020-03-24</td>\n",
       "      <td>22,622</td>\n",
       "      <td>96,281</td>\n",
       "    </tr>\n",
       "    <tr>\n",
       "      <th>Germany</th>\n",
       "      <td>2020-03-24</td>\n",
       "      <td>32,986</td>\n",
       "      <td>164,305</td>\n",
       "    </tr>\n",
       "    <tr>\n",
       "      <th>Iran</th>\n",
       "      <td>2020-03-24</td>\n",
       "      <td>24,811</td>\n",
       "      <td>175,713</td>\n",
       "    </tr>\n",
       "    <tr>\n",
       "      <th>Italy</th>\n",
       "      <td>2020-03-24</td>\n",
       "      <td>69,176</td>\n",
       "      <td>424,742</td>\n",
       "    </tr>\n",
       "    <tr>\n",
       "      <th>Japan</th>\n",
       "      <td>2020-03-24</td>\n",
       "      <td>1,193</td>\n",
       "      <td>2,444</td>\n",
       "    </tr>\n",
       "    <tr>\n",
       "      <th>Portugal</th>\n",
       "      <td>2020-03-24</td>\n",
       "      <td>2,362</td>\n",
       "      <td>12,991</td>\n",
       "    </tr>\n",
       "    <tr>\n",
       "      <th>Singapore</th>\n",
       "      <td>2020-03-24</td>\n",
       "      <td>558</td>\n",
       "      <td>1,074</td>\n",
       "    </tr>\n",
       "    <tr>\n",
       "      <th>South Korea</th>\n",
       "      <td>2020-03-24</td>\n",
       "      <td>9,037</td>\n",
       "      <td>24,940</td>\n",
       "    </tr>\n",
       "    <tr>\n",
       "      <th>Spain</th>\n",
       "      <td>2020-03-24</td>\n",
       "      <td>39,885</td>\n",
       "      <td>255,519</td>\n",
       "    </tr>\n",
       "    <tr>\n",
       "      <th>United Kingdom</th>\n",
       "      <td>2020-03-24</td>\n",
       "      <td>8,164</td>\n",
       "      <td>41,100</td>\n",
       "    </tr>\n",
       "    <tr>\n",
       "      <th>United States</th>\n",
       "      <td>2020-03-24</td>\n",
       "      <td>53,740</td>\n",
       "      <td>382,464</td>\n",
       "    </tr>\n",
       "  </tbody>\n",
       "</table>\n",
       "</div>"
      ],
      "text/plain": [
       "                     Date Observed Cases Estimate of Infected\n",
       "Country                                                      \n",
       "Brazil         2020-03-24          2,247               15,989\n",
       "France         2020-03-24         22,622               96,281\n",
       "Germany        2020-03-24         32,986              164,305\n",
       "Iran           2020-03-24         24,811              175,713\n",
       "Italy          2020-03-24         69,176              424,742\n",
       "Japan          2020-03-24          1,193                2,444\n",
       "Portugal       2020-03-24          2,362               12,991\n",
       "Singapore      2020-03-24            558                1,074\n",
       "South Korea    2020-03-24          9,037               24,940\n",
       "Spain          2020-03-24         39,885              255,519\n",
       "United Kingdom 2020-03-24          8,164               41,100\n",
       "United States  2020-03-24         53,740              382,464"
      ]
     },
     "execution_count": 7,
     "metadata": {},
     "output_type": "execute_result"
    }
   ],
   "source": [
    "#hide_input\n",
    "label1 = 'Observed Cases'\n",
    "label2 = 'Estimated Infected'\n",
    "temp = pd.concat([x.copy() for x in data_countries_pc]).loc[lambda x: x.date >= '3/1/2020']\n",
    "\n",
    "metric_name1 = f'{label1}'\n",
    "metric_name2 = f'{label2}'\n",
    "temp.columns = ['Country', 'Date', metric_name1, metric_name2]\n",
    "# temp.loc[:, 'month'] = temp.date.dt.strftime('%Y-%m')\n",
    "temp.loc[:, \"Observed Cases\"] = temp.loc[:, \"Observed Cases\"].round(0).map('{:,.0f}'.format)\n",
    "temp.loc[:, \"Estimated Infected\"] = temp.loc[:, \"Estimated Infected\"].round(0).map('{:,.0f}'.format)\n",
    "temp.groupby('Country').last()"
   ]
  },
  {
   "cell_type": "markdown",
   "metadata": {
    "papermill": {
     "duration": 0.013877,
     "end_time": "2020-03-25T06:23:46.553536",
     "exception": false,
     "start_time": "2020-03-25T06:23:46.539659",
     "status": "completed"
    },
    "tags": []
   },
   "source": [
    "## Methodology"
   ]
  },
  {
   "cell_type": "markdown",
   "metadata": {
    "papermill": {
     "duration": 0.013677,
     "end_time": "2020-03-25T06:23:46.581228",
     "exception": false,
     "start_time": "2020-03-25T06:23:46.567551",
     "status": "completed"
    },
    "tags": []
   },
   "source": [
    "We argue that the number of infected in the past can be infered using today's number of deaths and average fatality rate from confirmed cases in the following way:\n",
    "\n",
    "{% raw %}\n",
    "$$ I_{t-j} = \\frac{D_t}{{CFR}_t}$$\n",
    "{% endraw %}\n",
    "\n",
    "where {% raw %}$I_t${% endraw %} = number of infected, {% raw %}$D_t${% endraw %} = number of deaths, and {% raw %}${CFR}_t ${% endraw %} = case fatality rate = {% raw %}$\\frac{D}{C}${% endraw %}. The {% raw %}$j${% endraw %} depends on the average number of days that covid patients die after having the first symptoms."
   ]
  },
  {
   "cell_type": "markdown",
   "metadata": {
    "papermill": {
     "duration": 0.01401,
     "end_time": "2020-03-25T06:23:46.609442",
     "exception": false,
     "start_time": "2020-03-25T06:23:46.595432",
     "status": "completed"
    },
    "tags": []
   },
   "source": [
    "**Assumption 1**: The case fatality rate is a good proxy for the fatality rate of the infected population\n"
   ]
  },
  {
   "cell_type": "markdown",
   "metadata": {
    "papermill": {
     "duration": 0.013736,
     "end_time": "2020-03-25T06:23:46.637487",
     "exception": false,
     "start_time": "2020-03-25T06:23:46.623751",
     "status": "completed"
    },
    "tags": []
   },
   "source": [
    "Then, in order to estimate the current number of infected {% raw %}$I_t${% endraw %} we need to estimate its growth rate from {% raw %}$t-j${% endraw %} to {% raw %}$t${% endraw %}.\n",
    "\n",
    "{% raw %}\n",
    "$$I_t = (1+\\hat{g})^j I_{t-j}$$\n",
    "{% endraw %}"
   ]
  },
  {
   "cell_type": "markdown",
   "metadata": {
    "papermill": {
     "duration": 0.013824,
     "end_time": "2020-03-25T06:23:46.665231",
     "exception": false,
     "start_time": "2020-03-25T06:23:46.651407",
     "status": "completed"
    },
    "tags": []
   },
   "source": [
    "**Assumption 2**: The growth rate of infected $\\hat{g}$ is an unbiased estimate of $g$ .\n",
    "\n",
    "For now we estimate $g$ using the average growth rate since having the first infected person."
   ]
  },
  {
   "cell_type": "markdown",
   "metadata": {
    "papermill": {
     "duration": 0.014182,
     "end_time": "2020-03-25T06:23:46.693474",
     "exception": false,
     "start_time": "2020-03-25T06:23:46.679292",
     "status": "completed"
    },
    "tags": []
   },
   "source": [
    "**Assumption 3**: It takes on average 8 days to die after having the first symptoms."
   ]
  },
  {
   "cell_type": "markdown",
   "metadata": {
    "papermill": {
     "duration": 0.013684,
     "end_time": "2020-03-25T06:23:46.721038",
     "exception": false,
     "start_time": "2020-03-25T06:23:46.707354",
     "status": "completed"
    },
    "tags": []
   },
   "source": [
    "This analysis was conducted by [Joao B. Duarte](https://www.jbduarte.com). Relevant sources are listed below: \n",
    "\n",
    "\n",
    "1. [2019 Novel Coronavirus COVID-19 (2019-nCoV) Data Repository by Johns Hopkins CSSE](https://systems.jhu.edu/research/public-health/ncov/) [GitHub repository](https://github.com/CSSEGISandData/COVID-19). \n",
    "\n",
    "2. [Feenstra, Robert C., Robert Inklaar and Marcel P. Timmer (2015), \"The Next Generation of the Penn World Table\" American Economic Review, 105(10), 3150-3182](https://www.rug.nl/ggdc/productivity/pwt/related-research)\n"
   ]
  },
  {
   "cell_type": "code",
   "execution_count": null,
   "metadata": {
    "papermill": {
     "duration": 0.014853,
     "end_time": "2020-03-25T06:23:46.750011",
     "exception": false,
     "start_time": "2020-03-25T06:23:46.735158",
     "status": "completed"
    },
    "tags": []
   },
   "outputs": [],
   "source": []
  }
 ],
 "metadata": {
  "kernelspec": {
   "display_name": "Python 3",
   "language": "python",
   "name": "python3"
  },
  "language_info": {
   "codemirror_mode": {
    "name": "ipython",
    "version": 3
   },
   "file_extension": ".py",
   "mimetype": "text/x-python",
   "name": "python",
   "nbconvert_exporter": "python",
   "pygments_lexer": "ipython3",
   "version": "3.6.9"
  },
  "papermill": {
   "duration": 9.352288,
   "end_time": "2020-03-25T06:23:46.768234",
   "environment_variables": {},
   "exception": null,
   "input_path": "2020-03-19-estimating_infected.ipynb",
   "output_path": "2020-03-19-estimating_infected.ipynb",
   "parameters": {},
   "start_time": "2020-03-25T06:23:37.415946",
   "version": "2.0.0"
  },
  "toc": {
   "base_numbering": 1,
   "nav_menu": {},
   "number_sections": true,
   "sideBar": true,
   "skip_h1_title": false,
   "title_cell": "Table of Contents",
   "title_sidebar": "Contents",
   "toc_cell": false,
   "toc_position": {},
   "toc_section_display": true,
   "toc_window_display": false
  },
  "varInspector": {
   "cols": {
    "lenName": 16,
    "lenType": 16,
    "lenVar": 40
   },
   "kernels_config": {
    "python": {
     "delete_cmd_postfix": "",
     "delete_cmd_prefix": "del ",
     "library": "var_list.py",
     "varRefreshCmd": "print(var_dic_list())"
    },
    "r": {
     "delete_cmd_postfix": ") ",
     "delete_cmd_prefix": "rm(",
     "library": "var_list.r",
     "varRefreshCmd": "cat(var_dic_list()) "
    }
   },
   "types_to_exclude": [
    "module",
    "function",
    "builtin_function_or_method",
    "instance",
    "_Feature"
   ],
   "window_display": false
  }
 },
 "nbformat": 4,
 "nbformat_minor": 2
}
