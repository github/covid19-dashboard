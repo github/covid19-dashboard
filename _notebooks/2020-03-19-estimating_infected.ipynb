{
 "cells": [
  {
   "cell_type": "markdown",
   "metadata": {
    "papermill": {
     "duration": 0.018527,
     "end_time": "2020-03-24T06:29:58.927560",
     "exception": false,
     "start_time": "2020-03-24T06:29:58.909033",
     "status": "completed"
    },
    "tags": []
   },
   "source": [
    "# Estimating The Infected Population From Deaths\n",
    "> Estimating the number of infected people by country based on the number of deaths and case fatality rate. \n",
    "\n",
    "- comments: true\n",
    "- author: Joao B. Duarte\n",
    "- categories: [growth, compare, interactive, estimation]\n",
    "- hide: false\n",
    "- image: images/covid-estimate-infections.png\n",
    "- permalink: /covid-infected/\n",
    "- toc: true"
   ]
  },
  {
   "cell_type": "code",
   "execution_count": 1,
   "metadata": {
    "papermill": {
     "duration": 0.664277,
     "end_time": "2020-03-24T06:29:59.603542",
     "exception": false,
     "start_time": "2020-03-24T06:29:58.939265",
     "status": "completed"
    },
    "tags": []
   },
   "outputs": [],
   "source": [
    "#hide\n",
    "import numpy as np\n",
    "import pandas as pd\n",
    "import matplotlib.pyplot as plt\n",
    "import altair as alt\n",
    "from datetime import timedelta, datetime, date\n",
    "%config InlineBackend.figure_format = 'retina'\n",
    "\n",
    "chart_width = 550\n",
    "chart_height= 400"
   ]
  },
  {
   "cell_type": "code",
   "execution_count": 2,
   "metadata": {
    "papermill": {
     "duration": 0.037165,
     "end_time": "2020-03-24T06:29:59.653027",
     "exception": false,
     "start_time": "2020-03-24T06:29:59.615862",
     "status": "completed"
    },
    "tags": []
   },
   "outputs": [],
   "source": [
    "#hide\n",
    "def plot(data, type1, levels):\n",
    "    data_countries_pc2 = data.copy()\n",
    "    for i in range(0,len(countries)):\n",
    "        data_countries_pc2[i] = data_countries_pc2[i].reset_index()\n",
    "        data_countries_pc2[i]['n_days'] = data_countries_pc2[i].index\n",
    "        if type1 == \"scatter\":\n",
    "            data_countries_pc2[i]['cases'] = data_countries_pc2[i][\"total_cases\"]\n",
    "        data_countries_pc2[i]['infected'] = data_countries_pc2[i][\"total_infected\"]\n",
    "    data_plot = data_countries_pc2[0]\n",
    "    for i in range(1, len(countries)):    \n",
    "        data_plot = pd.concat([data_plot, data_countries_pc2[i]], axis=0)\n",
    "    \n",
    "    if type1 == \"scatter\":\n",
    "        data_plot[\"45_line\"] = data_plot[\"cases\"]\n",
    "\n",
    "    # Plot it using Altair\n",
    "    source = data_plot\n",
    "    \n",
    "    if levels == True:\n",
    "        ylabel = \"Total\"\n",
    "    else :\n",
    "        ylabel = \"Per Million\"\n",
    "\n",
    "    scales = alt.selection_interval(bind='scales')\n",
    "    selection = alt.selection_multi(fields=['location'], bind='legend')\n",
    "\n",
    "    if type1 == \"line\": \n",
    "        base = alt.Chart(source, title =  \"Estimated Infected Population By Country\").encode(\n",
    "            x = alt.X('n_days:Q', title = \"Days since outbreak\"),\n",
    "            y = alt.Y(\"infected:Q\",title = ylabel),\n",
    "            color = alt.Color('location:N', legend=alt.Legend(title=\"Country\", labelFontSize=15, titleFontSize=17),\n",
    "                             scale=alt.Scale(scheme='tableau20')),\n",
    "            opacity = alt.condition(selection, alt.value(1), alt.value(0.1))\n",
    "        )\n",
    "    \n",
    "        lines = base.mark_line().add_selection(\n",
    "            scales\n",
    "        ).add_selection(\n",
    "            selection\n",
    "        ).properties(\n",
    "            width=chart_width,\n",
    "            height=chart_height\n",
    "        )\n",
    "        return(\n",
    "        ( lines)\n",
    "        .configure_title(fontSize=20)\n",
    "        .configure_axis(labelFontSize=15,titleFontSize=18)\n",
    "        )\n",
    "    \n",
    "    if levels == True:\n",
    "        ylabel = \"Infected\"\n",
    "        xlabel = \"Cases\"\n",
    "    else :\n",
    "        ylabel = \"Per Million Infected\"\n",
    "        xlabel = \"Per Million Cases\"\n",
    "        \n",
    "    if type1 == \"scatter\":\n",
    "        base = alt.Chart(source, title = \"COVID-19 Cases VS Infected\").encode(\n",
    "            x = alt.X('cases:Q', title = xlabel),\n",
    "            y = alt.Y(\"infected:Q\",title = ylabel),\n",
    "            color = alt.Color('location:N', legend=alt.Legend(title=\"Country\", labelFontSize=15, titleFontSize=17),\n",
    "                             scale=alt.Scale(scheme='tableau20')),\n",
    "            opacity = alt.condition(selection, alt.value(1), alt.value(0.1))\n",
    "        )\n",
    "\n",
    "\n",
    "        \n",
    "        scatter = base.mark_point().add_selection(\n",
    "            scales\n",
    "        ).add_selection(\n",
    "            selection\n",
    "        ).properties(\n",
    "            width=chart_width,\n",
    "            height=chart_height\n",
    "        )\n",
    "\n",
    "        line_45 = alt.Chart(source).encode(\n",
    "            x = \"cases:Q\",\n",
    "            y = alt.Y(\"45_line:Q\",  scale=alt.Scale(domain=(0, max(data_plot[\"infected\"])))),\n",
    "        ).mark_line(color=\"grey\", strokeDash=[3,3])\n",
    "        \n",
    "        return(\n",
    "        (scatter + line_45)\n",
    "        .configure_title(fontSize=20)\n",
    "        .configure_axis(labelFontSize=15,titleFontSize=18)\n",
    "        )"
   ]
  },
  {
   "cell_type": "code",
   "execution_count": 3,
   "metadata": {
    "papermill": {
     "duration": 5.783634,
     "end_time": "2020-03-24T06:30:05.447496",
     "exception": false,
     "start_time": "2020-03-24T06:29:59.663862",
     "status": "completed"
    },
    "tags": []
   },
   "outputs": [
    {
     "name": "stderr",
     "output_type": "stream",
     "text": [
      "/opt/hostedtoolcache/Python/3.6.10/x64/lib/python3.6/site-packages/ipykernel_launcher.py:45: RuntimeWarning: invalid value encountered in double_scalars\n"
     ]
    }
   ],
   "source": [
    "#hide \n",
    "# Get data on deaths D_t\n",
    "data = pd.read_csv(\"https://raw.githubusercontent.com/CSSEGISandData/COVID-19/master/csse_covid_19_data/csse_covid_19_time_series/time_series_covid19_deaths_global.csv\", error_bad_lines=False)\n",
    "data = data.drop(columns=[\"Lat\", \"Long\"])\n",
    "data = data.melt(id_vars= [\"Province/State\", \"Country/Region\"])\n",
    "data = pd.DataFrame(data.groupby(['Country/Region', \"variable\"]).sum())\n",
    "data.reset_index(inplace=True)  \n",
    "data = data.rename(columns={\"Country/Region\": \"location\", \"variable\": \"date\", \"value\": \"total_deaths\"})\n",
    "data['date'] =pd.to_datetime(data.date)\n",
    "data = data.sort_values(by = \"date\")\n",
    "data.loc[data.location == \"US\",\"location\"] = \"United States\"\n",
    "data.loc[data.location == \"Korea, South\",\"location\"] = \"South Korea\"\n",
    "\n",
    "#hide\n",
    "# Get data and clean it\n",
    "\n",
    "data_cases = pd.read_csv(\"https://raw.githubusercontent.com/CSSEGISandData/COVID-19/master/csse_covid_19_data/csse_covid_19_time_series/time_series_covid19_confirmed_global.csv\", error_bad_lines=False)\n",
    "data_cases = data_cases.drop(columns=[\"Lat\", \"Long\"])\n",
    "data_cases = data_cases.melt(id_vars= [\"Province/State\", \"Country/Region\"])\n",
    "data_cases = pd.DataFrame(data_cases.groupby(['Country/Region', \"variable\"]).sum())\n",
    "data_cases.reset_index(inplace=True)  \n",
    "data_cases = data_cases.rename(columns={\"Country/Region\": \"location\", \"variable\": \"date\", \"value\": \"total_cases\"})\n",
    "data_cases['date'] =pd.to_datetime(data_cases.date)\n",
    "data_cases = data_cases.sort_values(by = \"date\")\n",
    "data_cases.loc[data_cases.location == \"US\",\"location\"] = \"United States\"\n",
    "data_cases.loc[data_cases.location == \"Korea, South\",\"location\"] = \"South Korea\"\n",
    "# Add countries\n",
    "countries = [\"China\", \"Italy\", \"Spain\", \"France\", \"United Kingdom\", \"Germany\", \n",
    "             \"Portugal\", \"United States\", \"Singapore\",\"South Korea\", \"Japan\", \n",
    "             \"Brazil\",\"Iran\", \"India\", \"Switzerland\", \"Canada\", \"Australia\"]\n",
    "\n",
    "data_final = pd.merge(data,\n",
    "                 data_cases\n",
    "                 )\n",
    "data_final[\"CFR\"] = data_final[\"total_deaths\"]/data_final[\"total_cases\"]\n",
    "\n",
    "\n",
    "data_final[\"total_infected\"] = np.NaN\n",
    "data_final = data_final.sort_values(by = ['location', 'date'])\n",
    "data_final = data_final.reset_index(drop = True)\n",
    "\n",
    "\n",
    "for j in countries:\n",
    "    for i in data_final[\"date\"].unique()[0:-8]:\n",
    "        data_final.loc[(data_final.date == i) & (data_final.location == j), \"total_infected\"] = data_final.loc[(data_final.date == i + np.timedelta64(8, 'D')) & (data_final.location == j), \"total_deaths\"].iloc[0]/data_final.loc[(data_final.date == i + np.timedelta64(8, 'D')) & (data_final.location == j), \"CFR\"].iloc[0]\n",
    "        \n",
    "\n",
    "# Estimate growth rate of infected, g        \n",
    "data_final['infected_g'] = np.log(data_final['total_infected'])\n",
    "data_final['infected_g'] = data_final['infected_g'].diff() \n",
    "\n",
    "# Estimate number of infected given g\n",
    "today = data_final.date.iloc[-1]\n",
    "for j in countries:\n",
    "    for i in range(7,-1,-1):\n",
    "        data_final.loc[(data_final.location == j) & (data_final.date == today - timedelta(i)), \"total_infected\"] = data_final.loc[data_final.location == j, \"total_infected\"].iloc[-i-2]*(1+data_final.loc[data_final.location == j, \"infected_g\"].aggregate(func = \"mean\"))\n",
    "        \n",
    "data_pc = data_final[['location', 'date', 'total_infected']].copy()\n",
    "\n",
    "countries = [\"China\", \"Italy\", \"Spain\", \"France\", \"United Kingdom\", \"Germany\", \n",
    "             \"Portugal\", \"United States\", \"Singapore\",\"South Korea\", \"Japan\", \n",
    "             \"Brazil\",\"Iran\"]\n",
    "data_countries = []\n",
    "data_countries_pc = []\n",
    "\n",
    "for i in countries:\n",
    "    data_pc.loc[data_pc.location == i,\"total_infected\"] = data_pc.loc[data_pc.location == i,\"total_infected\"]\n",
    "\n",
    "# Get each country time series\n",
    "filter1 = data_pc[\"total_infected\"] > 1\n",
    "for i in countries:\n",
    "    filter_country = data_pc[\"location\"]== i\n",
    "    data_countries_pc.append(data_pc[filter_country & filter1])      "
   ]
  },
  {
   "cell_type": "markdown",
   "metadata": {
    "papermill": {
     "duration": 0.010646,
     "end_time": "2020-03-24T06:30:05.469436",
     "exception": false,
     "start_time": "2020-03-24T06:30:05.458790",
     "status": "completed"
    },
    "tags": []
   },
   "source": [
    "## Estimated Infected Population By Country\n",
    "\n",
    "by days since outbreak\n",
    "\n",
    "> Tip: Click (Shift+ for multiple) on countries in the legend to filter the visualization. "
   ]
  },
  {
   "cell_type": "code",
   "execution_count": 4,
   "metadata": {
    "papermill": {
     "duration": 1.802217,
     "end_time": "2020-03-24T06:30:07.282511",
     "exception": false,
     "start_time": "2020-03-24T06:30:05.480294",
     "status": "completed"
    },
    "tags": []
   },
   "outputs": [
    {
     "data": {
      "text/html": [
       "\n",
       "<div id=\"altair-viz-cd076fa8999a40a0b003ef6f52c7c3d7\"></div>\n",
       "<script type=\"text/javascript\">\n",
       "  (function(spec, embedOpt){\n",
       "    const outputDiv = document.getElementById(\"altair-viz-cd076fa8999a40a0b003ef6f52c7c3d7\");\n",
       "    const paths = {\n",
       "      \"vega\": \"https://cdn.jsdelivr.net/npm//vega@5?noext\",\n",
       "      \"vega-lib\": \"https://cdn.jsdelivr.net/npm//vega-lib?noext\",\n",
       "      \"vega-lite\": \"https://cdn.jsdelivr.net/npm//vega-lite@4.0.2?noext\",\n",
       "      \"vega-embed\": \"https://cdn.jsdelivr.net/npm//vega-embed@6?noext\",\n",
       "    };\n",
       "\n",
       "    function loadScript(lib) {\n",
       "      return new Promise(function(resolve, reject) {\n",
       "        var s = document.createElement('script');\n",
       "        s.src = paths[lib];\n",
       "        s.async = true;\n",
       "        s.onload = () => resolve(paths[lib]);\n",
       "        s.onerror = () => reject(`Error loading script: ${paths[lib]}`);\n",
       "        document.getElementsByTagName(\"head\")[0].appendChild(s);\n",
       "      });\n",
       "    }\n",
       "\n",
       "    function showError(err) {\n",
       "      outputDiv.innerHTML = `<div class=\"error\" style=\"color:red;\">${err}</div>`;\n",
       "      throw err;\n",
       "    }\n",
       "\n",
       "    function displayChart(vegaEmbed) {\n",
       "      vegaEmbed(outputDiv, spec, embedOpt)\n",
       "        .catch(err => showError(`Javascript Error: ${err.message}<br>This usually means there's a typo in your chart specification. See the javascript console for the full traceback.`));\n",
       "    }\n",
       "\n",
       "    if(typeof define === \"function\" && define.amd) {\n",
       "      requirejs.config({paths});\n",
       "      require([\"vega-embed\"], displayChart, err => showError(`Error loading script: ${err.message}`));\n",
       "    } else if (typeof vegaEmbed === \"function\") {\n",
       "      displayChart(vegaEmbed);\n",
       "    } else {\n",
       "      loadScript(\"vega\")\n",
       "        .then(() => loadScript(\"vega-lite\"))\n",
       "        .then(() => loadScript(\"vega-embed\"))\n",
       "        .catch(showError)\n",
       "        .then(() => displayChart(vegaEmbed));\n",
       "    }\n",
       "  })({\"config\": {\"view\": {\"continuousWidth\": 400, \"continuousHeight\": 300}, \"axis\": {\"labelFontSize\": 15, \"titleFontSize\": 18}, \"title\": {\"fontSize\": 20}}, \"data\": {\"name\": \"data-87b0310e0e9e2205b6c8850ab85b5812\"}, \"mark\": \"line\", \"encoding\": {\"color\": {\"type\": \"nominal\", \"field\": \"location\", \"legend\": {\"labelFontSize\": 15, \"title\": \"Country\", \"titleFontSize\": 17}, \"scale\": {\"scheme\": \"tableau20\"}}, \"opacity\": {\"condition\": {\"value\": 1, \"selection\": \"selector002\"}, \"value\": 0.1}, \"x\": {\"type\": \"quantitative\", \"field\": \"n_days\", \"title\": \"Days since outbreak\"}, \"y\": {\"type\": \"quantitative\", \"field\": \"infected\", \"title\": \"Total\"}}, \"height\": 400, \"selection\": {\"selector001\": {\"type\": \"interval\", \"bind\": \"scales\"}, \"selector002\": {\"type\": \"multi\", \"fields\": [\"location\"], \"bind\": \"legend\"}}, \"title\": \"Estimated Infected Population By Country\", \"width\": 550, \"$schema\": \"https://vega.github.io/schema/vega-lite/v4.0.2.json\", \"datasets\": {\"data-87b0310e0e9e2205b6c8850ab85b5812\": [{\"index\": 2046, \"location\": \"China\", \"date\": \"2020-01-22T00:00:00\", \"total_infected\": 8141.0, \"n_days\": 0, \"infected\": 8141.0}, {\"index\": 2047, \"location\": \"China\", \"date\": \"2020-01-23T00:00:00\", \"total_infected\": 9802.0, \"n_days\": 1, \"infected\": 9802.0}, {\"index\": 2048, \"location\": \"China\", \"date\": \"2020-01-24T00:00:00\", \"total_infected\": 11891.0, \"n_days\": 2, \"infected\": 11891.0}, {\"index\": 2049, \"location\": \"China\", \"date\": \"2020-01-25T00:00:00\", \"total_infected\": 16630.0, \"n_days\": 3, \"infected\": 16630.0}, {\"index\": 2050, \"location\": \"China\", \"date\": \"2020-01-26T00:00:00\", \"total_infected\": 19716.0, \"n_days\": 4, \"infected\": 19716.0}, {\"index\": 2051, \"location\": \"China\", \"date\": \"2020-01-27T00:00:00\", \"total_infected\": 23707.0, \"n_days\": 5, \"infected\": 23707.0}, {\"index\": 2052, \"location\": \"China\", \"date\": \"2020-01-28T00:00:00\", \"total_infected\": 27440.0, \"n_days\": 6, \"infected\": 27440.0}, {\"index\": 2053, \"location\": \"China\", \"date\": \"2020-01-29T00:00:00\", \"total_infected\": 30587.0, \"n_days\": 7, \"infected\": 30587.0}, {\"index\": 2054, \"location\": \"China\", \"date\": \"2020-01-30T00:00:00\", \"total_infected\": 34110.0, \"n_days\": 8, \"infected\": 34110.0}, {\"index\": 2055, \"location\": \"China\", \"date\": \"2020-01-31T00:00:00\", \"total_infected\": 36814.0, \"n_days\": 9, \"infected\": 36814.0}, {\"index\": 2056, \"location\": \"China\", \"date\": \"2020-02-01T00:00:00\", \"total_infected\": 39829.0, \"n_days\": 10, \"infected\": 39829.0}, {\"index\": 2057, \"location\": \"China\", \"date\": \"2020-02-02T00:00:00\", \"total_infected\": 42354.0, \"n_days\": 11, \"infected\": 42354.0}, {\"index\": 2058, \"location\": \"China\", \"date\": \"2020-02-03T00:00:00\", \"total_infected\": 44386.0, \"n_days\": 12, \"infected\": 44386.0}, {\"index\": 2059, \"location\": \"China\", \"date\": \"2020-02-04T00:00:00\", \"total_infected\": 44759.0, \"n_days\": 13, \"infected\": 44759.0}, {\"index\": 2060, \"location\": \"China\", \"date\": \"2020-02-05T00:00:00\", \"total_infected\": 59895.0, \"n_days\": 14, \"infected\": 59895.0}, {\"index\": 2061, \"location\": \"China\", \"date\": \"2020-02-06T00:00:00\", \"total_infected\": 66358.0, \"n_days\": 15, \"infected\": 66358.0}, {\"index\": 2062, \"location\": \"China\", \"date\": \"2020-02-07T00:00:00\", \"total_infected\": 68413.0, \"n_days\": 16, \"infected\": 68413.0}, {\"index\": 2063, \"location\": \"China\", \"date\": \"2020-02-08T00:00:00\", \"total_infected\": 70513.0, \"n_days\": 17, \"infected\": 70513.0}, {\"index\": 2064, \"location\": \"China\", \"date\": \"2020-02-09T00:00:00\", \"total_infected\": 72434.0, \"n_days\": 18, \"infected\": 72434.0}, {\"index\": 2065, \"location\": \"China\", \"date\": \"2020-02-10T00:00:00\", \"total_infected\": 74211.0, \"n_days\": 19, \"infected\": 74211.0}, {\"index\": 2066, \"location\": \"China\", \"date\": \"2020-02-11T00:00:00\", \"total_infected\": 74619.0, \"n_days\": 20, \"infected\": 74619.0}, {\"index\": 2067, \"location\": \"China\", \"date\": \"2020-02-12T00:00:00\", \"total_infected\": 75077.0, \"n_days\": 21, \"infected\": 75077.0}, {\"index\": 2068, \"location\": \"China\", \"date\": \"2020-02-13T00:00:00\", \"total_infected\": 75550.0, \"n_days\": 22, \"infected\": 75550.0}, {\"index\": 2069, \"location\": \"China\", \"date\": \"2020-02-14T00:00:00\", \"total_infected\": 77001.0, \"n_days\": 23, \"infected\": 77001.0}, {\"index\": 2070, \"location\": \"China\", \"date\": \"2020-02-15T00:00:00\", \"total_infected\": 77022.0, \"n_days\": 24, \"infected\": 77022.0}, {\"index\": 2071, \"location\": \"China\", \"date\": \"2020-02-16T00:00:00\", \"total_infected\": 77241.0, \"n_days\": 25, \"infected\": 77241.0}, {\"index\": 2072, \"location\": \"China\", \"date\": \"2020-02-17T00:00:00\", \"total_infected\": 77754.0, \"n_days\": 26, \"infected\": 77754.0}, {\"index\": 2073, \"location\": \"China\", \"date\": \"2020-02-18T00:00:00\", \"total_infected\": 78166.0, \"n_days\": 27, \"infected\": 78166.0}, {\"index\": 2074, \"location\": \"China\", \"date\": \"2020-02-19T00:00:00\", \"total_infected\": 78600.0, \"n_days\": 28, \"infected\": 78600.0}, {\"index\": 2075, \"location\": \"China\", \"date\": \"2020-02-20T00:00:00\", \"total_infected\": 78928.0, \"n_days\": 29, \"infected\": 78928.0}, {\"index\": 2076, \"location\": \"China\", \"date\": \"2020-02-21T00:00:00\", \"total_infected\": 79356.0, \"n_days\": 30, \"infected\": 79356.0}, {\"index\": 2077, \"location\": \"China\", \"date\": \"2020-02-22T00:00:00\", \"total_infected\": 79932.0, \"n_days\": 31, \"infected\": 79932.0}, {\"index\": 2078, \"location\": \"China\", \"date\": \"2020-02-23T00:00:00\", \"total_infected\": 80136.0, \"n_days\": 32, \"infected\": 80136.0}, {\"index\": 2079, \"location\": \"China\", \"date\": \"2020-02-24T00:00:00\", \"total_infected\": 80261.0, \"n_days\": 33, \"infected\": 80261.0}, {\"index\": 2080, \"location\": \"China\", \"date\": \"2020-02-25T00:00:00\", \"total_infected\": 80386.0, \"n_days\": 34, \"infected\": 80386.0}, {\"index\": 2081, \"location\": \"China\", \"date\": \"2020-02-26T00:00:00\", \"total_infected\": 80537.0, \"n_days\": 35, \"infected\": 80537.0}, {\"index\": 2082, \"location\": \"China\", \"date\": \"2020-02-27T00:00:00\", \"total_infected\": 80690.0, \"n_days\": 36, \"infected\": 80690.0}, {\"index\": 2083, \"location\": \"China\", \"date\": \"2020-02-28T00:00:00\", \"total_infected\": 80770.0, \"n_days\": 37, \"infected\": 80770.0}, {\"index\": 2084, \"location\": \"China\", \"date\": \"2020-02-29T00:00:00\", \"total_infected\": 80823.0, \"n_days\": 38, \"infected\": 80823.0}, {\"index\": 2085, \"location\": \"China\", \"date\": \"2020-03-01T00:00:00\", \"total_infected\": 80860.0, \"n_days\": 39, \"infected\": 80860.0}, {\"index\": 2086, \"location\": \"China\", \"date\": \"2020-03-02T00:00:00\", \"total_infected\": 80887.0, \"n_days\": 40, \"infected\": 80887.0}, {\"index\": 2087, \"location\": \"China\", \"date\": \"2020-03-03T00:00:00\", \"total_infected\": 80921.0, \"n_days\": 41, \"infected\": 80921.0}, {\"index\": 2088, \"location\": \"China\", \"date\": \"2020-03-04T00:00:00\", \"total_infected\": 80932.0, \"n_days\": 42, \"infected\": 80932.0}, {\"index\": 2089, \"location\": \"China\", \"date\": \"2020-03-05T00:00:00\", \"total_infected\": 80945.0, \"n_days\": 43, \"infected\": 80945.0}, {\"index\": 2090, \"location\": \"China\", \"date\": \"2020-03-06T00:00:00\", \"total_infected\": 80977.0, \"n_days\": 44, \"infected\": 80977.0}, {\"index\": 2091, \"location\": \"China\", \"date\": \"2020-03-07T00:00:00\", \"total_infected\": 81003.0, \"n_days\": 45, \"infected\": 81003.0}, {\"index\": 2092, \"location\": \"China\", \"date\": \"2020-03-08T00:00:00\", \"total_infected\": 81033.0, \"n_days\": 46, \"infected\": 81033.0}, {\"index\": 2093, \"location\": \"China\", \"date\": \"2020-03-09T00:00:00\", \"total_infected\": 81058.0, \"n_days\": 47, \"infected\": 81058.0}, {\"index\": 2094, \"location\": \"China\", \"date\": \"2020-03-10T00:00:00\", \"total_infected\": 81102.0, \"n_days\": 48, \"infected\": 81102.0}, {\"index\": 2095, \"location\": \"China\", \"date\": \"2020-03-11T00:00:00\", \"total_infected\": 81156.0, \"n_days\": 49, \"infected\": 81156.0}, {\"index\": 2096, \"location\": \"China\", \"date\": \"2020-03-12T00:00:00\", \"total_infected\": 81250.0, \"n_days\": 50, \"infected\": 81250.0}, {\"index\": 2097, \"location\": \"China\", \"date\": \"2020-03-13T00:00:00\", \"total_infected\": 81305.0, \"n_days\": 51, \"infected\": 81305.0}, {\"index\": 2098, \"location\": \"China\", \"date\": \"2020-03-14T00:00:00\", \"total_infected\": 81397.0, \"n_days\": 52, \"infected\": 81397.0}, {\"index\": 2099, \"location\": \"China\", \"date\": \"2020-03-15T00:00:00\", \"total_infected\": 81439.0, \"n_days\": 53, \"infected\": 81439.0}, {\"index\": 2100, \"location\": \"China\", \"date\": \"2020-03-16T00:00:00\", \"total_infected\": 84977.66476514985, \"n_days\": 54, \"infected\": 84977.66476514985}, {\"index\": 2101, \"location\": \"China\", \"date\": \"2020-03-17T00:00:00\", \"total_infected\": 88670.09060693513, \"n_days\": 55, \"infected\": 88670.09060693513}, {\"index\": 2102, \"location\": \"China\", \"date\": \"2020-03-18T00:00:00\", \"total_infected\": 92522.95870886916, \"n_days\": 56, \"infected\": 92522.95870886916}, {\"index\": 2103, \"location\": \"China\", \"date\": \"2020-03-19T00:00:00\", \"total_infected\": 96543.24056339204, \"n_days\": 57, \"infected\": 96543.24056339204}, {\"index\": 2104, \"location\": \"China\", \"date\": \"2020-03-20T00:00:00\", \"total_infected\": 100738.21058629337, \"n_days\": 58, \"infected\": 100738.21058629337}, {\"index\": 2105, \"location\": \"China\", \"date\": \"2020-03-21T00:00:00\", \"total_infected\": 105115.45927925326, \"n_days\": 59, \"infected\": 105115.45927925326}, {\"index\": 2106, \"location\": \"China\", \"date\": \"2020-03-22T00:00:00\", \"total_infected\": 109682.90696431861, \"n_days\": 60, \"infected\": 109682.90696431861}, {\"index\": 2107, \"location\": \"China\", \"date\": \"2020-03-23T00:00:00\", \"total_infected\": 114448.81811516578, \"n_days\": 61, \"infected\": 114448.81811516578}, {\"index\": 5354, \"location\": \"Italy\", \"date\": \"2020-02-13T00:00:00\", \"total_infected\": 20.0, \"n_days\": 0, \"infected\": 20.0}, {\"index\": 5355, \"location\": \"Italy\", \"date\": \"2020-02-14T00:00:00\", \"total_infected\": 62.0, \"n_days\": 1, \"infected\": 62.0}, {\"index\": 5356, \"location\": \"Italy\", \"date\": \"2020-02-15T00:00:00\", \"total_infected\": 155.0, \"n_days\": 2, \"infected\": 155.0}, {\"index\": 5357, \"location\": \"Italy\", \"date\": \"2020-02-16T00:00:00\", \"total_infected\": 229.0, \"n_days\": 3, \"infected\": 229.0}, {\"index\": 5358, \"location\": \"Italy\", \"date\": \"2020-02-17T00:00:00\", \"total_infected\": 322.0, \"n_days\": 4, \"infected\": 322.0}, {\"index\": 5359, \"location\": \"Italy\", \"date\": \"2020-02-18T00:00:00\", \"total_infected\": 453.0, \"n_days\": 5, \"infected\": 453.0}, {\"index\": 5360, \"location\": \"Italy\", \"date\": \"2020-02-19T00:00:00\", \"total_infected\": 655.0, \"n_days\": 6, \"infected\": 655.0}, {\"index\": 5361, \"location\": \"Italy\", \"date\": \"2020-02-20T00:00:00\", \"total_infected\": 888.0, \"n_days\": 7, \"infected\": 888.0}, {\"index\": 5362, \"location\": \"Italy\", \"date\": \"2020-02-21T00:00:00\", \"total_infected\": 1128.0, \"n_days\": 8, \"infected\": 1128.0}, {\"index\": 5363, \"location\": \"Italy\", \"date\": \"2020-02-22T00:00:00\", \"total_infected\": 1694.0, \"n_days\": 9, \"infected\": 1694.0}, {\"index\": 5364, \"location\": \"Italy\", \"date\": \"2020-02-23T00:00:00\", \"total_infected\": 2036.0, \"n_days\": 10, \"infected\": 2036.0}, {\"index\": 5365, \"location\": \"Italy\", \"date\": \"2020-02-24T00:00:00\", \"total_infected\": 2502.0, \"n_days\": 11, \"infected\": 2502.0}, {\"index\": 5366, \"location\": \"Italy\", \"date\": \"2020-02-25T00:00:00\", \"total_infected\": 3089.0, \"n_days\": 12, \"infected\": 3089.0}, {\"index\": 5367, \"location\": \"Italy\", \"date\": \"2020-02-26T00:00:00\", \"total_infected\": 3858.0, \"n_days\": 13, \"infected\": 3858.0}, {\"index\": 5368, \"location\": \"Italy\", \"date\": \"2020-02-27T00:00:00\", \"total_infected\": 4636.0, \"n_days\": 14, \"infected\": 4636.0}, {\"index\": 5369, \"location\": \"Italy\", \"date\": \"2020-02-28T00:00:00\", \"total_infected\": 5883.0, \"n_days\": 15, \"infected\": 5883.0}, {\"index\": 5370, \"location\": \"Italy\", \"date\": \"2020-02-29T00:00:00\", \"total_infected\": 7375.0, \"n_days\": 16, \"infected\": 7375.0}, {\"index\": 5371, \"location\": \"Italy\", \"date\": \"2020-03-01T00:00:00\", \"total_infected\": 9172.0, \"n_days\": 17, \"infected\": 9172.0}, {\"index\": 5372, \"location\": \"Italy\", \"date\": \"2020-03-02T00:00:00\", \"total_infected\": 10149.0, \"n_days\": 18, \"infected\": 10149.0}, {\"index\": 5373, \"location\": \"Italy\", \"date\": \"2020-03-03T00:00:00\", \"total_infected\": 12461.999999999998, \"n_days\": 19, \"infected\": 12461.999999999998}, {\"index\": 5374, \"location\": \"Italy\", \"date\": \"2020-03-04T00:00:00\", \"total_infected\": 12461.999999999998, \"n_days\": 20, \"infected\": 12461.999999999998}, {\"index\": 5375, \"location\": \"Italy\", \"date\": \"2020-03-05T00:00:00\", \"total_infected\": 17660.0, \"n_days\": 21, \"infected\": 17660.0}, {\"index\": 5376, \"location\": \"Italy\", \"date\": \"2020-03-06T00:00:00\", \"total_infected\": 21157.0, \"n_days\": 22, \"infected\": 21157.0}, {\"index\": 5377, \"location\": \"Italy\", \"date\": \"2020-03-07T00:00:00\", \"total_infected\": 24747.0, \"n_days\": 23, \"infected\": 24747.0}, {\"index\": 5378, \"location\": \"Italy\", \"date\": \"2020-03-08T00:00:00\", \"total_infected\": 27980.0, \"n_days\": 24, \"infected\": 27980.0}, {\"index\": 5379, \"location\": \"Italy\", \"date\": \"2020-03-09T00:00:00\", \"total_infected\": 31505.999999999996, \"n_days\": 25, \"infected\": 31505.999999999996}, {\"index\": 5380, \"location\": \"Italy\", \"date\": \"2020-03-10T00:00:00\", \"total_infected\": 35713.0, \"n_days\": 26, \"infected\": 35713.0}, {\"index\": 5381, \"location\": \"Italy\", \"date\": \"2020-03-11T00:00:00\", \"total_infected\": 41035.0, \"n_days\": 27, \"infected\": 41035.0}, {\"index\": 5382, \"location\": \"Italy\", \"date\": \"2020-03-12T00:00:00\", \"total_infected\": 47021.0, \"n_days\": 28, \"infected\": 47021.0}, {\"index\": 5383, \"location\": \"Italy\", \"date\": \"2020-03-13T00:00:00\", \"total_infected\": 53578.0, \"n_days\": 29, \"infected\": 53578.0}, {\"index\": 5384, \"location\": \"Italy\", \"date\": \"2020-03-14T00:00:00\", \"total_infected\": 59138.0, \"n_days\": 30, \"infected\": 59138.0}, {\"index\": 5385, \"location\": \"Italy\", \"date\": \"2020-03-15T00:00:00\", \"total_infected\": 59138.0, \"n_days\": 31, \"infected\": 59138.0}, {\"index\": 5386, \"location\": \"Italy\", \"date\": \"2020-03-16T00:00:00\", \"total_infected\": 74383.96087473724, \"n_days\": 32, \"infected\": 74383.96087473724}, {\"index\": 5387, \"location\": \"Italy\", \"date\": \"2020-03-17T00:00:00\", \"total_infected\": 93560.37802114445, \"n_days\": 33, \"infected\": 93560.37802114445}, {\"index\": 5388, \"location\": \"Italy\", \"date\": \"2020-03-18T00:00:00\", \"total_infected\": 117680.53532670085, \"n_days\": 34, \"infected\": 117680.53532670085}, {\"index\": 5389, \"location\": \"Italy\", \"date\": \"2020-03-19T00:00:00\", \"total_infected\": 148018.94442590972, \"n_days\": 35, \"infected\": 148018.94442590972}, {\"index\": 5390, \"location\": \"Italy\", \"date\": \"2020-03-20T00:00:00\", \"total_infected\": 186178.6900283536, \"n_days\": 36, \"infected\": 186178.6900283536}, {\"index\": 5391, \"location\": \"Italy\", \"date\": \"2020-03-21T00:00:00\", \"total_infected\": 234176.13708239855, \"n_days\": 37, \"infected\": 234176.13708239855}, {\"index\": 5392, \"location\": \"Italy\", \"date\": \"2020-03-22T00:00:00\", \"total_infected\": 294547.4757099367, \"n_days\": 38, \"infected\": 294547.4757099367}, {\"index\": 5393, \"location\": \"Italy\", \"date\": \"2020-03-23T00:00:00\", \"total_infected\": 370482.73375766084, \"n_days\": 39, \"infected\": 370482.73375766084}, {\"index\": 9643, \"location\": \"Spain\", \"date\": \"2020-02-24T00:00:00\", \"total_infected\": 165.0, \"n_days\": 0, \"infected\": 165.0}, {\"index\": 9644, \"location\": \"Spain\", \"date\": \"2020-02-25T00:00:00\", \"total_infected\": 222.0, \"n_days\": 1, \"infected\": 222.0}, {\"index\": 9645, \"location\": \"Spain\", \"date\": \"2020-02-26T00:00:00\", \"total_infected\": 259.0, \"n_days\": 2, \"infected\": 259.0}, {\"index\": 9646, \"location\": \"Spain\", \"date\": \"2020-02-27T00:00:00\", \"total_infected\": 400.0, \"n_days\": 3, \"infected\": 400.0}, {\"index\": 9647, \"location\": \"Spain\", \"date\": \"2020-02-28T00:00:00\", \"total_infected\": 500.0, \"n_days\": 4, \"infected\": 500.0}, {\"index\": 9648, \"location\": \"Spain\", \"date\": \"2020-02-29T00:00:00\", \"total_infected\": 673.0, \"n_days\": 5, \"infected\": 673.0}, {\"index\": 9649, \"location\": \"Spain\", \"date\": \"2020-03-01T00:00:00\", \"total_infected\": 1073.0, \"n_days\": 6, \"infected\": 1073.0}, {\"index\": 9650, \"location\": \"Spain\", \"date\": \"2020-03-02T00:00:00\", \"total_infected\": 1695.0, \"n_days\": 7, \"infected\": 1695.0}, {\"index\": 9651, \"location\": \"Spain\", \"date\": \"2020-03-03T00:00:00\", \"total_infected\": 2277.0, \"n_days\": 8, \"infected\": 2277.0}, {\"index\": 9652, \"location\": \"Spain\", \"date\": \"2020-03-04T00:00:00\", \"total_infected\": 2277.0, \"n_days\": 9, \"infected\": 2277.0}, {\"index\": 9653, \"location\": \"Spain\", \"date\": \"2020-03-05T00:00:00\", \"total_infected\": 5232.0, \"n_days\": 10, \"infected\": 5232.0}, {\"index\": 9654, \"location\": \"Spain\", \"date\": \"2020-03-06T00:00:00\", \"total_infected\": 6391.0, \"n_days\": 11, \"infected\": 6391.0}, {\"index\": 9655, \"location\": \"Spain\", \"date\": \"2020-03-07T00:00:00\", \"total_infected\": 7798.0, \"n_days\": 12, \"infected\": 7798.0}, {\"index\": 9656, \"location\": \"Spain\", \"date\": \"2020-03-08T00:00:00\", \"total_infected\": 9942.0, \"n_days\": 13, \"infected\": 9942.0}, {\"index\": 9657, \"location\": \"Spain\", \"date\": \"2020-03-09T00:00:00\", \"total_infected\": 11748.0, \"n_days\": 14, \"infected\": 11748.0}, {\"index\": 9658, \"location\": \"Spain\", \"date\": \"2020-03-10T00:00:00\", \"total_infected\": 13909.999999999998, \"n_days\": 15, \"infected\": 13909.999999999998}, {\"index\": 9659, \"location\": \"Spain\", \"date\": \"2020-03-11T00:00:00\", \"total_infected\": 17963.0, \"n_days\": 16, \"infected\": 17963.0}, {\"index\": 9660, \"location\": \"Spain\", \"date\": \"2020-03-12T00:00:00\", \"total_infected\": 20410.0, \"n_days\": 17, \"infected\": 20410.0}, {\"index\": 9661, \"location\": \"Spain\", \"date\": \"2020-03-13T00:00:00\", \"total_infected\": 25374.0, \"n_days\": 18, \"infected\": 25374.0}, {\"index\": 9662, \"location\": \"Spain\", \"date\": \"2020-03-14T00:00:00\", \"total_infected\": 28768.0, \"n_days\": 19, \"infected\": 28768.0}, {\"index\": 9663, \"location\": \"Spain\", \"date\": \"2020-03-15T00:00:00\", \"total_infected\": 28768.0, \"n_days\": 20, \"infected\": 28768.0}, {\"index\": 9664, \"location\": \"Spain\", \"date\": \"2020-03-16T00:00:00\", \"total_infected\": 36191.68806971251, \"n_days\": 21, \"infected\": 36191.68806971251}, {\"index\": 9665, \"location\": \"Spain\", \"date\": \"2020-03-17T00:00:00\", \"total_infected\": 45531.08611427179, \"n_days\": 22, \"infected\": 45531.08611427179}, {\"index\": 9666, \"location\": \"Spain\", \"date\": \"2020-03-18T00:00:00\", \"total_infected\": 57280.55012941266, \"n_days\": 23, \"infected\": 57280.55012941266}, {\"index\": 9667, \"location\": \"Spain\", \"date\": \"2020-03-19T00:00:00\", \"total_infected\": 72062.00649142219, \"n_days\": 24, \"infected\": 72062.00649142219}, {\"index\": 9668, \"location\": \"Spain\", \"date\": \"2020-03-20T00:00:00\", \"total_infected\": 90657.87196242873, \"n_days\": 25, \"infected\": 90657.87196242873}, {\"index\": 9669, \"location\": \"Spain\", \"date\": \"2020-03-21T00:00:00\", \"total_infected\": 114052.46882397651, \"n_days\": 26, \"infected\": 114052.46882397651}, {\"index\": 9670, \"location\": \"Spain\", \"date\": \"2020-03-22T00:00:00\", \"total_infected\": 143484.12733794385, \"n_days\": 27, \"infected\": 143484.12733794385}, {\"index\": 9671, \"location\": \"Spain\", \"date\": \"2020-03-23T00:00:00\", \"total_infected\": 180510.73343888254, \"n_days\": 28, \"infected\": 180510.73343888254}, {\"index\": 3674, \"location\": \"France\", \"date\": \"2020-02-07T00:00:00\", \"total_infected\": 12.0, \"n_days\": 0, \"infected\": 12.0}, {\"index\": 3675, \"location\": \"France\", \"date\": \"2020-02-08T00:00:00\", \"total_infected\": 12.0, \"n_days\": 1, \"infected\": 12.0}, {\"index\": 3676, \"location\": \"France\", \"date\": \"2020-02-09T00:00:00\", \"total_infected\": 12.0, \"n_days\": 2, \"infected\": 12.0}, {\"index\": 3677, \"location\": \"France\", \"date\": \"2020-02-10T00:00:00\", \"total_infected\": 12.0, \"n_days\": 3, \"infected\": 12.0}, {\"index\": 3678, \"location\": \"France\", \"date\": \"2020-02-11T00:00:00\", \"total_infected\": 12.0, \"n_days\": 4, \"infected\": 12.0}, {\"index\": 3679, \"location\": \"France\", \"date\": \"2020-02-12T00:00:00\", \"total_infected\": 12.0, \"n_days\": 5, \"infected\": 12.0}, {\"index\": 3680, \"location\": \"France\", \"date\": \"2020-02-13T00:00:00\", \"total_infected\": 12.0, \"n_days\": 6, \"infected\": 12.0}, {\"index\": 3681, \"location\": \"France\", \"date\": \"2020-02-14T00:00:00\", \"total_infected\": 12.0, \"n_days\": 7, \"infected\": 12.0}, {\"index\": 3682, \"location\": \"France\", \"date\": \"2020-02-15T00:00:00\", \"total_infected\": 12.0, \"n_days\": 8, \"infected\": 12.0}, {\"index\": 3683, \"location\": \"France\", \"date\": \"2020-02-16T00:00:00\", \"total_infected\": 12.0, \"n_days\": 9, \"infected\": 12.0}, {\"index\": 3684, \"location\": \"France\", \"date\": \"2020-02-17T00:00:00\", \"total_infected\": 14.0, \"n_days\": 10, \"infected\": 14.0}, {\"index\": 3685, \"location\": \"France\", \"date\": \"2020-02-18T00:00:00\", \"total_infected\": 18.0, \"n_days\": 11, \"infected\": 18.0}, {\"index\": 3686, \"location\": \"France\", \"date\": \"2020-02-19T00:00:00\", \"total_infected\": 38.0, \"n_days\": 12, \"infected\": 38.0}, {\"index\": 3687, \"location\": \"France\", \"date\": \"2020-02-20T00:00:00\", \"total_infected\": 57.0, \"n_days\": 13, \"infected\": 57.0}, {\"index\": 3688, \"location\": \"France\", \"date\": \"2020-02-21T00:00:00\", \"total_infected\": 100.0, \"n_days\": 14, \"infected\": 100.0}, {\"index\": 3689, \"location\": \"France\", \"date\": \"2020-02-22T00:00:00\", \"total_infected\": 130.0, \"n_days\": 15, \"infected\": 130.0}, {\"index\": 3690, \"location\": \"France\", \"date\": \"2020-02-23T00:00:00\", \"total_infected\": 191.0, \"n_days\": 16, \"infected\": 191.0}, {\"index\": 3691, \"location\": \"France\", \"date\": \"2020-02-24T00:00:00\", \"total_infected\": 204.0, \"n_days\": 17, \"infected\": 204.0}, {\"index\": 3692, \"location\": \"France\", \"date\": \"2020-02-25T00:00:00\", \"total_infected\": 288.0, \"n_days\": 18, \"infected\": 288.0}, {\"index\": 3693, \"location\": \"France\", \"date\": \"2020-02-26T00:00:00\", \"total_infected\": 380.0, \"n_days\": 19, \"infected\": 380.0}, {\"index\": 3694, \"location\": \"France\", \"date\": \"2020-02-27T00:00:00\", \"total_infected\": 656.0, \"n_days\": 20, \"infected\": 656.0}, {\"index\": 3695, \"location\": \"France\", \"date\": \"2020-02-28T00:00:00\", \"total_infected\": 957.0, \"n_days\": 21, \"infected\": 957.0}, {\"index\": 3696, \"location\": \"France\", \"date\": \"2020-02-29T00:00:00\", \"total_infected\": 1134.0, \"n_days\": 22, \"infected\": 1134.0}, {\"index\": 3697, \"location\": \"France\", \"date\": \"2020-03-01T00:00:00\", \"total_infected\": 1217.0, \"n_days\": 23, \"infected\": 1217.0}, {\"index\": 3698, \"location\": \"France\", \"date\": \"2020-03-02T00:00:00\", \"total_infected\": 1792.0, \"n_days\": 24, \"infected\": 1792.0}, {\"index\": 3699, \"location\": \"France\", \"date\": \"2020-03-03T00:00:00\", \"total_infected\": 2290.0, \"n_days\": 25, \"infected\": 2290.0}, {\"index\": 3700, \"location\": \"France\", \"date\": \"2020-03-04T00:00:00\", \"total_infected\": 2290.0, \"n_days\": 26, \"infected\": 2290.0}, {\"index\": 3701, \"location\": \"France\", \"date\": \"2020-03-05T00:00:00\", \"total_infected\": 3678.0, \"n_days\": 27, \"infected\": 3678.0}, {\"index\": 3702, \"location\": \"France\", \"date\": \"2020-03-06T00:00:00\", \"total_infected\": 4487.0, \"n_days\": 28, \"infected\": 4487.0}, {\"index\": 3703, \"location\": \"France\", \"date\": \"2020-03-07T00:00:00\", \"total_infected\": 4523.0, \"n_days\": 29, \"infected\": 4523.0}, {\"index\": 3704, \"location\": \"France\", \"date\": \"2020-03-08T00:00:00\", \"total_infected\": 6668.0, \"n_days\": 30, \"infected\": 6668.0}, {\"index\": 3705, \"location\": \"France\", \"date\": \"2020-03-09T00:00:00\", \"total_infected\": 7699.0, \"n_days\": 31, \"infected\": 7699.0}, {\"index\": 3706, \"location\": \"France\", \"date\": \"2020-03-10T00:00:00\", \"total_infected\": 9105.0, \"n_days\": 32, \"infected\": 9105.0}, {\"index\": 3707, \"location\": \"France\", \"date\": \"2020-03-11T00:00:00\", \"total_infected\": 10947.0, \"n_days\": 33, \"infected\": 10947.0}, {\"index\": 3708, \"location\": \"France\", \"date\": \"2020-03-12T00:00:00\", \"total_infected\": 12726.0, \"n_days\": 34, \"infected\": 12726.0}, {\"index\": 3709, \"location\": \"France\", \"date\": \"2020-03-13T00:00:00\", \"total_infected\": 14431.000000000002, \"n_days\": 35, \"infected\": 14431.000000000002}, {\"index\": 3710, \"location\": \"France\", \"date\": \"2020-03-14T00:00:00\", \"total_infected\": 16176.0, \"n_days\": 36, \"infected\": 16176.0}, {\"index\": 3711, \"location\": \"France\", \"date\": \"2020-03-15T00:00:00\", \"total_infected\": 16043.999999999998, \"n_days\": 37, \"infected\": 16043.999999999998}, {\"index\": 3712, \"location\": \"France\", \"date\": \"2020-03-16T00:00:00\", \"total_infected\": 19165.288035433066, \"n_days\": 38, \"infected\": 19165.288035433066}, {\"index\": 3713, \"location\": \"France\", \"date\": \"2020-03-17T00:00:00\", \"total_infected\": 22893.808618867733, \"n_days\": 39, \"infected\": 22893.808618867733}, {\"index\": 3714, \"location\": \"France\", \"date\": \"2020-03-18T00:00:00\", \"total_infected\": 27347.696111236615, \"n_days\": 40, \"infected\": 27347.696111236615}, {\"index\": 3715, \"location\": \"France\", \"date\": \"2020-03-19T00:00:00\", \"total_infected\": 32668.067382033318, \"n_days\": 41, \"infected\": 32668.067382033318}, {\"index\": 3716, \"location\": \"France\", \"date\": \"2020-03-20T00:00:00\", \"total_infected\": 39023.492952979585, \"n_days\": 42, \"infected\": 39023.492952979585}, {\"index\": 3717, \"location\": \"France\", \"date\": \"2020-03-21T00:00:00\", \"total_infected\": 46615.337982582045, \"n_days\": 43, \"infected\": 46615.337982582045}, {\"index\": 3718, \"location\": \"France\", \"date\": \"2020-03-22T00:00:00\", \"total_infected\": 55684.14231521119, \"n_days\": 44, \"infected\": 55684.14231521119}, {\"index\": 3719, \"location\": \"France\", \"date\": \"2020-03-23T00:00:00\", \"total_infected\": 66517.24174003174, \"n_days\": 45, \"infected\": 66517.24174003174}, {\"index\": 10885, \"location\": \"United Kingdom\", \"date\": \"2020-02-26T00:00:00\", \"total_infected\": 116.0, \"n_days\": 0, \"infected\": 116.0}, {\"index\": 10886, \"location\": \"United Kingdom\", \"date\": \"2020-02-27T00:00:00\", \"total_infected\": 164.0, \"n_days\": 1, \"infected\": 164.0}, {\"index\": 10887, \"location\": \"United Kingdom\", \"date\": \"2020-02-28T00:00:00\", \"total_infected\": 207.0, \"n_days\": 2, \"infected\": 207.0}, {\"index\": 10888, \"location\": \"United Kingdom\", \"date\": \"2020-02-29T00:00:00\", \"total_infected\": 274.0, \"n_days\": 3, \"infected\": 274.0}, {\"index\": 10889, \"location\": \"United Kingdom\", \"date\": \"2020-03-01T00:00:00\", \"total_infected\": 322.0, \"n_days\": 4, \"infected\": 322.0}, {\"index\": 10890, \"location\": \"United Kingdom\", \"date\": \"2020-03-02T00:00:00\", \"total_infected\": 384.0, \"n_days\": 5, \"infected\": 384.0}, {\"index\": 10891, \"location\": \"United Kingdom\", \"date\": \"2020-03-03T00:00:00\", \"total_infected\": 458.99999999999994, \"n_days\": 6, \"infected\": 458.99999999999994}, {\"index\": 10892, \"location\": \"United Kingdom\", \"date\": \"2020-03-04T00:00:00\", \"total_infected\": 458.99999999999994, \"n_days\": 7, \"infected\": 458.99999999999994}, {\"index\": 10893, \"location\": \"United Kingdom\", \"date\": \"2020-03-05T00:00:00\", \"total_infected\": 802.0, \"n_days\": 8, \"infected\": 802.0}, {\"index\": 10894, \"location\": \"United Kingdom\", \"date\": \"2020-03-06T00:00:00\", \"total_infected\": 1144.0, \"n_days\": 9, \"infected\": 1144.0}, {\"index\": 10895, \"location\": \"United Kingdom\", \"date\": \"2020-03-07T00:00:00\", \"total_infected\": 1145.0, \"n_days\": 10, \"infected\": 1145.0}, {\"index\": 10896, \"location\": \"United Kingdom\", \"date\": \"2020-03-08T00:00:00\", \"total_infected\": 1551.0, \"n_days\": 11, \"infected\": 1551.0}, {\"index\": 10897, \"location\": \"United Kingdom\", \"date\": \"2020-03-09T00:00:00\", \"total_infected\": 1960.0, \"n_days\": 12, \"infected\": 1960.0}, {\"index\": 10898, \"location\": \"United Kingdom\", \"date\": \"2020-03-10T00:00:00\", \"total_infected\": 2642.0, \"n_days\": 13, \"infected\": 2642.0}, {\"index\": 10899, \"location\": \"United Kingdom\", \"date\": \"2020-03-11T00:00:00\", \"total_infected\": 2716.0, \"n_days\": 14, \"infected\": 2716.0}, {\"index\": 10900, \"location\": \"United Kingdom\", \"date\": \"2020-03-12T00:00:00\", \"total_infected\": 4014.0, \"n_days\": 15, \"infected\": 4014.0}, {\"index\": 10901, \"location\": \"United Kingdom\", \"date\": \"2020-03-13T00:00:00\", \"total_infected\": 5067.0, \"n_days\": 16, \"infected\": 5067.0}, {\"index\": 10902, \"location\": \"United Kingdom\", \"date\": \"2020-03-14T00:00:00\", \"total_infected\": 5741.0, \"n_days\": 17, \"infected\": 5741.0}, {\"index\": 10903, \"location\": \"United Kingdom\", \"date\": \"2020-03-15T00:00:00\", \"total_infected\": 5741.0, \"n_days\": 18, \"infected\": 5741.0}, {\"index\": 10904, \"location\": \"United Kingdom\", \"date\": \"2020-03-16T00:00:00\", \"total_infected\": 6985.456954617265, \"n_days\": 19, \"infected\": 6985.456954617265}, {\"index\": 10905, \"location\": \"United Kingdom\", \"date\": \"2020-03-17T00:00:00\", \"total_infected\": 8499.67059132742, \"n_days\": 20, \"infected\": 8499.67059132742}, {\"index\": 10906, \"location\": \"United Kingdom\", \"date\": \"2020-03-18T00:00:00\", \"total_infected\": 10342.115144425006, \"n_days\": 21, \"infected\": 10342.115144425006}, {\"index\": 10907, \"location\": \"United Kingdom\", \"date\": \"2020-03-19T00:00:00\", \"total_infected\": 12583.940108182582, \"n_days\": 22, \"infected\": 12583.940108182582}, {\"index\": 10908, \"location\": \"United Kingdom\", \"date\": \"2020-03-20T00:00:00\", \"total_infected\": 15311.717809648346, \"n_days\": 23, \"infected\": 15311.717809648346}, {\"index\": 10909, \"location\": \"United Kingdom\", \"date\": \"2020-03-21T00:00:00\", \"total_infected\": 18630.78656341144, \"n_days\": 24, \"infected\": 18630.78656341144}, {\"index\": 10910, \"location\": \"United Kingdom\", \"date\": \"2020-03-22T00:00:00\", \"total_infected\": 22669.318510603087, \"n_days\": 25, \"infected\": 22669.318510603087}, {\"index\": 10911, \"location\": \"United Kingdom\", \"date\": \"2020-03-23T00:00:00\", \"total_infected\": 27583.26922945937, \"n_days\": 26, \"infected\": 27583.26922945937}, {\"index\": 4007, \"location\": \"Germany\", \"date\": \"2020-03-01T00:00:00\", \"total_infected\": 1176.0, \"n_days\": 0, \"infected\": 1176.0}, {\"index\": 4008, \"location\": \"Germany\", \"date\": \"2020-03-02T00:00:00\", \"total_infected\": 1457.0, \"n_days\": 1, \"infected\": 1457.0}, {\"index\": 4009, \"location\": \"Germany\", \"date\": \"2020-03-03T00:00:00\", \"total_infected\": 1908.0, \"n_days\": 2, \"infected\": 1908.0}, {\"index\": 4010, \"location\": \"Germany\", \"date\": \"2020-03-04T00:00:00\", \"total_infected\": 2078.0, \"n_days\": 3, \"infected\": 2078.0}, {\"index\": 4011, \"location\": \"Germany\", \"date\": \"2020-03-05T00:00:00\", \"total_infected\": 3675.0, \"n_days\": 4, \"infected\": 3675.0}, {\"index\": 4012, \"location\": \"Germany\", \"date\": \"2020-03-06T00:00:00\", \"total_infected\": 4585.0, \"n_days\": 5, \"infected\": 4585.0}, {\"index\": 4013, \"location\": \"Germany\", \"date\": \"2020-03-07T00:00:00\", \"total_infected\": 5795.0, \"n_days\": 6, \"infected\": 5795.0}, {\"index\": 4014, \"location\": \"Germany\", \"date\": \"2020-03-08T00:00:00\", \"total_infected\": 7272.0, \"n_days\": 7, \"infected\": 7272.0}, {\"index\": 4015, \"location\": \"Germany\", \"date\": \"2020-03-09T00:00:00\", \"total_infected\": 9257.0, \"n_days\": 8, \"infected\": 9257.0}, {\"index\": 4016, \"location\": \"Germany\", \"date\": \"2020-03-10T00:00:00\", \"total_infected\": 12327.0, \"n_days\": 9, \"infected\": 12327.0}, {\"index\": 4017, \"location\": \"Germany\", \"date\": \"2020-03-11T00:00:00\", \"total_infected\": 15320.0, \"n_days\": 10, \"infected\": 15320.0}, {\"index\": 4018, \"location\": \"Germany\", \"date\": \"2020-03-12T00:00:00\", \"total_infected\": 19848.0, \"n_days\": 11, \"infected\": 19848.0}, {\"index\": 4019, \"location\": \"Germany\", \"date\": \"2020-03-13T00:00:00\", \"total_infected\": 22213.0, \"n_days\": 12, \"infected\": 22213.0}, {\"index\": 4020, \"location\": \"Germany\", \"date\": \"2020-03-14T00:00:00\", \"total_infected\": 24873.0, \"n_days\": 13, \"infected\": 24873.0}, {\"index\": 4021, \"location\": \"Germany\", \"date\": \"2020-03-15T00:00:00\", \"total_infected\": 24873.0, \"n_days\": 14, \"infected\": 24873.0}, {\"index\": 4022, \"location\": \"Germany\", \"date\": \"2020-03-16T00:00:00\", \"total_infected\": 30294.717098324756, \"n_days\": 15, \"infected\": 30294.717098324756}, {\"index\": 4023, \"location\": \"Germany\", \"date\": \"2020-03-17T00:00:00\", \"total_infected\": 36898.23841384354, \"n_days\": 16, \"infected\": 36898.23841384354}, {\"index\": 4024, \"location\": \"Germany\", \"date\": \"2020-03-18T00:00:00\", \"total_infected\": 44941.168904994534, \"n_days\": 17, \"infected\": 44941.168904994534}, {\"index\": 4025, \"location\": \"Germany\", \"date\": \"2020-03-19T00:00:00\", \"total_infected\": 54737.26522915767, \"n_days\": 18, \"infected\": 54737.26522915767}, {\"index\": 4026, \"location\": \"Germany\", \"date\": \"2020-03-20T00:00:00\", \"total_infected\": 66668.67546549672, \"n_days\": 19, \"infected\": 66668.67546549672}, {\"index\": 4027, \"location\": \"Germany\", \"date\": \"2020-03-21T00:00:00\", \"total_infected\": 81200.84680365246, \"n_days\": 20, \"infected\": 81200.84680365246}, {\"index\": 4028, \"location\": \"Germany\", \"date\": \"2020-03-22T00:00:00\", \"total_infected\": 98900.68275081652, \"n_days\": 21, \"infected\": 98900.68275081652}, {\"index\": 4029, \"location\": \"Germany\", \"date\": \"2020-03-23T00:00:00\", \"total_infected\": 120458.65817421112, \"n_days\": 22, \"infected\": 120458.65817421112}, {\"index\": 8355, \"location\": \"Portugal\", \"date\": \"2020-03-09T00:00:00\", \"total_infected\": 448.0, \"n_days\": 0, \"infected\": 448.0}, {\"index\": 8356, \"location\": \"Portugal\", \"date\": \"2020-03-10T00:00:00\", \"total_infected\": 448.0, \"n_days\": 1, \"infected\": 448.0}, {\"index\": 8357, \"location\": \"Portugal\", \"date\": \"2020-03-11T00:00:00\", \"total_infected\": 785.0, \"n_days\": 2, \"infected\": 785.0}, {\"index\": 8358, \"location\": \"Portugal\", \"date\": \"2020-03-12T00:00:00\", \"total_infected\": 1020.0, \"n_days\": 3, \"infected\": 1020.0}, {\"index\": 8359, \"location\": \"Portugal\", \"date\": \"2020-03-13T00:00:00\", \"total_infected\": 1280.0, \"n_days\": 4, \"infected\": 1280.0}, {\"index\": 8360, \"location\": \"Portugal\", \"date\": \"2020-03-14T00:00:00\", \"total_infected\": 1599.9999999999998, \"n_days\": 5, \"infected\": 1599.9999999999998}, {\"index\": 8361, \"location\": \"Portugal\", \"date\": \"2020-03-15T00:00:00\", \"total_infected\": 1599.9999999999998, \"n_days\": 6, \"infected\": 1599.9999999999998}, {\"index\": 8362, \"location\": \"Portugal\", \"date\": \"2020-03-16T00:00:00\", \"total_infected\": 1939.457513550103, \"n_days\": 7, \"infected\": 1939.457513550103}, {\"index\": 8363, \"location\": \"Portugal\", \"date\": \"2020-03-17T00:00:00\", \"total_infected\": 2350.9346542912176, \"n_days\": 8, \"infected\": 2350.9346542912176}, {\"index\": 8364, \"location\": \"Portugal\", \"date\": \"2020-03-18T00:00:00\", \"total_infected\": 2849.7111744565104, \"n_days\": 9, \"infected\": 2849.7111744565104}, {\"index\": 8365, \"location\": \"Portugal\", \"date\": \"2020-03-19T00:00:00\", \"total_infected\": 3454.308592967105, \"n_days\": 10, \"infected\": 3454.308592967105}, {\"index\": 8366, \"location\": \"Portugal\", \"date\": \"2020-03-20T00:00:00\", \"total_infected\": 4187.177971719211, \"n_days\": 11, \"infected\": 4187.177971719211}, {\"index\": 8367, \"location\": \"Portugal\", \"date\": \"2020-03-21T00:00:00\", \"total_infected\": 5075.5336111389415, \"n_days\": 12, \"infected\": 5075.5336111389415}, {\"index\": 8368, \"location\": \"Portugal\", \"date\": \"2020-03-22T00:00:00\", \"total_infected\": 6152.363623374693, \"n_days\": 13, \"infected\": 6152.363623374693}, {\"index\": 8369, \"location\": \"Portugal\", \"date\": \"2020-03-23T00:00:00\", \"total_infected\": 7457.654909653991, \"n_days\": 14, \"infected\": 7457.654909653991}, {\"index\": 10942, \"location\": \"United States\", \"date\": \"2020-02-21T00:00:00\", \"total_infected\": 68.0, \"n_days\": 0, \"infected\": 68.0}, {\"index\": 10943, \"location\": \"United States\", \"date\": \"2020-02-22T00:00:00\", \"total_infected\": 74.0, \"n_days\": 1, \"infected\": 74.0}, {\"index\": 10944, \"location\": \"United States\", \"date\": \"2020-02-23T00:00:00\", \"total_infected\": 98.0, \"n_days\": 2, \"infected\": 98.0}, {\"index\": 10945, \"location\": \"United States\", \"date\": \"2020-02-24T00:00:00\", \"total_infected\": 118.0, \"n_days\": 3, \"infected\": 118.0}, {\"index\": 10946, \"location\": \"United States\", \"date\": \"2020-02-25T00:00:00\", \"total_infected\": 149.0, \"n_days\": 4, \"infected\": 149.0}, {\"index\": 10947, \"location\": \"United States\", \"date\": \"2020-02-26T00:00:00\", \"total_infected\": 217.0, \"n_days\": 5, \"infected\": 217.0}, {\"index\": 10948, \"location\": \"United States\", \"date\": \"2020-02-27T00:00:00\", \"total_infected\": 262.0, \"n_days\": 6, \"infected\": 262.0}, {\"index\": 10949, \"location\": \"United States\", \"date\": \"2020-02-28T00:00:00\", \"total_infected\": 402.0, \"n_days\": 7, \"infected\": 402.0}, {\"index\": 10950, \"location\": \"United States\", \"date\": \"2020-02-29T00:00:00\", \"total_infected\": 518.0, \"n_days\": 8, \"infected\": 518.0}, {\"index\": 10951, \"location\": \"United States\", \"date\": \"2020-03-01T00:00:00\", \"total_infected\": 583.0, \"n_days\": 9, \"infected\": 583.0}, {\"index\": 10952, \"location\": \"United States\", \"date\": \"2020-03-02T00:00:00\", \"total_infected\": 959.0, \"n_days\": 10, \"infected\": 959.0}, {\"index\": 10953, \"location\": \"United States\", \"date\": \"2020-03-03T00:00:00\", \"total_infected\": 1281.0, \"n_days\": 11, \"infected\": 1281.0}, {\"index\": 10954, \"location\": \"United States\", \"date\": \"2020-03-04T00:00:00\", \"total_infected\": 1663.0, \"n_days\": 12, \"infected\": 1663.0}, {\"index\": 10955, \"location\": \"United States\", \"date\": \"2020-03-05T00:00:00\", \"total_infected\": 2179.0, \"n_days\": 13, \"infected\": 2179.0}, {\"index\": 10956, \"location\": \"United States\", \"date\": \"2020-03-06T00:00:00\", \"total_infected\": 2727.0, \"n_days\": 14, \"infected\": 2727.0}, {\"index\": 10957, \"location\": \"United States\", \"date\": \"2020-03-07T00:00:00\", \"total_infected\": 3499.0, \"n_days\": 15, \"infected\": 3499.0}, {\"index\": 10958, \"location\": \"United States\", \"date\": \"2020-03-08T00:00:00\", \"total_infected\": 4632.0, \"n_days\": 16, \"infected\": 4632.0}, {\"index\": 10959, \"location\": \"United States\", \"date\": \"2020-03-09T00:00:00\", \"total_infected\": 6421.0, \"n_days\": 17, \"infected\": 6421.0}, {\"index\": 10960, \"location\": \"United States\", \"date\": \"2020-03-10T00:00:00\", \"total_infected\": 7783.0, \"n_days\": 18, \"infected\": 7783.0}, {\"index\": 10961, \"location\": \"United States\", \"date\": \"2020-03-11T00:00:00\", \"total_infected\": 13677.0, \"n_days\": 19, \"infected\": 13677.0}, {\"index\": 10962, \"location\": \"United States\", \"date\": \"2020-03-12T00:00:00\", \"total_infected\": 19100.0, \"n_days\": 20, \"infected\": 19100.0}, {\"index\": 10963, \"location\": \"United States\", \"date\": \"2020-03-13T00:00:00\", \"total_infected\": 25489.0, \"n_days\": 21, \"infected\": 25489.0}, {\"index\": 10964, \"location\": \"United States\", \"date\": \"2020-03-14T00:00:00\", \"total_infected\": 33272.0, \"n_days\": 22, \"infected\": 33272.0}, {\"index\": 10965, \"location\": \"United States\", \"date\": \"2020-03-15T00:00:00\", \"total_infected\": 33276.0, \"n_days\": 23, \"infected\": 33276.0}, {\"index\": 10966, \"location\": \"United States\", \"date\": \"2020-03-16T00:00:00\", \"total_infected\": 42236.04621125287, \"n_days\": 24, \"infected\": 42236.04621125287}, {\"index\": 10967, \"location\": \"United States\", \"date\": \"2020-03-17T00:00:00\", \"total_infected\": 53608.714976532276, \"n_days\": 25, \"infected\": 53608.714976532276}, {\"index\": 10968, \"location\": \"United States\", \"date\": \"2020-03-18T00:00:00\", \"total_infected\": 68043.63995296012, \"n_days\": 26, \"infected\": 68043.63995296012}, {\"index\": 10969, \"location\": \"United States\", \"date\": \"2020-03-19T00:00:00\", \"total_infected\": 86365.37809337287, \"n_days\": 27, \"infected\": 86365.37809337287}, {\"index\": 10970, \"location\": \"United States\", \"date\": \"2020-03-20T00:00:00\", \"total_infected\": 109620.51028380884, \"n_days\": 28, \"infected\": 109620.51028380884}, {\"index\": 10971, \"location\": \"United States\", \"date\": \"2020-03-21T00:00:00\", \"total_infected\": 139137.42451160206, \"n_days\": 29, \"infected\": 139137.42451160206}, {\"index\": 10972, \"location\": \"United States\", \"date\": \"2020-03-22T00:00:00\", \"total_infected\": 176602.1965196157, \"n_days\": 30, \"infected\": 176602.1965196157}, {\"index\": 10973, \"location\": \"United States\", \"date\": \"2020-03-23T00:00:00\", \"total_infected\": 224154.90242851456, \"n_days\": 31, \"infected\": 224154.90242851456}, {\"index\": 9289, \"location\": \"Singapore\", \"date\": \"2020-03-13T00:00:00\", \"total_infected\": 432.0, \"n_days\": 0, \"infected\": 432.0}, {\"index\": 9290, \"location\": \"Singapore\", \"date\": \"2020-03-14T00:00:00\", \"total_infected\": 455.0, \"n_days\": 1, \"infected\": 455.0}, {\"index\": 9291, \"location\": \"Singapore\", \"date\": \"2020-03-15T00:00:00\", \"total_infected\": 455.0, \"n_days\": 2, \"infected\": 455.0}, {\"index\": 9292, \"location\": \"Singapore\", \"date\": \"2020-03-16T00:00:00\", \"total_infected\": 466.800841485806, \"n_days\": 3, \"infected\": 466.800841485806}, {\"index\": 9293, \"location\": \"Singapore\", \"date\": \"2020-03-17T00:00:00\", \"total_infected\": 478.907748597487, \"n_days\": 4, \"infected\": 478.907748597487}, {\"index\": 9294, \"location\": \"Singapore\", \"date\": \"2020-03-18T00:00:00\", \"total_infected\": 491.32865942720827, \"n_days\": 5, \"infected\": 491.32865942720827}, {\"index\": 9295, \"location\": \"Singapore\", \"date\": \"2020-03-19T00:00:00\", \"total_infected\": 504.0717179488216, \"n_days\": 6, \"infected\": 504.0717179488216}, {\"index\": 9296, \"location\": \"Singapore\", \"date\": \"2020-03-20T00:00:00\", \"total_infected\": 517.1452793575951, \"n_days\": 7, \"infected\": 517.1452793575951}, {\"index\": 9297, \"location\": \"Singapore\", \"date\": \"2020-03-21T00:00:00\", \"total_infected\": 530.5579155484343, \"n_days\": 8, \"infected\": 530.5579155484343}, {\"index\": 9298, \"location\": \"Singapore\", \"date\": \"2020-03-22T00:00:00\", \"total_infected\": 544.3184207361853, \"n_days\": 9, \"infected\": 544.3184207361853}, {\"index\": 9299, \"location\": \"Singapore\", \"date\": \"2020-03-23T00:00:00\", \"total_infected\": 558.4358172217062, \"n_days\": 10, \"infected\": 558.4358172217062}, {\"index\": 9569, \"location\": \"South Korea\", \"date\": \"2020-02-12T00:00:00\", \"total_infected\": 104.0, \"n_days\": 0, \"infected\": 104.0}, {\"index\": 9570, \"location\": \"South Korea\", \"date\": \"2020-02-13T00:00:00\", \"total_infected\": 204.0, \"n_days\": 1, \"infected\": 204.0}, {\"index\": 9571, \"location\": \"South Korea\", \"date\": \"2020-02-14T00:00:00\", \"total_infected\": 433.0, \"n_days\": 2, \"infected\": 433.0}, {\"index\": 9572, \"location\": \"South Korea\", \"date\": \"2020-02-15T00:00:00\", \"total_infected\": 602.0, \"n_days\": 3, \"infected\": 602.0}, {\"index\": 9573, \"location\": \"South Korea\", \"date\": \"2020-02-16T00:00:00\", \"total_infected\": 833.0000000000001, \"n_days\": 4, \"infected\": 833.0000000000001}, {\"index\": 9574, \"location\": \"South Korea\", \"date\": \"2020-02-17T00:00:00\", \"total_infected\": 976.9999999999999, \"n_days\": 5, \"infected\": 976.9999999999999}, {\"index\": 9575, \"location\": \"South Korea\", \"date\": \"2020-02-18T00:00:00\", \"total_infected\": 1261.0, \"n_days\": 6, \"infected\": 1261.0}, {\"index\": 9576, \"location\": \"South Korea\", \"date\": \"2020-02-19T00:00:00\", \"total_infected\": 1766.0, \"n_days\": 7, \"infected\": 1766.0}, {\"index\": 9577, \"location\": \"South Korea\", \"date\": \"2020-02-20T00:00:00\", \"total_infected\": 2337.0, \"n_days\": 8, \"infected\": 2337.0}, {\"index\": 9578, \"location\": \"South Korea\", \"date\": \"2020-02-21T00:00:00\", \"total_infected\": 3150.0, \"n_days\": 9, \"infected\": 3150.0}, {\"index\": 9579, \"location\": \"South Korea\", \"date\": \"2020-02-22T00:00:00\", \"total_infected\": 3736.0000000000005, \"n_days\": 10, \"infected\": 3736.0000000000005}, {\"index\": 9580, \"location\": \"South Korea\", \"date\": \"2020-02-23T00:00:00\", \"total_infected\": 4335.0, \"n_days\": 11, \"infected\": 4335.0}, {\"index\": 9581, \"location\": \"South Korea\", \"date\": \"2020-02-24T00:00:00\", \"total_infected\": 5186.0, \"n_days\": 12, \"infected\": 5186.0}, {\"index\": 9582, \"location\": \"South Korea\", \"date\": \"2020-02-25T00:00:00\", \"total_infected\": 5621.0, \"n_days\": 13, \"infected\": 5621.0}, {\"index\": 9583, \"location\": \"South Korea\", \"date\": \"2020-02-26T00:00:00\", \"total_infected\": 6088.0, \"n_days\": 14, \"infected\": 6088.0}, {\"index\": 9584, \"location\": \"South Korea\", \"date\": \"2020-02-27T00:00:00\", \"total_infected\": 6593.0, \"n_days\": 15, \"infected\": 6593.0}, {\"index\": 9585, \"location\": \"South Korea\", \"date\": \"2020-02-28T00:00:00\", \"total_infected\": 7041.0, \"n_days\": 16, \"infected\": 7041.0}, {\"index\": 9586, \"location\": \"South Korea\", \"date\": \"2020-02-29T00:00:00\", \"total_infected\": 7314.0, \"n_days\": 17, \"infected\": 7314.0}, {\"index\": 9587, \"location\": \"South Korea\", \"date\": \"2020-03-01T00:00:00\", \"total_infected\": 7478.0, \"n_days\": 18, \"infected\": 7478.0}, {\"index\": 9588, \"location\": \"South Korea\", \"date\": \"2020-03-02T00:00:00\", \"total_infected\": 7513.0, \"n_days\": 19, \"infected\": 7513.0}, {\"index\": 9589, \"location\": \"South Korea\", \"date\": \"2020-03-03T00:00:00\", \"total_infected\": 7755.0, \"n_days\": 20, \"infected\": 7755.0}, {\"index\": 9590, \"location\": \"South Korea\", \"date\": \"2020-03-04T00:00:00\", \"total_infected\": 7869.0, \"n_days\": 21, \"infected\": 7869.0}, {\"index\": 9591, \"location\": \"South Korea\", \"date\": \"2020-03-05T00:00:00\", \"total_infected\": 7978.999999999999, \"n_days\": 22, \"infected\": 7978.999999999999}, {\"index\": 9592, \"location\": \"South Korea\", \"date\": \"2020-03-06T00:00:00\", \"total_infected\": 8085.999999999999, \"n_days\": 23, \"infected\": 8085.999999999999}, {\"index\": 9593, \"location\": \"South Korea\", \"date\": \"2020-03-07T00:00:00\", \"total_infected\": 8161.999999999999, \"n_days\": 24, \"infected\": 8161.999999999999}, {\"index\": 9594, \"location\": \"South Korea\", \"date\": \"2020-03-08T00:00:00\", \"total_infected\": 8236.0, \"n_days\": 25, \"infected\": 8236.0}, {\"index\": 9595, \"location\": \"South Korea\", \"date\": \"2020-03-09T00:00:00\", \"total_infected\": 8320.0, \"n_days\": 26, \"infected\": 8320.0}, {\"index\": 9596, \"location\": \"South Korea\", \"date\": \"2020-03-10T00:00:00\", \"total_infected\": 8413.0, \"n_days\": 27, \"infected\": 8413.0}, {\"index\": 9597, \"location\": \"South Korea\", \"date\": \"2020-03-11T00:00:00\", \"total_infected\": 8565.0, \"n_days\": 28, \"infected\": 8565.0}, {\"index\": 9598, \"location\": \"South Korea\", \"date\": \"2020-03-12T00:00:00\", \"total_infected\": 8652.0, \"n_days\": 29, \"infected\": 8652.0}, {\"index\": 9599, \"location\": \"South Korea\", \"date\": \"2020-03-13T00:00:00\", \"total_infected\": 8799.0, \"n_days\": 30, \"infected\": 8799.0}, {\"index\": 9600, \"location\": \"South Korea\", \"date\": \"2020-03-14T00:00:00\", \"total_infected\": 8897.0, \"n_days\": 31, \"infected\": 8897.0}, {\"index\": 9601, \"location\": \"South Korea\", \"date\": \"2020-03-15T00:00:00\", \"total_infected\": 8897.0, \"n_days\": 32, \"infected\": 8897.0}, {\"index\": 9602, \"location\": \"South Korea\", \"date\": \"2020-03-16T00:00:00\", \"total_infected\": 10133.982862570529, \"n_days\": 33, \"infected\": 10133.982862570529}, {\"index\": 9603, \"location\": \"South Korea\", \"date\": \"2020-03-17T00:00:00\", \"total_infected\": 11542.948034042167, \"n_days\": 34, \"infected\": 11542.948034042167}, {\"index\": 9604, \"location\": \"South Korea\", \"date\": \"2020-03-18T00:00:00\", \"total_infected\": 13147.806851806845, \"n_days\": 35, \"infected\": 13147.806851806845}, {\"index\": 9605, \"location\": \"South Korea\", \"date\": \"2020-03-19T00:00:00\", \"total_infected\": 14975.795135056529, \"n_days\": 36, \"infected\": 14975.795135056529}, {\"index\": 9606, \"location\": \"South Korea\", \"date\": \"2020-03-20T00:00:00\", \"total_infected\": 17057.935399801052, \"n_days\": 37, \"infected\": 17057.935399801052}, {\"index\": 9607, \"location\": \"South Korea\", \"date\": \"2020-03-21T00:00:00\", \"total_infected\": 19429.563337351807, \"n_days\": 38, \"infected\": 19429.563337351807}, {\"index\": 9608, \"location\": \"South Korea\", \"date\": \"2020-03-22T00:00:00\", \"total_infected\": 22130.927491058992, \"n_days\": 39, \"infected\": 22130.927491058992}, {\"index\": 9609, \"location\": \"South Korea\", \"date\": \"2020-03-23T00:00:00\", \"total_infected\": 25207.872308326718, \"n_days\": 40, \"infected\": 25207.872308326718}, {\"index\": 5470, \"location\": \"Japan\", \"date\": \"2020-02-05T00:00:00\", \"total_infected\": 28.0, \"n_days\": 0, \"infected\": 28.0}, {\"index\": 5471, \"location\": \"Japan\", \"date\": \"2020-02-06T00:00:00\", \"total_infected\": 29.0, \"n_days\": 1, \"infected\": 29.0}, {\"index\": 5472, \"location\": \"Japan\", \"date\": \"2020-02-07T00:00:00\", \"total_infected\": 43.0, \"n_days\": 2, \"infected\": 43.0}, {\"index\": 5473, \"location\": \"Japan\", \"date\": \"2020-02-08T00:00:00\", \"total_infected\": 59.0, \"n_days\": 3, \"infected\": 59.0}, {\"index\": 5474, \"location\": \"Japan\", \"date\": \"2020-02-09T00:00:00\", \"total_infected\": 66.0, \"n_days\": 4, \"infected\": 66.0}, {\"index\": 5475, \"location\": \"Japan\", \"date\": \"2020-02-10T00:00:00\", \"total_infected\": 74.0, \"n_days\": 5, \"infected\": 74.0}, {\"index\": 5476, \"location\": \"Japan\", \"date\": \"2020-02-11T00:00:00\", \"total_infected\": 84.0, \"n_days\": 6, \"infected\": 84.0}, {\"index\": 5477, \"location\": \"Japan\", \"date\": \"2020-02-12T00:00:00\", \"total_infected\": 94.0, \"n_days\": 7, \"infected\": 94.0}, {\"index\": 5478, \"location\": \"Japan\", \"date\": \"2020-02-13T00:00:00\", \"total_infected\": 104.99999999999999, \"n_days\": 8, \"infected\": 104.99999999999999}, {\"index\": 5479, \"location\": \"Japan\", \"date\": \"2020-02-14T00:00:00\", \"total_infected\": 122.0, \"n_days\": 9, \"infected\": 122.0}, {\"index\": 5480, \"location\": \"Japan\", \"date\": \"2020-02-15T00:00:00\", \"total_infected\": 147.0, \"n_days\": 10, \"infected\": 147.0}, {\"index\": 5481, \"location\": \"Japan\", \"date\": \"2020-02-16T00:00:00\", \"total_infected\": 159.0, \"n_days\": 11, \"infected\": 159.0}, {\"index\": 5482, \"location\": \"Japan\", \"date\": \"2020-02-17T00:00:00\", \"total_infected\": 170.0, \"n_days\": 12, \"infected\": 170.0}, {\"index\": 5483, \"location\": \"Japan\", \"date\": \"2020-02-18T00:00:00\", \"total_infected\": 189.0, \"n_days\": 13, \"infected\": 189.0}, {\"index\": 5484, \"location\": \"Japan\", \"date\": \"2020-02-19T00:00:00\", \"total_infected\": 214.00000000000003, \"n_days\": 14, \"infected\": 214.00000000000003}, {\"index\": 5485, \"location\": \"Japan\", \"date\": \"2020-02-20T00:00:00\", \"total_infected\": 228.0, \"n_days\": 15, \"infected\": 228.0}, {\"index\": 5486, \"location\": \"Japan\", \"date\": \"2020-02-21T00:00:00\", \"total_infected\": 241.0, \"n_days\": 16, \"infected\": 241.0}, {\"index\": 5487, \"location\": \"Japan\", \"date\": \"2020-02-22T00:00:00\", \"total_infected\": 256.0, \"n_days\": 17, \"infected\": 256.0}, {\"index\": 5488, \"location\": \"Japan\", \"date\": \"2020-02-23T00:00:00\", \"total_infected\": 274.0, \"n_days\": 18, \"infected\": 274.0}, {\"index\": 5489, \"location\": \"Japan\", \"date\": \"2020-02-24T00:00:00\", \"total_infected\": 293.0, \"n_days\": 19, \"infected\": 293.0}, {\"index\": 5490, \"location\": \"Japan\", \"date\": \"2020-02-25T00:00:00\", \"total_infected\": 330.99999999999994, \"n_days\": 20, \"infected\": 330.99999999999994}, {\"index\": 5491, \"location\": \"Japan\", \"date\": \"2020-02-26T00:00:00\", \"total_infected\": 360.0, \"n_days\": 21, \"infected\": 360.0}, {\"index\": 5492, \"location\": \"Japan\", \"date\": \"2020-02-27T00:00:00\", \"total_infected\": 420.0, \"n_days\": 22, \"infected\": 420.0}, {\"index\": 5493, \"location\": \"Japan\", \"date\": \"2020-02-28T00:00:00\", \"total_infected\": 461.0, \"n_days\": 23, \"infected\": 461.0}, {\"index\": 5494, \"location\": \"Japan\", \"date\": \"2020-02-29T00:00:00\", \"total_infected\": 502.0, \"n_days\": 24, \"infected\": 502.0}, {\"index\": 5495, \"location\": \"Japan\", \"date\": \"2020-03-01T00:00:00\", \"total_infected\": 511.0, \"n_days\": 25, \"infected\": 511.0}, {\"index\": 5496, \"location\": \"Japan\", \"date\": \"2020-03-02T00:00:00\", \"total_infected\": 581.0, \"n_days\": 26, \"infected\": 581.0}, {\"index\": 5497, \"location\": \"Japan\", \"date\": \"2020-03-03T00:00:00\", \"total_infected\": 639.0, \"n_days\": 27, \"infected\": 639.0}, {\"index\": 5498, \"location\": \"Japan\", \"date\": \"2020-03-04T00:00:00\", \"total_infected\": 639.0, \"n_days\": 28, \"infected\": 639.0}, {\"index\": 5499, \"location\": \"Japan\", \"date\": \"2020-03-05T00:00:00\", \"total_infected\": 701.0, \"n_days\": 29, \"infected\": 701.0}, {\"index\": 5500, \"location\": \"Japan\", \"date\": \"2020-03-06T00:00:00\", \"total_infected\": 773.0, \"n_days\": 30, \"infected\": 773.0}, {\"index\": 5501, \"location\": \"Japan\", \"date\": \"2020-03-07T00:00:00\", \"total_infected\": 839.0, \"n_days\": 31, \"infected\": 839.0}, {\"index\": 5502, \"location\": \"Japan\", \"date\": \"2020-03-08T00:00:00\", \"total_infected\": 824.9999999999999, \"n_days\": 32, \"infected\": 824.9999999999999}, {\"index\": 5503, \"location\": \"Japan\", \"date\": \"2020-03-09T00:00:00\", \"total_infected\": 878.0, \"n_days\": 33, \"infected\": 878.0}, {\"index\": 5504, \"location\": \"Japan\", \"date\": \"2020-03-10T00:00:00\", \"total_infected\": 889.0, \"n_days\": 34, \"infected\": 889.0}, {\"index\": 5505, \"location\": \"Japan\", \"date\": \"2020-03-11T00:00:00\", \"total_infected\": 924.0, \"n_days\": 35, \"infected\": 924.0}, {\"index\": 5506, \"location\": \"Japan\", \"date\": \"2020-03-12T00:00:00\", \"total_infected\": 963.0000000000001, \"n_days\": 36, \"infected\": 963.0000000000001}, {\"index\": 5507, \"location\": \"Japan\", \"date\": \"2020-03-13T00:00:00\", \"total_infected\": 1007.0, \"n_days\": 37, \"infected\": 1007.0}, {\"index\": 5508, \"location\": \"Japan\", \"date\": \"2020-03-14T00:00:00\", \"total_infected\": 1086.0, \"n_days\": 38, \"infected\": 1086.0}, {\"index\": 5509, \"location\": \"Japan\", \"date\": \"2020-03-15T00:00:00\", \"total_infected\": 1086.0, \"n_days\": 39, \"infected\": 1086.0}, {\"index\": 5510, \"location\": \"Japan\", \"date\": \"2020-03-16T00:00:00\", \"total_infected\": 1187.8626784996432, \"n_days\": 40, \"infected\": 1187.8626784996432}, {\"index\": 5511, \"location\": \"Japan\", \"date\": \"2020-03-17T00:00:00\", \"total_infected\": 1299.279689661461, \"n_days\": 41, \"infected\": 1299.279689661461}, {\"index\": 5512, \"location\": \"Japan\", \"date\": \"2020-03-18T00:00:00\", \"total_infected\": 1421.147193629326, \"n_days\": 42, \"infected\": 1421.147193629326}, {\"index\": 5513, \"location\": \"Japan\", \"date\": \"2020-03-19T00:00:00\", \"total_infected\": 1554.4454069675712, \"n_days\": 43, \"infected\": 1554.4454069675712}, {\"index\": 5514, \"location\": \"Japan\", \"date\": \"2020-03-20T00:00:00\", \"total_infected\": 1700.2464868342238, \"n_days\": 44, \"infected\": 1700.2464868342238}, {\"index\": 5515, \"location\": \"Japan\", \"date\": \"2020-03-21T00:00:00\", \"total_infected\": 1859.7231546597693, \"n_days\": 45, \"infected\": 1859.7231546597693}, {\"index\": 5516, \"location\": \"Japan\", \"date\": \"2020-03-22T00:00:00\", \"total_infected\": 2034.158128694254, \"n_days\": 46, \"infected\": 2034.158128694254}, {\"index\": 5517, \"location\": \"Japan\", \"date\": \"2020-03-23T00:00:00\", \"total_infected\": 2224.954441291509, \"n_days\": 47, \"infected\": 2224.954441291509}, {\"index\": 1349, \"location\": \"Brazil\", \"date\": \"2020-03-09T00:00:00\", \"total_infected\": 321.0, \"n_days\": 0, \"infected\": 321.0}, {\"index\": 1350, \"location\": \"Brazil\", \"date\": \"2020-03-10T00:00:00\", \"total_infected\": 372.0, \"n_days\": 1, \"infected\": 372.0}, {\"index\": 1351, \"location\": \"Brazil\", \"date\": \"2020-03-11T00:00:00\", \"total_infected\": 621.0, \"n_days\": 2, \"infected\": 621.0}, {\"index\": 1352, \"location\": \"Brazil\", \"date\": \"2020-03-12T00:00:00\", \"total_infected\": 793.0, \"n_days\": 3, \"infected\": 793.0}, {\"index\": 1353, \"location\": \"Brazil\", \"date\": \"2020-03-13T00:00:00\", \"total_infected\": 1021.0, \"n_days\": 4, \"infected\": 1021.0}, {\"index\": 1354, \"location\": \"Brazil\", \"date\": \"2020-03-14T00:00:00\", \"total_infected\": 1593.0, \"n_days\": 5, \"infected\": 1593.0}, {\"index\": 1355, \"location\": \"Brazil\", \"date\": \"2020-03-15T00:00:00\", \"total_infected\": 1593.0, \"n_days\": 6, \"infected\": 1593.0}, {\"index\": 1356, \"location\": \"Brazil\", \"date\": \"2020-03-16T00:00:00\", \"total_infected\": 2018.3132610900989, \"n_days\": 7, \"infected\": 2018.3132610900989}, {\"index\": 1357, \"location\": \"Brazil\", \"date\": \"2020-03-17T00:00:00\", \"total_infected\": 2557.1804267998427, \"n_days\": 8, \"infected\": 2557.1804267998427}, {\"index\": 1358, \"location\": \"Brazil\", \"date\": \"2020-03-18T00:00:00\", \"total_infected\": 3239.919125179009, \"n_days\": 9, \"infected\": 3239.919125179009}, {\"index\": 1359, \"location\": \"Brazil\", \"date\": \"2020-03-19T00:00:00\", \"total_infected\": 4104.941453363607, \"n_days\": 10, \"infected\": 4104.941453363607}, {\"index\": 1360, \"location\": \"Brazil\", \"date\": \"2020-03-20T00:00:00\", \"total_infected\": 5200.915110685645, \"n_days\": 11, \"infected\": 5200.915110685645}, {\"index\": 1361, \"location\": \"Brazil\", \"date\": \"2020-03-21T00:00:00\", \"total_infected\": 6589.501530257826, \"n_days\": 12, \"infected\": 6589.501530257826}, {\"index\": 1362, \"location\": \"Brazil\", \"date\": \"2020-03-22T00:00:00\", \"total_infected\": 8348.825061200796, \"n_days\": 13, \"infected\": 8348.825061200796}, {\"index\": 1363, \"location\": \"Brazil\", \"date\": \"2020-03-23T00:00:00\", \"total_infected\": 10577.868383893863, \"n_days\": 14, \"infected\": 10577.868383893863}, {\"index\": 5104, \"location\": \"Iran\", \"date\": \"2020-02-11T00:00:00\", \"total_infected\": 2.0, \"n_days\": 0, \"infected\": 2.0}, {\"index\": 5105, \"location\": \"Iran\", \"date\": \"2020-02-12T00:00:00\", \"total_infected\": 5.0, \"n_days\": 1, \"infected\": 5.0}, {\"index\": 5106, \"location\": \"Iran\", \"date\": \"2020-02-13T00:00:00\", \"total_infected\": 18.0, \"n_days\": 2, \"infected\": 18.0}, {\"index\": 5107, \"location\": \"Iran\", \"date\": \"2020-02-14T00:00:00\", \"total_infected\": 28.0, \"n_days\": 3, \"infected\": 28.0}, {\"index\": 5108, \"location\": \"Iran\", \"date\": \"2020-02-15T00:00:00\", \"total_infected\": 43.0, \"n_days\": 4, \"infected\": 43.0}, {\"index\": 5109, \"location\": \"Iran\", \"date\": \"2020-02-16T00:00:00\", \"total_infected\": 61.0, \"n_days\": 5, \"infected\": 61.0}, {\"index\": 5110, \"location\": \"Iran\", \"date\": \"2020-02-17T00:00:00\", \"total_infected\": 95.0, \"n_days\": 6, \"infected\": 95.0}, {\"index\": 5111, \"location\": \"Iran\", \"date\": \"2020-02-18T00:00:00\", \"total_infected\": 139.0, \"n_days\": 7, \"infected\": 139.0}, {\"index\": 5112, \"location\": \"Iran\", \"date\": \"2020-02-19T00:00:00\", \"total_infected\": 245.0, \"n_days\": 8, \"infected\": 245.0}, {\"index\": 5113, \"location\": \"Iran\", \"date\": \"2020-02-20T00:00:00\", \"total_infected\": 388.0, \"n_days\": 9, \"infected\": 388.0}, {\"index\": 5114, \"location\": \"Iran\", \"date\": \"2020-02-21T00:00:00\", \"total_infected\": 593.0, \"n_days\": 10, \"infected\": 593.0}, {\"index\": 5115, \"location\": \"Iran\", \"date\": \"2020-02-22T00:00:00\", \"total_infected\": 978.0, \"n_days\": 11, \"infected\": 978.0}, {\"index\": 5116, \"location\": \"Iran\", \"date\": \"2020-02-23T00:00:00\", \"total_infected\": 1501.0, \"n_days\": 12, \"infected\": 1501.0}, {\"index\": 5117, \"location\": \"Iran\", \"date\": \"2020-02-24T00:00:00\", \"total_infected\": 2336.0, \"n_days\": 13, \"infected\": 2336.0}, {\"index\": 5118, \"location\": \"Iran\", \"date\": \"2020-02-25T00:00:00\", \"total_infected\": 2922.0000000000005, \"n_days\": 14, \"infected\": 2922.0000000000005}, {\"index\": 5119, \"location\": \"Iran\", \"date\": \"2020-02-26T00:00:00\", \"total_infected\": 3513.0, \"n_days\": 15, \"infected\": 3513.0}, {\"index\": 5120, \"location\": \"Iran\", \"date\": \"2020-02-27T00:00:00\", \"total_infected\": 4747.0, \"n_days\": 16, \"infected\": 4747.0}, {\"index\": 5121, \"location\": \"Iran\", \"date\": \"2020-02-28T00:00:00\", \"total_infected\": 5823.0, \"n_days\": 17, \"infected\": 5823.0}, {\"index\": 5122, \"location\": \"Iran\", \"date\": \"2020-02-29T00:00:00\", \"total_infected\": 6566.0, \"n_days\": 18, \"infected\": 6566.0}, {\"index\": 5123, \"location\": \"Iran\", \"date\": \"2020-03-01T00:00:00\", \"total_infected\": 7161.000000000001, \"n_days\": 19, \"infected\": 7161.000000000001}, {\"index\": 5124, \"location\": \"Iran\", \"date\": \"2020-03-02T00:00:00\", \"total_infected\": 8042.000000000001, \"n_days\": 20, \"infected\": 8042.000000000001}, {\"index\": 5125, \"location\": \"Iran\", \"date\": \"2020-03-03T00:00:00\", \"total_infected\": 9000.0, \"n_days\": 21, \"infected\": 9000.0}, {\"index\": 5126, \"location\": \"Iran\", \"date\": \"2020-03-04T00:00:00\", \"total_infected\": 10075.0, \"n_days\": 22, \"infected\": 10075.0}, {\"index\": 5127, \"location\": \"Iran\", \"date\": \"2020-03-05T00:00:00\", \"total_infected\": 11364.0, \"n_days\": 23, \"infected\": 11364.0}, {\"index\": 5128, \"location\": \"Iran\", \"date\": \"2020-03-06T00:00:00\", \"total_infected\": 12729.0, \"n_days\": 24, \"infected\": 12729.0}, {\"index\": 5129, \"location\": \"Iran\", \"date\": \"2020-03-07T00:00:00\", \"total_infected\": 13938.0, \"n_days\": 25, \"infected\": 13938.0}, {\"index\": 5130, \"location\": \"Iran\", \"date\": \"2020-03-08T00:00:00\", \"total_infected\": 14991.0, \"n_days\": 26, \"infected\": 14991.0}, {\"index\": 5131, \"location\": \"Iran\", \"date\": \"2020-03-09T00:00:00\", \"total_infected\": 16169.0, \"n_days\": 27, \"infected\": 16169.0}, {\"index\": 5132, \"location\": \"Iran\", \"date\": \"2020-03-10T00:00:00\", \"total_infected\": 17361.0, \"n_days\": 28, \"infected\": 17361.0}, {\"index\": 5133, \"location\": \"Iran\", \"date\": \"2020-03-11T00:00:00\", \"total_infected\": 18407.0, \"n_days\": 29, \"infected\": 18407.0}, {\"index\": 5134, \"location\": \"Iran\", \"date\": \"2020-03-12T00:00:00\", \"total_infected\": 19644.0, \"n_days\": 30, \"infected\": 19644.0}, {\"index\": 5135, \"location\": \"Iran\", \"date\": \"2020-03-13T00:00:00\", \"total_infected\": 20610.0, \"n_days\": 31, \"infected\": 20610.0}, {\"index\": 5136, \"location\": \"Iran\", \"date\": \"2020-03-14T00:00:00\", \"total_infected\": 21638.0, \"n_days\": 32, \"infected\": 21638.0}, {\"index\": 5137, \"location\": \"Iran\", \"date\": \"2020-03-15T00:00:00\", \"total_infected\": 21638.0, \"n_days\": 33, \"infected\": 21638.0}, {\"index\": 5138, \"location\": \"Iran\", \"date\": \"2020-03-16T00:00:00\", \"total_infected\": 27728.80792070502, \"n_days\": 34, \"infected\": 27728.80792070502}, {\"index\": 5139, \"location\": \"Iran\", \"date\": \"2020-03-17T00:00:00\", \"total_infected\": 35534.09689912901, \"n_days\": 35, \"infected\": 35534.09689912901}, {\"index\": 5140, \"location\": \"Iran\", \"date\": \"2020-03-18T00:00:00\", \"total_infected\": 45536.47044790036, \"n_days\": 36, \"infected\": 45536.47044790036}, {\"index\": 5141, \"location\": \"Iran\", \"date\": \"2020-03-19T00:00:00\", \"total_infected\": 58354.378520967264, \"n_days\": 37, \"infected\": 58354.378520967264}, {\"index\": 5142, \"location\": \"Iran\", \"date\": \"2020-03-20T00:00:00\", \"total_infected\": 74780.35647194824, \"n_days\": 38, \"infected\": 74780.35647194824}, {\"index\": 5143, \"location\": \"Iran\", \"date\": \"2020-03-21T00:00:00\", \"total_infected\": 95830.02776839372, \"n_days\": 39, \"infected\": 95830.02776839372}, {\"index\": 5144, \"location\": \"Iran\", \"date\": \"2020-03-22T00:00:00\", \"total_infected\": 122804.90031544588, \"n_days\": 40, \"infected\": 122804.90031544588}, {\"index\": 5145, \"location\": \"Iran\", \"date\": \"2020-03-23T00:00:00\", \"total_infected\": 157372.83910566254, \"n_days\": 41, \"infected\": 157372.83910566254}]}}, {\"mode\": \"vega-lite\"});\n",
       "</script>"
      ],
      "text/plain": [
       "alt.Chart(...)"
      ]
     },
     "execution_count": 4,
     "metadata": {},
     "output_type": "execute_result"
    }
   ],
   "source": [
    "#hide_input\n",
    "# Plot estimated absolute number of infected\n",
    "plot1 = plot(data_countries_pc, \"line\", True)\n",
    "plot1.save(\"../images/covid-estimate-infections.png\")\n",
    "plot1"
   ]
  },
  {
   "cell_type": "markdown",
   "metadata": {
    "papermill": {
     "duration": 0.011916,
     "end_time": "2020-03-24T06:30:07.307259",
     "exception": false,
     "start_time": "2020-03-24T06:30:07.295343",
     "status": "completed"
    },
    "tags": []
   },
   "source": [
    "Lastest Country Estimates"
   ]
  },
  {
   "cell_type": "code",
   "execution_count": 5,
   "metadata": {
    "papermill": {
     "duration": 0.044279,
     "end_time": "2020-03-24T06:30:07.363847",
     "exception": false,
     "start_time": "2020-03-24T06:30:07.319568",
     "status": "completed"
    },
    "tags": []
   },
   "outputs": [
    {
     "data": {
      "text/html": [
       "<div>\n",
       "<style scoped>\n",
       "    .dataframe tbody tr th:only-of-type {\n",
       "        vertical-align: middle;\n",
       "    }\n",
       "\n",
       "    .dataframe tbody tr th {\n",
       "        vertical-align: top;\n",
       "    }\n",
       "\n",
       "    .dataframe thead th {\n",
       "        text-align: right;\n",
       "    }\n",
       "</style>\n",
       "<table border=\"1\" class=\"dataframe\">\n",
       "  <thead>\n",
       "    <tr style=\"text-align: right;\">\n",
       "      <th></th>\n",
       "      <th>Date</th>\n",
       "      <th>Estimate of Infected</th>\n",
       "    </tr>\n",
       "    <tr>\n",
       "      <th>Country</th>\n",
       "      <th></th>\n",
       "      <th></th>\n",
       "    </tr>\n",
       "  </thead>\n",
       "  <tbody>\n",
       "    <tr>\n",
       "      <th>Brazil</th>\n",
       "      <td>2020-03-23</td>\n",
       "      <td>10,578</td>\n",
       "    </tr>\n",
       "    <tr>\n",
       "      <th>China</th>\n",
       "      <td>2020-03-23</td>\n",
       "      <td>114,449</td>\n",
       "    </tr>\n",
       "    <tr>\n",
       "      <th>France</th>\n",
       "      <td>2020-03-23</td>\n",
       "      <td>66,517</td>\n",
       "    </tr>\n",
       "    <tr>\n",
       "      <th>Germany</th>\n",
       "      <td>2020-03-23</td>\n",
       "      <td>120,459</td>\n",
       "    </tr>\n",
       "    <tr>\n",
       "      <th>Iran</th>\n",
       "      <td>2020-03-23</td>\n",
       "      <td>157,373</td>\n",
       "    </tr>\n",
       "    <tr>\n",
       "      <th>Italy</th>\n",
       "      <td>2020-03-23</td>\n",
       "      <td>370,483</td>\n",
       "    </tr>\n",
       "    <tr>\n",
       "      <th>Japan</th>\n",
       "      <td>2020-03-23</td>\n",
       "      <td>2,225</td>\n",
       "    </tr>\n",
       "    <tr>\n",
       "      <th>Portugal</th>\n",
       "      <td>2020-03-23</td>\n",
       "      <td>7,458</td>\n",
       "    </tr>\n",
       "    <tr>\n",
       "      <th>Singapore</th>\n",
       "      <td>2020-03-23</td>\n",
       "      <td>558</td>\n",
       "    </tr>\n",
       "    <tr>\n",
       "      <th>South Korea</th>\n",
       "      <td>2020-03-23</td>\n",
       "      <td>25,208</td>\n",
       "    </tr>\n",
       "    <tr>\n",
       "      <th>Spain</th>\n",
       "      <td>2020-03-23</td>\n",
       "      <td>180,511</td>\n",
       "    </tr>\n",
       "    <tr>\n",
       "      <th>United Kingdom</th>\n",
       "      <td>2020-03-23</td>\n",
       "      <td>27,583</td>\n",
       "    </tr>\n",
       "    <tr>\n",
       "      <th>United States</th>\n",
       "      <td>2020-03-23</td>\n",
       "      <td>224,155</td>\n",
       "    </tr>\n",
       "  </tbody>\n",
       "</table>\n",
       "</div>"
      ],
      "text/plain": [
       "                     Date Estimate of Infected\n",
       "Country                                       \n",
       "Brazil         2020-03-23               10,578\n",
       "China          2020-03-23              114,449\n",
       "France         2020-03-23               66,517\n",
       "Germany        2020-03-23              120,459\n",
       "Iran           2020-03-23              157,373\n",
       "Italy          2020-03-23              370,483\n",
       "Japan          2020-03-23                2,225\n",
       "Portugal       2020-03-23                7,458\n",
       "Singapore      2020-03-23                  558\n",
       "South Korea    2020-03-23               25,208\n",
       "Spain          2020-03-23              180,511\n",
       "United Kingdom 2020-03-23               27,583\n",
       "United States  2020-03-23              224,155"
      ]
     },
     "execution_count": 5,
     "metadata": {},
     "output_type": "execute_result"
    }
   ],
   "source": [
    "#hide_input    \n",
    "label = 'Estimate of Infected'\n",
    "temp = pd.concat([x.copy() for x in data_countries_pc]).loc[lambda x: x.date >= '3/1/2020']\n",
    "\n",
    "metric_name = f'{label}'\n",
    "temp.columns = ['Country', 'Date', metric_name]\n",
    "temp.loc[:, \"Estimate of Infected\"] = temp.loc[:, \"Estimate of Infected\"].round(0).map('{:,.0f}'.format) \n",
    "temp.groupby('Country').last()"
   ]
  },
  {
   "cell_type": "markdown",
   "metadata": {
    "papermill": {
     "duration": 0.012337,
     "end_time": "2020-03-24T06:30:07.388954",
     "exception": false,
     "start_time": "2020-03-24T06:30:07.376617",
     "status": "completed"
    },
    "tags": []
   },
   "source": [
    "## Infected vs. number of confirmed cases\n",
    "> Allows you to compare how countries have been tracking the true number of infected people. The smaller deviation from the dashed line (45 degree line) the better job at tracking the true number of infected people."
   ]
  },
  {
   "cell_type": "markdown",
   "metadata": {
    "papermill": {
     "duration": 0.01243,
     "end_time": "2020-03-24T06:30:07.413913",
     "exception": false,
     "start_time": "2020-03-24T06:30:07.401483",
     "status": "completed"
    },
    "tags": []
   },
   "source": [
    "> Tip: Click (Shift+ for multiple) on countries in the legend to filter the visualization. "
   ]
  },
  {
   "cell_type": "code",
   "execution_count": 6,
   "metadata": {
    "papermill": {
     "duration": 0.249612,
     "end_time": "2020-03-24T06:30:07.676096",
     "exception": false,
     "start_time": "2020-03-24T06:30:07.426484",
     "status": "completed"
    },
    "tags": []
   },
   "outputs": [
    {
     "data": {
      "text/html": [
       "\n",
       "<div id=\"altair-viz-1406c26504a5418ca7eff9432e263c33\"></div>\n",
       "<script type=\"text/javascript\">\n",
       "  (function(spec, embedOpt){\n",
       "    const outputDiv = document.getElementById(\"altair-viz-1406c26504a5418ca7eff9432e263c33\");\n",
       "    const paths = {\n",
       "      \"vega\": \"https://cdn.jsdelivr.net/npm//vega@5?noext\",\n",
       "      \"vega-lib\": \"https://cdn.jsdelivr.net/npm//vega-lib?noext\",\n",
       "      \"vega-lite\": \"https://cdn.jsdelivr.net/npm//vega-lite@4.0.2?noext\",\n",
       "      \"vega-embed\": \"https://cdn.jsdelivr.net/npm//vega-embed@6?noext\",\n",
       "    };\n",
       "\n",
       "    function loadScript(lib) {\n",
       "      return new Promise(function(resolve, reject) {\n",
       "        var s = document.createElement('script');\n",
       "        s.src = paths[lib];\n",
       "        s.async = true;\n",
       "        s.onload = () => resolve(paths[lib]);\n",
       "        s.onerror = () => reject(`Error loading script: ${paths[lib]}`);\n",
       "        document.getElementsByTagName(\"head\")[0].appendChild(s);\n",
       "      });\n",
       "    }\n",
       "\n",
       "    function showError(err) {\n",
       "      outputDiv.innerHTML = `<div class=\"error\" style=\"color:red;\">${err}</div>`;\n",
       "      throw err;\n",
       "    }\n",
       "\n",
       "    function displayChart(vegaEmbed) {\n",
       "      vegaEmbed(outputDiv, spec, embedOpt)\n",
       "        .catch(err => showError(`Javascript Error: ${err.message}<br>This usually means there's a typo in your chart specification. See the javascript console for the full traceback.`));\n",
       "    }\n",
       "\n",
       "    if(typeof define === \"function\" && define.amd) {\n",
       "      requirejs.config({paths});\n",
       "      require([\"vega-embed\"], displayChart, err => showError(`Error loading script: ${err.message}`));\n",
       "    } else if (typeof vegaEmbed === \"function\") {\n",
       "      displayChart(vegaEmbed);\n",
       "    } else {\n",
       "      loadScript(\"vega\")\n",
       "        .then(() => loadScript(\"vega-lite\"))\n",
       "        .then(() => loadScript(\"vega-embed\"))\n",
       "        .catch(showError)\n",
       "        .then(() => displayChart(vegaEmbed));\n",
       "    }\n",
       "  })({\"config\": {\"view\": {\"continuousWidth\": 400, \"continuousHeight\": 300}, \"axis\": {\"labelFontSize\": 15, \"titleFontSize\": 18}, \"title\": {\"fontSize\": 20}}, \"layer\": [{\"mark\": \"point\", \"encoding\": {\"color\": {\"type\": \"nominal\", \"field\": \"location\", \"legend\": {\"labelFontSize\": 15, \"title\": \"Country\", \"titleFontSize\": 17}, \"scale\": {\"scheme\": \"tableau20\"}}, \"opacity\": {\"condition\": {\"value\": 1, \"selection\": \"selector004\"}, \"value\": 0.1}, \"x\": {\"type\": \"quantitative\", \"field\": \"cases\", \"title\": \"Cases\"}, \"y\": {\"type\": \"quantitative\", \"field\": \"infected\", \"title\": \"Infected\"}}, \"height\": 400, \"selection\": {\"selector003\": {\"type\": \"interval\", \"bind\": \"scales\"}, \"selector004\": {\"type\": \"multi\", \"fields\": [\"location\"], \"bind\": \"legend\"}}, \"title\": \"COVID-19 Cases VS Infected\", \"width\": 550}, {\"mark\": {\"type\": \"line\", \"color\": \"grey\", \"strokeDash\": [3, 3]}, \"encoding\": {\"x\": {\"type\": \"quantitative\", \"field\": \"cases\"}, \"y\": {\"type\": \"quantitative\", \"field\": \"45_line\", \"scale\": {\"domain\": [0, 370482.73375766084]}}}}], \"data\": {\"name\": \"data-55c2653d386146e3c4d341935b96e189\"}, \"$schema\": \"https://vega.github.io/schema/vega-lite/v4.0.2.json\", \"datasets\": {\"data-55c2653d386146e3c4d341935b96e189\": [{\"index\": 5354, \"location\": \"Italy\", \"date\": \"2020-02-13T00:00:00\", \"total_cases\": 3.0, \"total_infected\": 20.0, \"n_days\": 0, \"cases\": 3.0, \"infected\": 20.0, \"45_line\": 3.0}, {\"index\": 5355, \"location\": \"Italy\", \"date\": \"2020-02-14T00:00:00\", \"total_cases\": 3.0, \"total_infected\": 62.0, \"n_days\": 1, \"cases\": 3.0, \"infected\": 62.0, \"45_line\": 3.0}, {\"index\": 5356, \"location\": \"Italy\", \"date\": \"2020-02-15T00:00:00\", \"total_cases\": 3.0, \"total_infected\": 155.0, \"n_days\": 2, \"cases\": 3.0, \"infected\": 155.0, \"45_line\": 3.0}, {\"index\": 5357, \"location\": \"Italy\", \"date\": \"2020-02-16T00:00:00\", \"total_cases\": 3.0, \"total_infected\": 229.0, \"n_days\": 3, \"cases\": 3.0, \"infected\": 229.0, \"45_line\": 3.0}, {\"index\": 5358, \"location\": \"Italy\", \"date\": \"2020-02-17T00:00:00\", \"total_cases\": 3.0, \"total_infected\": 322.0, \"n_days\": 4, \"cases\": 3.0, \"infected\": 322.0, \"45_line\": 3.0}, {\"index\": 5359, \"location\": \"Italy\", \"date\": \"2020-02-18T00:00:00\", \"total_cases\": 3.0, \"total_infected\": 453.0, \"n_days\": 5, \"cases\": 3.0, \"infected\": 453.0, \"45_line\": 3.0}, {\"index\": 5360, \"location\": \"Italy\", \"date\": \"2020-02-19T00:00:00\", \"total_cases\": 3.0, \"total_infected\": 655.0, \"n_days\": 6, \"cases\": 3.0, \"infected\": 655.0, \"45_line\": 3.0}, {\"index\": 5361, \"location\": \"Italy\", \"date\": \"2020-02-20T00:00:00\", \"total_cases\": 3.0, \"total_infected\": 888.0, \"n_days\": 7, \"cases\": 3.0, \"infected\": 888.0, \"45_line\": 3.0}, {\"index\": 5362, \"location\": \"Italy\", \"date\": \"2020-02-21T00:00:00\", \"total_cases\": 20.0, \"total_infected\": 1128.0, \"n_days\": 8, \"cases\": 20.0, \"infected\": 1128.0, \"45_line\": 20.0}, {\"index\": 5363, \"location\": \"Italy\", \"date\": \"2020-02-22T00:00:00\", \"total_cases\": 62.0, \"total_infected\": 1694.0, \"n_days\": 9, \"cases\": 62.0, \"infected\": 1694.0, \"45_line\": 62.0}, {\"index\": 5364, \"location\": \"Italy\", \"date\": \"2020-02-23T00:00:00\", \"total_cases\": 155.0, \"total_infected\": 2036.0, \"n_days\": 10, \"cases\": 155.0, \"infected\": 2036.0, \"45_line\": 155.0}, {\"index\": 5365, \"location\": \"Italy\", \"date\": \"2020-02-24T00:00:00\", \"total_cases\": 229.0, \"total_infected\": 2502.0, \"n_days\": 11, \"cases\": 229.0, \"infected\": 2502.0, \"45_line\": 229.0}, {\"index\": 5366, \"location\": \"Italy\", \"date\": \"2020-02-25T00:00:00\", \"total_cases\": 322.0, \"total_infected\": 3089.0, \"n_days\": 12, \"cases\": 322.0, \"infected\": 3089.0, \"45_line\": 322.0}, {\"index\": 5367, \"location\": \"Italy\", \"date\": \"2020-02-26T00:00:00\", \"total_cases\": 453.0, \"total_infected\": 3858.0, \"n_days\": 13, \"cases\": 453.0, \"infected\": 3858.0, \"45_line\": 453.0}, {\"index\": 5368, \"location\": \"Italy\", \"date\": \"2020-02-27T00:00:00\", \"total_cases\": 655.0, \"total_infected\": 4636.0, \"n_days\": 14, \"cases\": 655.0, \"infected\": 4636.0, \"45_line\": 655.0}, {\"index\": 5369, \"location\": \"Italy\", \"date\": \"2020-02-28T00:00:00\", \"total_cases\": 888.0, \"total_infected\": 5883.0, \"n_days\": 15, \"cases\": 888.0, \"infected\": 5883.0, \"45_line\": 888.0}, {\"index\": 5370, \"location\": \"Italy\", \"date\": \"2020-02-29T00:00:00\", \"total_cases\": 1128.0, \"total_infected\": 7375.0, \"n_days\": 16, \"cases\": 1128.0, \"infected\": 7375.0, \"45_line\": 1128.0}, {\"index\": 5371, \"location\": \"Italy\", \"date\": \"2020-03-01T00:00:00\", \"total_cases\": 1694.0, \"total_infected\": 9172.0, \"n_days\": 17, \"cases\": 1694.0, \"infected\": 9172.0, \"45_line\": 1694.0}, {\"index\": 5372, \"location\": \"Italy\", \"date\": \"2020-03-02T00:00:00\", \"total_cases\": 2036.0, \"total_infected\": 10149.0, \"n_days\": 18, \"cases\": 2036.0, \"infected\": 10149.0, \"45_line\": 2036.0}, {\"index\": 5373, \"location\": \"Italy\", \"date\": \"2020-03-03T00:00:00\", \"total_cases\": 2502.0, \"total_infected\": 12461.999999999998, \"n_days\": 19, \"cases\": 2502.0, \"infected\": 12461.999999999998, \"45_line\": 2502.0}, {\"index\": 5374, \"location\": \"Italy\", \"date\": \"2020-03-04T00:00:00\", \"total_cases\": 3089.0, \"total_infected\": 12461.999999999998, \"n_days\": 20, \"cases\": 3089.0, \"infected\": 12461.999999999998, \"45_line\": 3089.0}, {\"index\": 5375, \"location\": \"Italy\", \"date\": \"2020-03-05T00:00:00\", \"total_cases\": 3858.0, \"total_infected\": 17660.0, \"n_days\": 21, \"cases\": 3858.0, \"infected\": 17660.0, \"45_line\": 3858.0}, {\"index\": 5376, \"location\": \"Italy\", \"date\": \"2020-03-06T00:00:00\", \"total_cases\": 4636.0, \"total_infected\": 21157.0, \"n_days\": 22, \"cases\": 4636.0, \"infected\": 21157.0, \"45_line\": 4636.0}, {\"index\": 5377, \"location\": \"Italy\", \"date\": \"2020-03-07T00:00:00\", \"total_cases\": 5883.0, \"total_infected\": 24747.0, \"n_days\": 23, \"cases\": 5883.0, \"infected\": 24747.0, \"45_line\": 5883.0}, {\"index\": 5378, \"location\": \"Italy\", \"date\": \"2020-03-08T00:00:00\", \"total_cases\": 7375.0, \"total_infected\": 27980.0, \"n_days\": 24, \"cases\": 7375.0, \"infected\": 27980.0, \"45_line\": 7375.0}, {\"index\": 5379, \"location\": \"Italy\", \"date\": \"2020-03-09T00:00:00\", \"total_cases\": 9172.0, \"total_infected\": 31505.999999999996, \"n_days\": 25, \"cases\": 9172.0, \"infected\": 31505.999999999996, \"45_line\": 9172.0}, {\"index\": 5380, \"location\": \"Italy\", \"date\": \"2020-03-10T00:00:00\", \"total_cases\": 10149.0, \"total_infected\": 35713.0, \"n_days\": 26, \"cases\": 10149.0, \"infected\": 35713.0, \"45_line\": 10149.0}, {\"index\": 5381, \"location\": \"Italy\", \"date\": \"2020-03-11T00:00:00\", \"total_cases\": 12462.0, \"total_infected\": 41035.0, \"n_days\": 27, \"cases\": 12462.0, \"infected\": 41035.0, \"45_line\": 12462.0}, {\"index\": 5382, \"location\": \"Italy\", \"date\": \"2020-03-12T00:00:00\", \"total_cases\": 12462.0, \"total_infected\": 47021.0, \"n_days\": 28, \"cases\": 12462.0, \"infected\": 47021.0, \"45_line\": 12462.0}, {\"index\": 5383, \"location\": \"Italy\", \"date\": \"2020-03-13T00:00:00\", \"total_cases\": 17660.0, \"total_infected\": 53578.0, \"n_days\": 29, \"cases\": 17660.0, \"infected\": 53578.0, \"45_line\": 17660.0}, {\"index\": 5384, \"location\": \"Italy\", \"date\": \"2020-03-14T00:00:00\", \"total_cases\": 21157.0, \"total_infected\": 59138.0, \"n_days\": 30, \"cases\": 21157.0, \"infected\": 59138.0, \"45_line\": 21157.0}, {\"index\": 5385, \"location\": \"Italy\", \"date\": \"2020-03-15T00:00:00\", \"total_cases\": 24747.0, \"total_infected\": 59138.0, \"n_days\": 31, \"cases\": 24747.0, \"infected\": 59138.0, \"45_line\": 24747.0}, {\"index\": 5386, \"location\": \"Italy\", \"date\": \"2020-03-16T00:00:00\", \"total_cases\": 27980.0, \"total_infected\": 74383.96087473724, \"n_days\": 32, \"cases\": 27980.0, \"infected\": 74383.96087473724, \"45_line\": 27980.0}, {\"index\": 5387, \"location\": \"Italy\", \"date\": \"2020-03-17T00:00:00\", \"total_cases\": 31506.0, \"total_infected\": 93560.37802114445, \"n_days\": 33, \"cases\": 31506.0, \"infected\": 93560.37802114445, \"45_line\": 31506.0}, {\"index\": 5388, \"location\": \"Italy\", \"date\": \"2020-03-18T00:00:00\", \"total_cases\": 35713.0, \"total_infected\": 117680.53532670085, \"n_days\": 34, \"cases\": 35713.0, \"infected\": 117680.53532670085, \"45_line\": 35713.0}, {\"index\": 5389, \"location\": \"Italy\", \"date\": \"2020-03-19T00:00:00\", \"total_cases\": 41035.0, \"total_infected\": 148018.94442590972, \"n_days\": 35, \"cases\": 41035.0, \"infected\": 148018.94442590972, \"45_line\": 41035.0}, {\"index\": 5390, \"location\": \"Italy\", \"date\": \"2020-03-20T00:00:00\", \"total_cases\": 47021.0, \"total_infected\": 186178.6900283536, \"n_days\": 36, \"cases\": 47021.0, \"infected\": 186178.6900283536, \"45_line\": 47021.0}, {\"index\": 5391, \"location\": \"Italy\", \"date\": \"2020-03-21T00:00:00\", \"total_cases\": 53578.0, \"total_infected\": 234176.13708239855, \"n_days\": 37, \"cases\": 53578.0, \"infected\": 234176.13708239855, \"45_line\": 53578.0}, {\"index\": 5392, \"location\": \"Italy\", \"date\": \"2020-03-22T00:00:00\", \"total_cases\": 59138.0, \"total_infected\": 294547.4757099367, \"n_days\": 38, \"cases\": 59138.0, \"infected\": 294547.4757099367, \"45_line\": 59138.0}, {\"index\": 5393, \"location\": \"Italy\", \"date\": \"2020-03-23T00:00:00\", \"total_cases\": 59138.0, \"total_infected\": 370482.73375766084, \"n_days\": 39, \"cases\": 59138.0, \"infected\": 370482.73375766084, \"45_line\": 59138.0}, {\"index\": 9643, \"location\": \"Spain\", \"date\": \"2020-02-24T00:00:00\", \"total_cases\": 2.0, \"total_infected\": 165.0, \"n_days\": 0, \"cases\": 2.0, \"infected\": 165.0, \"45_line\": 2.0}, {\"index\": 9644, \"location\": \"Spain\", \"date\": \"2020-02-25T00:00:00\", \"total_cases\": 6.0, \"total_infected\": 222.0, \"n_days\": 1, \"cases\": 6.0, \"infected\": 222.0, \"45_line\": 6.0}, {\"index\": 9645, \"location\": \"Spain\", \"date\": \"2020-02-26T00:00:00\", \"total_cases\": 13.0, \"total_infected\": 259.0, \"n_days\": 2, \"cases\": 13.0, \"infected\": 259.0, \"45_line\": 13.0}, {\"index\": 9646, \"location\": \"Spain\", \"date\": \"2020-02-27T00:00:00\", \"total_cases\": 15.0, \"total_infected\": 400.0, \"n_days\": 3, \"cases\": 15.0, \"infected\": 400.0, \"45_line\": 15.0}, {\"index\": 9647, \"location\": \"Spain\", \"date\": \"2020-02-28T00:00:00\", \"total_cases\": 32.0, \"total_infected\": 500.0, \"n_days\": 4, \"cases\": 32.0, \"infected\": 500.0, \"45_line\": 32.0}, {\"index\": 9648, \"location\": \"Spain\", \"date\": \"2020-02-29T00:00:00\", \"total_cases\": 45.0, \"total_infected\": 673.0, \"n_days\": 5, \"cases\": 45.0, \"infected\": 673.0, \"45_line\": 45.0}, {\"index\": 9649, \"location\": \"Spain\", \"date\": \"2020-03-01T00:00:00\", \"total_cases\": 84.0, \"total_infected\": 1073.0, \"n_days\": 6, \"cases\": 84.0, \"infected\": 1073.0, \"45_line\": 84.0}, {\"index\": 9650, \"location\": \"Spain\", \"date\": \"2020-03-02T00:00:00\", \"total_cases\": 120.0, \"total_infected\": 1695.0, \"n_days\": 7, \"cases\": 120.0, \"infected\": 1695.0, \"45_line\": 120.0}, {\"index\": 9651, \"location\": \"Spain\", \"date\": \"2020-03-03T00:00:00\", \"total_cases\": 165.0, \"total_infected\": 2277.0, \"n_days\": 8, \"cases\": 165.0, \"infected\": 2277.0, \"45_line\": 165.0}, {\"index\": 9652, \"location\": \"Spain\", \"date\": \"2020-03-04T00:00:00\", \"total_cases\": 222.0, \"total_infected\": 2277.0, \"n_days\": 9, \"cases\": 222.0, \"infected\": 2277.0, \"45_line\": 222.0}, {\"index\": 9653, \"location\": \"Spain\", \"date\": \"2020-03-05T00:00:00\", \"total_cases\": 259.0, \"total_infected\": 5232.0, \"n_days\": 10, \"cases\": 259.0, \"infected\": 5232.0, \"45_line\": 259.0}, {\"index\": 9654, \"location\": \"Spain\", \"date\": \"2020-03-06T00:00:00\", \"total_cases\": 400.0, \"total_infected\": 6391.0, \"n_days\": 11, \"cases\": 400.0, \"infected\": 6391.0, \"45_line\": 400.0}, {\"index\": 9655, \"location\": \"Spain\", \"date\": \"2020-03-07T00:00:00\", \"total_cases\": 500.0, \"total_infected\": 7798.0, \"n_days\": 12, \"cases\": 500.0, \"infected\": 7798.0, \"45_line\": 500.0}, {\"index\": 9656, \"location\": \"Spain\", \"date\": \"2020-03-08T00:00:00\", \"total_cases\": 673.0, \"total_infected\": 9942.0, \"n_days\": 13, \"cases\": 673.0, \"infected\": 9942.0, \"45_line\": 673.0}, {\"index\": 9657, \"location\": \"Spain\", \"date\": \"2020-03-09T00:00:00\", \"total_cases\": 1073.0, \"total_infected\": 11748.0, \"n_days\": 14, \"cases\": 1073.0, \"infected\": 11748.0, \"45_line\": 1073.0}, {\"index\": 9658, \"location\": \"Spain\", \"date\": \"2020-03-10T00:00:00\", \"total_cases\": 1695.0, \"total_infected\": 13909.999999999998, \"n_days\": 15, \"cases\": 1695.0, \"infected\": 13909.999999999998, \"45_line\": 1695.0}, {\"index\": 9659, \"location\": \"Spain\", \"date\": \"2020-03-11T00:00:00\", \"total_cases\": 2277.0, \"total_infected\": 17963.0, \"n_days\": 16, \"cases\": 2277.0, \"infected\": 17963.0, \"45_line\": 2277.0}, {\"index\": 9660, \"location\": \"Spain\", \"date\": \"2020-03-12T00:00:00\", \"total_cases\": 2277.0, \"total_infected\": 20410.0, \"n_days\": 17, \"cases\": 2277.0, \"infected\": 20410.0, \"45_line\": 2277.0}, {\"index\": 9661, \"location\": \"Spain\", \"date\": \"2020-03-13T00:00:00\", \"total_cases\": 5232.0, \"total_infected\": 25374.0, \"n_days\": 18, \"cases\": 5232.0, \"infected\": 25374.0, \"45_line\": 5232.0}, {\"index\": 9662, \"location\": \"Spain\", \"date\": \"2020-03-14T00:00:00\", \"total_cases\": 6391.0, \"total_infected\": 28768.0, \"n_days\": 19, \"cases\": 6391.0, \"infected\": 28768.0, \"45_line\": 6391.0}, {\"index\": 9663, \"location\": \"Spain\", \"date\": \"2020-03-15T00:00:00\", \"total_cases\": 7798.0, \"total_infected\": 28768.0, \"n_days\": 20, \"cases\": 7798.0, \"infected\": 28768.0, \"45_line\": 7798.0}, {\"index\": 9664, \"location\": \"Spain\", \"date\": \"2020-03-16T00:00:00\", \"total_cases\": 9942.0, \"total_infected\": 36191.68806971251, \"n_days\": 21, \"cases\": 9942.0, \"infected\": 36191.68806971251, \"45_line\": 9942.0}, {\"index\": 9665, \"location\": \"Spain\", \"date\": \"2020-03-17T00:00:00\", \"total_cases\": 11748.0, \"total_infected\": 45531.08611427179, \"n_days\": 22, \"cases\": 11748.0, \"infected\": 45531.08611427179, \"45_line\": 11748.0}, {\"index\": 9666, \"location\": \"Spain\", \"date\": \"2020-03-18T00:00:00\", \"total_cases\": 13910.0, \"total_infected\": 57280.55012941266, \"n_days\": 23, \"cases\": 13910.0, \"infected\": 57280.55012941266, \"45_line\": 13910.0}, {\"index\": 9667, \"location\": \"Spain\", \"date\": \"2020-03-19T00:00:00\", \"total_cases\": 17963.0, \"total_infected\": 72062.00649142219, \"n_days\": 24, \"cases\": 17963.0, \"infected\": 72062.00649142219, \"45_line\": 17963.0}, {\"index\": 9668, \"location\": \"Spain\", \"date\": \"2020-03-20T00:00:00\", \"total_cases\": 20410.0, \"total_infected\": 90657.87196242873, \"n_days\": 25, \"cases\": 20410.0, \"infected\": 90657.87196242873, \"45_line\": 20410.0}, {\"index\": 9669, \"location\": \"Spain\", \"date\": \"2020-03-21T00:00:00\", \"total_cases\": 25374.0, \"total_infected\": 114052.46882397651, \"n_days\": 26, \"cases\": 25374.0, \"infected\": 114052.46882397651, \"45_line\": 25374.0}, {\"index\": 9670, \"location\": \"Spain\", \"date\": \"2020-03-22T00:00:00\", \"total_cases\": 28768.0, \"total_infected\": 143484.12733794385, \"n_days\": 27, \"cases\": 28768.0, \"infected\": 143484.12733794385, \"45_line\": 28768.0}, {\"index\": 9671, \"location\": \"Spain\", \"date\": \"2020-03-23T00:00:00\", \"total_cases\": 28768.0, \"total_infected\": 180510.73343888254, \"n_days\": 28, \"cases\": 28768.0, \"infected\": 180510.73343888254, \"45_line\": 28768.0}, {\"index\": 3674, \"location\": \"France\", \"date\": \"2020-02-07T00:00:00\", \"total_cases\": 6.0, \"total_infected\": 12.0, \"n_days\": 0, \"cases\": 6.0, \"infected\": 12.0, \"45_line\": 6.0}, {\"index\": 3675, \"location\": \"France\", \"date\": \"2020-02-08T00:00:00\", \"total_cases\": 11.0, \"total_infected\": 12.0, \"n_days\": 1, \"cases\": 11.0, \"infected\": 12.0, \"45_line\": 11.0}, {\"index\": 3676, \"location\": \"France\", \"date\": \"2020-02-09T00:00:00\", \"total_cases\": 11.0, \"total_infected\": 12.0, \"n_days\": 2, \"cases\": 11.0, \"infected\": 12.0, \"45_line\": 11.0}, {\"index\": 3677, \"location\": \"France\", \"date\": \"2020-02-10T00:00:00\", \"total_cases\": 11.0, \"total_infected\": 12.0, \"n_days\": 3, \"cases\": 11.0, \"infected\": 12.0, \"45_line\": 11.0}, {\"index\": 3678, \"location\": \"France\", \"date\": \"2020-02-11T00:00:00\", \"total_cases\": 11.0, \"total_infected\": 12.0, \"n_days\": 4, \"cases\": 11.0, \"infected\": 12.0, \"45_line\": 11.0}, {\"index\": 3679, \"location\": \"France\", \"date\": \"2020-02-12T00:00:00\", \"total_cases\": 11.0, \"total_infected\": 12.0, \"n_days\": 5, \"cases\": 11.0, \"infected\": 12.0, \"45_line\": 11.0}, {\"index\": 3680, \"location\": \"France\", \"date\": \"2020-02-13T00:00:00\", \"total_cases\": 11.0, \"total_infected\": 12.0, \"n_days\": 6, \"cases\": 11.0, \"infected\": 12.0, \"45_line\": 11.0}, {\"index\": 3681, \"location\": \"France\", \"date\": \"2020-02-14T00:00:00\", \"total_cases\": 11.0, \"total_infected\": 12.0, \"n_days\": 7, \"cases\": 11.0, \"infected\": 12.0, \"45_line\": 11.0}, {\"index\": 3682, \"location\": \"France\", \"date\": \"2020-02-15T00:00:00\", \"total_cases\": 12.0, \"total_infected\": 12.0, \"n_days\": 8, \"cases\": 12.0, \"infected\": 12.0, \"45_line\": 12.0}, {\"index\": 3683, \"location\": \"France\", \"date\": \"2020-02-16T00:00:00\", \"total_cases\": 12.0, \"total_infected\": 12.0, \"n_days\": 9, \"cases\": 12.0, \"infected\": 12.0, \"45_line\": 12.0}, {\"index\": 3684, \"location\": \"France\", \"date\": \"2020-02-17T00:00:00\", \"total_cases\": 12.0, \"total_infected\": 14.0, \"n_days\": 10, \"cases\": 12.0, \"infected\": 14.0, \"45_line\": 12.0}, {\"index\": 3685, \"location\": \"France\", \"date\": \"2020-02-18T00:00:00\", \"total_cases\": 12.0, \"total_infected\": 18.0, \"n_days\": 11, \"cases\": 12.0, \"infected\": 18.0, \"45_line\": 12.0}, {\"index\": 3686, \"location\": \"France\", \"date\": \"2020-02-19T00:00:00\", \"total_cases\": 12.0, \"total_infected\": 38.0, \"n_days\": 12, \"cases\": 12.0, \"infected\": 38.0, \"45_line\": 12.0}, {\"index\": 3687, \"location\": \"France\", \"date\": \"2020-02-20T00:00:00\", \"total_cases\": 12.0, \"total_infected\": 57.0, \"n_days\": 13, \"cases\": 12.0, \"infected\": 57.0, \"45_line\": 12.0}, {\"index\": 3688, \"location\": \"France\", \"date\": \"2020-02-21T00:00:00\", \"total_cases\": 12.0, \"total_infected\": 100.0, \"n_days\": 14, \"cases\": 12.0, \"infected\": 100.0, \"45_line\": 12.0}, {\"index\": 3689, \"location\": \"France\", \"date\": \"2020-02-22T00:00:00\", \"total_cases\": 12.0, \"total_infected\": 130.0, \"n_days\": 15, \"cases\": 12.0, \"infected\": 130.0, \"45_line\": 12.0}, {\"index\": 3690, \"location\": \"France\", \"date\": \"2020-02-23T00:00:00\", \"total_cases\": 12.0, \"total_infected\": 191.0, \"n_days\": 16, \"cases\": 12.0, \"infected\": 191.0, \"45_line\": 12.0}, {\"index\": 3691, \"location\": \"France\", \"date\": \"2020-02-24T00:00:00\", \"total_cases\": 12.0, \"total_infected\": 204.0, \"n_days\": 17, \"cases\": 12.0, \"infected\": 204.0, \"45_line\": 12.0}, {\"index\": 3692, \"location\": \"France\", \"date\": \"2020-02-25T00:00:00\", \"total_cases\": 14.0, \"total_infected\": 288.0, \"n_days\": 18, \"cases\": 14.0, \"infected\": 288.0, \"45_line\": 14.0}, {\"index\": 3693, \"location\": \"France\", \"date\": \"2020-02-26T00:00:00\", \"total_cases\": 18.0, \"total_infected\": 380.0, \"n_days\": 19, \"cases\": 18.0, \"infected\": 380.0, \"45_line\": 18.0}, {\"index\": 3694, \"location\": \"France\", \"date\": \"2020-02-27T00:00:00\", \"total_cases\": 38.0, \"total_infected\": 656.0, \"n_days\": 20, \"cases\": 38.0, \"infected\": 656.0, \"45_line\": 38.0}, {\"index\": 3695, \"location\": \"France\", \"date\": \"2020-02-28T00:00:00\", \"total_cases\": 57.0, \"total_infected\": 957.0, \"n_days\": 21, \"cases\": 57.0, \"infected\": 957.0, \"45_line\": 57.0}, {\"index\": 3696, \"location\": \"France\", \"date\": \"2020-02-29T00:00:00\", \"total_cases\": 100.0, \"total_infected\": 1134.0, \"n_days\": 22, \"cases\": 100.0, \"infected\": 1134.0, \"45_line\": 100.0}, {\"index\": 3697, \"location\": \"France\", \"date\": \"2020-03-01T00:00:00\", \"total_cases\": 130.0, \"total_infected\": 1217.0, \"n_days\": 23, \"cases\": 130.0, \"infected\": 1217.0, \"45_line\": 130.0}, {\"index\": 3698, \"location\": \"France\", \"date\": \"2020-03-02T00:00:00\", \"total_cases\": 191.0, \"total_infected\": 1792.0, \"n_days\": 24, \"cases\": 191.0, \"infected\": 1792.0, \"45_line\": 191.0}, {\"index\": 3699, \"location\": \"France\", \"date\": \"2020-03-03T00:00:00\", \"total_cases\": 204.0, \"total_infected\": 2290.0, \"n_days\": 25, \"cases\": 204.0, \"infected\": 2290.0, \"45_line\": 204.0}, {\"index\": 3700, \"location\": \"France\", \"date\": \"2020-03-04T00:00:00\", \"total_cases\": 288.0, \"total_infected\": 2290.0, \"n_days\": 26, \"cases\": 288.0, \"infected\": 2290.0, \"45_line\": 288.0}, {\"index\": 3701, \"location\": \"France\", \"date\": \"2020-03-05T00:00:00\", \"total_cases\": 380.0, \"total_infected\": 3678.0, \"n_days\": 27, \"cases\": 380.0, \"infected\": 3678.0, \"45_line\": 380.0}, {\"index\": 3702, \"location\": \"France\", \"date\": \"2020-03-06T00:00:00\", \"total_cases\": 656.0, \"total_infected\": 4487.0, \"n_days\": 28, \"cases\": 656.0, \"infected\": 4487.0, \"45_line\": 656.0}, {\"index\": 3703, \"location\": \"France\", \"date\": \"2020-03-07T00:00:00\", \"total_cases\": 957.0, \"total_infected\": 4523.0, \"n_days\": 29, \"cases\": 957.0, \"infected\": 4523.0, \"45_line\": 957.0}, {\"index\": 3704, \"location\": \"France\", \"date\": \"2020-03-08T00:00:00\", \"total_cases\": 1134.0, \"total_infected\": 6668.0, \"n_days\": 30, \"cases\": 1134.0, \"infected\": 6668.0, \"45_line\": 1134.0}, {\"index\": 3705, \"location\": \"France\", \"date\": \"2020-03-09T00:00:00\", \"total_cases\": 1217.0, \"total_infected\": 7699.0, \"n_days\": 31, \"cases\": 1217.0, \"infected\": 7699.0, \"45_line\": 1217.0}, {\"index\": 3706, \"location\": \"France\", \"date\": \"2020-03-10T00:00:00\", \"total_cases\": 1792.0, \"total_infected\": 9105.0, \"n_days\": 32, \"cases\": 1792.0, \"infected\": 9105.0, \"45_line\": 1792.0}, {\"index\": 3707, \"location\": \"France\", \"date\": \"2020-03-11T00:00:00\", \"total_cases\": 2290.0, \"total_infected\": 10947.0, \"n_days\": 33, \"cases\": 2290.0, \"infected\": 10947.0, \"45_line\": 2290.0}, {\"index\": 3708, \"location\": \"France\", \"date\": \"2020-03-12T00:00:00\", \"total_cases\": 2290.0, \"total_infected\": 12726.0, \"n_days\": 34, \"cases\": 2290.0, \"infected\": 12726.0, \"45_line\": 2290.0}, {\"index\": 3709, \"location\": \"France\", \"date\": \"2020-03-13T00:00:00\", \"total_cases\": 3678.0, \"total_infected\": 14431.000000000002, \"n_days\": 35, \"cases\": 3678.0, \"infected\": 14431.000000000002, \"45_line\": 3678.0}, {\"index\": 3710, \"location\": \"France\", \"date\": \"2020-03-14T00:00:00\", \"total_cases\": 4487.0, \"total_infected\": 16176.0, \"n_days\": 36, \"cases\": 4487.0, \"infected\": 16176.0, \"45_line\": 4487.0}, {\"index\": 3711, \"location\": \"France\", \"date\": \"2020-03-15T00:00:00\", \"total_cases\": 4523.0, \"total_infected\": 16043.999999999998, \"n_days\": 37, \"cases\": 4523.0, \"infected\": 16043.999999999998, \"45_line\": 4523.0}, {\"index\": 3712, \"location\": \"France\", \"date\": \"2020-03-16T00:00:00\", \"total_cases\": 6668.0, \"total_infected\": 19165.288035433066, \"n_days\": 38, \"cases\": 6668.0, \"infected\": 19165.288035433066, \"45_line\": 6668.0}, {\"index\": 3713, \"location\": \"France\", \"date\": \"2020-03-17T00:00:00\", \"total_cases\": 7699.0, \"total_infected\": 22893.808618867733, \"n_days\": 39, \"cases\": 7699.0, \"infected\": 22893.808618867733, \"45_line\": 7699.0}, {\"index\": 3714, \"location\": \"France\", \"date\": \"2020-03-18T00:00:00\", \"total_cases\": 9105.0, \"total_infected\": 27347.696111236615, \"n_days\": 40, \"cases\": 9105.0, \"infected\": 27347.696111236615, \"45_line\": 9105.0}, {\"index\": 3715, \"location\": \"France\", \"date\": \"2020-03-19T00:00:00\", \"total_cases\": 10947.0, \"total_infected\": 32668.067382033318, \"n_days\": 41, \"cases\": 10947.0, \"infected\": 32668.067382033318, \"45_line\": 10947.0}, {\"index\": 3716, \"location\": \"France\", \"date\": \"2020-03-20T00:00:00\", \"total_cases\": 12726.0, \"total_infected\": 39023.492952979585, \"n_days\": 42, \"cases\": 12726.0, \"infected\": 39023.492952979585, \"45_line\": 12726.0}, {\"index\": 3717, \"location\": \"France\", \"date\": \"2020-03-21T00:00:00\", \"total_cases\": 14431.0, \"total_infected\": 46615.337982582045, \"n_days\": 43, \"cases\": 14431.0, \"infected\": 46615.337982582045, \"45_line\": 14431.0}, {\"index\": 3718, \"location\": \"France\", \"date\": \"2020-03-22T00:00:00\", \"total_cases\": 16176.0, \"total_infected\": 55684.14231521119, \"n_days\": 44, \"cases\": 16176.0, \"infected\": 55684.14231521119, \"45_line\": 16176.0}, {\"index\": 3719, \"location\": \"France\", \"date\": \"2020-03-23T00:00:00\", \"total_cases\": 16044.0, \"total_infected\": 66517.24174003174, \"n_days\": 45, \"cases\": 16044.0, \"infected\": 66517.24174003174, \"45_line\": 16044.0}, {\"index\": 10885, \"location\": \"United Kingdom\", \"date\": \"2020-02-26T00:00:00\", \"total_cases\": 13.0, \"total_infected\": 116.0, \"n_days\": 0, \"cases\": 13.0, \"infected\": 116.0, \"45_line\": 13.0}, {\"index\": 10886, \"location\": \"United Kingdom\", \"date\": \"2020-02-27T00:00:00\", \"total_cases\": 15.0, \"total_infected\": 164.0, \"n_days\": 1, \"cases\": 15.0, \"infected\": 164.0, \"45_line\": 15.0}, {\"index\": 10887, \"location\": \"United Kingdom\", \"date\": \"2020-02-28T00:00:00\", \"total_cases\": 20.0, \"total_infected\": 207.0, \"n_days\": 2, \"cases\": 20.0, \"infected\": 207.0, \"45_line\": 20.0}, {\"index\": 10888, \"location\": \"United Kingdom\", \"date\": \"2020-02-29T00:00:00\", \"total_cases\": 23.0, \"total_infected\": 274.0, \"n_days\": 3, \"cases\": 23.0, \"infected\": 274.0, \"45_line\": 23.0}, {\"index\": 10889, \"location\": \"United Kingdom\", \"date\": \"2020-03-01T00:00:00\", \"total_cases\": 36.0, \"total_infected\": 322.0, \"n_days\": 4, \"cases\": 36.0, \"infected\": 322.0, \"45_line\": 36.0}, {\"index\": 10890, \"location\": \"United Kingdom\", \"date\": \"2020-03-02T00:00:00\", \"total_cases\": 40.0, \"total_infected\": 384.0, \"n_days\": 5, \"cases\": 40.0, \"infected\": 384.0, \"45_line\": 40.0}, {\"index\": 10891, \"location\": \"United Kingdom\", \"date\": \"2020-03-03T00:00:00\", \"total_cases\": 51.0, \"total_infected\": 458.99999999999994, \"n_days\": 6, \"cases\": 51.0, \"infected\": 458.99999999999994, \"45_line\": 51.0}, {\"index\": 10892, \"location\": \"United Kingdom\", \"date\": \"2020-03-04T00:00:00\", \"total_cases\": 86.0, \"total_infected\": 458.99999999999994, \"n_days\": 7, \"cases\": 86.0, \"infected\": 458.99999999999994, \"45_line\": 86.0}, {\"index\": 10893, \"location\": \"United Kingdom\", \"date\": \"2020-03-05T00:00:00\", \"total_cases\": 116.0, \"total_infected\": 802.0, \"n_days\": 8, \"cases\": 116.0, \"infected\": 802.0, \"45_line\": 116.0}, {\"index\": 10894, \"location\": \"United Kingdom\", \"date\": \"2020-03-06T00:00:00\", \"total_cases\": 164.0, \"total_infected\": 1144.0, \"n_days\": 9, \"cases\": 164.0, \"infected\": 1144.0, \"45_line\": 164.0}, {\"index\": 10895, \"location\": \"United Kingdom\", \"date\": \"2020-03-07T00:00:00\", \"total_cases\": 207.0, \"total_infected\": 1145.0, \"n_days\": 10, \"cases\": 207.0, \"infected\": 1145.0, \"45_line\": 207.0}, {\"index\": 10896, \"location\": \"United Kingdom\", \"date\": \"2020-03-08T00:00:00\", \"total_cases\": 274.0, \"total_infected\": 1551.0, \"n_days\": 11, \"cases\": 274.0, \"infected\": 1551.0, \"45_line\": 274.0}, {\"index\": 10897, \"location\": \"United Kingdom\", \"date\": \"2020-03-09T00:00:00\", \"total_cases\": 322.0, \"total_infected\": 1960.0, \"n_days\": 12, \"cases\": 322.0, \"infected\": 1960.0, \"45_line\": 322.0}, {\"index\": 10898, \"location\": \"United Kingdom\", \"date\": \"2020-03-10T00:00:00\", \"total_cases\": 384.0, \"total_infected\": 2642.0, \"n_days\": 13, \"cases\": 384.0, \"infected\": 2642.0, \"45_line\": 384.0}, {\"index\": 10899, \"location\": \"United Kingdom\", \"date\": \"2020-03-11T00:00:00\", \"total_cases\": 459.0, \"total_infected\": 2716.0, \"n_days\": 14, \"cases\": 459.0, \"infected\": 2716.0, \"45_line\": 459.0}, {\"index\": 10900, \"location\": \"United Kingdom\", \"date\": \"2020-03-12T00:00:00\", \"total_cases\": 459.0, \"total_infected\": 4014.0, \"n_days\": 15, \"cases\": 459.0, \"infected\": 4014.0, \"45_line\": 459.0}, {\"index\": 10901, \"location\": \"United Kingdom\", \"date\": \"2020-03-13T00:00:00\", \"total_cases\": 802.0, \"total_infected\": 5067.0, \"n_days\": 16, \"cases\": 802.0, \"infected\": 5067.0, \"45_line\": 802.0}, {\"index\": 10902, \"location\": \"United Kingdom\", \"date\": \"2020-03-14T00:00:00\", \"total_cases\": 1144.0, \"total_infected\": 5741.0, \"n_days\": 17, \"cases\": 1144.0, \"infected\": 5741.0, \"45_line\": 1144.0}, {\"index\": 10903, \"location\": \"United Kingdom\", \"date\": \"2020-03-15T00:00:00\", \"total_cases\": 1145.0, \"total_infected\": 5741.0, \"n_days\": 18, \"cases\": 1145.0, \"infected\": 5741.0, \"45_line\": 1145.0}, {\"index\": 10904, \"location\": \"United Kingdom\", \"date\": \"2020-03-16T00:00:00\", \"total_cases\": 1551.0, \"total_infected\": 6985.456954617265, \"n_days\": 19, \"cases\": 1551.0, \"infected\": 6985.456954617265, \"45_line\": 1551.0}, {\"index\": 10905, \"location\": \"United Kingdom\", \"date\": \"2020-03-17T00:00:00\", \"total_cases\": 1960.0, \"total_infected\": 8499.67059132742, \"n_days\": 20, \"cases\": 1960.0, \"infected\": 8499.67059132742, \"45_line\": 1960.0}, {\"index\": 10906, \"location\": \"United Kingdom\", \"date\": \"2020-03-18T00:00:00\", \"total_cases\": 2642.0, \"total_infected\": 10342.115144425006, \"n_days\": 21, \"cases\": 2642.0, \"infected\": 10342.115144425006, \"45_line\": 2642.0}, {\"index\": 10907, \"location\": \"United Kingdom\", \"date\": \"2020-03-19T00:00:00\", \"total_cases\": 2716.0, \"total_infected\": 12583.940108182582, \"n_days\": 22, \"cases\": 2716.0, \"infected\": 12583.940108182582, \"45_line\": 2716.0}, {\"index\": 10908, \"location\": \"United Kingdom\", \"date\": \"2020-03-20T00:00:00\", \"total_cases\": 4014.0, \"total_infected\": 15311.717809648346, \"n_days\": 23, \"cases\": 4014.0, \"infected\": 15311.717809648346, \"45_line\": 4014.0}, {\"index\": 10909, \"location\": \"United Kingdom\", \"date\": \"2020-03-21T00:00:00\", \"total_cases\": 5067.0, \"total_infected\": 18630.78656341144, \"n_days\": 24, \"cases\": 5067.0, \"infected\": 18630.78656341144, \"45_line\": 5067.0}, {\"index\": 10910, \"location\": \"United Kingdom\", \"date\": \"2020-03-22T00:00:00\", \"total_cases\": 5741.0, \"total_infected\": 22669.318510603087, \"n_days\": 25, \"cases\": 5741.0, \"infected\": 22669.318510603087, \"45_line\": 5741.0}, {\"index\": 10911, \"location\": \"United Kingdom\", \"date\": \"2020-03-23T00:00:00\", \"total_cases\": 5741.0, \"total_infected\": 27583.26922945937, \"n_days\": 26, \"cases\": 5741.0, \"infected\": 27583.26922945937, \"45_line\": 5741.0}, {\"index\": 4007, \"location\": \"Germany\", \"date\": \"2020-03-01T00:00:00\", \"total_cases\": 130.0, \"total_infected\": 1176.0, \"n_days\": 0, \"cases\": 130.0, \"infected\": 1176.0, \"45_line\": 130.0}, {\"index\": 4008, \"location\": \"Germany\", \"date\": \"2020-03-02T00:00:00\", \"total_cases\": 159.0, \"total_infected\": 1457.0, \"n_days\": 1, \"cases\": 159.0, \"infected\": 1457.0, \"45_line\": 159.0}, {\"index\": 4009, \"location\": \"Germany\", \"date\": \"2020-03-03T00:00:00\", \"total_cases\": 196.0, \"total_infected\": 1908.0, \"n_days\": 2, \"cases\": 196.0, \"infected\": 1908.0, \"45_line\": 196.0}, {\"index\": 4010, \"location\": \"Germany\", \"date\": \"2020-03-04T00:00:00\", \"total_cases\": 262.0, \"total_infected\": 2078.0, \"n_days\": 3, \"cases\": 262.0, \"infected\": 2078.0, \"45_line\": 262.0}, {\"index\": 4011, \"location\": \"Germany\", \"date\": \"2020-03-05T00:00:00\", \"total_cases\": 482.0, \"total_infected\": 3675.0, \"n_days\": 4, \"cases\": 482.0, \"infected\": 3675.0, \"45_line\": 482.0}, {\"index\": 4012, \"location\": \"Germany\", \"date\": \"2020-03-06T00:00:00\", \"total_cases\": 670.0, \"total_infected\": 4585.0, \"n_days\": 5, \"cases\": 670.0, \"infected\": 4585.0, \"45_line\": 670.0}, {\"index\": 4013, \"location\": \"Germany\", \"date\": \"2020-03-07T00:00:00\", \"total_cases\": 799.0, \"total_infected\": 5795.0, \"n_days\": 6, \"cases\": 799.0, \"infected\": 5795.0, \"45_line\": 799.0}, {\"index\": 4014, \"location\": \"Germany\", \"date\": \"2020-03-08T00:00:00\", \"total_cases\": 1040.0, \"total_infected\": 7272.0, \"n_days\": 7, \"cases\": 1040.0, \"infected\": 7272.0, \"45_line\": 1040.0}, {\"index\": 4015, \"location\": \"Germany\", \"date\": \"2020-03-09T00:00:00\", \"total_cases\": 1176.0, \"total_infected\": 9257.0, \"n_days\": 8, \"cases\": 1176.0, \"infected\": 9257.0, \"45_line\": 1176.0}, {\"index\": 4016, \"location\": \"Germany\", \"date\": \"2020-03-10T00:00:00\", \"total_cases\": 1457.0, \"total_infected\": 12327.0, \"n_days\": 9, \"cases\": 1457.0, \"infected\": 12327.0, \"45_line\": 1457.0}, {\"index\": 4017, \"location\": \"Germany\", \"date\": \"2020-03-11T00:00:00\", \"total_cases\": 1908.0, \"total_infected\": 15320.0, \"n_days\": 10, \"cases\": 1908.0, \"infected\": 15320.0, \"45_line\": 1908.0}, {\"index\": 4018, \"location\": \"Germany\", \"date\": \"2020-03-12T00:00:00\", \"total_cases\": 2078.0, \"total_infected\": 19848.0, \"n_days\": 11, \"cases\": 2078.0, \"infected\": 19848.0, \"45_line\": 2078.0}, {\"index\": 4019, \"location\": \"Germany\", \"date\": \"2020-03-13T00:00:00\", \"total_cases\": 3675.0, \"total_infected\": 22213.0, \"n_days\": 12, \"cases\": 3675.0, \"infected\": 22213.0, \"45_line\": 3675.0}, {\"index\": 4020, \"location\": \"Germany\", \"date\": \"2020-03-14T00:00:00\", \"total_cases\": 4585.0, \"total_infected\": 24873.0, \"n_days\": 13, \"cases\": 4585.0, \"infected\": 24873.0, \"45_line\": 4585.0}, {\"index\": 4021, \"location\": \"Germany\", \"date\": \"2020-03-15T00:00:00\", \"total_cases\": 5795.0, \"total_infected\": 24873.0, \"n_days\": 14, \"cases\": 5795.0, \"infected\": 24873.0, \"45_line\": 5795.0}, {\"index\": 4022, \"location\": \"Germany\", \"date\": \"2020-03-16T00:00:00\", \"total_cases\": 7272.0, \"total_infected\": 30294.717098324756, \"n_days\": 15, \"cases\": 7272.0, \"infected\": 30294.717098324756, \"45_line\": 7272.0}, {\"index\": 4023, \"location\": \"Germany\", \"date\": \"2020-03-17T00:00:00\", \"total_cases\": 9257.0, \"total_infected\": 36898.23841384354, \"n_days\": 16, \"cases\": 9257.0, \"infected\": 36898.23841384354, \"45_line\": 9257.0}, {\"index\": 4024, \"location\": \"Germany\", \"date\": \"2020-03-18T00:00:00\", \"total_cases\": 12327.0, \"total_infected\": 44941.168904994534, \"n_days\": 17, \"cases\": 12327.0, \"infected\": 44941.168904994534, \"45_line\": 12327.0}, {\"index\": 4025, \"location\": \"Germany\", \"date\": \"2020-03-19T00:00:00\", \"total_cases\": 15320.0, \"total_infected\": 54737.26522915767, \"n_days\": 18, \"cases\": 15320.0, \"infected\": 54737.26522915767, \"45_line\": 15320.0}, {\"index\": 4026, \"location\": \"Germany\", \"date\": \"2020-03-20T00:00:00\", \"total_cases\": 19848.0, \"total_infected\": 66668.67546549672, \"n_days\": 19, \"cases\": 19848.0, \"infected\": 66668.67546549672, \"45_line\": 19848.0}, {\"index\": 4027, \"location\": \"Germany\", \"date\": \"2020-03-21T00:00:00\", \"total_cases\": 22213.0, \"total_infected\": 81200.84680365246, \"n_days\": 20, \"cases\": 22213.0, \"infected\": 81200.84680365246, \"45_line\": 22213.0}, {\"index\": 4028, \"location\": \"Germany\", \"date\": \"2020-03-22T00:00:00\", \"total_cases\": 24873.0, \"total_infected\": 98900.68275081652, \"n_days\": 21, \"cases\": 24873.0, \"infected\": 98900.68275081652, \"45_line\": 24873.0}, {\"index\": 4029, \"location\": \"Germany\", \"date\": \"2020-03-23T00:00:00\", \"total_cases\": 24873.0, \"total_infected\": 120458.65817421112, \"n_days\": 22, \"cases\": 24873.0, \"infected\": 120458.65817421112, \"45_line\": 24873.0}, {\"index\": 8355, \"location\": \"Portugal\", \"date\": \"2020-03-09T00:00:00\", \"total_cases\": 30.0, \"total_infected\": 448.0, \"n_days\": 0, \"cases\": 30.0, \"infected\": 448.0, \"45_line\": 30.0}, {\"index\": 8356, \"location\": \"Portugal\", \"date\": \"2020-03-10T00:00:00\", \"total_cases\": 41.0, \"total_infected\": 448.0, \"n_days\": 1, \"cases\": 41.0, \"infected\": 448.0, \"45_line\": 41.0}, {\"index\": 8357, \"location\": \"Portugal\", \"date\": \"2020-03-11T00:00:00\", \"total_cases\": 59.0, \"total_infected\": 785.0, \"n_days\": 2, \"cases\": 59.0, \"infected\": 785.0, \"45_line\": 59.0}, {\"index\": 8358, \"location\": \"Portugal\", \"date\": \"2020-03-12T00:00:00\", \"total_cases\": 59.0, \"total_infected\": 1020.0, \"n_days\": 3, \"cases\": 59.0, \"infected\": 1020.0, \"45_line\": 59.0}, {\"index\": 8359, \"location\": \"Portugal\", \"date\": \"2020-03-13T00:00:00\", \"total_cases\": 112.0, \"total_infected\": 1280.0, \"n_days\": 4, \"cases\": 112.0, \"infected\": 1280.0, \"45_line\": 112.0}, {\"index\": 8360, \"location\": \"Portugal\", \"date\": \"2020-03-14T00:00:00\", \"total_cases\": 169.0, \"total_infected\": 1599.9999999999998, \"n_days\": 5, \"cases\": 169.0, \"infected\": 1599.9999999999998, \"45_line\": 169.0}, {\"index\": 8361, \"location\": \"Portugal\", \"date\": \"2020-03-15T00:00:00\", \"total_cases\": 245.0, \"total_infected\": 1599.9999999999998, \"n_days\": 6, \"cases\": 245.0, \"infected\": 1599.9999999999998, \"45_line\": 245.0}, {\"index\": 8362, \"location\": \"Portugal\", \"date\": \"2020-03-16T00:00:00\", \"total_cases\": 331.0, \"total_infected\": 1939.457513550103, \"n_days\": 7, \"cases\": 331.0, \"infected\": 1939.457513550103, \"45_line\": 331.0}, {\"index\": 8363, \"location\": \"Portugal\", \"date\": \"2020-03-17T00:00:00\", \"total_cases\": 448.0, \"total_infected\": 2350.9346542912176, \"n_days\": 8, \"cases\": 448.0, \"infected\": 2350.9346542912176, \"45_line\": 448.0}, {\"index\": 8364, \"location\": \"Portugal\", \"date\": \"2020-03-18T00:00:00\", \"total_cases\": 448.0, \"total_infected\": 2849.7111744565104, \"n_days\": 9, \"cases\": 448.0, \"infected\": 2849.7111744565104, \"45_line\": 448.0}, {\"index\": 8365, \"location\": \"Portugal\", \"date\": \"2020-03-19T00:00:00\", \"total_cases\": 785.0, \"total_infected\": 3454.308592967105, \"n_days\": 10, \"cases\": 785.0, \"infected\": 3454.308592967105, \"45_line\": 785.0}, {\"index\": 8366, \"location\": \"Portugal\", \"date\": \"2020-03-20T00:00:00\", \"total_cases\": 1020.0, \"total_infected\": 4187.177971719211, \"n_days\": 11, \"cases\": 1020.0, \"infected\": 4187.177971719211, \"45_line\": 1020.0}, {\"index\": 8367, \"location\": \"Portugal\", \"date\": \"2020-03-21T00:00:00\", \"total_cases\": 1280.0, \"total_infected\": 5075.5336111389415, \"n_days\": 12, \"cases\": 1280.0, \"infected\": 5075.5336111389415, \"45_line\": 1280.0}, {\"index\": 8368, \"location\": \"Portugal\", \"date\": \"2020-03-22T00:00:00\", \"total_cases\": 1600.0, \"total_infected\": 6152.363623374693, \"n_days\": 13, \"cases\": 1600.0, \"infected\": 6152.363623374693, \"45_line\": 1600.0}, {\"index\": 8369, \"location\": \"Portugal\", \"date\": \"2020-03-23T00:00:00\", \"total_cases\": 1600.0, \"total_infected\": 7457.654909653991, \"n_days\": 14, \"cases\": 1600.0, \"infected\": 7457.654909653991, \"45_line\": 1600.0}, {\"index\": 10942, \"location\": \"United States\", \"date\": \"2020-02-21T00:00:00\", \"total_cases\": 15.0, \"total_infected\": 68.0, \"n_days\": 0, \"cases\": 15.0, \"infected\": 68.0, \"45_line\": 15.0}, {\"index\": 10943, \"location\": \"United States\", \"date\": \"2020-02-22T00:00:00\", \"total_cases\": 15.0, \"total_infected\": 74.0, \"n_days\": 1, \"cases\": 15.0, \"infected\": 74.0, \"45_line\": 15.0}, {\"index\": 10944, \"location\": \"United States\", \"date\": \"2020-02-23T00:00:00\", \"total_cases\": 15.0, \"total_infected\": 98.0, \"n_days\": 2, \"cases\": 15.0, \"infected\": 98.0, \"45_line\": 15.0}, {\"index\": 10945, \"location\": \"United States\", \"date\": \"2020-02-24T00:00:00\", \"total_cases\": 51.0, \"total_infected\": 118.0, \"n_days\": 3, \"cases\": 51.0, \"infected\": 118.0, \"45_line\": 51.0}, {\"index\": 10946, \"location\": \"United States\", \"date\": \"2020-02-25T00:00:00\", \"total_cases\": 51.0, \"total_infected\": 149.0, \"n_days\": 4, \"cases\": 51.0, \"infected\": 149.0, \"45_line\": 51.0}, {\"index\": 10947, \"location\": \"United States\", \"date\": \"2020-02-26T00:00:00\", \"total_cases\": 57.0, \"total_infected\": 217.0, \"n_days\": 5, \"cases\": 57.0, \"infected\": 217.0, \"45_line\": 57.0}, {\"index\": 10948, \"location\": \"United States\", \"date\": \"2020-02-27T00:00:00\", \"total_cases\": 58.0, \"total_infected\": 262.0, \"n_days\": 6, \"cases\": 58.0, \"infected\": 262.0, \"45_line\": 58.0}, {\"index\": 10949, \"location\": \"United States\", \"date\": \"2020-02-28T00:00:00\", \"total_cases\": 60.0, \"total_infected\": 402.0, \"n_days\": 7, \"cases\": 60.0, \"infected\": 402.0, \"45_line\": 60.0}, {\"index\": 10950, \"location\": \"United States\", \"date\": \"2020-02-29T00:00:00\", \"total_cases\": 68.0, \"total_infected\": 518.0, \"n_days\": 8, \"cases\": 68.0, \"infected\": 518.0, \"45_line\": 68.0}, {\"index\": 10951, \"location\": \"United States\", \"date\": \"2020-03-01T00:00:00\", \"total_cases\": 74.0, \"total_infected\": 583.0, \"n_days\": 9, \"cases\": 74.0, \"infected\": 583.0, \"45_line\": 74.0}, {\"index\": 10952, \"location\": \"United States\", \"date\": \"2020-03-02T00:00:00\", \"total_cases\": 98.0, \"total_infected\": 959.0, \"n_days\": 10, \"cases\": 98.0, \"infected\": 959.0, \"45_line\": 98.0}, {\"index\": 10953, \"location\": \"United States\", \"date\": \"2020-03-03T00:00:00\", \"total_cases\": 118.0, \"total_infected\": 1281.0, \"n_days\": 11, \"cases\": 118.0, \"infected\": 1281.0, \"45_line\": 118.0}, {\"index\": 10954, \"location\": \"United States\", \"date\": \"2020-03-04T00:00:00\", \"total_cases\": 149.0, \"total_infected\": 1663.0, \"n_days\": 12, \"cases\": 149.0, \"infected\": 1663.0, \"45_line\": 149.0}, {\"index\": 10955, \"location\": \"United States\", \"date\": \"2020-03-05T00:00:00\", \"total_cases\": 217.0, \"total_infected\": 2179.0, \"n_days\": 13, \"cases\": 217.0, \"infected\": 2179.0, \"45_line\": 217.0}, {\"index\": 10956, \"location\": \"United States\", \"date\": \"2020-03-06T00:00:00\", \"total_cases\": 262.0, \"total_infected\": 2727.0, \"n_days\": 14, \"cases\": 262.0, \"infected\": 2727.0, \"45_line\": 262.0}, {\"index\": 10957, \"location\": \"United States\", \"date\": \"2020-03-07T00:00:00\", \"total_cases\": 402.0, \"total_infected\": 3499.0, \"n_days\": 15, \"cases\": 402.0, \"infected\": 3499.0, \"45_line\": 402.0}, {\"index\": 10958, \"location\": \"United States\", \"date\": \"2020-03-08T00:00:00\", \"total_cases\": 518.0, \"total_infected\": 4632.0, \"n_days\": 16, \"cases\": 518.0, \"infected\": 4632.0, \"45_line\": 518.0}, {\"index\": 10959, \"location\": \"United States\", \"date\": \"2020-03-09T00:00:00\", \"total_cases\": 583.0, \"total_infected\": 6421.0, \"n_days\": 17, \"cases\": 583.0, \"infected\": 6421.0, \"45_line\": 583.0}, {\"index\": 10960, \"location\": \"United States\", \"date\": \"2020-03-10T00:00:00\", \"total_cases\": 959.0, \"total_infected\": 7783.0, \"n_days\": 18, \"cases\": 959.0, \"infected\": 7783.0, \"45_line\": 959.0}, {\"index\": 10961, \"location\": \"United States\", \"date\": \"2020-03-11T00:00:00\", \"total_cases\": 1281.0, \"total_infected\": 13677.0, \"n_days\": 19, \"cases\": 1281.0, \"infected\": 13677.0, \"45_line\": 1281.0}, {\"index\": 10962, \"location\": \"United States\", \"date\": \"2020-03-12T00:00:00\", \"total_cases\": 1663.0, \"total_infected\": 19100.0, \"n_days\": 20, \"cases\": 1663.0, \"infected\": 19100.0, \"45_line\": 1663.0}, {\"index\": 10963, \"location\": \"United States\", \"date\": \"2020-03-13T00:00:00\", \"total_cases\": 2179.0, \"total_infected\": 25489.0, \"n_days\": 21, \"cases\": 2179.0, \"infected\": 25489.0, \"45_line\": 2179.0}, {\"index\": 10964, \"location\": \"United States\", \"date\": \"2020-03-14T00:00:00\", \"total_cases\": 2727.0, \"total_infected\": 33272.0, \"n_days\": 22, \"cases\": 2727.0, \"infected\": 33272.0, \"45_line\": 2727.0}, {\"index\": 10965, \"location\": \"United States\", \"date\": \"2020-03-15T00:00:00\", \"total_cases\": 3499.0, \"total_infected\": 33276.0, \"n_days\": 23, \"cases\": 3499.0, \"infected\": 33276.0, \"45_line\": 3499.0}, {\"index\": 10966, \"location\": \"United States\", \"date\": \"2020-03-16T00:00:00\", \"total_cases\": 4632.0, \"total_infected\": 42236.04621125287, \"n_days\": 24, \"cases\": 4632.0, \"infected\": 42236.04621125287, \"45_line\": 4632.0}, {\"index\": 10967, \"location\": \"United States\", \"date\": \"2020-03-17T00:00:00\", \"total_cases\": 6421.0, \"total_infected\": 53608.714976532276, \"n_days\": 25, \"cases\": 6421.0, \"infected\": 53608.714976532276, \"45_line\": 6421.0}, {\"index\": 10968, \"location\": \"United States\", \"date\": \"2020-03-18T00:00:00\", \"total_cases\": 7783.0, \"total_infected\": 68043.63995296012, \"n_days\": 26, \"cases\": 7783.0, \"infected\": 68043.63995296012, \"45_line\": 7783.0}, {\"index\": 10969, \"location\": \"United States\", \"date\": \"2020-03-19T00:00:00\", \"total_cases\": 13677.0, \"total_infected\": 86365.37809337287, \"n_days\": 27, \"cases\": 13677.0, \"infected\": 86365.37809337287, \"45_line\": 13677.0}, {\"index\": 10970, \"location\": \"United States\", \"date\": \"2020-03-20T00:00:00\", \"total_cases\": 19100.0, \"total_infected\": 109620.51028380884, \"n_days\": 28, \"cases\": 19100.0, \"infected\": 109620.51028380884, \"45_line\": 19100.0}, {\"index\": 10971, \"location\": \"United States\", \"date\": \"2020-03-21T00:00:00\", \"total_cases\": 25489.0, \"total_infected\": 139137.42451160206, \"n_days\": 29, \"cases\": 25489.0, \"infected\": 139137.42451160206, \"45_line\": 25489.0}, {\"index\": 10972, \"location\": \"United States\", \"date\": \"2020-03-22T00:00:00\", \"total_cases\": 33272.0, \"total_infected\": 176602.1965196157, \"n_days\": 30, \"cases\": 33272.0, \"infected\": 176602.1965196157, \"45_line\": 33272.0}, {\"index\": 10973, \"location\": \"United States\", \"date\": \"2020-03-23T00:00:00\", \"total_cases\": 33276.0, \"total_infected\": 224154.90242851456, \"n_days\": 31, \"cases\": 33276.0, \"infected\": 224154.90242851456, \"45_line\": 33276.0}, {\"index\": 9289, \"location\": \"Singapore\", \"date\": \"2020-03-13T00:00:00\", \"total_cases\": 200.0, \"total_infected\": 432.0, \"n_days\": 0, \"cases\": 200.0, \"infected\": 432.0, \"45_line\": 200.0}, {\"index\": 9290, \"location\": \"Singapore\", \"date\": \"2020-03-14T00:00:00\", \"total_cases\": 212.0, \"total_infected\": 455.0, \"n_days\": 1, \"cases\": 212.0, \"infected\": 455.0, \"45_line\": 212.0}, {\"index\": 9291, \"location\": \"Singapore\", \"date\": \"2020-03-15T00:00:00\", \"total_cases\": 226.0, \"total_infected\": 455.0, \"n_days\": 2, \"cases\": 226.0, \"infected\": 455.0, \"45_line\": 226.0}, {\"index\": 9292, \"location\": \"Singapore\", \"date\": \"2020-03-16T00:00:00\", \"total_cases\": 243.0, \"total_infected\": 466.800841485806, \"n_days\": 3, \"cases\": 243.0, \"infected\": 466.800841485806, \"45_line\": 243.0}, {\"index\": 9293, \"location\": \"Singapore\", \"date\": \"2020-03-17T00:00:00\", \"total_cases\": 266.0, \"total_infected\": 478.907748597487, \"n_days\": 4, \"cases\": 266.0, \"infected\": 478.907748597487, \"45_line\": 266.0}, {\"index\": 9294, \"location\": \"Singapore\", \"date\": \"2020-03-18T00:00:00\", \"total_cases\": 313.0, \"total_infected\": 491.32865942720827, \"n_days\": 5, \"cases\": 313.0, \"infected\": 491.32865942720827, \"45_line\": 313.0}, {\"index\": 9295, \"location\": \"Singapore\", \"date\": \"2020-03-19T00:00:00\", \"total_cases\": 345.0, \"total_infected\": 504.0717179488216, \"n_days\": 6, \"cases\": 345.0, \"infected\": 504.0717179488216, \"45_line\": 345.0}, {\"index\": 9296, \"location\": \"Singapore\", \"date\": \"2020-03-20T00:00:00\", \"total_cases\": 385.0, \"total_infected\": 517.1452793575951, \"n_days\": 7, \"cases\": 385.0, \"infected\": 517.1452793575951, \"45_line\": 385.0}, {\"index\": 9297, \"location\": \"Singapore\", \"date\": \"2020-03-21T00:00:00\", \"total_cases\": 432.0, \"total_infected\": 530.5579155484343, \"n_days\": 8, \"cases\": 432.0, \"infected\": 530.5579155484343, \"45_line\": 432.0}, {\"index\": 9298, \"location\": \"Singapore\", \"date\": \"2020-03-22T00:00:00\", \"total_cases\": 455.0, \"total_infected\": 544.3184207361853, \"n_days\": 9, \"cases\": 455.0, \"infected\": 544.3184207361853, \"45_line\": 455.0}, {\"index\": 9299, \"location\": \"Singapore\", \"date\": \"2020-03-23T00:00:00\", \"total_cases\": 455.0, \"total_infected\": 558.4358172217062, \"n_days\": 10, \"cases\": 455.0, \"infected\": 558.4358172217062, \"45_line\": 455.0}, {\"index\": 9569, \"location\": \"South Korea\", \"date\": \"2020-02-12T00:00:00\", \"total_cases\": 28.0, \"total_infected\": 104.0, \"n_days\": 0, \"cases\": 28.0, \"infected\": 104.0, \"45_line\": 28.0}, {\"index\": 9570, \"location\": \"South Korea\", \"date\": \"2020-02-13T00:00:00\", \"total_cases\": 28.0, \"total_infected\": 204.0, \"n_days\": 1, \"cases\": 28.0, \"infected\": 204.0, \"45_line\": 28.0}, {\"index\": 9571, \"location\": \"South Korea\", \"date\": \"2020-02-14T00:00:00\", \"total_cases\": 28.0, \"total_infected\": 433.0, \"n_days\": 2, \"cases\": 28.0, \"infected\": 433.0, \"45_line\": 28.0}, {\"index\": 9572, \"location\": \"South Korea\", \"date\": \"2020-02-15T00:00:00\", \"total_cases\": 28.0, \"total_infected\": 602.0, \"n_days\": 3, \"cases\": 28.0, \"infected\": 602.0, \"45_line\": 28.0}, {\"index\": 9573, \"location\": \"South Korea\", \"date\": \"2020-02-16T00:00:00\", \"total_cases\": 29.0, \"total_infected\": 833.0000000000001, \"n_days\": 4, \"cases\": 29.0, \"infected\": 833.0000000000001, \"45_line\": 29.0}, {\"index\": 9574, \"location\": \"South Korea\", \"date\": \"2020-02-17T00:00:00\", \"total_cases\": 30.0, \"total_infected\": 976.9999999999999, \"n_days\": 5, \"cases\": 30.0, \"infected\": 976.9999999999999, \"45_line\": 30.0}, {\"index\": 9575, \"location\": \"South Korea\", \"date\": \"2020-02-18T00:00:00\", \"total_cases\": 31.0, \"total_infected\": 1261.0, \"n_days\": 6, \"cases\": 31.0, \"infected\": 1261.0, \"45_line\": 31.0}, {\"index\": 9576, \"location\": \"South Korea\", \"date\": \"2020-02-19T00:00:00\", \"total_cases\": 31.0, \"total_infected\": 1766.0, \"n_days\": 7, \"cases\": 31.0, \"infected\": 1766.0, \"45_line\": 31.0}, {\"index\": 9577, \"location\": \"South Korea\", \"date\": \"2020-02-20T00:00:00\", \"total_cases\": 104.0, \"total_infected\": 2337.0, \"n_days\": 8, \"cases\": 104.0, \"infected\": 2337.0, \"45_line\": 104.0}, {\"index\": 9578, \"location\": \"South Korea\", \"date\": \"2020-02-21T00:00:00\", \"total_cases\": 204.0, \"total_infected\": 3150.0, \"n_days\": 9, \"cases\": 204.0, \"infected\": 3150.0, \"45_line\": 204.0}, {\"index\": 9579, \"location\": \"South Korea\", \"date\": \"2020-02-22T00:00:00\", \"total_cases\": 433.0, \"total_infected\": 3736.0000000000005, \"n_days\": 10, \"cases\": 433.0, \"infected\": 3736.0000000000005, \"45_line\": 433.0}, {\"index\": 9580, \"location\": \"South Korea\", \"date\": \"2020-02-23T00:00:00\", \"total_cases\": 602.0, \"total_infected\": 4335.0, \"n_days\": 11, \"cases\": 602.0, \"infected\": 4335.0, \"45_line\": 602.0}, {\"index\": 9581, \"location\": \"South Korea\", \"date\": \"2020-02-24T00:00:00\", \"total_cases\": 833.0, \"total_infected\": 5186.0, \"n_days\": 12, \"cases\": 833.0, \"infected\": 5186.0, \"45_line\": 833.0}, {\"index\": 9582, \"location\": \"South Korea\", \"date\": \"2020-02-25T00:00:00\", \"total_cases\": 977.0, \"total_infected\": 5621.0, \"n_days\": 13, \"cases\": 977.0, \"infected\": 5621.0, \"45_line\": 977.0}, {\"index\": 9583, \"location\": \"South Korea\", \"date\": \"2020-02-26T00:00:00\", \"total_cases\": 1261.0, \"total_infected\": 6088.0, \"n_days\": 14, \"cases\": 1261.0, \"infected\": 6088.0, \"45_line\": 1261.0}, {\"index\": 9584, \"location\": \"South Korea\", \"date\": \"2020-02-27T00:00:00\", \"total_cases\": 1766.0, \"total_infected\": 6593.0, \"n_days\": 15, \"cases\": 1766.0, \"infected\": 6593.0, \"45_line\": 1766.0}, {\"index\": 9585, \"location\": \"South Korea\", \"date\": \"2020-02-28T00:00:00\", \"total_cases\": 2337.0, \"total_infected\": 7041.0, \"n_days\": 16, \"cases\": 2337.0, \"infected\": 7041.0, \"45_line\": 2337.0}, {\"index\": 9586, \"location\": \"South Korea\", \"date\": \"2020-02-29T00:00:00\", \"total_cases\": 3150.0, \"total_infected\": 7314.0, \"n_days\": 17, \"cases\": 3150.0, \"infected\": 7314.0, \"45_line\": 3150.0}, {\"index\": 9587, \"location\": \"South Korea\", \"date\": \"2020-03-01T00:00:00\", \"total_cases\": 3736.0, \"total_infected\": 7478.0, \"n_days\": 18, \"cases\": 3736.0, \"infected\": 7478.0, \"45_line\": 3736.0}, {\"index\": 9588, \"location\": \"South Korea\", \"date\": \"2020-03-02T00:00:00\", \"total_cases\": 4335.0, \"total_infected\": 7513.0, \"n_days\": 19, \"cases\": 4335.0, \"infected\": 7513.0, \"45_line\": 4335.0}, {\"index\": 9589, \"location\": \"South Korea\", \"date\": \"2020-03-03T00:00:00\", \"total_cases\": 5186.0, \"total_infected\": 7755.0, \"n_days\": 20, \"cases\": 5186.0, \"infected\": 7755.0, \"45_line\": 5186.0}, {\"index\": 9590, \"location\": \"South Korea\", \"date\": \"2020-03-04T00:00:00\", \"total_cases\": 5621.0, \"total_infected\": 7869.0, \"n_days\": 21, \"cases\": 5621.0, \"infected\": 7869.0, \"45_line\": 5621.0}, {\"index\": 9591, \"location\": \"South Korea\", \"date\": \"2020-03-05T00:00:00\", \"total_cases\": 6088.0, \"total_infected\": 7978.999999999999, \"n_days\": 22, \"cases\": 6088.0, \"infected\": 7978.999999999999, \"45_line\": 6088.0}, {\"index\": 9592, \"location\": \"South Korea\", \"date\": \"2020-03-06T00:00:00\", \"total_cases\": 6593.0, \"total_infected\": 8085.999999999999, \"n_days\": 23, \"cases\": 6593.0, \"infected\": 8085.999999999999, \"45_line\": 6593.0}, {\"index\": 9593, \"location\": \"South Korea\", \"date\": \"2020-03-07T00:00:00\", \"total_cases\": 7041.0, \"total_infected\": 8161.999999999999, \"n_days\": 24, \"cases\": 7041.0, \"infected\": 8161.999999999999, \"45_line\": 7041.0}, {\"index\": 9594, \"location\": \"South Korea\", \"date\": \"2020-03-08T00:00:00\", \"total_cases\": 7314.0, \"total_infected\": 8236.0, \"n_days\": 25, \"cases\": 7314.0, \"infected\": 8236.0, \"45_line\": 7314.0}, {\"index\": 9595, \"location\": \"South Korea\", \"date\": \"2020-03-09T00:00:00\", \"total_cases\": 7478.0, \"total_infected\": 8320.0, \"n_days\": 26, \"cases\": 7478.0, \"infected\": 8320.0, \"45_line\": 7478.0}, {\"index\": 9596, \"location\": \"South Korea\", \"date\": \"2020-03-10T00:00:00\", \"total_cases\": 7513.0, \"total_infected\": 8413.0, \"n_days\": 27, \"cases\": 7513.0, \"infected\": 8413.0, \"45_line\": 7513.0}, {\"index\": 9597, \"location\": \"South Korea\", \"date\": \"2020-03-11T00:00:00\", \"total_cases\": 7755.0, \"total_infected\": 8565.0, \"n_days\": 28, \"cases\": 7755.0, \"infected\": 8565.0, \"45_line\": 7755.0}, {\"index\": 9598, \"location\": \"South Korea\", \"date\": \"2020-03-12T00:00:00\", \"total_cases\": 7869.0, \"total_infected\": 8652.0, \"n_days\": 29, \"cases\": 7869.0, \"infected\": 8652.0, \"45_line\": 7869.0}, {\"index\": 9599, \"location\": \"South Korea\", \"date\": \"2020-03-13T00:00:00\", \"total_cases\": 7979.0, \"total_infected\": 8799.0, \"n_days\": 30, \"cases\": 7979.0, \"infected\": 8799.0, \"45_line\": 7979.0}, {\"index\": 9600, \"location\": \"South Korea\", \"date\": \"2020-03-14T00:00:00\", \"total_cases\": 8086.0, \"total_infected\": 8897.0, \"n_days\": 31, \"cases\": 8086.0, \"infected\": 8897.0, \"45_line\": 8086.0}, {\"index\": 9601, \"location\": \"South Korea\", \"date\": \"2020-03-15T00:00:00\", \"total_cases\": 8162.0, \"total_infected\": 8897.0, \"n_days\": 32, \"cases\": 8162.0, \"infected\": 8897.0, \"45_line\": 8162.0}, {\"index\": 9602, \"location\": \"South Korea\", \"date\": \"2020-03-16T00:00:00\", \"total_cases\": 8236.0, \"total_infected\": 10133.982862570529, \"n_days\": 33, \"cases\": 8236.0, \"infected\": 10133.982862570529, \"45_line\": 8236.0}, {\"index\": 9603, \"location\": \"South Korea\", \"date\": \"2020-03-17T00:00:00\", \"total_cases\": 8320.0, \"total_infected\": 11542.948034042167, \"n_days\": 34, \"cases\": 8320.0, \"infected\": 11542.948034042167, \"45_line\": 8320.0}, {\"index\": 9604, \"location\": \"South Korea\", \"date\": \"2020-03-18T00:00:00\", \"total_cases\": 8413.0, \"total_infected\": 13147.806851806845, \"n_days\": 35, \"cases\": 8413.0, \"infected\": 13147.806851806845, \"45_line\": 8413.0}, {\"index\": 9605, \"location\": \"South Korea\", \"date\": \"2020-03-19T00:00:00\", \"total_cases\": 8565.0, \"total_infected\": 14975.795135056529, \"n_days\": 36, \"cases\": 8565.0, \"infected\": 14975.795135056529, \"45_line\": 8565.0}, {\"index\": 9606, \"location\": \"South Korea\", \"date\": \"2020-03-20T00:00:00\", \"total_cases\": 8652.0, \"total_infected\": 17057.935399801052, \"n_days\": 37, \"cases\": 8652.0, \"infected\": 17057.935399801052, \"45_line\": 8652.0}, {\"index\": 9607, \"location\": \"South Korea\", \"date\": \"2020-03-21T00:00:00\", \"total_cases\": 8799.0, \"total_infected\": 19429.563337351807, \"n_days\": 38, \"cases\": 8799.0, \"infected\": 19429.563337351807, \"45_line\": 8799.0}, {\"index\": 9608, \"location\": \"South Korea\", \"date\": \"2020-03-22T00:00:00\", \"total_cases\": 8897.0, \"total_infected\": 22130.927491058992, \"n_days\": 39, \"cases\": 8897.0, \"infected\": 22130.927491058992, \"45_line\": 8897.0}, {\"index\": 9609, \"location\": \"South Korea\", \"date\": \"2020-03-23T00:00:00\", \"total_cases\": 8897.0, \"total_infected\": 25207.872308326718, \"n_days\": 40, \"cases\": 8897.0, \"infected\": 25207.872308326718, \"45_line\": 8897.0}, {\"index\": 5470, \"location\": \"Japan\", \"date\": \"2020-02-05T00:00:00\", \"total_cases\": 22.0, \"total_infected\": 28.0, \"n_days\": 0, \"cases\": 22.0, \"infected\": 28.0, \"45_line\": 22.0}, {\"index\": 5471, \"location\": \"Japan\", \"date\": \"2020-02-06T00:00:00\", \"total_cases\": 45.0, \"total_infected\": 29.0, \"n_days\": 1, \"cases\": 45.0, \"infected\": 29.0, \"45_line\": 45.0}, {\"index\": 5472, \"location\": \"Japan\", \"date\": \"2020-02-07T00:00:00\", \"total_cases\": 25.0, \"total_infected\": 43.0, \"n_days\": 2, \"cases\": 25.0, \"infected\": 43.0, \"45_line\": 25.0}, {\"index\": 5473, \"location\": \"Japan\", \"date\": \"2020-02-08T00:00:00\", \"total_cases\": 25.0, \"total_infected\": 59.0, \"n_days\": 3, \"cases\": 25.0, \"infected\": 59.0, \"45_line\": 25.0}, {\"index\": 5474, \"location\": \"Japan\", \"date\": \"2020-02-09T00:00:00\", \"total_cases\": 26.0, \"total_infected\": 66.0, \"n_days\": 4, \"cases\": 26.0, \"infected\": 66.0, \"45_line\": 26.0}, {\"index\": 5475, \"location\": \"Japan\", \"date\": \"2020-02-10T00:00:00\", \"total_cases\": 26.0, \"total_infected\": 74.0, \"n_days\": 5, \"cases\": 26.0, \"infected\": 74.0, \"45_line\": 26.0}, {\"index\": 5476, \"location\": \"Japan\", \"date\": \"2020-02-11T00:00:00\", \"total_cases\": 26.0, \"total_infected\": 84.0, \"n_days\": 6, \"cases\": 26.0, \"infected\": 84.0, \"45_line\": 26.0}, {\"index\": 5477, \"location\": \"Japan\", \"date\": \"2020-02-12T00:00:00\", \"total_cases\": 28.0, \"total_infected\": 94.0, \"n_days\": 7, \"cases\": 28.0, \"infected\": 94.0, \"45_line\": 28.0}, {\"index\": 5478, \"location\": \"Japan\", \"date\": \"2020-02-13T00:00:00\", \"total_cases\": 28.0, \"total_infected\": 104.99999999999999, \"n_days\": 8, \"cases\": 28.0, \"infected\": 104.99999999999999, \"45_line\": 28.0}, {\"index\": 5479, \"location\": \"Japan\", \"date\": \"2020-02-14T00:00:00\", \"total_cases\": 29.0, \"total_infected\": 122.0, \"n_days\": 9, \"cases\": 29.0, \"infected\": 122.0, \"45_line\": 29.0}, {\"index\": 5480, \"location\": \"Japan\", \"date\": \"2020-02-15T00:00:00\", \"total_cases\": 43.0, \"total_infected\": 147.0, \"n_days\": 10, \"cases\": 43.0, \"infected\": 147.0, \"45_line\": 43.0}, {\"index\": 5481, \"location\": \"Japan\", \"date\": \"2020-02-16T00:00:00\", \"total_cases\": 59.0, \"total_infected\": 159.0, \"n_days\": 11, \"cases\": 59.0, \"infected\": 159.0, \"45_line\": 59.0}, {\"index\": 5482, \"location\": \"Japan\", \"date\": \"2020-02-17T00:00:00\", \"total_cases\": 66.0, \"total_infected\": 170.0, \"n_days\": 12, \"cases\": 66.0, \"infected\": 170.0, \"45_line\": 66.0}, {\"index\": 5483, \"location\": \"Japan\", \"date\": \"2020-02-18T00:00:00\", \"total_cases\": 74.0, \"total_infected\": 189.0, \"n_days\": 13, \"cases\": 74.0, \"infected\": 189.0, \"45_line\": 74.0}, {\"index\": 5484, \"location\": \"Japan\", \"date\": \"2020-02-19T00:00:00\", \"total_cases\": 84.0, \"total_infected\": 214.00000000000003, \"n_days\": 14, \"cases\": 84.0, \"infected\": 214.00000000000003, \"45_line\": 84.0}, {\"index\": 5485, \"location\": \"Japan\", \"date\": \"2020-02-20T00:00:00\", \"total_cases\": 94.0, \"total_infected\": 228.0, \"n_days\": 15, \"cases\": 94.0, \"infected\": 228.0, \"45_line\": 94.0}, {\"index\": 5486, \"location\": \"Japan\", \"date\": \"2020-02-21T00:00:00\", \"total_cases\": 105.0, \"total_infected\": 241.0, \"n_days\": 16, \"cases\": 105.0, \"infected\": 241.0, \"45_line\": 105.0}, {\"index\": 5487, \"location\": \"Japan\", \"date\": \"2020-02-22T00:00:00\", \"total_cases\": 122.0, \"total_infected\": 256.0, \"n_days\": 17, \"cases\": 122.0, \"infected\": 256.0, \"45_line\": 122.0}, {\"index\": 5488, \"location\": \"Japan\", \"date\": \"2020-02-23T00:00:00\", \"total_cases\": 147.0, \"total_infected\": 274.0, \"n_days\": 18, \"cases\": 147.0, \"infected\": 274.0, \"45_line\": 147.0}, {\"index\": 5489, \"location\": \"Japan\", \"date\": \"2020-02-24T00:00:00\", \"total_cases\": 159.0, \"total_infected\": 293.0, \"n_days\": 19, \"cases\": 159.0, \"infected\": 293.0, \"45_line\": 159.0}, {\"index\": 5490, \"location\": \"Japan\", \"date\": \"2020-02-25T00:00:00\", \"total_cases\": 170.0, \"total_infected\": 330.99999999999994, \"n_days\": 20, \"cases\": 170.0, \"infected\": 330.99999999999994, \"45_line\": 170.0}, {\"index\": 5491, \"location\": \"Japan\", \"date\": \"2020-02-26T00:00:00\", \"total_cases\": 189.0, \"total_infected\": 360.0, \"n_days\": 21, \"cases\": 189.0, \"infected\": 360.0, \"45_line\": 189.0}, {\"index\": 5492, \"location\": \"Japan\", \"date\": \"2020-02-27T00:00:00\", \"total_cases\": 214.0, \"total_infected\": 420.0, \"n_days\": 22, \"cases\": 214.0, \"infected\": 420.0, \"45_line\": 214.0}, {\"index\": 5493, \"location\": \"Japan\", \"date\": \"2020-02-28T00:00:00\", \"total_cases\": 228.0, \"total_infected\": 461.0, \"n_days\": 23, \"cases\": 228.0, \"infected\": 461.0, \"45_line\": 228.0}, {\"index\": 5494, \"location\": \"Japan\", \"date\": \"2020-02-29T00:00:00\", \"total_cases\": 241.0, \"total_infected\": 502.0, \"n_days\": 24, \"cases\": 241.0, \"infected\": 502.0, \"45_line\": 241.0}, {\"index\": 5495, \"location\": \"Japan\", \"date\": \"2020-03-01T00:00:00\", \"total_cases\": 256.0, \"total_infected\": 511.0, \"n_days\": 25, \"cases\": 256.0, \"infected\": 511.0, \"45_line\": 256.0}, {\"index\": 5496, \"location\": \"Japan\", \"date\": \"2020-03-02T00:00:00\", \"total_cases\": 274.0, \"total_infected\": 581.0, \"n_days\": 26, \"cases\": 274.0, \"infected\": 581.0, \"45_line\": 274.0}, {\"index\": 5497, \"location\": \"Japan\", \"date\": \"2020-03-03T00:00:00\", \"total_cases\": 293.0, \"total_infected\": 639.0, \"n_days\": 27, \"cases\": 293.0, \"infected\": 639.0, \"45_line\": 293.0}, {\"index\": 5498, \"location\": \"Japan\", \"date\": \"2020-03-04T00:00:00\", \"total_cases\": 331.0, \"total_infected\": 639.0, \"n_days\": 28, \"cases\": 331.0, \"infected\": 639.0, \"45_line\": 331.0}, {\"index\": 5499, \"location\": \"Japan\", \"date\": \"2020-03-05T00:00:00\", \"total_cases\": 360.0, \"total_infected\": 701.0, \"n_days\": 29, \"cases\": 360.0, \"infected\": 701.0, \"45_line\": 360.0}, {\"index\": 5500, \"location\": \"Japan\", \"date\": \"2020-03-06T00:00:00\", \"total_cases\": 420.0, \"total_infected\": 773.0, \"n_days\": 30, \"cases\": 420.0, \"infected\": 773.0, \"45_line\": 420.0}, {\"index\": 5501, \"location\": \"Japan\", \"date\": \"2020-03-07T00:00:00\", \"total_cases\": 461.0, \"total_infected\": 839.0, \"n_days\": 31, \"cases\": 461.0, \"infected\": 839.0, \"45_line\": 461.0}, {\"index\": 5502, \"location\": \"Japan\", \"date\": \"2020-03-08T00:00:00\", \"total_cases\": 502.0, \"total_infected\": 824.9999999999999, \"n_days\": 32, \"cases\": 502.0, \"infected\": 824.9999999999999, \"45_line\": 502.0}, {\"index\": 5503, \"location\": \"Japan\", \"date\": \"2020-03-09T00:00:00\", \"total_cases\": 511.0, \"total_infected\": 878.0, \"n_days\": 33, \"cases\": 511.0, \"infected\": 878.0, \"45_line\": 511.0}, {\"index\": 5504, \"location\": \"Japan\", \"date\": \"2020-03-10T00:00:00\", \"total_cases\": 581.0, \"total_infected\": 889.0, \"n_days\": 34, \"cases\": 581.0, \"infected\": 889.0, \"45_line\": 581.0}, {\"index\": 5505, \"location\": \"Japan\", \"date\": \"2020-03-11T00:00:00\", \"total_cases\": 639.0, \"total_infected\": 924.0, \"n_days\": 35, \"cases\": 639.0, \"infected\": 924.0, \"45_line\": 639.0}, {\"index\": 5506, \"location\": \"Japan\", \"date\": \"2020-03-12T00:00:00\", \"total_cases\": 639.0, \"total_infected\": 963.0000000000001, \"n_days\": 36, \"cases\": 639.0, \"infected\": 963.0000000000001, \"45_line\": 639.0}, {\"index\": 5507, \"location\": \"Japan\", \"date\": \"2020-03-13T00:00:00\", \"total_cases\": 701.0, \"total_infected\": 1007.0, \"n_days\": 37, \"cases\": 701.0, \"infected\": 1007.0, \"45_line\": 701.0}, {\"index\": 5508, \"location\": \"Japan\", \"date\": \"2020-03-14T00:00:00\", \"total_cases\": 773.0, \"total_infected\": 1086.0, \"n_days\": 38, \"cases\": 773.0, \"infected\": 1086.0, \"45_line\": 773.0}, {\"index\": 5509, \"location\": \"Japan\", \"date\": \"2020-03-15T00:00:00\", \"total_cases\": 839.0, \"total_infected\": 1086.0, \"n_days\": 39, \"cases\": 839.0, \"infected\": 1086.0, \"45_line\": 839.0}, {\"index\": 5510, \"location\": \"Japan\", \"date\": \"2020-03-16T00:00:00\", \"total_cases\": 825.0, \"total_infected\": 1187.8626784996432, \"n_days\": 40, \"cases\": 825.0, \"infected\": 1187.8626784996432, \"45_line\": 825.0}, {\"index\": 5511, \"location\": \"Japan\", \"date\": \"2020-03-17T00:00:00\", \"total_cases\": 878.0, \"total_infected\": 1299.279689661461, \"n_days\": 41, \"cases\": 878.0, \"infected\": 1299.279689661461, \"45_line\": 878.0}, {\"index\": 5512, \"location\": \"Japan\", \"date\": \"2020-03-18T00:00:00\", \"total_cases\": 889.0, \"total_infected\": 1421.147193629326, \"n_days\": 42, \"cases\": 889.0, \"infected\": 1421.147193629326, \"45_line\": 889.0}, {\"index\": 5513, \"location\": \"Japan\", \"date\": \"2020-03-19T00:00:00\", \"total_cases\": 924.0, \"total_infected\": 1554.4454069675712, \"n_days\": 43, \"cases\": 924.0, \"infected\": 1554.4454069675712, \"45_line\": 924.0}, {\"index\": 5514, \"location\": \"Japan\", \"date\": \"2020-03-20T00:00:00\", \"total_cases\": 963.0, \"total_infected\": 1700.2464868342238, \"n_days\": 44, \"cases\": 963.0, \"infected\": 1700.2464868342238, \"45_line\": 963.0}, {\"index\": 5515, \"location\": \"Japan\", \"date\": \"2020-03-21T00:00:00\", \"total_cases\": 1007.0, \"total_infected\": 1859.7231546597693, \"n_days\": 45, \"cases\": 1007.0, \"infected\": 1859.7231546597693, \"45_line\": 1007.0}, {\"index\": 5516, \"location\": \"Japan\", \"date\": \"2020-03-22T00:00:00\", \"total_cases\": 1086.0, \"total_infected\": 2034.158128694254, \"n_days\": 46, \"cases\": 1086.0, \"infected\": 2034.158128694254, \"45_line\": 1086.0}, {\"index\": 5517, \"location\": \"Japan\", \"date\": \"2020-03-23T00:00:00\", \"total_cases\": 1086.0, \"total_infected\": 2224.954441291509, \"n_days\": 47, \"cases\": 1086.0, \"infected\": 2224.954441291509, \"45_line\": 1086.0}, {\"index\": 1349, \"location\": \"Brazil\", \"date\": \"2020-03-09T00:00:00\", \"total_cases\": 25.0, \"total_infected\": 321.0, \"n_days\": 0, \"cases\": 25.0, \"infected\": 321.0, \"45_line\": 25.0}, {\"index\": 1350, \"location\": \"Brazil\", \"date\": \"2020-03-10T00:00:00\", \"total_cases\": 31.0, \"total_infected\": 372.0, \"n_days\": 1, \"cases\": 31.0, \"infected\": 372.0, \"45_line\": 31.0}, {\"index\": 1351, \"location\": \"Brazil\", \"date\": \"2020-03-11T00:00:00\", \"total_cases\": 38.0, \"total_infected\": 621.0, \"n_days\": 2, \"cases\": 38.0, \"infected\": 621.0, \"45_line\": 38.0}, {\"index\": 1352, \"location\": \"Brazil\", \"date\": \"2020-03-12T00:00:00\", \"total_cases\": 52.0, \"total_infected\": 793.0, \"n_days\": 3, \"cases\": 52.0, \"infected\": 793.0, \"45_line\": 52.0}, {\"index\": 1353, \"location\": \"Brazil\", \"date\": \"2020-03-13T00:00:00\", \"total_cases\": 151.0, \"total_infected\": 1021.0, \"n_days\": 4, \"cases\": 151.0, \"infected\": 1021.0, \"45_line\": 151.0}, {\"index\": 1354, \"location\": \"Brazil\", \"date\": \"2020-03-14T00:00:00\", \"total_cases\": 151.0, \"total_infected\": 1593.0, \"n_days\": 5, \"cases\": 151.0, \"infected\": 1593.0, \"45_line\": 151.0}, {\"index\": 1355, \"location\": \"Brazil\", \"date\": \"2020-03-15T00:00:00\", \"total_cases\": 162.0, \"total_infected\": 1593.0, \"n_days\": 6, \"cases\": 162.0, \"infected\": 1593.0, \"45_line\": 162.0}, {\"index\": 1356, \"location\": \"Brazil\", \"date\": \"2020-03-16T00:00:00\", \"total_cases\": 200.0, \"total_infected\": 2018.3132610900989, \"n_days\": 7, \"cases\": 200.0, \"infected\": 2018.3132610900989, \"45_line\": 200.0}, {\"index\": 1357, \"location\": \"Brazil\", \"date\": \"2020-03-17T00:00:00\", \"total_cases\": 321.0, \"total_infected\": 2557.1804267998427, \"n_days\": 8, \"cases\": 321.0, \"infected\": 2557.1804267998427, \"45_line\": 321.0}, {\"index\": 1358, \"location\": \"Brazil\", \"date\": \"2020-03-18T00:00:00\", \"total_cases\": 372.0, \"total_infected\": 3239.919125179009, \"n_days\": 9, \"cases\": 372.0, \"infected\": 3239.919125179009, \"45_line\": 372.0}, {\"index\": 1359, \"location\": \"Brazil\", \"date\": \"2020-03-19T00:00:00\", \"total_cases\": 621.0, \"total_infected\": 4104.941453363607, \"n_days\": 10, \"cases\": 621.0, \"infected\": 4104.941453363607, \"45_line\": 621.0}, {\"index\": 1360, \"location\": \"Brazil\", \"date\": \"2020-03-20T00:00:00\", \"total_cases\": 793.0, \"total_infected\": 5200.915110685645, \"n_days\": 11, \"cases\": 793.0, \"infected\": 5200.915110685645, \"45_line\": 793.0}, {\"index\": 1361, \"location\": \"Brazil\", \"date\": \"2020-03-21T00:00:00\", \"total_cases\": 1021.0, \"total_infected\": 6589.501530257826, \"n_days\": 12, \"cases\": 1021.0, \"infected\": 6589.501530257826, \"45_line\": 1021.0}, {\"index\": 1362, \"location\": \"Brazil\", \"date\": \"2020-03-22T00:00:00\", \"total_cases\": 1593.0, \"total_infected\": 8348.825061200796, \"n_days\": 13, \"cases\": 1593.0, \"infected\": 8348.825061200796, \"45_line\": 1593.0}, {\"index\": 1363, \"location\": \"Brazil\", \"date\": \"2020-03-23T00:00:00\", \"total_cases\": 1593.0, \"total_infected\": 10577.868383893863, \"n_days\": 14, \"cases\": 1593.0, \"infected\": 10577.868383893863, \"45_line\": 1593.0}, {\"index\": 5104, \"location\": \"Iran\", \"date\": \"2020-02-11T00:00:00\", \"total_cases\": 0.0, \"total_infected\": 2.0, \"n_days\": 0, \"cases\": 0.0, \"infected\": 2.0, \"45_line\": 0.0}, {\"index\": 5105, \"location\": \"Iran\", \"date\": \"2020-02-12T00:00:00\", \"total_cases\": 0.0, \"total_infected\": 5.0, \"n_days\": 1, \"cases\": 0.0, \"infected\": 5.0, \"45_line\": 0.0}, {\"index\": 5106, \"location\": \"Iran\", \"date\": \"2020-02-13T00:00:00\", \"total_cases\": 0.0, \"total_infected\": 18.0, \"n_days\": 2, \"cases\": 0.0, \"infected\": 18.0, \"45_line\": 0.0}, {\"index\": 5107, \"location\": \"Iran\", \"date\": \"2020-02-14T00:00:00\", \"total_cases\": 0.0, \"total_infected\": 28.0, \"n_days\": 3, \"cases\": 0.0, \"infected\": 28.0, \"45_line\": 0.0}, {\"index\": 5108, \"location\": \"Iran\", \"date\": \"2020-02-15T00:00:00\", \"total_cases\": 0.0, \"total_infected\": 43.0, \"n_days\": 4, \"cases\": 0.0, \"infected\": 43.0, \"45_line\": 0.0}, {\"index\": 5109, \"location\": \"Iran\", \"date\": \"2020-02-16T00:00:00\", \"total_cases\": 0.0, \"total_infected\": 61.0, \"n_days\": 5, \"cases\": 0.0, \"infected\": 61.0, \"45_line\": 0.0}, {\"index\": 5110, \"location\": \"Iran\", \"date\": \"2020-02-17T00:00:00\", \"total_cases\": 0.0, \"total_infected\": 95.0, \"n_days\": 6, \"cases\": 0.0, \"infected\": 95.0, \"45_line\": 0.0}, {\"index\": 5111, \"location\": \"Iran\", \"date\": \"2020-02-18T00:00:00\", \"total_cases\": 0.0, \"total_infected\": 139.0, \"n_days\": 7, \"cases\": 0.0, \"infected\": 139.0, \"45_line\": 0.0}, {\"index\": 5112, \"location\": \"Iran\", \"date\": \"2020-02-19T00:00:00\", \"total_cases\": 2.0, \"total_infected\": 245.0, \"n_days\": 8, \"cases\": 2.0, \"infected\": 245.0, \"45_line\": 2.0}, {\"index\": 5113, \"location\": \"Iran\", \"date\": \"2020-02-20T00:00:00\", \"total_cases\": 5.0, \"total_infected\": 388.0, \"n_days\": 9, \"cases\": 5.0, \"infected\": 388.0, \"45_line\": 5.0}, {\"index\": 5114, \"location\": \"Iran\", \"date\": \"2020-02-21T00:00:00\", \"total_cases\": 18.0, \"total_infected\": 593.0, \"n_days\": 10, \"cases\": 18.0, \"infected\": 593.0, \"45_line\": 18.0}, {\"index\": 5115, \"location\": \"Iran\", \"date\": \"2020-02-22T00:00:00\", \"total_cases\": 28.0, \"total_infected\": 978.0, \"n_days\": 11, \"cases\": 28.0, \"infected\": 978.0, \"45_line\": 28.0}, {\"index\": 5116, \"location\": \"Iran\", \"date\": \"2020-02-23T00:00:00\", \"total_cases\": 43.0, \"total_infected\": 1501.0, \"n_days\": 12, \"cases\": 43.0, \"infected\": 1501.0, \"45_line\": 43.0}, {\"index\": 5117, \"location\": \"Iran\", \"date\": \"2020-02-24T00:00:00\", \"total_cases\": 61.0, \"total_infected\": 2336.0, \"n_days\": 13, \"cases\": 61.0, \"infected\": 2336.0, \"45_line\": 61.0}, {\"index\": 5118, \"location\": \"Iran\", \"date\": \"2020-02-25T00:00:00\", \"total_cases\": 95.0, \"total_infected\": 2922.0000000000005, \"n_days\": 14, \"cases\": 95.0, \"infected\": 2922.0000000000005, \"45_line\": 95.0}, {\"index\": 5119, \"location\": \"Iran\", \"date\": \"2020-02-26T00:00:00\", \"total_cases\": 139.0, \"total_infected\": 3513.0, \"n_days\": 15, \"cases\": 139.0, \"infected\": 3513.0, \"45_line\": 139.0}, {\"index\": 5120, \"location\": \"Iran\", \"date\": \"2020-02-27T00:00:00\", \"total_cases\": 245.0, \"total_infected\": 4747.0, \"n_days\": 16, \"cases\": 245.0, \"infected\": 4747.0, \"45_line\": 245.0}, {\"index\": 5121, \"location\": \"Iran\", \"date\": \"2020-02-28T00:00:00\", \"total_cases\": 388.0, \"total_infected\": 5823.0, \"n_days\": 17, \"cases\": 388.0, \"infected\": 5823.0, \"45_line\": 388.0}, {\"index\": 5122, \"location\": \"Iran\", \"date\": \"2020-02-29T00:00:00\", \"total_cases\": 593.0, \"total_infected\": 6566.0, \"n_days\": 18, \"cases\": 593.0, \"infected\": 6566.0, \"45_line\": 593.0}, {\"index\": 5123, \"location\": \"Iran\", \"date\": \"2020-03-01T00:00:00\", \"total_cases\": 978.0, \"total_infected\": 7161.000000000001, \"n_days\": 19, \"cases\": 978.0, \"infected\": 7161.000000000001, \"45_line\": 978.0}, {\"index\": 5124, \"location\": \"Iran\", \"date\": \"2020-03-02T00:00:00\", \"total_cases\": 1501.0, \"total_infected\": 8042.000000000001, \"n_days\": 20, \"cases\": 1501.0, \"infected\": 8042.000000000001, \"45_line\": 1501.0}, {\"index\": 5125, \"location\": \"Iran\", \"date\": \"2020-03-03T00:00:00\", \"total_cases\": 2336.0, \"total_infected\": 9000.0, \"n_days\": 21, \"cases\": 2336.0, \"infected\": 9000.0, \"45_line\": 2336.0}, {\"index\": 5126, \"location\": \"Iran\", \"date\": \"2020-03-04T00:00:00\", \"total_cases\": 2922.0, \"total_infected\": 10075.0, \"n_days\": 22, \"cases\": 2922.0, \"infected\": 10075.0, \"45_line\": 2922.0}, {\"index\": 5127, \"location\": \"Iran\", \"date\": \"2020-03-05T00:00:00\", \"total_cases\": 3513.0, \"total_infected\": 11364.0, \"n_days\": 23, \"cases\": 3513.0, \"infected\": 11364.0, \"45_line\": 3513.0}, {\"index\": 5128, \"location\": \"Iran\", \"date\": \"2020-03-06T00:00:00\", \"total_cases\": 4747.0, \"total_infected\": 12729.0, \"n_days\": 24, \"cases\": 4747.0, \"infected\": 12729.0, \"45_line\": 4747.0}, {\"index\": 5129, \"location\": \"Iran\", \"date\": \"2020-03-07T00:00:00\", \"total_cases\": 5823.0, \"total_infected\": 13938.0, \"n_days\": 25, \"cases\": 5823.0, \"infected\": 13938.0, \"45_line\": 5823.0}, {\"index\": 5130, \"location\": \"Iran\", \"date\": \"2020-03-08T00:00:00\", \"total_cases\": 6566.0, \"total_infected\": 14991.0, \"n_days\": 26, \"cases\": 6566.0, \"infected\": 14991.0, \"45_line\": 6566.0}, {\"index\": 5131, \"location\": \"Iran\", \"date\": \"2020-03-09T00:00:00\", \"total_cases\": 7161.0, \"total_infected\": 16169.0, \"n_days\": 27, \"cases\": 7161.0, \"infected\": 16169.0, \"45_line\": 7161.0}, {\"index\": 5132, \"location\": \"Iran\", \"date\": \"2020-03-10T00:00:00\", \"total_cases\": 8042.0, \"total_infected\": 17361.0, \"n_days\": 28, \"cases\": 8042.0, \"infected\": 17361.0, \"45_line\": 8042.0}, {\"index\": 5133, \"location\": \"Iran\", \"date\": \"2020-03-11T00:00:00\", \"total_cases\": 9000.0, \"total_infected\": 18407.0, \"n_days\": 29, \"cases\": 9000.0, \"infected\": 18407.0, \"45_line\": 9000.0}, {\"index\": 5134, \"location\": \"Iran\", \"date\": \"2020-03-12T00:00:00\", \"total_cases\": 10075.0, \"total_infected\": 19644.0, \"n_days\": 30, \"cases\": 10075.0, \"infected\": 19644.0, \"45_line\": 10075.0}, {\"index\": 5135, \"location\": \"Iran\", \"date\": \"2020-03-13T00:00:00\", \"total_cases\": 11364.0, \"total_infected\": 20610.0, \"n_days\": 31, \"cases\": 11364.0, \"infected\": 20610.0, \"45_line\": 11364.0}, {\"index\": 5136, \"location\": \"Iran\", \"date\": \"2020-03-14T00:00:00\", \"total_cases\": 12729.0, \"total_infected\": 21638.0, \"n_days\": 32, \"cases\": 12729.0, \"infected\": 21638.0, \"45_line\": 12729.0}, {\"index\": 5137, \"location\": \"Iran\", \"date\": \"2020-03-15T00:00:00\", \"total_cases\": 13938.0, \"total_infected\": 21638.0, \"n_days\": 33, \"cases\": 13938.0, \"infected\": 21638.0, \"45_line\": 13938.0}, {\"index\": 5138, \"location\": \"Iran\", \"date\": \"2020-03-16T00:00:00\", \"total_cases\": 14991.0, \"total_infected\": 27728.80792070502, \"n_days\": 34, \"cases\": 14991.0, \"infected\": 27728.80792070502, \"45_line\": 14991.0}, {\"index\": 5139, \"location\": \"Iran\", \"date\": \"2020-03-17T00:00:00\", \"total_cases\": 16169.0, \"total_infected\": 35534.09689912901, \"n_days\": 35, \"cases\": 16169.0, \"infected\": 35534.09689912901, \"45_line\": 16169.0}, {\"index\": 5140, \"location\": \"Iran\", \"date\": \"2020-03-18T00:00:00\", \"total_cases\": 17361.0, \"total_infected\": 45536.47044790036, \"n_days\": 36, \"cases\": 17361.0, \"infected\": 45536.47044790036, \"45_line\": 17361.0}, {\"index\": 5141, \"location\": \"Iran\", \"date\": \"2020-03-19T00:00:00\", \"total_cases\": 18407.0, \"total_infected\": 58354.378520967264, \"n_days\": 37, \"cases\": 18407.0, \"infected\": 58354.378520967264, \"45_line\": 18407.0}, {\"index\": 5142, \"location\": \"Iran\", \"date\": \"2020-03-20T00:00:00\", \"total_cases\": 19644.0, \"total_infected\": 74780.35647194824, \"n_days\": 38, \"cases\": 19644.0, \"infected\": 74780.35647194824, \"45_line\": 19644.0}, {\"index\": 5143, \"location\": \"Iran\", \"date\": \"2020-03-21T00:00:00\", \"total_cases\": 20610.0, \"total_infected\": 95830.02776839372, \"n_days\": 39, \"cases\": 20610.0, \"infected\": 95830.02776839372, \"45_line\": 20610.0}, {\"index\": 5144, \"location\": \"Iran\", \"date\": \"2020-03-22T00:00:00\", \"total_cases\": 21638.0, \"total_infected\": 122804.90031544588, \"n_days\": 40, \"cases\": 21638.0, \"infected\": 122804.90031544588, \"45_line\": 21638.0}, {\"index\": 5145, \"location\": \"Iran\", \"date\": \"2020-03-23T00:00:00\", \"total_cases\": 21638.0, \"total_infected\": 157372.83910566254, \"n_days\": 41, \"cases\": 21638.0, \"infected\": 157372.83910566254, \"45_line\": 21638.0}]}}, {\"mode\": \"vega-lite\"});\n",
       "</script>"
      ],
      "text/plain": [
       "alt.LayerChart(...)"
      ]
     },
     "execution_count": 6,
     "metadata": {},
     "output_type": "execute_result"
    }
   ],
   "source": [
    "#hide_input\n",
    "# Plot it using Altair\n",
    "data_pc = data_final[['location', 'date', 'total_cases', 'total_infected']].copy()\n",
    "\n",
    "countries = [\"Italy\", \"Spain\", \"France\", \"United Kingdom\", \"Germany\", \n",
    "             \"Portugal\", \"United States\", \"Singapore\",\"South Korea\", \"Japan\", \n",
    "             \"Brazil\",\"Iran\"]\n",
    "data_countries = []\n",
    "data_countries_pc = []\n",
    "\n",
    "for i in countries:\n",
    "    data_pc.loc[data_pc.location == i,\"total_infected\"] = data_pc.loc[data_pc.location == i,\"total_infected\"]\n",
    "    data_pc.loc[data_pc.location == i,\"total_cases\"] = data_pc.loc[data_pc.location == i,\"total_cases\"]\n",
    "    # get each country time series\n",
    "filter1 = data_pc[\"total_infected\"] > 1\n",
    "for i in countries:\n",
    "    filter_country = data_pc[\"location\"]== i\n",
    "    data_countries_pc.append(data_pc[filter_country & filter1])\n",
    "\n",
    "\n",
    "plot(data_countries_pc, \"scatter\", True)"
   ]
  },
  {
   "cell_type": "markdown",
   "metadata": {
    "papermill": {
     "duration": 0.016842,
     "end_time": "2020-03-24T06:30:07.707678",
     "exception": false,
     "start_time": "2020-03-24T06:30:07.690836",
     "status": "completed"
    },
    "tags": []
   },
   "source": [
    "Latest Observed vs. Estimate of Infected Cases"
   ]
  },
  {
   "cell_type": "code",
   "execution_count": 7,
   "metadata": {
    "papermill": {
     "duration": 0.046825,
     "end_time": "2020-03-24T06:30:07.769011",
     "exception": false,
     "start_time": "2020-03-24T06:30:07.722186",
     "status": "completed"
    },
    "tags": []
   },
   "outputs": [
    {
     "data": {
      "text/html": [
       "<div>\n",
       "<style scoped>\n",
       "    .dataframe tbody tr th:only-of-type {\n",
       "        vertical-align: middle;\n",
       "    }\n",
       "\n",
       "    .dataframe tbody tr th {\n",
       "        vertical-align: top;\n",
       "    }\n",
       "\n",
       "    .dataframe thead th {\n",
       "        text-align: right;\n",
       "    }\n",
       "</style>\n",
       "<table border=\"1\" class=\"dataframe\">\n",
       "  <thead>\n",
       "    <tr style=\"text-align: right;\">\n",
       "      <th></th>\n",
       "      <th>Date</th>\n",
       "      <th>Observed Cases</th>\n",
       "      <th>Estimate of Infected</th>\n",
       "    </tr>\n",
       "    <tr>\n",
       "      <th>Country</th>\n",
       "      <th></th>\n",
       "      <th></th>\n",
       "      <th></th>\n",
       "    </tr>\n",
       "  </thead>\n",
       "  <tbody>\n",
       "    <tr>\n",
       "      <th>Brazil</th>\n",
       "      <td>2020-03-23</td>\n",
       "      <td>1,593</td>\n",
       "      <td>10,578</td>\n",
       "    </tr>\n",
       "    <tr>\n",
       "      <th>France</th>\n",
       "      <td>2020-03-23</td>\n",
       "      <td>16,044</td>\n",
       "      <td>66,517</td>\n",
       "    </tr>\n",
       "    <tr>\n",
       "      <th>Germany</th>\n",
       "      <td>2020-03-23</td>\n",
       "      <td>24,873</td>\n",
       "      <td>120,459</td>\n",
       "    </tr>\n",
       "    <tr>\n",
       "      <th>Iran</th>\n",
       "      <td>2020-03-23</td>\n",
       "      <td>21,638</td>\n",
       "      <td>157,373</td>\n",
       "    </tr>\n",
       "    <tr>\n",
       "      <th>Italy</th>\n",
       "      <td>2020-03-23</td>\n",
       "      <td>59,138</td>\n",
       "      <td>370,483</td>\n",
       "    </tr>\n",
       "    <tr>\n",
       "      <th>Japan</th>\n",
       "      <td>2020-03-23</td>\n",
       "      <td>1,086</td>\n",
       "      <td>2,225</td>\n",
       "    </tr>\n",
       "    <tr>\n",
       "      <th>Portugal</th>\n",
       "      <td>2020-03-23</td>\n",
       "      <td>1,600</td>\n",
       "      <td>7,458</td>\n",
       "    </tr>\n",
       "    <tr>\n",
       "      <th>Singapore</th>\n",
       "      <td>2020-03-23</td>\n",
       "      <td>455</td>\n",
       "      <td>558</td>\n",
       "    </tr>\n",
       "    <tr>\n",
       "      <th>South Korea</th>\n",
       "      <td>2020-03-23</td>\n",
       "      <td>8,897</td>\n",
       "      <td>25,208</td>\n",
       "    </tr>\n",
       "    <tr>\n",
       "      <th>Spain</th>\n",
       "      <td>2020-03-23</td>\n",
       "      <td>28,768</td>\n",
       "      <td>180,511</td>\n",
       "    </tr>\n",
       "    <tr>\n",
       "      <th>United Kingdom</th>\n",
       "      <td>2020-03-23</td>\n",
       "      <td>5,741</td>\n",
       "      <td>27,583</td>\n",
       "    </tr>\n",
       "    <tr>\n",
       "      <th>United States</th>\n",
       "      <td>2020-03-23</td>\n",
       "      <td>33,276</td>\n",
       "      <td>224,155</td>\n",
       "    </tr>\n",
       "  </tbody>\n",
       "</table>\n",
       "</div>"
      ],
      "text/plain": [
       "                     Date Observed Cases Estimate of Infected\n",
       "Country                                                      \n",
       "Brazil         2020-03-23          1,593               10,578\n",
       "France         2020-03-23         16,044               66,517\n",
       "Germany        2020-03-23         24,873              120,459\n",
       "Iran           2020-03-23         21,638              157,373\n",
       "Italy          2020-03-23         59,138              370,483\n",
       "Japan          2020-03-23          1,086                2,225\n",
       "Portugal       2020-03-23          1,600                7,458\n",
       "Singapore      2020-03-23            455                  558\n",
       "South Korea    2020-03-23          8,897               25,208\n",
       "Spain          2020-03-23         28,768              180,511\n",
       "United Kingdom 2020-03-23          5,741               27,583\n",
       "United States  2020-03-23         33,276              224,155"
      ]
     },
     "execution_count": 7,
     "metadata": {},
     "output_type": "execute_result"
    }
   ],
   "source": [
    "#hide_input\n",
    "label1 = 'Observed Cases'\n",
    "label2 = 'Estimate of Infected'\n",
    "temp = pd.concat([x.copy() for x in data_countries_pc]).loc[lambda x: x.date >= '3/1/2020']\n",
    "\n",
    "metric_name1 = f'{label1}'\n",
    "metric_name2 = f'{label2}'\n",
    "temp.columns = ['Country', 'Date', metric_name1, metric_name2]\n",
    "# temp.loc[:, 'month'] = temp.date.dt.strftime('%Y-%m')\n",
    "temp.loc[:, \"Observed Cases\"] = temp.loc[:, \"Observed Cases\"].round(0).map('{:,.0f}'.format)\n",
    "temp.loc[:, \"Estimate of Infected\"] = temp.loc[:, \"Estimate of Infected\"].round(0).map('{:,.0f}'.format)\n",
    "temp.groupby('Country').last()"
   ]
  },
  {
   "cell_type": "markdown",
   "metadata": {
    "papermill": {
     "duration": 0.014704,
     "end_time": "2020-03-24T06:30:07.798664",
     "exception": false,
     "start_time": "2020-03-24T06:30:07.783960",
     "status": "completed"
    },
    "tags": []
   },
   "source": [
    "## Methodology"
   ]
  },
  {
   "cell_type": "markdown",
   "metadata": {
    "papermill": {
     "duration": 0.01462,
     "end_time": "2020-03-24T06:30:07.827940",
     "exception": false,
     "start_time": "2020-03-24T06:30:07.813320",
     "status": "completed"
    },
    "tags": []
   },
   "source": [
    "We argue that the number of infected in the past can be infered using today's number of deaths and average fatality rate from confirmed cases in the following way:\n",
    "\n",
    "{% raw %}\n",
    "$$ I_{t-j} = \\frac{D_t}{{CFR}_t}$$\n",
    "{% endraw %}\n",
    "\n",
    "where {% raw %}$I_t${% endraw %} = number of infected, {% raw %}$D_t${% endraw %} = number of deaths, and {% raw %}${CFR}_t ${% endraw %} = case fatality rate = {% raw %}$\\frac{D}{C}${% endraw %}. The {% raw %}$j${% endraw %} depends on the average number of days that covid patients die after having the first symptoms."
   ]
  },
  {
   "cell_type": "markdown",
   "metadata": {
    "papermill": {
     "duration": 0.014535,
     "end_time": "2020-03-24T06:30:07.857187",
     "exception": false,
     "start_time": "2020-03-24T06:30:07.842652",
     "status": "completed"
    },
    "tags": []
   },
   "source": [
    "**Assumption 1**: The case fatality rate is a good proxy for the fatality rate of the infected population\n"
   ]
  },
  {
   "cell_type": "markdown",
   "metadata": {
    "papermill": {
     "duration": 0.014778,
     "end_time": "2020-03-24T06:30:07.886652",
     "exception": false,
     "start_time": "2020-03-24T06:30:07.871874",
     "status": "completed"
    },
    "tags": []
   },
   "source": [
    "Then, in order to estimate the current number of infected {% raw %}$I_t${% endraw %} we need to estimate its growth rate from {% raw %}$t-j${% endraw %} to {% raw %}$t${% endraw %}.\n",
    "\n",
    "{% raw %}\n",
    "$$I_t = (1+\\hat{g})^j I_{t-j}$$\n",
    "{% endraw %}"
   ]
  },
  {
   "cell_type": "markdown",
   "metadata": {
    "papermill": {
     "duration": 0.01511,
     "end_time": "2020-03-24T06:30:07.916431",
     "exception": false,
     "start_time": "2020-03-24T06:30:07.901321",
     "status": "completed"
    },
    "tags": []
   },
   "source": [
    "**Assumption 2**: The growth rate of infected $\\hat{g}$ is an unbiased estimate of $g$ .\n",
    "\n",
    "For now we estimate $g$ using the average growth rate since having the first infected person."
   ]
  },
  {
   "cell_type": "markdown",
   "metadata": {
    "papermill": {
     "duration": 0.014693,
     "end_time": "2020-03-24T06:30:07.945859",
     "exception": false,
     "start_time": "2020-03-24T06:30:07.931166",
     "status": "completed"
    },
    "tags": []
   },
   "source": [
    "**Assumption 3**: It takes on average 8 days to die after having the first symptoms."
   ]
  },
  {
   "cell_type": "markdown",
   "metadata": {
    "papermill": {
     "duration": 0.014489,
     "end_time": "2020-03-24T06:30:07.975130",
     "exception": false,
     "start_time": "2020-03-24T06:30:07.960641",
     "status": "completed"
    },
    "tags": []
   },
   "source": [
    "This analysis was conducted by [Joao B. Duarte](https://www.jbduarte.com). Relevant sources are listed below: \n",
    "\n",
    "\n",
    "1. [2019 Novel Coronavirus COVID-19 (2019-nCoV) Data Repository by Johns Hopkins CSSE](https://systems.jhu.edu/research/public-health/ncov/) [GitHub repository](https://github.com/CSSEGISandData/COVID-19). \n",
    "\n",
    "2. [Feenstra, Robert C., Robert Inklaar and Marcel P. Timmer (2015), \"The Next Generation of the Penn World Table\" American Economic Review, 105(10), 3150-3182](https://www.rug.nl/ggdc/productivity/pwt/related-research)\n"
   ]
  },
  {
   "cell_type": "code",
   "execution_count": null,
   "metadata": {
    "papermill": {
     "duration": 0.015585,
     "end_time": "2020-03-24T06:30:08.005356",
     "exception": false,
     "start_time": "2020-03-24T06:30:07.989771",
     "status": "completed"
    },
    "tags": []
   },
   "outputs": [],
   "source": []
  }
 ],
 "metadata": {
  "kernelspec": {
   "display_name": "Python 3",
   "language": "python",
   "name": "python3"
  },
  "language_info": {
   "codemirror_mode": {
    "name": "ipython",
    "version": 3
   },
   "file_extension": ".py",
   "mimetype": "text/x-python",
   "name": "python",
   "nbconvert_exporter": "python",
   "pygments_lexer": "ipython3",
   "version": "3.6.9"
  },
  "papermill": {
   "duration": 9.945485,
   "end_time": "2020-03-24T06:30:08.024982",
   "environment_variables": {},
   "exception": null,
   "input_path": "2020-03-19-estimating_infected.ipynb",
   "output_path": "2020-03-19-estimating_infected.ipynb",
   "parameters": {},
   "start_time": "2020-03-24T06:29:58.079497",
   "version": "2.0.0"
  },
  "toc": {
   "base_numbering": 1,
   "nav_menu": {},
   "number_sections": true,
   "sideBar": true,
   "skip_h1_title": false,
   "title_cell": "Table of Contents",
   "title_sidebar": "Contents",
   "toc_cell": false,
   "toc_position": {},
   "toc_section_display": true,
   "toc_window_display": false
  },
  "varInspector": {
   "cols": {
    "lenName": 16,
    "lenType": 16,
    "lenVar": 40
   },
   "kernels_config": {
    "python": {
     "delete_cmd_postfix": "",
     "delete_cmd_prefix": "del ",
     "library": "var_list.py",
     "varRefreshCmd": "print(var_dic_list())"
    },
    "r": {
     "delete_cmd_postfix": ") ",
     "delete_cmd_prefix": "rm(",
     "library": "var_list.r",
     "varRefreshCmd": "cat(var_dic_list()) "
    }
   },
   "types_to_exclude": [
    "module",
    "function",
    "builtin_function_or_method",
    "instance",
    "_Feature"
   ],
   "window_display": false
  }
 },
 "nbformat": 4,
 "nbformat_minor": 2
}
